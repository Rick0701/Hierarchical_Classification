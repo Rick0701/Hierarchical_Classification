{
 "cells": [
  {
   "cell_type": "markdown",
   "id": "5a959262",
   "metadata": {},
   "source": [
    "# Data Visualizations"
   ]
  },
  {
   "cell_type": "code",
   "execution_count": 1,
   "id": "55b8cbe7",
   "metadata": {},
   "outputs": [],
   "source": [
    "import pandas as pd\n",
    "import plotly.graph_objects as go\n",
    "import pandas as pd"
   ]
  },
  {
   "cell_type": "code",
   "execution_count": null,
   "id": "54c7e106",
   "metadata": {},
   "outputs": [],
   "source": []
  },
  {
   "cell_type": "code",
   "execution_count": 2,
   "id": "2e1bc760",
   "metadata": {},
   "outputs": [],
   "source": [
    "df = pd.read_csv(\"data/train_features.csv\")"
   ]
  },
  {
   "cell_type": "code",
   "execution_count": 3,
   "id": "6534ed05",
   "metadata": {},
   "outputs": [
    {
     "data": {
      "application/vnd.plotly.v1+json": {
       "config": {
        "plotlyServerURL": "https://plot.ly"
       },
       "data": [
        {
         "link": {
          "source": [
           0,
           0,
           0,
           0,
           0,
           0,
           0,
           0,
           0,
           0,
           1,
           1,
           1,
           1,
           1,
           1,
           2,
           2,
           2,
           2
          ],
          "target": [
           3,
           4,
           5,
           6,
           7,
           8,
           9,
           10,
           11,
           12,
           13,
           14,
           15,
           16,
           17,
           18,
           19,
           20,
           21,
           22
          ],
          "value": [
           1,
           1,
           1,
           1,
           1,
           1,
           1,
           1,
           1,
           1,
           1,
           1,
           1,
           1,
           1,
           1,
           1,
           1,
           1,
           1
          ]
         },
         "node": {
          "color": "lightblue",
          "label": [
           "GENERAL PROCUREMENT",
           "SUPPLY CHAIN",
           "TECHNICAL PROCUREMENT",
           "MARKETING SERVICES",
           "SALES SERVICES",
           "WORKPLACE SERVICES",
           "IT - INFORMATION TECHNOLOGY",
           "MOBILITY",
           "PEOPLE SERVICES",
           "PROFESSIONAL SERVICES",
           "SURPRISE L2",
           "ENERGY AND UTILITIES FOR OFFICES",
           "OTHER NON GP",
           "PRIMARY TRANSPORTS",
           "SECONDARY FREIGHT",
           "WAREHOUSING",
           "CUSTOM BROKERAGE & FORWARDING AGENCIES",
           "PALLETTS RENT & LEASE",
           "PALLETTS PURCHASING",
           "AUTOMATION & MRO",
           "INFRASTRUCTURE & INDUSTRIAL",
           "PROCESS EQUIPMENT",
           "ENERGY"
          ],
          "line": {
           "color": "black",
           "width": 0.5
          },
          "pad": 15,
          "thickness": 20
         },
         "type": "sankey"
        }
       ],
       "layout": {
        "font": {
         "size": 10
        },
        "template": {
         "data": {
          "bar": [
           {
            "error_x": {
             "color": "#2a3f5f"
            },
            "error_y": {
             "color": "#2a3f5f"
            },
            "marker": {
             "line": {
              "color": "#E5ECF6",
              "width": 0.5
             },
             "pattern": {
              "fillmode": "overlay",
              "size": 10,
              "solidity": 0.2
             }
            },
            "type": "bar"
           }
          ],
          "barpolar": [
           {
            "marker": {
             "line": {
              "color": "#E5ECF6",
              "width": 0.5
             },
             "pattern": {
              "fillmode": "overlay",
              "size": 10,
              "solidity": 0.2
             }
            },
            "type": "barpolar"
           }
          ],
          "carpet": [
           {
            "aaxis": {
             "endlinecolor": "#2a3f5f",
             "gridcolor": "white",
             "linecolor": "white",
             "minorgridcolor": "white",
             "startlinecolor": "#2a3f5f"
            },
            "baxis": {
             "endlinecolor": "#2a3f5f",
             "gridcolor": "white",
             "linecolor": "white",
             "minorgridcolor": "white",
             "startlinecolor": "#2a3f5f"
            },
            "type": "carpet"
           }
          ],
          "choropleth": [
           {
            "colorbar": {
             "outlinewidth": 0,
             "ticks": ""
            },
            "type": "choropleth"
           }
          ],
          "contour": [
           {
            "colorbar": {
             "outlinewidth": 0,
             "ticks": ""
            },
            "colorscale": [
             [
              0,
              "#0d0887"
             ],
             [
              0.1111111111111111,
              "#46039f"
             ],
             [
              0.2222222222222222,
              "#7201a8"
             ],
             [
              0.3333333333333333,
              "#9c179e"
             ],
             [
              0.4444444444444444,
              "#bd3786"
             ],
             [
              0.5555555555555556,
              "#d8576b"
             ],
             [
              0.6666666666666666,
              "#ed7953"
             ],
             [
              0.7777777777777778,
              "#fb9f3a"
             ],
             [
              0.8888888888888888,
              "#fdca26"
             ],
             [
              1,
              "#f0f921"
             ]
            ],
            "type": "contour"
           }
          ],
          "contourcarpet": [
           {
            "colorbar": {
             "outlinewidth": 0,
             "ticks": ""
            },
            "type": "contourcarpet"
           }
          ],
          "heatmap": [
           {
            "colorbar": {
             "outlinewidth": 0,
             "ticks": ""
            },
            "colorscale": [
             [
              0,
              "#0d0887"
             ],
             [
              0.1111111111111111,
              "#46039f"
             ],
             [
              0.2222222222222222,
              "#7201a8"
             ],
             [
              0.3333333333333333,
              "#9c179e"
             ],
             [
              0.4444444444444444,
              "#bd3786"
             ],
             [
              0.5555555555555556,
              "#d8576b"
             ],
             [
              0.6666666666666666,
              "#ed7953"
             ],
             [
              0.7777777777777778,
              "#fb9f3a"
             ],
             [
              0.8888888888888888,
              "#fdca26"
             ],
             [
              1,
              "#f0f921"
             ]
            ],
            "type": "heatmap"
           }
          ],
          "heatmapgl": [
           {
            "colorbar": {
             "outlinewidth": 0,
             "ticks": ""
            },
            "colorscale": [
             [
              0,
              "#0d0887"
             ],
             [
              0.1111111111111111,
              "#46039f"
             ],
             [
              0.2222222222222222,
              "#7201a8"
             ],
             [
              0.3333333333333333,
              "#9c179e"
             ],
             [
              0.4444444444444444,
              "#bd3786"
             ],
             [
              0.5555555555555556,
              "#d8576b"
             ],
             [
              0.6666666666666666,
              "#ed7953"
             ],
             [
              0.7777777777777778,
              "#fb9f3a"
             ],
             [
              0.8888888888888888,
              "#fdca26"
             ],
             [
              1,
              "#f0f921"
             ]
            ],
            "type": "heatmapgl"
           }
          ],
          "histogram": [
           {
            "marker": {
             "pattern": {
              "fillmode": "overlay",
              "size": 10,
              "solidity": 0.2
             }
            },
            "type": "histogram"
           }
          ],
          "histogram2d": [
           {
            "colorbar": {
             "outlinewidth": 0,
             "ticks": ""
            },
            "colorscale": [
             [
              0,
              "#0d0887"
             ],
             [
              0.1111111111111111,
              "#46039f"
             ],
             [
              0.2222222222222222,
              "#7201a8"
             ],
             [
              0.3333333333333333,
              "#9c179e"
             ],
             [
              0.4444444444444444,
              "#bd3786"
             ],
             [
              0.5555555555555556,
              "#d8576b"
             ],
             [
              0.6666666666666666,
              "#ed7953"
             ],
             [
              0.7777777777777778,
              "#fb9f3a"
             ],
             [
              0.8888888888888888,
              "#fdca26"
             ],
             [
              1,
              "#f0f921"
             ]
            ],
            "type": "histogram2d"
           }
          ],
          "histogram2dcontour": [
           {
            "colorbar": {
             "outlinewidth": 0,
             "ticks": ""
            },
            "colorscale": [
             [
              0,
              "#0d0887"
             ],
             [
              0.1111111111111111,
              "#46039f"
             ],
             [
              0.2222222222222222,
              "#7201a8"
             ],
             [
              0.3333333333333333,
              "#9c179e"
             ],
             [
              0.4444444444444444,
              "#bd3786"
             ],
             [
              0.5555555555555556,
              "#d8576b"
             ],
             [
              0.6666666666666666,
              "#ed7953"
             ],
             [
              0.7777777777777778,
              "#fb9f3a"
             ],
             [
              0.8888888888888888,
              "#fdca26"
             ],
             [
              1,
              "#f0f921"
             ]
            ],
            "type": "histogram2dcontour"
           }
          ],
          "mesh3d": [
           {
            "colorbar": {
             "outlinewidth": 0,
             "ticks": ""
            },
            "type": "mesh3d"
           }
          ],
          "parcoords": [
           {
            "line": {
             "colorbar": {
              "outlinewidth": 0,
              "ticks": ""
             }
            },
            "type": "parcoords"
           }
          ],
          "pie": [
           {
            "automargin": true,
            "type": "pie"
           }
          ],
          "scatter": [
           {
            "fillpattern": {
             "fillmode": "overlay",
             "size": 10,
             "solidity": 0.2
            },
            "type": "scatter"
           }
          ],
          "scatter3d": [
           {
            "line": {
             "colorbar": {
              "outlinewidth": 0,
              "ticks": ""
             }
            },
            "marker": {
             "colorbar": {
              "outlinewidth": 0,
              "ticks": ""
             }
            },
            "type": "scatter3d"
           }
          ],
          "scattercarpet": [
           {
            "marker": {
             "colorbar": {
              "outlinewidth": 0,
              "ticks": ""
             }
            },
            "type": "scattercarpet"
           }
          ],
          "scattergeo": [
           {
            "marker": {
             "colorbar": {
              "outlinewidth": 0,
              "ticks": ""
             }
            },
            "type": "scattergeo"
           }
          ],
          "scattergl": [
           {
            "marker": {
             "colorbar": {
              "outlinewidth": 0,
              "ticks": ""
             }
            },
            "type": "scattergl"
           }
          ],
          "scattermapbox": [
           {
            "marker": {
             "colorbar": {
              "outlinewidth": 0,
              "ticks": ""
             }
            },
            "type": "scattermapbox"
           }
          ],
          "scatterpolar": [
           {
            "marker": {
             "colorbar": {
              "outlinewidth": 0,
              "ticks": ""
             }
            },
            "type": "scatterpolar"
           }
          ],
          "scatterpolargl": [
           {
            "marker": {
             "colorbar": {
              "outlinewidth": 0,
              "ticks": ""
             }
            },
            "type": "scatterpolargl"
           }
          ],
          "scatterternary": [
           {
            "marker": {
             "colorbar": {
              "outlinewidth": 0,
              "ticks": ""
             }
            },
            "type": "scatterternary"
           }
          ],
          "surface": [
           {
            "colorbar": {
             "outlinewidth": 0,
             "ticks": ""
            },
            "colorscale": [
             [
              0,
              "#0d0887"
             ],
             [
              0.1111111111111111,
              "#46039f"
             ],
             [
              0.2222222222222222,
              "#7201a8"
             ],
             [
              0.3333333333333333,
              "#9c179e"
             ],
             [
              0.4444444444444444,
              "#bd3786"
             ],
             [
              0.5555555555555556,
              "#d8576b"
             ],
             [
              0.6666666666666666,
              "#ed7953"
             ],
             [
              0.7777777777777778,
              "#fb9f3a"
             ],
             [
              0.8888888888888888,
              "#fdca26"
             ],
             [
              1,
              "#f0f921"
             ]
            ],
            "type": "surface"
           }
          ],
          "table": [
           {
            "cells": {
             "fill": {
              "color": "#EBF0F8"
             },
             "line": {
              "color": "white"
             }
            },
            "header": {
             "fill": {
              "color": "#C8D4E3"
             },
             "line": {
              "color": "white"
             }
            },
            "type": "table"
           }
          ]
         },
         "layout": {
          "annotationdefaults": {
           "arrowcolor": "#2a3f5f",
           "arrowhead": 0,
           "arrowwidth": 1
          },
          "autotypenumbers": "strict",
          "coloraxis": {
           "colorbar": {
            "outlinewidth": 0,
            "ticks": ""
           }
          },
          "colorscale": {
           "diverging": [
            [
             0,
             "#8e0152"
            ],
            [
             0.1,
             "#c51b7d"
            ],
            [
             0.2,
             "#de77ae"
            ],
            [
             0.3,
             "#f1b6da"
            ],
            [
             0.4,
             "#fde0ef"
            ],
            [
             0.5,
             "#f7f7f7"
            ],
            [
             0.6,
             "#e6f5d0"
            ],
            [
             0.7,
             "#b8e186"
            ],
            [
             0.8,
             "#7fbc41"
            ],
            [
             0.9,
             "#4d9221"
            ],
            [
             1,
             "#276419"
            ]
           ],
           "sequential": [
            [
             0,
             "#0d0887"
            ],
            [
             0.1111111111111111,
             "#46039f"
            ],
            [
             0.2222222222222222,
             "#7201a8"
            ],
            [
             0.3333333333333333,
             "#9c179e"
            ],
            [
             0.4444444444444444,
             "#bd3786"
            ],
            [
             0.5555555555555556,
             "#d8576b"
            ],
            [
             0.6666666666666666,
             "#ed7953"
            ],
            [
             0.7777777777777778,
             "#fb9f3a"
            ],
            [
             0.8888888888888888,
             "#fdca26"
            ],
            [
             1,
             "#f0f921"
            ]
           ],
           "sequentialminus": [
            [
             0,
             "#0d0887"
            ],
            [
             0.1111111111111111,
             "#46039f"
            ],
            [
             0.2222222222222222,
             "#7201a8"
            ],
            [
             0.3333333333333333,
             "#9c179e"
            ],
            [
             0.4444444444444444,
             "#bd3786"
            ],
            [
             0.5555555555555556,
             "#d8576b"
            ],
            [
             0.6666666666666666,
             "#ed7953"
            ],
            [
             0.7777777777777778,
             "#fb9f3a"
            ],
            [
             0.8888888888888888,
             "#fdca26"
            ],
            [
             1,
             "#f0f921"
            ]
           ]
          },
          "colorway": [
           "#636efa",
           "#EF553B",
           "#00cc96",
           "#ab63fa",
           "#FFA15A",
           "#19d3f3",
           "#FF6692",
           "#B6E880",
           "#FF97FF",
           "#FECB52"
          ],
          "font": {
           "color": "#2a3f5f"
          },
          "geo": {
           "bgcolor": "white",
           "lakecolor": "white",
           "landcolor": "#E5ECF6",
           "showlakes": true,
           "showland": true,
           "subunitcolor": "white"
          },
          "hoverlabel": {
           "align": "left"
          },
          "hovermode": "closest",
          "mapbox": {
           "style": "light"
          },
          "paper_bgcolor": "white",
          "plot_bgcolor": "#E5ECF6",
          "polar": {
           "angularaxis": {
            "gridcolor": "white",
            "linecolor": "white",
            "ticks": ""
           },
           "bgcolor": "#E5ECF6",
           "radialaxis": {
            "gridcolor": "white",
            "linecolor": "white",
            "ticks": ""
           }
          },
          "scene": {
           "xaxis": {
            "backgroundcolor": "#E5ECF6",
            "gridcolor": "white",
            "gridwidth": 2,
            "linecolor": "white",
            "showbackground": true,
            "ticks": "",
            "zerolinecolor": "white"
           },
           "yaxis": {
            "backgroundcolor": "#E5ECF6",
            "gridcolor": "white",
            "gridwidth": 2,
            "linecolor": "white",
            "showbackground": true,
            "ticks": "",
            "zerolinecolor": "white"
           },
           "zaxis": {
            "backgroundcolor": "#E5ECF6",
            "gridcolor": "white",
            "gridwidth": 2,
            "linecolor": "white",
            "showbackground": true,
            "ticks": "",
            "zerolinecolor": "white"
           }
          },
          "shapedefaults": {
           "line": {
            "color": "#2a3f5f"
           }
          },
          "ternary": {
           "aaxis": {
            "gridcolor": "white",
            "linecolor": "white",
            "ticks": ""
           },
           "baxis": {
            "gridcolor": "white",
            "linecolor": "white",
            "ticks": ""
           },
           "bgcolor": "#E5ECF6",
           "caxis": {
            "gridcolor": "white",
            "linecolor": "white",
            "ticks": ""
           }
          },
          "title": {
           "x": 0.05
          },
          "xaxis": {
           "automargin": true,
           "gridcolor": "white",
           "linecolor": "white",
           "ticks": "",
           "title": {
            "standoff": 15
           },
           "zerolinecolor": "white",
           "zerolinewidth": 2
          },
          "yaxis": {
           "automargin": true,
           "gridcolor": "white",
           "linecolor": "white",
           "ticks": "",
           "title": {
            "standoff": 15
           },
           "zerolinecolor": "white",
           "zerolinewidth": 2
          }
         }
        },
        "title": {
         "text": "Category Hierarchy (Level 1 to Level 2)"
        }
       }
      }
     },
     "metadata": {},
     "output_type": "display_data"
    }
   ],
   "source": [
    "# Prepare nodes\n",
    "level1_nodes = df['puor_ds_level1_new'].dropna().unique().tolist()\n",
    "level2_nodes = df['puor_ds_level2_new'].dropna().unique().tolist()\n",
    "nodes = level1_nodes + level2_nodes\n",
    "node_indices = {node: idx for idx, node in enumerate(nodes)}\n",
    "\n",
    "# Create edges\n",
    "edges = df[['puor_ds_level1_new', 'puor_ds_level2_new']].dropna().drop_duplicates()\n",
    "sources = [node_indices[row[0]] for row in edges.values]\n",
    "targets = [node_indices[row[1]] for row in edges.values]\n",
    "\n",
    "# Create Sankey diagram\n",
    "fig = go.Figure(data=[go.Sankey(\n",
    "    node=dict(\n",
    "        pad=15,\n",
    "        thickness=20,\n",
    "        line=dict(color=\"black\", width=0.5),\n",
    "        label=nodes,\n",
    "        color=\"lightblue\"\n",
    "    ),\n",
    "    link=dict(\n",
    "        source=sources,\n",
    "        target=targets,\n",
    "        value=[1]*len(sources)\n",
    "    ))])\n",
    "\n",
    "fig.update_layout(title_text=\"Category Hierarchy (Level 1 to Level 2)\", font_size=10)\n",
    "fig.show()\n"
   ]
  },
  {
   "cell_type": "code",
   "execution_count": 5,
   "id": "f4fe6ec5",
   "metadata": {},
   "outputs": [
    {
     "data": {
      "application/vnd.plotly.v1+json": {
       "config": {
        "plotlyServerURL": "https://plot.ly"
       },
       "data": [
        {
         "link": {
          "hovertemplate": [
           "GENERAL PROCUREMENT → ENERGY AND UTILITIES FOR OFFICES<br>PO lines: 23<br>Top Supplier: SAPECCFE3_0000146073",
           "GENERAL PROCUREMENT → IT - INFORMATION TECHNOLOGY<br>PO lines: 154<br>Top Supplier: SAPECCFE3_0000177840",
           "GENERAL PROCUREMENT → MARKETING SERVICES<br>PO lines: 282<br>Top Supplier: SAPECCFIP_0000613482",
           "GENERAL PROCUREMENT → MOBILITY<br>PO lines: 310<br>Top Supplier: SAPECCFE3_0000197170",
           "GENERAL PROCUREMENT → OTHER NON GP<br>PO lines: 15<br>Top Supplier: SAPECCFE3_0000032382",
           "GENERAL PROCUREMENT → PEOPLE SERVICES<br>PO lines: 95<br>Top Supplier: SAPECCFE3_0000078268",
           "GENERAL PROCUREMENT → PROFESSIONAL SERVICES<br>PO lines: 70<br>Top Supplier: SAPECCFE3_0000011277",
           "GENERAL PROCUREMENT → SALES SERVICES<br>PO lines: 3641<br>Top Supplier: SAPECCFE3_0000196519",
           "GENERAL PROCUREMENT → SURPRISE L2<br>PO lines: 52<br>Top Supplier: SAPECCFE3_0000153522",
           "GENERAL PROCUREMENT → WORKPLACE SERVICES<br>PO lines: 1272<br>Top Supplier: SAPECCFE3_0000031341",
           "SUPPLY CHAIN → CUSTOM BROKERAGE & FORWARDING AGENCIES<br>PO lines: 1044<br>Top Supplier: SAPECCFE3_0000184049",
           "SUPPLY CHAIN → PALLETTS PURCHASING<br>PO lines: 30<br>Top Supplier: SAPECCFE3_0000082107",
           "SUPPLY CHAIN → PALLETTS RENT & LEASE<br>PO lines: 168<br>Top Supplier: SAPECCFE3_0000056027",
           "SUPPLY CHAIN → PRIMARY TRANSPORTS<br>PO lines: 24180<br>Top Supplier: SAPECCFE3_0000121401",
           "SUPPLY CHAIN → SECONDARY FREIGHT<br>PO lines: 5674<br>Top Supplier: SAPECCFE3_0000167330",
           "SUPPLY CHAIN → WAREHOUSING<br>PO lines: 303<br>Top Supplier: SAPECCFE3_0000102646",
           "TECHNICAL PROCUREMENT → AUTOMATION & MRO<br>PO lines: 2077<br>Top Supplier: SAPECCFE3_0000013622",
           "TECHNICAL PROCUREMENT → ENERGY<br>PO lines: 27<br>Top Supplier: SAPECCFIP_0000613997",
           "TECHNICAL PROCUREMENT → INFRASTRUCTURE & INDUSTRIAL<br>PO lines: 264<br>Top Supplier: SAPECCFIP_0000107220",
           "TECHNICAL PROCUREMENT → PROCESS EQUIPMENT<br>PO lines: 46<br>Top Supplier: SAPECCFE3_0000057302"
          ],
          "source": [
           0,
           0,
           0,
           0,
           0,
           0,
           0,
           0,
           0,
           0,
           1,
           1,
           1,
           1,
           1,
           1,
           2,
           2,
           2,
           2
          ],
          "target": [
           11,
           6,
           3,
           7,
           12,
           8,
           9,
           4,
           10,
           5,
           16,
           18,
           17,
           13,
           14,
           15,
           19,
           22,
           20,
           21
          ],
          "value": [
           23,
           154,
           282,
           310,
           15,
           95,
           70,
           3641,
           52,
           1272,
           1044,
           30,
           168,
           24180,
           5674,
           303,
           2077,
           27,
           264,
           46
          ]
         },
         "node": {
          "color": "lightblue",
          "label": [
           "GENERAL PROCUREMENT",
           "SUPPLY CHAIN",
           "TECHNICAL PROCUREMENT",
           "MARKETING SERVICES",
           "SALES SERVICES",
           "WORKPLACE SERVICES",
           "IT - INFORMATION TECHNOLOGY",
           "MOBILITY",
           "PEOPLE SERVICES",
           "PROFESSIONAL SERVICES",
           "SURPRISE L2",
           "ENERGY AND UTILITIES FOR OFFICES",
           "OTHER NON GP",
           "PRIMARY TRANSPORTS",
           "SECONDARY FREIGHT",
           "WAREHOUSING",
           "CUSTOM BROKERAGE & FORWARDING AGENCIES",
           "PALLETTS RENT & LEASE",
           "PALLETTS PURCHASING",
           "AUTOMATION & MRO",
           "INFRASTRUCTURE & INDUSTRIAL",
           "PROCESS EQUIPMENT",
           "ENERGY"
          ],
          "line": {
           "color": "black",
           "width": 0.5
          },
          "pad": 15,
          "thickness": 20
         },
         "type": "sankey"
        }
       ],
       "layout": {
        "font": {
         "size": 10
        },
        "template": {
         "data": {
          "bar": [
           {
            "error_x": {
             "color": "#2a3f5f"
            },
            "error_y": {
             "color": "#2a3f5f"
            },
            "marker": {
             "line": {
              "color": "#E5ECF6",
              "width": 0.5
             },
             "pattern": {
              "fillmode": "overlay",
              "size": 10,
              "solidity": 0.2
             }
            },
            "type": "bar"
           }
          ],
          "barpolar": [
           {
            "marker": {
             "line": {
              "color": "#E5ECF6",
              "width": 0.5
             },
             "pattern": {
              "fillmode": "overlay",
              "size": 10,
              "solidity": 0.2
             }
            },
            "type": "barpolar"
           }
          ],
          "carpet": [
           {
            "aaxis": {
             "endlinecolor": "#2a3f5f",
             "gridcolor": "white",
             "linecolor": "white",
             "minorgridcolor": "white",
             "startlinecolor": "#2a3f5f"
            },
            "baxis": {
             "endlinecolor": "#2a3f5f",
             "gridcolor": "white",
             "linecolor": "white",
             "minorgridcolor": "white",
             "startlinecolor": "#2a3f5f"
            },
            "type": "carpet"
           }
          ],
          "choropleth": [
           {
            "colorbar": {
             "outlinewidth": 0,
             "ticks": ""
            },
            "type": "choropleth"
           }
          ],
          "contour": [
           {
            "colorbar": {
             "outlinewidth": 0,
             "ticks": ""
            },
            "colorscale": [
             [
              0,
              "#0d0887"
             ],
             [
              0.1111111111111111,
              "#46039f"
             ],
             [
              0.2222222222222222,
              "#7201a8"
             ],
             [
              0.3333333333333333,
              "#9c179e"
             ],
             [
              0.4444444444444444,
              "#bd3786"
             ],
             [
              0.5555555555555556,
              "#d8576b"
             ],
             [
              0.6666666666666666,
              "#ed7953"
             ],
             [
              0.7777777777777778,
              "#fb9f3a"
             ],
             [
              0.8888888888888888,
              "#fdca26"
             ],
             [
              1,
              "#f0f921"
             ]
            ],
            "type": "contour"
           }
          ],
          "contourcarpet": [
           {
            "colorbar": {
             "outlinewidth": 0,
             "ticks": ""
            },
            "type": "contourcarpet"
           }
          ],
          "heatmap": [
           {
            "colorbar": {
             "outlinewidth": 0,
             "ticks": ""
            },
            "colorscale": [
             [
              0,
              "#0d0887"
             ],
             [
              0.1111111111111111,
              "#46039f"
             ],
             [
              0.2222222222222222,
              "#7201a8"
             ],
             [
              0.3333333333333333,
              "#9c179e"
             ],
             [
              0.4444444444444444,
              "#bd3786"
             ],
             [
              0.5555555555555556,
              "#d8576b"
             ],
             [
              0.6666666666666666,
              "#ed7953"
             ],
             [
              0.7777777777777778,
              "#fb9f3a"
             ],
             [
              0.8888888888888888,
              "#fdca26"
             ],
             [
              1,
              "#f0f921"
             ]
            ],
            "type": "heatmap"
           }
          ],
          "heatmapgl": [
           {
            "colorbar": {
             "outlinewidth": 0,
             "ticks": ""
            },
            "colorscale": [
             [
              0,
              "#0d0887"
             ],
             [
              0.1111111111111111,
              "#46039f"
             ],
             [
              0.2222222222222222,
              "#7201a8"
             ],
             [
              0.3333333333333333,
              "#9c179e"
             ],
             [
              0.4444444444444444,
              "#bd3786"
             ],
             [
              0.5555555555555556,
              "#d8576b"
             ],
             [
              0.6666666666666666,
              "#ed7953"
             ],
             [
              0.7777777777777778,
              "#fb9f3a"
             ],
             [
              0.8888888888888888,
              "#fdca26"
             ],
             [
              1,
              "#f0f921"
             ]
            ],
            "type": "heatmapgl"
           }
          ],
          "histogram": [
           {
            "marker": {
             "pattern": {
              "fillmode": "overlay",
              "size": 10,
              "solidity": 0.2
             }
            },
            "type": "histogram"
           }
          ],
          "histogram2d": [
           {
            "colorbar": {
             "outlinewidth": 0,
             "ticks": ""
            },
            "colorscale": [
             [
              0,
              "#0d0887"
             ],
             [
              0.1111111111111111,
              "#46039f"
             ],
             [
              0.2222222222222222,
              "#7201a8"
             ],
             [
              0.3333333333333333,
              "#9c179e"
             ],
             [
              0.4444444444444444,
              "#bd3786"
             ],
             [
              0.5555555555555556,
              "#d8576b"
             ],
             [
              0.6666666666666666,
              "#ed7953"
             ],
             [
              0.7777777777777778,
              "#fb9f3a"
             ],
             [
              0.8888888888888888,
              "#fdca26"
             ],
             [
              1,
              "#f0f921"
             ]
            ],
            "type": "histogram2d"
           }
          ],
          "histogram2dcontour": [
           {
            "colorbar": {
             "outlinewidth": 0,
             "ticks": ""
            },
            "colorscale": [
             [
              0,
              "#0d0887"
             ],
             [
              0.1111111111111111,
              "#46039f"
             ],
             [
              0.2222222222222222,
              "#7201a8"
             ],
             [
              0.3333333333333333,
              "#9c179e"
             ],
             [
              0.4444444444444444,
              "#bd3786"
             ],
             [
              0.5555555555555556,
              "#d8576b"
             ],
             [
              0.6666666666666666,
              "#ed7953"
             ],
             [
              0.7777777777777778,
              "#fb9f3a"
             ],
             [
              0.8888888888888888,
              "#fdca26"
             ],
             [
              1,
              "#f0f921"
             ]
            ],
            "type": "histogram2dcontour"
           }
          ],
          "mesh3d": [
           {
            "colorbar": {
             "outlinewidth": 0,
             "ticks": ""
            },
            "type": "mesh3d"
           }
          ],
          "parcoords": [
           {
            "line": {
             "colorbar": {
              "outlinewidth": 0,
              "ticks": ""
             }
            },
            "type": "parcoords"
           }
          ],
          "pie": [
           {
            "automargin": true,
            "type": "pie"
           }
          ],
          "scatter": [
           {
            "fillpattern": {
             "fillmode": "overlay",
             "size": 10,
             "solidity": 0.2
            },
            "type": "scatter"
           }
          ],
          "scatter3d": [
           {
            "line": {
             "colorbar": {
              "outlinewidth": 0,
              "ticks": ""
             }
            },
            "marker": {
             "colorbar": {
              "outlinewidth": 0,
              "ticks": ""
             }
            },
            "type": "scatter3d"
           }
          ],
          "scattercarpet": [
           {
            "marker": {
             "colorbar": {
              "outlinewidth": 0,
              "ticks": ""
             }
            },
            "type": "scattercarpet"
           }
          ],
          "scattergeo": [
           {
            "marker": {
             "colorbar": {
              "outlinewidth": 0,
              "ticks": ""
             }
            },
            "type": "scattergeo"
           }
          ],
          "scattergl": [
           {
            "marker": {
             "colorbar": {
              "outlinewidth": 0,
              "ticks": ""
             }
            },
            "type": "scattergl"
           }
          ],
          "scattermapbox": [
           {
            "marker": {
             "colorbar": {
              "outlinewidth": 0,
              "ticks": ""
             }
            },
            "type": "scattermapbox"
           }
          ],
          "scatterpolar": [
           {
            "marker": {
             "colorbar": {
              "outlinewidth": 0,
              "ticks": ""
             }
            },
            "type": "scatterpolar"
           }
          ],
          "scatterpolargl": [
           {
            "marker": {
             "colorbar": {
              "outlinewidth": 0,
              "ticks": ""
             }
            },
            "type": "scatterpolargl"
           }
          ],
          "scatterternary": [
           {
            "marker": {
             "colorbar": {
              "outlinewidth": 0,
              "ticks": ""
             }
            },
            "type": "scatterternary"
           }
          ],
          "surface": [
           {
            "colorbar": {
             "outlinewidth": 0,
             "ticks": ""
            },
            "colorscale": [
             [
              0,
              "#0d0887"
             ],
             [
              0.1111111111111111,
              "#46039f"
             ],
             [
              0.2222222222222222,
              "#7201a8"
             ],
             [
              0.3333333333333333,
              "#9c179e"
             ],
             [
              0.4444444444444444,
              "#bd3786"
             ],
             [
              0.5555555555555556,
              "#d8576b"
             ],
             [
              0.6666666666666666,
              "#ed7953"
             ],
             [
              0.7777777777777778,
              "#fb9f3a"
             ],
             [
              0.8888888888888888,
              "#fdca26"
             ],
             [
              1,
              "#f0f921"
             ]
            ],
            "type": "surface"
           }
          ],
          "table": [
           {
            "cells": {
             "fill": {
              "color": "#EBF0F8"
             },
             "line": {
              "color": "white"
             }
            },
            "header": {
             "fill": {
              "color": "#C8D4E3"
             },
             "line": {
              "color": "white"
             }
            },
            "type": "table"
           }
          ]
         },
         "layout": {
          "annotationdefaults": {
           "arrowcolor": "#2a3f5f",
           "arrowhead": 0,
           "arrowwidth": 1
          },
          "autotypenumbers": "strict",
          "coloraxis": {
           "colorbar": {
            "outlinewidth": 0,
            "ticks": ""
           }
          },
          "colorscale": {
           "diverging": [
            [
             0,
             "#8e0152"
            ],
            [
             0.1,
             "#c51b7d"
            ],
            [
             0.2,
             "#de77ae"
            ],
            [
             0.3,
             "#f1b6da"
            ],
            [
             0.4,
             "#fde0ef"
            ],
            [
             0.5,
             "#f7f7f7"
            ],
            [
             0.6,
             "#e6f5d0"
            ],
            [
             0.7,
             "#b8e186"
            ],
            [
             0.8,
             "#7fbc41"
            ],
            [
             0.9,
             "#4d9221"
            ],
            [
             1,
             "#276419"
            ]
           ],
           "sequential": [
            [
             0,
             "#0d0887"
            ],
            [
             0.1111111111111111,
             "#46039f"
            ],
            [
             0.2222222222222222,
             "#7201a8"
            ],
            [
             0.3333333333333333,
             "#9c179e"
            ],
            [
             0.4444444444444444,
             "#bd3786"
            ],
            [
             0.5555555555555556,
             "#d8576b"
            ],
            [
             0.6666666666666666,
             "#ed7953"
            ],
            [
             0.7777777777777778,
             "#fb9f3a"
            ],
            [
             0.8888888888888888,
             "#fdca26"
            ],
            [
             1,
             "#f0f921"
            ]
           ],
           "sequentialminus": [
            [
             0,
             "#0d0887"
            ],
            [
             0.1111111111111111,
             "#46039f"
            ],
            [
             0.2222222222222222,
             "#7201a8"
            ],
            [
             0.3333333333333333,
             "#9c179e"
            ],
            [
             0.4444444444444444,
             "#bd3786"
            ],
            [
             0.5555555555555556,
             "#d8576b"
            ],
            [
             0.6666666666666666,
             "#ed7953"
            ],
            [
             0.7777777777777778,
             "#fb9f3a"
            ],
            [
             0.8888888888888888,
             "#fdca26"
            ],
            [
             1,
             "#f0f921"
            ]
           ]
          },
          "colorway": [
           "#636efa",
           "#EF553B",
           "#00cc96",
           "#ab63fa",
           "#FFA15A",
           "#19d3f3",
           "#FF6692",
           "#B6E880",
           "#FF97FF",
           "#FECB52"
          ],
          "font": {
           "color": "#2a3f5f"
          },
          "geo": {
           "bgcolor": "white",
           "lakecolor": "white",
           "landcolor": "#E5ECF6",
           "showlakes": true,
           "showland": true,
           "subunitcolor": "white"
          },
          "hoverlabel": {
           "align": "left"
          },
          "hovermode": "closest",
          "mapbox": {
           "style": "light"
          },
          "paper_bgcolor": "white",
          "plot_bgcolor": "#E5ECF6",
          "polar": {
           "angularaxis": {
            "gridcolor": "white",
            "linecolor": "white",
            "ticks": ""
           },
           "bgcolor": "#E5ECF6",
           "radialaxis": {
            "gridcolor": "white",
            "linecolor": "white",
            "ticks": ""
           }
          },
          "scene": {
           "xaxis": {
            "backgroundcolor": "#E5ECF6",
            "gridcolor": "white",
            "gridwidth": 2,
            "linecolor": "white",
            "showbackground": true,
            "ticks": "",
            "zerolinecolor": "white"
           },
           "yaxis": {
            "backgroundcolor": "#E5ECF6",
            "gridcolor": "white",
            "gridwidth": 2,
            "linecolor": "white",
            "showbackground": true,
            "ticks": "",
            "zerolinecolor": "white"
           },
           "zaxis": {
            "backgroundcolor": "#E5ECF6",
            "gridcolor": "white",
            "gridwidth": 2,
            "linecolor": "white",
            "showbackground": true,
            "ticks": "",
            "zerolinecolor": "white"
           }
          },
          "shapedefaults": {
           "line": {
            "color": "#2a3f5f"
           }
          },
          "ternary": {
           "aaxis": {
            "gridcolor": "white",
            "linecolor": "white",
            "ticks": ""
           },
           "baxis": {
            "gridcolor": "white",
            "linecolor": "white",
            "ticks": ""
           },
           "bgcolor": "#E5ECF6",
           "caxis": {
            "gridcolor": "white",
            "linecolor": "white",
            "ticks": ""
           }
          },
          "title": {
           "x": 0.05
          },
          "xaxis": {
           "automargin": true,
           "gridcolor": "white",
           "linecolor": "white",
           "ticks": "",
           "title": {
            "standoff": 15
           },
           "zerolinecolor": "white",
           "zerolinewidth": 2
          },
          "yaxis": {
           "automargin": true,
           "gridcolor": "white",
           "linecolor": "white",
           "ticks": "",
           "title": {
            "standoff": 15
           },
           "zerolinecolor": "white",
           "zerolinewidth": 2
          }
         }
        },
        "title": {
         "text": "Category Hierarchy (L1 → L2) with PO Count and Top Supplier"
        }
       }
      }
     },
     "metadata": {},
     "output_type": "display_data"
    }
   ],
   "source": [
    "import pandas as pd\n",
    "import plotly.graph_objects as go\n",
    "\n",
    "# Group by Level1 → Level2 → Supplier and count PO lines\n",
    "supplier_counts = df.groupby(['puor_ds_level1_new', 'puor_ds_level2_new', 'puor_id_lfa1_supplier']).size().reset_index(name='count')\n",
    "\n",
    "# Get the top supplier per category pair\n",
    "idx = supplier_counts.groupby(['puor_ds_level1_new', 'puor_ds_level2_new'])['count'].idxmax()\n",
    "top_suppliers = supplier_counts.loc[idx].reset_index(drop=True)\n",
    "\n",
    "# Prepare edge data\n",
    "edge_data = top_suppliers.rename(columns={'count': 'po_lines', 'puor_id_lfa1_supplier': 'top_supplier'})\n",
    "level1_nodes = df['puor_ds_level1_new'].dropna().unique().tolist()\n",
    "level2_nodes = df['puor_ds_level2_new'].dropna().unique().tolist()\n",
    "nodes = level1_nodes + [n for n in level2_nodes if n not in level1_nodes]\n",
    "node_indices = {node: idx for idx, node in enumerate(nodes)}\n",
    "\n",
    "# Sankey sources, targets, and values\n",
    "sources = [node_indices[row[0]] for row in edge_data[['puor_ds_level1_new', 'puor_ds_level2_new']].values]\n",
    "targets = [node_indices[row[1]] for row in edge_data[['puor_ds_level1_new', 'puor_ds_level2_new']].values]\n",
    "values = edge_data['po_lines'].tolist()\n",
    "labels = [\n",
    "    f\"{row['puor_ds_level1_new']} → {row['puor_ds_level2_new']}<br>\"\n",
    "    f\"PO lines: {row['po_lines']}<br>\"\n",
    "    f\"Top Supplier: {row['top_supplier']}\"\n",
    "    for _, row in edge_data.iterrows()\n",
    "]\n",
    "\n",
    "# Create Sankey diagram\n",
    "fig = go.Figure(data=[go.Sankey(\n",
    "    node=dict(\n",
    "        pad=15,\n",
    "        thickness=20,\n",
    "        line=dict(color=\"black\", width=0.5),\n",
    "        label=nodes,\n",
    "        color=\"lightblue\"\n",
    "    ),\n",
    "    link=dict(\n",
    "        source=sources,\n",
    "        target=targets,\n",
    "        value=values,\n",
    "        hovertemplate=labels\n",
    "    ))])\n",
    "\n",
    "fig.update_layout(title_text=\"Category Hierarchy (L1 → L2) with PO Count and Top Supplier\", font_size=10)\n",
    "fig.show()\n"
   ]
  },
  {
   "cell_type": "code",
   "execution_count": 7,
   "id": "d9fd3974",
   "metadata": {},
   "outputs": [
    {
     "data": {
      "application/vnd.plotly.v1+json": {
       "config": {
        "plotlyServerURL": "https://plot.ly"
       },
       "data": [
        {
         "link": {
          "customdata": [
           [
            "GENERAL PROCUREMENT",
            "ENERGY AND UTILITIES FOR OFFICES",
            "SAPECCFE3_0000146073",
            23
           ],
           [
            "GENERAL PROCUREMENT",
            "IT - INFORMATION TECHNOLOGY",
            "SAPECCFE3_0000177840",
            154
           ],
           [
            "GENERAL PROCUREMENT",
            "MARKETING SERVICES",
            "SAPECCFIP_0000613482",
            282
           ],
           [
            "GENERAL PROCUREMENT",
            "MOBILITY",
            "SAPECCFE3_0000197170",
            310
           ],
           [
            "GENERAL PROCUREMENT",
            "OTHER NON GP",
            "SAPECCFE3_0000032382",
            15
           ],
           [
            "GENERAL PROCUREMENT",
            "PEOPLE SERVICES",
            "SAPECCFE3_0000078268",
            95
           ],
           [
            "GENERAL PROCUREMENT",
            "PROFESSIONAL SERVICES",
            "SAPECCFE3_0000011277",
            70
           ],
           [
            "GENERAL PROCUREMENT",
            "SALES SERVICES",
            "SAPECCFE3_0000196519",
            3641
           ],
           [
            "GENERAL PROCUREMENT",
            "SURPRISE L2",
            "SAPECCFE3_0000153522",
            52
           ],
           [
            "GENERAL PROCUREMENT",
            "WORKPLACE SERVICES",
            "SAPECCFE3_0000031341",
            1272
           ],
           [
            "SUPPLY CHAIN",
            "CUSTOM BROKERAGE & FORWARDING AGENCIES",
            "SAPECCFE3_0000184049",
            1044
           ],
           [
            "SUPPLY CHAIN",
            "PALLETTS PURCHASING",
            "SAPECCFE3_0000082107",
            30
           ],
           [
            "SUPPLY CHAIN",
            "PALLETTS RENT & LEASE",
            "SAPECCFE3_0000056027",
            168
           ],
           [
            "SUPPLY CHAIN",
            "PRIMARY TRANSPORTS",
            "SAPECCFE3_0000121401",
            24180
           ],
           [
            "SUPPLY CHAIN",
            "SECONDARY FREIGHT",
            "SAPECCFE3_0000167330",
            5674
           ],
           [
            "SUPPLY CHAIN",
            "WAREHOUSING",
            "SAPECCFE3_0000102646",
            303
           ],
           [
            "TECHNICAL PROCUREMENT",
            "AUTOMATION & MRO",
            "SAPECCFE3_0000013622",
            2077
           ],
           [
            "TECHNICAL PROCUREMENT",
            "ENERGY",
            "SAPECCFIP_0000613997",
            27
           ],
           [
            "TECHNICAL PROCUREMENT",
            "INFRASTRUCTURE & INDUSTRIAL",
            "SAPECCFIP_0000107220",
            264
           ],
           [
            "TECHNICAL PROCUREMENT",
            "PROCESS EQUIPMENT",
            "SAPECCFE3_0000057302",
            46
           ]
          ],
          "hovertemplate": "From: %{customdata[0]}<br>To: %{customdata[1]}<br>Top Supplier: %{customdata[2]}<br>PO Lines: %{customdata[3]}<extra></extra>",
          "source": [
           0,
           0,
           0,
           0,
           0,
           0,
           0,
           0,
           0,
           0,
           1,
           1,
           1,
           1,
           1,
           1,
           2,
           2,
           2,
           2
          ],
          "target": [
           11,
           6,
           3,
           7,
           12,
           8,
           9,
           4,
           10,
           5,
           16,
           18,
           17,
           13,
           14,
           15,
           19,
           22,
           20,
           21
          ],
          "value": [
           23,
           154,
           282,
           310,
           15,
           95,
           70,
           3641,
           52,
           1272,
           1044,
           30,
           168,
           24180,
           5674,
           303,
           2077,
           27,
           264,
           46
          ]
         },
         "node": {
          "color": "lightblue",
          "label": [
           "GENERAL PROCUREMENT",
           "SUPPLY CHAIN",
           "TECHNICAL PROCUREMENT",
           "MARKETING SERVICES",
           "SALES SERVICES",
           "WORKPLACE SERVICES",
           "IT - INFORMATION TECHNOLOGY",
           "MOBILITY",
           "PEOPLE SERVICES",
           "PROFESSIONAL SERVICES",
           "SURPRISE L2",
           "ENERGY AND UTILITIES FOR OFFICES",
           "OTHER NON GP",
           "PRIMARY TRANSPORTS",
           "SECONDARY FREIGHT",
           "WAREHOUSING",
           "CUSTOM BROKERAGE & FORWARDING AGENCIES",
           "PALLETTS RENT & LEASE",
           "PALLETTS PURCHASING",
           "AUTOMATION & MRO",
           "INFRASTRUCTURE & INDUSTRIAL",
           "PROCESS EQUIPMENT",
           "ENERGY"
          ],
          "line": {
           "color": "black",
           "width": 0.5
          },
          "pad": 15,
          "thickness": 20
         },
         "type": "sankey"
        }
       ],
       "layout": {
        "font": {
         "size": 10
        },
        "template": {
         "data": {
          "bar": [
           {
            "error_x": {
             "color": "#2a3f5f"
            },
            "error_y": {
             "color": "#2a3f5f"
            },
            "marker": {
             "line": {
              "color": "#E5ECF6",
              "width": 0.5
             },
             "pattern": {
              "fillmode": "overlay",
              "size": 10,
              "solidity": 0.2
             }
            },
            "type": "bar"
           }
          ],
          "barpolar": [
           {
            "marker": {
             "line": {
              "color": "#E5ECF6",
              "width": 0.5
             },
             "pattern": {
              "fillmode": "overlay",
              "size": 10,
              "solidity": 0.2
             }
            },
            "type": "barpolar"
           }
          ],
          "carpet": [
           {
            "aaxis": {
             "endlinecolor": "#2a3f5f",
             "gridcolor": "white",
             "linecolor": "white",
             "minorgridcolor": "white",
             "startlinecolor": "#2a3f5f"
            },
            "baxis": {
             "endlinecolor": "#2a3f5f",
             "gridcolor": "white",
             "linecolor": "white",
             "minorgridcolor": "white",
             "startlinecolor": "#2a3f5f"
            },
            "type": "carpet"
           }
          ],
          "choropleth": [
           {
            "colorbar": {
             "outlinewidth": 0,
             "ticks": ""
            },
            "type": "choropleth"
           }
          ],
          "contour": [
           {
            "colorbar": {
             "outlinewidth": 0,
             "ticks": ""
            },
            "colorscale": [
             [
              0,
              "#0d0887"
             ],
             [
              0.1111111111111111,
              "#46039f"
             ],
             [
              0.2222222222222222,
              "#7201a8"
             ],
             [
              0.3333333333333333,
              "#9c179e"
             ],
             [
              0.4444444444444444,
              "#bd3786"
             ],
             [
              0.5555555555555556,
              "#d8576b"
             ],
             [
              0.6666666666666666,
              "#ed7953"
             ],
             [
              0.7777777777777778,
              "#fb9f3a"
             ],
             [
              0.8888888888888888,
              "#fdca26"
             ],
             [
              1,
              "#f0f921"
             ]
            ],
            "type": "contour"
           }
          ],
          "contourcarpet": [
           {
            "colorbar": {
             "outlinewidth": 0,
             "ticks": ""
            },
            "type": "contourcarpet"
           }
          ],
          "heatmap": [
           {
            "colorbar": {
             "outlinewidth": 0,
             "ticks": ""
            },
            "colorscale": [
             [
              0,
              "#0d0887"
             ],
             [
              0.1111111111111111,
              "#46039f"
             ],
             [
              0.2222222222222222,
              "#7201a8"
             ],
             [
              0.3333333333333333,
              "#9c179e"
             ],
             [
              0.4444444444444444,
              "#bd3786"
             ],
             [
              0.5555555555555556,
              "#d8576b"
             ],
             [
              0.6666666666666666,
              "#ed7953"
             ],
             [
              0.7777777777777778,
              "#fb9f3a"
             ],
             [
              0.8888888888888888,
              "#fdca26"
             ],
             [
              1,
              "#f0f921"
             ]
            ],
            "type": "heatmap"
           }
          ],
          "heatmapgl": [
           {
            "colorbar": {
             "outlinewidth": 0,
             "ticks": ""
            },
            "colorscale": [
             [
              0,
              "#0d0887"
             ],
             [
              0.1111111111111111,
              "#46039f"
             ],
             [
              0.2222222222222222,
              "#7201a8"
             ],
             [
              0.3333333333333333,
              "#9c179e"
             ],
             [
              0.4444444444444444,
              "#bd3786"
             ],
             [
              0.5555555555555556,
              "#d8576b"
             ],
             [
              0.6666666666666666,
              "#ed7953"
             ],
             [
              0.7777777777777778,
              "#fb9f3a"
             ],
             [
              0.8888888888888888,
              "#fdca26"
             ],
             [
              1,
              "#f0f921"
             ]
            ],
            "type": "heatmapgl"
           }
          ],
          "histogram": [
           {
            "marker": {
             "pattern": {
              "fillmode": "overlay",
              "size": 10,
              "solidity": 0.2
             }
            },
            "type": "histogram"
           }
          ],
          "histogram2d": [
           {
            "colorbar": {
             "outlinewidth": 0,
             "ticks": ""
            },
            "colorscale": [
             [
              0,
              "#0d0887"
             ],
             [
              0.1111111111111111,
              "#46039f"
             ],
             [
              0.2222222222222222,
              "#7201a8"
             ],
             [
              0.3333333333333333,
              "#9c179e"
             ],
             [
              0.4444444444444444,
              "#bd3786"
             ],
             [
              0.5555555555555556,
              "#d8576b"
             ],
             [
              0.6666666666666666,
              "#ed7953"
             ],
             [
              0.7777777777777778,
              "#fb9f3a"
             ],
             [
              0.8888888888888888,
              "#fdca26"
             ],
             [
              1,
              "#f0f921"
             ]
            ],
            "type": "histogram2d"
           }
          ],
          "histogram2dcontour": [
           {
            "colorbar": {
             "outlinewidth": 0,
             "ticks": ""
            },
            "colorscale": [
             [
              0,
              "#0d0887"
             ],
             [
              0.1111111111111111,
              "#46039f"
             ],
             [
              0.2222222222222222,
              "#7201a8"
             ],
             [
              0.3333333333333333,
              "#9c179e"
             ],
             [
              0.4444444444444444,
              "#bd3786"
             ],
             [
              0.5555555555555556,
              "#d8576b"
             ],
             [
              0.6666666666666666,
              "#ed7953"
             ],
             [
              0.7777777777777778,
              "#fb9f3a"
             ],
             [
              0.8888888888888888,
              "#fdca26"
             ],
             [
              1,
              "#f0f921"
             ]
            ],
            "type": "histogram2dcontour"
           }
          ],
          "mesh3d": [
           {
            "colorbar": {
             "outlinewidth": 0,
             "ticks": ""
            },
            "type": "mesh3d"
           }
          ],
          "parcoords": [
           {
            "line": {
             "colorbar": {
              "outlinewidth": 0,
              "ticks": ""
             }
            },
            "type": "parcoords"
           }
          ],
          "pie": [
           {
            "automargin": true,
            "type": "pie"
           }
          ],
          "scatter": [
           {
            "fillpattern": {
             "fillmode": "overlay",
             "size": 10,
             "solidity": 0.2
            },
            "type": "scatter"
           }
          ],
          "scatter3d": [
           {
            "line": {
             "colorbar": {
              "outlinewidth": 0,
              "ticks": ""
             }
            },
            "marker": {
             "colorbar": {
              "outlinewidth": 0,
              "ticks": ""
             }
            },
            "type": "scatter3d"
           }
          ],
          "scattercarpet": [
           {
            "marker": {
             "colorbar": {
              "outlinewidth": 0,
              "ticks": ""
             }
            },
            "type": "scattercarpet"
           }
          ],
          "scattergeo": [
           {
            "marker": {
             "colorbar": {
              "outlinewidth": 0,
              "ticks": ""
             }
            },
            "type": "scattergeo"
           }
          ],
          "scattergl": [
           {
            "marker": {
             "colorbar": {
              "outlinewidth": 0,
              "ticks": ""
             }
            },
            "type": "scattergl"
           }
          ],
          "scattermapbox": [
           {
            "marker": {
             "colorbar": {
              "outlinewidth": 0,
              "ticks": ""
             }
            },
            "type": "scattermapbox"
           }
          ],
          "scatterpolar": [
           {
            "marker": {
             "colorbar": {
              "outlinewidth": 0,
              "ticks": ""
             }
            },
            "type": "scatterpolar"
           }
          ],
          "scatterpolargl": [
           {
            "marker": {
             "colorbar": {
              "outlinewidth": 0,
              "ticks": ""
             }
            },
            "type": "scatterpolargl"
           }
          ],
          "scatterternary": [
           {
            "marker": {
             "colorbar": {
              "outlinewidth": 0,
              "ticks": ""
             }
            },
            "type": "scatterternary"
           }
          ],
          "surface": [
           {
            "colorbar": {
             "outlinewidth": 0,
             "ticks": ""
            },
            "colorscale": [
             [
              0,
              "#0d0887"
             ],
             [
              0.1111111111111111,
              "#46039f"
             ],
             [
              0.2222222222222222,
              "#7201a8"
             ],
             [
              0.3333333333333333,
              "#9c179e"
             ],
             [
              0.4444444444444444,
              "#bd3786"
             ],
             [
              0.5555555555555556,
              "#d8576b"
             ],
             [
              0.6666666666666666,
              "#ed7953"
             ],
             [
              0.7777777777777778,
              "#fb9f3a"
             ],
             [
              0.8888888888888888,
              "#fdca26"
             ],
             [
              1,
              "#f0f921"
             ]
            ],
            "type": "surface"
           }
          ],
          "table": [
           {
            "cells": {
             "fill": {
              "color": "#EBF0F8"
             },
             "line": {
              "color": "white"
             }
            },
            "header": {
             "fill": {
              "color": "#C8D4E3"
             },
             "line": {
              "color": "white"
             }
            },
            "type": "table"
           }
          ]
         },
         "layout": {
          "annotationdefaults": {
           "arrowcolor": "#2a3f5f",
           "arrowhead": 0,
           "arrowwidth": 1
          },
          "autotypenumbers": "strict",
          "coloraxis": {
           "colorbar": {
            "outlinewidth": 0,
            "ticks": ""
           }
          },
          "colorscale": {
           "diverging": [
            [
             0,
             "#8e0152"
            ],
            [
             0.1,
             "#c51b7d"
            ],
            [
             0.2,
             "#de77ae"
            ],
            [
             0.3,
             "#f1b6da"
            ],
            [
             0.4,
             "#fde0ef"
            ],
            [
             0.5,
             "#f7f7f7"
            ],
            [
             0.6,
             "#e6f5d0"
            ],
            [
             0.7,
             "#b8e186"
            ],
            [
             0.8,
             "#7fbc41"
            ],
            [
             0.9,
             "#4d9221"
            ],
            [
             1,
             "#276419"
            ]
           ],
           "sequential": [
            [
             0,
             "#0d0887"
            ],
            [
             0.1111111111111111,
             "#46039f"
            ],
            [
             0.2222222222222222,
             "#7201a8"
            ],
            [
             0.3333333333333333,
             "#9c179e"
            ],
            [
             0.4444444444444444,
             "#bd3786"
            ],
            [
             0.5555555555555556,
             "#d8576b"
            ],
            [
             0.6666666666666666,
             "#ed7953"
            ],
            [
             0.7777777777777778,
             "#fb9f3a"
            ],
            [
             0.8888888888888888,
             "#fdca26"
            ],
            [
             1,
             "#f0f921"
            ]
           ],
           "sequentialminus": [
            [
             0,
             "#0d0887"
            ],
            [
             0.1111111111111111,
             "#46039f"
            ],
            [
             0.2222222222222222,
             "#7201a8"
            ],
            [
             0.3333333333333333,
             "#9c179e"
            ],
            [
             0.4444444444444444,
             "#bd3786"
            ],
            [
             0.5555555555555556,
             "#d8576b"
            ],
            [
             0.6666666666666666,
             "#ed7953"
            ],
            [
             0.7777777777777778,
             "#fb9f3a"
            ],
            [
             0.8888888888888888,
             "#fdca26"
            ],
            [
             1,
             "#f0f921"
            ]
           ]
          },
          "colorway": [
           "#636efa",
           "#EF553B",
           "#00cc96",
           "#ab63fa",
           "#FFA15A",
           "#19d3f3",
           "#FF6692",
           "#B6E880",
           "#FF97FF",
           "#FECB52"
          ],
          "font": {
           "color": "#2a3f5f"
          },
          "geo": {
           "bgcolor": "white",
           "lakecolor": "white",
           "landcolor": "#E5ECF6",
           "showlakes": true,
           "showland": true,
           "subunitcolor": "white"
          },
          "hoverlabel": {
           "align": "left"
          },
          "hovermode": "closest",
          "mapbox": {
           "style": "light"
          },
          "paper_bgcolor": "white",
          "plot_bgcolor": "#E5ECF6",
          "polar": {
           "angularaxis": {
            "gridcolor": "white",
            "linecolor": "white",
            "ticks": ""
           },
           "bgcolor": "#E5ECF6",
           "radialaxis": {
            "gridcolor": "white",
            "linecolor": "white",
            "ticks": ""
           }
          },
          "scene": {
           "xaxis": {
            "backgroundcolor": "#E5ECF6",
            "gridcolor": "white",
            "gridwidth": 2,
            "linecolor": "white",
            "showbackground": true,
            "ticks": "",
            "zerolinecolor": "white"
           },
           "yaxis": {
            "backgroundcolor": "#E5ECF6",
            "gridcolor": "white",
            "gridwidth": 2,
            "linecolor": "white",
            "showbackground": true,
            "ticks": "",
            "zerolinecolor": "white"
           },
           "zaxis": {
            "backgroundcolor": "#E5ECF6",
            "gridcolor": "white",
            "gridwidth": 2,
            "linecolor": "white",
            "showbackground": true,
            "ticks": "",
            "zerolinecolor": "white"
           }
          },
          "shapedefaults": {
           "line": {
            "color": "#2a3f5f"
           }
          },
          "ternary": {
           "aaxis": {
            "gridcolor": "white",
            "linecolor": "white",
            "ticks": ""
           },
           "baxis": {
            "gridcolor": "white",
            "linecolor": "white",
            "ticks": ""
           },
           "bgcolor": "#E5ECF6",
           "caxis": {
            "gridcolor": "white",
            "linecolor": "white",
            "ticks": ""
           }
          },
          "title": {
           "x": 0.05
          },
          "xaxis": {
           "automargin": true,
           "gridcolor": "white",
           "linecolor": "white",
           "ticks": "",
           "title": {
            "standoff": 15
           },
           "zerolinecolor": "white",
           "zerolinewidth": 2
          },
          "yaxis": {
           "automargin": true,
           "gridcolor": "white",
           "linecolor": "white",
           "ticks": "",
           "title": {
            "standoff": 15
           },
           "zerolinecolor": "white",
           "zerolinewidth": 2
          }
         }
        },
        "title": {
         "text": "Category Hierarchy (L1 → L2) with PO Count and Top Supplier"
        }
       }
      }
     },
     "metadata": {},
     "output_type": "display_data"
    }
   ],
   "source": [
    "import pandas as pd\n",
    "import plotly.graph_objects as go\n",
    "\n",
    "# Load your data\n",
    "#  df = pd.read_csv(\"export_chatgpt.csv\")\n",
    "\n",
    "# Group by Level1 → Level2 → Supplier and count PO lines\n",
    "supplier_counts = df.groupby(['puor_ds_level1_new', 'puor_ds_level2_new', 'puor_id_lfa1_supplier']).size().reset_index(name='count')\n",
    "\n",
    "# Get the most frequent supplier per Level1 → Level2 pair\n",
    "idx = supplier_counts.groupby(['puor_ds_level1_new', 'puor_ds_level2_new'])['count'].idxmax()\n",
    "top_suppliers = supplier_counts.loc[idx].reset_index(drop=True)\n",
    "\n",
    "# Prepare node list and indices\n",
    "level1_nodes = df['puor_ds_level1_new'].dropna().unique().tolist()\n",
    "level2_nodes = df['puor_ds_level2_new'].dropna().unique().tolist()\n",
    "nodes = level1_nodes + [n for n in level2_nodes if n not in level1_nodes]\n",
    "node_indices = {node: idx for idx, node in enumerate(nodes)}\n",
    "\n",
    "# Build Sankey link components\n",
    "sources = [node_indices[row['puor_ds_level1_new']] for _, row in top_suppliers.iterrows()]\n",
    "targets = [node_indices[row['puor_ds_level2_new']] for _, row in top_suppliers.iterrows()]\n",
    "values = top_suppliers['count'].tolist()\n",
    "customdata = top_suppliers[['puor_ds_level1_new', 'puor_ds_level2_new', 'puor_id_lfa1_supplier', 'count']].values.tolist()\n",
    "\n",
    "# Create Sankey diagram with custom hover info\n",
    "fig = go.Figure(data=[go.Sankey(\n",
    "    node=dict(\n",
    "        pad=15,\n",
    "        thickness=20,\n",
    "        line=dict(color=\"black\", width=0.5),\n",
    "        label=nodes,\n",
    "        color=\"lightblue\"\n",
    "    ),\n",
    "    link=dict(\n",
    "        source=sources,\n",
    "        target=targets,\n",
    "        value=values,\n",
    "        customdata=customdata,\n",
    "        hovertemplate=(\n",
    "            \"From: %{customdata[0]}<br>\" +\n",
    "            \"To: %{customdata[1]}<br>\" +\n",
    "            \"Top Supplier: %{customdata[2]}<br>\" +\n",
    "            \"PO Lines: %{customdata[3]}<extra></extra>\"\n",
    "        )\n",
    "    ))])\n",
    "\n",
    "fig.update_layout(title_text=\"Category Hierarchy (L1 → L2) with PO Count and Top Supplier\", font_size=10)\n",
    "fig.show()\n"
   ]
  },
  {
   "cell_type": "code",
   "execution_count": 8,
   "id": "71af8df5",
   "metadata": {},
   "outputs": [
    {
     "data": {
      "application/vnd.plotly.v1+json": {
       "config": {
        "plotlyServerURL": "https://plot.ly"
       },
       "data": [
        {
         "link": {
          "customdata": [
           [
            "GENERAL PROCUREMENT",
            "ENERGY AND UTILITIES FOR OFFICES",
            "SAPECCFE3_0000146073",
            23
           ],
           [
            "GENERAL PROCUREMENT",
            "IT - INFORMATION TECHNOLOGY",
            "SAPECCFE3_0000177840",
            154
           ],
           [
            "GENERAL PROCUREMENT",
            "MARKETING SERVICES",
            "SAPECCFIP_0000613482",
            282
           ],
           [
            "GENERAL PROCUREMENT",
            "MOBILITY",
            "SAPECCFE3_0000197170",
            310
           ],
           [
            "GENERAL PROCUREMENT",
            "OTHER NON GP",
            "SAPECCFE3_0000032382",
            15
           ],
           [
            "GENERAL PROCUREMENT",
            "PEOPLE SERVICES",
            "SAPECCFE3_0000078268",
            95
           ],
           [
            "GENERAL PROCUREMENT",
            "PROFESSIONAL SERVICES",
            "SAPECCFE3_0000011277",
            70
           ],
           [
            "GENERAL PROCUREMENT",
            "SALES SERVICES",
            "SAPECCFE3_0000196519",
            3641
           ],
           [
            "GENERAL PROCUREMENT",
            "SURPRISE L2",
            "SAPECCFE3_0000153522",
            52
           ],
           [
            "GENERAL PROCUREMENT",
            "WORKPLACE SERVICES",
            "SAPECCFE3_0000031341",
            1272
           ],
           [
            "SUPPLY CHAIN",
            "CUSTOM BROKERAGE & FORWARDING AGENCIES",
            "SAPECCFE3_0000184049",
            1044
           ],
           [
            "SUPPLY CHAIN",
            "PALLETTS PURCHASING",
            "SAPECCFE3_0000082107",
            30
           ],
           [
            "SUPPLY CHAIN",
            "PALLETTS RENT & LEASE",
            "SAPECCFE3_0000056027",
            168
           ],
           [
            "SUPPLY CHAIN",
            "PRIMARY TRANSPORTS",
            "SAPECCFE3_0000121401",
            24180
           ],
           [
            "SUPPLY CHAIN",
            "SECONDARY FREIGHT",
            "SAPECCFE3_0000167330",
            5674
           ],
           [
            "SUPPLY CHAIN",
            "WAREHOUSING",
            "SAPECCFE3_0000102646",
            303
           ],
           [
            "TECHNICAL PROCUREMENT",
            "AUTOMATION & MRO",
            "SAPECCFE3_0000013622",
            2077
           ],
           [
            "TECHNICAL PROCUREMENT",
            "ENERGY",
            "SAPECCFIP_0000613997",
            27
           ],
           [
            "TECHNICAL PROCUREMENT",
            "INFRASTRUCTURE & INDUSTRIAL",
            "SAPECCFIP_0000107220",
            264
           ],
           [
            "TECHNICAL PROCUREMENT",
            "PROCESS EQUIPMENT",
            "SAPECCFE3_0000057302",
            46
           ],
           [
            "AUTOMATION & MRO",
            "INDUSTRIAL AUTOMATION AND ROBOTICS",
            "SAPECCFIP_0000109460",
            46
           ],
           [
            "AUTOMATION & MRO",
            "MAINTENANCE SERVICES",
            "SAPECCFIP_0000469602",
            198
           ],
           [
            "AUTOMATION & MRO",
            "TECHNICAL MATERIALS, PPE & CLOTHES",
            "SAPECCFE3_0000013622",
            2067
           ],
           [
            "CUSTOM BROKERAGE & FORWARDING AGENCIES",
            "FREIGHT FORWARDING AGENCIES",
            "SAPECCFE3_0000184049",
            1044
           ],
           [
            "ENERGY",
            "ENERGY CERTIFICATES",
            "SAPECCFE3_0000069213",
            2
           ],
           [
            "ENERGY",
            "ENERGY FOR INDUSTRIAL PLANT",
            "SAPECCFIP_0000613997",
            27
           ],
           [
            "ENERGY AND UTILITIES FOR OFFICES",
            "UTILITIES FOR OFFICES (LOCAL)",
            "SAPECCFE3_0000146073",
            23
           ],
           [
            "INFRASTRUCTURE & INDUSTRIAL",
            "B&U PROFESSIONAL SERVICES",
            "SAPECCFIP_0000423335",
            27
           ],
           [
            "INFRASTRUCTURE & INDUSTRIAL",
            "FACILITY MANAGEMENT HARDSERVICES FOR INDUSTRIAL LOCATIONS",
            "SAPECCFIP_0000609985",
            68
           ],
           [
            "INFRASTRUCTURE & INDUSTRIAL",
            "FACILITY MANAGEMENT SOFTSERVICES FOR INDUSTRIAL LOCATIONS",
            "SAPECCFIP_0000107220",
            264
           ],
           [
            "INFRASTRUCTURE & INDUSTRIAL",
            "INFRASTRUCTURE",
            "SAPECCFE3_0000186405",
            36
           ],
           [
            "INFRASTRUCTURE & INDUSTRIAL",
            "LABORATORY EQUIPMENT AND SERVICES",
            "SAPECCFE3_0000016003",
            135
           ],
           [
            "IT - INFORMATION TECHNOLOGY",
            "HARDWARE - PURCHASE/LEASING/MAINTENANCE",
            "SAPECCFE3_0000177840",
            152
           ],
           [
            "IT - INFORMATION TECHNOLOGY",
            "HARDWARE - SUBSCRIPTIONS INFRA",
            "SAPECCFE3_0000183337",
            7
           ],
           [
            "IT - INFORMATION TECHNOLOGY",
            "OUTSOURCING - NETWORK TRANSMISSION (LOCAL)",
            "SAPECCFE3_0000093606",
            14
           ],
           [
            "IT - INFORMATION TECHNOLOGY",
            "SERVICES - MANAGED SERVICE",
            "SAPECCFE3_0000017023",
            79
           ],
           [
            "IT - INFORMATION TECHNOLOGY",
            "SERVICES - T&M/BODY LEASING",
            "SAPECCFE3_0000050091",
            26
           ],
           [
            "IT - INFORMATION TECHNOLOGY",
            "SOFTWARE - MAINTENANCE FOR PERPETUAL LICENSES",
            "SAPECCFE3_0000182305",
            9
           ],
           [
            "IT - INFORMATION TECHNOLOGY",
            "SOFTWARE - SUBSCRIPTIONS/LICENSES",
            "SAPECCFE3_0000017520",
            21
           ],
           [
            "MARKETING SERVICES",
            "CONSUMER RESEARCH (AD-HOC)",
            "SAPECCFE3_0000010183",
            43
           ],
           [
            "MARKETING SERVICES",
            "CREATIVE DESIGN",
            "SAPECCFE3_0000081139",
            13
           ],
           [
            "MARKETING SERVICES",
            "CREATIVE DEVELOPMENT & STRATEGY",
            "SAPECCFIP_0000613482",
            141
           ],
           [
            "MARKETING SERVICES",
            "DIGITAL & SOCIAL MEDIA MARKETING",
            "SAPECCFIP_0000613482",
            82
           ],
           [
            "MARKETING SERVICES",
            "LICENSING & RIGHTS",
            "SAPECCFE3_0000031538",
            27
           ],
           [
            "MARKETING SERVICES",
            "MARKET MEASUREMENT",
            "SAPECCFE3_0000180901",
            142
           ],
           [
            "MARKETING SERVICES",
            "PRODUCTION",
            "SAPECCFE3_0000010296",
            117
           ],
           [
            "MARKETING SERVICES",
            "PUBLIC RELATIONS",
            "SAPECCFE3_0000167060",
            7
           ],
           [
            "MARKETING SERVICES",
            "RETAIL PANELS",
            "SAPECCFE3_0000121738",
            192
           ],
           [
            "MOBILITY",
            "FLEET",
            "SAPECCFE3_0000197170",
            310
           ],
           [
            "MOBILITY",
            "FLEET (LOCAL)",
            "SAPECCFE3_0000113725",
            70
           ],
           [
            "MOBILITY",
            "TRAVEL",
            "SAPECCFIP_0000617867",
            201
           ],
           [
            "MOBILITY",
            "TRAVEL (LOCAL)",
            "SAPECCFE3_0000166455",
            7
           ],
           [
            "OTHER NON GP",
            "OTHER NON GP SERVICES",
            "SAPECCFE3_0000032382",
            15
           ],
           [
            "PALLETTS PURCHASING",
            "PALLETTS PURCHASING MTL",
            "SAPECCFE3_0000082107",
            30
           ],
           [
            "PALLETTS RENT & LEASE",
            "PALLETTS RENT & LEASE SVC",
            "SAPECCFE3_0000056027",
            168
           ],
           [
            "PEOPLE SERVICES",
            "EMPLOYEE SERVICES",
            "SAPECCFE3_0000187695",
            94
           ],
           [
            "PEOPLE SERVICES",
            "EMPLOYEE SERVICES (LOCAL)",
            "SAPECCFE3_0000146255",
            22
           ],
           [
            "PEOPLE SERVICES",
            "EVENTS",
            "SAPECCFE3_0000208804",
            31
           ],
           [
            "PEOPLE SERVICES",
            "EVENTS (LOCAL)",
            "SAPECCFE3_0000018760",
            2
           ],
           [
            "PEOPLE SERVICES",
            "PAYROLL",
            "SAPECCFE3_0000105400",
            50
           ],
           [
            "PEOPLE SERVICES",
            "RECRUITMENT SERVICE",
            "SAPECCFE3_0000078268",
            83
           ],
           [
            "PEOPLE SERVICES",
            "RELOCATION",
            "SAPECCFE3_0000187306",
            14
           ],
           [
            "PEOPLE SERVICES",
            "TEMPORARY PERSONNEL",
            "SAPECCFE3_0000156350",
            17
           ],
           [
            "PEOPLE SERVICES",
            "TEMPORARY PERSONNEL (LOCAL)",
            "SAPECCFE3_0000032508",
            1
           ],
           [
            "PEOPLE SERVICES",
            "TRAINING",
            "SAPECCFE3_0000168106",
            13
           ],
           [
            "PEOPLE SERVICES",
            "TRAINING (LOCAL)",
            "SAPECCFE3_0000167666",
            6
           ],
           [
            "PRIMARY TRANSPORTS",
            "AIR FREIGHT TRANSPORT",
            "SAPECCFE3_0000038050",
            38
           ],
           [
            "PRIMARY TRANSPORTS",
            "EXPORT OTHER COMMODITIES (AUTOMATIC)",
            "SAPECCFE3_0000013003",
            95
           ],
           [
            "PRIMARY TRANSPORTS",
            "OTHER LOGISTICS COSTS",
            "SAPECCFE3_0000164335",
            120
           ],
           [
            "PRIMARY TRANSPORTS",
            "RAIL TRANSPORT",
            "SAPECCFE3_0000019514",
            2
           ],
           [
            "PRIMARY TRANSPORTS",
            "ROAD TRANSPORT",
            "SAPECCFE3_0000121401",
            24180
           ],
           [
            "PRIMARY TRANSPORTS",
            "SEA TRANSPORT",
            "SAPECCFE3_0000013003",
            455
           ],
           [
            "PROCESS EQUIPMENT",
            "MOLDING & OVENS",
            "SAPECCFE3_0000057302",
            40
           ],
           [
            "PROCESS EQUIPMENT",
            "NUTS EQUIPMENT & AGRI MOBILE MACHINE",
            "SAPECCFE3_0000049256",
            9
           ],
           [
            "PROCESS EQUIPMENT",
            "PREPARATION",
            "SAPECCFIP_0000173452",
            14
           ],
           [
            "PROCESS EQUIPMENT",
            "PRIMARY PACKAGING",
            "SAPECCFE3_0000067920",
            10
           ],
           [
            "PROCESS EQUIPMENT",
            "SECONDARY PACKAGING",
            "SAPECCFIP_0000430005",
            11
           ],
           [
            "PROCESS EQUIPMENT",
            "STANDALONE EQUIPMENT",
            "SAPECCFE3_0000012823",
            20
           ],
           [
            "PROCESS EQUIPMENT",
            "WAREHOUSE & LOGISTIC",
            "SAPECCFE3_0000056883",
            45
           ],
           [
            "PROFESSIONAL SERVICES",
            "ADMINISTRATIVE SERVICES",
            "SAPECCFE3_0000082164",
            42
           ],
           [
            "PROFESSIONAL SERVICES",
            "CERTIFICATIONS",
            "SAPECCFE3_0000015507",
            4
           ],
           [
            "PROFESSIONAL SERVICES",
            "CONSULTANCY SERVICES",
            "SAPECCFE3_0000030153",
            17
           ],
           [
            "PROFESSIONAL SERVICES",
            "INSURANCE SERVICES",
            "SAPECCFE3_0000011277",
            70
           ],
           [
            "PROFESSIONAL SERVICES",
            "INSURANCE SERVICES (LOCAL)",
            "SAPECCFE3_0000070123",
            2
           ],
           [
            "PROFESSIONAL SERVICES",
            "LEGAL & NOTARY SERVICES (LOCAL)",
            "SAPECCFE3_0000190494",
            2
           ],
           [
            "PROFESSIONAL SERVICES",
            "LEGAL & TAX SERVICES",
            "SAPECCFE3_0000126032",
            19
           ],
           [
            "PROFESSIONAL SERVICES",
            "LEGAL CONSULTING (LOCAL)",
            "SAPECCFE3_0000078825",
            10
           ],
           [
            "PROFESSIONAL SERVICES",
            "OTHER CONSULTING (LOCAL)",
            "SAPECCFE3_0000161292",
            2
           ],
           [
            "PROFESSIONAL SERVICES",
            "SUBSCRIPTIONS/MEMBERSHIPS",
            "SAPECCFIP_0000618541",
            49
           ],
           [
            "SALES SERVICES",
            "COMMERCIAL QUALITY AND FRESHNESS",
            "SAPECCFIP_0000602427",
            72
           ],
           [
            "SALES SERVICES",
            "CONSUMERS PROMOTION ACTIVITIES",
            "SAPECCFE3_0000172755",
            88
           ],
           [
            "SALES SERVICES",
            "GADGETS",
            "SAPECCFE3_0000165845",
            21
           ],
           [
            "SALES SERVICES",
            "MARKETING EVENTS",
            "SAPECCFE3_0000011457",
            7
           ],
           [
            "SALES SERVICES",
            "MERCHANDISING & HOSTESS & BROKER COMMISSIONS",
            "SAPECCFE3_0000197116",
            50
           ],
           [
            "SALES SERVICES",
            "OTHER SALES SERVICES",
            "SAPECCFIP_0000615418",
            31
           ],
           [
            "SALES SERVICES",
            "POS MATERIAL",
            "SAPECCFE3_0000196519",
            3641
           ],
           [
            "SALES SERVICES",
            "PROMOTIONAL ITEMS",
            "SAPECCFE3_0000055467",
            55
           ],
           [
            "SALES SERVICES",
            "SPONSORING",
            "SAPECCFE3_0000190685",
            97
           ],
           [
            "SALES SERVICES",
            "TECHNICAL DEVICES FOR POS",
            "SAPECCFE3_0000188355",
            41
           ],
           [
            "SECONDARY FREIGHT",
            "DISTRIBUTION",
            "SAPECCFE3_0000167330",
            5674
           ],
           [
            "SURPRISE L2",
            "SURPRISE L3",
            "SAPECCFE3_0000153522",
            52
           ],
           [
            "WAREHOUSING",
            "ADMINISTRATION COST",
            "SAPECCFE3_0000061548",
            41
           ],
           [
            "WAREHOUSING",
            "BONUS / MALUS (WAREHOUSING)",
            "SAPECCFE3_0000052763",
            1
           ],
           [
            "WAREHOUSING",
            "FUMIGATION",
            "SAPECCFE3_0000185303",
            2
           ],
           [
            "WAREHOUSING",
            "HANDLING",
            "SAPECCFE3_0000164335",
            168
           ],
           [
            "WAREHOUSING",
            "MAN WORK PER HOUR",
            "SAPECCFE3_0000171147",
            3
           ],
           [
            "WAREHOUSING",
            "PICKING",
            "SAPECCFE3_0000061548",
            34
           ],
           [
            "WAREHOUSING",
            "REPACKING",
            "SAPECCFE3_0000198306",
            160
           ],
           [
            "WAREHOUSING",
            "STORAGE",
            "SAPECCFE3_0000102646",
            303
           ],
           [
            "WAREHOUSING",
            "WAREHOUSING LOCATION & LEASING",
            "SAPECCFE3_0000165223",
            17
           ],
           [
            "WAREHOUSING",
            "WASTE MANAGEMENT",
            "SAPECCFE3_0000130617",
            2
           ],
           [
            "WORKPLACE SERVICES",
            "CLEANING",
            "SAPECCFE3_0000076876",
            66
           ],
           [
            "WORKPLACE SERVICES",
            "CLEANING (LOCAL)",
            "SAPECCFE3_0000168740",
            69
           ],
           [
            "WORKPLACE SERVICES",
            "FOOD SERVICES",
            "SAPECCFIP_0000618829",
            104
           ],
           [
            "WORKPLACE SERVICES",
            "FOOD SERVICES (LOCAL)",
            "SAPECCFE3_0000147063",
            79
           ],
           [
            "WORKPLACE SERVICES",
            "MAINTENANCE & IMPROVEMENTS",
            "SAPECCFE3_0000174924",
            44
           ],
           [
            "WORKPLACE SERVICES",
            "MAINTENANCE & IMPROVEMENTS (LOCAL)",
            "SAPECCFE3_0000070050",
            16
           ],
           [
            "WORKPLACE SERVICES",
            "OFFICE SUPPLIES AND SERVICES",
            "SAPECCFE3_0000031341",
            1272
           ],
           [
            "WORKPLACE SERVICES",
            "OFFICE SUPPLIES AND SERVICES (LOCAL)",
            "SAPECCFE3_0000168740",
            48
           ],
           [
            "WORKPLACE SERVICES",
            "REAL ESTATE",
            "SAPECCFE3_0000150512",
            26
           ],
           [
            "WORKPLACE SERVICES",
            "REAL ESTATE (LOCAL)",
            "SAPECCFE3_0000191553",
            8
           ],
           [
            "WORKPLACE SERVICES",
            "SECURITY",
            "SAPECCFE3_0000107756",
            76
           ],
           [
            "WORKPLACE SERVICES",
            "SECURITY (LOCAL)",
            "SAPECCFE3_0000100759",
            2
           ],
           [
            "WORKPLACE SERVICES",
            "UTILITIES",
            "SAPECCFE3_0000050865",
            10
           ],
           [
            "ADMINISTRATION COST",
            "Administrative Costs Warehousing",
            "SAPECCFE3_0000061548",
            41
           ],
           [
            "ADMINISTRATIVE SERVICES",
            "Employees tax services",
            "SAPECCFE3_0000082164",
            6
           ],
           [
            "ADMINISTRATIVE SERVICES",
            "Financial Audit",
            "SAPECCFE3_0000149981",
            8
           ],
           [
            "ADMINISTRATIVE SERVICES",
            "Other auditing",
            "SAPECCFE3_0000029421",
            3
           ],
           [
            "ADMINISTRATIVE SERVICES",
            "Outsourcing of administrative services (bpo)",
            "SAPECCFE3_0000082164",
            36
           ],
           [
            "ADMINISTRATIVE SERVICES",
            "Services for credit collection",
            "SAPECCFE3_0000019908",
            1
           ],
           [
            "AIR FREIGHT TRANSPORT",
            "Air Freight Export Fees Costs",
            "SAPECCFE3_0000039063",
            13
           ],
           [
            "AIR FREIGHT TRANSPORT",
            "Air Freight Transportation Finished Goods",
            "SAPECCFE3_0000164335",
            10
           ],
           [
            "AIR FREIGHT TRANSPORT",
            "Air Packaging",
            "SAPECCFE3_0000161121",
            3
           ],
           [
            "AIR FREIGHT TRANSPORT",
            "Air RAW MATERIALS",
            "SAPECCFE3_0000038050",
            2
           ],
           [
            "AIR FREIGHT TRANSPORT",
            "Air SEMI-FINISHED GOODS",
            "SAPECCFE3_0000038050",
            9
           ],
           [
            "AIR FREIGHT TRANSPORT",
            "Air Surprises",
            "SAPECCFE3_0000038050",
            25
           ],
           [
            "B&U PROFESSIONAL SERVICES",
            "Design Services",
            "SAPECCFIP_0000423335",
            27
           ],
           [
            "B&U PROFESSIONAL SERVICES",
            "Health and Safety - Site Supervision",
            "SAPECCFE3_0000173575",
            12
           ],
           [
            "B&U PROFESSIONAL SERVICES",
            "Property Cost Estimation & Acquisition",
            "SAPECCFE3_0000179040",
            5
           ],
           [
            "B&U PROFESSIONAL SERVICES",
            "Site supervision",
            "SAPECCFE3_0000034572",
            2
           ],
           [
            "B&U PROFESSIONAL SERVICES",
            "Technical certifications, engineering-related consulting(TS)",
            "SAPECCFE3_0000034572",
            5
           ],
           [
            "BONUS / MALUS (WAREHOUSING)",
            "Bonus / Malus Warehousing",
            "SAPECCFE3_0000052763",
            1
           ],
           [
            "CERTIFICATIONS",
            "Environmental Analysis",
            "SAPECCFE3_0000046357",
            4
           ],
           [
            "CERTIFICATIONS",
            "Standard certifications",
            "SAPECCFE3_0000014032",
            2
           ],
           [
            "CERTIFICATIONS",
            "Surprises certification",
            "SAPECCFE3_0000015507",
            4
           ],
           [
            "CLEANING",
            "Cleaning, Waste,Pest Services and Material for No Industrial",
            "SAPECCFE3_0000076876",
            66
           ],
           [
            "CLEANING (LOCAL)",
            "TR - Cleaning services (GenAdm)",
            "SAPECCFE3_0000168740",
            41
           ],
           [
            "CLEANING (LOCAL)",
            "TR - Cleaning services (GenProd)",
            "SAPECCFE3_0000168740",
            28
           ],
           [
            "CLEANING (LOCAL)",
            "TR - Pest Control services (GenProd)",
            "SAPECCFE3_0000197074",
            6
           ],
           [
            "COMMERCIAL QUALITY AND FRESHNESS",
            "Commercial Quality and Freshness monitoring",
            "SAPECCFIP_0000602427",
            72
           ],
           [
            "CONSULTANCY SERVICES",
            "Function related / professional consultancy",
            "SAPECCFE3_0000030153",
            11
           ],
           [
            "CONSULTANCY SERVICES",
            "M&A related consultancies",
            "SAPECCFE3_0000212775",
            2
           ],
           [
            "CONSULTANCY SERVICES",
            "Strategic, Managerial & organizational consulting",
            "SAPECCFE3_0000167751",
            10
           ],
           [
            "CONSUMER RESEARCH (AD-HOC)",
            "Other research activities on consumer, shopper and citizen",
            "SAPECCFE3_0000162266",
            7
           ],
           [
            "CONSUMER RESEARCH (AD-HOC)",
            "Research activities for qualifying Innovation initiatives",
            "SAPECCFE3_0000010422",
            35
           ],
           [
            "CONSUMER RESEARCH (AD-HOC)",
            "Research activities to assess the ADV/Communication Perf.",
            "SAPECCFE3_0000010404",
            19
           ],
           [
            "CONSUMER RESEARCH (AD-HOC)",
            "Researches to understand Consumers, Shopper, Markets",
            "SAPECCFE3_0000010183",
            12
           ],
           [
            "CONSUMERS PROMOTION ACTIVITIES",
            "Design & Management of Digital Promotion",
            "SAPECCFE3_0000172755",
            24
           ],
           [
            "CONSUMERS PROMOTION ACTIVITIES",
            "Design & Management of non Digital Promotion",
            "SAPECCFE3_0000011139",
            39
           ],
           [
            "CONSUMERS PROMOTION ACTIVITIES",
            "Discount Coupons",
            "SAPECCFE3_0000172755",
            64
           ],
           [
            "CONSUMERS PROMOTION ACTIVITIES",
            "OTHER SALE DISCOUNTS",
            "SAPECCFE3_0000141553",
            5
           ],
           [
            "CREATIVE DESIGN",
            "Packaging & POS - Artwork, Technical finalization&Templates",
            "SAPECCFE3_0000153914",
            11
           ],
           [
            "CREATIVE DESIGN",
            "Packaging & POS - Creative Concept",
            "SAPECCFE3_0000190621",
            13
           ],
           [
            "CREATIVE DESIGN",
            "Packaging & POS - Mockups / Samples",
            "SAPECCFE3_0000171546",
            4
           ],
           [
            "CREATIVE DESIGN",
            "Surprises - Creative Concepts DIGITAL",
            "SAPECCFE3_0000185397",
            2
           ],
           [
            "CREATIVE DESIGN",
            "Surprises - Creative Concepts TRADITIONAL",
            "SAPECCFE3_0000160795",
            3
           ],
           [
            "CREATIVE DESIGN",
            "Surprises - Marketing Sheets",
            "SAPECCFE3_0000156783",
            7
           ],
           [
            "CREATIVE DESIGN",
            "Surprises - Technical Development",
            "SAPECCFE3_0000156851",
            5
           ],
           [
            "CREATIVE DEVELOPMENT & STRATEGY",
            "Brand & Communication Strategy",
            "SAPECCFE3_0000189561",
            14
           ],
           [
            "CREATIVE DEVELOPMENT & STRATEGY",
            "Creative Concept for Advertising Campaigns DIGITAL",
            "SAPECCFE3_0000083957",
            46
           ],
           [
            "CREATIVE DEVELOPMENT & STRATEGY",
            "Creative Concept for Advertising Campaigns TRADITIONAL",
            "SAPECCFIP_0000613482",
            141
           ],
           [
            "DIGITAL & SOCIAL MEDIA MARKETING",
            "E-commerce Advertising Creative Development",
            "SAPECCFIP_0000617114",
            24
           ],
           [
            "DIGITAL & SOCIAL MEDIA MARKETING",
            "E-commerce Advertising Production",
            "SAPECCFE3_0000153914",
            4
           ],
           [
            "DIGITAL & SOCIAL MEDIA MARKETING",
            "Influencers & Testimonials",
            "SAPECCFE3_0000189368",
            7
           ],
           [
            "DIGITAL & SOCIAL MEDIA MARKETING",
            "SEO/SEM",
            "SAPECCFE3_0000188455",
            2
           ],
           [
            "DIGITAL & SOCIAL MEDIA MARKETING",
            "Social Media Management",
            "SAPECCFIP_0000613482",
            82
           ],
           [
            "DIGITAL & SOCIAL MEDIA MARKETING",
            "Website / App Creation & Maintenance",
            "SAPECCFE3_0000083957",
            58
           ],
           [
            "DISTRIBUTION",
            "Control Tower Services",
            "SAPECCFE3_0000157198",
            12
           ],
           [
            "DISTRIBUTION",
            "Distribution to Customers and Returned Goods from Customers",
            "SAPECCFE3_0000167330",
            5674
           ],
           [
            "EMPLOYEE SERVICES",
            "Cash Donations",
            "SAPECCFE3_0000171518",
            2
           ],
           [
            "EMPLOYEE SERVICES",
            "Donations",
            "SAPECCFE3_0000167666",
            2
           ],
           [
            "EMPLOYEE SERVICES",
            "Donations to employees",
            "SAPECCFE3_0000017796",
            33
           ],
           [
            "EMPLOYEE SERVICES",
            "Employees Transport Services",
            "SAPECCFE3_0000187695",
            94
           ],
           [
            "EMPLOYEE SERVICES",
            "Employees event and social activities cost",
            "SAPECCFE3_0000110897",
            51
           ],
           [
            "EMPLOYEE SERVICES",
            "Health and Safety GP",
            "SAPECCFE3_0000146308",
            10
           ],
           [
            "EMPLOYEE SERVICES",
            "Medical Services",
            "SAPECCFE3_0000110997",
            71
           ],
           [
            "EMPLOYEE SERVICES",
            "Recreation employees benefits",
            "SAPECCFIP_0000351571",
            72
           ],
           [
            "EMPLOYEE SERVICES",
            "School & Kinder garden fees",
            "SAPECCFE3_0000030448",
            3
           ],
           [
            "EMPLOYEE SERVICES",
            "Translations and interpreting services",
            "SAPECCFE3_0000064374",
            9
           ],
           [
            "EMPLOYEE SERVICES (LOCAL)",
            "TR - Donations to employees (GenAdm)",
            "SAPECCFE3_0000070133",
            1
           ],
           [
            "EMPLOYEE SERVICES (LOCAL)",
            "TR - Employees Transport Services (GenAdm)",
            "SAPECCFE3_0000146255",
            9
           ],
           [
            "EMPLOYEE SERVICES (LOCAL)",
            "TR - Employees Transport Services (GenProd)",
            "SAPECCFE3_0000101447",
            14
           ],
           [
            "EMPLOYEE SERVICES (LOCAL)",
            "TR - Employees event and social activities cost (GenAdm)",
            "SAPECCFE3_0000167666",
            8
           ],
           [
            "EMPLOYEE SERVICES (LOCAL)",
            "TR - Employees event and social activities cost (GenProd)",
            "SAPECCFE3_0000186056",
            2
           ],
           [
            "EMPLOYEE SERVICES (LOCAL)",
            "TR - Health and Safety (GenAdm)",
            "SAPECCFE3_0000200696",
            10
           ],
           [
            "EMPLOYEE SERVICES (LOCAL)",
            "TR - Health and Safety (GenProd)",
            "SAPECCFE3_0000184643",
            17
           ],
           [
            "EMPLOYEE SERVICES (LOCAL)",
            "TR - Translations and interpreting services (GenAdm)",
            "SAPECCFE3_0000145831",
            5
           ],
           [
            "ENERGY CERTIFICATES",
            "Energy certifications for power",
            "SAPECCFE3_0000069213",
            2
           ],
           [
            "ENERGY FOR INDUSTRIAL PLANT",
            "Electrical Energy for Industrial Plant",
            "SAPECCFIP_0000613997",
            18
           ],
           [
            "ENERGY FOR INDUSTRIAL PLANT",
            "Fuel for industrial plant",
            "SAPECCFE3_0000077090",
            3
           ],
           [
            "ENERGY FOR INDUSTRIAL PLANT",
            "Gas for Industrial Plant",
            "SAPECCFE3_0000139924",
            11
           ],
           [
            "ENERGY FOR INDUSTRIAL PLANT",
            "TR - Other Fuel Exp - no deductible",
            "SAPECCFE3_0000199709",
            1
           ],
           [
            "ENERGY FOR INDUSTRIAL PLANT",
            "TR - PURCHASE DISTRICT HEATING (GENADM)",
            "SAPECCFE3_0000168129",
            10
           ],
           [
            "EVENTS",
            "Corporate event Expenses",
            "SAPECCFE3_0000208804",
            31
           ],
           [
            "EVENTS",
            "Entertainment expenses (No deductible)",
            "SAPECCFE3_0000124143",
            3
           ],
           [
            "EVENTS",
            "No Commercial Sponsorships",
            "SAPECCFE3_0000189859",
            2
           ],
           [
            "EVENTS",
            "Public relation costs",
            "SAPECCFE3_0000187443",
            22
           ],
           [
            "EVENTS (LOCAL)",
            "ITL - Altre spese di rappresentanza",
            "SAPECCFE3_0000077000",
            2
           ],
           [
            "EVENTS (LOCAL)",
            "ITL - Spese di rappresentanza",
            "SAPECCFE3_0000018760",
            2
           ],
           [
            "EVENTS (LOCAL)",
            "ITL - Spese di rappresentanza min valore",
            "SAPECCFE3_0000209105",
            1
           ],
           [
            "EXPORT OTHER COMMODITIES (AUTOMATIC)",
            "Transport Intermediate Products",
            "SAPECCFE3_0000013003",
            66
           ],
           [
            "EXPORT OTHER COMMODITIES (AUTOMATIC)",
            "Transport Packaging",
            "SAPECCFE3_0000090187",
            1
           ],
           [
            "EXPORT OTHER COMMODITIES (AUTOMATIC)",
            "Transport Raw Materials",
            "SAPECCFE3_0000039063",
            1
           ],
           [
            "EXPORT OTHER COMMODITIES (AUTOMATIC)",
            "Transport Semi Finished",
            "SAPECCFE3_0000013003",
            23
           ],
           [
            "EXPORT OTHER COMMODITIES (AUTOMATIC)",
            "Transport Surprises",
            "SAPECCFE3_0000013003",
            6
           ],
           [
            "FACILITY MANAGEMENT HARDSERVICES FOR INDUSTRIAL LOCATIONS",
            "Civil maintenance",
            "SAPECCFIP_0000609985",
            68
           ],
           [
            "FACILITY MANAGEMENT HARDSERVICES FOR INDUSTRIAL LOCATIONS",
            "Electrical Maintenance",
            "SAPECCFE3_0000193904",
            19
           ],
           [
            "FACILITY MANAGEMENT HARDSERVICES FOR INDUSTRIAL LOCATIONS",
            "Integrated Facility Maintenance",
            "SAPECCFE3_0000029969",
            2
           ],
           [
            "FACILITY MANAGEMENT HARDSERVICES FOR INDUSTRIAL LOCATIONS",
            "Mechanical maintenance",
            "SAPECCFE3_0000118363",
            14
           ],
           [
            "FACILITY MANAGEMENT SOFTSERVICES FOR INDUSTRIAL LOCATIONS",
            "Cleaning Consultancy and Services",
            "SAPECCFIP_0000107220",
            264
           ],
           [
            "FACILITY MANAGEMENT SOFTSERVICES FOR INDUSTRIAL LOCATIONS",
            "Pest Control",
            "SAPECCFE3_0000159626",
            25
           ],
           [
            "FACILITY MANAGEMENT SOFTSERVICES FOR INDUSTRIAL LOCATIONS",
            "Technical Cleaning material",
            "SAPECCFE3_0000012059",
            177
           ],
           [
            "FACILITY MANAGEMENT SOFTSERVICES FOR INDUSTRIAL LOCATIONS",
            "Waste Management for industrial location",
            "SAPECCFIP_0000607982",
            15
           ],
           [
            "FACILITY MANAGEMENT SOFTSERVICES FOR INDUSTRIAL LOCATIONS",
            "Waste Water Treatment Services",
            "SAPECCFE3_0000162573",
            7
           ],
           [
            "FLEET",
            "Company Vehicles - Fuel, Oil and other",
            "SAPECCFIP_0000617867",
            53
           ],
           [
            "FLEET",
            "Company Vehicles - Lease",
            "SAPECCFIP_0000616752",
            96
           ],
           [
            "FLEET",
            "Company Vehicles - Maintenance costs",
            "SAPECCFE3_0000197170",
            216
           ],
           [
            "FLEET",
            "Company Vehicles - Management costs",
            "SAPECCFE3_0000052891",
            7
           ],
           [
            "FLEET",
            "Company Vehicles - Other vehicles",
            "SAPECCFIP_0000617635",
            6
           ],
           [
            "FLEET",
            "Company Vehicles - Purchase",
            "SAPECCFE3_0000208307",
            3
           ],
           [
            "FLEET (LOCAL)",
            "TR - Company Vehicles - Fuel, Oil and other (GenAdm)",
            "SAPECCFE3_0000113725",
            41
           ],
           [
            "FLEET (LOCAL)",
            "TR - Company Vehicles - Fuel, Oil and other (GenProd)",
            "SAPECCFE3_0000113725",
            29
           ],
           [
            "FLEET (LOCAL)",
            "TR - Company Vehicles - Lease (GenAdm)",
            "SAPECCFE3_0000070129",
            16
           ],
           [
            "FLEET (LOCAL)",
            "TR - Company Vehicles - Lease (GenProd)",
            "SAPECCFE3_0000070129",
            6
           ],
           [
            "FLEET (LOCAL)",
            "TR - Company Vehicles - Lease (S-Wh)",
            "SAPECCFE3_0000070129",
            3
           ],
           [
            "FLEET (LOCAL)",
            "TR - Company Vehicles - Maintenance costs (GenProd)",
            "SAPECCFE3_0000146075",
            1
           ],
           [
            "FOOD SERVICES",
            "CANTEEN SERVICES",
            "SAPECCFIP_0000618829",
            104
           ],
           [
            "FOOD SERVICES",
            "Catering services",
            "SAPECCFE3_0000184235",
            31
           ],
           [
            "FOOD SERVICES",
            "TICKETS RESTAURANT",
            "SAPECCFE3_0000093418",
            65
           ],
           [
            "FOOD SERVICES (LOCAL)",
            "TR - Canteen Services (GenAdm)",
            "SAPECCFE3_0000147063",
            44
           ],
           [
            "FOOD SERVICES (LOCAL)",
            "TR - Canteen Services (GenProd)",
            "SAPECCFE3_0000147063",
            35
           ],
           [
            "FREIGHT FORWARDING AGENCIES",
            "CUSTOM DECLARATION SERVICES",
            "SAPECCFE3_0000128315",
            60
           ],
           [
            "FREIGHT FORWARDING AGENCIES",
            "Customs Docum./Forwarder Services Finish Products",
            "SAPECCFE3_0000157987",
            467
           ],
           [
            "FREIGHT FORWARDING AGENCIES",
            "Customs Docum./Forwarder Services Interm-Finished Prd-FI",
            "SAPECCFE3_0000164335",
            284
           ],
           [
            "FREIGHT FORWARDING AGENCIES",
            "Customs Docum./Forwarder Services Packaging",
            "SAPECCFE3_0000184049",
            69
           ],
           [
            "FREIGHT FORWARDING AGENCIES",
            "Customs Docum./Forwarder Services RAW MATERIALS",
            "SAPECCFE3_0000197063",
            81
           ],
           [
            "FREIGHT FORWARDING AGENCIES",
            "Customs Docum./Forwarder Services SEMI-FINISHED GOODS",
            "SAPECCFE3_0000119430",
            42
           ],
           [
            "FREIGHT FORWARDING AGENCIES",
            "Customs Docum./Forwarder Services Surprises",
            "SAPECCFE3_0000184049",
            609
           ],
           [
            "FUMIGATION",
            "Fumigation RAW MATERIALS",
            "SAPECCFE3_0000210638",
            1
           ],
           [
            "FUMIGATION",
            "Fumigation Svc",
            "SAPECCFE3_0000185303",
            2
           ],
           [
            "GADGETS",
            "GADGET",
            "SAPECCFE3_0000085062",
            7
           ],
           [
            "GADGETS",
            "GADGET OTHER",
            "SAPECCFE3_0000152295",
            2
           ],
           [
            "GADGETS",
            "In-Pack Gadgets_Commercial Co-Pack",
            "SAPECCFE3_0000010471",
            8
           ],
           [
            "GADGETS",
            "In-Pack Gadgets_Industrial co-pack",
            "SAPECCFE3_0000165845",
            21
           ],
           [
            "GADGETS",
            "Services Gadget",
            "SAPECCFE3_0000101385",
            3
           ],
           [
            "HANDLING",
            "Forklift And Machinery Rentals (Ops)",
            "SAPECCFE3_0000099619",
            5
           ],
           [
            "HANDLING",
            "Handling Finish Products",
            "SAPECCFE3_0000164335",
            31
           ],
           [
            "HANDLING",
            "Handling Interm-Finished Prd-FI",
            "SAPECCFE3_0000164335",
            88
           ],
           [
            "HANDLING",
            "Handling RAW MATERIALS",
            "SAPECCFE3_0000164335",
            49
           ],
           [
            "HANDLING",
            "Handling Services",
            "SAPECCFE3_0000061548",
            45
           ],
           [
            "HARDWARE - PURCHASE/LEASING/MAINTENANCE",
            "Hardware - Leasing End-User Computing",
            "SAPECCFE3_0000012558",
            31
           ],
           [
            "HARDWARE - PURCHASE/LEASING/MAINTENANCE",
            "Hardware - Leasing High Value Server&Storage (>5000$)",
            "SAPECCFE3_0000011180",
            41
           ],
           [
            "HARDWARE - PURCHASE/LEASING/MAINTENANCE",
            "Hardware - Leasing Low Value Server&Storage (<5000$)",
            "SAPECCFE3_0000113445",
            4
           ],
           [
            "HARDWARE - PURCHASE/LEASING/MAINTENANCE",
            "Hardware - Leasing Printers",
            "SAPECCFE3_0000146450",
            5
           ],
           [
            "HARDWARE - PURCHASE/LEASING/MAINTENANCE",
            "Hardware - Maintenance",
            "SAPECCFE3_0000088928",
            19
           ],
           [
            "HARDWARE - PURCHASE/LEASING/MAINTENANCE",
            "Hardware - Maintenance Server&Storage",
            "SAPECCFE3_0000179494",
            20
           ],
           [
            "HARDWARE - PURCHASE/LEASING/MAINTENANCE",
            "Hardware - Maintenance Voice and Data Network",
            "SAPECCFE3_0000102345",
            8
           ],
           [
            "HARDWARE - PURCHASE/LEASING/MAINTENANCE",
            "Hardware - Purchase End-User Computing CAPEX",
            "SAPECCFE3_0000184630",
            82
           ],
           [
            "HARDWARE - PURCHASE/LEASING/MAINTENANCE",
            "Hardware - Purchase Server&Storage CAPEX",
            "SAPECCFE3_0000177840",
            112
           ],
           [
            "HARDWARE - PURCHASE/LEASING/MAINTENANCE",
            "Hardware - Purchase Voice and Data Network CAPEX",
            "SAPECCFE3_0000050996",
            36
           ],
           [
            "HARDWARE - PURCHASE/LEASING/MAINTENANCE",
            "Hardware - Purchase for Mobile devices",
            "SAPECCFE3_0000181240",
            8
           ],
           [
            "HARDWARE - PURCHASE/LEASING/MAINTENANCE",
            "Hardware - Purchase for Videoconference devices",
            "SAPECCFE3_0000178168",
            6
           ],
           [
            "HARDWARE - PURCHASE/LEASING/MAINTENANCE",
            "Hardware-Leasing High Value Voice and Data Network (>5000$)",
            "SAPECCFE3_0000011180",
            12
           ],
           [
            "HARDWARE - PURCHASE/LEASING/MAINTENANCE",
            "Hardware-Leasing Low Value Voice and Data Network (<5000$)",
            "SAPECCFE3_0000182903",
            8
           ],
           [
            "HARDWARE - SUBSCRIPTIONS INFRA",
            "Hardware - Server&Storage (IaaS)",
            "SAPECCFE3_0000183337",
            7
           ],
           [
            "INDUSTRIAL AUTOMATION AND ROBOTICS",
            "Automation Technical Materials",
            "SAPECCFIP_0000109460",
            37
           ],
           [
            "INDUSTRIAL AUTOMATION AND ROBOTICS",
            "Automation professional services",
            "SAPECCFE3_0000043459",
            9
           ],
           [
            "INDUSTRIAL AUTOMATION AND ROBOTICS",
            "CPX - Automation and Digital Software",
            "SAPECCFE3_0000015255",
            3
           ],
           [
            "INDUSTRIAL AUTOMATION AND ROBOTICS",
            "CPX Electrical and Automation Cabinets",
            "SAPECCFIP_0000423335",
            46
           ],
           [
            "INDUSTRIAL AUTOMATION AND ROBOTICS",
            "CPX Industrial robotic application system",
            "SAPECCFE3_0000015246",
            5
           ],
           [
            "INDUSTRIAL AUTOMATION AND ROBOTICS",
            "CPX-Flexible & Advanced Robotics (e.g. cobots,AGV/AMR,drones",
            "SAPECCFE3_0000183000",
            1
           ],
           [
            "INDUSTRIAL AUTOMATION AND ROBOTICS",
            "OPX - Software, Licence Fee, Assistance",
            "SAPECCFIP_0000602547",
            14
           ],
           [
            "INFRASTRUCTURE",
            "CPX: Civil Equipment / Works",
            "SAPECCFE3_0000197623",
            22
           ],
           [
            "INFRASTRUCTURE",
            "CPX: Electrical Equipment & Installation",
            "SAPECCFE3_0000174783",
            7
           ],
           [
            "INFRASTRUCTURE",
            "CPX: Energy (Sustainability) / Investments",
            "SAPECCFE3_0000197074",
            4
           ],
           [
            "INFRASTRUCTURE",
            "CPX: General Contractos",
            "SAPECCFE3_0000154665",
            14
           ],
           [
            "INFRASTRUCTURE",
            "CPX: Mechanical Equipment & Installation",
            "SAPECCFE3_0000186405",
            33
           ],
           [
            "INFRASTRUCTURE",
            "CPX: Waste Water & Gas Treatment",
            "SAPECCFE3_0000139496",
            1
           ],
           [
            "INFRASTRUCTURE",
            "Plant Utilities EaaS (Equipment as a Service)",
            "SAPECCFE3_0000086754",
            9
           ],
           [
            "INFRASTRUCTURE",
            "Property acquisition",
            "SAPECCFE3_0000201343",
            8
           ],
           [
            "INFRASTRUCTURE",
            "Specific Material For Utilities Machinery And Equipment",
            "SAPECCFE3_0000026478",
            3
           ],
           [
            "INSURANCE SERVICES",
            "Cargo (Insurance)",
            "SAPECCFE3_0000011277",
            4
           ],
           [
            "INSURANCE SERVICES",
            "Client receivables insurance",
            "SAPECCFE3_0000088242",
            7
           ],
           [
            "INSURANCE SERVICES",
            "Cyber Insurance",
            "SAPECCFE3_0000011277",
            21
           ],
           [
            "INSURANCE SERVICES",
            "D&O (Insurance)",
            "SAPECCFE3_0000011277",
            4
           ],
           [
            "INSURANCE SERVICES",
            "Environmental EIL (Insurance)",
            "SAPECCFE3_0000011277",
            1
           ],
           [
            "INSURANCE SERVICES",
            "Liability (Insurance)",
            "SAPECCFE3_0000011277",
            11
           ],
           [
            "INSURANCE SERVICES",
            "Motor vehicle insurance",
            "SAPECCFE3_0000159707",
            47
           ],
           [
            "INSURANCE SERVICES",
            "Optional insurance employees",
            "SAPECCFE3_0000158413",
            19
           ],
           [
            "INSURANCE SERVICES",
            "Optional insurance manager",
            "SAPECCFE3_0000188934",
            7
           ],
           [
            "INSURANCE SERVICES",
            "Personal Insurance",
            "SAPECCFE3_0000135517",
            37
           ],
           [
            "INSURANCE SERVICES",
            "Property Damage and Business Interruption",
            "SAPECCFE3_0000061658",
            9
           ],
           [
            "INSURANCE SERVICES",
            "SUND.LOCAL TX&DUTY",
            "SAPECCFE3_0000189561",
            6
           ],
           [
            "INSURANCE SERVICES",
            "SUNDRY INSURANCE",
            "SAPECCFE3_0000065900",
            32
           ],
           [
            "INSURANCE SERVICES",
            "Travel insurance",
            "SAPECCFE3_0000200574",
            1
           ],
           [
            "INSURANCE SERVICES (LOCAL)",
            "TR - Personal insurance (GenAdm)",
            "SAPECCFE3_0000070123",
            2
           ],
           [
            "INSURANCE SERVICES (LOCAL)",
            "TR - Sundry insurance (GenAdm)",
            "SAPECCFE3_0000093665",
            1
           ],
           [
            "LABORATORY EQUIPMENT AND SERVICES",
            "CHEMICAL MATERIAL",
            "SAPECCFE3_0000012497",
            94
           ],
           [
            "LABORATORY EQUIPMENT AND SERVICES",
            "CPX: Equipment",
            "SAPECCFIP_0000327115",
            23
           ],
           [
            "LABORATORY EQUIPMENT AND SERVICES",
            "Consumable",
            "SAPECCFE3_0000185337",
            73
           ],
           [
            "LABORATORY EQUIPMENT AND SERVICES",
            "Laboratory",
            "SAPECCFE3_0000016003",
            80
           ],
           [
            "LABORATORY EQUIPMENT AND SERVICES",
            "Maintenance And Services On Laboratory Equipments",
            "SAPECCFE3_0000173575",
            39
           ],
           [
            "LABORATORY EQUIPMENT AND SERVICES",
            "Technical Consultancy And External Lab Analysis",
            "SAPECCFE3_0000174868",
            36
           ],
           [
            "LEGAL & NOTARY SERVICES (LOCAL)",
            "TR - Expenses for notary charges (GenAdm)",
            "SAPECCFE3_0000190494",
            2
           ],
           [
            "LEGAL & TAX SERVICES",
            "Legal Advisory",
            "SAPECCFE3_0000126032",
            19
           ],
           [
            "LEGAL & TAX SERVICES",
            "Legal services",
            "SAPECCFE3_0000102506",
            4
           ],
           [
            "LEGAL & TAX SERVICES",
            "Patents management / Intellectual Property (IP)",
            "SAPECCFE3_0000037354",
            1
           ],
           [
            "LEGAL & TAX SERVICES",
            "Tax & Customs Services Cost",
            "SAPECCFE3_0000181526",
            2
           ],
           [
            "LEGAL & TAX SERVICES",
            "Web domain management",
            "SAPECCFE3_0000028429",
            1
           ],
           [
            "LEGAL CONSULTING (LOCAL)",
            "TR - HR&OI Consulting (GenAdm)",
            "SAPECCFE3_0000187524",
            3
           ],
           [
            "LEGAL CONSULTING (LOCAL)",
            "TR - Legal consulting (GenAdm)",
            "SAPECCFE3_0000078825",
            10
           ],
           [
            "LICENSING & RIGHTS",
            "Licensing - Brands & Content DIGITAL",
            "SAPECCFIP_0000616830",
            7
           ],
           [
            "LICENSING & RIGHTS",
            "Licensing - Brands & Content TRADITIONAL",
            "SAPECCFE3_0000110271",
            14
           ],
           [
            "LICENSING & RIGHTS",
            "Licensing - Music DIGITAL",
            "SAPECCFE3_0000015052",
            5
           ],
           [
            "LICENSING & RIGHTS",
            "Licensing - Music TRADITIONAL",
            "SAPECCFE3_0000189225",
            1
           ],
           [
            "LICENSING & RIGHTS",
            "Rights buyout-Authors,Artists,Performers,Personality DIGITAL",
            "SAPECCFIP_0000616830",
            8
           ],
           [
            "LICENSING & RIGHTS",
            "Rights buyout-Authors,Artists,Performers,Personality TRADI",
            "SAPECCFE3_0000031538",
            13
           ],
           [
            "MAINTENANCE & IMPROVEMENTS",
            "BUILDING MAINTENANCE",
            "SAPECCFE3_0000174924",
            44
           ],
           [
            "MAINTENANCE & IMPROVEMENTS",
            "Building Third Party - Improvements & Equipment Cost",
            "SAPECCFE3_0000191912",
            3
           ],
           [
            "MAINTENANCE & IMPROVEMENTS",
            "Building owned - Improvements & equipment cost",
            "SAPECCFE3_0000198990",
            37
           ],
           [
            "MAINTENANCE & IMPROVEMENTS",
            "Building owned - Improvements cost",
            "SAPECCFE3_0000143801",
            4
           ],
           [
            "MAINTENANCE & IMPROVEMENTS",
            "Ground and green areas maintenance,inclu industrial premises",
            "SAPECCFE3_0000011683",
            8
           ],
           [
            "MAINTENANCE & IMPROVEMENTS",
            "Industrial Cleaning",
            "SAPECCFE3_0000012930",
            34
           ],
           [
            "MAINTENANCE & IMPROVEMENTS",
            "Office machines & equipment - Investment",
            "SAPECCFE3_0000034836",
            28
           ],
           [
            "MAINTENANCE & IMPROVEMENTS",
            "Office machines & equipment - Maintenance",
            "SAPECCFE3_0000200313",
            19
           ],
           [
            "MAINTENANCE & IMPROVEMENTS",
            "Research & Development cost",
            "SAPECCFE3_0000012930",
            7
           ],
           [
            "MAINTENANCE & IMPROVEMENTS",
            "Waste treatment, recycling and disposal services",
            "SAPECCFE3_0000036554",
            39
           ],
           [
            "MAINTENANCE & IMPROVEMENTS (LOCAL)",
            "TR - Building Maintenance (GenAdm)",
            "SAPECCFE3_0000070050",
            9
           ],
           [
            "MAINTENANCE & IMPROVEMENTS (LOCAL)",
            "TR - Ground and green areas maintenance (GenAdm)",
            "SAPECCFIP_0000484180",
            3
           ],
           [
            "MAINTENANCE & IMPROVEMENTS (LOCAL)",
            "TR - Ground and green areas maintenance (GenProd)",
            "SAPECCFE3_0000070050",
            3
           ],
           [
            "MAINTENANCE & IMPROVEMENTS (LOCAL)",
            "TR - Handyman services (GenAdm)",
            "SAPECCFE3_0000161198",
            12
           ],
           [
            "MAINTENANCE & IMPROVEMENTS (LOCAL)",
            "TR - Waste treatment, recycling and disposal services (S-Wh)",
            "SAPECCFE3_0000147277",
            1
           ],
           [
            "MAINTENANCE & IMPROVEMENTS (LOCAL)",
            "TR-Waste treatment,recycling and disposal services (GenProd)",
            "SAPECCFE3_0000093721",
            1
           ],
           [
            "MAINTENANCE SERVICES",
            "CPX - Services in project scope",
            "SAPECCFE3_0000153472",
            5
           ],
           [
            "MAINTENANCE SERVICES",
            "Maintenace service not depreciable (Maintenance Order)",
            "SAPECCFE3_0000116096",
            13
           ],
           [
            "MAINTENANCE SERVICES",
            "OPX - Extraordinary Maintenance",
            "SAPECCFE3_0000195019",
            13
           ],
           [
            "MAINTENANCE SERVICES",
            "OPX - Ordinary Maintenance",
            "SAPECCFIP_0000469602",
            198
           ],
           [
            "MAINTENANCE SERVICES",
            "OPX - Retrofit/revamping of an equipment or line",
            "SAPECCFE3_0000056763",
            2
           ],
           [
            "MAINTENANCE SERVICES",
            "Rental Services Fee",
            "SAPECCFE3_0000016488",
            4
           ],
           [
            "MAN WORK PER HOUR",
            "Man work per hour svc",
            "SAPECCFE3_0000171147",
            3
           ],
           [
            "MARKET MEASUREMENT",
            "Ad hoc reports/analysis on syndicated data (excl RMS)",
            "SAPECCFE3_0000180901",
            98
           ],
           [
            "MARKET MEASUREMENT",
            "Consumer panel on-going subscriptions",
            "SAPECCFE3_0000028961",
            18
           ],
           [
            "MARKET MEASUREMENT",
            "Other syndicated subscriptions (excluding RMS, CPS)",
            "SAPECCFIP_0000499943",
            22
           ],
           [
            "MARKET MEASUREMENT",
            "Panel SPE management",
            "SAPECCFE3_0000010076",
            16
           ],
           [
            "MARKET MEASUREMENT",
            "Purchase of product sampling",
            "SAPECCFE3_0000020427",
            4
           ],
           [
            "MARKET MEASUREMENT",
            "Subscriptions on Market measurement (license fees)",
            "SAPECCFE3_0000188110",
            81
           ],
           [
            "MARKETING EVENTS",
            "Brand promotion events",
            "SAPECCFE3_0000011457",
            6
           ],
           [
            "MARKETING EVENTS",
            "Testimonials Costs",
            "SAPECCFE3_0000189470",
            5
           ],
           [
            "MERCHANDISING & HOSTESS & BROKER COMMISSIONS",
            "Broker Commissions",
            "SAPECCFE3_0000150575",
            3
           ],
           [
            "MERCHANDISING & HOSTESS & BROKER COMMISSIONS",
            "Hostess services",
            "SAPECCFE3_0000135711",
            43
           ],
           [
            "MERCHANDISING & HOSTESS & BROKER COMMISSIONS",
            "Merchandising services",
            "SAPECCFE3_0000089020",
            27
           ],
           [
            "MOLDING & OVENS",
            "CPX - Basin",
            "SAPECCFE3_0000203265",
            15
           ],
           [
            "MOLDING & OVENS",
            "CPX - Dosing & Enrobing",
            "SAPECCFE3_0000019628",
            10
           ],
           [
            "MOLDING & OVENS",
            "CPX - Handling Systems",
            "SAPECCFE3_0000019628",
            3
           ],
           [
            "MOLDING & OVENS",
            "CPX - Molding :  Ferrero Design & Build",
            "SAPECCFE3_0000057302",
            17
           ],
           [
            "MOLDING & OVENS",
            "CPX - Molding equipment",
            "SAPECCFE3_0000057302",
            21
           ],
           [
            "MOLDING & OVENS",
            "CPX - Molds and Forming Equipments",
            "SAPECCFE3_0000017067",
            30
           ],
           [
            "MOLDING & OVENS",
            "CPX - Oven",
            "SAPECCFE3_0000015701",
            4
           ],
           [
            "MOLDING & OVENS",
            "CPX - Plate Oven",
            "SAPECCFE3_0000056506",
            3
           ],
           [
            "MOLDING & OVENS",
            "CPX - Tempering",
            "SAPECCFE3_0000010856",
            13
           ],
           [
            "MOLDING & OVENS",
            "CPX - Thermic tunnels",
            "SAPECCFE3_0000200770",
            5
           ],
           [
            "MOLDING & OVENS",
            "Process Engineering professional services",
            "SAPECCFE3_0000034572",
            15
           ],
           [
            "NUTS EQUIPMENT & AGRI MOBILE MACHINE",
            "CPX - Agri mobile machine (tractor, harvester)",
            "SAPECCFE3_0000048836",
            4
           ],
           [
            "NUTS EQUIPMENT & AGRI MOBILE MACHINE",
            "CPX - Calibrator",
            "SAPECCFE3_0000193320",
            2
           ],
           [
            "NUTS EQUIPMENT & AGRI MOBILE MACHINE",
            "CPX - Conveyors,Elevators,Transports, Big Bag station",
            "SAPECCFE3_0000170340",
            2
           ],
           [
            "NUTS EQUIPMENT & AGRI MOBILE MACHINE",
            "CPX - General Contractor",
            "SAPECCFE3_0000203247",
            1
           ],
           [
            "NUTS EQUIPMENT & AGRI MOBILE MACHINE",
            "CPX - Optical sorters",
            "SAPECCFE3_0000105909",
            4
           ],
           [
            "NUTS EQUIPMENT & AGRI MOBILE MACHINE",
            "CPX - Pre-Cleaning/Drying/Vacuum system",
            "SAPECCFE3_0000049256",
            5
           ],
           [
            "NUTS EQUIPMENT & AGRI MOBILE MACHINE",
            "CPX - Shellers",
            "SAPECCFE3_0000196492",
            3
           ],
           [
            "NUTS EQUIPMENT & AGRI MOBILE MACHINE",
            "CPX - Silos",
            "SAPECCFE3_0000117020",
            3
           ],
           [
            "NUTS EQUIPMENT & AGRI MOBILE MACHINE",
            "OPX - Agri Mobile Machine (Tractor, Harvester)",
            "SAPECCFE3_0000200147",
            4
           ],
           [
            "OFFICE SUPPLIES AND SERVICES",
            "Archiving Services",
            "SAPECCFE3_0000111794",
            11
           ],
           [
            "OFFICE SUPPLIES AND SERVICES",
            "Office Furniture - Capex",
            "SAPECCFE3_0000203325",
            116
           ],
           [
            "OFFICE SUPPLIES AND SERVICES",
            "Office supplies",
            "SAPECCFE3_0000031341",
            1194
           ],
           [
            "OFFICE SUPPLIES AND SERVICES",
            "Other Consumables, Material and Small Supplies",
            "SAPECCFIP_0000610237",
            514
           ],
           [
            "OFFICE SUPPLIES AND SERVICES",
            "Postage & Couriers Fees",
            "SAPECCFE3_0000060505",
            21
           ],
           [
            "OFFICE SUPPLIES AND SERVICES",
            "Printing Supplies",
            "SAPECCFIP_0000411272",
            300
           ],
           [
            "OFFICE SUPPLIES AND SERVICES",
            "Printing, photography and videomaking services",
            "SAPECCFIP_0000605348",
            20
           ],
           [
            "OFFICE SUPPLIES AND SERVICES",
            "Safety supplies",
            "SAPECCFE3_0000115178",
            34
           ],
           [
            "OFFICE SUPPLIES AND SERVICES (LOCAL)",
            "TR - Accessories technology supplies (GenAdm)",
            "SAPECCFE3_0000070028",
            1
           ],
           [
            "OFFICE SUPPLIES AND SERVICES (LOCAL)",
            "TR - Accessories technology supplies (GenProd)",
            "SAPECCFE3_0000189502",
            1
           ],
           [
            "OFFICE SUPPLIES AND SERVICES (LOCAL)",
            "TR - Archiving Services (GenAdm)",
            "SAPECCFE3_0000114631",
            20
           ],
           [
            "OFFICE SUPPLIES AND SERVICES (LOCAL)",
            "TR - Office supplies (GenAdm)",
            "SAPECCFE3_0000168740",
            38
           ],
           [
            "OFFICE SUPPLIES AND SERVICES (LOCAL)",
            "TR - Office supplies (GenProd)",
            "SAPECCFE3_0000168740",
            10
           ],
           [
            "OFFICE SUPPLIES AND SERVICES (LOCAL)",
            "TR - Postage & Couriers Fees (GenAdm)",
            "SAPECCFE3_0000137717",
            11
           ],
           [
            "OFFICE SUPPLIES AND SERVICES (LOCAL)",
            "TR - Postage & Couriers Fees (GenProd)",
            "SAPECCFE3_0000048852",
            2
           ],
           [
            "OFFICE SUPPLIES AND SERVICES (LOCAL)",
            "TR - Printing Supplies (GenProd)",
            "SAPECCFE3_0000146229",
            1
           ],
           [
            "OFFICE SUPPLIES AND SERVICES (LOCAL)",
            "TR - Safety supplies (GenAdm)",
            "SAPECCFE3_0000094225",
            1
           ],
           [
            "OFFICE SUPPLIES AND SERVICES (LOCAL)",
            "TR - Small Furniture - Opex (GenAdm)",
            "SAPECCFE3_0000070028",
            2
           ],
           [
            "OFFICE SUPPLIES AND SERVICES (LOCAL)",
            "TR - Small Furniture - Opex (GenProd)",
            "SAPECCFE3_0000167936",
            1
           ],
           [
            "OFFICE SUPPLIES AND SERVICES (LOCAL)",
            "TR - Tolls and parking",
            "SAPECCFE3_0000050074",
            30
           ],
           [
            "OTHER CONSULTING (LOCAL)",
            "TR - IA & Corporate Communication consulting (GenAdm)",
            "SAPECCFE3_0000155827",
            1
           ],
           [
            "OTHER CONSULTING (LOCAL)",
            "TR - Technical Consulting non-Industrial Buildings (GenAdm)",
            "SAPECCFE3_0000161292",
            2
           ],
           [
            "OTHER LOGISTICS COSTS",
            "OTHER LOGISTIC COSTS",
            "SAPECCFE3_0000164335",
            120
           ],
           [
            "OTHER LOGISTICS COSTS",
            "Quality Premium Interm-Finished Prd-FI",
            "SAPECCFE3_0000127684",
            4
           ],
           [
            "OTHER NON GP SERVICES",
            "Penalties and Fines (deductible)",
            "SAPECCFE3_0000032382",
            15
           ],
           [
            "OTHER SALES SERVICES",
            "Retail Data monitoring",
            "SAPECCFIP_0000615418",
            31
           ],
           [
            "OTHER SALES SERVICES",
            "Sales and B2B Events",
            "SAPECCFE3_0000174682",
            4
           ],
           [
            "OUTSOURCING - NETWORK TRANSMISSION (LOCAL)",
            "TR - Opx Voice, Data Network-Transms(GenAdm)",
            "SAPECCFE3_0000093606",
            14
           ],
           [
            "PALLETTS PURCHASING MTL",
            "1/4 Wood Pallets",
            "SAPECCFIP_0000605648",
            6
           ],
           [
            "PALLETTS PURCHASING MTL",
            "Epal 80x120 Pallets New",
            "SAPECCFE3_0000082107",
            30
           ],
           [
            "PALLETTS PURCHASING MTL",
            "Epal 80x120 Pallets Used 1st Choice",
            "SAPECCFE3_0000017593",
            1
           ],
           [
            "PALLETTS PURCHASING MTL",
            "Industrial 100x120 Pallets",
            "SAPECCFE3_0000177341",
            6
           ],
           [
            "PALLETTS RENT & LEASE SVC",
            "Rental 1/2 Plastic Pallets",
            "SAPECCFE3_0000158295",
            4
           ],
           [
            "PALLETTS RENT & LEASE SVC",
            "Rental 1/4 Plastic Pallets",
            "SAPECCFE3_0000056027",
            168
           ],
           [
            "PALLETTS RENT & LEASE SVC",
            "Rental 80x120 Pallets",
            "SAPECCFE3_0000054124",
            5
           ],
           [
            "PALLETTS RENT & LEASE SVC",
            "Rental Industrial 100x120 Pallets",
            "SAPECCFE3_0000145242",
            5
           ],
           [
            "PAYROLL",
            "PAYROLL SERVICES",
            "SAPECCFE3_0000105400",
            50
           ],
           [
            "PICKING",
            "Picking Finish Products",
            "SAPECCFIP_0000601355",
            8
           ],
           [
            "PICKING",
            "Picking Interm-Finished Prd-FI",
            "SAPECCFE3_0000128034",
            12
           ],
           [
            "PICKING",
            "Picking RAW MATERIALS",
            "SAPECCFE3_0000053213",
            1
           ],
           [
            "PICKING",
            "Picking Services",
            "SAPECCFE3_0000061548",
            34
           ],
           [
            "POS MATERIAL",
            "Communication POS material Production",
            "SAPECCFE3_0000049241",
            37
           ],
           [
            "POS MATERIAL",
            "In/Out Functional Display Production - Customized",
            "SAPECCFE3_0000177691",
            77
           ],
           [
            "POS MATERIAL",
            "In/Out Functional Display Production - Standard",
            "SAPECCFE3_0000173121",
            96
           ],
           [
            "POS MATERIAL",
            "In/Out Theatrical Materials Production - Customized",
            "SAPECCFE3_0000037779",
            62
           ],
           [
            "POS MATERIAL",
            "In/Out Theatrical Materials Production - Standard",
            "SAPECCFE3_0000137709",
            27
           ],
           [
            "POS MATERIAL",
            "POS material Development & Sampling",
            "SAPECCFIP_0000605266",
            160
           ],
           [
            "POS MATERIAL",
            "POS material Molds, Toolings, Die Cuts CAPEX",
            "SAPECCFE3_0000013062",
            4
           ],
           [
            "POS MATERIAL",
            "POS materials Storage and Logistic",
            "SAPECCFE3_0000196519",
            3641
           ],
           [
            "POS MATERIAL",
            "PROMOTIONAL POINT OF SALE",
            "SAPECCFE3_0000188355",
            93
           ],
           [
            "PREPARATION",
            "CPX - Belts",
            "SAPECCFE3_0000019628",
            4
           ],
           [
            "PREPARATION",
            "CPX - Cocoa Presses",
            "SAPECCFE3_0000180981",
            2
           ],
           [
            "PREPARATION",
            "CPX - Deodorizations",
            "SAPECCFE3_0000098262",
            2
           ],
           [
            "PREPARATION",
            "CPX - Dough Preparation",
            "SAPECCFE3_0000015701",
            1
           ],
           [
            "PREPARATION",
            "CPX - Liquid Handling & Processing",
            "SAPECCFE3_0000013925",
            4
           ],
           [
            "PREPARATION",
            "CPX - Powder handling & processing",
            "SAPECCFE3_0000014146",
            3
           ],
           [
            "PREPARATION",
            "CPX - Refiners (incl. prerefiners, conches, mills)",
            "SAPECCFIP_0000173452",
            14
           ],
           [
            "PREPARATION",
            "CPX - Roaster",
            "SAPECCFE3_0000100962",
            2
           ],
           [
            "PREPARATION",
            "CPX - Tanks (incl. mixer, plastificators)",
            "SAPECCFE3_0000010523",
            8
           ],
           [
            "PRIMARY PACKAGING",
            "CPX - Counter and filling machine",
            "SAPECCFE3_0000145055",
            3
           ],
           [
            "PRIMARY PACKAGING",
            "CPX - Flow wrapper",
            "SAPECCFE3_0000067920",
            9
           ],
           [
            "PRIMARY PACKAGING",
            "CPX - Infeed (incl. raw distributor system / buffer)",
            "SAPECCFE3_0000019458",
            3
           ],
           [
            "PRIMARY PACKAGING",
            "CPX - Sealing machine",
            "SAPECCFE3_0000054274",
            2
           ],
           [
            "PRIMARY PACKAGING",
            "CPX - Thermoforming",
            "SAPECCFE3_0000037925",
            2
           ],
           [
            "PRIMARY PACKAGING",
            "CPX - Wrapping machines",
            "SAPECCFE3_0000032786",
            6
           ],
           [
            "PRODUCTION",
            "Post-Production of Advertising Content DIGITAL",
            "SAPECCFE3_0000010296",
            41
           ],
           [
            "PRODUCTION",
            "Post-Production of Advertising Content TRADITIONAL",
            "SAPECCFE3_0000010296",
            59
           ],
           [
            "PRODUCTION",
            "Production of Advertising Content DIGITAL",
            "SAPECCFE3_0000083957",
            75
           ],
           [
            "PRODUCTION",
            "Production of Advertising Content TRADITIONAL - Radio",
            "SAPECCFE3_0000011267",
            19
           ],
           [
            "PRODUCTION",
            "Production of Advertising Content TRADITIONAL - TVC",
            "SAPECCFIP_0000613482",
            46
           ],
           [
            "PRODUCTION",
            "Production of Advertising Content TRADITIONAL-OOH,Static",
            "SAPECCFE3_0000136126",
            13
           ],
           [
            "PROMOTIONAL ITEMS",
            "Promotional items (including consumer giveaway)",
            "SAPECCFE3_0000055467",
            55
           ],
           [
            "PUBLIC RELATIONS",
            "Media Relations, Membership & Partnership",
            "SAPECCFE3_0000169431",
            3
           ],
           [
            "PUBLIC RELATIONS",
            "PR Communication Strategy, Advisory, Issues Management",
            "SAPECCFE3_0000167060",
            6
           ],
           [
            "PUBLIC RELATIONS",
            "PR Digital Activities & Tools",
            "SAPECCFE3_0000154278",
            6
           ],
           [
            "RAIL TRANSPORT",
            "Rail Surprises",
            "SAPECCFE3_0000019514",
            2
           ],
           [
            "REAL ESTATE",
            "Additional Services and Costs for Real Estate Lease",
            "SAPECCFE3_0000141196",
            8
           ],
           [
            "REAL ESTATE",
            "Co-working & flexible spaces lease",
            "SAPECCFE3_0000200114",
            1
           ],
           [
            "REAL ESTATE",
            "Local Small Building rent",
            "SAPECCFE3_0000010945",
            1
           ],
           [
            "REAL ESTATE",
            "Real Estate Office Lease",
            "SAPECCFE3_0000150512",
            19
           ],
           [
            "REAL ESTATE",
            "Real Estate Short-Term Lease <12 Months",
            "SAPECCFE3_0000183976",
            8
           ],
           [
            "REAL ESTATE",
            "Real estate Retail lease",
            "SAPECCFE3_0000151087",
            3
           ],
           [
            "REAL ESTATE",
            "Real estate others (no industrial, no supply chain)",
            "SAPECCFE3_0000187306",
            2
           ],
           [
            "REAL ESTATE (LOCAL)",
            "TR - Real Estate Office Lease (GenAdm)",
            "SAPECCFE3_0000191553",
            8
           ],
           [
            "RECRUITMENT SERVICE",
            "Job postings",
            "SAPECCFIP_0000618078",
            5
           ],
           [
            "RECRUITMENT SERVICE",
            "RECRUITMENT",
            "SAPECCFE3_0000078268",
            83
           ],
           [
            "RELOCATION",
            "Employees relocation services",
            "SAPECCFE3_0000187306",
            14
           ],
           [
            "RELOCATION",
            "Long Stay Relocation",
            "SAPECCFE3_0000189521",
            5
           ],
           [
            "REPACKING",
            "Repacking/Rebulking Finish Products",
            "SAPECCFE3_0000198306",
            160
           ],
           [
            "REPACKING",
            "Repacking/Rebulking RAW MATERIALS",
            "SAPECCFE3_0000086825",
            2
           ],
           [
            "RETAIL PANELS",
            "Ad hoc reports/ analysis performed on Retail Panel DB",
            "SAPECCFE3_0000113127",
            6
           ],
           [
            "RETAIL PANELS",
            "Retail Panels DB",
            "SAPECCFE3_0000121738",
            187
           ],
           [
            "RETAIL PANELS",
            "Subscriptions on Retail panels (license fees)",
            "SAPECCFIP_0000494380",
            3
           ],
           [
            "ROAD TRANSPORT",
            "Booking System Services - Third Parties (TBD)",
            "SAPECCFE3_0000013202",
            8
           ],
           [
            "ROAD TRANSPORT",
            "Destruction Product Transport",
            "SAPECCFE3_0000130663",
            40
           ],
           [
            "ROAD TRANSPORT",
            "EXPORT EXPENSES FOR",
            "SAPECCFE3_0000083315",
            159
           ],
           [
            "ROAD TRANSPORT",
            "Export Expenses For Various Sales",
            "SAPECCFE3_0000053213",
            102
           ],
           [
            "ROAD TRANSPORT",
            "Extra Cost  Transpor Finished product",
            "SAPECCFE3_0000164335",
            2041
           ],
           [
            "ROAD TRANSPORT",
            "Extra Cost  Transpor Interm-finished Product",
            "SAPECCFE3_0000164335",
            63
           ],
           [
            "ROAD TRANSPORT",
            "Extra Cost  Transpor Packaging",
            "SAPECCFE3_0000204376",
            68
           ],
           [
            "ROAD TRANSPORT",
            "Extra Cost  Transpor Raw Material",
            "SAPECCFE3_0000164335",
            334
           ],
           [
            "ROAD TRANSPORT",
            "Extra Cost  Transpor Semi-finished Product",
            "SAPECCFE3_0000164335",
            185
           ],
           [
            "ROAD TRANSPORT",
            "Extra Cost  Transpor Surprise",
            "SAPECCFE3_0000102477",
            573
           ],
           [
            "ROAD TRANSPORT",
            "Extra-waiting Finish Products",
            "SAPECCFE3_0000188157",
            73
           ],
           [
            "ROAD TRANSPORT",
            "Extra-waiting Interm-Finished Prd-FI",
            "SAPECCFE3_0000198510",
            6
           ],
           [
            "ROAD TRANSPORT",
            "Extra-waiting Packaging",
            "SAPECCFE3_0000118914",
            2
           ],
           [
            "ROAD TRANSPORT",
            "Extra-waiting RAW MATERIALS",
            "SAPECCFE3_0000086888",
            36
           ],
           [
            "ROAD TRANSPORT",
            "Extra-waiting SEMI-FINISHED GOODS",
            "SAPECCFE3_0000086888",
            32
           ],
           [
            "ROAD TRANSPORT",
            "Extra-waiting Surprises",
            "SAPECCFE3_0000038049",
            14
           ],
           [
            "ROAD TRANSPORT",
            "Inspections/Sanitary Controls Finish Products",
            "SAPECCFE3_0000166725",
            143
           ],
           [
            "ROAD TRANSPORT",
            "Inspections/Sanitary Controls Interm-Finished Prd-FI",
            "SAPECCFE3_0000086758",
            1
           ],
           [
            "ROAD TRANSPORT",
            "Inspections/Sanitary Controls SEMI-FINISHED GOODS",
            "SAPECCFE3_0000086888",
            7
           ],
           [
            "ROAD TRANSPORT",
            "Road Finish Products",
            "SAPECCFE3_0000157987",
            225
           ],
           [
            "ROAD TRANSPORT",
            "Road Interm-Finished Prd-FI",
            "SAPECCFE3_0000110968",
            47
           ],
           [
            "ROAD TRANSPORT",
            "Road Packaging",
            "SAPECCFE3_0000147554",
            340
           ],
           [
            "ROAD TRANSPORT",
            "Road RAW MATERIALS",
            "SAPECCFE3_0000011968",
            108
           ],
           [
            "ROAD TRANSPORT",
            "Road SEMI-FINISHED GOODS",
            "SAPECCFE3_0000198510",
            66
           ],
           [
            "ROAD TRANSPORT",
            "Road Surprises",
            "SAPECCFE3_0000102714",
            258
           ],
           [
            "ROAD TRANSPORT",
            "Road Transportation",
            "SAPECCFE3_0000121401",
            24178
           ],
           [
            "ROAD TRANSPORT",
            "Road Transportation Administrative Costs",
            "SAPECCFE3_0000110968",
            7
           ],
           [
            "ROAD TRANSPORT",
            "Road Transportation Costs For Foreign Stays (Demurrages)",
            "SAPECCFE3_0000198510",
            132
           ],
           [
            "ROAD TRANSPORT",
            "Road Transportation Finished Products Export Costs",
            "SAPECCFE3_0000198510",
            463
           ],
           [
            "ROAD TRANSPORT",
            "Road Transportation Fleet Rental & Depots",
            "SAPECCFE3_0000086461",
            37
           ],
           [
            "ROAD TRANSPORT",
            "Special Projects Finish Products",
            "SAPECCFE3_0000162339",
            1
           ],
           [
            "SEA TRANSPORT",
            "Sea Finish Products",
            "SAPECCFE3_0000013003",
            14
           ],
           [
            "SEA TRANSPORT",
            "Sea Interm-Finished Prd-FI",
            "SAPECCFE3_0000164335",
            6
           ],
           [
            "SEA TRANSPORT",
            "Sea Packaging",
            "SAPECCFE3_0000139578",
            6
           ],
           [
            "SEA TRANSPORT",
            "Sea RAW MATERIALS",
            "SAPECCFE3_0000090208",
            56
           ],
           [
            "SEA TRANSPORT",
            "Sea SEMI-FINISHED GOODS",
            "SAPECCFE3_0000159175",
            9
           ],
           [
            "SEA TRANSPORT",
            "Sea Surprises",
            "SAPECCFE3_0000038049",
            50
           ],
           [
            "SEA TRANSPORT",
            "Sea Transportation",
            "SAPECCFE3_0000164335",
            319
           ],
           [
            "SEA TRANSPORT",
            "Sea Transportation Export Fees Costs",
            "SAPECCFE3_0000013003",
            385
           ],
           [
            "SECONDARY PACKAGING",
            "CPX - Bagging Machines",
            "SAPECCFE3_0000010629",
            10
           ],
           [
            "SECONDARY PACKAGING",
            "CPX - Box Forming Machine",
            "SAPECCFE3_0000174966",
            4
           ],
           [
            "SECONDARY PACKAGING",
            "CPX - Forming, filling and closing",
            "SAPECCFIP_0000430005",
            11
           ],
           [
            "SECONDARY PACKAGING",
            "CPX - Pal- & Depalletizers",
            "SAPECCFE3_0000161212",
            4
           ],
           [
            "SECONDARY PACKAGING",
            "CPX - Sleeve & Shrink Machines",
            "SAPECCFE3_0000034850",
            1
           ],
           [
            "SECURITY",
            "CCTV",
            "SAPECCFE3_0000204461",
            2
           ],
           [
            "SECURITY",
            "Manned guarding services",
            "SAPECCFE3_0000107756",
            76
           ],
           [
            "SECURITY",
            "People Security Services",
            "SAPECCFE3_0000164462",
            5
           ],
           [
            "SECURITY",
            "Physical and Supply Chain security",
            "SAPECCFE3_0000164462",
            8
           ],
           [
            "SECURITY",
            "Porter and reception services",
            "SAPECCFE3_0000192510",
            5
           ],
           [
            "SECURITY",
            "Risk assessment and threat intelligence",
            "SAPECCFE3_0000095344",
            1
           ],
           [
            "SECURITY",
            "Security technology",
            "SAPECCFE3_0000180723",
            13
           ],
           [
            "SECURITY (LOCAL)",
            "TR - People Security (GenAdm)",
            "SAPECCFE3_0000100759",
            2
           ],
           [
            "SECURITY (LOCAL)",
            "TR - Security technology (GenAdm)",
            "SAPECCFE3_0000159388",
            1
           ],
           [
            "SERVICES - MANAGED SERVICE",
            "1st Level Support Outsourcing Applications",
            "SAPECCFE3_0000017023",
            26
           ],
           [
            "SERVICES - MANAGED SERVICE",
            "1st Level Support Outsourcing Technology",
            "SAPECCFE3_0000190502",
            4
           ],
           [
            "SERVICES - MANAGED SERVICE",
            "2nd Level Suport Outsourcing Applications",
            "SAPECCFE3_0000016570",
            2
           ],
           [
            "SERVICES - MANAGED SERVICE",
            "2nd Level Support Outsourcing Technology",
            "SAPECCFE3_0000017023",
            1
           ],
           [
            "SERVICES - MANAGED SERVICE",
            "Applications Development - System Integration CAPEX",
            "SAPECCFE3_0000056288",
            47
           ],
           [
            "SERVICES - MANAGED SERVICE",
            "End-User Computing Laptop, Workstation Outsourcing",
            "SAPECCFE3_0000017023",
            5
           ],
           [
            "SERVICES - MANAGED SERVICE",
            "End-User Computing Mobile Communications Outsourcing",
            "SAPECCFE3_0000127676",
            9
           ],
           [
            "SERVICES - MANAGED SERVICE",
            "End-User Computing Mobile Management Outsourcing",
            "SAPECCFE3_0000043455",
            29
           ],
           [
            "SERVICES - MANAGED SERVICE",
            "Server&Storage Outsourcing",
            "SAPECCFE3_0000017023",
            17
           ],
           [
            "SERVICES - MANAGED SERVICE",
            "Voice and Data Network Communications Outsourcing",
            "SAPECCFE3_0000010809",
            16
           ],
           [
            "SERVICES - MANAGED SERVICE",
            "Voice and Data Network Outsourcing",
            "SAPECCFE3_0000017023",
            8
           ],
           [
            "SERVICES - T&M/BODY LEASING",
            "Applications Development T&M CAPEX",
            "SAPECCFIP_0000611572",
            13
           ],
           [
            "SERVICES - T&M/BODY LEASING",
            "Applications Run and Maintenance T&M",
            "SAPECCFE3_0000035571",
            11
           ],
           [
            "SERVICES - T&M/BODY LEASING",
            "Corporate IT Management, Finance and Administration T&M",
            "SAPECCFE3_0000119125",
            7
           ],
           [
            "SERVICES - T&M/BODY LEASING",
            "End-User Computing T&M",
            "SAPECCFE3_0000050091",
            26
           ],
           [
            "SERVICES - T&M/BODY LEASING",
            "IT Service Desk T&M",
            "SAPECCFE3_0000184140",
            3
           ],
           [
            "SERVICES - T&M/BODY LEASING",
            "Server&Storage T&M",
            "SAPECCFE3_0000145216",
            4
           ],
           [
            "SERVICES - T&M/BODY LEASING",
            "Server&Storage T&M CAPEX",
            "SAPECCFE3_0000073845",
            3
           ],
           [
            "SERVICES - T&M/BODY LEASING",
            "Voice and Data Network T&M",
            "SAPECCFE3_0000029047",
            5
           ],
           [
            "SOFTWARE - MAINTENANCE FOR PERPETUAL LICENSES",
            "Maintenance Application Software",
            "SAPECCFE3_0000182305",
            9
           ],
           [
            "SOFTWARE - MAINTENANCE FOR PERPETUAL LICENSES",
            "Maintenance End-User Computing Software",
            "SAPECCFE3_0000201534",
            2
           ],
           [
            "SOFTWARE - MAINTENANCE FOR PERPETUAL LICENSES",
            "Maintenance Server&Storage Software",
            "SAPECCFE3_0000207191",
            5
           ],
           [
            "SOFTWARE - MAINTENANCE FOR PERPETUAL LICENSES",
            "Maintenance Voice and Data Network Software",
            "SAPECCFE3_0000124357",
            5
           ],
           [
            "SOFTWARE - SUBSCRIPTIONS/LICENSES",
            "Application Perpetual Licenses CAPEX",
            "SAPECCFE3_0000096541",
            3
           ],
           [
            "SOFTWARE - SUBSCRIPTIONS/LICENSES",
            "Cloud Application Development",
            "SAPECCFE3_0000039652",
            10
           ],
           [
            "SOFTWARE - SUBSCRIPTIONS/LICENSES",
            "Cloud License Application Maintenance",
            "SAPECCFE3_0000017520",
            19
           ],
           [
            "SOFTWARE - SUBSCRIPTIONS/LICENSES",
            "End-User Computing Licenses CAPEX",
            "SAPECCFE3_0000192359",
            3
           ],
           [
            "SOFTWARE - SUBSCRIPTIONS/LICENSES",
            "Purchase Applications Licenses",
            "SAPECCFE3_0000183337",
            7
           ],
           [
            "SOFTWARE - SUBSCRIPTIONS/LICENSES",
            "Server&Storage Licenses CAPEX",
            "SAPECCFE3_0000041744",
            1
           ],
           [
            "SOFTWARE - SUBSCRIPTIONS/LICENSES",
            "Subscription End-User Computing (SaaS)",
            "SAPECCFE3_0000031371",
            9
           ],
           [
            "SOFTWARE - SUBSCRIPTIONS/LICENSES",
            "Subscription Voice and Data Network (IaaS)",
            "SAPECCFE3_0000192388",
            10
           ],
           [
            "SOFTWARE - SUBSCRIPTIONS/LICENSES",
            "Voice and Data Network Licenses CAPEX",
            "SAPECCFE3_0000142933",
            1
           ],
           [
            "SPONSORING",
            "Events Sponsorships & Partnership",
            "SAPECCFE3_0000190685",
            97
           ],
           [
            "STANDALONE EQUIPMENT",
            "CPX - Check weigher",
            "SAPECCFE3_0000069011",
            5
           ],
           [
            "STANDALONE EQUIPMENT",
            "CPX - Conveyors and Handling",
            "SAPECCFE3_0000015066",
            10
           ],
           [
            "STANDALONE EQUIPMENT",
            "CPX - Gluing machine",
            "SAPECCFE3_0000013005",
            4
           ],
           [
            "STANDALONE EQUIPMENT",
            "CPX - Labellers",
            "SAPECCFE3_0000068585",
            9
           ],
           [
            "STANDALONE EQUIPMENT",
            "CPX - Metal detector",
            "SAPECCFE3_0000011750",
            3
           ],
           [
            "STANDALONE EQUIPMENT",
            "CPX - Printer",
            "SAPECCFE3_0000012823",
            12
           ],
           [
            "STANDALONE EQUIPMENT",
            "CPX - Vision & Cameras",
            "SAPECCFE3_0000012823",
            7
           ],
           [
            "STANDALONE EQUIPMENT",
            "CPX - X-Ray",
            "SAPECCFE3_0000062126",
            4
           ],
           [
            "STORAGE",
            "OTHER LOGISTIC COSTS (FG WH)",
            "SAPECCFE3_0000198902",
            1
           ],
           [
            "STORAGE",
            "Storage Finish Products",
            "SAPECCFE3_0000038242",
            18
           ],
           [
            "STORAGE",
            "Storage Finished Products (co-packing)",
            "SAPECCFE3_0000069644",
            4
           ],
           [
            "STORAGE",
            "Storage Interm-Finished Prd-FI",
            "SAPECCFE3_0000151283",
            28
           ],
           [
            "STORAGE",
            "Storage Mtl",
            "SAPECCFE3_0000060408",
            33
           ],
           [
            "STORAGE",
            "Storage Packaging",
            "SAPECCFE3_0000102646",
            47
           ],
           [
            "STORAGE",
            "Storage RAW MATERIALS",
            "SAPECCFE3_0000094676",
            22
           ],
           [
            "STORAGE",
            "Storage SEMI-FINISHED GOODS",
            "SAPECCFE3_0000102646",
            5
           ],
           [
            "STORAGE",
            "Storage Surprises",
            "SAPECCFE3_0000102646",
            231
           ],
           [
            "SUBSCRIPTIONS/MEMBERSHIPS",
            "Books, periodicals subscription (digital or not)",
            "SAPECCFIP_0000618541",
            49
           ],
           [
            "SUBSCRIPTIONS/MEMBERSHIPS",
            "Business Association fees",
            "SAPECCFE3_0000146073",
            23
           ],
           [
            "SUBSCRIPTIONS/MEMBERSHIPS",
            "Data source provider, knowledge database subscription",
            "SAPECCFE3_0000095730",
            1
           ],
           [
            "SUBSCRIPTIONS/MEMBERSHIPS",
            "NGO, Donations",
            "SAPECCFE3_0000155308",
            2
           ],
           [
            "SURPRISE L3",
            "PALLETS",
            "SAPECCFE3_0000153522",
            52
           ],
           [
            "TECHNICAL DEVICES FOR POS",
            "Check Out Display Production",
            "SAPECCFE3_0000049241",
            22
           ],
           [
            "TECHNICAL DEVICES FOR POS",
            "Fridges lease/rent and other tech devices for point of Sale",
            "SAPECCFE3_0000201436",
            5
           ],
           [
            "TECHNICAL DEVICES FOR POS",
            "Fridges production and other tech devices for POS - CAPEX",
            "SAPECCFE3_0000017500",
            6
           ],
           [
            "TECHNICAL DEVICES FOR POS",
            "Fridges production and other tech devices for POS-excl CAPEX",
            "SAPECCFE3_0000213659",
            37
           ],
           [
            "TECHNICAL DEVICES FOR POS",
            "PROM.MAT.CASHDESK",
            "SAPECCFE3_0000013062",
            4
           ],
           [
            "TECHNICAL DEVICES FOR POS",
            "PROMO POS MODERN",
            "SAPECCFE3_0000188355",
            37
           ],
           [
            "TECHNICAL DEVICES FOR POS",
            "PROMO POS TRADNL",
            "SAPECCFE3_0000179395",
            17
           ],
           [
            "TECHNICAL DEVICES FOR POS",
            "PROMOTIONAL GIFTS",
            "SAPECCFE3_0000085062",
            2
           ],
           [
            "TECHNICAL DEVICES FOR POS",
            "Permanent Materials Production - Secondary Placement",
            "SAPECCFE3_0000100639",
            29
           ],
           [
            "TECHNICAL DEVICES FOR POS",
            "Services for fridge and other tech devices for Point of Sale",
            "SAPECCFE3_0000046540",
            6
           ],
           [
            "TECHNICAL MATERIALS, PPE & CLOTHES",
            "Axes/shafts",
            "SAPECCFE3_0000013541",
            29
           ],
           [
            "TECHNICAL MATERIALS, PPE & CLOTHES",
            "BEARINGS AND LINEAR GUIDES",
            "SAPECCFE3_0000147794",
            966
           ],
           [
            "TECHNICAL MATERIALS, PPE & CLOTHES",
            "BRAKES AND CLUTCHES",
            "SAPECCFE3_0000015066",
            8
           ],
           [
            "TECHNICAL MATERIALS, PPE & CLOTHES",
            "Batteries",
            "SAPECCFE3_0000093163",
            18
           ],
           [
            "TECHNICAL MATERIALS, PPE & CLOTHES",
            "Belts",
            "SAPECCFE3_0000147794",
            268
           ],
           [
            "TECHNICAL MATERIALS, PPE & CLOTHES",
            "Brushes",
            "SAPECCFIP_0000407070",
            5
           ],
           [
            "TECHNICAL MATERIALS, PPE & CLOTHES",
            "Building materials",
            "SAPECCFIP_0000301531",
            30
           ],
           [
            "TECHNICAL MATERIALS, PPE & CLOTHES",
            "CONTROL INSTRUMENTS",
            "SAPECCFE3_0000014741",
            9
           ],
           [
            "TECHNICAL MATERIALS, PPE & CLOTHES",
            "CPX Technical Material",
            "SAPECCFE3_0000032966",
            26
           ],
           [
            "TECHNICAL MATERIALS, PPE & CLOTHES",
            "Cams",
            "SAPECCFE3_0000013541",
            5
           ],
           [
            "TECHNICAL MATERIALS, PPE & CLOTHES",
            "Chains",
            "SAPECCFE3_0000185241",
            55
           ],
           [
            "TECHNICAL MATERIALS, PPE & CLOTHES",
            "Cod - PPE, Safety Work Products, Fire Protection",
            "SAPECCFE3_0000013622",
            374
           ],
           [
            "TECHNICAL MATERIALS, PPE & CLOTHES",
            "Codified - Clothes & Uniforms, Safety Shoes",
            "SAPECCFE3_0000013622",
            245
           ],
           [
            "TECHNICAL MATERIALS, PPE & CLOTHES",
            "Computer (process)",
            "SAPECCFE3_0000015249",
            6
           ],
           [
            "TECHNICAL MATERIALS, PPE & CLOTHES",
            "Couplings",
            "SAPECCFE3_0000147794",
            31
           ],
           [
            "TECHNICAL MATERIALS, PPE & CLOTHES",
            "Cutting tools",
            "SAPECCFE3_0000026841",
            99
           ],
           [
            "TECHNICAL MATERIALS, PPE & CLOTHES",
            "Cylinders",
            "SAPECCFE3_0000012082",
            236
           ],
           [
            "TECHNICAL MATERIALS, PPE & CLOTHES",
            "Dampers",
            "SAPECCFE3_0000013622",
            12
           ],
           [
            "TECHNICAL MATERIALS, PPE & CLOTHES",
            "Dosing nozzles",
            "SAPECCFE3_0000013005",
            52
           ],
           [
            "TECHNICAL MATERIALS, PPE & CLOTHES",
            "ELECTRIC MOTORS AND DRIVES",
            "SAPECCFE3_0000011941",
            102
           ],
           [
            "TECHNICAL MATERIALS, PPE & CLOTHES",
            "ELECTRICAL / ELECTRONICAL COMPONENTS",
            "SAPECCFE3_0000015249",
            329
           ],
           [
            "TECHNICAL MATERIALS, PPE & CLOTHES",
            "Electric cables",
            "SAPECCFE3_0000011871",
            32
           ],
           [
            "TECHNICAL MATERIALS, PPE & CLOTHES",
            "Electronic cables",
            "SAPECCFE3_0000095716",
            24
           ],
           [
            "TECHNICAL MATERIALS, PPE & CLOTHES",
            "FIXING ELEMENTS",
            "SAPECCFE3_0000013622",
            72
           ],
           [
            "TECHNICAL MATERIALS, PPE & CLOTHES",
            "Fans",
            "SAPECCFE3_0000015249",
            11
           ],
           [
            "TECHNICAL MATERIALS, PPE & CLOTHES",
            "Filters",
            "SAPECCFIP_0000235369",
            71
           ],
           [
            "TECHNICAL MATERIALS, PPE & CLOTHES",
            "Flexible pipes",
            "SAPECCFE3_0000083940",
            47
           ],
           [
            "TECHNICAL MATERIALS, PPE & CLOTHES",
            "Fuels",
            "SAPECCFE3_0000048793",
            44
           ],
           [
            "TECHNICAL MATERIALS, PPE & CLOTHES",
            "GEARS",
            "SAPECCFE3_0000013541",
            18
           ],
           [
            "TECHNICAL MATERIALS, PPE & CLOTHES",
            "Gas Consumables",
            "SAPECCFIP_0000603300",
            59
           ],
           [
            "TECHNICAL MATERIALS, PPE & CLOTHES",
            "Gaskets/Seals",
            "SAPECCFE3_0000013622",
            266
           ],
           [
            "TECHNICAL MATERIALS, PPE & CLOTHES",
            "Gearboxes",
            "SAPECCFE3_0000147794",
            53
           ],
           [
            "TECHNICAL MATERIALS, PPE & CLOTHES",
            "Generic consumables",
            "SAPECCFE3_0000181642",
            84
           ],
           [
            "TECHNICAL MATERIALS, PPE & CLOTHES",
            "Glues",
            "SAPECCFE3_0000116715",
            26
           ],
           [
            "TECHNICAL MATERIALS, PPE & CLOTHES",
            "HYDRAULIC AND PNEUMATIC FITTINGS",
            "SAPECCFE3_0000098938",
            122
           ],
           [
            "TECHNICAL MATERIALS, PPE & CLOTHES",
            "Heaters",
            "SAPECCFE3_0000021281",
            9
           ],
           [
            "TECHNICAL MATERIALS, PPE & CLOTHES",
            "Infirmary",
            "SAPECCFE3_0000194190",
            2
           ],
           [
            "TECHNICAL MATERIALS, PPE & CLOTHES",
            "Laundry Services",
            "SAPECCFE3_0000156870",
            4
           ],
           [
            "TECHNICAL MATERIALS, PPE & CLOTHES",
            "Levers",
            "SAPECCFE3_0000019458",
            7
           ],
           [
            "TECHNICAL MATERIALS, PPE & CLOTHES",
            "Lighting",
            "SAPECCFE3_0000015249",
            93
           ],
           [
            "TECHNICAL MATERIALS, PPE & CLOTHES",
            "Locks, Handles",
            "SAPECCFE3_0000147794",
            24
           ],
           [
            "TECHNICAL MATERIALS, PPE & CLOTHES",
            "Lubricants",
            "SAPECCFE3_0000015790",
            76
           ],
           [
            "TECHNICAL MATERIALS, PPE & CLOTHES",
            "Measure devices and Control instruments",
            "SAPECCFE3_0000012860",
            31
           ],
           [
            "TECHNICAL MATERIALS, PPE & CLOTHES",
            "Not cod - PPE, Safety Work Products, Fire Protection",
            "SAPECCFIP_0000610058",
            351
           ],
           [
            "TECHNICAL MATERIALS, PPE & CLOTHES",
            "Not codified - Clothes & Uniforms, Safety Shoes",
            "SAPECCFE3_0000013622",
            8
           ],
           [
            "TECHNICAL MATERIALS, PPE & CLOTHES",
            "Other Materials Immediate Use for Maintenance Plant",
            "SAPECCFE3_0000174759",
            306
           ],
           [
            "TECHNICAL MATERIALS, PPE & CLOTHES",
            "Other Materials Immediate Use for Production Assistance",
            "SAPECCFE3_0000174759",
            29
           ],
           [
            "TECHNICAL MATERIALS, PPE & CLOTHES",
            "Other Spare parts (not codified, catalogues items)",
            "SAPECCFIP_0000611406",
            376
           ],
           [
            "TECHNICAL MATERIALS, PPE & CLOTHES",
            "PHOTOCELLS AND PROXIMITY SWITCHES",
            "SAPECCFE3_0000014741",
            87
           ],
           [
            "TECHNICAL MATERIALS, PPE & CLOTHES",
            "PRINTERS CONSUMABLES",
            "SAPECCFE3_0000012823",
            73
           ],
           [
            "TECHNICAL MATERIALS, PPE & CLOTHES",
            "PRINTERS SPARE PARTS",
            "SAPECCFE3_0000174911",
            18
           ],
           [
            "TECHNICAL MATERIALS, PPE & CLOTHES",
            "PRODUCTION TOOLS",
            "SAPECCFE3_0000181642",
            154
           ],
           [
            "TECHNICAL MATERIALS, PPE & CLOTHES",
            "Paint",
            "SAPECCFE3_0000013087",
            14
           ],
           [
            "TECHNICAL MATERIALS, PPE & CLOTHES",
            "Pulleys",
            "SAPECCFE3_0000019458",
            11
           ],
           [
            "TECHNICAL MATERIALS, PPE & CLOTHES",
            "Pumps",
            "SAPECCFE3_0000098938",
            48
           ],
           [
            "TECHNICAL MATERIALS, PPE & CLOTHES",
            "Rigid pipes",
            "SAPECCFIP_0000611720",
            31
           ],
           [
            "TECHNICAL MATERIALS, PPE & CLOTHES",
            "Rollers",
            "SAPECCFE3_0000019458",
            19
           ],
           [
            "TECHNICAL MATERIALS, PPE & CLOTHES",
            "SPARE PARTS FOR GAS PLANTS",
            "SAPECCFE3_0000140183",
            4
           ],
           [
            "TECHNICAL MATERIALS, PPE & CLOTHES",
            "SPECIFIC DRAWING COMPONENTS",
            "SAPECCFE3_0000013541",
            151
           ],
           [
            "TECHNICAL MATERIALS, PPE & CLOTHES",
            "SPROCKET WHEELS",
            "SAPECCFE3_0000185241",
            18
           ],
           [
            "TECHNICAL MATERIALS, PPE & CLOTHES",
            "Screws",
            "SAPECCFE3_0000013622",
            333
           ],
           [
            "TECHNICAL MATERIALS, PPE & CLOTHES",
            "Spare Parts - Conveyors",
            "SAPECCFE3_0000012216",
            329
           ],
           [
            "TECHNICAL MATERIALS, PPE & CLOTHES",
            "Spare Parts Utilities",
            "SAPECCFE3_0000174719",
            31
           ],
           [
            "TECHNICAL MATERIALS, PPE & CLOTHES",
            "Spare parts kits",
            "SAPECCFE3_0000048836",
            36
           ],
           [
            "TECHNICAL MATERIALS, PPE & CLOTHES",
            "Springs",
            "SAPECCFE3_0000013622",
            45
           ],
           [
            "TECHNICAL MATERIALS, PPE & CLOTHES",
            "Suction cups",
            "SAPECCFE3_0000098938",
            102
           ],
           [
            "TECHNICAL MATERIALS, PPE & CLOTHES",
            "Valves",
            "SAPECCFE3_0000012082",
            230
           ],
           [
            "TECHNICAL MATERIALS, PPE & CLOTHES",
            "Vibrators",
            "SAPECCFE3_0000185241",
            6
           ],
           [
            "TECHNICAL MATERIALS, PPE & CLOTHES",
            "WORKSHOP TOOLS",
            "SAPECCFE3_0000065723",
            438
           ],
           [
            "TECHNICAL MATERIALS, PPE & CLOTHES",
            "Water for industrial plant",
            "SAPECCFIP_0000105325",
            18
           ],
           [
            "TECHNICAL MATERIALS, PPE & CLOTHES",
            "Wheels",
            "SAPECCFE3_0000013622",
            19
           ],
           [
            "TECHNICAL MATERIALS, PPE & CLOTHES",
            "Сonstruction",
            "SAPECCFE3_0000098938",
            187
           ],
           [
            "TEMPORARY PERSONNEL",
            "Temporary Personnels",
            "SAPECCFE3_0000156350",
            17
           ],
           [
            "TEMPORARY PERSONNEL (LOCAL)",
            "TR - Temporary personnel (GenAdm)",
            "SAPECCFE3_0000070096",
            1
           ],
           [
            "TEMPORARY PERSONNEL (LOCAL)",
            "TR - Temporary personnel (GenProd)",
            "SAPECCFE3_0000032508",
            1
           ],
           [
            "TRAINING",
            "Training Design & Cost of Personal",
            "SAPECCFE3_0000168106",
            13
           ],
           [
            "TRAINING (LOCAL)",
            "TR - Training costs of personnel (GenAdm)",
            "SAPECCFE3_0000167666",
            5
           ],
           [
            "TRAINING (LOCAL)",
            "TR - Training costs of personnel (GenProd)",
            "SAPECCFE3_0000070050",
            2
           ],
           [
            "TRAVEL",
            "Hotel accommodation",
            "SAPECCFIP_0000523674",
            8
           ],
           [
            "TRAVEL",
            "Long stay accommodation",
            "SAPECCFE3_0000048996",
            3
           ],
           [
            "TRAVEL",
            "Other travel services",
            "SAPECCFIP_0000617867",
            20
           ],
           [
            "TRAVEL",
            "Transportation - Flights",
            "SAPECCFE3_0000189830",
            4
           ],
           [
            "TRAVEL",
            "Transportation - Other",
            "SAPECCFE3_0000151038",
            27
           ],
           [
            "TRAVEL",
            "Transportation - Short-term Rental Cars",
            "SAPECCFIP_0000617867",
            181
           ],
           [
            "TRAVEL",
            "Travel Agencies fees & services",
            "SAPECCFE3_0000047196",
            115
           ],
           [
            "TRAVEL (LOCAL)",
            "TR - Travel Agencies fees & services (GenAdm)",
            "SAPECCFE3_0000166455",
            5
           ],
           [
            "TRAVEL (LOCAL)",
            "TR - Travel Agencies fees & services (GenProd)",
            "SAPECCFE3_0000166455",
            2
           ],
           [
            "UTILITIES",
            "Utilities - Electric Energy for Offices",
            "SAPECCFE3_0000072331",
            7
           ],
           [
            "UTILITIES",
            "Utilities - Office Gas",
            "SAPECCFE3_0000105735",
            3
           ],
           [
            "UTILITIES",
            "Utilities - Office Water",
            "SAPECCFE3_0000050865",
            6
           ],
           [
            "UTILITIES FOR OFFICES (LOCAL)",
            "TR - ELECTRICITY (GENADM)",
            "SAPECCFE3_0000156128",
            8
           ],
           [
            "UTILITIES FOR OFFICES (LOCAL)",
            "TR - ELECTRICITY (GENPROD)",
            "SAPECCFE3_0000149130",
            16
           ],
           [
            "UTILITIES FOR OFFICES (LOCAL)",
            "TR - GAS (GENPROD)",
            "SAPECCFE3_0000187136",
            3
           ],
           [
            "UTILITIES FOR OFFICES (LOCAL)",
            "TR - WATER (GENADM)",
            "SAPECCFE3_0000156502",
            8
           ],
           [
            "UTILITIES FOR OFFICES (LOCAL)",
            "TR - WATER (GENPROD)",
            "SAPECCFE3_0000146073",
            11
           ],
           [
            "WAREHOUSE & LOGISTIC",
            "CPX - Automatic Warehouses",
            "SAPECCFIP_0000349240",
            6
           ],
           [
            "WAREHOUSE & LOGISTIC",
            "CPX - Conveying Systems",
            "SAPECCFE3_0000185348",
            4
           ],
           [
            "WAREHOUSE & LOGISTIC",
            "CPX - Forklifts (Buy)",
            "SAPECCFE3_0000145250",
            3
           ],
           [
            "WAREHOUSE & LOGISTIC",
            "CPX - Warehousing - Racks",
            "SAPECCFE3_0000164456",
            11
           ],
           [
            "WAREHOUSE & LOGISTIC",
            "OPX - Forklifts (Rental & Service)",
            "SAPECCFE3_0000056883",
            45
           ],
           [
            "WAREHOUSE & LOGISTIC",
            "TR-Specific Mtl For Warehouse, Lift And Handl. Equip.(S-Wh)",
            "SAPECCFIP_0000349240",
            8
           ],
           [
            "WAREHOUSING LOCATION & LEASING",
            "WAREHOUSE LEASE",
            "SAPECCFE3_0000165223",
            17
           ],
           [
            "WAREHOUSING LOCATION & LEASING",
            "Warehouse Rent",
            "SAPECCFE3_0000193819",
            4
           ],
           [
            "WAREHOUSING LOCATION & LEASING",
            "Warehouse Rental Other Costs (cleaning, security, etc…)",
            "SAPECCFE3_0000124328",
            1
           ],
           [
            "WASTE MANAGEMENT",
            "Waste Management Svc",
            "SAPECCFE3_0000130617",
            2
           ]
          ],
          "hovertemplate": "From: %{customdata[0]}<br>To: %{customdata[1]}<br>Top Supplier: %{customdata[2]}<br>PO Lines: %{customdata[3]}<extra></extra>",
          "source": [
           0,
           0,
           0,
           0,
           0,
           0,
           0,
           0,
           0,
           0,
           1,
           1,
           1,
           1,
           1,
           1,
           2,
           2,
           2,
           2,
           3,
           3,
           3,
           4,
           5,
           5,
           6,
           7,
           7,
           7,
           7,
           7,
           8,
           8,
           8,
           8,
           8,
           8,
           8,
           9,
           9,
           9,
           9,
           9,
           9,
           9,
           9,
           9,
           10,
           10,
           10,
           10,
           11,
           12,
           13,
           14,
           14,
           14,
           14,
           14,
           14,
           14,
           14,
           14,
           14,
           14,
           15,
           15,
           15,
           15,
           15,
           15,
           16,
           16,
           16,
           16,
           16,
           16,
           16,
           17,
           17,
           17,
           17,
           17,
           17,
           17,
           17,
           17,
           17,
           18,
           18,
           18,
           18,
           18,
           18,
           18,
           18,
           18,
           18,
           19,
           20,
           21,
           21,
           21,
           21,
           21,
           21,
           21,
           21,
           21,
           21,
           22,
           22,
           22,
           22,
           22,
           22,
           22,
           22,
           22,
           22,
           22,
           22,
           22,
           23,
           24,
           24,
           24,
           24,
           24,
           25,
           25,
           25,
           25,
           25,
           25,
           26,
           26,
           26,
           26,
           26,
           27,
           28,
           28,
           28,
           29,
           30,
           30,
           30,
           31,
           32,
           32,
           32,
           33,
           33,
           33,
           33,
           34,
           34,
           34,
           34,
           35,
           35,
           35,
           35,
           35,
           35,
           35,
           36,
           36,
           36,
           37,
           37,
           37,
           37,
           37,
           37,
           38,
           38,
           39,
           39,
           39,
           39,
           39,
           39,
           39,
           39,
           39,
           39,
           40,
           40,
           40,
           40,
           40,
           40,
           40,
           40,
           41,
           42,
           42,
           42,
           42,
           42,
           43,
           43,
           43,
           43,
           44,
           44,
           44,
           45,
           45,
           45,
           45,
           45,
           46,
           46,
           46,
           46,
           47,
           47,
           47,
           47,
           47,
           48,
           48,
           48,
           48,
           48,
           48,
           49,
           49,
           49,
           49,
           49,
           49,
           50,
           50,
           50,
           51,
           51,
           52,
           52,
           52,
           52,
           52,
           52,
           52,
           53,
           53,
           54,
           54,
           54,
           54,
           54,
           55,
           55,
           55,
           55,
           55,
           56,
           56,
           56,
           56,
           56,
           56,
           56,
           56,
           56,
           56,
           56,
           56,
           56,
           56,
           57,
           58,
           58,
           58,
           58,
           58,
           58,
           58,
           59,
           59,
           59,
           59,
           59,
           59,
           59,
           59,
           59,
           60,
           60,
           60,
           60,
           60,
           60,
           60,
           60,
           60,
           60,
           60,
           60,
           60,
           60,
           61,
           61,
           62,
           62,
           62,
           62,
           62,
           62,
           63,
           64,
           64,
           64,
           64,
           64,
           65,
           65,
           66,
           66,
           66,
           66,
           66,
           66,
           67,
           67,
           67,
           67,
           67,
           67,
           67,
           67,
           67,
           67,
           68,
           68,
           68,
           68,
           68,
           68,
           69,
           69,
           69,
           69,
           69,
           69,
           70,
           71,
           71,
           71,
           71,
           71,
           71,
           72,
           72,
           73,
           73,
           73,
           74,
           74,
           74,
           74,
           74,
           74,
           74,
           74,
           74,
           74,
           74,
           75,
           75,
           75,
           75,
           75,
           75,
           75,
           75,
           75,
           76,
           76,
           76,
           76,
           76,
           76,
           76,
           76,
           77,
           77,
           77,
           77,
           77,
           77,
           77,
           77,
           77,
           77,
           77,
           77,
           78,
           78,
           79,
           79,
           80,
           81,
           81,
           82,
           83,
           83,
           83,
           83,
           84,
           84,
           84,
           84,
           85,
           86,
           86,
           86,
           86,
           87,
           87,
           87,
           87,
           87,
           87,
           87,
           87,
           87,
           88,
           88,
           88,
           88,
           88,
           88,
           88,
           88,
           88,
           89,
           89,
           89,
           89,
           89,
           89,
           90,
           90,
           90,
           90,
           90,
           90,
           91,
           92,
           92,
           92,
           93,
           94,
           94,
           94,
           94,
           94,
           94,
           94,
           95,
           96,
           96,
           97,
           97,
           98,
           98,
           99,
           99,
           99,
           100,
           100,
           100,
           100,
           100,
           100,
           100,
           100,
           100,
           100,
           100,
           100,
           100,
           100,
           100,
           100,
           100,
           100,
           100,
           100,
           100,
           100,
           100,
           100,
           100,
           100,
           100,
           100,
           100,
           100,
           100,
           101,
           101,
           101,
           101,
           101,
           101,
           101,
           101,
           102,
           102,
           102,
           102,
           102,
           103,
           103,
           103,
           103,
           103,
           103,
           103,
           104,
           104,
           105,
           105,
           105,
           105,
           105,
           105,
           105,
           105,
           105,
           105,
           105,
           106,
           106,
           106,
           106,
           106,
           106,
           106,
           106,
           107,
           107,
           107,
           107,
           108,
           108,
           108,
           108,
           108,
           108,
           108,
           108,
           108,
           109,
           110,
           110,
           110,
           110,
           110,
           110,
           110,
           110,
           111,
           111,
           111,
           111,
           111,
           111,
           111,
           111,
           111,
           112,
           112,
           112,
           112,
           113,
           114,
           114,
           114,
           114,
           114,
           114,
           114,
           114,
           114,
           114,
           115,
           115,
           115,
           115,
           115,
           115,
           115,
           115,
           115,
           115,
           115,
           115,
           115,
           115,
           115,
           115,
           115,
           115,
           115,
           115,
           115,
           115,
           115,
           115,
           115,
           115,
           115,
           115,
           115,
           115,
           115,
           115,
           115,
           115,
           115,
           115,
           115,
           115,
           115,
           115,
           115,
           115,
           115,
           115,
           115,
           115,
           115,
           115,
           115,
           115,
           115,
           115,
           115,
           115,
           115,
           115,
           115,
           115,
           115,
           115,
           115,
           115,
           115,
           115,
           115,
           115,
           115,
           115,
           115,
           115,
           115,
           115,
           116,
           117,
           117,
           118,
           119,
           119,
           120,
           120,
           120,
           120,
           120,
           120,
           120,
           121,
           121,
           122,
           122,
           122,
           123,
           123,
           123,
           123,
           123,
           124,
           124,
           124,
           124,
           124,
           124,
           125,
           125,
           125,
           126
          ],
          "target": [
           6,
           8,
           9,
           10,
           11,
           14,
           17,
           18,
           20,
           22,
           4,
           12,
           13,
           15,
           19,
           21,
           3,
           5,
           7,
           16,
           58,
           69,
           115,
           52,
           41,
           42,
           123,
           26,
           46,
           47,
           59,
           62,
           56,
           57,
           82,
           105,
           106,
           107,
           108,
           33,
           35,
           36,
           37,
           66,
           71,
           90,
           92,
           99,
           48,
           49,
           120,
           121,
           80,
           83,
           84,
           39,
           40,
           43,
           44,
           85,
           96,
           97,
           116,
           117,
           118,
           119,
           25,
           45,
           79,
           93,
           100,
           101,
           74,
           75,
           88,
           89,
           102,
           110,
           124,
           24,
           28,
           32,
           60,
           61,
           63,
           64,
           65,
           78,
           112,
           31,
           34,
           54,
           72,
           73,
           81,
           87,
           91,
           109,
           114,
           38,
           113,
           23,
           27,
           53,
           55,
           70,
           86,
           98,
           111,
           125,
           126,
           29,
           30,
           50,
           51,
           67,
           68,
           76,
           77,
           94,
           95,
           103,
           104,
           122,
           127,
           128,
           129,
           130,
           131,
           132,
           133,
           134,
           135,
           136,
           137,
           138,
           139,
           140,
           141,
           142,
           143,
           144,
           145,
           146,
           147,
           148,
           149,
           150,
           151,
           152,
           153,
           154,
           155,
           156,
           157,
           158,
           159,
           160,
           161,
           162,
           163,
           164,
           165,
           166,
           167,
           168,
           169,
           170,
           171,
           172,
           173,
           174,
           175,
           176,
           177,
           178,
           179,
           180,
           181,
           182,
           183,
           184,
           185,
           186,
           187,
           188,
           189,
           190,
           191,
           192,
           193,
           194,
           195,
           196,
           197,
           198,
           199,
           200,
           201,
           202,
           203,
           204,
           205,
           206,
           207,
           208,
           209,
           210,
           211,
           212,
           213,
           214,
           215,
           216,
           217,
           218,
           219,
           220,
           221,
           222,
           223,
           224,
           225,
           226,
           227,
           228,
           229,
           230,
           231,
           232,
           233,
           234,
           235,
           236,
           237,
           238,
           239,
           240,
           241,
           242,
           243,
           244,
           245,
           246,
           247,
           248,
           249,
           250,
           251,
           252,
           253,
           254,
           255,
           256,
           257,
           258,
           259,
           260,
           261,
           262,
           263,
           264,
           265,
           266,
           267,
           268,
           269,
           270,
           271,
           272,
           273,
           274,
           275,
           276,
           277,
           278,
           279,
           280,
           281,
           282,
           283,
           284,
           285,
           286,
           287,
           288,
           289,
           290,
           291,
           292,
           293,
           294,
           295,
           296,
           297,
           298,
           299,
           300,
           301,
           302,
           303,
           304,
           305,
           306,
           307,
           308,
           309,
           310,
           311,
           312,
           313,
           314,
           315,
           316,
           317,
           318,
           319,
           320,
           321,
           322,
           323,
           324,
           325,
           326,
           327,
           328,
           329,
           330,
           331,
           332,
           333,
           334,
           335,
           336,
           337,
           338,
           339,
           340,
           341,
           342,
           343,
           344,
           345,
           346,
           347,
           348,
           349,
           350,
           351,
           352,
           353,
           354,
           355,
           356,
           357,
           358,
           359,
           360,
           361,
           362,
           363,
           364,
           365,
           366,
           367,
           368,
           369,
           370,
           371,
           372,
           373,
           374,
           375,
           376,
           377,
           378,
           379,
           380,
           381,
           382,
           383,
           384,
           385,
           386,
           387,
           388,
           389,
           390,
           391,
           392,
           393,
           394,
           395,
           396,
           397,
           398,
           399,
           400,
           401,
           402,
           403,
           404,
           405,
           406,
           407,
           408,
           409,
           410,
           411,
           412,
           413,
           414,
           415,
           416,
           417,
           418,
           419,
           420,
           421,
           422,
           423,
           424,
           425,
           426,
           427,
           428,
           429,
           430,
           431,
           432,
           433,
           434,
           435,
           436,
           437,
           438,
           439,
           440,
           441,
           442,
           443,
           444,
           445,
           446,
           447,
           448,
           449,
           450,
           451,
           452,
           453,
           454,
           455,
           456,
           457,
           458,
           459,
           460,
           461,
           462,
           463,
           464,
           465,
           466,
           467,
           468,
           469,
           470,
           471,
           472,
           473,
           474,
           475,
           476,
           477,
           478,
           479,
           480,
           481,
           482,
           483,
           484,
           485,
           486,
           487,
           488,
           489,
           490,
           491,
           492,
           493,
           494,
           495,
           496,
           497,
           498,
           499,
           500,
           501,
           502,
           503,
           504,
           505,
           506,
           507,
           508,
           509,
           510,
           511,
           512,
           513,
           514,
           515,
           516,
           517,
           518,
           519,
           520,
           521,
           522,
           523,
           524,
           525,
           526,
           527,
           528,
           529,
           530,
           531,
           532,
           533,
           534,
           535,
           536,
           537,
           538,
           539,
           540,
           541,
           542,
           543,
           544,
           545,
           546,
           547,
           548,
           549,
           550,
           551,
           552,
           553,
           554,
           555,
           556,
           557,
           558,
           559,
           560,
           561,
           562,
           563,
           564,
           565,
           566,
           567,
           568,
           569,
           570,
           571,
           572,
           573,
           574,
           575,
           576,
           577,
           578,
           579,
           580,
           581,
           582,
           583,
           584,
           585,
           586,
           587,
           588,
           589,
           590,
           591,
           592,
           593,
           594,
           595,
           596,
           597,
           598,
           599,
           600,
           601,
           602,
           603,
           604,
           605,
           606,
           607,
           608,
           609,
           610,
           611,
           612,
           613,
           614,
           615,
           616,
           617,
           618,
           619,
           620,
           621,
           622,
           623,
           624,
           625,
           626,
           627,
           628,
           629,
           630,
           631,
           632,
           633,
           634,
           635,
           636,
           637,
           638,
           639,
           640,
           641,
           642,
           643,
           644,
           645,
           646,
           647,
           648,
           649,
           650,
           651,
           652,
           653,
           654,
           655,
           656,
           657,
           658,
           659,
           660,
           661,
           662,
           663,
           664,
           665,
           666,
           667,
           668,
           669,
           670,
           671,
           672,
           673,
           674,
           675,
           676,
           677,
           678,
           679,
           680,
           681,
           682,
           683,
           684,
           685,
           686,
           687,
           688,
           689,
           690,
           691,
           692,
           693,
           694,
           695,
           696,
           697,
           698,
           699
          ],
          "value": [
           23,
           154,
           282,
           310,
           15,
           95,
           70,
           3641,
           52,
           1272,
           1044,
           30,
           168,
           24180,
           5674,
           303,
           2077,
           27,
           264,
           46,
           46,
           198,
           2067,
           1044,
           2,
           27,
           23,
           27,
           68,
           264,
           36,
           135,
           152,
           7,
           14,
           79,
           26,
           9,
           21,
           43,
           13,
           141,
           82,
           27,
           142,
           117,
           7,
           192,
           310,
           70,
           201,
           7,
           15,
           30,
           168,
           94,
           22,
           31,
           2,
           50,
           83,
           14,
           17,
           1,
           13,
           6,
           38,
           95,
           120,
           2,
           24180,
           455,
           40,
           9,
           14,
           10,
           11,
           20,
           45,
           42,
           4,
           17,
           70,
           2,
           2,
           19,
           10,
           2,
           49,
           72,
           88,
           21,
           7,
           50,
           31,
           3641,
           55,
           97,
           41,
           5674,
           52,
           41,
           1,
           2,
           168,
           3,
           34,
           160,
           303,
           17,
           2,
           66,
           69,
           104,
           79,
           44,
           16,
           1272,
           48,
           26,
           8,
           76,
           2,
           10,
           41,
           6,
           8,
           3,
           36,
           1,
           13,
           10,
           3,
           2,
           9,
           25,
           27,
           12,
           5,
           2,
           5,
           1,
           4,
           2,
           4,
           66,
           41,
           28,
           6,
           72,
           11,
           2,
           10,
           7,
           35,
           19,
           12,
           24,
           39,
           64,
           5,
           11,
           13,
           4,
           2,
           3,
           7,
           5,
           14,
           46,
           141,
           24,
           4,
           7,
           2,
           82,
           58,
           12,
           5674,
           2,
           2,
           33,
           94,
           51,
           10,
           71,
           72,
           3,
           9,
           1,
           9,
           14,
           8,
           2,
           10,
           17,
           5,
           2,
           18,
           3,
           11,
           1,
           10,
           31,
           3,
           2,
           22,
           2,
           2,
           1,
           66,
           1,
           1,
           23,
           6,
           68,
           19,
           2,
           14,
           264,
           25,
           177,
           15,
           7,
           53,
           96,
           216,
           7,
           6,
           3,
           41,
           29,
           16,
           6,
           3,
           1,
           104,
           31,
           65,
           44,
           35,
           60,
           467,
           284,
           69,
           81,
           42,
           609,
           1,
           2,
           7,
           2,
           8,
           21,
           3,
           5,
           31,
           88,
           49,
           45,
           31,
           41,
           4,
           5,
           19,
           20,
           8,
           82,
           112,
           36,
           8,
           6,
           12,
           8,
           7,
           37,
           9,
           3,
           46,
           5,
           1,
           14,
           22,
           7,
           4,
           14,
           33,
           1,
           9,
           8,
           3,
           4,
           7,
           21,
           4,
           1,
           11,
           47,
           19,
           7,
           37,
           9,
           6,
           32,
           1,
           2,
           1,
           94,
           23,
           73,
           80,
           39,
           36,
           2,
           19,
           4,
           1,
           2,
           1,
           3,
           10,
           7,
           14,
           5,
           1,
           8,
           13,
           44,
           3,
           37,
           4,
           8,
           34,
           28,
           19,
           7,
           39,
           9,
           3,
           3,
           12,
           1,
           1,
           5,
           13,
           13,
           198,
           2,
           4,
           3,
           98,
           18,
           22,
           16,
           4,
           81,
           6,
           5,
           3,
           43,
           27,
           15,
           10,
           3,
           17,
           21,
           30,
           4,
           3,
           13,
           5,
           15,
           4,
           2,
           2,
           1,
           4,
           5,
           3,
           3,
           4,
           11,
           116,
           1194,
           514,
           21,
           300,
           20,
           34,
           1,
           1,
           20,
           38,
           10,
           11,
           2,
           1,
           1,
           2,
           1,
           30,
           1,
           2,
           120,
           4,
           15,
           31,
           4,
           14,
           6,
           30,
           1,
           6,
           4,
           168,
           5,
           5,
           50,
           8,
           12,
           1,
           34,
           37,
           77,
           96,
           62,
           27,
           160,
           4,
           3641,
           93,
           4,
           2,
           2,
           1,
           4,
           3,
           14,
           2,
           8,
           3,
           9,
           3,
           2,
           2,
           6,
           41,
           59,
           75,
           19,
           46,
           13,
           55,
           3,
           6,
           6,
           2,
           8,
           1,
           1,
           19,
           8,
           3,
           2,
           8,
           5,
           83,
           14,
           5,
           160,
           2,
           6,
           187,
           3,
           8,
           40,
           159,
           102,
           2041,
           63,
           68,
           334,
           185,
           573,
           73,
           6,
           2,
           36,
           32,
           14,
           143,
           1,
           7,
           225,
           47,
           340,
           108,
           66,
           258,
           24178,
           7,
           132,
           463,
           37,
           1,
           14,
           6,
           6,
           56,
           9,
           50,
           319,
           385,
           10,
           4,
           11,
           4,
           1,
           2,
           76,
           5,
           8,
           5,
           1,
           13,
           2,
           1,
           26,
           4,
           2,
           1,
           47,
           5,
           9,
           29,
           17,
           16,
           8,
           13,
           11,
           7,
           26,
           3,
           4,
           3,
           5,
           9,
           2,
           5,
           5,
           3,
           10,
           19,
           3,
           7,
           1,
           9,
           10,
           1,
           97,
           5,
           10,
           4,
           9,
           3,
           12,
           7,
           4,
           1,
           18,
           4,
           28,
           33,
           47,
           22,
           5,
           231,
           49,
           23,
           1,
           2,
           52,
           22,
           5,
           6,
           37,
           4,
           37,
           17,
           2,
           29,
           6,
           29,
           966,
           8,
           18,
           268,
           5,
           30,
           9,
           26,
           5,
           55,
           374,
           245,
           6,
           31,
           99,
           236,
           12,
           52,
           102,
           329,
           32,
           24,
           72,
           11,
           71,
           47,
           44,
           18,
           59,
           266,
           53,
           84,
           26,
           122,
           9,
           2,
           4,
           7,
           93,
           24,
           76,
           31,
           351,
           8,
           306,
           29,
           376,
           87,
           73,
           18,
           154,
           14,
           11,
           48,
           31,
           19,
           4,
           151,
           18,
           333,
           329,
           31,
           36,
           45,
           102,
           230,
           6,
           438,
           18,
           19,
           187,
           17,
           1,
           1,
           13,
           5,
           2,
           8,
           3,
           20,
           4,
           27,
           181,
           115,
           5,
           2,
           7,
           3,
           6,
           8,
           16,
           3,
           8,
           11,
           6,
           4,
           3,
           11,
           45,
           8,
           17,
           4,
           1,
           2
          ]
         },
         "node": {
          "color": "lightblue",
          "label": [
           "GENERAL PROCUREMENT",
           "SUPPLY CHAIN",
           "TECHNICAL PROCUREMENT",
           "AUTOMATION & MRO",
           "CUSTOM BROKERAGE & FORWARDING AGENCIES",
           "ENERGY",
           "ENERGY AND UTILITIES FOR OFFICES",
           "INFRASTRUCTURE & INDUSTRIAL",
           "IT - INFORMATION TECHNOLOGY",
           "MARKETING SERVICES",
           "MOBILITY",
           "OTHER NON GP",
           "PALLETTS PURCHASING",
           "PALLETTS RENT & LEASE",
           "PEOPLE SERVICES",
           "PRIMARY TRANSPORTS",
           "PROCESS EQUIPMENT",
           "PROFESSIONAL SERVICES",
           "SALES SERVICES",
           "SECONDARY FREIGHT",
           "SURPRISE L2",
           "WAREHOUSING",
           "WORKPLACE SERVICES",
           "ADMINISTRATION COST",
           "ADMINISTRATIVE SERVICES",
           "AIR FREIGHT TRANSPORT",
           "B&U PROFESSIONAL SERVICES",
           "BONUS / MALUS (WAREHOUSING)",
           "CERTIFICATIONS",
           "CLEANING",
           "CLEANING (LOCAL)",
           "COMMERCIAL QUALITY AND FRESHNESS",
           "CONSULTANCY SERVICES",
           "CONSUMER RESEARCH (AD-HOC)",
           "CONSUMERS PROMOTION ACTIVITIES",
           "CREATIVE DESIGN",
           "CREATIVE DEVELOPMENT & STRATEGY",
           "DIGITAL & SOCIAL MEDIA MARKETING",
           "DISTRIBUTION",
           "EMPLOYEE SERVICES",
           "EMPLOYEE SERVICES (LOCAL)",
           "ENERGY CERTIFICATES",
           "ENERGY FOR INDUSTRIAL PLANT",
           "EVENTS",
           "EVENTS (LOCAL)",
           "EXPORT OTHER COMMODITIES (AUTOMATIC)",
           "FACILITY MANAGEMENT HARDSERVICES FOR INDUSTRIAL LOCATIONS",
           "FACILITY MANAGEMENT SOFTSERVICES FOR INDUSTRIAL LOCATIONS",
           "FLEET",
           "FLEET (LOCAL)",
           "FOOD SERVICES",
           "FOOD SERVICES (LOCAL)",
           "FREIGHT FORWARDING AGENCIES",
           "FUMIGATION",
           "GADGETS",
           "HANDLING",
           "HARDWARE - PURCHASE/LEASING/MAINTENANCE",
           "HARDWARE - SUBSCRIPTIONS INFRA",
           "INDUSTRIAL AUTOMATION AND ROBOTICS",
           "INFRASTRUCTURE",
           "INSURANCE SERVICES",
           "INSURANCE SERVICES (LOCAL)",
           "LABORATORY EQUIPMENT AND SERVICES",
           "LEGAL & NOTARY SERVICES (LOCAL)",
           "LEGAL & TAX SERVICES",
           "LEGAL CONSULTING (LOCAL)",
           "LICENSING & RIGHTS",
           "MAINTENANCE & IMPROVEMENTS",
           "MAINTENANCE & IMPROVEMENTS (LOCAL)",
           "MAINTENANCE SERVICES",
           "MAN WORK PER HOUR",
           "MARKET MEASUREMENT",
           "MARKETING EVENTS",
           "MERCHANDISING & HOSTESS & BROKER COMMISSIONS",
           "MOLDING & OVENS",
           "NUTS EQUIPMENT & AGRI MOBILE MACHINE",
           "OFFICE SUPPLIES AND SERVICES",
           "OFFICE SUPPLIES AND SERVICES (LOCAL)",
           "OTHER CONSULTING (LOCAL)",
           "OTHER LOGISTICS COSTS",
           "OTHER NON GP SERVICES",
           "OTHER SALES SERVICES",
           "OUTSOURCING - NETWORK TRANSMISSION (LOCAL)",
           "PALLETTS PURCHASING MTL",
           "PALLETTS RENT & LEASE SVC",
           "PAYROLL",
           "PICKING",
           "POS MATERIAL",
           "PREPARATION",
           "PRIMARY PACKAGING",
           "PRODUCTION",
           "PROMOTIONAL ITEMS",
           "PUBLIC RELATIONS",
           "RAIL TRANSPORT",
           "REAL ESTATE",
           "REAL ESTATE (LOCAL)",
           "RECRUITMENT SERVICE",
           "RELOCATION",
           "REPACKING",
           "RETAIL PANELS",
           "ROAD TRANSPORT",
           "SEA TRANSPORT",
           "SECONDARY PACKAGING",
           "SECURITY",
           "SECURITY (LOCAL)",
           "SERVICES - MANAGED SERVICE",
           "SERVICES - T&M/BODY LEASING",
           "SOFTWARE - MAINTENANCE FOR PERPETUAL LICENSES",
           "SOFTWARE - SUBSCRIPTIONS/LICENSES",
           "SPONSORING",
           "STANDALONE EQUIPMENT",
           "STORAGE",
           "SUBSCRIPTIONS/MEMBERSHIPS",
           "SURPRISE L3",
           "TECHNICAL DEVICES FOR POS",
           "TECHNICAL MATERIALS, PPE & CLOTHES",
           "TEMPORARY PERSONNEL",
           "TEMPORARY PERSONNEL (LOCAL)",
           "TRAINING",
           "TRAINING (LOCAL)",
           "TRAVEL",
           "TRAVEL (LOCAL)",
           "UTILITIES",
           "UTILITIES FOR OFFICES (LOCAL)",
           "WAREHOUSE & LOGISTIC",
           "WAREHOUSING LOCATION & LEASING",
           "WASTE MANAGEMENT",
           "Administrative Costs Warehousing",
           "Employees tax services",
           "Financial Audit",
           "Other auditing",
           "Outsourcing of administrative services (bpo)",
           "Services for credit collection",
           "Air Freight Export Fees Costs",
           "Air Freight Transportation Finished Goods",
           "Air Packaging",
           "Air RAW MATERIALS",
           "Air SEMI-FINISHED GOODS",
           "Air Surprises",
           "Design Services",
           "Health and Safety - Site Supervision",
           "Property Cost Estimation & Acquisition",
           "Site supervision",
           "Technical certifications, engineering-related consulting(TS)",
           "Bonus / Malus Warehousing",
           "Environmental Analysis",
           "Standard certifications",
           "Surprises certification",
           "Cleaning, Waste,Pest Services and Material for No Industrial",
           "TR - Cleaning services (GenAdm)",
           "TR - Cleaning services (GenProd)",
           "TR - Pest Control services (GenProd)",
           "Commercial Quality and Freshness monitoring",
           "Function related / professional consultancy",
           "M&A related consultancies",
           "Strategic, Managerial & organizational consulting",
           "Other research activities on consumer, shopper and citizen",
           "Research activities for qualifying Innovation initiatives",
           "Research activities to assess the ADV/Communication Perf.",
           "Researches to understand Consumers, Shopper, Markets",
           "Design & Management of Digital Promotion",
           "Design & Management of non Digital Promotion",
           "Discount Coupons",
           "OTHER SALE DISCOUNTS",
           "Packaging & POS - Artwork, Technical finalization&Templates",
           "Packaging & POS - Creative Concept",
           "Packaging & POS - Mockups / Samples",
           "Surprises - Creative Concepts DIGITAL",
           "Surprises - Creative Concepts TRADITIONAL",
           "Surprises - Marketing Sheets",
           "Surprises - Technical Development",
           "Brand & Communication Strategy",
           "Creative Concept for Advertising Campaigns DIGITAL",
           "Creative Concept for Advertising Campaigns TRADITIONAL",
           "E-commerce Advertising Creative Development",
           "E-commerce Advertising Production",
           "Influencers & Testimonials",
           "SEO/SEM",
           "Social Media Management",
           "Website / App Creation & Maintenance",
           "Control Tower Services",
           "Distribution to Customers and Returned Goods from Customers",
           "Cash Donations",
           "Donations",
           "Donations to employees",
           "Employees Transport Services",
           "Employees event and social activities cost",
           "Health and Safety GP",
           "Medical Services",
           "Recreation employees benefits",
           "School & Kinder garden fees",
           "Translations and interpreting services",
           "TR - Donations to employees (GenAdm)",
           "TR - Employees Transport Services (GenAdm)",
           "TR - Employees Transport Services (GenProd)",
           "TR - Employees event and social activities cost (GenAdm)",
           "TR - Employees event and social activities cost (GenProd)",
           "TR - Health and Safety (GenAdm)",
           "TR - Health and Safety (GenProd)",
           "TR - Translations and interpreting services (GenAdm)",
           "Energy certifications for power",
           "Electrical Energy for Industrial Plant",
           "Fuel for industrial plant",
           "Gas for Industrial Plant",
           "TR - Other Fuel Exp - no deductible",
           "TR - PURCHASE DISTRICT HEATING (GENADM)",
           "Corporate event Expenses",
           "Entertainment expenses (No deductible)",
           "No Commercial Sponsorships",
           "Public relation costs",
           "ITL - Altre spese di rappresentanza",
           "ITL - Spese di rappresentanza",
           "ITL - Spese di rappresentanza min valore",
           "Transport Intermediate Products",
           "Transport Packaging",
           "Transport Raw Materials",
           "Transport Semi Finished",
           "Transport Surprises",
           "Civil maintenance",
           "Electrical Maintenance",
           "Integrated Facility Maintenance",
           "Mechanical maintenance",
           "Cleaning Consultancy and Services",
           "Pest Control",
           "Technical Cleaning material",
           "Waste Management for industrial location",
           "Waste Water Treatment Services",
           "Company Vehicles - Fuel, Oil and other",
           "Company Vehicles - Lease",
           "Company Vehicles - Maintenance costs",
           "Company Vehicles - Management costs",
           "Company Vehicles - Other vehicles",
           "Company Vehicles - Purchase",
           "TR - Company Vehicles - Fuel, Oil and other (GenAdm)",
           "TR - Company Vehicles - Fuel, Oil and other (GenProd)",
           "TR - Company Vehicles - Lease (GenAdm)",
           "TR - Company Vehicles - Lease (GenProd)",
           "TR - Company Vehicles - Lease (S-Wh)",
           "TR - Company Vehicles - Maintenance costs (GenProd)",
           "CANTEEN SERVICES",
           "Catering services",
           "TICKETS RESTAURANT",
           "TR - Canteen Services (GenAdm)",
           "TR - Canteen Services (GenProd)",
           "CUSTOM DECLARATION SERVICES",
           "Customs Docum./Forwarder Services Finish Products",
           "Customs Docum./Forwarder Services Interm-Finished Prd-FI",
           "Customs Docum./Forwarder Services Packaging",
           "Customs Docum./Forwarder Services RAW MATERIALS",
           "Customs Docum./Forwarder Services SEMI-FINISHED GOODS",
           "Customs Docum./Forwarder Services Surprises",
           "Fumigation RAW MATERIALS",
           "Fumigation Svc",
           "GADGET",
           "GADGET OTHER",
           "In-Pack Gadgets_Commercial Co-Pack",
           "In-Pack Gadgets_Industrial co-pack",
           "Services Gadget",
           "Forklift And Machinery Rentals (Ops)",
           "Handling Finish Products",
           "Handling Interm-Finished Prd-FI",
           "Handling RAW MATERIALS",
           "Handling Services",
           "Hardware - Leasing End-User Computing",
           "Hardware - Leasing High Value Server&Storage (>5000$)",
           "Hardware - Leasing Low Value Server&Storage (<5000$)",
           "Hardware - Leasing Printers",
           "Hardware - Maintenance",
           "Hardware - Maintenance Server&Storage",
           "Hardware - Maintenance Voice and Data Network",
           "Hardware - Purchase End-User Computing CAPEX",
           "Hardware - Purchase Server&Storage CAPEX",
           "Hardware - Purchase Voice and Data Network CAPEX",
           "Hardware - Purchase for Mobile devices",
           "Hardware - Purchase for Videoconference devices",
           "Hardware-Leasing High Value Voice and Data Network (>5000$)",
           "Hardware-Leasing Low Value Voice and Data Network (<5000$)",
           "Hardware - Server&Storage (IaaS)",
           "Automation Technical Materials",
           "Automation professional services",
           "CPX - Automation and Digital Software",
           "CPX Electrical and Automation Cabinets",
           "CPX Industrial robotic application system",
           "CPX-Flexible & Advanced Robotics (e.g. cobots,AGV/AMR,drones",
           "OPX - Software, Licence Fee, Assistance",
           "CPX: Civil Equipment / Works",
           "CPX: Electrical Equipment & Installation",
           "CPX: Energy (Sustainability) / Investments",
           "CPX: General Contractos",
           "CPX: Mechanical Equipment & Installation",
           "CPX: Waste Water & Gas Treatment",
           "Plant Utilities EaaS (Equipment as a Service)",
           "Property acquisition",
           "Specific Material For Utilities Machinery And Equipment",
           "Cargo (Insurance)",
           "Client receivables insurance",
           "Cyber Insurance",
           "D&O (Insurance)",
           "Environmental EIL (Insurance)",
           "Liability (Insurance)",
           "Motor vehicle insurance",
           "Optional insurance employees",
           "Optional insurance manager",
           "Personal Insurance",
           "Property Damage and Business Interruption",
           "SUND.LOCAL TX&DUTY",
           "SUNDRY INSURANCE",
           "Travel insurance",
           "TR - Personal insurance (GenAdm)",
           "TR - Sundry insurance (GenAdm)",
           "CHEMICAL MATERIAL",
           "CPX: Equipment",
           "Consumable",
           "Laboratory",
           "Maintenance And Services On Laboratory Equipments",
           "Technical Consultancy And External Lab Analysis",
           "TR - Expenses for notary charges (GenAdm)",
           "Legal Advisory",
           "Legal services",
           "Patents management / Intellectual Property (IP)",
           "Tax & Customs Services Cost",
           "Web domain management",
           "TR - HR&OI Consulting (GenAdm)",
           "TR - Legal consulting (GenAdm)",
           "Licensing - Brands & Content DIGITAL",
           "Licensing - Brands & Content TRADITIONAL",
           "Licensing - Music DIGITAL",
           "Licensing - Music TRADITIONAL",
           "Rights buyout-Authors,Artists,Performers,Personality DIGITAL",
           "Rights buyout-Authors,Artists,Performers,Personality TRADI",
           "BUILDING MAINTENANCE",
           "Building Third Party - Improvements & Equipment Cost",
           "Building owned - Improvements & equipment cost",
           "Building owned - Improvements cost",
           "Ground and green areas maintenance,inclu industrial premises",
           "Industrial Cleaning",
           "Office machines & equipment - Investment",
           "Office machines & equipment - Maintenance",
           "Research & Development cost",
           "Waste treatment, recycling and disposal services",
           "TR - Building Maintenance (GenAdm)",
           "TR - Ground and green areas maintenance (GenAdm)",
           "TR - Ground and green areas maintenance (GenProd)",
           "TR - Handyman services (GenAdm)",
           "TR - Waste treatment, recycling and disposal services (S-Wh)",
           "TR-Waste treatment,recycling and disposal services (GenProd)",
           "CPX - Services in project scope",
           "Maintenace service not depreciable (Maintenance Order)",
           "OPX - Extraordinary Maintenance",
           "OPX - Ordinary Maintenance",
           "OPX - Retrofit/revamping of an equipment or line",
           "Rental Services Fee",
           "Man work per hour svc",
           "Ad hoc reports/analysis on syndicated data (excl RMS)",
           "Consumer panel on-going subscriptions",
           "Other syndicated subscriptions (excluding RMS, CPS)",
           "Panel SPE management",
           "Purchase of product sampling",
           "Subscriptions on Market measurement (license fees)",
           "Brand promotion events",
           "Testimonials Costs",
           "Broker Commissions",
           "Hostess services",
           "Merchandising services",
           "CPX - Basin",
           "CPX - Dosing & Enrobing",
           "CPX - Handling Systems",
           "CPX - Molding :  Ferrero Design & Build",
           "CPX - Molding equipment",
           "CPX - Molds and Forming Equipments",
           "CPX - Oven",
           "CPX - Plate Oven",
           "CPX - Tempering",
           "CPX - Thermic tunnels",
           "Process Engineering professional services",
           "CPX - Agri mobile machine (tractor, harvester)",
           "CPX - Calibrator",
           "CPX - Conveyors,Elevators,Transports, Big Bag station",
           "CPX - General Contractor",
           "CPX - Optical sorters",
           "CPX - Pre-Cleaning/Drying/Vacuum system",
           "CPX - Shellers",
           "CPX - Silos",
           "OPX - Agri Mobile Machine (Tractor, Harvester)",
           "Archiving Services",
           "Office Furniture - Capex",
           "Office supplies",
           "Other Consumables, Material and Small Supplies",
           "Postage & Couriers Fees",
           "Printing Supplies",
           "Printing, photography and videomaking services",
           "Safety supplies",
           "TR - Accessories technology supplies (GenAdm)",
           "TR - Accessories technology supplies (GenProd)",
           "TR - Archiving Services (GenAdm)",
           "TR - Office supplies (GenAdm)",
           "TR - Office supplies (GenProd)",
           "TR - Postage & Couriers Fees (GenAdm)",
           "TR - Postage & Couriers Fees (GenProd)",
           "TR - Printing Supplies (GenProd)",
           "TR - Safety supplies (GenAdm)",
           "TR - Small Furniture - Opex (GenAdm)",
           "TR - Small Furniture - Opex (GenProd)",
           "TR - Tolls and parking",
           "TR - IA & Corporate Communication consulting (GenAdm)",
           "TR - Technical Consulting non-Industrial Buildings (GenAdm)",
           "OTHER LOGISTIC COSTS",
           "Quality Premium Interm-Finished Prd-FI",
           "Penalties and Fines (deductible)",
           "Retail Data monitoring",
           "Sales and B2B Events",
           "TR - Opx Voice, Data Network-Transms(GenAdm)",
           "1/4 Wood Pallets",
           "Epal 80x120 Pallets New",
           "Epal 80x120 Pallets Used 1st Choice",
           "Industrial 100x120 Pallets",
           "Rental 1/2 Plastic Pallets",
           "Rental 1/4 Plastic Pallets",
           "Rental 80x120 Pallets",
           "Rental Industrial 100x120 Pallets",
           "PAYROLL SERVICES",
           "Picking Finish Products",
           "Picking Interm-Finished Prd-FI",
           "Picking RAW MATERIALS",
           "Picking Services",
           "Communication POS material Production",
           "In/Out Functional Display Production - Customized",
           "In/Out Functional Display Production - Standard",
           "In/Out Theatrical Materials Production - Customized",
           "In/Out Theatrical Materials Production - Standard",
           "POS material Development & Sampling",
           "POS material Molds, Toolings, Die Cuts CAPEX",
           "POS materials Storage and Logistic",
           "PROMOTIONAL POINT OF SALE",
           "CPX - Belts",
           "CPX - Cocoa Presses",
           "CPX - Deodorizations",
           "CPX - Dough Preparation",
           "CPX - Liquid Handling & Processing",
           "CPX - Powder handling & processing",
           "CPX - Refiners (incl. prerefiners, conches, mills)",
           "CPX - Roaster",
           "CPX - Tanks (incl. mixer, plastificators)",
           "CPX - Counter and filling machine",
           "CPX - Flow wrapper",
           "CPX - Infeed (incl. raw distributor system / buffer)",
           "CPX - Sealing machine",
           "CPX - Thermoforming",
           "CPX - Wrapping machines",
           "Post-Production of Advertising Content DIGITAL",
           "Post-Production of Advertising Content TRADITIONAL",
           "Production of Advertising Content DIGITAL",
           "Production of Advertising Content TRADITIONAL - Radio",
           "Production of Advertising Content TRADITIONAL - TVC",
           "Production of Advertising Content TRADITIONAL-OOH,Static",
           "Promotional items (including consumer giveaway)",
           "Media Relations, Membership & Partnership",
           "PR Communication Strategy, Advisory, Issues Management",
           "PR Digital Activities & Tools",
           "Rail Surprises",
           "Additional Services and Costs for Real Estate Lease",
           "Co-working & flexible spaces lease",
           "Local Small Building rent",
           "Real Estate Office Lease",
           "Real Estate Short-Term Lease <12 Months",
           "Real estate Retail lease",
           "Real estate others (no industrial, no supply chain)",
           "TR - Real Estate Office Lease (GenAdm)",
           "Job postings",
           "RECRUITMENT",
           "Employees relocation services",
           "Long Stay Relocation",
           "Repacking/Rebulking Finish Products",
           "Repacking/Rebulking RAW MATERIALS",
           "Ad hoc reports/ analysis performed on Retail Panel DB",
           "Retail Panels DB",
           "Subscriptions on Retail panels (license fees)",
           "Booking System Services - Third Parties (TBD)",
           "Destruction Product Transport",
           "EXPORT EXPENSES FOR",
           "Export Expenses For Various Sales",
           "Extra Cost  Transpor Finished product",
           "Extra Cost  Transpor Interm-finished Product",
           "Extra Cost  Transpor Packaging",
           "Extra Cost  Transpor Raw Material",
           "Extra Cost  Transpor Semi-finished Product",
           "Extra Cost  Transpor Surprise",
           "Extra-waiting Finish Products",
           "Extra-waiting Interm-Finished Prd-FI",
           "Extra-waiting Packaging",
           "Extra-waiting RAW MATERIALS",
           "Extra-waiting SEMI-FINISHED GOODS",
           "Extra-waiting Surprises",
           "Inspections/Sanitary Controls Finish Products",
           "Inspections/Sanitary Controls Interm-Finished Prd-FI",
           "Inspections/Sanitary Controls SEMI-FINISHED GOODS",
           "Road Finish Products",
           "Road Interm-Finished Prd-FI",
           "Road Packaging",
           "Road RAW MATERIALS",
           "Road SEMI-FINISHED GOODS",
           "Road Surprises",
           "Road Transportation",
           "Road Transportation Administrative Costs",
           "Road Transportation Costs For Foreign Stays (Demurrages)",
           "Road Transportation Finished Products Export Costs",
           "Road Transportation Fleet Rental & Depots",
           "Special Projects Finish Products",
           "Sea Finish Products",
           "Sea Interm-Finished Prd-FI",
           "Sea Packaging",
           "Sea RAW MATERIALS",
           "Sea SEMI-FINISHED GOODS",
           "Sea Surprises",
           "Sea Transportation",
           "Sea Transportation Export Fees Costs",
           "CPX - Bagging Machines",
           "CPX - Box Forming Machine",
           "CPX - Forming, filling and closing",
           "CPX - Pal- & Depalletizers",
           "CPX - Sleeve & Shrink Machines",
           "CCTV",
           "Manned guarding services",
           "People Security Services",
           "Physical and Supply Chain security",
           "Porter and reception services",
           "Risk assessment and threat intelligence",
           "Security technology",
           "TR - People Security (GenAdm)",
           "TR - Security technology (GenAdm)",
           "1st Level Support Outsourcing Applications",
           "1st Level Support Outsourcing Technology",
           "2nd Level Suport Outsourcing Applications",
           "2nd Level Support Outsourcing Technology",
           "Applications Development - System Integration CAPEX",
           "End-User Computing Laptop, Workstation Outsourcing",
           "End-User Computing Mobile Communications Outsourcing",
           "End-User Computing Mobile Management Outsourcing",
           "Server&Storage Outsourcing",
           "Voice and Data Network Communications Outsourcing",
           "Voice and Data Network Outsourcing",
           "Applications Development T&M CAPEX",
           "Applications Run and Maintenance T&M",
           "Corporate IT Management, Finance and Administration T&M",
           "End-User Computing T&M",
           "IT Service Desk T&M",
           "Server&Storage T&M",
           "Server&Storage T&M CAPEX",
           "Voice and Data Network T&M",
           "Maintenance Application Software",
           "Maintenance End-User Computing Software",
           "Maintenance Server&Storage Software",
           "Maintenance Voice and Data Network Software",
           "Application Perpetual Licenses CAPEX",
           "Cloud Application Development",
           "Cloud License Application Maintenance",
           "End-User Computing Licenses CAPEX",
           "Purchase Applications Licenses",
           "Server&Storage Licenses CAPEX",
           "Subscription End-User Computing (SaaS)",
           "Subscription Voice and Data Network (IaaS)",
           "Voice and Data Network Licenses CAPEX",
           "Events Sponsorships & Partnership",
           "CPX - Check weigher",
           "CPX - Conveyors and Handling",
           "CPX - Gluing machine",
           "CPX - Labellers",
           "CPX - Metal detector",
           "CPX - Printer",
           "CPX - Vision & Cameras",
           "CPX - X-Ray",
           "OTHER LOGISTIC COSTS (FG WH)",
           "Storage Finish Products",
           "Storage Finished Products (co-packing)",
           "Storage Interm-Finished Prd-FI",
           "Storage Mtl",
           "Storage Packaging",
           "Storage RAW MATERIALS",
           "Storage SEMI-FINISHED GOODS",
           "Storage Surprises",
           "Books, periodicals subscription (digital or not)",
           "Business Association fees",
           "Data source provider, knowledge database subscription",
           "NGO, Donations",
           "PALLETS",
           "Check Out Display Production",
           "Fridges lease/rent and other tech devices for point of Sale",
           "Fridges production and other tech devices for POS - CAPEX",
           "Fridges production and other tech devices for POS-excl CAPEX",
           "PROM.MAT.CASHDESK",
           "PROMO POS MODERN",
           "PROMO POS TRADNL",
           "PROMOTIONAL GIFTS",
           "Permanent Materials Production - Secondary Placement",
           "Services for fridge and other tech devices for Point of Sale",
           "Axes/shafts",
           "BEARINGS AND LINEAR GUIDES",
           "BRAKES AND CLUTCHES",
           "Batteries",
           "Belts",
           "Brushes",
           "Building materials",
           "CONTROL INSTRUMENTS",
           "CPX Technical Material",
           "Cams",
           "Chains",
           "Cod - PPE, Safety Work Products, Fire Protection",
           "Codified - Clothes & Uniforms, Safety Shoes",
           "Computer (process)",
           "Couplings",
           "Cutting tools",
           "Cylinders",
           "Dampers",
           "Dosing nozzles",
           "ELECTRIC MOTORS AND DRIVES",
           "ELECTRICAL / ELECTRONICAL COMPONENTS",
           "Electric cables",
           "Electronic cables",
           "FIXING ELEMENTS",
           "Fans",
           "Filters",
           "Flexible pipes",
           "Fuels",
           "GEARS",
           "Gas Consumables",
           "Gaskets/Seals",
           "Gearboxes",
           "Generic consumables",
           "Glues",
           "HYDRAULIC AND PNEUMATIC FITTINGS",
           "Heaters",
           "Infirmary",
           "Laundry Services",
           "Levers",
           "Lighting",
           "Locks, Handles",
           "Lubricants",
           "Measure devices and Control instruments",
           "Not cod - PPE, Safety Work Products, Fire Protection",
           "Not codified - Clothes & Uniforms, Safety Shoes",
           "Other Materials Immediate Use for Maintenance Plant",
           "Other Materials Immediate Use for Production Assistance",
           "Other Spare parts (not codified, catalogues items)",
           "PHOTOCELLS AND PROXIMITY SWITCHES",
           "PRINTERS CONSUMABLES",
           "PRINTERS SPARE PARTS",
           "PRODUCTION TOOLS",
           "Paint",
           "Pulleys",
           "Pumps",
           "Rigid pipes",
           "Rollers",
           "SPARE PARTS FOR GAS PLANTS",
           "SPECIFIC DRAWING COMPONENTS",
           "SPROCKET WHEELS",
           "Screws",
           "Spare Parts - Conveyors",
           "Spare Parts Utilities",
           "Spare parts kits",
           "Springs",
           "Suction cups",
           "Valves",
           "Vibrators",
           "WORKSHOP TOOLS",
           "Water for industrial plant",
           "Wheels",
           "Сonstruction",
           "Temporary Personnels",
           "TR - Temporary personnel (GenAdm)",
           "TR - Temporary personnel (GenProd)",
           "Training Design & Cost of Personal",
           "TR - Training costs of personnel (GenAdm)",
           "TR - Training costs of personnel (GenProd)",
           "Hotel accommodation",
           "Long stay accommodation",
           "Other travel services",
           "Transportation - Flights",
           "Transportation - Other",
           "Transportation - Short-term Rental Cars",
           "Travel Agencies fees & services",
           "TR - Travel Agencies fees & services (GenAdm)",
           "TR - Travel Agencies fees & services (GenProd)",
           "Utilities - Electric Energy for Offices",
           "Utilities - Office Gas",
           "Utilities - Office Water",
           "TR - ELECTRICITY (GENADM)",
           "TR - ELECTRICITY (GENPROD)",
           "TR - GAS (GENPROD)",
           "TR - WATER (GENADM)",
           "TR - WATER (GENPROD)",
           "CPX - Automatic Warehouses",
           "CPX - Conveying Systems",
           "CPX - Forklifts (Buy)",
           "CPX - Warehousing - Racks",
           "OPX - Forklifts (Rental & Service)",
           "TR-Specific Mtl For Warehouse, Lift And Handl. Equip.(S-Wh)",
           "WAREHOUSE LEASE",
           "Warehouse Rent",
           "Warehouse Rental Other Costs (cleaning, security, etc…)",
           "Waste Management Svc"
          ],
          "line": {
           "color": "black",
           "width": 0.5
          },
          "pad": 15,
          "thickness": 20
         },
         "type": "sankey"
        }
       ],
       "layout": {
        "font": {
         "size": 10
        },
        "template": {
         "data": {
          "bar": [
           {
            "error_x": {
             "color": "#2a3f5f"
            },
            "error_y": {
             "color": "#2a3f5f"
            },
            "marker": {
             "line": {
              "color": "#E5ECF6",
              "width": 0.5
             },
             "pattern": {
              "fillmode": "overlay",
              "size": 10,
              "solidity": 0.2
             }
            },
            "type": "bar"
           }
          ],
          "barpolar": [
           {
            "marker": {
             "line": {
              "color": "#E5ECF6",
              "width": 0.5
             },
             "pattern": {
              "fillmode": "overlay",
              "size": 10,
              "solidity": 0.2
             }
            },
            "type": "barpolar"
           }
          ],
          "carpet": [
           {
            "aaxis": {
             "endlinecolor": "#2a3f5f",
             "gridcolor": "white",
             "linecolor": "white",
             "minorgridcolor": "white",
             "startlinecolor": "#2a3f5f"
            },
            "baxis": {
             "endlinecolor": "#2a3f5f",
             "gridcolor": "white",
             "linecolor": "white",
             "minorgridcolor": "white",
             "startlinecolor": "#2a3f5f"
            },
            "type": "carpet"
           }
          ],
          "choropleth": [
           {
            "colorbar": {
             "outlinewidth": 0,
             "ticks": ""
            },
            "type": "choropleth"
           }
          ],
          "contour": [
           {
            "colorbar": {
             "outlinewidth": 0,
             "ticks": ""
            },
            "colorscale": [
             [
              0,
              "#0d0887"
             ],
             [
              0.1111111111111111,
              "#46039f"
             ],
             [
              0.2222222222222222,
              "#7201a8"
             ],
             [
              0.3333333333333333,
              "#9c179e"
             ],
             [
              0.4444444444444444,
              "#bd3786"
             ],
             [
              0.5555555555555556,
              "#d8576b"
             ],
             [
              0.6666666666666666,
              "#ed7953"
             ],
             [
              0.7777777777777778,
              "#fb9f3a"
             ],
             [
              0.8888888888888888,
              "#fdca26"
             ],
             [
              1,
              "#f0f921"
             ]
            ],
            "type": "contour"
           }
          ],
          "contourcarpet": [
           {
            "colorbar": {
             "outlinewidth": 0,
             "ticks": ""
            },
            "type": "contourcarpet"
           }
          ],
          "heatmap": [
           {
            "colorbar": {
             "outlinewidth": 0,
             "ticks": ""
            },
            "colorscale": [
             [
              0,
              "#0d0887"
             ],
             [
              0.1111111111111111,
              "#46039f"
             ],
             [
              0.2222222222222222,
              "#7201a8"
             ],
             [
              0.3333333333333333,
              "#9c179e"
             ],
             [
              0.4444444444444444,
              "#bd3786"
             ],
             [
              0.5555555555555556,
              "#d8576b"
             ],
             [
              0.6666666666666666,
              "#ed7953"
             ],
             [
              0.7777777777777778,
              "#fb9f3a"
             ],
             [
              0.8888888888888888,
              "#fdca26"
             ],
             [
              1,
              "#f0f921"
             ]
            ],
            "type": "heatmap"
           }
          ],
          "heatmapgl": [
           {
            "colorbar": {
             "outlinewidth": 0,
             "ticks": ""
            },
            "colorscale": [
             [
              0,
              "#0d0887"
             ],
             [
              0.1111111111111111,
              "#46039f"
             ],
             [
              0.2222222222222222,
              "#7201a8"
             ],
             [
              0.3333333333333333,
              "#9c179e"
             ],
             [
              0.4444444444444444,
              "#bd3786"
             ],
             [
              0.5555555555555556,
              "#d8576b"
             ],
             [
              0.6666666666666666,
              "#ed7953"
             ],
             [
              0.7777777777777778,
              "#fb9f3a"
             ],
             [
              0.8888888888888888,
              "#fdca26"
             ],
             [
              1,
              "#f0f921"
             ]
            ],
            "type": "heatmapgl"
           }
          ],
          "histogram": [
           {
            "marker": {
             "pattern": {
              "fillmode": "overlay",
              "size": 10,
              "solidity": 0.2
             }
            },
            "type": "histogram"
           }
          ],
          "histogram2d": [
           {
            "colorbar": {
             "outlinewidth": 0,
             "ticks": ""
            },
            "colorscale": [
             [
              0,
              "#0d0887"
             ],
             [
              0.1111111111111111,
              "#46039f"
             ],
             [
              0.2222222222222222,
              "#7201a8"
             ],
             [
              0.3333333333333333,
              "#9c179e"
             ],
             [
              0.4444444444444444,
              "#bd3786"
             ],
             [
              0.5555555555555556,
              "#d8576b"
             ],
             [
              0.6666666666666666,
              "#ed7953"
             ],
             [
              0.7777777777777778,
              "#fb9f3a"
             ],
             [
              0.8888888888888888,
              "#fdca26"
             ],
             [
              1,
              "#f0f921"
             ]
            ],
            "type": "histogram2d"
           }
          ],
          "histogram2dcontour": [
           {
            "colorbar": {
             "outlinewidth": 0,
             "ticks": ""
            },
            "colorscale": [
             [
              0,
              "#0d0887"
             ],
             [
              0.1111111111111111,
              "#46039f"
             ],
             [
              0.2222222222222222,
              "#7201a8"
             ],
             [
              0.3333333333333333,
              "#9c179e"
             ],
             [
              0.4444444444444444,
              "#bd3786"
             ],
             [
              0.5555555555555556,
              "#d8576b"
             ],
             [
              0.6666666666666666,
              "#ed7953"
             ],
             [
              0.7777777777777778,
              "#fb9f3a"
             ],
             [
              0.8888888888888888,
              "#fdca26"
             ],
             [
              1,
              "#f0f921"
             ]
            ],
            "type": "histogram2dcontour"
           }
          ],
          "mesh3d": [
           {
            "colorbar": {
             "outlinewidth": 0,
             "ticks": ""
            },
            "type": "mesh3d"
           }
          ],
          "parcoords": [
           {
            "line": {
             "colorbar": {
              "outlinewidth": 0,
              "ticks": ""
             }
            },
            "type": "parcoords"
           }
          ],
          "pie": [
           {
            "automargin": true,
            "type": "pie"
           }
          ],
          "scatter": [
           {
            "fillpattern": {
             "fillmode": "overlay",
             "size": 10,
             "solidity": 0.2
            },
            "type": "scatter"
           }
          ],
          "scatter3d": [
           {
            "line": {
             "colorbar": {
              "outlinewidth": 0,
              "ticks": ""
             }
            },
            "marker": {
             "colorbar": {
              "outlinewidth": 0,
              "ticks": ""
             }
            },
            "type": "scatter3d"
           }
          ],
          "scattercarpet": [
           {
            "marker": {
             "colorbar": {
              "outlinewidth": 0,
              "ticks": ""
             }
            },
            "type": "scattercarpet"
           }
          ],
          "scattergeo": [
           {
            "marker": {
             "colorbar": {
              "outlinewidth": 0,
              "ticks": ""
             }
            },
            "type": "scattergeo"
           }
          ],
          "scattergl": [
           {
            "marker": {
             "colorbar": {
              "outlinewidth": 0,
              "ticks": ""
             }
            },
            "type": "scattergl"
           }
          ],
          "scattermapbox": [
           {
            "marker": {
             "colorbar": {
              "outlinewidth": 0,
              "ticks": ""
             }
            },
            "type": "scattermapbox"
           }
          ],
          "scatterpolar": [
           {
            "marker": {
             "colorbar": {
              "outlinewidth": 0,
              "ticks": ""
             }
            },
            "type": "scatterpolar"
           }
          ],
          "scatterpolargl": [
           {
            "marker": {
             "colorbar": {
              "outlinewidth": 0,
              "ticks": ""
             }
            },
            "type": "scatterpolargl"
           }
          ],
          "scatterternary": [
           {
            "marker": {
             "colorbar": {
              "outlinewidth": 0,
              "ticks": ""
             }
            },
            "type": "scatterternary"
           }
          ],
          "surface": [
           {
            "colorbar": {
             "outlinewidth": 0,
             "ticks": ""
            },
            "colorscale": [
             [
              0,
              "#0d0887"
             ],
             [
              0.1111111111111111,
              "#46039f"
             ],
             [
              0.2222222222222222,
              "#7201a8"
             ],
             [
              0.3333333333333333,
              "#9c179e"
             ],
             [
              0.4444444444444444,
              "#bd3786"
             ],
             [
              0.5555555555555556,
              "#d8576b"
             ],
             [
              0.6666666666666666,
              "#ed7953"
             ],
             [
              0.7777777777777778,
              "#fb9f3a"
             ],
             [
              0.8888888888888888,
              "#fdca26"
             ],
             [
              1,
              "#f0f921"
             ]
            ],
            "type": "surface"
           }
          ],
          "table": [
           {
            "cells": {
             "fill": {
              "color": "#EBF0F8"
             },
             "line": {
              "color": "white"
             }
            },
            "header": {
             "fill": {
              "color": "#C8D4E3"
             },
             "line": {
              "color": "white"
             }
            },
            "type": "table"
           }
          ]
         },
         "layout": {
          "annotationdefaults": {
           "arrowcolor": "#2a3f5f",
           "arrowhead": 0,
           "arrowwidth": 1
          },
          "autotypenumbers": "strict",
          "coloraxis": {
           "colorbar": {
            "outlinewidth": 0,
            "ticks": ""
           }
          },
          "colorscale": {
           "diverging": [
            [
             0,
             "#8e0152"
            ],
            [
             0.1,
             "#c51b7d"
            ],
            [
             0.2,
             "#de77ae"
            ],
            [
             0.3,
             "#f1b6da"
            ],
            [
             0.4,
             "#fde0ef"
            ],
            [
             0.5,
             "#f7f7f7"
            ],
            [
             0.6,
             "#e6f5d0"
            ],
            [
             0.7,
             "#b8e186"
            ],
            [
             0.8,
             "#7fbc41"
            ],
            [
             0.9,
             "#4d9221"
            ],
            [
             1,
             "#276419"
            ]
           ],
           "sequential": [
            [
             0,
             "#0d0887"
            ],
            [
             0.1111111111111111,
             "#46039f"
            ],
            [
             0.2222222222222222,
             "#7201a8"
            ],
            [
             0.3333333333333333,
             "#9c179e"
            ],
            [
             0.4444444444444444,
             "#bd3786"
            ],
            [
             0.5555555555555556,
             "#d8576b"
            ],
            [
             0.6666666666666666,
             "#ed7953"
            ],
            [
             0.7777777777777778,
             "#fb9f3a"
            ],
            [
             0.8888888888888888,
             "#fdca26"
            ],
            [
             1,
             "#f0f921"
            ]
           ],
           "sequentialminus": [
            [
             0,
             "#0d0887"
            ],
            [
             0.1111111111111111,
             "#46039f"
            ],
            [
             0.2222222222222222,
             "#7201a8"
            ],
            [
             0.3333333333333333,
             "#9c179e"
            ],
            [
             0.4444444444444444,
             "#bd3786"
            ],
            [
             0.5555555555555556,
             "#d8576b"
            ],
            [
             0.6666666666666666,
             "#ed7953"
            ],
            [
             0.7777777777777778,
             "#fb9f3a"
            ],
            [
             0.8888888888888888,
             "#fdca26"
            ],
            [
             1,
             "#f0f921"
            ]
           ]
          },
          "colorway": [
           "#636efa",
           "#EF553B",
           "#00cc96",
           "#ab63fa",
           "#FFA15A",
           "#19d3f3",
           "#FF6692",
           "#B6E880",
           "#FF97FF",
           "#FECB52"
          ],
          "font": {
           "color": "#2a3f5f"
          },
          "geo": {
           "bgcolor": "white",
           "lakecolor": "white",
           "landcolor": "#E5ECF6",
           "showlakes": true,
           "showland": true,
           "subunitcolor": "white"
          },
          "hoverlabel": {
           "align": "left"
          },
          "hovermode": "closest",
          "mapbox": {
           "style": "light"
          },
          "paper_bgcolor": "white",
          "plot_bgcolor": "#E5ECF6",
          "polar": {
           "angularaxis": {
            "gridcolor": "white",
            "linecolor": "white",
            "ticks": ""
           },
           "bgcolor": "#E5ECF6",
           "radialaxis": {
            "gridcolor": "white",
            "linecolor": "white",
            "ticks": ""
           }
          },
          "scene": {
           "xaxis": {
            "backgroundcolor": "#E5ECF6",
            "gridcolor": "white",
            "gridwidth": 2,
            "linecolor": "white",
            "showbackground": true,
            "ticks": "",
            "zerolinecolor": "white"
           },
           "yaxis": {
            "backgroundcolor": "#E5ECF6",
            "gridcolor": "white",
            "gridwidth": 2,
            "linecolor": "white",
            "showbackground": true,
            "ticks": "",
            "zerolinecolor": "white"
           },
           "zaxis": {
            "backgroundcolor": "#E5ECF6",
            "gridcolor": "white",
            "gridwidth": 2,
            "linecolor": "white",
            "showbackground": true,
            "ticks": "",
            "zerolinecolor": "white"
           }
          },
          "shapedefaults": {
           "line": {
            "color": "#2a3f5f"
           }
          },
          "ternary": {
           "aaxis": {
            "gridcolor": "white",
            "linecolor": "white",
            "ticks": ""
           },
           "baxis": {
            "gridcolor": "white",
            "linecolor": "white",
            "ticks": ""
           },
           "bgcolor": "#E5ECF6",
           "caxis": {
            "gridcolor": "white",
            "linecolor": "white",
            "ticks": ""
           }
          },
          "title": {
           "x": 0.05
          },
          "xaxis": {
           "automargin": true,
           "gridcolor": "white",
           "linecolor": "white",
           "ticks": "",
           "title": {
            "standoff": 15
           },
           "zerolinecolor": "white",
           "zerolinewidth": 2
          },
          "yaxis": {
           "automargin": true,
           "gridcolor": "white",
           "linecolor": "white",
           "ticks": "",
           "title": {
            "standoff": 15
           },
           "zerolinecolor": "white",
           "zerolinewidth": 2
          }
         }
        },
        "title": {
         "text": "Category Hierarchy (L1 → L4) with PO Count and Top Supplier"
        }
       }
      }
     },
     "metadata": {},
     "output_type": "display_data"
    }
   ],
   "source": [
    "# Function to extract top supplier between two levels\n",
    "def prepare_edges(df, level_from, level_to):\n",
    "    group = df.groupby([level_from, level_to, 'puor_id_lfa1_supplier']).size().reset_index(name='count')\n",
    "    idx = group.groupby([level_from, level_to])['count'].idxmax()\n",
    "    top_suppliers = group.loc[idx].reset_index(drop=True)\n",
    "    return top_suppliers.rename(columns={\n",
    "        level_from: 'source_label',\n",
    "        level_to: 'target_label',\n",
    "        'puor_id_lfa1_supplier': 'top_supplier',\n",
    "        'count': 'po_lines'\n",
    "    })\n",
    "\n",
    "# Prepare all edges for transitions: L1 → L2 → L3 → L4\n",
    "edges_l1_l2 = prepare_edges(df, 'puor_ds_level1_new', 'puor_ds_level2_new')\n",
    "edges_l2_l3 = prepare_edges(df, 'puor_ds_level2_new', 'puor_ds_level3_new')\n",
    "edges_l3_l4 = prepare_edges(df, 'puor_ds_level3_new', 'puor_ds_level4_new')\n",
    "all_edges = pd.concat([edges_l1_l2, edges_l2_l3, edges_l3_l4], ignore_index=True)\n",
    "\n",
    "# Build list of unique nodes and map to index\n",
    "nodes = pd.unique(all_edges[['source_label', 'target_label']].values.ravel('K')).tolist()\n",
    "node_indices = {label: idx for idx, label in enumerate(nodes)}\n",
    "\n",
    "# Build Sankey structure\n",
    "sources = [node_indices[row['source_label']] for _, row in all_edges.iterrows()]\n",
    "targets = [node_indices[row['target_label']] for _, row in all_edges.iterrows()]\n",
    "values = all_edges['po_lines'].tolist()\n",
    "customdata = all_edges[['source_label', 'target_label', 'top_supplier', 'po_lines']].values.tolist()\n",
    "\n",
    "# Create Sankey diagram\n",
    "fig = go.Figure(data=[go.Sankey(\n",
    "    node=dict(\n",
    "        pad=15,\n",
    "        thickness=20,\n",
    "        line=dict(color=\"black\", width=0.5),\n",
    "        label=nodes,\n",
    "        color=\"lightblue\"\n",
    "    ),\n",
    "    link=dict(\n",
    "        source=sources,\n",
    "        target=targets,\n",
    "        value=values,\n",
    "        customdata=customdata,\n",
    "        hovertemplate=(\n",
    "            \"From: %{customdata[0]}<br>\" +\n",
    "            \"To: %{customdata[1]}<br>\" +\n",
    "            \"Top Supplier: %{customdata[2]}<br>\" +\n",
    "            \"PO Lines: %{customdata[3]}<extra></extra>\"\n",
    "        )\n",
    "    ))])\n",
    "\n",
    "fig.update_layout(title_text=\"Category Hierarchy (L1 → L4) with PO Count and Top Supplier\", font_size=10)\n",
    "fig.show()\n"
   ]
  },
  {
   "cell_type": "code",
   "execution_count": 18,
   "id": "9bac6e3e",
   "metadata": {},
   "outputs": [
    {
     "data": {
      "application/vnd.plotly.v1+json": {
       "config": {
        "plotlyServerURL": "https://plot.ly"
       },
       "data": [
        {
         "arrangement": "fixed",
         "link": {
          "customdata": [
           [
            "GENERAL PROCUREMENT",
            "ENERGY AND UTILITIES FOR OFFICES",
            "SAPECCFE3_0000146073",
            23,
            4
           ],
           [
            "GENERAL PROCUREMENT",
            "IT - INFORMATION TECHNOLOGY",
            "SAPECCFE3_0000177840",
            154,
            5
           ],
           [
            "GENERAL PROCUREMENT",
            "MARKETING SERVICES",
            "SAPECCFIP_0000613482",
            282,
            7
           ],
           [
            "GENERAL PROCUREMENT",
            "MOBILITY",
            "SAPECCFE3_0000197170",
            310,
            3
           ],
           [
            "GENERAL PROCUREMENT",
            "OTHER NON GP",
            "SAPECCFE3_0000032382",
            15,
            4
           ],
           [
            "GENERAL PROCUREMENT",
            "PEOPLE SERVICES",
            "SAPECCFE3_0000078268",
            95,
            12
           ],
           [
            "GENERAL PROCUREMENT",
            "PROFESSIONAL SERVICES",
            "SAPECCFE3_0000011277",
            70,
            7
           ],
           [
            "GENERAL PROCUREMENT",
            "SALES SERVICES",
            "SAPECCFE3_0000196519",
            3641,
            5
           ],
           [
            "GENERAL PROCUREMENT",
            "SURPRISE L2",
            "SAPECCFE3_0000153522",
            52,
            4
           ],
           [
            "GENERAL PROCUREMENT",
            "WORKPLACE SERVICES",
            "SAPECCFE3_0000031341",
            1272,
            5
           ],
           [
            "SUPPLY CHAIN",
            "CUSTOM BROKERAGE & FORWARDING AGENCIES",
            "SAPECCFE3_0000184049",
            1044,
            9
           ],
           [
            "SUPPLY CHAIN",
            "PALLETTS PURCHASING",
            "SAPECCFE3_0000082107",
            30,
            1
           ],
           [
            "SUPPLY CHAIN",
            "PALLETTS RENT & LEASE",
            "SAPECCFE3_0000056027",
            168,
            1
           ],
           [
            "SUPPLY CHAIN",
            "PRIMARY TRANSPORTS",
            "SAPECCFE3_0000121401",
            24180,
            3
           ],
           [
            "SUPPLY CHAIN",
            "SECONDARY FREIGHT",
            "SAPECCFE3_0000167330",
            5674,
            3
           ],
           [
            "SUPPLY CHAIN",
            "WAREHOUSING",
            "SAPECCFE3_0000102646",
            303,
            9
           ],
           [
            "TECHNICAL PROCUREMENT",
            "AUTOMATION & MRO",
            "SAPECCFE3_0000013622",
            2077,
            61
           ],
           [
            "TECHNICAL PROCUREMENT",
            "ENERGY",
            "SAPECCFIP_0000613997",
            27,
            2
           ],
           [
            "TECHNICAL PROCUREMENT",
            "INFRASTRUCTURE & INDUSTRIAL",
            "SAPECCFIP_0000107220",
            264,
            3
           ],
           [
            "TECHNICAL PROCUREMENT",
            "PROCESS EQUIPMENT",
            "SAPECCFE3_0000057302",
            46,
            9
           ],
           [
            "AUTOMATION & MRO",
            "INDUSTRIAL AUTOMATION AND ROBOTICS",
            "SAPECCFIP_0000109460",
            46,
            16
           ],
           [
            "AUTOMATION & MRO",
            "MAINTENANCE SERVICES",
            "SAPECCFIP_0000469602",
            198,
            3
           ],
           [
            "AUTOMATION & MRO",
            "TECHNICAL MATERIALS, PPE & CLOTHES",
            "SAPECCFE3_0000013622",
            2067,
            61
           ],
           [
            "CUSTOM BROKERAGE & FORWARDING AGENCIES",
            "FREIGHT FORWARDING AGENCIES",
            "SAPECCFE3_0000184049",
            1044,
            9
           ],
           [
            "ENERGY",
            "ENERGY CERTIFICATES",
            "SAPECCFE3_0000069213",
            2,
            3
           ],
           [
            "ENERGY",
            "ENERGY FOR INDUSTRIAL PLANT",
            "SAPECCFIP_0000613997",
            27,
            2
           ],
           [
            "ENERGY AND UTILITIES FOR OFFICES",
            "UTILITIES FOR OFFICES (LOCAL)",
            "SAPECCFE3_0000146073",
            23,
            4
           ],
           [
            "INFRASTRUCTURE & INDUSTRIAL",
            "B&U PROFESSIONAL SERVICES",
            "SAPECCFIP_0000423335",
            27,
            10
           ],
           [
            "INFRASTRUCTURE & INDUSTRIAL",
            "FACILITY MANAGEMENT HARDSERVICES FOR INDUSTRIAL LOCATIONS",
            "SAPECCFIP_0000609985",
            68,
            2
           ],
           [
            "INFRASTRUCTURE & INDUSTRIAL",
            "FACILITY MANAGEMENT SOFTSERVICES FOR INDUSTRIAL LOCATIONS",
            "SAPECCFIP_0000107220",
            264,
            3
           ],
           [
            "INFRASTRUCTURE & INDUSTRIAL",
            "INFRASTRUCTURE",
            "SAPECCFE3_0000186405",
            36,
            7
           ],
           [
            "INFRASTRUCTURE & INDUSTRIAL",
            "LABORATORY EQUIPMENT AND SERVICES",
            "SAPECCFE3_0000016003",
            135,
            11
           ],
           [
            "IT - INFORMATION TECHNOLOGY",
            "HARDWARE - PURCHASE/LEASING/MAINTENANCE",
            "SAPECCFE3_0000177840",
            152,
            5
           ],
           [
            "IT - INFORMATION TECHNOLOGY",
            "HARDWARE - SUBSCRIPTIONS INFRA",
            "SAPECCFE3_0000183337",
            7,
            12
           ],
           [
            "IT - INFORMATION TECHNOLOGY",
            "OUTSOURCING - NETWORK TRANSMISSION (LOCAL)",
            "SAPECCFE3_0000093606",
            14,
            4
           ],
           [
            "IT - INFORMATION TECHNOLOGY",
            "SERVICES - MANAGED SERVICE",
            "SAPECCFE3_0000017023",
            79,
            13
           ],
           [
            "IT - INFORMATION TECHNOLOGY",
            "SERVICES - T&M/BODY LEASING",
            "SAPECCFE3_0000050091",
            26,
            10
           ],
           [
            "IT - INFORMATION TECHNOLOGY",
            "SOFTWARE - MAINTENANCE FOR PERPETUAL LICENSES",
            "SAPECCFE3_0000182305",
            9,
            1
           ],
           [
            "IT - INFORMATION TECHNOLOGY",
            "SOFTWARE - SUBSCRIPTIONS/LICENSES",
            "SAPECCFE3_0000017520",
            21,
            4
           ],
           [
            "MARKETING SERVICES",
            "CONSUMER RESEARCH (AD-HOC)",
            "SAPECCFE3_0000010183",
            43,
            5
           ],
           [
            "MARKETING SERVICES",
            "CREATIVE DESIGN",
            "SAPECCFE3_0000081139",
            13,
            7
           ],
           [
            "MARKETING SERVICES",
            "CREATIVE DEVELOPMENT & STRATEGY",
            "SAPECCFIP_0000613482",
            141,
            7
           ],
           [
            "MARKETING SERVICES",
            "DIGITAL & SOCIAL MEDIA MARKETING",
            "SAPECCFIP_0000613482",
            82,
            7
           ],
           [
            "MARKETING SERVICES",
            "LICENSING & RIGHTS",
            "SAPECCFE3_0000031538",
            27,
            7
           ],
           [
            "MARKETING SERVICES",
            "MARKET MEASUREMENT",
            "SAPECCFE3_0000180901",
            142,
            2
           ],
           [
            "MARKETING SERVICES",
            "PRODUCTION",
            "SAPECCFE3_0000010296",
            117,
            13
           ],
           [
            "MARKETING SERVICES",
            "PUBLIC RELATIONS",
            "SAPECCFE3_0000167060",
            7,
            7
           ],
           [
            "MARKETING SERVICES",
            "RETAIL PANELS",
            "SAPECCFE3_0000121738",
            192,
            13
           ],
           [
            "MOBILITY",
            "FLEET",
            "SAPECCFE3_0000197170",
            310,
            3
           ],
           [
            "MOBILITY",
            "FLEET (LOCAL)",
            "SAPECCFE3_0000113725",
            70,
            4
           ],
           [
            "MOBILITY",
            "TRAVEL",
            "SAPECCFIP_0000617867",
            201,
            3
           ],
           [
            "MOBILITY",
            "TRAVEL (LOCAL)",
            "SAPECCFE3_0000166455",
            7,
            3
           ],
           [
            "OTHER NON GP",
            "OTHER NON GP SERVICES",
            "SAPECCFE3_0000032382",
            15,
            4
           ],
           [
            "PALLETTS PURCHASING",
            "PALLETTS PURCHASING MTL",
            "SAPECCFE3_0000082107",
            30,
            1
           ],
           [
            "PALLETTS RENT & LEASE",
            "PALLETTS RENT & LEASE SVC",
            "SAPECCFE3_0000056027",
            168,
            1
           ],
           [
            "PEOPLE SERVICES",
            "EMPLOYEE SERVICES",
            "SAPECCFE3_0000187695",
            94,
            1
           ],
           [
            "PEOPLE SERVICES",
            "EMPLOYEE SERVICES (LOCAL)",
            "SAPECCFE3_0000146255",
            22,
            2
           ],
           [
            "PEOPLE SERVICES",
            "EVENTS",
            "SAPECCFE3_0000208804",
            31,
            4
           ],
           [
            "PEOPLE SERVICES",
            "EVENTS (LOCAL)",
            "SAPECCFE3_0000018760",
            2,
            1
           ],
           [
            "PEOPLE SERVICES",
            "PAYROLL",
            "SAPECCFE3_0000105400",
            50,
            1
           ],
           [
            "PEOPLE SERVICES",
            "RECRUITMENT SERVICE",
            "SAPECCFE3_0000078268",
            83,
            12
           ],
           [
            "PEOPLE SERVICES",
            "RELOCATION",
            "SAPECCFE3_0000187306",
            14,
            2
           ],
           [
            "PEOPLE SERVICES",
            "TEMPORARY PERSONNEL",
            "SAPECCFE3_0000156350",
            17,
            1
           ],
           [
            "PEOPLE SERVICES",
            "TEMPORARY PERSONNEL (LOCAL)",
            "SAPECCFE3_0000032508",
            1,
            1
           ],
           [
            "PEOPLE SERVICES",
            "TRAINING",
            "SAPECCFE3_0000168106",
            13,
            4
           ],
           [
            "PEOPLE SERVICES",
            "TRAINING (LOCAL)",
            "SAPECCFE3_0000167666",
            6,
            9
           ],
           [
            "PRIMARY TRANSPORTS",
            "AIR FREIGHT TRANSPORT",
            "SAPECCFE3_0000038050",
            38,
            12
           ],
           [
            "PRIMARY TRANSPORTS",
            "EXPORT OTHER COMMODITIES (AUTOMATIC)",
            "SAPECCFE3_0000013003",
            95,
            17
           ],
           [
            "PRIMARY TRANSPORTS",
            "OTHER LOGISTICS COSTS",
            "SAPECCFE3_0000164335",
            120,
            21
           ],
           [
            "PRIMARY TRANSPORTS",
            "RAIL TRANSPORT",
            "SAPECCFE3_0000019514",
            2,
            19
           ],
           [
            "PRIMARY TRANSPORTS",
            "ROAD TRANSPORT",
            "SAPECCFE3_0000121401",
            24180,
            3
           ],
           [
            "PRIMARY TRANSPORTS",
            "SEA TRANSPORT",
            "SAPECCFE3_0000013003",
            455,
            17
           ],
           [
            "PROCESS EQUIPMENT",
            "MOLDING & OVENS",
            "SAPECCFE3_0000057302",
            40,
            9
           ],
           [
            "PROCESS EQUIPMENT",
            "NUTS EQUIPMENT & AGRI MOBILE MACHINE",
            "SAPECCFE3_0000049256",
            9,
            26
           ],
           [
            "PROCESS EQUIPMENT",
            "PREPARATION",
            "SAPECCFIP_0000173452",
            14,
            23
           ],
           [
            "PROCESS EQUIPMENT",
            "PRIMARY PACKAGING",
            "SAPECCFE3_0000067920",
            10,
            31
           ],
           [
            "PROCESS EQUIPMENT",
            "SECONDARY PACKAGING",
            "SAPECCFIP_0000430005",
            11,
            10
           ],
           [
            "PROCESS EQUIPMENT",
            "STANDALONE EQUIPMENT",
            "SAPECCFE3_0000012823",
            20,
            17
           ],
           [
            "PROCESS EQUIPMENT",
            "WAREHOUSE & LOGISTIC",
            "SAPECCFE3_0000056883",
            45,
            1
           ],
           [
            "PROFESSIONAL SERVICES",
            "ADMINISTRATIVE SERVICES",
            "SAPECCFE3_0000082164",
            42,
            10
           ],
           [
            "PROFESSIONAL SERVICES",
            "CERTIFICATIONS",
            "SAPECCFE3_0000015507",
            4,
            6
           ],
           [
            "PROFESSIONAL SERVICES",
            "CONSULTANCY SERVICES",
            "SAPECCFE3_0000030153",
            17,
            6
           ],
           [
            "PROFESSIONAL SERVICES",
            "INSURANCE SERVICES",
            "SAPECCFE3_0000011277",
            70,
            7
           ],
           [
            "PROFESSIONAL SERVICES",
            "INSURANCE SERVICES (LOCAL)",
            "SAPECCFE3_0000070123",
            2,
            1
           ],
           [
            "PROFESSIONAL SERVICES",
            "LEGAL & NOTARY SERVICES (LOCAL)",
            "SAPECCFE3_0000190494",
            2,
            1
           ],
           [
            "PROFESSIONAL SERVICES",
            "LEGAL & TAX SERVICES",
            "SAPECCFE3_0000126032",
            19,
            1
           ],
           [
            "PROFESSIONAL SERVICES",
            "LEGAL CONSULTING (LOCAL)",
            "SAPECCFE3_0000078825",
            10,
            1
           ],
           [
            "PROFESSIONAL SERVICES",
            "OTHER CONSULTING (LOCAL)",
            "SAPECCFE3_0000161292",
            2,
            2
           ],
           [
            "PROFESSIONAL SERVICES",
            "SUBSCRIPTIONS/MEMBERSHIPS",
            "SAPECCFIP_0000618541",
            49,
            1
           ],
           [
            "SALES SERVICES",
            "COMMERCIAL QUALITY AND FRESHNESS",
            "SAPECCFIP_0000602427",
            72,
            4
           ],
           [
            "SALES SERVICES",
            "CONSUMERS PROMOTION ACTIVITIES",
            "SAPECCFE3_0000172755",
            88,
            3
           ],
           [
            "SALES SERVICES",
            "GADGETS",
            "SAPECCFE3_0000165845",
            21,
            2
           ],
           [
            "SALES SERVICES",
            "MARKETING EVENTS",
            "SAPECCFE3_0000011457",
            7,
            8
           ],
           [
            "SALES SERVICES",
            "MERCHANDISING & HOSTESS & BROKER COMMISSIONS",
            "SAPECCFE3_0000197116",
            50,
            2
           ],
           [
            "SALES SERVICES",
            "OTHER SALES SERVICES",
            "SAPECCFIP_0000615418",
            31,
            1
           ],
           [
            "SALES SERVICES",
            "POS MATERIAL",
            "SAPECCFE3_0000196519",
            3641,
            5
           ],
           [
            "SALES SERVICES",
            "PROMOTIONAL ITEMS",
            "SAPECCFE3_0000055467",
            55,
            2
           ],
           [
            "SALES SERVICES",
            "SPONSORING",
            "SAPECCFE3_0000190685",
            97,
            4
           ],
           [
            "SALES SERVICES",
            "TECHNICAL DEVICES FOR POS",
            "SAPECCFE3_0000188355",
            41,
            19
           ],
           [
            "SECONDARY FREIGHT",
            "DISTRIBUTION",
            "SAPECCFE3_0000167330",
            5674,
            3
           ],
           [
            "SURPRISE L2",
            "SURPRISE L3",
            "SAPECCFE3_0000153522",
            52,
            4
           ],
           [
            "WAREHOUSING",
            "ADMINISTRATION COST",
            "SAPECCFE3_0000061548",
            41,
            5
           ],
           [
            "WAREHOUSING",
            "BONUS / MALUS (WAREHOUSING)",
            "SAPECCFE3_0000052763",
            1,
            9
           ],
           [
            "WAREHOUSING",
            "FUMIGATION",
            "SAPECCFE3_0000185303",
            2,
            4
           ],
           [
            "WAREHOUSING",
            "HANDLING",
            "SAPECCFE3_0000164335",
            168,
            21
           ],
           [
            "WAREHOUSING",
            "MAN WORK PER HOUR",
            "SAPECCFE3_0000171147",
            3,
            7
           ],
           [
            "WAREHOUSING",
            "PICKING",
            "SAPECCFE3_0000061548",
            34,
            5
           ],
           [
            "WAREHOUSING",
            "REPACKING",
            "SAPECCFE3_0000198306",
            160,
            7
           ],
           [
            "WAREHOUSING",
            "STORAGE",
            "SAPECCFE3_0000102646",
            303,
            9
           ],
           [
            "WAREHOUSING",
            "WAREHOUSING LOCATION & LEASING",
            "SAPECCFE3_0000165223",
            17,
            5
           ],
           [
            "WAREHOUSING",
            "WASTE MANAGEMENT",
            "SAPECCFE3_0000130617",
            2,
            8
           ],
           [
            "WORKPLACE SERVICES",
            "CLEANING",
            "SAPECCFE3_0000076876",
            66,
            1
           ],
           [
            "WORKPLACE SERVICES",
            "CLEANING (LOCAL)",
            "SAPECCFE3_0000168740",
            69,
            6
           ],
           [
            "WORKPLACE SERVICES",
            "FOOD SERVICES",
            "SAPECCFIP_0000618829",
            104,
            1
           ],
           [
            "WORKPLACE SERVICES",
            "FOOD SERVICES (LOCAL)",
            "SAPECCFE3_0000147063",
            79,
            2
           ],
           [
            "WORKPLACE SERVICES",
            "MAINTENANCE & IMPROVEMENTS",
            "SAPECCFE3_0000174924",
            44,
            40
           ],
           [
            "WORKPLACE SERVICES",
            "MAINTENANCE & IMPROVEMENTS (LOCAL)",
            "SAPECCFE3_0000070050",
            16,
            23
           ],
           [
            "WORKPLACE SERVICES",
            "OFFICE SUPPLIES AND SERVICES",
            "SAPECCFE3_0000031341",
            1272,
            5
           ],
           [
            "WORKPLACE SERVICES",
            "OFFICE SUPPLIES AND SERVICES (LOCAL)",
            "SAPECCFE3_0000168740",
            48,
            6
           ],
           [
            "WORKPLACE SERVICES",
            "REAL ESTATE",
            "SAPECCFE3_0000150512",
            26,
            2
           ],
           [
            "WORKPLACE SERVICES",
            "REAL ESTATE (LOCAL)",
            "SAPECCFE3_0000191553",
            8,
            1
           ],
           [
            "WORKPLACE SERVICES",
            "SECURITY",
            "SAPECCFE3_0000107756",
            76,
            1
           ],
           [
            "WORKPLACE SERVICES",
            "SECURITY (LOCAL)",
            "SAPECCFE3_0000100759",
            2,
            1
           ],
           [
            "WORKPLACE SERVICES",
            "UTILITIES",
            "SAPECCFE3_0000050865",
            10,
            3
           ],
           [
            "ADMINISTRATION COST",
            "Administrative Costs Warehousing",
            "SAPECCFE3_0000061548",
            41,
            5
           ],
           [
            "ADMINISTRATIVE SERVICES",
            "Employees tax services",
            "SAPECCFE3_0000082164",
            6,
            10
           ],
           [
            "ADMINISTRATIVE SERVICES",
            "Financial Audit",
            "SAPECCFE3_0000149981",
            8,
            1
           ],
           [
            "ADMINISTRATIVE SERVICES",
            "Other auditing",
            "SAPECCFE3_0000029421",
            3,
            1
           ],
           [
            "ADMINISTRATIVE SERVICES",
            "Outsourcing of administrative services (bpo)",
            "SAPECCFE3_0000082164",
            36,
            10
           ],
           [
            "ADMINISTRATIVE SERVICES",
            "Services for credit collection",
            "SAPECCFE3_0000019908",
            1,
            2
           ],
           [
            "AIR FREIGHT TRANSPORT",
            "Air Freight Export Fees Costs",
            "SAPECCFE3_0000039063",
            13,
            9
           ],
           [
            "AIR FREIGHT TRANSPORT",
            "Air Freight Transportation Finished Goods",
            "SAPECCFE3_0000164335",
            10,
            21
           ],
           [
            "AIR FREIGHT TRANSPORT",
            "Air Packaging",
            "SAPECCFE3_0000161121",
            3,
            1
           ],
           [
            "AIR FREIGHT TRANSPORT",
            "Air RAW MATERIALS",
            "SAPECCFE3_0000038050",
            2,
            12
           ],
           [
            "AIR FREIGHT TRANSPORT",
            "Air SEMI-FINISHED GOODS",
            "SAPECCFE3_0000038050",
            9,
            12
           ],
           [
            "AIR FREIGHT TRANSPORT",
            "Air Surprises",
            "SAPECCFE3_0000038050",
            25,
            12
           ],
           [
            "B&U PROFESSIONAL SERVICES",
            "Design Services",
            "SAPECCFIP_0000423335",
            27,
            10
           ],
           [
            "B&U PROFESSIONAL SERVICES",
            "Health and Safety - Site Supervision",
            "SAPECCFE3_0000173575",
            12,
            3
           ],
           [
            "B&U PROFESSIONAL SERVICES",
            "Property Cost Estimation & Acquisition",
            "SAPECCFE3_0000179040",
            5,
            2
           ],
           [
            "B&U PROFESSIONAL SERVICES",
            "Site supervision",
            "SAPECCFE3_0000034572",
            2,
            7
           ],
           [
            "B&U PROFESSIONAL SERVICES",
            "Technical certifications, engineering-related consulting(TS)",
            "SAPECCFE3_0000034572",
            5,
            7
           ],
           [
            "BONUS / MALUS (WAREHOUSING)",
            "Bonus / Malus Warehousing",
            "SAPECCFE3_0000052763",
            1,
            9
           ],
           [
            "CERTIFICATIONS",
            "Environmental Analysis",
            "SAPECCFE3_0000046357",
            4,
            1
           ],
           [
            "CERTIFICATIONS",
            "Standard certifications",
            "SAPECCFE3_0000014032",
            2,
            5
           ],
           [
            "CERTIFICATIONS",
            "Surprises certification",
            "SAPECCFE3_0000015507",
            4,
            6
           ],
           [
            "CLEANING",
            "Cleaning, Waste,Pest Services and Material for No Industrial",
            "SAPECCFE3_0000076876",
            66,
            1
           ],
           [
            "CLEANING (LOCAL)",
            "TR - Cleaning services (GenAdm)",
            "SAPECCFE3_0000168740",
            41,
            6
           ],
           [
            "CLEANING (LOCAL)",
            "TR - Cleaning services (GenProd)",
            "SAPECCFE3_0000168740",
            28,
            6
           ],
           [
            "CLEANING (LOCAL)",
            "TR - Pest Control services (GenProd)",
            "SAPECCFE3_0000197074",
            6,
            21
           ],
           [
            "COMMERCIAL QUALITY AND FRESHNESS",
            "Commercial Quality and Freshness monitoring",
            "SAPECCFIP_0000602427",
            72,
            4
           ],
           [
            "CONSULTANCY SERVICES",
            "Function related / professional consultancy",
            "SAPECCFE3_0000030153",
            11,
            6
           ],
           [
            "CONSULTANCY SERVICES",
            "M&A related consultancies",
            "SAPECCFE3_0000212775",
            2,
            1
           ],
           [
            "CONSULTANCY SERVICES",
            "Strategic, Managerial & organizational consulting",
            "SAPECCFE3_0000167751",
            10,
            1
           ],
           [
            "CONSUMER RESEARCH (AD-HOC)",
            "Other research activities on consumer, shopper and citizen",
            "SAPECCFE3_0000162266",
            7,
            3
           ],
           [
            "CONSUMER RESEARCH (AD-HOC)",
            "Research activities for qualifying Innovation initiatives",
            "SAPECCFE3_0000010422",
            35,
            3
           ],
           [
            "CONSUMER RESEARCH (AD-HOC)",
            "Research activities to assess the ADV/Communication Perf.",
            "SAPECCFE3_0000010404",
            19,
            2
           ],
           [
            "CONSUMER RESEARCH (AD-HOC)",
            "Researches to understand Consumers, Shopper, Markets",
            "SAPECCFE3_0000010183",
            12,
            5
           ],
           [
            "CONSUMERS PROMOTION ACTIVITIES",
            "Design & Management of Digital Promotion",
            "SAPECCFE3_0000172755",
            24,
            3
           ],
           [
            "CONSUMERS PROMOTION ACTIVITIES",
            "Design & Management of non Digital Promotion",
            "SAPECCFE3_0000011139",
            39,
            5
           ],
           [
            "CONSUMERS PROMOTION ACTIVITIES",
            "Discount Coupons",
            "SAPECCFE3_0000172755",
            64,
            3
           ],
           [
            "CONSUMERS PROMOTION ACTIVITIES",
            "OTHER SALE DISCOUNTS",
            "SAPECCFE3_0000141553",
            5,
            1
           ],
           [
            "CREATIVE DESIGN",
            "Packaging & POS - Artwork, Technical finalization&Templates",
            "SAPECCFE3_0000153914",
            11,
            8
           ],
           [
            "CREATIVE DESIGN",
            "Packaging & POS - Creative Concept",
            "SAPECCFE3_0000190621",
            13,
            9
           ],
           [
            "CREATIVE DESIGN",
            "Packaging & POS - Mockups / Samples",
            "SAPECCFE3_0000171546",
            4,
            4
           ],
           [
            "CREATIVE DESIGN",
            "Surprises - Creative Concepts DIGITAL",
            "SAPECCFE3_0000185397",
            2,
            6
           ],
           [
            "CREATIVE DESIGN",
            "Surprises - Creative Concepts TRADITIONAL",
            "SAPECCFE3_0000160795",
            3,
            2
           ],
           [
            "CREATIVE DESIGN",
            "Surprises - Marketing Sheets",
            "SAPECCFE3_0000156783",
            7,
            3
           ],
           [
            "CREATIVE DESIGN",
            "Surprises - Technical Development",
            "SAPECCFE3_0000156851",
            5,
            1
           ],
           [
            "CREATIVE DEVELOPMENT & STRATEGY",
            "Brand & Communication Strategy",
            "SAPECCFE3_0000189561",
            14,
            4
           ],
           [
            "CREATIVE DEVELOPMENT & STRATEGY",
            "Creative Concept for Advertising Campaigns DIGITAL",
            "SAPECCFE3_0000083957",
            46,
            17
           ],
           [
            "CREATIVE DEVELOPMENT & STRATEGY",
            "Creative Concept for Advertising Campaigns TRADITIONAL",
            "SAPECCFIP_0000613482",
            141,
            7
           ],
           [
            "DIGITAL & SOCIAL MEDIA MARKETING",
            "E-commerce Advertising Creative Development",
            "SAPECCFIP_0000617114",
            24,
            3
           ],
           [
            "DIGITAL & SOCIAL MEDIA MARKETING",
            "E-commerce Advertising Production",
            "SAPECCFE3_0000153914",
            4,
            8
           ],
           [
            "DIGITAL & SOCIAL MEDIA MARKETING",
            "Influencers & Testimonials",
            "SAPECCFE3_0000189368",
            7,
            8
           ],
           [
            "DIGITAL & SOCIAL MEDIA MARKETING",
            "SEO/SEM",
            "SAPECCFE3_0000188455",
            2,
            3
           ],
           [
            "DIGITAL & SOCIAL MEDIA MARKETING",
            "Social Media Management",
            "SAPECCFIP_0000613482",
            82,
            7
           ],
           [
            "DIGITAL & SOCIAL MEDIA MARKETING",
            "Website / App Creation & Maintenance",
            "SAPECCFE3_0000083957",
            58,
            17
           ],
           [
            "DISTRIBUTION",
            "Control Tower Services",
            "SAPECCFE3_0000157198",
            12,
            6
           ],
           [
            "DISTRIBUTION",
            "Distribution to Customers and Returned Goods from Customers",
            "SAPECCFE3_0000167330",
            5674,
            3
           ],
           [
            "EMPLOYEE SERVICES",
            "Cash Donations",
            "SAPECCFE3_0000171518",
            2,
            1
           ],
           [
            "EMPLOYEE SERVICES",
            "Donations",
            "SAPECCFE3_0000167666",
            2,
            9
           ],
           [
            "EMPLOYEE SERVICES",
            "Donations to employees",
            "SAPECCFE3_0000017796",
            33,
            2
           ],
           [
            "EMPLOYEE SERVICES",
            "Employees Transport Services",
            "SAPECCFE3_0000187695",
            94,
            1
           ],
           [
            "EMPLOYEE SERVICES",
            "Employees event and social activities cost",
            "SAPECCFE3_0000110897",
            51,
            4
           ],
           [
            "EMPLOYEE SERVICES",
            "Health and Safety GP",
            "SAPECCFE3_0000146308",
            10,
            6
           ],
           [
            "EMPLOYEE SERVICES",
            "Medical Services",
            "SAPECCFE3_0000110997",
            71,
            1
           ],
           [
            "EMPLOYEE SERVICES",
            "Recreation employees benefits",
            "SAPECCFIP_0000351571",
            72,
            1
           ],
           [
            "EMPLOYEE SERVICES",
            "School & Kinder garden fees",
            "SAPECCFE3_0000030448",
            3,
            1
           ],
           [
            "EMPLOYEE SERVICES",
            "Translations and interpreting services",
            "SAPECCFE3_0000064374",
            9,
            4
           ],
           [
            "EMPLOYEE SERVICES (LOCAL)",
            "TR - Donations to employees (GenAdm)",
            "SAPECCFE3_0000070133",
            1,
            3
           ],
           [
            "EMPLOYEE SERVICES (LOCAL)",
            "TR - Employees Transport Services (GenAdm)",
            "SAPECCFE3_0000146255",
            9,
            2
           ],
           [
            "EMPLOYEE SERVICES (LOCAL)",
            "TR - Employees Transport Services (GenProd)",
            "SAPECCFE3_0000101447",
            14,
            2
           ],
           [
            "EMPLOYEE SERVICES (LOCAL)",
            "TR - Employees event and social activities cost (GenAdm)",
            "SAPECCFE3_0000167666",
            8,
            9
           ],
           [
            "EMPLOYEE SERVICES (LOCAL)",
            "TR - Employees event and social activities cost (GenProd)",
            "SAPECCFE3_0000186056",
            2,
            9
           ],
           [
            "EMPLOYEE SERVICES (LOCAL)",
            "TR - Health and Safety (GenAdm)",
            "SAPECCFE3_0000200696",
            10,
            2
           ],
           [
            "EMPLOYEE SERVICES (LOCAL)",
            "TR - Health and Safety (GenProd)",
            "SAPECCFE3_0000184643",
            17,
            4
           ],
           [
            "EMPLOYEE SERVICES (LOCAL)",
            "TR - Translations and interpreting services (GenAdm)",
            "SAPECCFE3_0000145831",
            5,
            4
           ],
           [
            "ENERGY CERTIFICATES",
            "Energy certifications for power",
            "SAPECCFE3_0000069213",
            2,
            3
           ],
           [
            "ENERGY FOR INDUSTRIAL PLANT",
            "Electrical Energy for Industrial Plant",
            "SAPECCFIP_0000613997",
            18,
            2
           ],
           [
            "ENERGY FOR INDUSTRIAL PLANT",
            "Fuel for industrial plant",
            "SAPECCFE3_0000077090",
            3,
            5
           ],
           [
            "ENERGY FOR INDUSTRIAL PLANT",
            "Gas for Industrial Plant",
            "SAPECCFE3_0000139924",
            11,
            2
           ],
           [
            "ENERGY FOR INDUSTRIAL PLANT",
            "TR - Other Fuel Exp - no deductible",
            "SAPECCFE3_0000199709",
            1,
            2
           ],
           [
            "ENERGY FOR INDUSTRIAL PLANT",
            "TR - PURCHASE DISTRICT HEATING (GENADM)",
            "SAPECCFE3_0000168129",
            10,
            2
           ],
           [
            "EVENTS",
            "Corporate event Expenses",
            "SAPECCFE3_0000208804",
            31,
            4
           ],
           [
            "EVENTS",
            "Entertainment expenses (No deductible)",
            "SAPECCFE3_0000124143",
            3,
            3
           ],
           [
            "EVENTS",
            "No Commercial Sponsorships",
            "SAPECCFE3_0000189859",
            2,
            1
           ],
           [
            "EVENTS",
            "Public relation costs",
            "SAPECCFE3_0000187443",
            22,
            2
           ],
           [
            "EVENTS (LOCAL)",
            "ITL - Altre spese di rappresentanza",
            "SAPECCFE3_0000077000",
            2,
            2
           ],
           [
            "EVENTS (LOCAL)",
            "ITL - Spese di rappresentanza",
            "SAPECCFE3_0000018760",
            2,
            1
           ],
           [
            "EVENTS (LOCAL)",
            "ITL - Spese di rappresentanza min valore",
            "SAPECCFE3_0000209105",
            1,
            2
           ],
           [
            "EXPORT OTHER COMMODITIES (AUTOMATIC)",
            "Transport Intermediate Products",
            "SAPECCFE3_0000013003",
            66,
            17
           ],
           [
            "EXPORT OTHER COMMODITIES (AUTOMATIC)",
            "Transport Packaging",
            "SAPECCFE3_0000090187",
            1,
            6
           ],
           [
            "EXPORT OTHER COMMODITIES (AUTOMATIC)",
            "Transport Raw Materials",
            "SAPECCFE3_0000039063",
            1,
            9
           ],
           [
            "EXPORT OTHER COMMODITIES (AUTOMATIC)",
            "Transport Semi Finished",
            "SAPECCFE3_0000013003",
            23,
            17
           ],
           [
            "EXPORT OTHER COMMODITIES (AUTOMATIC)",
            "Transport Surprises",
            "SAPECCFE3_0000013003",
            6,
            17
           ],
           [
            "FACILITY MANAGEMENT HARDSERVICES FOR INDUSTRIAL LOCATIONS",
            "Civil maintenance",
            "SAPECCFIP_0000609985",
            68,
            2
           ],
           [
            "FACILITY MANAGEMENT HARDSERVICES FOR INDUSTRIAL LOCATIONS",
            "Electrical Maintenance",
            "SAPECCFE3_0000193904",
            19,
            1
           ],
           [
            "FACILITY MANAGEMENT HARDSERVICES FOR INDUSTRIAL LOCATIONS",
            "Integrated Facility Maintenance",
            "SAPECCFE3_0000029969",
            2,
            6
           ],
           [
            "FACILITY MANAGEMENT HARDSERVICES FOR INDUSTRIAL LOCATIONS",
            "Mechanical maintenance",
            "SAPECCFE3_0000118363",
            14,
            7
           ],
           [
            "FACILITY MANAGEMENT SOFTSERVICES FOR INDUSTRIAL LOCATIONS",
            "Cleaning Consultancy and Services",
            "SAPECCFIP_0000107220",
            264,
            3
           ],
           [
            "FACILITY MANAGEMENT SOFTSERVICES FOR INDUSTRIAL LOCATIONS",
            "Pest Control",
            "SAPECCFE3_0000159626",
            25,
            2
           ],
           [
            "FACILITY MANAGEMENT SOFTSERVICES FOR INDUSTRIAL LOCATIONS",
            "Technical Cleaning material",
            "SAPECCFE3_0000012059",
            177,
            7
           ],
           [
            "FACILITY MANAGEMENT SOFTSERVICES FOR INDUSTRIAL LOCATIONS",
            "Waste Management for industrial location",
            "SAPECCFIP_0000607982",
            15,
            3
           ],
           [
            "FACILITY MANAGEMENT SOFTSERVICES FOR INDUSTRIAL LOCATIONS",
            "Waste Water Treatment Services",
            "SAPECCFE3_0000162573",
            7,
            2
           ],
           [
            "FLEET",
            "Company Vehicles - Fuel, Oil and other",
            "SAPECCFIP_0000617867",
            53,
            3
           ],
           [
            "FLEET",
            "Company Vehicles - Lease",
            "SAPECCFIP_0000616752",
            96,
            2
           ],
           [
            "FLEET",
            "Company Vehicles - Maintenance costs",
            "SAPECCFE3_0000197170",
            216,
            3
           ],
           [
            "FLEET",
            "Company Vehicles - Management costs",
            "SAPECCFE3_0000052891",
            7,
            1
           ],
           [
            "FLEET",
            "Company Vehicles - Other vehicles",
            "SAPECCFIP_0000617635",
            6,
            2
           ],
           [
            "FLEET",
            "Company Vehicles - Purchase",
            "SAPECCFE3_0000208307",
            3,
            1
           ],
           [
            "FLEET (LOCAL)",
            "TR - Company Vehicles - Fuel, Oil and other (GenAdm)",
            "SAPECCFE3_0000113725",
            41,
            4
           ],
           [
            "FLEET (LOCAL)",
            "TR - Company Vehicles - Fuel, Oil and other (GenProd)",
            "SAPECCFE3_0000113725",
            29,
            4
           ],
           [
            "FLEET (LOCAL)",
            "TR - Company Vehicles - Lease (GenAdm)",
            "SAPECCFE3_0000070129",
            16,
            5
           ],
           [
            "FLEET (LOCAL)",
            "TR - Company Vehicles - Lease (GenProd)",
            "SAPECCFE3_0000070129",
            6,
            5
           ],
           [
            "FLEET (LOCAL)",
            "TR - Company Vehicles - Lease (S-Wh)",
            "SAPECCFE3_0000070129",
            3,
            5
           ],
           [
            "FLEET (LOCAL)",
            "TR - Company Vehicles - Maintenance costs (GenProd)",
            "SAPECCFE3_0000146075",
            1,
            2
           ],
           [
            "FOOD SERVICES",
            "CANTEEN SERVICES",
            "SAPECCFIP_0000618829",
            104,
            1
           ],
           [
            "FOOD SERVICES",
            "Catering services",
            "SAPECCFE3_0000184235",
            31,
            2
           ],
           [
            "FOOD SERVICES",
            "TICKETS RESTAURANT",
            "SAPECCFE3_0000093418",
            65,
            5
           ],
           [
            "FOOD SERVICES (LOCAL)",
            "TR - Canteen Services (GenAdm)",
            "SAPECCFE3_0000147063",
            44,
            2
           ],
           [
            "FOOD SERVICES (LOCAL)",
            "TR - Canteen Services (GenProd)",
            "SAPECCFE3_0000147063",
            35,
            2
           ],
           [
            "FREIGHT FORWARDING AGENCIES",
            "CUSTOM DECLARATION SERVICES",
            "SAPECCFE3_0000128315",
            60,
            3
           ],
           [
            "FREIGHT FORWARDING AGENCIES",
            "Customs Docum./Forwarder Services Finish Products",
            "SAPECCFE3_0000157987",
            467,
            7
           ],
           [
            "FREIGHT FORWARDING AGENCIES",
            "Customs Docum./Forwarder Services Interm-Finished Prd-FI",
            "SAPECCFE3_0000164335",
            284,
            21
           ],
           [
            "FREIGHT FORWARDING AGENCIES",
            "Customs Docum./Forwarder Services Packaging",
            "SAPECCFE3_0000184049",
            69,
            9
           ],
           [
            "FREIGHT FORWARDING AGENCIES",
            "Customs Docum./Forwarder Services RAW MATERIALS",
            "SAPECCFE3_0000197063",
            81,
            8
           ],
           [
            "FREIGHT FORWARDING AGENCIES",
            "Customs Docum./Forwarder Services SEMI-FINISHED GOODS",
            "SAPECCFE3_0000119430",
            42,
            11
           ],
           [
            "FREIGHT FORWARDING AGENCIES",
            "Customs Docum./Forwarder Services Surprises",
            "SAPECCFE3_0000184049",
            609,
            9
           ],
           [
            "FUMIGATION",
            "Fumigation RAW MATERIALS",
            "SAPECCFE3_0000210638",
            1,
            1
           ],
           [
            "FUMIGATION",
            "Fumigation Svc",
            "SAPECCFE3_0000185303",
            2,
            4
           ],
           [
            "GADGETS",
            "GADGET",
            "SAPECCFE3_0000085062",
            7,
            11
           ],
           [
            "GADGETS",
            "GADGET OTHER",
            "SAPECCFE3_0000152295",
            2,
            5
           ],
           [
            "GADGETS",
            "In-Pack Gadgets_Commercial Co-Pack",
            "SAPECCFE3_0000010471",
            8,
            12
           ],
           [
            "GADGETS",
            "In-Pack Gadgets_Industrial co-pack",
            "SAPECCFE3_0000165845",
            21,
            2
           ],
           [
            "GADGETS",
            "Services Gadget",
            "SAPECCFE3_0000101385",
            3,
            4
           ],
           [
            "HANDLING",
            "Forklift And Machinery Rentals (Ops)",
            "SAPECCFE3_0000099619",
            5,
            1
           ],
           [
            "HANDLING",
            "Handling Finish Products",
            "SAPECCFE3_0000164335",
            31,
            21
           ],
           [
            "HANDLING",
            "Handling Interm-Finished Prd-FI",
            "SAPECCFE3_0000164335",
            88,
            21
           ],
           [
            "HANDLING",
            "Handling RAW MATERIALS",
            "SAPECCFE3_0000164335",
            49,
            21
           ],
           [
            "HANDLING",
            "Handling Services",
            "SAPECCFE3_0000061548",
            45,
            5
           ],
           [
            "HARDWARE - PURCHASE/LEASING/MAINTENANCE",
            "Hardware - Leasing End-User Computing",
            "SAPECCFE3_0000012558",
            31,
            7
           ],
           [
            "HARDWARE - PURCHASE/LEASING/MAINTENANCE",
            "Hardware - Leasing High Value Server&Storage (>5000$)",
            "SAPECCFE3_0000011180",
            41,
            6
           ],
           [
            "HARDWARE - PURCHASE/LEASING/MAINTENANCE",
            "Hardware - Leasing Low Value Server&Storage (<5000$)",
            "SAPECCFE3_0000113445",
            4,
            1
           ],
           [
            "HARDWARE - PURCHASE/LEASING/MAINTENANCE",
            "Hardware - Leasing Printers",
            "SAPECCFE3_0000146450",
            5,
            2
           ],
           [
            "HARDWARE - PURCHASE/LEASING/MAINTENANCE",
            "Hardware - Maintenance",
            "SAPECCFE3_0000088928",
            19,
            9
           ],
           [
            "HARDWARE - PURCHASE/LEASING/MAINTENANCE",
            "Hardware - Maintenance Server&Storage",
            "SAPECCFE3_0000179494",
            20,
            2
           ],
           [
            "HARDWARE - PURCHASE/LEASING/MAINTENANCE",
            "Hardware - Maintenance Voice and Data Network",
            "SAPECCFE3_0000102345",
            8,
            4
           ],
           [
            "HARDWARE - PURCHASE/LEASING/MAINTENANCE",
            "Hardware - Purchase End-User Computing CAPEX",
            "SAPECCFE3_0000184630",
            82,
            3
           ],
           [
            "HARDWARE - PURCHASE/LEASING/MAINTENANCE",
            "Hardware - Purchase Server&Storage CAPEX",
            "SAPECCFE3_0000177840",
            112,
            5
           ],
           [
            "HARDWARE - PURCHASE/LEASING/MAINTENANCE",
            "Hardware - Purchase Voice and Data Network CAPEX",
            "SAPECCFE3_0000050996",
            36,
            5
           ],
           [
            "HARDWARE - PURCHASE/LEASING/MAINTENANCE",
            "Hardware - Purchase for Mobile devices",
            "SAPECCFE3_0000181240",
            8,
            4
           ],
           [
            "HARDWARE - PURCHASE/LEASING/MAINTENANCE",
            "Hardware - Purchase for Videoconference devices",
            "SAPECCFE3_0000178168",
            6,
            9
           ],
           [
            "HARDWARE - PURCHASE/LEASING/MAINTENANCE",
            "Hardware-Leasing High Value Voice and Data Network (>5000$)",
            "SAPECCFE3_0000011180",
            12,
            6
           ],
           [
            "HARDWARE - PURCHASE/LEASING/MAINTENANCE",
            "Hardware-Leasing Low Value Voice and Data Network (<5000$)",
            "SAPECCFE3_0000182903",
            8,
            1
           ],
           [
            "HARDWARE - SUBSCRIPTIONS INFRA",
            "Hardware - Server&Storage (IaaS)",
            "SAPECCFE3_0000183337",
            7,
            12
           ],
           [
            "INDUSTRIAL AUTOMATION AND ROBOTICS",
            "Automation Technical Materials",
            "SAPECCFIP_0000109460",
            37,
            16
           ],
           [
            "INDUSTRIAL AUTOMATION AND ROBOTICS",
            "Automation professional services",
            "SAPECCFE3_0000043459",
            9,
            10
           ],
           [
            "INDUSTRIAL AUTOMATION AND ROBOTICS",
            "CPX - Automation and Digital Software",
            "SAPECCFE3_0000015255",
            3,
            14
           ],
           [
            "INDUSTRIAL AUTOMATION AND ROBOTICS",
            "CPX Electrical and Automation Cabinets",
            "SAPECCFIP_0000423335",
            46,
            10
           ],
           [
            "INDUSTRIAL AUTOMATION AND ROBOTICS",
            "CPX Industrial robotic application system",
            "SAPECCFE3_0000015246",
            5,
            3
           ],
           [
            "INDUSTRIAL AUTOMATION AND ROBOTICS",
            "CPX-Flexible & Advanced Robotics (e.g. cobots,AGV/AMR,drones",
            "SAPECCFE3_0000183000",
            1,
            1
           ],
           [
            "INDUSTRIAL AUTOMATION AND ROBOTICS",
            "OPX - Software, Licence Fee, Assistance",
            "SAPECCFIP_0000602547",
            14,
            4
           ],
           [
            "INFRASTRUCTURE",
            "CPX: Civil Equipment / Works",
            "SAPECCFE3_0000197623",
            22,
            2
           ],
           [
            "INFRASTRUCTURE",
            "CPX: Electrical Equipment & Installation",
            "SAPECCFE3_0000174783",
            7,
            2
           ],
           [
            "INFRASTRUCTURE",
            "CPX: Energy (Sustainability) / Investments",
            "SAPECCFE3_0000197074",
            4,
            21
           ],
           [
            "INFRASTRUCTURE",
            "CPX: General Contractos",
            "SAPECCFE3_0000154665",
            14,
            5
           ],
           [
            "INFRASTRUCTURE",
            "CPX: Mechanical Equipment & Installation",
            "SAPECCFE3_0000186405",
            33,
            7
           ],
           [
            "INFRASTRUCTURE",
            "CPX: Waste Water & Gas Treatment",
            "SAPECCFE3_0000139496",
            1,
            1
           ],
           [
            "INFRASTRUCTURE",
            "Plant Utilities EaaS (Equipment as a Service)",
            "SAPECCFE3_0000086754",
            9,
            1
           ],
           [
            "INFRASTRUCTURE",
            "Property acquisition",
            "SAPECCFE3_0000201343",
            8,
            1
           ],
           [
            "INFRASTRUCTURE",
            "Specific Material For Utilities Machinery And Equipment",
            "SAPECCFE3_0000026478",
            3,
            5
           ],
           [
            "INSURANCE SERVICES",
            "Cargo (Insurance)",
            "SAPECCFE3_0000011277",
            4,
            7
           ],
           [
            "INSURANCE SERVICES",
            "Client receivables insurance",
            "SAPECCFE3_0000088242",
            7,
            1
           ],
           [
            "INSURANCE SERVICES",
            "Cyber Insurance",
            "SAPECCFE3_0000011277",
            21,
            7
           ],
           [
            "INSURANCE SERVICES",
            "D&O (Insurance)",
            "SAPECCFE3_0000011277",
            4,
            7
           ],
           [
            "INSURANCE SERVICES",
            "Environmental EIL (Insurance)",
            "SAPECCFE3_0000011277",
            1,
            7
           ],
           [
            "INSURANCE SERVICES",
            "Liability (Insurance)",
            "SAPECCFE3_0000011277",
            11,
            7
           ],
           [
            "INSURANCE SERVICES",
            "Motor vehicle insurance",
            "SAPECCFE3_0000159707",
            47,
            2
           ],
           [
            "INSURANCE SERVICES",
            "Optional insurance employees",
            "SAPECCFE3_0000158413",
            19,
            1
           ],
           [
            "INSURANCE SERVICES",
            "Optional insurance manager",
            "SAPECCFE3_0000188934",
            7,
            2
           ],
           [
            "INSURANCE SERVICES",
            "Personal Insurance",
            "SAPECCFE3_0000135517",
            37,
            1
           ],
           [
            "INSURANCE SERVICES",
            "Property Damage and Business Interruption",
            "SAPECCFE3_0000061658",
            9,
            5
           ],
           [
            "INSURANCE SERVICES",
            "SUND.LOCAL TX&DUTY",
            "SAPECCFE3_0000189561",
            6,
            4
           ],
           [
            "INSURANCE SERVICES",
            "SUNDRY INSURANCE",
            "SAPECCFE3_0000065900",
            32,
            3
           ],
           [
            "INSURANCE SERVICES",
            "Travel insurance",
            "SAPECCFE3_0000200574",
            1,
            1
           ],
           [
            "INSURANCE SERVICES (LOCAL)",
            "TR - Personal insurance (GenAdm)",
            "SAPECCFE3_0000070123",
            2,
            1
           ],
           [
            "INSURANCE SERVICES (LOCAL)",
            "TR - Sundry insurance (GenAdm)",
            "SAPECCFE3_0000093665",
            1,
            1
           ],
           [
            "LABORATORY EQUIPMENT AND SERVICES",
            "CHEMICAL MATERIAL",
            "SAPECCFE3_0000012497",
            94,
            2
           ],
           [
            "LABORATORY EQUIPMENT AND SERVICES",
            "CPX: Equipment",
            "SAPECCFIP_0000327115",
            23,
            4
           ],
           [
            "LABORATORY EQUIPMENT AND SERVICES",
            "Consumable",
            "SAPECCFE3_0000185337",
            73,
            5
           ],
           [
            "LABORATORY EQUIPMENT AND SERVICES",
            "Laboratory",
            "SAPECCFE3_0000016003",
            80,
            11
           ],
           [
            "LABORATORY EQUIPMENT AND SERVICES",
            "Maintenance And Services On Laboratory Equipments",
            "SAPECCFE3_0000173575",
            39,
            3
           ],
           [
            "LABORATORY EQUIPMENT AND SERVICES",
            "Technical Consultancy And External Lab Analysis",
            "SAPECCFE3_0000174868",
            36,
            3
           ],
           [
            "LEGAL & NOTARY SERVICES (LOCAL)",
            "TR - Expenses for notary charges (GenAdm)",
            "SAPECCFE3_0000190494",
            2,
            1
           ],
           [
            "LEGAL & TAX SERVICES",
            "Legal Advisory",
            "SAPECCFE3_0000126032",
            19,
            1
           ],
           [
            "LEGAL & TAX SERVICES",
            "Legal services",
            "SAPECCFE3_0000102506",
            4,
            10
           ],
           [
            "LEGAL & TAX SERVICES",
            "Patents management / Intellectual Property (IP)",
            "SAPECCFE3_0000037354",
            1,
            1
           ],
           [
            "LEGAL & TAX SERVICES",
            "Tax & Customs Services Cost",
            "SAPECCFE3_0000181526",
            2,
            7
           ],
           [
            "LEGAL & TAX SERVICES",
            "Web domain management",
            "SAPECCFE3_0000028429",
            1,
            1
           ],
           [
            "LEGAL CONSULTING (LOCAL)",
            "TR - HR&OI Consulting (GenAdm)",
            "SAPECCFE3_0000187524",
            3,
            2
           ],
           [
            "LEGAL CONSULTING (LOCAL)",
            "TR - Legal consulting (GenAdm)",
            "SAPECCFE3_0000078825",
            10,
            1
           ],
           [
            "LICENSING & RIGHTS",
            "Licensing - Brands & Content DIGITAL",
            "SAPECCFIP_0000616830",
            7,
            10
           ],
           [
            "LICENSING & RIGHTS",
            "Licensing - Brands & Content TRADITIONAL",
            "SAPECCFE3_0000110271",
            14,
            3
           ],
           [
            "LICENSING & RIGHTS",
            "Licensing - Music DIGITAL",
            "SAPECCFE3_0000015052",
            5,
            2
           ],
           [
            "LICENSING & RIGHTS",
            "Licensing - Music TRADITIONAL",
            "SAPECCFE3_0000189225",
            1,
            3
           ],
           [
            "LICENSING & RIGHTS",
            "Rights buyout-Authors,Artists,Performers,Personality DIGITAL",
            "SAPECCFIP_0000616830",
            8,
            10
           ],
           [
            "LICENSING & RIGHTS",
            "Rights buyout-Authors,Artists,Performers,Personality TRADI",
            "SAPECCFE3_0000031538",
            13,
            7
           ],
           [
            "MAINTENANCE & IMPROVEMENTS",
            "BUILDING MAINTENANCE",
            "SAPECCFE3_0000174924",
            44,
            40
           ],
           [
            "MAINTENANCE & IMPROVEMENTS",
            "Building Third Party - Improvements & Equipment Cost",
            "SAPECCFE3_0000191912",
            3,
            1
           ],
           [
            "MAINTENANCE & IMPROVEMENTS",
            "Building owned - Improvements & equipment cost",
            "SAPECCFE3_0000198990",
            37,
            4
           ],
           [
            "MAINTENANCE & IMPROVEMENTS",
            "Building owned - Improvements cost",
            "SAPECCFE3_0000143801",
            4,
            2
           ],
           [
            "MAINTENANCE & IMPROVEMENTS",
            "Ground and green areas maintenance,inclu industrial premises",
            "SAPECCFE3_0000011683",
            8,
            15
           ],
           [
            "MAINTENANCE & IMPROVEMENTS",
            "Industrial Cleaning",
            "SAPECCFE3_0000012930",
            34,
            3
           ],
           [
            "MAINTENANCE & IMPROVEMENTS",
            "Office machines & equipment - Investment",
            "SAPECCFE3_0000034836",
            28,
            2
           ],
           [
            "MAINTENANCE & IMPROVEMENTS",
            "Office machines & equipment - Maintenance",
            "SAPECCFE3_0000200313",
            19,
            6
           ],
           [
            "MAINTENANCE & IMPROVEMENTS",
            "Research & Development cost",
            "SAPECCFE3_0000012930",
            7,
            3
           ],
           [
            "MAINTENANCE & IMPROVEMENTS",
            "Waste treatment, recycling and disposal services",
            "SAPECCFE3_0000036554",
            39,
            2
           ],
           [
            "MAINTENANCE & IMPROVEMENTS (LOCAL)",
            "TR - Building Maintenance (GenAdm)",
            "SAPECCFE3_0000070050",
            9,
            23
           ],
           [
            "MAINTENANCE & IMPROVEMENTS (LOCAL)",
            "TR - Ground and green areas maintenance (GenAdm)",
            "SAPECCFIP_0000484180",
            3,
            2
           ],
           [
            "MAINTENANCE & IMPROVEMENTS (LOCAL)",
            "TR - Ground and green areas maintenance (GenProd)",
            "SAPECCFE3_0000070050",
            3,
            23
           ],
           [
            "MAINTENANCE & IMPROVEMENTS (LOCAL)",
            "TR - Handyman services (GenAdm)",
            "SAPECCFE3_0000161198",
            12,
            1
           ],
           [
            "MAINTENANCE & IMPROVEMENTS (LOCAL)",
            "TR - Waste treatment, recycling and disposal services (S-Wh)",
            "SAPECCFE3_0000147277",
            1,
            1
           ],
           [
            "MAINTENANCE & IMPROVEMENTS (LOCAL)",
            "TR-Waste treatment,recycling and disposal services (GenProd)",
            "SAPECCFE3_0000093721",
            1,
            1
           ],
           [
            "MAINTENANCE SERVICES",
            "CPX - Services in project scope",
            "SAPECCFE3_0000153472",
            5,
            3
           ],
           [
            "MAINTENANCE SERVICES",
            "Maintenace service not depreciable (Maintenance Order)",
            "SAPECCFE3_0000116096",
            13,
            6
           ],
           [
            "MAINTENANCE SERVICES",
            "OPX - Extraordinary Maintenance",
            "SAPECCFE3_0000195019",
            13,
            5
           ],
           [
            "MAINTENANCE SERVICES",
            "OPX - Ordinary Maintenance",
            "SAPECCFIP_0000469602",
            198,
            3
           ],
           [
            "MAINTENANCE SERVICES",
            "OPX - Retrofit/revamping of an equipment or line",
            "SAPECCFE3_0000056763",
            2,
            16
           ],
           [
            "MAINTENANCE SERVICES",
            "Rental Services Fee",
            "SAPECCFE3_0000016488",
            4,
            3
           ],
           [
            "MAN WORK PER HOUR",
            "Man work per hour svc",
            "SAPECCFE3_0000171147",
            3,
            7
           ],
           [
            "MARKET MEASUREMENT",
            "Ad hoc reports/analysis on syndicated data (excl RMS)",
            "SAPECCFE3_0000180901",
            98,
            2
           ],
           [
            "MARKET MEASUREMENT",
            "Consumer panel on-going subscriptions",
            "SAPECCFE3_0000028961",
            18,
            3
           ],
           [
            "MARKET MEASUREMENT",
            "Other syndicated subscriptions (excluding RMS, CPS)",
            "SAPECCFIP_0000499943",
            22,
            5
           ],
           [
            "MARKET MEASUREMENT",
            "Panel SPE management",
            "SAPECCFE3_0000010076",
            16,
            1
           ],
           [
            "MARKET MEASUREMENT",
            "Purchase of product sampling",
            "SAPECCFE3_0000020427",
            4,
            4
           ],
           [
            "MARKET MEASUREMENT",
            "Subscriptions on Market measurement (license fees)",
            "SAPECCFE3_0000188110",
            81,
            6
           ],
           [
            "MARKETING EVENTS",
            "Brand promotion events",
            "SAPECCFE3_0000011457",
            6,
            8
           ],
           [
            "MARKETING EVENTS",
            "Testimonials Costs",
            "SAPECCFE3_0000189470",
            5,
            2
           ],
           [
            "MERCHANDISING & HOSTESS & BROKER COMMISSIONS",
            "Broker Commissions",
            "SAPECCFE3_0000150575",
            3,
            2
           ],
           [
            "MERCHANDISING & HOSTESS & BROKER COMMISSIONS",
            "Hostess services",
            "SAPECCFE3_0000135711",
            43,
            2
           ],
           [
            "MERCHANDISING & HOSTESS & BROKER COMMISSIONS",
            "Merchandising services",
            "SAPECCFE3_0000089020",
            27,
            1
           ],
           [
            "MOLDING & OVENS",
            "CPX - Basin",
            "SAPECCFE3_0000203265",
            15,
            6
           ],
           [
            "MOLDING & OVENS",
            "CPX - Dosing & Enrobing",
            "SAPECCFE3_0000019628",
            10,
            37
           ],
           [
            "MOLDING & OVENS",
            "CPX - Handling Systems",
            "SAPECCFE3_0000019628",
            3,
            37
           ],
           [
            "MOLDING & OVENS",
            "CPX - Molding :  Ferrero Design & Build",
            "SAPECCFE3_0000057302",
            17,
            9
           ],
           [
            "MOLDING & OVENS",
            "CPX - Molding equipment",
            "SAPECCFE3_0000057302",
            21,
            9
           ],
           [
            "MOLDING & OVENS",
            "CPX - Molds and Forming Equipments",
            "SAPECCFE3_0000017067",
            30,
            2
           ],
           [
            "MOLDING & OVENS",
            "CPX - Oven",
            "SAPECCFE3_0000015701",
            4,
            4
           ],
           [
            "MOLDING & OVENS",
            "CPX - Plate Oven",
            "SAPECCFE3_0000056506",
            3,
            4
           ],
           [
            "MOLDING & OVENS",
            "CPX - Tempering",
            "SAPECCFE3_0000010856",
            13,
            23
           ],
           [
            "MOLDING & OVENS",
            "CPX - Thermic tunnels",
            "SAPECCFE3_0000200770",
            5,
            1
           ],
           [
            "MOLDING & OVENS",
            "Process Engineering professional services",
            "SAPECCFE3_0000034572",
            15,
            7
           ],
           [
            "NUTS EQUIPMENT & AGRI MOBILE MACHINE",
            "CPX - Agri mobile machine (tractor, harvester)",
            "SAPECCFE3_0000048836",
            4,
            14
           ],
           [
            "NUTS EQUIPMENT & AGRI MOBILE MACHINE",
            "CPX - Calibrator",
            "SAPECCFE3_0000193320",
            2,
            4
           ],
           [
            "NUTS EQUIPMENT & AGRI MOBILE MACHINE",
            "CPX - Conveyors,Elevators,Transports, Big Bag station",
            "SAPECCFE3_0000170340",
            2,
            3
           ],
           [
            "NUTS EQUIPMENT & AGRI MOBILE MACHINE",
            "CPX - General Contractor",
            "SAPECCFE3_0000203247",
            1,
            1
           ],
           [
            "NUTS EQUIPMENT & AGRI MOBILE MACHINE",
            "CPX - Optical sorters",
            "SAPECCFE3_0000105909",
            4,
            3
           ],
           [
            "NUTS EQUIPMENT & AGRI MOBILE MACHINE",
            "CPX - Pre-Cleaning/Drying/Vacuum system",
            "SAPECCFE3_0000049256",
            5,
            26
           ],
           [
            "NUTS EQUIPMENT & AGRI MOBILE MACHINE",
            "CPX - Shellers",
            "SAPECCFE3_0000196492",
            3,
            6
           ],
           [
            "NUTS EQUIPMENT & AGRI MOBILE MACHINE",
            "CPX - Silos",
            "SAPECCFE3_0000117020",
            3,
            7
           ],
           [
            "NUTS EQUIPMENT & AGRI MOBILE MACHINE",
            "OPX - Agri Mobile Machine (Tractor, Harvester)",
            "SAPECCFE3_0000200147",
            4,
            1
           ],
           [
            "OFFICE SUPPLIES AND SERVICES",
            "Archiving Services",
            "SAPECCFE3_0000111794",
            11,
            1
           ],
           [
            "OFFICE SUPPLIES AND SERVICES",
            "Office Furniture - Capex",
            "SAPECCFE3_0000203325",
            116,
            1
           ],
           [
            "OFFICE SUPPLIES AND SERVICES",
            "Office supplies",
            "SAPECCFE3_0000031341",
            1194,
            5
           ],
           [
            "OFFICE SUPPLIES AND SERVICES",
            "Other Consumables, Material and Small Supplies",
            "SAPECCFIP_0000610237",
            514,
            6
           ],
           [
            "OFFICE SUPPLIES AND SERVICES",
            "Postage & Couriers Fees",
            "SAPECCFE3_0000060505",
            21,
            2
           ],
           [
            "OFFICE SUPPLIES AND SERVICES",
            "Printing Supplies",
            "SAPECCFIP_0000411272",
            300,
            9
           ],
           [
            "OFFICE SUPPLIES AND SERVICES",
            "Printing, photography and videomaking services",
            "SAPECCFIP_0000605348",
            20,
            2
           ],
           [
            "OFFICE SUPPLIES AND SERVICES",
            "Safety supplies",
            "SAPECCFE3_0000115178",
            34,
            1
           ],
           [
            "OFFICE SUPPLIES AND SERVICES (LOCAL)",
            "TR - Accessories technology supplies (GenAdm)",
            "SAPECCFE3_0000070028",
            1,
            11
           ],
           [
            "OFFICE SUPPLIES AND SERVICES (LOCAL)",
            "TR - Accessories technology supplies (GenProd)",
            "SAPECCFE3_0000189502",
            1,
            3
           ],
           [
            "OFFICE SUPPLIES AND SERVICES (LOCAL)",
            "TR - Archiving Services (GenAdm)",
            "SAPECCFE3_0000114631",
            20,
            1
           ],
           [
            "OFFICE SUPPLIES AND SERVICES (LOCAL)",
            "TR - Office supplies (GenAdm)",
            "SAPECCFE3_0000168740",
            38,
            6
           ],
           [
            "OFFICE SUPPLIES AND SERVICES (LOCAL)",
            "TR - Office supplies (GenProd)",
            "SAPECCFE3_0000168740",
            10,
            6
           ],
           [
            "OFFICE SUPPLIES AND SERVICES (LOCAL)",
            "TR - Postage & Couriers Fees (GenAdm)",
            "SAPECCFE3_0000137717",
            11,
            1
           ],
           [
            "OFFICE SUPPLIES AND SERVICES (LOCAL)",
            "TR - Postage & Couriers Fees (GenProd)",
            "SAPECCFE3_0000048852",
            2,
            1
           ],
           [
            "OFFICE SUPPLIES AND SERVICES (LOCAL)",
            "TR - Printing Supplies (GenProd)",
            "SAPECCFE3_0000146229",
            1,
            3
           ],
           [
            "OFFICE SUPPLIES AND SERVICES (LOCAL)",
            "TR - Safety supplies (GenAdm)",
            "SAPECCFE3_0000094225",
            1,
            2
           ],
           [
            "OFFICE SUPPLIES AND SERVICES (LOCAL)",
            "TR - Small Furniture - Opex (GenAdm)",
            "SAPECCFE3_0000070028",
            2,
            11
           ],
           [
            "OFFICE SUPPLIES AND SERVICES (LOCAL)",
            "TR - Small Furniture - Opex (GenProd)",
            "SAPECCFE3_0000167936",
            1,
            11
           ],
           [
            "OFFICE SUPPLIES AND SERVICES (LOCAL)",
            "TR - Tolls and parking",
            "SAPECCFE3_0000050074",
            30,
            3
           ],
           [
            "OTHER CONSULTING (LOCAL)",
            "TR - IA & Corporate Communication consulting (GenAdm)",
            "SAPECCFE3_0000155827",
            1,
            6
           ],
           [
            "OTHER CONSULTING (LOCAL)",
            "TR - Technical Consulting non-Industrial Buildings (GenAdm)",
            "SAPECCFE3_0000161292",
            2,
            2
           ],
           [
            "OTHER LOGISTICS COSTS",
            "OTHER LOGISTIC COSTS",
            "SAPECCFE3_0000164335",
            120,
            21
           ],
           [
            "OTHER LOGISTICS COSTS",
            "Quality Premium Interm-Finished Prd-FI",
            "SAPECCFE3_0000127684",
            4,
            7
           ],
           [
            "OTHER NON GP SERVICES",
            "Penalties and Fines (deductible)",
            "SAPECCFE3_0000032382",
            15,
            4
           ],
           [
            "OTHER SALES SERVICES",
            "Retail Data monitoring",
            "SAPECCFIP_0000615418",
            31,
            1
           ],
           [
            "OTHER SALES SERVICES",
            "Sales and B2B Events",
            "SAPECCFE3_0000174682",
            4,
            9
           ],
           [
            "OUTSOURCING - NETWORK TRANSMISSION (LOCAL)",
            "TR - Opx Voice, Data Network-Transms(GenAdm)",
            "SAPECCFE3_0000093606",
            14,
            4
           ],
           [
            "PALLETTS PURCHASING MTL",
            "1/4 Wood Pallets",
            "SAPECCFIP_0000605648",
            6,
            2
           ],
           [
            "PALLETTS PURCHASING MTL",
            "Epal 80x120 Pallets New",
            "SAPECCFE3_0000082107",
            30,
            1
           ],
           [
            "PALLETTS PURCHASING MTL",
            "Epal 80x120 Pallets Used 1st Choice",
            "SAPECCFE3_0000017593",
            1,
            3
           ],
           [
            "PALLETTS PURCHASING MTL",
            "Industrial 100x120 Pallets",
            "SAPECCFE3_0000177341",
            6,
            1
           ],
           [
            "PALLETTS RENT & LEASE SVC",
            "Rental 1/2 Plastic Pallets",
            "SAPECCFE3_0000158295",
            4,
            6
           ],
           [
            "PALLETTS RENT & LEASE SVC",
            "Rental 1/4 Plastic Pallets",
            "SAPECCFE3_0000056027",
            168,
            1
           ],
           [
            "PALLETTS RENT & LEASE SVC",
            "Rental 80x120 Pallets",
            "SAPECCFE3_0000054124",
            5,
            10
           ],
           [
            "PALLETTS RENT & LEASE SVC",
            "Rental Industrial 100x120 Pallets",
            "SAPECCFE3_0000145242",
            5,
            5
           ],
           [
            "PAYROLL",
            "PAYROLL SERVICES",
            "SAPECCFE3_0000105400",
            50,
            1
           ],
           [
            "PICKING",
            "Picking Finish Products",
            "SAPECCFIP_0000601355",
            8,
            2
           ],
           [
            "PICKING",
            "Picking Interm-Finished Prd-FI",
            "SAPECCFE3_0000128034",
            12,
            10
           ],
           [
            "PICKING",
            "Picking RAW MATERIALS",
            "SAPECCFE3_0000053213",
            1,
            21
           ],
           [
            "PICKING",
            "Picking Services",
            "SAPECCFE3_0000061548",
            34,
            5
           ],
           [
            "POS MATERIAL",
            "Communication POS material Production",
            "SAPECCFE3_0000049241",
            37,
            15
           ],
           [
            "POS MATERIAL",
            "In/Out Functional Display Production - Customized",
            "SAPECCFE3_0000177691",
            77,
            6
           ],
           [
            "POS MATERIAL",
            "In/Out Functional Display Production - Standard",
            "SAPECCFE3_0000173121",
            96,
            5
           ],
           [
            "POS MATERIAL",
            "In/Out Theatrical Materials Production - Customized",
            "SAPECCFE3_0000037779",
            62,
            5
           ],
           [
            "POS MATERIAL",
            "In/Out Theatrical Materials Production - Standard",
            "SAPECCFE3_0000137709",
            27,
            11
           ],
           [
            "POS MATERIAL",
            "POS material Development & Sampling",
            "SAPECCFIP_0000605266",
            160,
            10
           ],
           [
            "POS MATERIAL",
            "POS material Molds, Toolings, Die Cuts CAPEX",
            "SAPECCFE3_0000013062",
            4,
            15
           ],
           [
            "POS MATERIAL",
            "POS materials Storage and Logistic",
            "SAPECCFE3_0000196519",
            3641,
            5
           ],
           [
            "POS MATERIAL",
            "PROMOTIONAL POINT OF SALE",
            "SAPECCFE3_0000188355",
            93,
            19
           ],
           [
            "PREPARATION",
            "CPX - Belts",
            "SAPECCFE3_0000019628",
            4,
            37
           ],
           [
            "PREPARATION",
            "CPX - Cocoa Presses",
            "SAPECCFE3_0000180981",
            2,
            9
           ],
           [
            "PREPARATION",
            "CPX - Deodorizations",
            "SAPECCFE3_0000098262",
            2,
            4
           ],
           [
            "PREPARATION",
            "CPX - Dough Preparation",
            "SAPECCFE3_0000015701",
            1,
            4
           ],
           [
            "PREPARATION",
            "CPX - Liquid Handling & Processing",
            "SAPECCFE3_0000013925",
            4,
            2
           ],
           [
            "PREPARATION",
            "CPX - Powder handling & processing",
            "SAPECCFE3_0000014146",
            3,
            2
           ],
           [
            "PREPARATION",
            "CPX - Refiners (incl. prerefiners, conches, mills)",
            "SAPECCFIP_0000173452",
            14,
            23
           ],
           [
            "PREPARATION",
            "CPX - Roaster",
            "SAPECCFE3_0000100962",
            2,
            2
           ],
           [
            "PREPARATION",
            "CPX - Tanks (incl. mixer, plastificators)",
            "SAPECCFE3_0000010523",
            8,
            14
           ],
           [
            "PRIMARY PACKAGING",
            "CPX - Counter and filling machine",
            "SAPECCFE3_0000145055",
            3,
            11
           ],
           [
            "PRIMARY PACKAGING",
            "CPX - Flow wrapper",
            "SAPECCFE3_0000067920",
            9,
            31
           ],
           [
            "PRIMARY PACKAGING",
            "CPX - Infeed (incl. raw distributor system / buffer)",
            "SAPECCFE3_0000019458",
            3,
            52
           ],
           [
            "PRIMARY PACKAGING",
            "CPX - Sealing machine",
            "SAPECCFE3_0000054274",
            2,
            23
           ],
           [
            "PRIMARY PACKAGING",
            "CPX - Thermoforming",
            "SAPECCFE3_0000037925",
            2,
            26
           ],
           [
            "PRIMARY PACKAGING",
            "CPX - Wrapping machines",
            "SAPECCFE3_0000032786",
            6,
            11
           ],
           [
            "PRODUCTION",
            "Post-Production of Advertising Content DIGITAL",
            "SAPECCFE3_0000010296",
            41,
            13
           ],
           [
            "PRODUCTION",
            "Post-Production of Advertising Content TRADITIONAL",
            "SAPECCFE3_0000010296",
            59,
            13
           ],
           [
            "PRODUCTION",
            "Production of Advertising Content DIGITAL",
            "SAPECCFE3_0000083957",
            75,
            17
           ],
           [
            "PRODUCTION",
            "Production of Advertising Content TRADITIONAL - Radio",
            "SAPECCFE3_0000011267",
            19,
            7
           ],
           [
            "PRODUCTION",
            "Production of Advertising Content TRADITIONAL - TVC",
            "SAPECCFIP_0000613482",
            46,
            7
           ],
           [
            "PRODUCTION",
            "Production of Advertising Content TRADITIONAL-OOH,Static",
            "SAPECCFE3_0000136126",
            13,
            10
           ],
           [
            "PROMOTIONAL ITEMS",
            "Promotional items (including consumer giveaway)",
            "SAPECCFE3_0000055467",
            55,
            2
           ],
           [
            "PUBLIC RELATIONS",
            "Media Relations, Membership & Partnership",
            "SAPECCFE3_0000169431",
            3,
            1
           ],
           [
            "PUBLIC RELATIONS",
            "PR Communication Strategy, Advisory, Issues Management",
            "SAPECCFE3_0000167060",
            6,
            7
           ],
           [
            "PUBLIC RELATIONS",
            "PR Digital Activities & Tools",
            "SAPECCFE3_0000154278",
            6,
            4
           ],
           [
            "RAIL TRANSPORT",
            "Rail Surprises",
            "SAPECCFE3_0000019514",
            2,
            19
           ],
           [
            "REAL ESTATE",
            "Additional Services and Costs for Real Estate Lease",
            "SAPECCFE3_0000141196",
            8,
            4
           ],
           [
            "REAL ESTATE",
            "Co-working & flexible spaces lease",
            "SAPECCFE3_0000200114",
            1,
            1
           ],
           [
            "REAL ESTATE",
            "Local Small Building rent",
            "SAPECCFE3_0000010945",
            1,
            5
           ],
           [
            "REAL ESTATE",
            "Real Estate Office Lease",
            "SAPECCFE3_0000150512",
            19,
            2
           ],
           [
            "REAL ESTATE",
            "Real Estate Short-Term Lease <12 Months",
            "SAPECCFE3_0000183976",
            8,
            2
           ],
           [
            "REAL ESTATE",
            "Real estate Retail lease",
            "SAPECCFE3_0000151087",
            3,
            4
           ],
           [
            "REAL ESTATE",
            "Real estate others (no industrial, no supply chain)",
            "SAPECCFE3_0000187306",
            2,
            2
           ],
           [
            "REAL ESTATE (LOCAL)",
            "TR - Real Estate Office Lease (GenAdm)",
            "SAPECCFE3_0000191553",
            8,
            1
           ],
           [
            "RECRUITMENT SERVICE",
            "Job postings",
            "SAPECCFIP_0000618078",
            5,
            2
           ],
           [
            "RECRUITMENT SERVICE",
            "RECRUITMENT",
            "SAPECCFE3_0000078268",
            83,
            12
           ],
           [
            "RELOCATION",
            "Employees relocation services",
            "SAPECCFE3_0000187306",
            14,
            2
           ],
           [
            "RELOCATION",
            "Long Stay Relocation",
            "SAPECCFE3_0000189521",
            5,
            3
           ],
           [
            "REPACKING",
            "Repacking/Rebulking Finish Products",
            "SAPECCFE3_0000198306",
            160,
            7
           ],
           [
            "REPACKING",
            "Repacking/Rebulking RAW MATERIALS",
            "SAPECCFE3_0000086825",
            2,
            2
           ],
           [
            "RETAIL PANELS",
            "Ad hoc reports/ analysis performed on Retail Panel DB",
            "SAPECCFE3_0000113127",
            6,
            2
           ],
           [
            "RETAIL PANELS",
            "Retail Panels DB",
            "SAPECCFE3_0000121738",
            187,
            13
           ],
           [
            "RETAIL PANELS",
            "Subscriptions on Retail panels (license fees)",
            "SAPECCFIP_0000494380",
            3,
            4
           ],
           [
            "ROAD TRANSPORT",
            "Booking System Services - Third Parties (TBD)",
            "SAPECCFE3_0000013202",
            8,
            2
           ],
           [
            "ROAD TRANSPORT",
            "Destruction Product Transport",
            "SAPECCFE3_0000130663",
            40,
            2
           ],
           [
            "ROAD TRANSPORT",
            "EXPORT EXPENSES FOR",
            "SAPECCFE3_0000083315",
            159,
            12
           ],
           [
            "ROAD TRANSPORT",
            "Export Expenses For Various Sales",
            "SAPECCFE3_0000053213",
            102,
            21
           ],
           [
            "ROAD TRANSPORT",
            "Extra Cost  Transpor Finished product",
            "SAPECCFE3_0000164335",
            2041,
            21
           ],
           [
            "ROAD TRANSPORT",
            "Extra Cost  Transpor Interm-finished Product",
            "SAPECCFE3_0000164335",
            63,
            21
           ],
           [
            "ROAD TRANSPORT",
            "Extra Cost  Transpor Packaging",
            "SAPECCFE3_0000204376",
            68,
            1
           ],
           [
            "ROAD TRANSPORT",
            "Extra Cost  Transpor Raw Material",
            "SAPECCFE3_0000164335",
            334,
            21
           ],
           [
            "ROAD TRANSPORT",
            "Extra Cost  Transpor Semi-finished Product",
            "SAPECCFE3_0000164335",
            185,
            21
           ],
           [
            "ROAD TRANSPORT",
            "Extra Cost  Transpor Surprise",
            "SAPECCFE3_0000102477",
            573,
            2
           ],
           [
            "ROAD TRANSPORT",
            "Extra-waiting Finish Products",
            "SAPECCFE3_0000188157",
            73,
            4
           ],
           [
            "ROAD TRANSPORT",
            "Extra-waiting Interm-Finished Prd-FI",
            "SAPECCFE3_0000198510",
            6,
            13
           ],
           [
            "ROAD TRANSPORT",
            "Extra-waiting Packaging",
            "SAPECCFE3_0000118914",
            2,
            15
           ],
           [
            "ROAD TRANSPORT",
            "Extra-waiting RAW MATERIALS",
            "SAPECCFE3_0000086888",
            36,
            22
           ],
           [
            "ROAD TRANSPORT",
            "Extra-waiting SEMI-FINISHED GOODS",
            "SAPECCFE3_0000086888",
            32,
            22
           ],
           [
            "ROAD TRANSPORT",
            "Extra-waiting Surprises",
            "SAPECCFE3_0000038049",
            14,
            17
           ],
           [
            "ROAD TRANSPORT",
            "Inspections/Sanitary Controls Finish Products",
            "SAPECCFE3_0000166725",
            143,
            1
           ],
           [
            "ROAD TRANSPORT",
            "Inspections/Sanitary Controls Interm-Finished Prd-FI",
            "SAPECCFE3_0000086758",
            1,
            7
           ],
           [
            "ROAD TRANSPORT",
            "Inspections/Sanitary Controls SEMI-FINISHED GOODS",
            "SAPECCFE3_0000086888",
            7,
            22
           ],
           [
            "ROAD TRANSPORT",
            "Road Finish Products",
            "SAPECCFE3_0000157987",
            225,
            7
           ],
           [
            "ROAD TRANSPORT",
            "Road Interm-Finished Prd-FI",
            "SAPECCFE3_0000110968",
            47,
            9
           ],
           [
            "ROAD TRANSPORT",
            "Road Packaging",
            "SAPECCFE3_0000147554",
            340,
            10
           ],
           [
            "ROAD TRANSPORT",
            "Road RAW MATERIALS",
            "SAPECCFE3_0000011968",
            108,
            7
           ],
           [
            "ROAD TRANSPORT",
            "Road SEMI-FINISHED GOODS",
            "SAPECCFE3_0000198510",
            66,
            13
           ],
           [
            "ROAD TRANSPORT",
            "Road Surprises",
            "SAPECCFE3_0000102714",
            258,
            7
           ],
           [
            "ROAD TRANSPORT",
            "Road Transportation",
            "SAPECCFE3_0000121401",
            24178,
            3
           ],
           [
            "ROAD TRANSPORT",
            "Road Transportation Administrative Costs",
            "SAPECCFE3_0000110968",
            7,
            9
           ],
           [
            "ROAD TRANSPORT",
            "Road Transportation Costs For Foreign Stays (Demurrages)",
            "SAPECCFE3_0000198510",
            132,
            13
           ],
           [
            "ROAD TRANSPORT",
            "Road Transportation Finished Products Export Costs",
            "SAPECCFE3_0000198510",
            463,
            13
           ],
           [
            "ROAD TRANSPORT",
            "Road Transportation Fleet Rental & Depots",
            "SAPECCFE3_0000086461",
            37,
            5
           ],
           [
            "ROAD TRANSPORT",
            "Special Projects Finish Products",
            "SAPECCFE3_0000162339",
            1,
            1
           ],
           [
            "SEA TRANSPORT",
            "Sea Finish Products",
            "SAPECCFE3_0000013003",
            14,
            17
           ],
           [
            "SEA TRANSPORT",
            "Sea Interm-Finished Prd-FI",
            "SAPECCFE3_0000164335",
            6,
            21
           ],
           [
            "SEA TRANSPORT",
            "Sea Packaging",
            "SAPECCFE3_0000139578",
            6,
            8
           ],
           [
            "SEA TRANSPORT",
            "Sea RAW MATERIALS",
            "SAPECCFE3_0000090208",
            56,
            13
           ],
           [
            "SEA TRANSPORT",
            "Sea SEMI-FINISHED GOODS",
            "SAPECCFE3_0000159175",
            9,
            16
           ],
           [
            "SEA TRANSPORT",
            "Sea Surprises",
            "SAPECCFE3_0000038049",
            50,
            17
           ],
           [
            "SEA TRANSPORT",
            "Sea Transportation",
            "SAPECCFE3_0000164335",
            319,
            21
           ],
           [
            "SEA TRANSPORT",
            "Sea Transportation Export Fees Costs",
            "SAPECCFE3_0000013003",
            385,
            17
           ],
           [
            "SECONDARY PACKAGING",
            "CPX - Bagging Machines",
            "SAPECCFE3_0000010629",
            10,
            9
           ],
           [
            "SECONDARY PACKAGING",
            "CPX - Box Forming Machine",
            "SAPECCFE3_0000174966",
            4,
            2
           ],
           [
            "SECONDARY PACKAGING",
            "CPX - Forming, filling and closing",
            "SAPECCFIP_0000430005",
            11,
            10
           ],
           [
            "SECONDARY PACKAGING",
            "CPX - Pal- & Depalletizers",
            "SAPECCFE3_0000161212",
            4,
            3
           ],
           [
            "SECONDARY PACKAGING",
            "CPX - Sleeve & Shrink Machines",
            "SAPECCFE3_0000034850",
            1,
            9
           ],
           [
            "SECURITY",
            "CCTV",
            "SAPECCFE3_0000204461",
            2,
            2
           ],
           [
            "SECURITY",
            "Manned guarding services",
            "SAPECCFE3_0000107756",
            76,
            1
           ],
           [
            "SECURITY",
            "People Security Services",
            "SAPECCFE3_0000164462",
            5,
            4
           ],
           [
            "SECURITY",
            "Physical and Supply Chain security",
            "SAPECCFE3_0000164462",
            8,
            4
           ],
           [
            "SECURITY",
            "Porter and reception services",
            "SAPECCFE3_0000192510",
            5,
            1
           ],
           [
            "SECURITY",
            "Risk assessment and threat intelligence",
            "SAPECCFE3_0000095344",
            1,
            2
           ],
           [
            "SECURITY",
            "Security technology",
            "SAPECCFE3_0000180723",
            13,
            1
           ],
           [
            "SECURITY (LOCAL)",
            "TR - People Security (GenAdm)",
            "SAPECCFE3_0000100759",
            2,
            1
           ],
           [
            "SECURITY (LOCAL)",
            "TR - Security technology (GenAdm)",
            "SAPECCFE3_0000159388",
            1,
            1
           ],
           [
            "SERVICES - MANAGED SERVICE",
            "1st Level Support Outsourcing Applications",
            "SAPECCFE3_0000017023",
            26,
            13
           ],
           [
            "SERVICES - MANAGED SERVICE",
            "1st Level Support Outsourcing Technology",
            "SAPECCFE3_0000190502",
            4,
            9
           ],
           [
            "SERVICES - MANAGED SERVICE",
            "2nd Level Suport Outsourcing Applications",
            "SAPECCFE3_0000016570",
            2,
            16
           ],
           [
            "SERVICES - MANAGED SERVICE",
            "2nd Level Support Outsourcing Technology",
            "SAPECCFE3_0000017023",
            1,
            13
           ],
           [
            "SERVICES - MANAGED SERVICE",
            "Applications Development - System Integration CAPEX",
            "SAPECCFE3_0000056288",
            47,
            9
           ],
           [
            "SERVICES - MANAGED SERVICE",
            "End-User Computing Laptop, Workstation Outsourcing",
            "SAPECCFE3_0000017023",
            5,
            13
           ],
           [
            "SERVICES - MANAGED SERVICE",
            "End-User Computing Mobile Communications Outsourcing",
            "SAPECCFE3_0000127676",
            9,
            1
           ],
           [
            "SERVICES - MANAGED SERVICE",
            "End-User Computing Mobile Management Outsourcing",
            "SAPECCFE3_0000043455",
            29,
            3
           ],
           [
            "SERVICES - MANAGED SERVICE",
            "Server&Storage Outsourcing",
            "SAPECCFE3_0000017023",
            17,
            13
           ],
           [
            "SERVICES - MANAGED SERVICE",
            "Voice and Data Network Communications Outsourcing",
            "SAPECCFE3_0000010809",
            16,
            3
           ],
           [
            "SERVICES - MANAGED SERVICE",
            "Voice and Data Network Outsourcing",
            "SAPECCFE3_0000017023",
            8,
            13
           ],
           [
            "SERVICES - T&M/BODY LEASING",
            "Applications Development T&M CAPEX",
            "SAPECCFIP_0000611572",
            13,
            1
           ],
           [
            "SERVICES - T&M/BODY LEASING",
            "Applications Run and Maintenance T&M",
            "SAPECCFE3_0000035571",
            11,
            3
           ],
           [
            "SERVICES - T&M/BODY LEASING",
            "Corporate IT Management, Finance and Administration T&M",
            "SAPECCFE3_0000119125",
            7,
            2
           ],
           [
            "SERVICES - T&M/BODY LEASING",
            "End-User Computing T&M",
            "SAPECCFE3_0000050091",
            26,
            10
           ],
           [
            "SERVICES - T&M/BODY LEASING",
            "IT Service Desk T&M",
            "SAPECCFE3_0000184140",
            3,
            2
           ],
           [
            "SERVICES - T&M/BODY LEASING",
            "Server&Storage T&M",
            "SAPECCFE3_0000145216",
            4,
            2
           ],
           [
            "SERVICES - T&M/BODY LEASING",
            "Server&Storage T&M CAPEX",
            "SAPECCFE3_0000073845",
            3,
            4
           ],
           [
            "SERVICES - T&M/BODY LEASING",
            "Voice and Data Network T&M",
            "SAPECCFE3_0000029047",
            5,
            2
           ],
           [
            "SOFTWARE - MAINTENANCE FOR PERPETUAL LICENSES",
            "Maintenance Application Software",
            "SAPECCFE3_0000182305",
            9,
            1
           ],
           [
            "SOFTWARE - MAINTENANCE FOR PERPETUAL LICENSES",
            "Maintenance End-User Computing Software",
            "SAPECCFE3_0000201534",
            2,
            5
           ],
           [
            "SOFTWARE - MAINTENANCE FOR PERPETUAL LICENSES",
            "Maintenance Server&Storage Software",
            "SAPECCFE3_0000207191",
            5,
            5
           ],
           [
            "SOFTWARE - MAINTENANCE FOR PERPETUAL LICENSES",
            "Maintenance Voice and Data Network Software",
            "SAPECCFE3_0000124357",
            5,
            1
           ],
           [
            "SOFTWARE - SUBSCRIPTIONS/LICENSES",
            "Application Perpetual Licenses CAPEX",
            "SAPECCFE3_0000096541",
            3,
            2
           ],
           [
            "SOFTWARE - SUBSCRIPTIONS/LICENSES",
            "Cloud Application Development",
            "SAPECCFE3_0000039652",
            10,
            2
           ],
           [
            "SOFTWARE - SUBSCRIPTIONS/LICENSES",
            "Cloud License Application Maintenance",
            "SAPECCFE3_0000017520",
            19,
            4
           ],
           [
            "SOFTWARE - SUBSCRIPTIONS/LICENSES",
            "End-User Computing Licenses CAPEX",
            "SAPECCFE3_0000192359",
            3,
            12
           ],
           [
            "SOFTWARE - SUBSCRIPTIONS/LICENSES",
            "Purchase Applications Licenses",
            "SAPECCFE3_0000183337",
            7,
            12
           ],
           [
            "SOFTWARE - SUBSCRIPTIONS/LICENSES",
            "Server&Storage Licenses CAPEX",
            "SAPECCFE3_0000041744",
            1,
            9
           ],
           [
            "SOFTWARE - SUBSCRIPTIONS/LICENSES",
            "Subscription End-User Computing (SaaS)",
            "SAPECCFE3_0000031371",
            9,
            6
           ],
           [
            "SOFTWARE - SUBSCRIPTIONS/LICENSES",
            "Subscription Voice and Data Network (IaaS)",
            "SAPECCFE3_0000192388",
            10,
            5
           ],
           [
            "SOFTWARE - SUBSCRIPTIONS/LICENSES",
            "Voice and Data Network Licenses CAPEX",
            "SAPECCFE3_0000142933",
            1,
            2
           ],
           [
            "SPONSORING",
            "Events Sponsorships & Partnership",
            "SAPECCFE3_0000190685",
            97,
            4
           ],
           [
            "STANDALONE EQUIPMENT",
            "CPX - Check weigher",
            "SAPECCFE3_0000069011",
            5,
            3
           ],
           [
            "STANDALONE EQUIPMENT",
            "CPX - Conveyors and Handling",
            "SAPECCFE3_0000015066",
            10,
            9
           ],
           [
            "STANDALONE EQUIPMENT",
            "CPX - Gluing machine",
            "SAPECCFE3_0000013005",
            4,
            15
           ],
           [
            "STANDALONE EQUIPMENT",
            "CPX - Labellers",
            "SAPECCFE3_0000068585",
            9,
            1
           ],
           [
            "STANDALONE EQUIPMENT",
            "CPX - Metal detector",
            "SAPECCFE3_0000011750",
            3,
            12
           ],
           [
            "STANDALONE EQUIPMENT",
            "CPX - Printer",
            "SAPECCFE3_0000012823",
            12,
            17
           ],
           [
            "STANDALONE EQUIPMENT",
            "CPX - Vision & Cameras",
            "SAPECCFE3_0000012823",
            7,
            17
           ],
           [
            "STANDALONE EQUIPMENT",
            "CPX - X-Ray",
            "SAPECCFE3_0000062126",
            4,
            4
           ],
           [
            "STORAGE",
            "OTHER LOGISTIC COSTS (FG WH)",
            "SAPECCFE3_0000198902",
            1,
            7
           ],
           [
            "STORAGE",
            "Storage Finish Products",
            "SAPECCFE3_0000038242",
            18,
            3
           ],
           [
            "STORAGE",
            "Storage Finished Products (co-packing)",
            "SAPECCFE3_0000069644",
            4,
            1
           ],
           [
            "STORAGE",
            "Storage Interm-Finished Prd-FI",
            "SAPECCFE3_0000151283",
            28,
            8
           ],
           [
            "STORAGE",
            "Storage Mtl",
            "SAPECCFE3_0000060408",
            33,
            8
           ],
           [
            "STORAGE",
            "Storage Packaging",
            "SAPECCFE3_0000102646",
            47,
            9
           ],
           [
            "STORAGE",
            "Storage RAW MATERIALS",
            "SAPECCFE3_0000094676",
            22,
            15
           ],
           [
            "STORAGE",
            "Storage SEMI-FINISHED GOODS",
            "SAPECCFE3_0000102646",
            5,
            9
           ],
           [
            "STORAGE",
            "Storage Surprises",
            "SAPECCFE3_0000102646",
            231,
            9
           ],
           [
            "SUBSCRIPTIONS/MEMBERSHIPS",
            "Books, periodicals subscription (digital or not)",
            "SAPECCFIP_0000618541",
            49,
            1
           ],
           [
            "SUBSCRIPTIONS/MEMBERSHIPS",
            "Business Association fees",
            "SAPECCFE3_0000146073",
            23,
            4
           ],
           [
            "SUBSCRIPTIONS/MEMBERSHIPS",
            "Data source provider, knowledge database subscription",
            "SAPECCFE3_0000095730",
            1,
            2
           ],
           [
            "SUBSCRIPTIONS/MEMBERSHIPS",
            "NGO, Donations",
            "SAPECCFE3_0000155308",
            2,
            2
           ],
           [
            "SURPRISE L3",
            "PALLETS",
            "SAPECCFE3_0000153522",
            52,
            4
           ],
           [
            "TECHNICAL DEVICES FOR POS",
            "Check Out Display Production",
            "SAPECCFE3_0000049241",
            22,
            15
           ],
           [
            "TECHNICAL DEVICES FOR POS",
            "Fridges lease/rent and other tech devices for point of Sale",
            "SAPECCFE3_0000201436",
            5,
            1
           ],
           [
            "TECHNICAL DEVICES FOR POS",
            "Fridges production and other tech devices for POS - CAPEX",
            "SAPECCFE3_0000017500",
            6,
            8
           ],
           [
            "TECHNICAL DEVICES FOR POS",
            "Fridges production and other tech devices for POS-excl CAPEX",
            "SAPECCFE3_0000213659",
            37,
            1
           ],
           [
            "TECHNICAL DEVICES FOR POS",
            "PROM.MAT.CASHDESK",
            "SAPECCFE3_0000013062",
            4,
            15
           ],
           [
            "TECHNICAL DEVICES FOR POS",
            "PROMO POS MODERN",
            "SAPECCFE3_0000188355",
            37,
            19
           ],
           [
            "TECHNICAL DEVICES FOR POS",
            "PROMO POS TRADNL",
            "SAPECCFE3_0000179395",
            17,
            5
           ],
           [
            "TECHNICAL DEVICES FOR POS",
            "PROMOTIONAL GIFTS",
            "SAPECCFE3_0000085062",
            2,
            11
           ],
           [
            "TECHNICAL DEVICES FOR POS",
            "Permanent Materials Production - Secondary Placement",
            "SAPECCFE3_0000100639",
            29,
            5
           ],
           [
            "TECHNICAL DEVICES FOR POS",
            "Services for fridge and other tech devices for Point of Sale",
            "SAPECCFE3_0000046540",
            6,
            1
           ],
           [
            "TECHNICAL MATERIALS, PPE & CLOTHES",
            "Axes/shafts",
            "SAPECCFE3_0000013541",
            29,
            51
           ],
           [
            "TECHNICAL MATERIALS, PPE & CLOTHES",
            "BEARINGS AND LINEAR GUIDES",
            "SAPECCFE3_0000147794",
            966,
            41
           ],
           [
            "TECHNICAL MATERIALS, PPE & CLOTHES",
            "BRAKES AND CLUTCHES",
            "SAPECCFE3_0000015066",
            8,
            9
           ],
           [
            "TECHNICAL MATERIALS, PPE & CLOTHES",
            "Batteries",
            "SAPECCFE3_0000093163",
            18,
            17
           ],
           [
            "TECHNICAL MATERIALS, PPE & CLOTHES",
            "Belts",
            "SAPECCFE3_0000147794",
            268,
            41
           ],
           [
            "TECHNICAL MATERIALS, PPE & CLOTHES",
            "Brushes",
            "SAPECCFIP_0000407070",
            5,
            3
           ],
           [
            "TECHNICAL MATERIALS, PPE & CLOTHES",
            "Building materials",
            "SAPECCFIP_0000301531",
            30,
            4
           ],
           [
            "TECHNICAL MATERIALS, PPE & CLOTHES",
            "CONTROL INSTRUMENTS",
            "SAPECCFE3_0000014741",
            9,
            13
           ],
           [
            "TECHNICAL MATERIALS, PPE & CLOTHES",
            "CPX Technical Material",
            "SAPECCFE3_0000032966",
            26,
            16
           ],
           [
            "TECHNICAL MATERIALS, PPE & CLOTHES",
            "Cams",
            "SAPECCFE3_0000013541",
            5,
            51
           ],
           [
            "TECHNICAL MATERIALS, PPE & CLOTHES",
            "Chains",
            "SAPECCFE3_0000185241",
            55,
            57
           ],
           [
            "TECHNICAL MATERIALS, PPE & CLOTHES",
            "Cod - PPE, Safety Work Products, Fire Protection",
            "SAPECCFE3_0000013622",
            374,
            61
           ],
           [
            "TECHNICAL MATERIALS, PPE & CLOTHES",
            "Codified - Clothes & Uniforms, Safety Shoes",
            "SAPECCFE3_0000013622",
            245,
            61
           ],
           [
            "TECHNICAL MATERIALS, PPE & CLOTHES",
            "Computer (process)",
            "SAPECCFE3_0000015249",
            6,
            24
           ],
           [
            "TECHNICAL MATERIALS, PPE & CLOTHES",
            "Couplings",
            "SAPECCFE3_0000147794",
            31,
            41
           ],
           [
            "TECHNICAL MATERIALS, PPE & CLOTHES",
            "Cutting tools",
            "SAPECCFE3_0000026841",
            99,
            31
           ],
           [
            "TECHNICAL MATERIALS, PPE & CLOTHES",
            "Cylinders",
            "SAPECCFE3_0000012082",
            236,
            26
           ],
           [
            "TECHNICAL MATERIALS, PPE & CLOTHES",
            "Dampers",
            "SAPECCFE3_0000013622",
            12,
            61
           ],
           [
            "TECHNICAL MATERIALS, PPE & CLOTHES",
            "Dosing nozzles",
            "SAPECCFE3_0000013005",
            52,
            15
           ],
           [
            "TECHNICAL MATERIALS, PPE & CLOTHES",
            "ELECTRIC MOTORS AND DRIVES",
            "SAPECCFE3_0000011941",
            102,
            9
           ],
           [
            "TECHNICAL MATERIALS, PPE & CLOTHES",
            "ELECTRICAL / ELECTRONICAL COMPONENTS",
            "SAPECCFE3_0000015249",
            329,
            24
           ],
           [
            "TECHNICAL MATERIALS, PPE & CLOTHES",
            "Electric cables",
            "SAPECCFE3_0000011871",
            32,
            7
           ],
           [
            "TECHNICAL MATERIALS, PPE & CLOTHES",
            "Electronic cables",
            "SAPECCFE3_0000095716",
            24,
            12
           ],
           [
            "TECHNICAL MATERIALS, PPE & CLOTHES",
            "FIXING ELEMENTS",
            "SAPECCFE3_0000013622",
            72,
            61
           ],
           [
            "TECHNICAL MATERIALS, PPE & CLOTHES",
            "Fans",
            "SAPECCFE3_0000015249",
            11,
            24
           ],
           [
            "TECHNICAL MATERIALS, PPE & CLOTHES",
            "Filters",
            "SAPECCFIP_0000235369",
            71,
            2
           ],
           [
            "TECHNICAL MATERIALS, PPE & CLOTHES",
            "Flexible pipes",
            "SAPECCFE3_0000083940",
            47,
            26
           ],
           [
            "TECHNICAL MATERIALS, PPE & CLOTHES",
            "Fuels",
            "SAPECCFE3_0000048793",
            44,
            4
           ],
           [
            "TECHNICAL MATERIALS, PPE & CLOTHES",
            "GEARS",
            "SAPECCFE3_0000013541",
            18,
            51
           ],
           [
            "TECHNICAL MATERIALS, PPE & CLOTHES",
            "Gas Consumables",
            "SAPECCFIP_0000603300",
            59,
            2
           ],
           [
            "TECHNICAL MATERIALS, PPE & CLOTHES",
            "Gaskets/Seals",
            "SAPECCFE3_0000013622",
            266,
            61
           ],
           [
            "TECHNICAL MATERIALS, PPE & CLOTHES",
            "Gearboxes",
            "SAPECCFE3_0000147794",
            53,
            41
           ],
           [
            "TECHNICAL MATERIALS, PPE & CLOTHES",
            "Generic consumables",
            "SAPECCFE3_0000181642",
            84,
            42
           ],
           [
            "TECHNICAL MATERIALS, PPE & CLOTHES",
            "Glues",
            "SAPECCFE3_0000116715",
            26,
            42
           ],
           [
            "TECHNICAL MATERIALS, PPE & CLOTHES",
            "HYDRAULIC AND PNEUMATIC FITTINGS",
            "SAPECCFE3_0000098938",
            122,
            39
           ],
           [
            "TECHNICAL MATERIALS, PPE & CLOTHES",
            "Heaters",
            "SAPECCFE3_0000021281",
            9,
            14
           ],
           [
            "TECHNICAL MATERIALS, PPE & CLOTHES",
            "Infirmary",
            "SAPECCFE3_0000194190",
            2,
            5
           ],
           [
            "TECHNICAL MATERIALS, PPE & CLOTHES",
            "Laundry Services",
            "SAPECCFE3_0000156870",
            4,
            2
           ],
           [
            "TECHNICAL MATERIALS, PPE & CLOTHES",
            "Levers",
            "SAPECCFE3_0000019458",
            7,
            52
           ],
           [
            "TECHNICAL MATERIALS, PPE & CLOTHES",
            "Lighting",
            "SAPECCFE3_0000015249",
            93,
            24
           ],
           [
            "TECHNICAL MATERIALS, PPE & CLOTHES",
            "Locks, Handles",
            "SAPECCFE3_0000147794",
            24,
            41
           ],
           [
            "TECHNICAL MATERIALS, PPE & CLOTHES",
            "Lubricants",
            "SAPECCFE3_0000015790",
            76,
            2
           ],
           [
            "TECHNICAL MATERIALS, PPE & CLOTHES",
            "Measure devices and Control instruments",
            "SAPECCFE3_0000012860",
            31,
            14
           ],
           [
            "TECHNICAL MATERIALS, PPE & CLOTHES",
            "Not cod - PPE, Safety Work Products, Fire Protection",
            "SAPECCFIP_0000610058",
            351,
            2
           ],
           [
            "TECHNICAL MATERIALS, PPE & CLOTHES",
            "Not codified - Clothes & Uniforms, Safety Shoes",
            "SAPECCFE3_0000013622",
            8,
            61
           ],
           [
            "TECHNICAL MATERIALS, PPE & CLOTHES",
            "Other Materials Immediate Use for Maintenance Plant",
            "SAPECCFE3_0000174759",
            306,
            34
           ],
           [
            "TECHNICAL MATERIALS, PPE & CLOTHES",
            "Other Materials Immediate Use for Production Assistance",
            "SAPECCFE3_0000174759",
            29,
            34
           ],
           [
            "TECHNICAL MATERIALS, PPE & CLOTHES",
            "Other Spare parts (not codified, catalogues items)",
            "SAPECCFIP_0000611406",
            376,
            21
           ],
           [
            "TECHNICAL MATERIALS, PPE & CLOTHES",
            "PHOTOCELLS AND PROXIMITY SWITCHES",
            "SAPECCFE3_0000014741",
            87,
            13
           ],
           [
            "TECHNICAL MATERIALS, PPE & CLOTHES",
            "PRINTERS CONSUMABLES",
            "SAPECCFE3_0000012823",
            73,
            17
           ],
           [
            "TECHNICAL MATERIALS, PPE & CLOTHES",
            "PRINTERS SPARE PARTS",
            "SAPECCFE3_0000174911",
            18,
            13
           ],
           [
            "TECHNICAL MATERIALS, PPE & CLOTHES",
            "PRODUCTION TOOLS",
            "SAPECCFE3_0000181642",
            154,
            42
           ],
           [
            "TECHNICAL MATERIALS, PPE & CLOTHES",
            "Paint",
            "SAPECCFE3_0000013087",
            14,
            19
           ],
           [
            "TECHNICAL MATERIALS, PPE & CLOTHES",
            "Pulleys",
            "SAPECCFE3_0000019458",
            11,
            52
           ],
           [
            "TECHNICAL MATERIALS, PPE & CLOTHES",
            "Pumps",
            "SAPECCFE3_0000098938",
            48,
            39
           ],
           [
            "TECHNICAL MATERIALS, PPE & CLOTHES",
            "Rigid pipes",
            "SAPECCFIP_0000611720",
            31,
            2
           ],
           [
            "TECHNICAL MATERIALS, PPE & CLOTHES",
            "Rollers",
            "SAPECCFE3_0000019458",
            19,
            52
           ],
           [
            "TECHNICAL MATERIALS, PPE & CLOTHES",
            "SPARE PARTS FOR GAS PLANTS",
            "SAPECCFE3_0000140183",
            4,
            1
           ],
           [
            "TECHNICAL MATERIALS, PPE & CLOTHES",
            "SPECIFIC DRAWING COMPONENTS",
            "SAPECCFE3_0000013541",
            151,
            51
           ],
           [
            "TECHNICAL MATERIALS, PPE & CLOTHES",
            "SPROCKET WHEELS",
            "SAPECCFE3_0000185241",
            18,
            57
           ],
           [
            "TECHNICAL MATERIALS, PPE & CLOTHES",
            "Screws",
            "SAPECCFE3_0000013622",
            333,
            61
           ],
           [
            "TECHNICAL MATERIALS, PPE & CLOTHES",
            "Spare Parts - Conveyors",
            "SAPECCFE3_0000012216",
            329,
            6
           ],
           [
            "TECHNICAL MATERIALS, PPE & CLOTHES",
            "Spare Parts Utilities",
            "SAPECCFE3_0000174719",
            31,
            27
           ],
           [
            "TECHNICAL MATERIALS, PPE & CLOTHES",
            "Spare parts kits",
            "SAPECCFE3_0000048836",
            36,
            14
           ],
           [
            "TECHNICAL MATERIALS, PPE & CLOTHES",
            "Springs",
            "SAPECCFE3_0000013622",
            45,
            61
           ],
           [
            "TECHNICAL MATERIALS, PPE & CLOTHES",
            "Suction cups",
            "SAPECCFE3_0000098938",
            102,
            39
           ],
           [
            "TECHNICAL MATERIALS, PPE & CLOTHES",
            "Valves",
            "SAPECCFE3_0000012082",
            230,
            26
           ],
           [
            "TECHNICAL MATERIALS, PPE & CLOTHES",
            "Vibrators",
            "SAPECCFE3_0000185241",
            6,
            57
           ],
           [
            "TECHNICAL MATERIALS, PPE & CLOTHES",
            "WORKSHOP TOOLS",
            "SAPECCFE3_0000065723",
            438,
            12
           ],
           [
            "TECHNICAL MATERIALS, PPE & CLOTHES",
            "Water for industrial plant",
            "SAPECCFIP_0000105325",
            18,
            1
           ],
           [
            "TECHNICAL MATERIALS, PPE & CLOTHES",
            "Wheels",
            "SAPECCFE3_0000013622",
            19,
            61
           ],
           [
            "TECHNICAL MATERIALS, PPE & CLOTHES",
            "Сonstruction",
            "SAPECCFE3_0000098938",
            187,
            39
           ],
           [
            "TEMPORARY PERSONNEL",
            "Temporary Personnels",
            "SAPECCFE3_0000156350",
            17,
            1
           ],
           [
            "TEMPORARY PERSONNEL (LOCAL)",
            "TR - Temporary personnel (GenAdm)",
            "SAPECCFE3_0000070096",
            1,
            1
           ],
           [
            "TEMPORARY PERSONNEL (LOCAL)",
            "TR - Temporary personnel (GenProd)",
            "SAPECCFE3_0000032508",
            1,
            1
           ],
           [
            "TRAINING",
            "Training Design & Cost of Personal",
            "SAPECCFE3_0000168106",
            13,
            4
           ],
           [
            "TRAINING (LOCAL)",
            "TR - Training costs of personnel (GenAdm)",
            "SAPECCFE3_0000167666",
            5,
            9
           ],
           [
            "TRAINING (LOCAL)",
            "TR - Training costs of personnel (GenProd)",
            "SAPECCFE3_0000070050",
            2,
            23
           ],
           [
            "TRAVEL",
            "Hotel accommodation",
            "SAPECCFIP_0000523674",
            8,
            2
           ],
           [
            "TRAVEL",
            "Long stay accommodation",
            "SAPECCFE3_0000048996",
            3,
            2
           ],
           [
            "TRAVEL",
            "Other travel services",
            "SAPECCFIP_0000617867",
            20,
            3
           ],
           [
            "TRAVEL",
            "Transportation - Flights",
            "SAPECCFE3_0000189830",
            4,
            4
           ],
           [
            "TRAVEL",
            "Transportation - Other",
            "SAPECCFE3_0000151038",
            27,
            6
           ],
           [
            "TRAVEL",
            "Transportation - Short-term Rental Cars",
            "SAPECCFIP_0000617867",
            181,
            3
           ],
           [
            "TRAVEL",
            "Travel Agencies fees & services",
            "SAPECCFE3_0000047196",
            115,
            1
           ],
           [
            "TRAVEL (LOCAL)",
            "TR - Travel Agencies fees & services (GenAdm)",
            "SAPECCFE3_0000166455",
            5,
            3
           ],
           [
            "TRAVEL (LOCAL)",
            "TR - Travel Agencies fees & services (GenProd)",
            "SAPECCFE3_0000166455",
            2,
            3
           ],
           [
            "UTILITIES",
            "Utilities - Electric Energy for Offices",
            "SAPECCFE3_0000072331",
            7,
            1
           ],
           [
            "UTILITIES",
            "Utilities - Office Gas",
            "SAPECCFE3_0000105735",
            3,
            3
           ],
           [
            "UTILITIES",
            "Utilities - Office Water",
            "SAPECCFE3_0000050865",
            6,
            3
           ],
           [
            "UTILITIES FOR OFFICES (LOCAL)",
            "TR - ELECTRICITY (GENADM)",
            "SAPECCFE3_0000156128",
            8,
            1
           ],
           [
            "UTILITIES FOR OFFICES (LOCAL)",
            "TR - ELECTRICITY (GENPROD)",
            "SAPECCFE3_0000149130",
            16,
            2
           ],
           [
            "UTILITIES FOR OFFICES (LOCAL)",
            "TR - GAS (GENPROD)",
            "SAPECCFE3_0000187136",
            3,
            1
           ],
           [
            "UTILITIES FOR OFFICES (LOCAL)",
            "TR - WATER (GENADM)",
            "SAPECCFE3_0000156502",
            8,
            1
           ],
           [
            "UTILITIES FOR OFFICES (LOCAL)",
            "TR - WATER (GENPROD)",
            "SAPECCFE3_0000146073",
            11,
            4
           ],
           [
            "WAREHOUSE & LOGISTIC",
            "CPX - Automatic Warehouses",
            "SAPECCFIP_0000349240",
            6,
            6
           ],
           [
            "WAREHOUSE & LOGISTIC",
            "CPX - Conveying Systems",
            "SAPECCFE3_0000185348",
            4,
            1
           ],
           [
            "WAREHOUSE & LOGISTIC",
            "CPX - Forklifts (Buy)",
            "SAPECCFE3_0000145250",
            3,
            1
           ],
           [
            "WAREHOUSE & LOGISTIC",
            "CPX - Warehousing - Racks",
            "SAPECCFE3_0000164456",
            11,
            5
           ],
           [
            "WAREHOUSE & LOGISTIC",
            "OPX - Forklifts (Rental & Service)",
            "SAPECCFE3_0000056883",
            45,
            1
           ],
           [
            "WAREHOUSE & LOGISTIC",
            "TR-Specific Mtl For Warehouse, Lift And Handl. Equip.(S-Wh)",
            "SAPECCFIP_0000349240",
            8,
            6
           ],
           [
            "WAREHOUSING LOCATION & LEASING",
            "WAREHOUSE LEASE",
            "SAPECCFE3_0000165223",
            17,
            5
           ],
           [
            "WAREHOUSING LOCATION & LEASING",
            "Warehouse Rent",
            "SAPECCFE3_0000193819",
            4,
            3
           ],
           [
            "WAREHOUSING LOCATION & LEASING",
            "Warehouse Rental Other Costs (cleaning, security, etc…)",
            "SAPECCFE3_0000124328",
            1,
            1
           ],
           [
            "WASTE MANAGEMENT",
            "Waste Management Svc",
            "SAPECCFE3_0000130617",
            2,
            8
           ]
          ],
          "hovertemplate": "<b>From:</b> %{customdata[0]}<br><b>To:</b> %{customdata[1]}<br><b>Top Supplier:</b> %{customdata[2]}<br><b>PO Lines:</b> %{customdata[3]}<extra></extra>",
          "source": [
           0,
           0,
           0,
           0,
           0,
           0,
           0,
           0,
           0,
           0,
           1,
           1,
           1,
           1,
           1,
           1,
           2,
           2,
           2,
           2,
           19,
           19,
           19,
           16,
           22,
           22,
           11,
           20,
           20,
           20,
           20,
           20,
           6,
           6,
           6,
           6,
           6,
           6,
           6,
           3,
           3,
           3,
           3,
           3,
           3,
           3,
           3,
           3,
           7,
           7,
           7,
           7,
           12,
           18,
           17,
           8,
           8,
           8,
           8,
           8,
           8,
           8,
           8,
           8,
           8,
           8,
           13,
           13,
           13,
           13,
           13,
           13,
           21,
           21,
           21,
           21,
           21,
           21,
           21,
           9,
           9,
           9,
           9,
           9,
           9,
           9,
           9,
           9,
           9,
           4,
           4,
           4,
           4,
           4,
           4,
           4,
           4,
           4,
           4,
           14,
           10,
           15,
           15,
           15,
           15,
           15,
           15,
           15,
           15,
           15,
           15,
           5,
           5,
           5,
           5,
           5,
           5,
           5,
           5,
           5,
           5,
           5,
           5,
           5,
           102,
           41,
           41,
           41,
           41,
           41,
           104,
           104,
           104,
           104,
           104,
           104,
           123,
           123,
           123,
           123,
           123,
           109,
           79,
           79,
           79,
           47,
           68,
           68,
           68,
           70,
           49,
           49,
           49,
           37,
           37,
           37,
           37,
           39,
           39,
           39,
           39,
           57,
           57,
           57,
           57,
           57,
           57,
           57,
           46,
           46,
           46,
           33,
           33,
           33,
           33,
           33,
           33,
           91,
           91,
           29,
           29,
           29,
           29,
           29,
           29,
           29,
           29,
           29,
           29,
           73,
           73,
           73,
           73,
           73,
           73,
           73,
           73,
           126,
           121,
           121,
           121,
           121,
           121,
           36,
           36,
           36,
           36,
           75,
           75,
           75,
           101,
           101,
           101,
           101,
           101,
           112,
           112,
           112,
           112,
           114,
           114,
           114,
           114,
           114,
           28,
           28,
           28,
           28,
           28,
           28,
           53,
           53,
           53,
           53,
           53,
           53,
           56,
           56,
           56,
           61,
           61,
           94,
           94,
           94,
           94,
           94,
           94,
           94,
           106,
           106,
           62,
           62,
           62,
           62,
           62,
           95,
           95,
           95,
           95,
           95,
           27,
           27,
           27,
           27,
           27,
           27,
           27,
           27,
           27,
           27,
           27,
           27,
           27,
           27,
           84,
           116,
           116,
           116,
           116,
           116,
           116,
           116,
           117,
           117,
           117,
           117,
           117,
           117,
           117,
           117,
           117,
           45,
           45,
           45,
           45,
           45,
           45,
           45,
           45,
           45,
           45,
           45,
           45,
           45,
           45,
           86,
           86,
           113,
           113,
           113,
           113,
           113,
           113,
           88,
           38,
           38,
           38,
           38,
           38,
           83,
           83,
           44,
           44,
           44,
           44,
           44,
           44,
           48,
           48,
           48,
           48,
           48,
           48,
           48,
           48,
           48,
           48,
           65,
           65,
           65,
           65,
           65,
           65,
           111,
           111,
           111,
           111,
           111,
           111,
           108,
           32,
           32,
           32,
           32,
           32,
           32,
           59,
           59,
           25,
           25,
           25,
           119,
           119,
           119,
           119,
           119,
           119,
           119,
           119,
           119,
           119,
           119,
           125,
           125,
           125,
           125,
           125,
           125,
           125,
           125,
           125,
           26,
           26,
           26,
           26,
           26,
           26,
           26,
           26,
           50,
           50,
           50,
           50,
           50,
           50,
           50,
           50,
           50,
           50,
           50,
           50,
           82,
           82,
           93,
           93,
           77,
           42,
           42,
           80,
           103,
           103,
           103,
           103,
           98,
           98,
           98,
           98,
           71,
           99,
           99,
           99,
           99,
           24,
           24,
           24,
           24,
           24,
           24,
           24,
           24,
           24,
           124,
           124,
           124,
           124,
           124,
           124,
           124,
           124,
           124,
           120,
           120,
           120,
           120,
           120,
           120,
           23,
           23,
           23,
           23,
           23,
           23,
           30,
           78,
           78,
           78,
           105,
           34,
           34,
           34,
           34,
           34,
           34,
           34,
           74,
           31,
           31,
           67,
           67,
           100,
           100,
           35,
           35,
           35,
           90,
           90,
           90,
           90,
           90,
           90,
           90,
           90,
           90,
           90,
           90,
           90,
           90,
           90,
           90,
           90,
           90,
           90,
           90,
           90,
           90,
           90,
           90,
           90,
           90,
           90,
           90,
           90,
           90,
           90,
           90,
           96,
           96,
           96,
           96,
           96,
           96,
           96,
           96,
           118,
           118,
           118,
           118,
           118,
           54,
           54,
           54,
           54,
           54,
           54,
           54,
           85,
           85,
           52,
           52,
           52,
           52,
           52,
           52,
           52,
           52,
           52,
           52,
           52,
           63,
           63,
           63,
           63,
           63,
           63,
           63,
           63,
           66,
           66,
           66,
           66,
           72,
           72,
           72,
           72,
           72,
           72,
           72,
           72,
           72,
           58,
           122,
           122,
           122,
           122,
           122,
           122,
           122,
           122,
           97,
           97,
           97,
           97,
           97,
           97,
           97,
           97,
           97,
           43,
           43,
           43,
           43,
           60,
           51,
           51,
           51,
           51,
           51,
           51,
           51,
           51,
           51,
           51,
           110,
           110,
           110,
           110,
           110,
           110,
           110,
           110,
           110,
           110,
           110,
           110,
           110,
           110,
           110,
           110,
           110,
           110,
           110,
           110,
           110,
           110,
           110,
           110,
           110,
           110,
           110,
           110,
           110,
           110,
           110,
           110,
           110,
           110,
           110,
           110,
           110,
           110,
           110,
           110,
           110,
           110,
           110,
           110,
           110,
           110,
           110,
           110,
           110,
           110,
           110,
           110,
           110,
           110,
           110,
           110,
           110,
           110,
           110,
           110,
           110,
           110,
           110,
           110,
           110,
           110,
           110,
           110,
           110,
           110,
           110,
           110,
           55,
           87,
           87,
           64,
           81,
           81,
           40,
           40,
           40,
           40,
           40,
           40,
           40,
           89,
           89,
           76,
           76,
           76,
           69,
           69,
           69,
           69,
           69,
           115,
           115,
           115,
           115,
           115,
           115,
           92,
           92,
           92,
           107
          ],
          "target": [
           11,
           6,
           3,
           7,
           12,
           8,
           9,
           4,
           10,
           5,
           16,
           18,
           17,
           13,
           14,
           15,
           19,
           22,
           20,
           21,
           116,
           111,
           110,
           94,
           126,
           121,
           69,
           123,
           112,
           114,
           117,
           113,
           27,
           84,
           80,
           52,
           63,
           66,
           72,
           37,
           57,
           46,
           33,
           44,
           32,
           23,
           78,
           35,
           28,
           53,
           40,
           89,
           77,
           103,
           98,
           29,
           73,
           36,
           75,
           71,
           31,
           67,
           55,
           87,
           64,
           81,
           104,
           101,
           93,
           105,
           90,
           96,
           119,
           125,
           124,
           120,
           118,
           122,
           115,
           41,
           79,
           49,
           45,
           86,
           88,
           38,
           83,
           82,
           43,
           70,
           39,
           62,
           59,
           25,
           42,
           24,
           30,
           58,
           51,
           91,
           60,
           102,
           109,
           106,
           95,
           108,
           99,
           100,
           97,
           92,
           107,
           47,
           68,
           56,
           61,
           48,
           65,
           26,
           50,
           34,
           74,
           54,
           85,
           76,
           467,
           215,
           241,
           336,
           153,
           402,
           497,
           508,
           484,
           476,
           504,
           500,
           608,
           645,
           696,
           676,
           636,
           523,
           369,
           337,
           376,
           163,
           238,
           298,
           367,
           245,
           167,
           262,
           271,
           176,
           230,
           269,
           148,
           332,
           194,
           150,
           207,
           189,
           233,
           258,
           391,
           389,
           292,
           307,
           321,
           181,
           160,
           204,
           276,
           244,
           417,
           142,
           161,
           475,
           428,
           411,
           217,
           198,
           255,
           246,
           135,
           169,
           140,
           283,
           335,
           295,
           379,
           284,
           365,
           416,
           358,
           304,
           397,
           690,
           601,
           673,
           656,
           680,
           643,
           147,
           172,
           384,
           286,
           394,
           357,
           293,
           463,
           498,
           522,
           466,
           501,
           544,
           558,
           639,
           532,
           537,
           615,
           540,
           624,
           691,
           208,
           214,
           134,
           360,
           406,
           323,
           377,
           330,
           308,
           177,
           374,
           300,
           187,
           250,
           273,
           249,
           200,
           436,
           451,
           470,
           448,
           453,
           464,
           445,
           525,
           507,
           203,
           415,
           340,
           252,
           231,
           487,
           444,
           469,
           482,
           450,
           257,
           251,
           353,
           315,
           227,
           264,
           179,
           131,
           155,
           232,
           322,
           375,
           290,
           386,
           359,
           556,
           621,
           642,
           571,
           616,
           699,
           607,
           563,
           580,
           684,
           657,
           595,
           647,
           629,
           678,
           667,
           306,
           342,
           302,
           385,
           409,
           206,
           162,
           201,
           158,
           220,
           349,
           166,
           222,
           422,
           380,
           421,
           554,
           577,
           546,
           534,
           547,
           535,
           392,
           149,
           294,
           408,
           352,
           424,
           350,
           351,
           157,
           175,
           287,
           410,
           188,
           159,
           165,
           272,
           183,
           288,
           216,
           224,
           237,
           170,
           202,
           226,
           311,
           318,
           388,
           225,
           400,
           407,
           631,
           669,
           662,
           527,
           686,
           637,
           520,
           240,
           219,
           278,
           362,
           378,
           139,
           196,
           279,
           270,
           129,
           268,
           654,
           649,
           598,
           620,
           640,
           610,
           575,
           660,
           661,
           625,
           606,
           668,
           689,
           697,
           692,
           632,
           683,
           687,
           682,
           648,
           301,
           133,
           141,
           130,
           228,
           191,
           145,
           152,
           393,
           319,
           326,
           296,
           280,
           168,
           317,
           403,
           412,
           426,
           401,
           309,
           347,
           348,
           433,
           516,
           305,
           154,
           364,
           339,
           474,
           490,
           503,
           491,
           513,
           456,
           514,
           472,
           247,
           515,
           496,
           518,
           458,
           199,
           186,
           173,
           195,
           184,
           136,
           420,
           128,
           164,
           622,
           694,
           663,
           693,
           617,
           664,
           623,
           665,
           613,
           675,
           659,
           653,
           672,
           695,
           596,
           143,
           132,
           127,
           239,
           213,
           209,
           137,
           418,
           345,
           325,
           502,
           144,
           425,
           383,
           193,
           312,
           265,
           356,
           285,
           277,
           138,
           248,
           236,
           460,
           512,
           253,
           146,
           328,
           493,
           488,
           442,
           449,
           438,
           483,
           441,
           440,
           480,
           430,
           492,
           479,
           519,
           461,
           478,
           511,
           485,
           510,
           517,
           434,
           431,
           443,
           437,
           457,
           439,
           427,
           499,
           435,
           429,
           505,
           524,
           486,
           447,
           494,
           477,
           455,
           473,
           446,
           452,
           641,
           671,
           570,
           666,
           698,
           405,
           178,
           373,
           182,
           282,
           399,
           259,
           368,
           423,
           205,
           331,
           341,
           398,
           174,
           190,
           289,
           333,
           223,
           211,
           229,
           275,
           218,
           381,
           346,
           274,
           334,
           396,
           354,
           324,
           366,
           235,
           256,
           395,
           329,
           263,
           355,
           297,
           313,
           291,
           299,
           382,
           192,
           609,
           638,
           681,
           679,
           603,
           651,
           670,
           688,
           521,
           481,
           454,
           471,
           459,
           465,
           468,
           489,
           462,
           156,
           234,
           404,
           338,
           197,
           260,
           261,
           254,
           267,
           387,
           243,
           210,
           371,
           171,
           320,
           604,
           529,
           630,
           586,
           541,
           605,
           579,
           635,
           573,
           646,
           566,
           564,
           589,
           628,
           600,
           562,
           569,
           619,
           614,
           528,
           548,
           592,
           565,
           539,
           590,
           582,
           583,
           588,
           627,
           559,
           538,
           574,
           561,
           557,
           584,
           550,
           685,
           674,
           650,
           553,
           612,
           530,
           594,
           549,
           618,
           542,
           599,
           531,
           567,
           568,
           576,
           593,
           652,
           572,
           597,
           591,
           578,
           626,
           543,
           602,
           551,
           533,
           526,
           587,
           585,
           545,
           581,
           634,
           536,
           560,
           633,
           552,
           185,
           413,
           390,
           221,
           372,
           343,
           212,
           314,
           316,
           370,
           266,
           180,
           151,
           414,
           419,
           303,
           363,
           327,
           281,
           344,
           361,
           310,
           242,
           658,
           655,
           677,
           644,
           555,
           611,
           495,
           432,
           506,
           509
          ],
          "value": [
           23,
           154,
           282,
           310,
           15,
           95,
           70,
           3641,
           52,
           1272,
           1044,
           30,
           168,
           24180,
           5674,
           303,
           2077,
           27,
           264,
           46,
           46,
           198,
           2067,
           1044,
           2,
           27,
           23,
           27,
           68,
           264,
           36,
           135,
           152,
           7,
           14,
           79,
           26,
           9,
           21,
           43,
           13,
           141,
           82,
           27,
           142,
           117,
           7,
           192,
           310,
           70,
           201,
           7,
           15,
           30,
           168,
           94,
           22,
           31,
           2,
           50,
           83,
           14,
           17,
           1,
           13,
           6,
           38,
           95,
           120,
           2,
           24180,
           455,
           40,
           9,
           14,
           10,
           11,
           20,
           45,
           42,
           4,
           17,
           70,
           2,
           2,
           19,
           10,
           2,
           49,
           72,
           88,
           21,
           7,
           50,
           31,
           3641,
           55,
           97,
           41,
           5674,
           52,
           41,
           1,
           2,
           168,
           3,
           34,
           160,
           303,
           17,
           2,
           66,
           69,
           104,
           79,
           44,
           16,
           1272,
           48,
           26,
           8,
           76,
           2,
           10,
           41,
           6,
           8,
           3,
           36,
           1,
           13,
           10,
           3,
           2,
           9,
           25,
           27,
           12,
           5,
           2,
           5,
           1,
           4,
           2,
           4,
           66,
           41,
           28,
           6,
           72,
           11,
           2,
           10,
           7,
           35,
           19,
           12,
           24,
           39,
           64,
           5,
           11,
           13,
           4,
           2,
           3,
           7,
           5,
           14,
           46,
           141,
           24,
           4,
           7,
           2,
           82,
           58,
           12,
           5674,
           2,
           2,
           33,
           94,
           51,
           10,
           71,
           72,
           3,
           9,
           1,
           9,
           14,
           8,
           2,
           10,
           17,
           5,
           2,
           18,
           3,
           11,
           1,
           10,
           31,
           3,
           2,
           22,
           2,
           2,
           1,
           66,
           1,
           1,
           23,
           6,
           68,
           19,
           2,
           14,
           264,
           25,
           177,
           15,
           7,
           53,
           96,
           216,
           7,
           6,
           3,
           41,
           29,
           16,
           6,
           3,
           1,
           104,
           31,
           65,
           44,
           35,
           60,
           467,
           284,
           69,
           81,
           42,
           609,
           1,
           2,
           7,
           2,
           8,
           21,
           3,
           5,
           31,
           88,
           49,
           45,
           31,
           41,
           4,
           5,
           19,
           20,
           8,
           82,
           112,
           36,
           8,
           6,
           12,
           8,
           7,
           37,
           9,
           3,
           46,
           5,
           1,
           14,
           22,
           7,
           4,
           14,
           33,
           1,
           9,
           8,
           3,
           4,
           7,
           21,
           4,
           1,
           11,
           47,
           19,
           7,
           37,
           9,
           6,
           32,
           1,
           2,
           1,
           94,
           23,
           73,
           80,
           39,
           36,
           2,
           19,
           4,
           1,
           2,
           1,
           3,
           10,
           7,
           14,
           5,
           1,
           8,
           13,
           44,
           3,
           37,
           4,
           8,
           34,
           28,
           19,
           7,
           39,
           9,
           3,
           3,
           12,
           1,
           1,
           5,
           13,
           13,
           198,
           2,
           4,
           3,
           98,
           18,
           22,
           16,
           4,
           81,
           6,
           5,
           3,
           43,
           27,
           15,
           10,
           3,
           17,
           21,
           30,
           4,
           3,
           13,
           5,
           15,
           4,
           2,
           2,
           1,
           4,
           5,
           3,
           3,
           4,
           11,
           116,
           1194,
           514,
           21,
           300,
           20,
           34,
           1,
           1,
           20,
           38,
           10,
           11,
           2,
           1,
           1,
           2,
           1,
           30,
           1,
           2,
           120,
           4,
           15,
           31,
           4,
           14,
           6,
           30,
           1,
           6,
           4,
           168,
           5,
           5,
           50,
           8,
           12,
           1,
           34,
           37,
           77,
           96,
           62,
           27,
           160,
           4,
           3641,
           93,
           4,
           2,
           2,
           1,
           4,
           3,
           14,
           2,
           8,
           3,
           9,
           3,
           2,
           2,
           6,
           41,
           59,
           75,
           19,
           46,
           13,
           55,
           3,
           6,
           6,
           2,
           8,
           1,
           1,
           19,
           8,
           3,
           2,
           8,
           5,
           83,
           14,
           5,
           160,
           2,
           6,
           187,
           3,
           8,
           40,
           159,
           102,
           2041,
           63,
           68,
           334,
           185,
           573,
           73,
           6,
           2,
           36,
           32,
           14,
           143,
           1,
           7,
           225,
           47,
           340,
           108,
           66,
           258,
           24178,
           7,
           132,
           463,
           37,
           1,
           14,
           6,
           6,
           56,
           9,
           50,
           319,
           385,
           10,
           4,
           11,
           4,
           1,
           2,
           76,
           5,
           8,
           5,
           1,
           13,
           2,
           1,
           26,
           4,
           2,
           1,
           47,
           5,
           9,
           29,
           17,
           16,
           8,
           13,
           11,
           7,
           26,
           3,
           4,
           3,
           5,
           9,
           2,
           5,
           5,
           3,
           10,
           19,
           3,
           7,
           1,
           9,
           10,
           1,
           97,
           5,
           10,
           4,
           9,
           3,
           12,
           7,
           4,
           1,
           18,
           4,
           28,
           33,
           47,
           22,
           5,
           231,
           49,
           23,
           1,
           2,
           52,
           22,
           5,
           6,
           37,
           4,
           37,
           17,
           2,
           29,
           6,
           29,
           966,
           8,
           18,
           268,
           5,
           30,
           9,
           26,
           5,
           55,
           374,
           245,
           6,
           31,
           99,
           236,
           12,
           52,
           102,
           329,
           32,
           24,
           72,
           11,
           71,
           47,
           44,
           18,
           59,
           266,
           53,
           84,
           26,
           122,
           9,
           2,
           4,
           7,
           93,
           24,
           76,
           31,
           351,
           8,
           306,
           29,
           376,
           87,
           73,
           18,
           154,
           14,
           11,
           48,
           31,
           19,
           4,
           151,
           18,
           333,
           329,
           31,
           36,
           45,
           102,
           230,
           6,
           438,
           18,
           19,
           187,
           17,
           1,
           1,
           13,
           5,
           2,
           8,
           3,
           20,
           4,
           27,
           181,
           115,
           5,
           2,
           7,
           3,
           6,
           8,
           16,
           3,
           8,
           11,
           6,
           4,
           3,
           11,
           45,
           8,
           17,
           4,
           1,
           2
          ]
         },
         "node": {
          "color": "lightblue",
          "label": [
           "GENERAL PROCUREMENT",
           "SUPPLY CHAIN",
           "TECHNICAL PROCUREMENT",
           "MARKETING SERVICES",
           "SALES SERVICES",
           "WORKPLACE SERVICES",
           "IT - INFORMATION TECHNOLOGY",
           "MOBILITY",
           "PEOPLE SERVICES",
           "PROFESSIONAL SERVICES",
           "SURPRISE L2",
           "ENERGY AND UTILITIES FOR OFFICES",
           "OTHER NON GP",
           "PRIMARY TRANSPORTS",
           "SECONDARY FREIGHT",
           "WAREHOUSING",
           "CUSTOM BROKERAGE & FORWARDING AGENCIES",
           "PALLETTS RENT & LEASE",
           "PALLETTS PURCHASING",
           "AUTOMATION & MRO",
           "INFRASTRUCTURE & INDUSTRIAL",
           "PROCESS EQUIPMENT",
           "ENERGY",
           "PRODUCTION",
           "POS MATERIAL",
           "MERCHANDISING & HOSTESS & BROKER COMMISSIONS",
           "OFFICE SUPPLIES AND SERVICES",
           "HARDWARE - PURCHASE/LEASING/MAINTENANCE",
           "FLEET",
           "EMPLOYEE SERVICES",
           "PROMOTIONAL ITEMS",
           "RECRUITMENT SERVICE",
           "MARKET MEASUREMENT",
           "DIGITAL & SOCIAL MEDIA MARKETING",
           "REAL ESTATE",
           "RETAIL PANELS",
           "EVENTS",
           "CONSUMER RESEARCH (AD-HOC)",
           "LEGAL & TAX SERVICES",
           "CONSUMERS PROMOTION ACTIVITIES",
           "TRAVEL",
           "ADMINISTRATIVE SERVICES",
           "OTHER SALES SERVICES",
           "SUBSCRIPTIONS/MEMBERSHIPS",
           "LICENSING & RIGHTS",
           "INSURANCE SERVICES",
           "CREATIVE DEVELOPMENT & STRATEGY",
           "CLEANING",
           "MAINTENANCE & IMPROVEMENTS",
           "CONSULTANCY SERVICES",
           "OFFICE SUPPLIES AND SERVICES (LOCAL)",
           "TECHNICAL DEVICES FOR POS",
           "SERVICES - MANAGED SERVICE",
           "FLEET (LOCAL)",
           "SECURITY",
           "TEMPORARY PERSONNEL",
           "FOOD SERVICES",
           "CREATIVE DESIGN",
           "SPONSORING",
           "MARKETING EVENTS",
           "SURPRISE L3",
           "FOOD SERVICES (LOCAL)",
           "GADGETS",
           "SERVICES - T&M/BODY LEASING",
           "TRAINING",
           "MAINTENANCE & IMPROVEMENTS (LOCAL)",
           "SOFTWARE - MAINTENANCE FOR PERPETUAL LICENSES",
           "RELOCATION",
           "CLEANING (LOCAL)",
           "UTILITIES FOR OFFICES (LOCAL)",
           "COMMERCIAL QUALITY AND FRESHNESS",
           "PAYROLL",
           "SOFTWARE - SUBSCRIPTIONS/LICENSES",
           "EMPLOYEE SERVICES (LOCAL)",
           "REAL ESTATE (LOCAL)",
           "EVENTS (LOCAL)",
           "UTILITIES",
           "OTHER NON GP SERVICES",
           "PUBLIC RELATIONS",
           "CERTIFICATIONS",
           "OUTSOURCING - NETWORK TRANSMISSION (LOCAL)",
           "TRAINING (LOCAL)",
           "OTHER CONSULTING (LOCAL)",
           "LEGAL CONSULTING (LOCAL)",
           "HARDWARE - SUBSCRIPTIONS INFRA",
           "SECURITY (LOCAL)",
           "INSURANCE SERVICES (LOCAL)",
           "TEMPORARY PERSONNEL (LOCAL)",
           "LEGAL & NOTARY SERVICES (LOCAL)",
           "TRAVEL (LOCAL)",
           "ROAD TRANSPORT",
           "DISTRIBUTION",
           "WAREHOUSING LOCATION & LEASING",
           "OTHER LOGISTICS COSTS",
           "FREIGHT FORWARDING AGENCIES",
           "HANDLING",
           "SEA TRANSPORT",
           "STORAGE",
           "PALLETTS RENT & LEASE SVC",
           "PICKING",
           "REPACKING",
           "EXPORT OTHER COMMODITIES (AUTOMATIC)",
           "ADMINISTRATION COST",
           "PALLETTS PURCHASING MTL",
           "AIR FREIGHT TRANSPORT",
           "RAIL TRANSPORT",
           "FUMIGATION",
           "WASTE MANAGEMENT",
           "MAN WORK PER HOUR",
           "BONUS / MALUS (WAREHOUSING)",
           "TECHNICAL MATERIALS, PPE & CLOTHES",
           "MAINTENANCE SERVICES",
           "FACILITY MANAGEMENT HARDSERVICES FOR INDUSTRIAL LOCATIONS",
           "LABORATORY EQUIPMENT AND SERVICES",
           "FACILITY MANAGEMENT SOFTSERVICES FOR INDUSTRIAL LOCATIONS",
           "WAREHOUSE & LOGISTIC",
           "INDUSTRIAL AUTOMATION AND ROBOTICS",
           "INFRASTRUCTURE",
           "SECONDARY PACKAGING",
           "MOLDING & OVENS",
           "PRIMARY PACKAGING",
           "ENERGY FOR INDUSTRIAL PLANT",
           "STANDALONE EQUIPMENT",
           "B&U PROFESSIONAL SERVICES",
           "PREPARATION",
           "NUTS EQUIPMENT & AGRI MOBILE MACHINE",
           "ENERGY CERTIFICATES",
           "Production of Advertising Content DIGITAL",
           "POS materials Storage and Logistic",
           "Hostess services",
           "Other Consumables, Material and Small Supplies",
           "Hardware - Purchase End-User Computing CAPEX",
           "Post-Production of Advertising Content TRADITIONAL",
           "Office Furniture - Capex",
           "Company Vehicles - Maintenance costs",
           "Health and Safety GP",
           "POS material Development & Sampling",
           "Promotional items (including consumer giveaway)",
           "RECRUITMENT",
           "Subscriptions on Market measurement (license fees)",
           "Recreation employees benefits",
           "Office supplies",
           "Social Media Management",
           "Post-Production of Advertising Content DIGITAL",
           "Additional Services and Costs for Real Estate Lease",
           "Printing, photography and videomaking services",
           "Retail Panels DB",
           "Corporate event Expenses",
           "Researches to understand Consumers, Shopper, Markets",
           "Legal Advisory",
           "Discount Coupons",
           "Travel Agencies fees & services",
           "Safety supplies",
           "Outsourcing of administrative services (bpo)",
           "Retail Data monitoring",
           "Hardware - Purchase Server&Storage CAPEX",
           "Books, periodicals subscription (digital or not)",
           "Licensing - Brands & Content DIGITAL",
           "Optional insurance manager",
           "Rights buyout-Authors,Artists,Performers,Personality TRADI",
           "Creative Concept for Advertising Campaigns TRADITIONAL",
           "Website / App Creation & Maintenance",
           "Motor vehicle insurance",
           "Cleaning, Waste,Pest Services and Material for No Industrial",
           "PROMOTIONAL POINT OF SALE",
           "BUILDING MAINTENANCE",
           "SUND.LOCAL TX&DUTY",
           "Function related / professional consultancy",
           "TR - Postage & Couriers Fees (GenAdm)",
           "Medical Services",
           "Office machines & equipment - Maintenance",
           "Permanent Materials Production - Secondary Placement",
           "Entertainment expenses (No deductible)",
           "In/Out Functional Display Production - Standard",
           "Applications Development - System Integration CAPEX",
           "Licensing - Brands & Content TRADITIONAL",
           "Other research activities on consumer, shopper and citizen",
           "TR - Company Vehicles - Lease (GenProd)",
           "Manned guarding services",
           "Hardware - Maintenance Voice and Data Network",
           "Transportation - Short-term Rental Cars",
           "Creative Concept for Advertising Campaigns DIGITAL",
           "Physical and Supply Chain security",
           "Building owned - Improvements & equipment cost",
           "In/Out Theatrical Materials Production - Standard",
           "Temporary Personnels",
           "In/Out Functional Display Production - Customized",
           "CANTEEN SERVICES",
           "Rights buyout-Authors,Artists,Performers,Personality DIGITAL",
           "Packaging & POS - Artwork, Technical finalization&Templates",
           "End-User Computing Laptop, Workstation Outsourcing",
           "Printing Supplies",
           "Events Sponsorships & Partnership",
           "Real Estate Office Lease",
           "Design & Management of non Digital Promotion",
           "In/Out Theatrical Materials Production - Customized",
           "Brand promotion events",
           "PALLETS",
           "Donations to employees",
           "Communication POS material Production",
           "TR - Canteen Services (GenProd)",
           "Optional insurance employees",
           "Research & Development cost",
           "GADGET",
           "E-commerce Advertising Creative Development",
           "1st Level Support Outsourcing Applications",
           "Liability (Insurance)",
           "OTHER SALE DISCOUNTS",
           "Company Vehicles - Fuel, Oil and other",
           "Production of Advertising Content TRADITIONAL-OOH,Static",
           "PROMO POS TRADNL",
           "Voice and Data Network Communications Outsourcing",
           "Hotel accommodation",
           "Production of Advertising Content TRADITIONAL - TVC",
           "Company Vehicles - Lease",
           "Employees tax services",
           "Ground and green areas maintenance,inclu industrial premises",
           "Donations",
           "Applications Run and Maintenance T&M",
           "Consumer panel on-going subscriptions",
           "Personal Insurance",
           "Training Design & Cost of Personal",
           "SUNDRY INSURANCE",
           "Server&Storage Outsourcing",
           "Industrial Cleaning",
           "TR - Handyman services (GenAdm)",
           "Waste treatment, recycling and disposal services",
           "Hardware - Maintenance",
           "Postage & Couriers Fees",
           "Voice and Data Network Outsourcing",
           "Research activities for qualifying Innovation initiatives",
           "Services Gadget",
           "Hardware - Purchase Voice and Data Network CAPEX",
           "Packaging & POS - Creative Concept",
           "Business Association fees",
           "Maintenance Server&Storage Software",
           "Long Stay Relocation",
           "Office machines & equipment - Investment",
           "TR - Cleaning services (GenAdm)",
           "Production of Advertising Content TRADITIONAL - Radio",
           "Ad hoc reports/analysis on syndicated data (excl RMS)",
           "Financial Audit",
           "TR - WATER (GENPROD)",
           "PROMO POS MODERN",
           "Influencers & Testimonials",
           "Commercial Quality and Freshness monitoring",
           "Employees event and social activities cost",
           "PAYROLL SERVICES",
           "Employees relocation services",
           "TR - Canteen Services (GenAdm)",
           "Catering services",
           "Hardware - Leasing High Value Server&Storage (>5000$)",
           "In-Pack Gadgets_Industrial co-pack",
           "Ad hoc reports/ analysis performed on Retail Panel DB",
           "Fridges production and other tech devices for POS - CAPEX",
           "Employees Transport Services",
           "Maintenance Voice and Data Network Software",
           "Hardware - Leasing End-User Computing",
           "Packaging & POS - Mockups / Samples",
           "Security technology",
           "Check Out Display Production",
           "Fridges lease/rent and other tech devices for point of Sale",
           "M&A related consultancies",
           "Cloud License Application Maintenance",
           "Hardware - Maintenance Server&Storage",
           "Real estate Retail lease",
           "Transportation - Other",
           "Fridges production and other tech devices for POS-excl CAPEX",
           "Merchandising services",
           "Research activities to assess the ADV/Communication Perf.",
           "Broker Commissions",
           "Strategic, Managerial & organizational consulting",
           "Building Third Party - Improvements & Equipment Cost",
           "TICKETS RESTAURANT",
           "IT Service Desk T&M",
           "Applications Development T&M CAPEX",
           "E-commerce Advertising Production",
           "Job postings",
           "Other syndicated subscriptions (excluding RMS, CPS)",
           "Testimonials Costs",
           "TR - Office supplies (GenProd)",
           "TR - ELECTRICITY (GENADM)",
           "Porter and reception services",
           "School & Kinder garden fees",
           "TR - Employees Transport Services (GenProd)",
           "TR - Real Estate Office Lease (GenAdm)",
           "Public relation costs",
           "Licensing - Music DIGITAL",
           "Building owned - Improvements cost",
           "End-User Computing Mobile Communications Outsourcing",
           "Hardware-Leasing High Value Voice and Data Network (>5000$)",
           "Subscription End-User Computing (SaaS)",
           "Surprises - Marketing Sheets",
           "ITL - Spese di rappresentanza min valore",
           "Legal services",
           "TR - Donations to employees (GenAdm)",
           "TR - Office supplies (GenAdm)",
           "Purchase Applications Licenses",
           "TR - Cleaning services (GenProd)",
           "Subscription Voice and Data Network (IaaS)",
           "TR - Company Vehicles - Maintenance costs (GenProd)",
           "Archiving Services",
           "Cyber Insurance",
           "Utilities - Electric Energy for Offices",
           "TR - Health and Safety (GenProd)",
           "Penalties and Fines (deductible)",
           "Cargo (Insurance)",
           "Surprises - Technical Development",
           "TR - Company Vehicles - Lease (GenAdm)",
           "TR - Tolls and parking",
           "TR - WATER (GENADM)",
           "TR - Building Maintenance (GenAdm)",
           "Real Estate Short-Term Lease <12 Months",
           "Server&Storage Licenses CAPEX",
           "Long stay accommodation",
           "Hardware - Leasing Printers",
           "Other travel services",
           "TR - Postage & Couriers Fees (GenProd)",
           "TR - Ground and green areas maintenance (GenAdm)",
           "TR - Accessories technology supplies (GenProd)",
           "Services for fridge and other tech devices for Point of Sale",
           "Brand & Communication Strategy",
           "Hardware - Purchase for Mobile devices",
           "Company Vehicles - Purchase",
           "Maintenance Application Software",
           "PR Digital Activities & Tools",
           "TR - Archiving Services (GenAdm)",
           "Utilities - Office Water",
           "Subscriptions on Retail panels (license fees)",
           "Cloud Application Development",
           "TR - Company Vehicles - Fuel, Oil and other (GenProd)",
           "1st Level Support Outsourcing Technology",
           "Design & Management of Digital Promotion",
           "End-User Computing Mobile Management Outsourcing",
           "Server&Storage T&M",
           "Translations and interpreting services",
           "Other auditing",
           "Standard certifications",
           "NGO, Donations",
           "TR - Opx Voice, Data Network-Transms(GenAdm)",
           "In-Pack Gadgets_Commercial Co-Pack",
           "2nd Level Suport Outsourcing Applications",
           "Client receivables insurance",
           "TR - Training costs of personnel (GenProd)",
           "TR - ELECTRICITY (GENPROD)",
           "PR Communication Strategy, Advisory, Issues Management",
           "End-User Computing T&M",
           "TR - IA & Corporate Communication consulting (GenAdm)",
           "TR - Technical Consulting non-Industrial Buildings (GenAdm)",
           "Property Damage and Business Interruption",
           "TR - HR&OI Consulting (GenAdm)",
           "TR - Legal consulting (GenAdm)",
           "Tax & Customs Services Cost",
           "Hardware - Leasing Low Value Server&Storage (<5000$)",
           "Voice and Data Network T&M",
           "End-User Computing Licenses CAPEX",
           "Real estate others (no industrial, no supply chain)",
           "ITL - Spese di rappresentanza",
           "TR - Health and Safety (GenAdm)",
           "Hardware - Server&Storage (IaaS)",
           "Company Vehicles - Management costs",
           "TR - GAS (GENPROD)",
           "Panel SPE management",
           "Utilities - Office Gas",
           "Sales and B2B Events",
           "TR - Employees event and social activities cost (GenAdm)",
           "Maintenance End-User Computing Software",
           "TR - Pest Control services (GenProd)",
           "TR - People Security (GenAdm)",
           "Environmental Analysis",
           "Transportation - Flights",
           "PROMOTIONAL GIFTS",
           "TR - Training costs of personnel (GenAdm)",
           "People Security Services",
           "TR - Company Vehicles - Lease (S-Wh)",
           "Hardware - Purchase for Videoconference devices",
           "Surprises certification",
           "TR - Company Vehicles - Fuel, Oil and other (GenAdm)",
           "Purchase of product sampling",
           "TR - Employees Transport Services (GenAdm)",
           "TR - Personal insurance (GenAdm)",
           "Corporate IT Management, Finance and Administration T&M",
           "Voice and Data Network Licenses CAPEX",
           "Local Small Building rent",
           "No Commercial Sponsorships",
           "D&O (Insurance)",
           "Hardware-Leasing Low Value Voice and Data Network (<5000$)",
           "PROM.MAT.CASHDESK",
           "TR - Ground and green areas maintenance (GenProd)",
           "Surprises - Creative Concepts TRADITIONAL",
           "TR - Temporary personnel (GenProd)",
           "Surprises - Creative Concepts DIGITAL",
           "TR - Expenses for notary charges (GenAdm)",
           "TR - Accessories technology supplies (GenAdm)",
           "ITL - Altre spese di rappresentanza",
           "Application Perpetual Licenses CAPEX",
           "Server&Storage T&M CAPEX",
           "TR - Translations and interpreting services (GenAdm)",
           "2nd Level Support Outsourcing Technology",
           "Risk assessment and threat intelligence",
           "TR - Waste treatment, recycling and disposal services (S-Wh)",
           "TR - Small Furniture - Opex (GenProd)",
           "Services for credit collection",
           "TR - Printing Supplies (GenProd)",
           "Data source provider, knowledge database subscription",
           "CCTV",
           "Company Vehicles - Other vehicles",
           "TR-Waste treatment,recycling and disposal services (GenProd)",
           "Patents management / Intellectual Property (IP)",
           "Environmental EIL (Insurance)",
           "Licensing - Music TRADITIONAL",
           "Cash Donations",
           "TR - Safety supplies (GenAdm)",
           "TR - Temporary personnel (GenAdm)",
           "TR - Travel Agencies fees & services (GenAdm)",
           "GADGET OTHER",
           "TR - Employees event and social activities cost (GenProd)",
           "SEO/SEM",
           "Media Relations, Membership & Partnership",
           "TR - Travel Agencies fees & services (GenProd)",
           "POS material Molds, Toolings, Die Cuts CAPEX",
           "TR - Sundry insurance (GenAdm)",
           "Travel insurance",
           "TR - Security technology (GenAdm)",
           "Web domain management",
           "Co-working & flexible spaces lease",
           "TR - Small Furniture - Opex (GenAdm)",
           "Road Transportation",
           "Distribution to Customers and Returned Goods from Customers",
           "Road Transportation Finished Products Export Costs",
           "Extra Cost  Transpor Surprise",
           "Road Interm-Finished Prd-FI",
           "Warehouse Rent",
           "OTHER LOGISTIC COSTS",
           "Road Finish Products",
           "Road Transportation Costs For Foreign Stays (Demurrages)",
           "CUSTOM DECLARATION SERVICES",
           "Road RAW MATERIALS",
           "Extra Cost  Transpor Finished product",
           "Road Surprises",
           "Extra Cost  Transpor Raw Material",
           "Extra Cost  Transpor Packaging",
           "EXPORT EXPENSES FOR",
           "Road Packaging",
           "Handling Finish Products",
           "Customs Docum./Forwarder Services Surprises",
           "Sea Transportation",
           "Sea Interm-Finished Prd-FI",
           "Customs Docum./Forwarder Services Packaging",
           "Export Expenses For Various Sales",
           "Handling Services",
           "Customs Docum./Forwarder Services Finish Products",
           "Sea Transportation Export Fees Costs",
           "Customs Docum./Forwarder Services RAW MATERIALS",
           "Storage Finished Products (co-packing)",
           "Sea SEMI-FINISHED GOODS",
           "Rental 1/4 Plastic Pallets",
           "Road SEMI-FINISHED GOODS",
           "Picking Services",
           "Storage Mtl",
           "Repacking/Rebulking Finish Products",
           "Extra-waiting RAW MATERIALS",
           "Storage Surprises",
           "Transport Intermediate Products",
           "Customs Docum./Forwarder Services SEMI-FINISHED GOODS",
           "Storage Packaging",
           "Transport Semi Finished",
           "Administrative Costs Warehousing",
           "Storage RAW MATERIALS",
           "Handling Interm-Finished Prd-FI",
           "Customs Docum./Forwarder Services Interm-Finished Prd-FI",
           "Storage Interm-Finished Prd-FI",
           "Rental Industrial 100x120 Pallets",
           "Sea Surprises",
           "1/4 Wood Pallets",
           "Control Tower Services",
           "Air RAW MATERIALS",
           "Sea RAW MATERIALS",
           "Extra-waiting SEMI-FINISHED GOODS",
           "Extra-waiting Interm-Finished Prd-FI",
           "Extra Cost  Transpor Semi-finished Product",
           "Storage Finish Products",
           "Handling RAW MATERIALS",
           "Extra Cost  Transpor Interm-finished Product",
           "Air Packaging",
           "Inspections/Sanitary Controls Finish Products",
           "Sea Finish Products",
           "Forklift And Machinery Rentals (Ops)",
           "Destruction Product Transport",
           "Storage SEMI-FINISHED GOODS",
           "Epal 80x120 Pallets New",
           "Industrial 100x120 Pallets",
           "Extra-waiting Finish Products",
           "Booking System Services - Third Parties (TBD)",
           "Sea Packaging",
           "WAREHOUSE LEASE",
           "Picking Interm-Finished Prd-FI",
           "Air Freight Export Fees Costs",
           "Transport Packaging",
           "Road Transportation Administrative Costs",
           "Air Surprises",
           "Transport Surprises",
           "Rail Surprises",
           "Epal 80x120 Pallets Used 1st Choice",
           "Air SEMI-FINISHED GOODS",
           "Road Transportation Fleet Rental & Depots",
           "Warehouse Rental Other Costs (cleaning, security, etc…)",
           "Fumigation Svc",
           "Air Freight Transportation Finished Goods",
           "Waste Management Svc",
           "Inspections/Sanitary Controls Interm-Finished Prd-FI",
           "Extra-waiting Surprises",
           "Repacking/Rebulking RAW MATERIALS",
           "Rental 1/2 Plastic Pallets",
           "Rental 80x120 Pallets",
           "Picking Finish Products",
           "Quality Premium Interm-Finished Prd-FI",
           "Inspections/Sanitary Controls SEMI-FINISHED GOODS",
           "Picking RAW MATERIALS",
           "Extra-waiting Packaging",
           "Man work per hour svc",
           "OTHER LOGISTIC COSTS (FG WH)",
           "Transport Raw Materials",
           "Bonus / Malus Warehousing",
           "Special Projects Finish Products",
           "Fumigation RAW MATERIALS",
           "Spare Parts Utilities",
           "OPX - Ordinary Maintenance",
           "ELECTRIC MOTORS AND DRIVES",
           "BEARINGS AND LINEAR GUIDES",
           "Lubricants",
           "Other Spare parts (not codified, catalogues items)",
           "Mechanical maintenance",
           "Spare Parts - Conveyors",
           "Laboratory",
           "Technical Consultancy And External Lab Analysis",
           "WORKSHOP TOOLS",
           "Cleaning Consultancy and Services",
           "Gaskets/Seals",
           "FIXING ELEMENTS",
           "Technical Cleaning material",
           "Belts",
           "Other Materials Immediate Use for Maintenance Plant",
           "SPECIFIC DRAWING COMPONENTS",
           "Civil maintenance",
           "Suction cups",
           "Consumable",
           "Maintenance And Services On Laboratory Equipments",
           "ELECTRICAL / ELECTRONICAL COMPONENTS",
           "Not cod - PPE, Safety Work Products, Fire Protection",
           "Heaters",
           "Screws",
           "Сonstruction",
           "Lighting",
           "CHEMICAL MATERIAL",
           "OPX - Forklifts (Rental & Service)",
           "Automation Technical Materials",
           "Glues",
           "Electrical Maintenance",
           "Gas Consumables",
           "Water for industrial plant",
           "Generic consumables",
           "Cutting tools",
           "CPX: Civil Equipment / Works",
           "Cod - PPE, Safety Work Products, Fire Protection",
           "Electronic cables",
           "Chains",
           "PHOTOCELLS AND PROXIMITY SWITCHES",
           "PRINTERS CONSUMABLES",
           "Cylinders",
           "CPX - Forming, filling and closing",
           "CPX Electrical and Automation Cabinets",
           "Pulleys",
           "CPX Technical Material",
           "Gearboxes",
           "CPX - Oven",
           "PRINTERS SPARE PARTS",
           "CPX: Equipment",
           "Rollers",
           "Building materials",
           "CPX: Electrical Equipment & Installation",
           "Valves",
           "Filters",
           "Flexible pipes",
           "HYDRAULIC AND PNEUMATIC FITTINGS",
           "Springs",
           "Batteries",
           "Spare parts kits",
           "Fuels",
           "Codified - Clothes & Uniforms, Safety Shoes",
           "Fans",
           "Rigid pipes",
           "Electric cables",
           "PRODUCTION TOOLS",
           "Measure devices and Control instruments",
           "CPX: Mechanical Equipment & Installation",
           "CPX - Wrapping machines",
           "Pumps",
           "CPX - Handling Systems",
           "Other Materials Immediate Use for Production Assistance",
           "Couplings",
           "Electrical Energy for Industrial Plant",
           "SPROCKET WHEELS",
           "CPX - Metal detector",
           "Axes/shafts",
           "Brushes",
           "Process Engineering professional services",
           "OPX - Software, Licence Fee, Assistance",
           "Design Services",
           "CPX - Check weigher",
           "CPX - Molds and Forming Equipments",
           "TR-Specific Mtl For Warehouse, Lift And Handl. Equip.(S-Wh)",
           "Locks, Handles",
           "CPX - Tanks (incl. mixer, plastificators)",
           "Dosing nozzles",
           "Pest Control",
           "CPX Industrial robotic application system",
           "CPX - Liquid Handling & Processing",
           "Not codified - Clothes & Uniforms, Safety Shoes",
           "Dampers",
           "CPX - Molding :  Ferrero Design & Build",
           "Automation professional services",
           "CPX - Belts",
           "CPX - Refiners (incl. prerefiners, conches, mills)",
           "Waste Management for industrial location",
           "CPX - Thermic tunnels",
           "SPARE PARTS FOR GAS PLANTS",
           "GEARS",
           "Computer (process)",
           "Plant Utilities EaaS (Equipment as a Service)",
           "BRAKES AND CLUTCHES",
           "CPX - Services in project scope",
           "CPX - Optical sorters",
           "Wheels",
           "Vibrators",
           "CONTROL INSTRUMENTS",
           "Technical certifications, engineering-related consulting(TS)",
           "Rental Services Fee",
           "CPX - Conveyors and Handling",
           "Integrated Facility Maintenance",
           "CPX - Molding equipment",
           "CPX - Bagging Machines",
           "CPX - Automation and Digital Software",
           "TR - PURCHASE DISTRICT HEATING (GENADM)",
           "CPX - Warehousing - Racks",
           "Health and Safety - Site Supervision",
           "Cams",
           "CPX: Waste Water & Gas Treatment",
           "OPX - Agri Mobile Machine (Tractor, Harvester)",
           "CPX - Dosing & Enrobing",
           "Levers",
           "CPX - Printer",
           "Paint",
           "CPX - Infeed (incl. raw distributor system / buffer)",
           "CPX - Basin",
           "CPX - Conveying Systems",
           "Gas for Industrial Plant",
           "CPX: General Contractos",
           "CPX - Automatic Warehouses",
           "CPX - Flow wrapper",
           "CPX - Plate Oven",
           "CPX - Tempering",
           "OPX - Extraordinary Maintenance",
           "CPX - Deodorizations",
           "CPX - Powder handling & processing",
           "CPX - Roaster",
           "CPX - Pal- & Depalletizers",
           "Specific Material For Utilities Machinery And Equipment",
           "CPX - Agri mobile machine (tractor, harvester)",
           "Maintenace service not depreciable (Maintenance Order)",
           "CPX - Vision & Cameras",
           "CPX - Box Forming Machine",
           "CPX - Sealing machine",
           "Fuel for industrial plant",
           "Laundry Services",
           "CPX - Counter and filling machine",
           "Site supervision",
           "CPX - Forklifts (Buy)",
           "Property acquisition",
           "CPX - Labellers",
           "TR - Other Fuel Exp - no deductible",
           "CPX - Gluing machine",
           "CPX - Silos",
           "CPX - Pre-Cleaning/Drying/Vacuum system",
           "CPX: Energy (Sustainability) / Investments",
           "Infirmary",
           "OPX - Retrofit/revamping of an equipment or line",
           "CPX - Shellers",
           "CPX - X-Ray",
           "CPX - Calibrator",
           "Energy certifications for power",
           "Waste Water Treatment Services",
           "CPX - General Contractor",
           "CPX - Dough Preparation",
           "CPX - Cocoa Presses",
           "CPX - Thermoforming",
           "Property Cost Estimation & Acquisition",
           "CPX - Conveyors,Elevators,Transports, Big Bag station",
           "CPX - Sleeve & Shrink Machines",
           "CPX-Flexible & Advanced Robotics (e.g. cobots,AGV/AMR,drones"
          ],
          "line": {
           "color": "black",
           "width": 0.5
          },
          "pad": 25,
          "thickness": 30
         },
         "type": "sankey"
        }
       ],
       "layout": {
        "font": {
         "size": 10
        },
        "height": 900,
        "margin": {
         "b": 20,
         "l": 20,
         "r": 20,
         "t": 60
        },
        "template": {
         "data": {
          "bar": [
           {
            "error_x": {
             "color": "#2a3f5f"
            },
            "error_y": {
             "color": "#2a3f5f"
            },
            "marker": {
             "line": {
              "color": "#E5ECF6",
              "width": 0.5
             },
             "pattern": {
              "fillmode": "overlay",
              "size": 10,
              "solidity": 0.2
             }
            },
            "type": "bar"
           }
          ],
          "barpolar": [
           {
            "marker": {
             "line": {
              "color": "#E5ECF6",
              "width": 0.5
             },
             "pattern": {
              "fillmode": "overlay",
              "size": 10,
              "solidity": 0.2
             }
            },
            "type": "barpolar"
           }
          ],
          "carpet": [
           {
            "aaxis": {
             "endlinecolor": "#2a3f5f",
             "gridcolor": "white",
             "linecolor": "white",
             "minorgridcolor": "white",
             "startlinecolor": "#2a3f5f"
            },
            "baxis": {
             "endlinecolor": "#2a3f5f",
             "gridcolor": "white",
             "linecolor": "white",
             "minorgridcolor": "white",
             "startlinecolor": "#2a3f5f"
            },
            "type": "carpet"
           }
          ],
          "choropleth": [
           {
            "colorbar": {
             "outlinewidth": 0,
             "ticks": ""
            },
            "type": "choropleth"
           }
          ],
          "contour": [
           {
            "colorbar": {
             "outlinewidth": 0,
             "ticks": ""
            },
            "colorscale": [
             [
              0,
              "#0d0887"
             ],
             [
              0.1111111111111111,
              "#46039f"
             ],
             [
              0.2222222222222222,
              "#7201a8"
             ],
             [
              0.3333333333333333,
              "#9c179e"
             ],
             [
              0.4444444444444444,
              "#bd3786"
             ],
             [
              0.5555555555555556,
              "#d8576b"
             ],
             [
              0.6666666666666666,
              "#ed7953"
             ],
             [
              0.7777777777777778,
              "#fb9f3a"
             ],
             [
              0.8888888888888888,
              "#fdca26"
             ],
             [
              1,
              "#f0f921"
             ]
            ],
            "type": "contour"
           }
          ],
          "contourcarpet": [
           {
            "colorbar": {
             "outlinewidth": 0,
             "ticks": ""
            },
            "type": "contourcarpet"
           }
          ],
          "heatmap": [
           {
            "colorbar": {
             "outlinewidth": 0,
             "ticks": ""
            },
            "colorscale": [
             [
              0,
              "#0d0887"
             ],
             [
              0.1111111111111111,
              "#46039f"
             ],
             [
              0.2222222222222222,
              "#7201a8"
             ],
             [
              0.3333333333333333,
              "#9c179e"
             ],
             [
              0.4444444444444444,
              "#bd3786"
             ],
             [
              0.5555555555555556,
              "#d8576b"
             ],
             [
              0.6666666666666666,
              "#ed7953"
             ],
             [
              0.7777777777777778,
              "#fb9f3a"
             ],
             [
              0.8888888888888888,
              "#fdca26"
             ],
             [
              1,
              "#f0f921"
             ]
            ],
            "type": "heatmap"
           }
          ],
          "heatmapgl": [
           {
            "colorbar": {
             "outlinewidth": 0,
             "ticks": ""
            },
            "colorscale": [
             [
              0,
              "#0d0887"
             ],
             [
              0.1111111111111111,
              "#46039f"
             ],
             [
              0.2222222222222222,
              "#7201a8"
             ],
             [
              0.3333333333333333,
              "#9c179e"
             ],
             [
              0.4444444444444444,
              "#bd3786"
             ],
             [
              0.5555555555555556,
              "#d8576b"
             ],
             [
              0.6666666666666666,
              "#ed7953"
             ],
             [
              0.7777777777777778,
              "#fb9f3a"
             ],
             [
              0.8888888888888888,
              "#fdca26"
             ],
             [
              1,
              "#f0f921"
             ]
            ],
            "type": "heatmapgl"
           }
          ],
          "histogram": [
           {
            "marker": {
             "pattern": {
              "fillmode": "overlay",
              "size": 10,
              "solidity": 0.2
             }
            },
            "type": "histogram"
           }
          ],
          "histogram2d": [
           {
            "colorbar": {
             "outlinewidth": 0,
             "ticks": ""
            },
            "colorscale": [
             [
              0,
              "#0d0887"
             ],
             [
              0.1111111111111111,
              "#46039f"
             ],
             [
              0.2222222222222222,
              "#7201a8"
             ],
             [
              0.3333333333333333,
              "#9c179e"
             ],
             [
              0.4444444444444444,
              "#bd3786"
             ],
             [
              0.5555555555555556,
              "#d8576b"
             ],
             [
              0.6666666666666666,
              "#ed7953"
             ],
             [
              0.7777777777777778,
              "#fb9f3a"
             ],
             [
              0.8888888888888888,
              "#fdca26"
             ],
             [
              1,
              "#f0f921"
             ]
            ],
            "type": "histogram2d"
           }
          ],
          "histogram2dcontour": [
           {
            "colorbar": {
             "outlinewidth": 0,
             "ticks": ""
            },
            "colorscale": [
             [
              0,
              "#0d0887"
             ],
             [
              0.1111111111111111,
              "#46039f"
             ],
             [
              0.2222222222222222,
              "#7201a8"
             ],
             [
              0.3333333333333333,
              "#9c179e"
             ],
             [
              0.4444444444444444,
              "#bd3786"
             ],
             [
              0.5555555555555556,
              "#d8576b"
             ],
             [
              0.6666666666666666,
              "#ed7953"
             ],
             [
              0.7777777777777778,
              "#fb9f3a"
             ],
             [
              0.8888888888888888,
              "#fdca26"
             ],
             [
              1,
              "#f0f921"
             ]
            ],
            "type": "histogram2dcontour"
           }
          ],
          "mesh3d": [
           {
            "colorbar": {
             "outlinewidth": 0,
             "ticks": ""
            },
            "type": "mesh3d"
           }
          ],
          "parcoords": [
           {
            "line": {
             "colorbar": {
              "outlinewidth": 0,
              "ticks": ""
             }
            },
            "type": "parcoords"
           }
          ],
          "pie": [
           {
            "automargin": true,
            "type": "pie"
           }
          ],
          "scatter": [
           {
            "fillpattern": {
             "fillmode": "overlay",
             "size": 10,
             "solidity": 0.2
            },
            "type": "scatter"
           }
          ],
          "scatter3d": [
           {
            "line": {
             "colorbar": {
              "outlinewidth": 0,
              "ticks": ""
             }
            },
            "marker": {
             "colorbar": {
              "outlinewidth": 0,
              "ticks": ""
             }
            },
            "type": "scatter3d"
           }
          ],
          "scattercarpet": [
           {
            "marker": {
             "colorbar": {
              "outlinewidth": 0,
              "ticks": ""
             }
            },
            "type": "scattercarpet"
           }
          ],
          "scattergeo": [
           {
            "marker": {
             "colorbar": {
              "outlinewidth": 0,
              "ticks": ""
             }
            },
            "type": "scattergeo"
           }
          ],
          "scattergl": [
           {
            "marker": {
             "colorbar": {
              "outlinewidth": 0,
              "ticks": ""
             }
            },
            "type": "scattergl"
           }
          ],
          "scattermapbox": [
           {
            "marker": {
             "colorbar": {
              "outlinewidth": 0,
              "ticks": ""
             }
            },
            "type": "scattermapbox"
           }
          ],
          "scatterpolar": [
           {
            "marker": {
             "colorbar": {
              "outlinewidth": 0,
              "ticks": ""
             }
            },
            "type": "scatterpolar"
           }
          ],
          "scatterpolargl": [
           {
            "marker": {
             "colorbar": {
              "outlinewidth": 0,
              "ticks": ""
             }
            },
            "type": "scatterpolargl"
           }
          ],
          "scatterternary": [
           {
            "marker": {
             "colorbar": {
              "outlinewidth": 0,
              "ticks": ""
             }
            },
            "type": "scatterternary"
           }
          ],
          "surface": [
           {
            "colorbar": {
             "outlinewidth": 0,
             "ticks": ""
            },
            "colorscale": [
             [
              0,
              "#0d0887"
             ],
             [
              0.1111111111111111,
              "#46039f"
             ],
             [
              0.2222222222222222,
              "#7201a8"
             ],
             [
              0.3333333333333333,
              "#9c179e"
             ],
             [
              0.4444444444444444,
              "#bd3786"
             ],
             [
              0.5555555555555556,
              "#d8576b"
             ],
             [
              0.6666666666666666,
              "#ed7953"
             ],
             [
              0.7777777777777778,
              "#fb9f3a"
             ],
             [
              0.8888888888888888,
              "#fdca26"
             ],
             [
              1,
              "#f0f921"
             ]
            ],
            "type": "surface"
           }
          ],
          "table": [
           {
            "cells": {
             "fill": {
              "color": "#EBF0F8"
             },
             "line": {
              "color": "white"
             }
            },
            "header": {
             "fill": {
              "color": "#C8D4E3"
             },
             "line": {
              "color": "white"
             }
            },
            "type": "table"
           }
          ]
         },
         "layout": {
          "annotationdefaults": {
           "arrowcolor": "#2a3f5f",
           "arrowhead": 0,
           "arrowwidth": 1
          },
          "autotypenumbers": "strict",
          "coloraxis": {
           "colorbar": {
            "outlinewidth": 0,
            "ticks": ""
           }
          },
          "colorscale": {
           "diverging": [
            [
             0,
             "#8e0152"
            ],
            [
             0.1,
             "#c51b7d"
            ],
            [
             0.2,
             "#de77ae"
            ],
            [
             0.3,
             "#f1b6da"
            ],
            [
             0.4,
             "#fde0ef"
            ],
            [
             0.5,
             "#f7f7f7"
            ],
            [
             0.6,
             "#e6f5d0"
            ],
            [
             0.7,
             "#b8e186"
            ],
            [
             0.8,
             "#7fbc41"
            ],
            [
             0.9,
             "#4d9221"
            ],
            [
             1,
             "#276419"
            ]
           ],
           "sequential": [
            [
             0,
             "#0d0887"
            ],
            [
             0.1111111111111111,
             "#46039f"
            ],
            [
             0.2222222222222222,
             "#7201a8"
            ],
            [
             0.3333333333333333,
             "#9c179e"
            ],
            [
             0.4444444444444444,
             "#bd3786"
            ],
            [
             0.5555555555555556,
             "#d8576b"
            ],
            [
             0.6666666666666666,
             "#ed7953"
            ],
            [
             0.7777777777777778,
             "#fb9f3a"
            ],
            [
             0.8888888888888888,
             "#fdca26"
            ],
            [
             1,
             "#f0f921"
            ]
           ],
           "sequentialminus": [
            [
             0,
             "#0d0887"
            ],
            [
             0.1111111111111111,
             "#46039f"
            ],
            [
             0.2222222222222222,
             "#7201a8"
            ],
            [
             0.3333333333333333,
             "#9c179e"
            ],
            [
             0.4444444444444444,
             "#bd3786"
            ],
            [
             0.5555555555555556,
             "#d8576b"
            ],
            [
             0.6666666666666666,
             "#ed7953"
            ],
            [
             0.7777777777777778,
             "#fb9f3a"
            ],
            [
             0.8888888888888888,
             "#fdca26"
            ],
            [
             1,
             "#f0f921"
            ]
           ]
          },
          "colorway": [
           "#636efa",
           "#EF553B",
           "#00cc96",
           "#ab63fa",
           "#FFA15A",
           "#19d3f3",
           "#FF6692",
           "#B6E880",
           "#FF97FF",
           "#FECB52"
          ],
          "font": {
           "color": "#2a3f5f"
          },
          "geo": {
           "bgcolor": "white",
           "lakecolor": "white",
           "landcolor": "#E5ECF6",
           "showlakes": true,
           "showland": true,
           "subunitcolor": "white"
          },
          "hoverlabel": {
           "align": "left"
          },
          "hovermode": "closest",
          "mapbox": {
           "style": "light"
          },
          "paper_bgcolor": "white",
          "plot_bgcolor": "#E5ECF6",
          "polar": {
           "angularaxis": {
            "gridcolor": "white",
            "linecolor": "white",
            "ticks": ""
           },
           "bgcolor": "#E5ECF6",
           "radialaxis": {
            "gridcolor": "white",
            "linecolor": "white",
            "ticks": ""
           }
          },
          "scene": {
           "xaxis": {
            "backgroundcolor": "#E5ECF6",
            "gridcolor": "white",
            "gridwidth": 2,
            "linecolor": "white",
            "showbackground": true,
            "ticks": "",
            "zerolinecolor": "white"
           },
           "yaxis": {
            "backgroundcolor": "#E5ECF6",
            "gridcolor": "white",
            "gridwidth": 2,
            "linecolor": "white",
            "showbackground": true,
            "ticks": "",
            "zerolinecolor": "white"
           },
           "zaxis": {
            "backgroundcolor": "#E5ECF6",
            "gridcolor": "white",
            "gridwidth": 2,
            "linecolor": "white",
            "showbackground": true,
            "ticks": "",
            "zerolinecolor": "white"
           }
          },
          "shapedefaults": {
           "line": {
            "color": "#2a3f5f"
           }
          },
          "ternary": {
           "aaxis": {
            "gridcolor": "white",
            "linecolor": "white",
            "ticks": ""
           },
           "baxis": {
            "gridcolor": "white",
            "linecolor": "white",
            "ticks": ""
           },
           "bgcolor": "#E5ECF6",
           "caxis": {
            "gridcolor": "white",
            "linecolor": "white",
            "ticks": ""
           }
          },
          "title": {
           "x": 0.05
          },
          "xaxis": {
           "automargin": true,
           "gridcolor": "white",
           "linecolor": "white",
           "ticks": "",
           "title": {
            "standoff": 15
           },
           "zerolinecolor": "white",
           "zerolinewidth": 2
          },
          "yaxis": {
           "automargin": true,
           "gridcolor": "white",
           "linecolor": "white",
           "ticks": "",
           "title": {
            "standoff": 15
           },
           "zerolinecolor": "white",
           "zerolinewidth": 2
          }
         }
        },
        "title": {
         "text": "Clean Category Hierarchy (L1 → L4) with Top Supplier"
        }
       }
      }
     },
     "metadata": {},
     "output_type": "display_data"
    }
   ],
   "source": [
    "# Sort nodes by level to help with layout clarity\n",
    "all_edges['source_level'] = all_edges['source_label'].map(lambda x: df[\n",
    "    (df['puor_ds_level1_new'] == x) | \n",
    "    (df['puor_ds_level2_new'] == x) | \n",
    "    (df['puor_ds_level3_new'] == x)\n",
    "].shape[0])\n",
    "# Rebuild node list with level order\n",
    "ordered_nodes = []\n",
    "for level in ['puor_ds_level1_new', 'puor_ds_level2_new', 'puor_ds_level3_new', 'puor_ds_level4_new']:\n",
    "    ordered_nodes.extend(df[level].dropna().unique().tolist())\n",
    "nodes_ordered_unique = list(dict.fromkeys(ordered_nodes))  # preserve order\n",
    "\n",
    "# Reindex nodes based on level-order\n",
    "node_indices_ordered = {label: idx for idx, label in enumerate(nodes_ordered_unique)}\n",
    "sources = [node_indices_ordered[row['source_label']] for _, row in all_edges.iterrows()]\n",
    "targets = [node_indices_ordered[row['target_label']] for _, row in all_edges.iterrows()]\n",
    "\n",
    "# Final Sankey chart\n",
    "fig = go.Figure(data=[go.Sankey(\n",
    "    arrangement=\"fixed\",  # prevent automatic reordering\n",
    "    node=dict(\n",
    "        pad=25,\n",
    "        thickness=30,\n",
    "        line=dict(color=\"black\", width=0.5),\n",
    "        label=nodes_ordered_unique,\n",
    "        color=\"lightblue\"\n",
    "    ),\n",
    "    link=dict(\n",
    "        source=sources,\n",
    "        target=targets,\n",
    "        value=values,\n",
    "        customdata=customdata,\n",
    "        hovertemplate=(\n",
    "            \"<b>From:</b> %{customdata[0]}<br>\" +\n",
    "            \"<b>To:</b> %{customdata[1]}<br>\" +\n",
    "            \"<b>Top Supplier:</b> %{customdata[2]}<br>\" +\n",
    "            \"<b>PO Lines:</b> %{customdata[3]}<extra></extra>\"\n",
    "        )\n",
    "    ))])\n",
    "\n",
    "fig.update_layout(\n",
    "    title_text=\"Clean Category Hierarchy (L1 → L4) with Top Supplier\",\n",
    "    font_size=10,\n",
    "    height=900,\n",
    "    margin=dict(l=20, r=20, t=60, b=20)\n",
    ")\n",
    "fig.show()\n"
   ]
  },
  {
   "cell_type": "code",
   "execution_count": 15,
   "id": "5804e5ff",
   "metadata": {},
   "outputs": [
    {
     "data": {
      "application/vnd.plotly.v1+json": {
       "config": {
        "plotlyServerURL": "https://plot.ly"
       },
       "data": [
        {
         "arrangement": "fixed",
         "link": {
          "color": [
           "rgba(0, 100, 200, 0.9475409836065574)",
           "rgba(0, 100, 200, 0.9344262295081969)",
           "rgba(0, 100, 200, 0.9081967213114754)",
           "rgba(0, 100, 200, 0.9606557377049181)",
           "rgba(0, 100, 200, 0.9475409836065574)",
           "rgba(0, 100, 200, 0.8426229508196721)",
           "rgba(0, 100, 200, 0.9081967213114754)",
           "rgba(0, 100, 200, 0.9344262295081969)",
           "rgba(0, 100, 200, 0.9475409836065574)",
           "rgba(0, 100, 200, 0.9344262295081969)",
           "rgba(0, 100, 200, 0.8819672131147542)",
           "rgba(0, 100, 200, 0.9868852459016393)",
           "rgba(0, 100, 200, 0.9868852459016393)",
           "rgba(0, 100, 200, 0.9606557377049181)",
           "rgba(0, 100, 200, 0.9606557377049181)",
           "rgba(0, 100, 200, 0.8819672131147542)",
           "rgba(0, 100, 200, 0.2)",
           "rgba(0, 100, 200, 0.9737704918032788)",
           "rgba(0, 100, 200, 0.9606557377049181)",
           "rgba(0, 100, 200, 0.8819672131147542)",
           "rgba(0, 100, 200, 0.7901639344262295)",
           "rgba(0, 100, 200, 0.9606557377049181)",
           "rgba(0, 100, 200, 0.2)",
           "rgba(0, 100, 200, 0.8819672131147542)",
           "rgba(0, 100, 200, 0.9606557377049181)",
           "rgba(0, 100, 200, 0.9737704918032788)",
           "rgba(0, 100, 200, 0.9475409836065574)",
           "rgba(0, 100, 200, 0.8688524590163935)",
           "rgba(0, 100, 200, 0.9737704918032788)",
           "rgba(0, 100, 200, 0.9606557377049181)",
           "rgba(0, 100, 200, 0.9081967213114754)",
           "rgba(0, 100, 200, 0.8557377049180328)",
           "rgba(0, 100, 200, 0.9344262295081969)",
           "rgba(0, 100, 200, 0.8426229508196721)",
           "rgba(0, 100, 200, 0.9475409836065574)",
           "rgba(0, 100, 200, 0.8295081967213116)",
           "rgba(0, 100, 200, 0.8688524590163935)",
           "rgba(0, 100, 200, 0.9868852459016393)",
           "rgba(0, 100, 200, 0.9475409836065574)",
           "rgba(0, 100, 200, 0.9344262295081969)",
           "rgba(0, 100, 200, 0.9081967213114754)",
           "rgba(0, 100, 200, 0.9081967213114754)",
           "rgba(0, 100, 200, 0.9081967213114754)",
           "rgba(0, 100, 200, 0.9081967213114754)",
           "rgba(0, 100, 200, 0.9737704918032788)",
           "rgba(0, 100, 200, 0.8295081967213116)",
           "rgba(0, 100, 200, 0.9081967213114754)",
           "rgba(0, 100, 200, 0.8295081967213116)",
           "rgba(0, 100, 200, 0.9606557377049181)",
           "rgba(0, 100, 200, 0.9475409836065574)",
           "rgba(0, 100, 200, 0.9606557377049181)",
           "rgba(0, 100, 200, 0.9606557377049181)",
           "rgba(0, 100, 200, 0.9475409836065574)",
           "rgba(0, 100, 200, 0.9868852459016393)",
           "rgba(0, 100, 200, 0.9868852459016393)",
           "rgba(0, 100, 200, 0.9868852459016393)",
           "rgba(0, 100, 200, 0.9737704918032788)",
           "rgba(0, 100, 200, 0.9475409836065574)",
           "rgba(0, 100, 200, 0.9868852459016393)",
           "rgba(0, 100, 200, 0.9868852459016393)",
           "rgba(0, 100, 200, 0.8426229508196721)",
           "rgba(0, 100, 200, 0.9737704918032788)",
           "rgba(0, 100, 200, 0.9868852459016393)",
           "rgba(0, 100, 200, 0.9868852459016393)",
           "rgba(0, 100, 200, 0.9475409836065574)",
           "rgba(0, 100, 200, 0.8819672131147542)",
           "rgba(0, 100, 200, 0.8426229508196721)",
           "rgba(0, 100, 200, 0.777049180327869)",
           "rgba(0, 100, 200, 0.7245901639344263)",
           "rgba(0, 100, 200, 0.7508196721311475)",
           "rgba(0, 100, 200, 0.9606557377049181)",
           "rgba(0, 100, 200, 0.777049180327869)",
           "rgba(0, 100, 200, 0.8819672131147542)",
           "rgba(0, 100, 200, 0.659016393442623)",
           "rgba(0, 100, 200, 0.6983606557377049)",
           "rgba(0, 100, 200, 0.5934426229508196)",
           "rgba(0, 100, 200, 0.8688524590163935)",
           "rgba(0, 100, 200, 0.777049180327869)",
           "rgba(0, 100, 200, 0.9868852459016393)",
           "rgba(0, 100, 200, 0.8688524590163935)",
           "rgba(0, 100, 200, 0.9213114754098362)",
           "rgba(0, 100, 200, 0.9213114754098362)",
           "rgba(0, 100, 200, 0.9081967213114754)",
           "rgba(0, 100, 200, 0.9868852459016393)",
           "rgba(0, 100, 200, 0.9868852459016393)",
           "rgba(0, 100, 200, 0.9868852459016393)",
           "rgba(0, 100, 200, 0.9868852459016393)",
           "rgba(0, 100, 200, 0.9737704918032788)",
           "rgba(0, 100, 200, 0.9868852459016393)",
           "rgba(0, 100, 200, 0.9475409836065574)",
           "rgba(0, 100, 200, 0.9606557377049181)",
           "rgba(0, 100, 200, 0.9737704918032788)",
           "rgba(0, 100, 200, 0.8950819672131147)",
           "rgba(0, 100, 200, 0.9737704918032788)",
           "rgba(0, 100, 200, 0.9868852459016393)",
           "rgba(0, 100, 200, 0.9344262295081969)",
           "rgba(0, 100, 200, 0.9737704918032788)",
           "rgba(0, 100, 200, 0.9475409836065574)",
           "rgba(0, 100, 200, 0.7508196721311475)",
           "rgba(0, 100, 200, 0.9606557377049181)",
           "rgba(0, 100, 200, 0.9475409836065574)",
           "rgba(0, 100, 200, 0.9344262295081969)",
           "rgba(0, 100, 200, 0.8819672131147542)",
           "rgba(0, 100, 200, 0.9475409836065574)",
           "rgba(0, 100, 200, 0.7245901639344263)",
           "rgba(0, 100, 200, 0.9081967213114754)",
           "rgba(0, 100, 200, 0.9344262295081969)",
           "rgba(0, 100, 200, 0.9081967213114754)",
           "rgba(0, 100, 200, 0.8819672131147542)",
           "rgba(0, 100, 200, 0.9344262295081969)",
           "rgba(0, 100, 200, 0.8950819672131147)",
           "rgba(0, 100, 200, 0.9868852459016393)",
           "rgba(0, 100, 200, 0.9213114754098362)",
           "rgba(0, 100, 200, 0.9868852459016393)",
           "rgba(0, 100, 200, 0.9737704918032788)",
           "rgba(0, 100, 200, 0.47540983606557385)",
           "rgba(0, 100, 200, 0.6983606557377049)",
           "rgba(0, 100, 200, 0.9344262295081969)",
           "rgba(0, 100, 200, 0.9213114754098362)",
           "rgba(0, 100, 200, 0.9737704918032788)",
           "rgba(0, 100, 200, 0.9868852459016393)",
           "rgba(0, 100, 200, 0.9868852459016393)",
           "rgba(0, 100, 200, 0.9868852459016393)",
           "rgba(0, 100, 200, 0.9606557377049181)",
           "rgba(0, 100, 200, 0.9344262295081969)",
           "rgba(0, 100, 200, 0.8688524590163935)",
           "rgba(0, 100, 200, 0.9868852459016393)",
           "rgba(0, 100, 200, 0.9868852459016393)",
           "rgba(0, 100, 200, 0.8688524590163935)",
           "rgba(0, 100, 200, 0.9737704918032788)",
           "rgba(0, 100, 200, 0.8819672131147542)",
           "rgba(0, 100, 200, 0.7245901639344263)",
           "rgba(0, 100, 200, 0.9868852459016393)",
           "rgba(0, 100, 200, 0.8426229508196721)",
           "rgba(0, 100, 200, 0.8426229508196721)",
           "rgba(0, 100, 200, 0.8426229508196721)",
           "rgba(0, 100, 200, 0.8688524590163935)",
           "rgba(0, 100, 200, 0.9606557377049181)",
           "rgba(0, 100, 200, 0.9737704918032788)",
           "rgba(0, 100, 200, 0.9081967213114754)",
           "rgba(0, 100, 200, 0.9081967213114754)",
           "rgba(0, 100, 200, 0.8819672131147542)",
           "rgba(0, 100, 200, 0.9868852459016393)",
           "rgba(0, 100, 200, 0.9344262295081969)",
           "rgba(0, 100, 200, 0.9213114754098362)",
           "rgba(0, 100, 200, 0.9868852459016393)",
           "rgba(0, 100, 200, 0.9213114754098362)",
           "rgba(0, 100, 200, 0.9213114754098362)",
           "rgba(0, 100, 200, 0.7245901639344263)",
           "rgba(0, 100, 200, 0.9475409836065574)",
           "rgba(0, 100, 200, 0.9213114754098362)",
           "rgba(0, 100, 200, 0.9868852459016393)",
           "rgba(0, 100, 200, 0.9868852459016393)",
           "rgba(0, 100, 200, 0.9606557377049181)",
           "rgba(0, 100, 200, 0.9606557377049181)",
           "rgba(0, 100, 200, 0.9737704918032788)",
           "rgba(0, 100, 200, 0.9344262295081969)",
           "rgba(0, 100, 200, 0.9606557377049181)",
           "rgba(0, 100, 200, 0.9344262295081969)",
           "rgba(0, 100, 200, 0.9606557377049181)",
           "rgba(0, 100, 200, 0.9868852459016393)",
           "rgba(0, 100, 200, 0.8950819672131147)",
           "rgba(0, 100, 200, 0.8819672131147542)",
           "rgba(0, 100, 200, 0.9475409836065574)",
           "rgba(0, 100, 200, 0.9213114754098362)",
           "rgba(0, 100, 200, 0.9737704918032788)",
           "rgba(0, 100, 200, 0.9606557377049181)",
           "rgba(0, 100, 200, 0.9868852459016393)",
           "rgba(0, 100, 200, 0.9475409836065574)",
           "rgba(0, 100, 200, 0.777049180327869)",
           "rgba(0, 100, 200, 0.9081967213114754)",
           "rgba(0, 100, 200, 0.9606557377049181)",
           "rgba(0, 100, 200, 0.8950819672131147)",
           "rgba(0, 100, 200, 0.8950819672131147)",
           "rgba(0, 100, 200, 0.9606557377049181)",
           "rgba(0, 100, 200, 0.9081967213114754)",
           "rgba(0, 100, 200, 0.777049180327869)",
           "rgba(0, 100, 200, 0.9213114754098362)",
           "rgba(0, 100, 200, 0.9606557377049181)",
           "rgba(0, 100, 200, 0.9868852459016393)",
           "rgba(0, 100, 200, 0.8819672131147542)",
           "rgba(0, 100, 200, 0.9737704918032788)",
           "rgba(0, 100, 200, 0.9868852459016393)",
           "rgba(0, 100, 200, 0.9475409836065574)",
           "rgba(0, 100, 200, 0.9213114754098362)",
           "rgba(0, 100, 200, 0.9868852459016393)",
           "rgba(0, 100, 200, 0.9868852459016393)",
           "rgba(0, 100, 200, 0.9868852459016393)",
           "rgba(0, 100, 200, 0.9475409836065574)",
           "rgba(0, 100, 200, 0.9606557377049181)",
           "rgba(0, 100, 200, 0.9737704918032788)",
           "rgba(0, 100, 200, 0.9737704918032788)",
           "rgba(0, 100, 200, 0.8819672131147542)",
           "rgba(0, 100, 200, 0.8819672131147542)",
           "rgba(0, 100, 200, 0.9737704918032788)",
           "rgba(0, 100, 200, 0.9475409836065574)",
           "rgba(0, 100, 200, 0.9475409836065574)",
           "rgba(0, 100, 200, 0.9606557377049181)",
           "rgba(0, 100, 200, 0.9737704918032788)",
           "rgba(0, 100, 200, 0.9344262295081969)",
           "rgba(0, 100, 200, 0.9737704918032788)",
           "rgba(0, 100, 200, 0.9737704918032788)",
           "rgba(0, 100, 200, 0.9737704918032788)",
           "rgba(0, 100, 200, 0.9475409836065574)",
           "rgba(0, 100, 200, 0.9606557377049181)",
           "rgba(0, 100, 200, 0.9868852459016393)",
           "rgba(0, 100, 200, 0.9737704918032788)",
           "rgba(0, 100, 200, 0.9737704918032788)",
           "rgba(0, 100, 200, 0.9868852459016393)",
           "rgba(0, 100, 200, 0.9737704918032788)",
           "rgba(0, 100, 200, 0.777049180327869)",
           "rgba(0, 100, 200, 0.9213114754098362)",
           "rgba(0, 100, 200, 0.8819672131147542)",
           "rgba(0, 100, 200, 0.777049180327869)",
           "rgba(0, 100, 200, 0.777049180327869)",
           "rgba(0, 100, 200, 0.9737704918032788)",
           "rgba(0, 100, 200, 0.9868852459016393)",
           "rgba(0, 100, 200, 0.9213114754098362)",
           "rgba(0, 100, 200, 0.9081967213114754)",
           "rgba(0, 100, 200, 0.9606557377049181)",
           "rgba(0, 100, 200, 0.9737704918032788)",
           "rgba(0, 100, 200, 0.9081967213114754)",
           "rgba(0, 100, 200, 0.9606557377049181)",
           "rgba(0, 100, 200, 0.9737704918032788)",
           "rgba(0, 100, 200, 0.9606557377049181)",
           "rgba(0, 100, 200, 0.9737704918032788)",
           "rgba(0, 100, 200, 0.9606557377049181)",
           "rgba(0, 100, 200, 0.9868852459016393)",
           "rgba(0, 100, 200, 0.9737704918032788)",
           "rgba(0, 100, 200, 0.9868852459016393)",
           "rgba(0, 100, 200, 0.9475409836065574)",
           "rgba(0, 100, 200, 0.9475409836065574)",
           "rgba(0, 100, 200, 0.9344262295081969)",
           "rgba(0, 100, 200, 0.9344262295081969)",
           "rgba(0, 100, 200, 0.9344262295081969)",
           "rgba(0, 100, 200, 0.9737704918032788)",
           "rgba(0, 100, 200, 0.9868852459016393)",
           "rgba(0, 100, 200, 0.9737704918032788)",
           "rgba(0, 100, 200, 0.9344262295081969)",
           "rgba(0, 100, 200, 0.9737704918032788)",
           "rgba(0, 100, 200, 0.9737704918032788)",
           "rgba(0, 100, 200, 0.9606557377049181)",
           "rgba(0, 100, 200, 0.9081967213114754)",
           "rgba(0, 100, 200, 0.7245901639344263)",
           "rgba(0, 100, 200, 0.8819672131147542)",
           "rgba(0, 100, 200, 0.8950819672131147)",
           "rgba(0, 100, 200, 0.8557377049180328)",
           "rgba(0, 100, 200, 0.8819672131147542)",
           "rgba(0, 100, 200, 0.9868852459016393)",
           "rgba(0, 100, 200, 0.9475409836065574)",
           "rgba(0, 100, 200, 0.8557377049180328)",
           "rgba(0, 100, 200, 0.9344262295081969)",
           "rgba(0, 100, 200, 0.8426229508196721)",
           "rgba(0, 100, 200, 0.9737704918032788)",
           "rgba(0, 100, 200, 0.9475409836065574)",
           "rgba(0, 100, 200, 0.9868852459016393)",
           "rgba(0, 100, 200, 0.7245901639344263)",
           "rgba(0, 100, 200, 0.7245901639344263)",
           "rgba(0, 100, 200, 0.7245901639344263)",
           "rgba(0, 100, 200, 0.9344262295081969)",
           "rgba(0, 100, 200, 0.9081967213114754)",
           "rgba(0, 100, 200, 0.9213114754098362)",
           "rgba(0, 100, 200, 0.9868852459016393)",
           "rgba(0, 100, 200, 0.9737704918032788)",
           "rgba(0, 100, 200, 0.8819672131147542)",
           "rgba(0, 100, 200, 0.9737704918032788)",
           "rgba(0, 100, 200, 0.9475409836065574)",
           "rgba(0, 100, 200, 0.9606557377049181)",
           "rgba(0, 100, 200, 0.9344262295081969)",
           "rgba(0, 100, 200, 0.9344262295081969)",
           "rgba(0, 100, 200, 0.9475409836065574)",
           "rgba(0, 100, 200, 0.8819672131147542)",
           "rgba(0, 100, 200, 0.9213114754098362)",
           "rgba(0, 100, 200, 0.9868852459016393)",
           "rgba(0, 100, 200, 0.8426229508196721)",
           "rgba(0, 100, 200, 0.7901639344262295)",
           "rgba(0, 100, 200, 0.8688524590163935)",
           "rgba(0, 100, 200, 0.8163934426229509)",
           "rgba(0, 100, 200, 0.8688524590163935)",
           "rgba(0, 100, 200, 0.9606557377049181)",
           "rgba(0, 100, 200, 0.9868852459016393)",
           "rgba(0, 100, 200, 0.9475409836065574)",
           "rgba(0, 100, 200, 0.9737704918032788)",
           "rgba(0, 100, 200, 0.9737704918032788)",
           "rgba(0, 100, 200, 0.7245901639344263)",
           "rgba(0, 100, 200, 0.9344262295081969)",
           "rgba(0, 100, 200, 0.9081967213114754)",
           "rgba(0, 100, 200, 0.9868852459016393)",
           "rgba(0, 100, 200, 0.9868852459016393)",
           "rgba(0, 100, 200, 0.9868852459016393)",
           "rgba(0, 100, 200, 0.9344262295081969)",
           "rgba(0, 100, 200, 0.9081967213114754)",
           "rgba(0, 100, 200, 0.9868852459016393)",
           "rgba(0, 100, 200, 0.9081967213114754)",
           "rgba(0, 100, 200, 0.9081967213114754)",
           "rgba(0, 100, 200, 0.9081967213114754)",
           "rgba(0, 100, 200, 0.9081967213114754)",
           "rgba(0, 100, 200, 0.9737704918032788)",
           "rgba(0, 100, 200, 0.9868852459016393)",
           "rgba(0, 100, 200, 0.9737704918032788)",
           "rgba(0, 100, 200, 0.9868852459016393)",
           "rgba(0, 100, 200, 0.9344262295081969)",
           "rgba(0, 100, 200, 0.9475409836065574)",
           "rgba(0, 100, 200, 0.9606557377049181)",
           "rgba(0, 100, 200, 0.9868852459016393)",
           "rgba(0, 100, 200, 0.9868852459016393)",
           "rgba(0, 100, 200, 0.9868852459016393)",
           "rgba(0, 100, 200, 0.9737704918032788)",
           "rgba(0, 100, 200, 0.9475409836065574)",
           "rgba(0, 100, 200, 0.9344262295081969)",
           "rgba(0, 100, 200, 0.8557377049180328)",
           "rgba(0, 100, 200, 0.9606557377049181)",
           "rgba(0, 100, 200, 0.9606557377049181)",
           "rgba(0, 100, 200, 0.9868852459016393)",
           "rgba(0, 100, 200, 0.9868852459016393)",
           "rgba(0, 100, 200, 0.8688524590163935)",
           "rgba(0, 100, 200, 0.9868852459016393)",
           "rgba(0, 100, 200, 0.9081967213114754)",
           "rgba(0, 100, 200, 0.9868852459016393)",
           "rgba(0, 100, 200, 0.9737704918032788)",
           "rgba(0, 100, 200, 0.9868852459016393)",
           "rgba(0, 100, 200, 0.8688524590163935)",
           "rgba(0, 100, 200, 0.9606557377049181)",
           "rgba(0, 100, 200, 0.9737704918032788)",
           "rgba(0, 100, 200, 0.9606557377049181)",
           "rgba(0, 100, 200, 0.8688524590163935)",
           "rgba(0, 100, 200, 0.9081967213114754)",
           "rgba(0, 100, 200, 0.47540983606557385)",
           "rgba(0, 100, 200, 0.9868852459016393)",
           "rgba(0, 100, 200, 0.9475409836065574)",
           "rgba(0, 100, 200, 0.9737704918032788)",
           "rgba(0, 100, 200, 0.8032786885245902)",
           "rgba(0, 100, 200, 0.9606557377049181)",
           "rgba(0, 100, 200, 0.9737704918032788)",
           "rgba(0, 100, 200, 0.9213114754098362)",
           "rgba(0, 100, 200, 0.9606557377049181)",
           "rgba(0, 100, 200, 0.9737704918032788)",
           "rgba(0, 100, 200, 0.6983606557377049)",
           "rgba(0, 100, 200, 0.9737704918032788)",
           "rgba(0, 100, 200, 0.6983606557377049)",
           "rgba(0, 100, 200, 0.9868852459016393)",
           "rgba(0, 100, 200, 0.9868852459016393)",
           "rgba(0, 100, 200, 0.9868852459016393)",
           "rgba(0, 100, 200, 0.9606557377049181)",
           "rgba(0, 100, 200, 0.9213114754098362)",
           "rgba(0, 100, 200, 0.9344262295081969)",
           "rgba(0, 100, 200, 0.9606557377049181)",
           "rgba(0, 100, 200, 0.7901639344262295)",
           "rgba(0, 100, 200, 0.9606557377049181)",
           "rgba(0, 100, 200, 0.9081967213114754)",
           "rgba(0, 100, 200, 0.9737704918032788)",
           "rgba(0, 100, 200, 0.9606557377049181)",
           "rgba(0, 100, 200, 0.9344262295081969)",
           "rgba(0, 100, 200, 0.9868852459016393)",
           "rgba(0, 100, 200, 0.9475409836065574)",
           "rgba(0, 100, 200, 0.9213114754098362)",
           "rgba(0, 100, 200, 0.8950819672131147)",
           "rgba(0, 100, 200, 0.9737704918032788)",
           "rgba(0, 100, 200, 0.9737704918032788)",
           "rgba(0, 100, 200, 0.9737704918032788)",
           "rgba(0, 100, 200, 0.9868852459016393)",
           "rgba(0, 100, 200, 0.9213114754098362)",
           "rgba(0, 100, 200, 0.5147540983606558)",
           "rgba(0, 100, 200, 0.5147540983606558)",
           "rgba(0, 100, 200, 0.8819672131147542)",
           "rgba(0, 100, 200, 0.8819672131147542)",
           "rgba(0, 100, 200, 0.9737704918032788)",
           "rgba(0, 100, 200, 0.9475409836065574)",
           "rgba(0, 100, 200, 0.9475409836065574)",
           "rgba(0, 100, 200, 0.6983606557377049)",
           "rgba(0, 100, 200, 0.9868852459016393)",
           "rgba(0, 100, 200, 0.9081967213114754)",
           "rgba(0, 100, 200, 0.8163934426229509)",
           "rgba(0, 100, 200, 0.9475409836065574)",
           "rgba(0, 100, 200, 0.9606557377049181)",
           "rgba(0, 100, 200, 0.9868852459016393)",
           "rgba(0, 100, 200, 0.9606557377049181)",
           "rgba(0, 100, 200, 0.659016393442623)",
           "rgba(0, 100, 200, 0.9213114754098362)",
           "rgba(0, 100, 200, 0.9081967213114754)",
           "rgba(0, 100, 200, 0.9868852459016393)",
           "rgba(0, 100, 200, 0.9868852459016393)",
           "rgba(0, 100, 200, 0.9868852459016393)",
           "rgba(0, 100, 200, 0.9344262295081969)",
           "rgba(0, 100, 200, 0.9213114754098362)",
           "rgba(0, 100, 200, 0.9737704918032788)",
           "rgba(0, 100, 200, 0.8819672131147542)",
           "rgba(0, 100, 200, 0.9737704918032788)",
           "rgba(0, 100, 200, 0.9868852459016393)",
           "rgba(0, 100, 200, 0.8557377049180328)",
           "rgba(0, 100, 200, 0.9606557377049181)",
           "rgba(0, 100, 200, 0.9868852459016393)",
           "rgba(0, 100, 200, 0.9213114754098362)",
           "rgba(0, 100, 200, 0.9213114754098362)",
           "rgba(0, 100, 200, 0.9868852459016393)",
           "rgba(0, 100, 200, 0.9868852459016393)",
           "rgba(0, 100, 200, 0.9606557377049181)",
           "rgba(0, 100, 200, 0.9737704918032788)",
           "rgba(0, 100, 200, 0.8557377049180328)",
           "rgba(0, 100, 200, 0.8557377049180328)",
           "rgba(0, 100, 200, 0.9606557377049181)",
           "rgba(0, 100, 200, 0.9213114754098362)",
           "rgba(0, 100, 200, 0.9737704918032788)",
           "rgba(0, 100, 200, 0.7245901639344263)",
           "rgba(0, 100, 200, 0.9081967213114754)",
           "rgba(0, 100, 200, 0.9475409836065574)",
           "rgba(0, 100, 200, 0.9868852459016393)",
           "rgba(0, 100, 200, 0.8819672131147542)",
           "rgba(0, 100, 200, 0.9475409836065574)",
           "rgba(0, 100, 200, 0.9737704918032788)",
           "rgba(0, 100, 200, 0.9868852459016393)",
           "rgba(0, 100, 200, 0.9606557377049181)",
           "rgba(0, 100, 200, 0.9868852459016393)",
           "rgba(0, 100, 200, 0.9213114754098362)",
           "rgba(0, 100, 200, 0.9868852459016393)",
           "rgba(0, 100, 200, 0.8688524590163935)",
           "rgba(0, 100, 200, 0.9344262295081969)",
           "rgba(0, 100, 200, 0.9868852459016393)",
           "rgba(0, 100, 200, 0.9737704918032788)",
           "rgba(0, 100, 200, 0.8688524590163935)",
           "rgba(0, 100, 200, 0.7245901639344263)",
           "rgba(0, 100, 200, 0.9344262295081969)",
           "rgba(0, 100, 200, 0.8032786885245902)",
           "rgba(0, 100, 200, 0.9213114754098362)",
           "rgba(0, 100, 200, 0.9344262295081969)",
           "rgba(0, 100, 200, 0.9344262295081969)",
           "rgba(0, 100, 200, 0.8557377049180328)",
           "rgba(0, 100, 200, 0.8688524590163935)",
           "rgba(0, 100, 200, 0.8032786885245902)",
           "rgba(0, 100, 200, 0.9344262295081969)",
           "rgba(0, 100, 200, 0.7508196721311475)",
           "rgba(0, 100, 200, 0.5147540983606558)",
           "rgba(0, 100, 200, 0.8819672131147542)",
           "rgba(0, 100, 200, 0.9475409836065574)",
           "rgba(0, 100, 200, 0.9475409836065574)",
           "rgba(0, 100, 200, 0.9737704918032788)",
           "rgba(0, 100, 200, 0.9737704918032788)",
           "rgba(0, 100, 200, 0.6983606557377049)",
           "rgba(0, 100, 200, 0.9737704918032788)",
           "rgba(0, 100, 200, 0.8163934426229509)",
           "rgba(0, 100, 200, 0.8557377049180328)",
           "rgba(0, 100, 200, 0.5934426229508196)",
           "rgba(0, 100, 200, 0.31803278688524594)",
           "rgba(0, 100, 200, 0.6983606557377049)",
           "rgba(0, 100, 200, 0.659016393442623)",
           "rgba(0, 100, 200, 0.8557377049180328)",
           "rgba(0, 100, 200, 0.8295081967213116)",
           "rgba(0, 100, 200, 0.8295081967213116)",
           "rgba(0, 100, 200, 0.777049180327869)",
           "rgba(0, 100, 200, 0.9081967213114754)",
           "rgba(0, 100, 200, 0.9081967213114754)",
           "rgba(0, 100, 200, 0.8688524590163935)",
           "rgba(0, 100, 200, 0.9737704918032788)",
           "rgba(0, 100, 200, 0.9868852459016393)",
           "rgba(0, 100, 200, 0.9081967213114754)",
           "rgba(0, 100, 200, 0.9475409836065574)",
           "rgba(0, 100, 200, 0.7508196721311475)",
           "rgba(0, 100, 200, 0.9475409836065574)",
           "rgba(0, 100, 200, 0.9868852459016393)",
           "rgba(0, 100, 200, 0.9344262295081969)",
           "rgba(0, 100, 200, 0.9737704918032788)",
           "rgba(0, 100, 200, 0.9737704918032788)",
           "rgba(0, 100, 200, 0.9475409836065574)",
           "rgba(0, 100, 200, 0.9737704918032788)",
           "rgba(0, 100, 200, 0.9868852459016393)",
           "rgba(0, 100, 200, 0.9737704918032788)",
           "rgba(0, 100, 200, 0.8426229508196721)",
           "rgba(0, 100, 200, 0.9737704918032788)",
           "rgba(0, 100, 200, 0.9606557377049181)",
           "rgba(0, 100, 200, 0.9081967213114754)",
           "rgba(0, 100, 200, 0.9737704918032788)",
           "rgba(0, 100, 200, 0.9737704918032788)",
           "rgba(0, 100, 200, 0.8295081967213116)",
           "rgba(0, 100, 200, 0.9475409836065574)",
           "rgba(0, 100, 200, 0.9737704918032788)",
           "rgba(0, 100, 200, 0.9737704918032788)",
           "rgba(0, 100, 200, 0.8426229508196721)",
           "rgba(0, 100, 200, 0.7245901639344263)",
           "rgba(0, 100, 200, 0.7245901639344263)",
           "rgba(0, 100, 200, 0.7245901639344263)",
           "rgba(0, 100, 200, 0.9868852459016393)",
           "rgba(0, 100, 200, 0.7245901639344263)",
           "rgba(0, 100, 200, 0.7245901639344263)",
           "rgba(0, 100, 200, 0.9737704918032788)",
           "rgba(0, 100, 200, 0.9475409836065574)",
           "rgba(0, 100, 200, 0.8295081967213116)",
           "rgba(0, 100, 200, 0.8032786885245902)",
           "rgba(0, 100, 200, 0.7114754098360656)",
           "rgba(0, 100, 200, 0.7114754098360656)",
           "rgba(0, 100, 200, 0.777049180327869)",
           "rgba(0, 100, 200, 0.9868852459016393)",
           "rgba(0, 100, 200, 0.9081967213114754)",
           "rgba(0, 100, 200, 0.7114754098360656)",
           "rgba(0, 100, 200, 0.9081967213114754)",
           "rgba(0, 100, 200, 0.8819672131147542)",
           "rgba(0, 100, 200, 0.8688524590163935)",
           "rgba(0, 100, 200, 0.9081967213114754)",
           "rgba(0, 100, 200, 0.8295081967213116)",
           "rgba(0, 100, 200, 0.9081967213114754)",
           "rgba(0, 100, 200, 0.9606557377049181)",
           "rgba(0, 100, 200, 0.8819672131147542)",
           "rgba(0, 100, 200, 0.8295081967213116)",
           "rgba(0, 100, 200, 0.8295081967213116)",
           "rgba(0, 100, 200, 0.9344262295081969)",
           "rgba(0, 100, 200, 0.9868852459016393)",
           "rgba(0, 100, 200, 0.777049180327869)",
           "rgba(0, 100, 200, 0.7245901639344263)",
           "rgba(0, 100, 200, 0.8950819672131147)",
           "rgba(0, 100, 200, 0.8295081967213116)",
           "rgba(0, 100, 200, 0.7901639344262295)",
           "rgba(0, 100, 200, 0.777049180327869)",
           "rgba(0, 100, 200, 0.7245901639344263)",
           "rgba(0, 100, 200, 0.777049180327869)",
           "rgba(0, 100, 200, 0.8819672131147542)",
           "rgba(0, 100, 200, 0.9737704918032788)",
           "rgba(0, 100, 200, 0.8688524590163935)",
           "rgba(0, 100, 200, 0.9606557377049181)",
           "rgba(0, 100, 200, 0.8819672131147542)",
           "rgba(0, 100, 200, 0.9737704918032788)",
           "rgba(0, 100, 200, 0.9868852459016393)",
           "rgba(0, 100, 200, 0.9475409836065574)",
           "rgba(0, 100, 200, 0.9475409836065574)",
           "rgba(0, 100, 200, 0.9868852459016393)",
           "rgba(0, 100, 200, 0.9737704918032788)",
           "rgba(0, 100, 200, 0.9868852459016393)",
           "rgba(0, 100, 200, 0.9868852459016393)",
           "rgba(0, 100, 200, 0.9868852459016393)",
           "rgba(0, 100, 200, 0.8295081967213116)",
           "rgba(0, 100, 200, 0.8819672131147542)",
           "rgba(0, 100, 200, 0.7901639344262295)",
           "rgba(0, 100, 200, 0.8295081967213116)",
           "rgba(0, 100, 200, 0.8819672131147542)",
           "rgba(0, 100, 200, 0.8295081967213116)",
           "rgba(0, 100, 200, 0.9868852459016393)",
           "rgba(0, 100, 200, 0.9606557377049181)",
           "rgba(0, 100, 200, 0.8295081967213116)",
           "rgba(0, 100, 200, 0.9606557377049181)",
           "rgba(0, 100, 200, 0.8295081967213116)",
           "rgba(0, 100, 200, 0.9868852459016393)",
           "rgba(0, 100, 200, 0.9606557377049181)",
           "rgba(0, 100, 200, 0.9737704918032788)",
           "rgba(0, 100, 200, 0.8688524590163935)",
           "rgba(0, 100, 200, 0.9737704918032788)",
           "rgba(0, 100, 200, 0.9737704918032788)",
           "rgba(0, 100, 200, 0.9475409836065574)",
           "rgba(0, 100, 200, 0.9737704918032788)",
           "rgba(0, 100, 200, 0.9868852459016393)",
           "rgba(0, 100, 200, 0.9344262295081969)",
           "rgba(0, 100, 200, 0.9344262295081969)",
           "rgba(0, 100, 200, 0.9868852459016393)",
           "rgba(0, 100, 200, 0.9737704918032788)",
           "rgba(0, 100, 200, 0.9737704918032788)",
           "rgba(0, 100, 200, 0.9475409836065574)",
           "rgba(0, 100, 200, 0.8426229508196721)",
           "rgba(0, 100, 200, 0.8426229508196721)",
           "rgba(0, 100, 200, 0.8819672131147542)",
           "rgba(0, 100, 200, 0.9213114754098362)",
           "rgba(0, 100, 200, 0.9344262295081969)",
           "rgba(0, 100, 200, 0.9737704918032788)",
           "rgba(0, 100, 200, 0.9475409836065574)",
           "rgba(0, 100, 200, 0.9606557377049181)",
           "rgba(0, 100, 200, 0.8819672131147542)",
           "rgba(0, 100, 200, 0.8032786885245902)",
           "rgba(0, 100, 200, 0.9868852459016393)",
           "rgba(0, 100, 200, 0.8426229508196721)",
           "rgba(0, 100, 200, 0.777049180327869)",
           "rgba(0, 100, 200, 0.777049180327869)",
           "rgba(0, 100, 200, 0.9475409836065574)",
           "rgba(0, 100, 200, 0.9081967213114754)",
           "rgba(0, 100, 200, 0.9606557377049181)",
           "rgba(0, 100, 200, 0.9868852459016393)",
           "rgba(0, 100, 200, 0.8950819672131147)",
           "rgba(0, 100, 200, 0.8950819672131147)",
           "rgba(0, 100, 200, 0.8819672131147542)",
           "rgba(0, 100, 200, 0.8032786885245902)",
           "rgba(0, 100, 200, 0.8819672131147542)",
           "rgba(0, 100, 200, 0.8819672131147542)",
           "rgba(0, 100, 200, 0.9868852459016393)",
           "rgba(0, 100, 200, 0.9475409836065574)",
           "rgba(0, 100, 200, 0.9737704918032788)",
           "rgba(0, 100, 200, 0.9737704918032788)",
           "rgba(0, 100, 200, 0.9475409836065574)",
           "rgba(0, 100, 200, 0.8032786885245902)",
           "rgba(0, 100, 200, 0.9868852459016393)",
           "rgba(0, 100, 200, 0.8950819672131147)",
           "rgba(0, 100, 200, 0.9868852459016393)",
           "rgba(0, 100, 200, 0.8032786885245902)",
           "rgba(0, 100, 200, 0.7508196721311475)",
           "rgba(0, 100, 200, 0.9344262295081969)",
           "rgba(0, 100, 200, 0.8557377049180328)",
           "rgba(0, 100, 200, 0.9344262295081969)",
           "rgba(0, 100, 200, 0.9868852459016393)",
           "rgba(0, 100, 200, 0.33114754098360655)",
           "rgba(0, 100, 200, 0.46229508196721314)",
           "rgba(0, 100, 200, 0.8819672131147542)",
           "rgba(0, 100, 200, 0.777049180327869)",
           "rgba(0, 100, 200, 0.46229508196721314)",
           "rgba(0, 100, 200, 0.9606557377049181)",
           "rgba(0, 100, 200, 0.9475409836065574)",
           "rgba(0, 100, 200, 0.8295081967213116)",
           "rgba(0, 100, 200, 0.7901639344262295)",
           "rgba(0, 100, 200, 0.33114754098360655)",
           "rgba(0, 100, 200, 0.2524590163934426)",
           "rgba(0, 100, 200, 0.2)",
           "rgba(0, 100, 200, 0.2)",
           "rgba(0, 100, 200, 0.6852459016393443)",
           "rgba(0, 100, 200, 0.46229508196721314)",
           "rgba(0, 100, 200, 0.5934426229508196)",
           "rgba(0, 100, 200, 0.659016393442623)",
           "rgba(0, 100, 200, 0.2)",
           "rgba(0, 100, 200, 0.8032786885245902)",
           "rgba(0, 100, 200, 0.8819672131147542)",
           "rgba(0, 100, 200, 0.6852459016393443)",
           "rgba(0, 100, 200, 0.9081967213114754)",
           "rgba(0, 100, 200, 0.8426229508196721)",
           "rgba(0, 100, 200, 0.2)",
           "rgba(0, 100, 200, 0.6852459016393443)",
           "rgba(0, 100, 200, 0.9737704918032788)",
           "rgba(0, 100, 200, 0.659016393442623)",
           "rgba(0, 100, 200, 0.9475409836065574)",
           "rgba(0, 100, 200, 0.33114754098360655)",
           "rgba(0, 100, 200, 0.9737704918032788)",
           "rgba(0, 100, 200, 0.2)",
           "rgba(0, 100, 200, 0.46229508196721314)",
           "rgba(0, 100, 200, 0.4491803278688525)",
           "rgba(0, 100, 200, 0.4491803278688525)",
           "rgba(0, 100, 200, 0.4885245901639344)",
           "rgba(0, 100, 200, 0.8163934426229509)",
           "rgba(0, 100, 200, 0.9344262295081969)",
           "rgba(0, 100, 200, 0.9737704918032788)",
           "rgba(0, 100, 200, 0.31803278688524594)",
           "rgba(0, 100, 200, 0.6852459016393443)",
           "rgba(0, 100, 200, 0.46229508196721314)",
           "rgba(0, 100, 200, 0.9737704918032788)",
           "rgba(0, 100, 200, 0.8163934426229509)",
           "rgba(0, 100, 200, 0.9737704918032788)",
           "rgba(0, 100, 200, 0.2)",
           "rgba(0, 100, 200, 0.5540983606557377)",
           "rgba(0, 100, 200, 0.5540983606557377)",
           "rgba(0, 100, 200, 0.7245901639344263)",
           "rgba(0, 100, 200, 0.8295081967213116)",
           "rgba(0, 100, 200, 0.777049180327869)",
           "rgba(0, 100, 200, 0.8295081967213116)",
           "rgba(0, 100, 200, 0.4491803278688525)",
           "rgba(0, 100, 200, 0.7508196721311475)",
           "rgba(0, 100, 200, 0.31803278688524594)",
           "rgba(0, 100, 200, 0.4885245901639344)",
           "rgba(0, 100, 200, 0.9737704918032788)",
           "rgba(0, 100, 200, 0.31803278688524594)",
           "rgba(0, 100, 200, 0.9868852459016393)",
           "rgba(0, 100, 200, 0.33114754098360655)",
           "rgba(0, 100, 200, 0.2524590163934426)",
           "rgba(0, 100, 200, 0.2)",
           "rgba(0, 100, 200, 0.9213114754098362)",
           "rgba(0, 100, 200, 0.6459016393442623)",
           "rgba(0, 100, 200, 0.8163934426229509)",
           "rgba(0, 100, 200, 0.2)",
           "rgba(0, 100, 200, 0.4885245901639344)",
           "rgba(0, 100, 200, 0.659016393442623)",
           "rgba(0, 100, 200, 0.2524590163934426)",
           "rgba(0, 100, 200, 0.8426229508196721)",
           "rgba(0, 100, 200, 0.9868852459016393)",
           "rgba(0, 100, 200, 0.2)",
           "rgba(0, 100, 200, 0.4885245901639344)",
           "rgba(0, 100, 200, 0.9868852459016393)",
           "rgba(0, 100, 200, 0.9868852459016393)",
           "rgba(0, 100, 200, 0.9868852459016393)",
           "rgba(0, 100, 200, 0.9475409836065574)",
           "rgba(0, 100, 200, 0.8819672131147542)",
           "rgba(0, 100, 200, 0.6983606557377049)",
           "rgba(0, 100, 200, 0.9737704918032788)",
           "rgba(0, 100, 200, 0.9737704918032788)",
           "rgba(0, 100, 200, 0.9606557377049181)",
           "rgba(0, 100, 200, 0.9475409836065574)",
           "rgba(0, 100, 200, 0.9213114754098362)",
           "rgba(0, 100, 200, 0.9606557377049181)",
           "rgba(0, 100, 200, 0.9868852459016393)",
           "rgba(0, 100, 200, 0.9606557377049181)",
           "rgba(0, 100, 200, 0.9606557377049181)",
           "rgba(0, 100, 200, 0.9868852459016393)",
           "rgba(0, 100, 200, 0.9606557377049181)",
           "rgba(0, 100, 200, 0.9606557377049181)",
           "rgba(0, 100, 200, 0.9868852459016393)",
           "rgba(0, 100, 200, 0.9737704918032788)",
           "rgba(0, 100, 200, 0.9868852459016393)",
           "rgba(0, 100, 200, 0.9868852459016393)",
           "rgba(0, 100, 200, 0.9475409836065574)",
           "rgba(0, 100, 200, 0.9213114754098362)",
           "rgba(0, 100, 200, 0.9868852459016393)",
           "rgba(0, 100, 200, 0.9868852459016393)",
           "rgba(0, 100, 200, 0.9344262295081969)",
           "rgba(0, 100, 200, 0.9868852459016393)",
           "rgba(0, 100, 200, 0.9213114754098362)",
           "rgba(0, 100, 200, 0.9344262295081969)",
           "rgba(0, 100, 200, 0.9606557377049181)",
           "rgba(0, 100, 200, 0.9868852459016393)",
           "rgba(0, 100, 200, 0.8950819672131147)"
          ],
          "customdata": [
           [
            "GENERAL PROCUREMENT",
            "ENERGY AND UTILITIES FOR OFFICES",
            "SAPECCFE3_0000146073",
            23,
            4
           ],
           [
            "GENERAL PROCUREMENT",
            "IT - INFORMATION TECHNOLOGY",
            "SAPECCFE3_0000177840",
            154,
            5
           ],
           [
            "GENERAL PROCUREMENT",
            "MARKETING SERVICES",
            "SAPECCFIP_0000613482",
            282,
            7
           ],
           [
            "GENERAL PROCUREMENT",
            "MOBILITY",
            "SAPECCFE3_0000197170",
            310,
            3
           ],
           [
            "GENERAL PROCUREMENT",
            "OTHER NON GP",
            "SAPECCFE3_0000032382",
            15,
            4
           ],
           [
            "GENERAL PROCUREMENT",
            "PEOPLE SERVICES",
            "SAPECCFE3_0000078268",
            95,
            12
           ],
           [
            "GENERAL PROCUREMENT",
            "PROFESSIONAL SERVICES",
            "SAPECCFE3_0000011277",
            70,
            7
           ],
           [
            "GENERAL PROCUREMENT",
            "SALES SERVICES",
            "SAPECCFE3_0000196519",
            3641,
            5
           ],
           [
            "GENERAL PROCUREMENT",
            "SURPRISE L2",
            "SAPECCFE3_0000153522",
            52,
            4
           ],
           [
            "GENERAL PROCUREMENT",
            "WORKPLACE SERVICES",
            "SAPECCFE3_0000031341",
            1272,
            5
           ],
           [
            "SUPPLY CHAIN",
            "CUSTOM BROKERAGE & FORWARDING AGENCIES",
            "SAPECCFE3_0000184049",
            1044,
            9
           ],
           [
            "SUPPLY CHAIN",
            "PALLETTS PURCHASING",
            "SAPECCFE3_0000082107",
            30,
            1
           ],
           [
            "SUPPLY CHAIN",
            "PALLETTS RENT & LEASE",
            "SAPECCFE3_0000056027",
            168,
            1
           ],
           [
            "SUPPLY CHAIN",
            "PRIMARY TRANSPORTS",
            "SAPECCFE3_0000121401",
            24180,
            3
           ],
           [
            "SUPPLY CHAIN",
            "SECONDARY FREIGHT",
            "SAPECCFE3_0000167330",
            5674,
            3
           ],
           [
            "SUPPLY CHAIN",
            "WAREHOUSING",
            "SAPECCFE3_0000102646",
            303,
            9
           ],
           [
            "TECHNICAL PROCUREMENT",
            "AUTOMATION & MRO",
            "SAPECCFE3_0000013622",
            2077,
            61
           ],
           [
            "TECHNICAL PROCUREMENT",
            "ENERGY",
            "SAPECCFIP_0000613997",
            27,
            2
           ],
           [
            "TECHNICAL PROCUREMENT",
            "INFRASTRUCTURE & INDUSTRIAL",
            "SAPECCFIP_0000107220",
            264,
            3
           ],
           [
            "TECHNICAL PROCUREMENT",
            "PROCESS EQUIPMENT",
            "SAPECCFE3_0000057302",
            46,
            9
           ],
           [
            "AUTOMATION & MRO",
            "INDUSTRIAL AUTOMATION AND ROBOTICS",
            "SAPECCFIP_0000109460",
            46,
            16
           ],
           [
            "AUTOMATION & MRO",
            "MAINTENANCE SERVICES",
            "SAPECCFIP_0000469602",
            198,
            3
           ],
           [
            "AUTOMATION & MRO",
            "TECHNICAL MATERIALS, PPE & CLOTHES",
            "SAPECCFE3_0000013622",
            2067,
            61
           ],
           [
            "CUSTOM BROKERAGE & FORWARDING AGENCIES",
            "FREIGHT FORWARDING AGENCIES",
            "SAPECCFE3_0000184049",
            1044,
            9
           ],
           [
            "ENERGY",
            "ENERGY CERTIFICATES",
            "SAPECCFE3_0000069213",
            2,
            3
           ],
           [
            "ENERGY",
            "ENERGY FOR INDUSTRIAL PLANT",
            "SAPECCFIP_0000613997",
            27,
            2
           ],
           [
            "ENERGY AND UTILITIES FOR OFFICES",
            "UTILITIES FOR OFFICES (LOCAL)",
            "SAPECCFE3_0000146073",
            23,
            4
           ],
           [
            "INFRASTRUCTURE & INDUSTRIAL",
            "B&U PROFESSIONAL SERVICES",
            "SAPECCFIP_0000423335",
            27,
            10
           ],
           [
            "INFRASTRUCTURE & INDUSTRIAL",
            "FACILITY MANAGEMENT HARDSERVICES FOR INDUSTRIAL LOCATIONS",
            "SAPECCFIP_0000609985",
            68,
            2
           ],
           [
            "INFRASTRUCTURE & INDUSTRIAL",
            "FACILITY MANAGEMENT SOFTSERVICES FOR INDUSTRIAL LOCATIONS",
            "SAPECCFIP_0000107220",
            264,
            3
           ],
           [
            "INFRASTRUCTURE & INDUSTRIAL",
            "INFRASTRUCTURE",
            "SAPECCFE3_0000186405",
            36,
            7
           ],
           [
            "INFRASTRUCTURE & INDUSTRIAL",
            "LABORATORY EQUIPMENT AND SERVICES",
            "SAPECCFE3_0000016003",
            135,
            11
           ],
           [
            "IT - INFORMATION TECHNOLOGY",
            "HARDWARE - PURCHASE/LEASING/MAINTENANCE",
            "SAPECCFE3_0000177840",
            152,
            5
           ],
           [
            "IT - INFORMATION TECHNOLOGY",
            "HARDWARE - SUBSCRIPTIONS INFRA",
            "SAPECCFE3_0000183337",
            7,
            12
           ],
           [
            "IT - INFORMATION TECHNOLOGY",
            "OUTSOURCING - NETWORK TRANSMISSION (LOCAL)",
            "SAPECCFE3_0000093606",
            14,
            4
           ],
           [
            "IT - INFORMATION TECHNOLOGY",
            "SERVICES - MANAGED SERVICE",
            "SAPECCFE3_0000017023",
            79,
            13
           ],
           [
            "IT - INFORMATION TECHNOLOGY",
            "SERVICES - T&M/BODY LEASING",
            "SAPECCFE3_0000050091",
            26,
            10
           ],
           [
            "IT - INFORMATION TECHNOLOGY",
            "SOFTWARE - MAINTENANCE FOR PERPETUAL LICENSES",
            "SAPECCFE3_0000182305",
            9,
            1
           ],
           [
            "IT - INFORMATION TECHNOLOGY",
            "SOFTWARE - SUBSCRIPTIONS/LICENSES",
            "SAPECCFE3_0000017520",
            21,
            4
           ],
           [
            "MARKETING SERVICES",
            "CONSUMER RESEARCH (AD-HOC)",
            "SAPECCFE3_0000010183",
            43,
            5
           ],
           [
            "MARKETING SERVICES",
            "CREATIVE DESIGN",
            "SAPECCFE3_0000081139",
            13,
            7
           ],
           [
            "MARKETING SERVICES",
            "CREATIVE DEVELOPMENT & STRATEGY",
            "SAPECCFIP_0000613482",
            141,
            7
           ],
           [
            "MARKETING SERVICES",
            "DIGITAL & SOCIAL MEDIA MARKETING",
            "SAPECCFIP_0000613482",
            82,
            7
           ],
           [
            "MARKETING SERVICES",
            "LICENSING & RIGHTS",
            "SAPECCFE3_0000031538",
            27,
            7
           ],
           [
            "MARKETING SERVICES",
            "MARKET MEASUREMENT",
            "SAPECCFE3_0000180901",
            142,
            2
           ],
           [
            "MARKETING SERVICES",
            "PRODUCTION",
            "SAPECCFE3_0000010296",
            117,
            13
           ],
           [
            "MARKETING SERVICES",
            "PUBLIC RELATIONS",
            "SAPECCFE3_0000167060",
            7,
            7
           ],
           [
            "MARKETING SERVICES",
            "RETAIL PANELS",
            "SAPECCFE3_0000121738",
            192,
            13
           ],
           [
            "MOBILITY",
            "FLEET",
            "SAPECCFE3_0000197170",
            310,
            3
           ],
           [
            "MOBILITY",
            "FLEET (LOCAL)",
            "SAPECCFE3_0000113725",
            70,
            4
           ],
           [
            "MOBILITY",
            "TRAVEL",
            "SAPECCFIP_0000617867",
            201,
            3
           ],
           [
            "MOBILITY",
            "TRAVEL (LOCAL)",
            "SAPECCFE3_0000166455",
            7,
            3
           ],
           [
            "OTHER NON GP",
            "OTHER NON GP SERVICES",
            "SAPECCFE3_0000032382",
            15,
            4
           ],
           [
            "PALLETTS PURCHASING",
            "PALLETTS PURCHASING MTL",
            "SAPECCFE3_0000082107",
            30,
            1
           ],
           [
            "PALLETTS RENT & LEASE",
            "PALLETTS RENT & LEASE SVC",
            "SAPECCFE3_0000056027",
            168,
            1
           ],
           [
            "PEOPLE SERVICES",
            "EMPLOYEE SERVICES",
            "SAPECCFE3_0000187695",
            94,
            1
           ],
           [
            "PEOPLE SERVICES",
            "EMPLOYEE SERVICES (LOCAL)",
            "SAPECCFE3_0000146255",
            22,
            2
           ],
           [
            "PEOPLE SERVICES",
            "EVENTS",
            "SAPECCFE3_0000208804",
            31,
            4
           ],
           [
            "PEOPLE SERVICES",
            "EVENTS (LOCAL)",
            "SAPECCFE3_0000018760",
            2,
            1
           ],
           [
            "PEOPLE SERVICES",
            "PAYROLL",
            "SAPECCFE3_0000105400",
            50,
            1
           ],
           [
            "PEOPLE SERVICES",
            "RECRUITMENT SERVICE",
            "SAPECCFE3_0000078268",
            83,
            12
           ],
           [
            "PEOPLE SERVICES",
            "RELOCATION",
            "SAPECCFE3_0000187306",
            14,
            2
           ],
           [
            "PEOPLE SERVICES",
            "TEMPORARY PERSONNEL",
            "SAPECCFE3_0000156350",
            17,
            1
           ],
           [
            "PEOPLE SERVICES",
            "TEMPORARY PERSONNEL (LOCAL)",
            "SAPECCFE3_0000032508",
            1,
            1
           ],
           [
            "PEOPLE SERVICES",
            "TRAINING",
            "SAPECCFE3_0000168106",
            13,
            4
           ],
           [
            "PEOPLE SERVICES",
            "TRAINING (LOCAL)",
            "SAPECCFE3_0000167666",
            6,
            9
           ],
           [
            "PRIMARY TRANSPORTS",
            "AIR FREIGHT TRANSPORT",
            "SAPECCFE3_0000038050",
            38,
            12
           ],
           [
            "PRIMARY TRANSPORTS",
            "EXPORT OTHER COMMODITIES (AUTOMATIC)",
            "SAPECCFE3_0000013003",
            95,
            17
           ],
           [
            "PRIMARY TRANSPORTS",
            "OTHER LOGISTICS COSTS",
            "SAPECCFE3_0000164335",
            120,
            21
           ],
           [
            "PRIMARY TRANSPORTS",
            "RAIL TRANSPORT",
            "SAPECCFE3_0000019514",
            2,
            19
           ],
           [
            "PRIMARY TRANSPORTS",
            "ROAD TRANSPORT",
            "SAPECCFE3_0000121401",
            24180,
            3
           ],
           [
            "PRIMARY TRANSPORTS",
            "SEA TRANSPORT",
            "SAPECCFE3_0000013003",
            455,
            17
           ],
           [
            "PROCESS EQUIPMENT",
            "MOLDING & OVENS",
            "SAPECCFE3_0000057302",
            40,
            9
           ],
           [
            "PROCESS EQUIPMENT",
            "NUTS EQUIPMENT & AGRI MOBILE MACHINE",
            "SAPECCFE3_0000049256",
            9,
            26
           ],
           [
            "PROCESS EQUIPMENT",
            "PREPARATION",
            "SAPECCFIP_0000173452",
            14,
            23
           ],
           [
            "PROCESS EQUIPMENT",
            "PRIMARY PACKAGING",
            "SAPECCFE3_0000067920",
            10,
            31
           ],
           [
            "PROCESS EQUIPMENT",
            "SECONDARY PACKAGING",
            "SAPECCFIP_0000430005",
            11,
            10
           ],
           [
            "PROCESS EQUIPMENT",
            "STANDALONE EQUIPMENT",
            "SAPECCFE3_0000012823",
            20,
            17
           ],
           [
            "PROCESS EQUIPMENT",
            "WAREHOUSE & LOGISTIC",
            "SAPECCFE3_0000056883",
            45,
            1
           ],
           [
            "PROFESSIONAL SERVICES",
            "ADMINISTRATIVE SERVICES",
            "SAPECCFE3_0000082164",
            42,
            10
           ],
           [
            "PROFESSIONAL SERVICES",
            "CERTIFICATIONS",
            "SAPECCFE3_0000015507",
            4,
            6
           ],
           [
            "PROFESSIONAL SERVICES",
            "CONSULTANCY SERVICES",
            "SAPECCFE3_0000030153",
            17,
            6
           ],
           [
            "PROFESSIONAL SERVICES",
            "INSURANCE SERVICES",
            "SAPECCFE3_0000011277",
            70,
            7
           ],
           [
            "PROFESSIONAL SERVICES",
            "INSURANCE SERVICES (LOCAL)",
            "SAPECCFE3_0000070123",
            2,
            1
           ],
           [
            "PROFESSIONAL SERVICES",
            "LEGAL & NOTARY SERVICES (LOCAL)",
            "SAPECCFE3_0000190494",
            2,
            1
           ],
           [
            "PROFESSIONAL SERVICES",
            "LEGAL & TAX SERVICES",
            "SAPECCFE3_0000126032",
            19,
            1
           ],
           [
            "PROFESSIONAL SERVICES",
            "LEGAL CONSULTING (LOCAL)",
            "SAPECCFE3_0000078825",
            10,
            1
           ],
           [
            "PROFESSIONAL SERVICES",
            "OTHER CONSULTING (LOCAL)",
            "SAPECCFE3_0000161292",
            2,
            2
           ],
           [
            "PROFESSIONAL SERVICES",
            "SUBSCRIPTIONS/MEMBERSHIPS",
            "SAPECCFIP_0000618541",
            49,
            1
           ],
           [
            "SALES SERVICES",
            "COMMERCIAL QUALITY AND FRESHNESS",
            "SAPECCFIP_0000602427",
            72,
            4
           ],
           [
            "SALES SERVICES",
            "CONSUMERS PROMOTION ACTIVITIES",
            "SAPECCFE3_0000172755",
            88,
            3
           ],
           [
            "SALES SERVICES",
            "GADGETS",
            "SAPECCFE3_0000165845",
            21,
            2
           ],
           [
            "SALES SERVICES",
            "MARKETING EVENTS",
            "SAPECCFE3_0000011457",
            7,
            8
           ],
           [
            "SALES SERVICES",
            "MERCHANDISING & HOSTESS & BROKER COMMISSIONS",
            "SAPECCFE3_0000197116",
            50,
            2
           ],
           [
            "SALES SERVICES",
            "OTHER SALES SERVICES",
            "SAPECCFIP_0000615418",
            31,
            1
           ],
           [
            "SALES SERVICES",
            "POS MATERIAL",
            "SAPECCFE3_0000196519",
            3641,
            5
           ],
           [
            "SALES SERVICES",
            "PROMOTIONAL ITEMS",
            "SAPECCFE3_0000055467",
            55,
            2
           ],
           [
            "SALES SERVICES",
            "SPONSORING",
            "SAPECCFE3_0000190685",
            97,
            4
           ],
           [
            "SALES SERVICES",
            "TECHNICAL DEVICES FOR POS",
            "SAPECCFE3_0000188355",
            41,
            19
           ],
           [
            "SECONDARY FREIGHT",
            "DISTRIBUTION",
            "SAPECCFE3_0000167330",
            5674,
            3
           ],
           [
            "SURPRISE L2",
            "SURPRISE L3",
            "SAPECCFE3_0000153522",
            52,
            4
           ],
           [
            "WAREHOUSING",
            "ADMINISTRATION COST",
            "SAPECCFE3_0000061548",
            41,
            5
           ],
           [
            "WAREHOUSING",
            "BONUS / MALUS (WAREHOUSING)",
            "SAPECCFE3_0000052763",
            1,
            9
           ],
           [
            "WAREHOUSING",
            "FUMIGATION",
            "SAPECCFE3_0000185303",
            2,
            4
           ],
           [
            "WAREHOUSING",
            "HANDLING",
            "SAPECCFE3_0000164335",
            168,
            21
           ],
           [
            "WAREHOUSING",
            "MAN WORK PER HOUR",
            "SAPECCFE3_0000171147",
            3,
            7
           ],
           [
            "WAREHOUSING",
            "PICKING",
            "SAPECCFE3_0000061548",
            34,
            5
           ],
           [
            "WAREHOUSING",
            "REPACKING",
            "SAPECCFE3_0000198306",
            160,
            7
           ],
           [
            "WAREHOUSING",
            "STORAGE",
            "SAPECCFE3_0000102646",
            303,
            9
           ],
           [
            "WAREHOUSING",
            "WAREHOUSING LOCATION & LEASING",
            "SAPECCFE3_0000165223",
            17,
            5
           ],
           [
            "WAREHOUSING",
            "WASTE MANAGEMENT",
            "SAPECCFE3_0000130617",
            2,
            8
           ],
           [
            "WORKPLACE SERVICES",
            "CLEANING",
            "SAPECCFE3_0000076876",
            66,
            1
           ],
           [
            "WORKPLACE SERVICES",
            "CLEANING (LOCAL)",
            "SAPECCFE3_0000168740",
            69,
            6
           ],
           [
            "WORKPLACE SERVICES",
            "FOOD SERVICES",
            "SAPECCFIP_0000618829",
            104,
            1
           ],
           [
            "WORKPLACE SERVICES",
            "FOOD SERVICES (LOCAL)",
            "SAPECCFE3_0000147063",
            79,
            2
           ],
           [
            "WORKPLACE SERVICES",
            "MAINTENANCE & IMPROVEMENTS",
            "SAPECCFE3_0000174924",
            44,
            40
           ],
           [
            "WORKPLACE SERVICES",
            "MAINTENANCE & IMPROVEMENTS (LOCAL)",
            "SAPECCFE3_0000070050",
            16,
            23
           ],
           [
            "WORKPLACE SERVICES",
            "OFFICE SUPPLIES AND SERVICES",
            "SAPECCFE3_0000031341",
            1272,
            5
           ],
           [
            "WORKPLACE SERVICES",
            "OFFICE SUPPLIES AND SERVICES (LOCAL)",
            "SAPECCFE3_0000168740",
            48,
            6
           ],
           [
            "WORKPLACE SERVICES",
            "REAL ESTATE",
            "SAPECCFE3_0000150512",
            26,
            2
           ],
           [
            "WORKPLACE SERVICES",
            "REAL ESTATE (LOCAL)",
            "SAPECCFE3_0000191553",
            8,
            1
           ],
           [
            "WORKPLACE SERVICES",
            "SECURITY",
            "SAPECCFE3_0000107756",
            76,
            1
           ],
           [
            "WORKPLACE SERVICES",
            "SECURITY (LOCAL)",
            "SAPECCFE3_0000100759",
            2,
            1
           ],
           [
            "WORKPLACE SERVICES",
            "UTILITIES",
            "SAPECCFE3_0000050865",
            10,
            3
           ],
           [
            "ADMINISTRATION COST",
            "Administrative Costs Warehousing",
            "SAPECCFE3_0000061548",
            41,
            5
           ],
           [
            "ADMINISTRATIVE SERVICES",
            "Employees tax services",
            "SAPECCFE3_0000082164",
            6,
            10
           ],
           [
            "ADMINISTRATIVE SERVICES",
            "Financial Audit",
            "SAPECCFE3_0000149981",
            8,
            1
           ],
           [
            "ADMINISTRATIVE SERVICES",
            "Other auditing",
            "SAPECCFE3_0000029421",
            3,
            1
           ],
           [
            "ADMINISTRATIVE SERVICES",
            "Outsourcing of administrative services (bpo)",
            "SAPECCFE3_0000082164",
            36,
            10
           ],
           [
            "ADMINISTRATIVE SERVICES",
            "Services for credit collection",
            "SAPECCFE3_0000019908",
            1,
            2
           ],
           [
            "AIR FREIGHT TRANSPORT",
            "Air Freight Export Fees Costs",
            "SAPECCFE3_0000039063",
            13,
            9
           ],
           [
            "AIR FREIGHT TRANSPORT",
            "Air Freight Transportation Finished Goods",
            "SAPECCFE3_0000164335",
            10,
            21
           ],
           [
            "AIR FREIGHT TRANSPORT",
            "Air Packaging",
            "SAPECCFE3_0000161121",
            3,
            1
           ],
           [
            "AIR FREIGHT TRANSPORT",
            "Air RAW MATERIALS",
            "SAPECCFE3_0000038050",
            2,
            12
           ],
           [
            "AIR FREIGHT TRANSPORT",
            "Air SEMI-FINISHED GOODS",
            "SAPECCFE3_0000038050",
            9,
            12
           ],
           [
            "AIR FREIGHT TRANSPORT",
            "Air Surprises",
            "SAPECCFE3_0000038050",
            25,
            12
           ],
           [
            "B&U PROFESSIONAL SERVICES",
            "Design Services",
            "SAPECCFIP_0000423335",
            27,
            10
           ],
           [
            "B&U PROFESSIONAL SERVICES",
            "Health and Safety - Site Supervision",
            "SAPECCFE3_0000173575",
            12,
            3
           ],
           [
            "B&U PROFESSIONAL SERVICES",
            "Property Cost Estimation & Acquisition",
            "SAPECCFE3_0000179040",
            5,
            2
           ],
           [
            "B&U PROFESSIONAL SERVICES",
            "Site supervision",
            "SAPECCFE3_0000034572",
            2,
            7
           ],
           [
            "B&U PROFESSIONAL SERVICES",
            "Technical certifications, engineering-related consulting(TS)",
            "SAPECCFE3_0000034572",
            5,
            7
           ],
           [
            "BONUS / MALUS (WAREHOUSING)",
            "Bonus / Malus Warehousing",
            "SAPECCFE3_0000052763",
            1,
            9
           ],
           [
            "CERTIFICATIONS",
            "Environmental Analysis",
            "SAPECCFE3_0000046357",
            4,
            1
           ],
           [
            "CERTIFICATIONS",
            "Standard certifications",
            "SAPECCFE3_0000014032",
            2,
            5
           ],
           [
            "CERTIFICATIONS",
            "Surprises certification",
            "SAPECCFE3_0000015507",
            4,
            6
           ],
           [
            "CLEANING",
            "Cleaning, Waste,Pest Services and Material for No Industrial",
            "SAPECCFE3_0000076876",
            66,
            1
           ],
           [
            "CLEANING (LOCAL)",
            "TR - Cleaning services (GenAdm)",
            "SAPECCFE3_0000168740",
            41,
            6
           ],
           [
            "CLEANING (LOCAL)",
            "TR - Cleaning services (GenProd)",
            "SAPECCFE3_0000168740",
            28,
            6
           ],
           [
            "CLEANING (LOCAL)",
            "TR - Pest Control services (GenProd)",
            "SAPECCFE3_0000197074",
            6,
            21
           ],
           [
            "COMMERCIAL QUALITY AND FRESHNESS",
            "Commercial Quality and Freshness monitoring",
            "SAPECCFIP_0000602427",
            72,
            4
           ],
           [
            "CONSULTANCY SERVICES",
            "Function related / professional consultancy",
            "SAPECCFE3_0000030153",
            11,
            6
           ],
           [
            "CONSULTANCY SERVICES",
            "M&A related consultancies",
            "SAPECCFE3_0000212775",
            2,
            1
           ],
           [
            "CONSULTANCY SERVICES",
            "Strategic, Managerial & organizational consulting",
            "SAPECCFE3_0000167751",
            10,
            1
           ],
           [
            "CONSUMER RESEARCH (AD-HOC)",
            "Other research activities on consumer, shopper and citizen",
            "SAPECCFE3_0000162266",
            7,
            3
           ],
           [
            "CONSUMER RESEARCH (AD-HOC)",
            "Research activities for qualifying Innovation initiatives",
            "SAPECCFE3_0000010422",
            35,
            3
           ],
           [
            "CONSUMER RESEARCH (AD-HOC)",
            "Research activities to assess the ADV/Communication Perf.",
            "SAPECCFE3_0000010404",
            19,
            2
           ],
           [
            "CONSUMER RESEARCH (AD-HOC)",
            "Researches to understand Consumers, Shopper, Markets",
            "SAPECCFE3_0000010183",
            12,
            5
           ],
           [
            "CONSUMERS PROMOTION ACTIVITIES",
            "Design & Management of Digital Promotion",
            "SAPECCFE3_0000172755",
            24,
            3
           ],
           [
            "CONSUMERS PROMOTION ACTIVITIES",
            "Design & Management of non Digital Promotion",
            "SAPECCFE3_0000011139",
            39,
            5
           ],
           [
            "CONSUMERS PROMOTION ACTIVITIES",
            "Discount Coupons",
            "SAPECCFE3_0000172755",
            64,
            3
           ],
           [
            "CONSUMERS PROMOTION ACTIVITIES",
            "OTHER SALE DISCOUNTS",
            "SAPECCFE3_0000141553",
            5,
            1
           ],
           [
            "CREATIVE DESIGN",
            "Packaging & POS - Artwork, Technical finalization&Templates",
            "SAPECCFE3_0000153914",
            11,
            8
           ],
           [
            "CREATIVE DESIGN",
            "Packaging & POS - Creative Concept",
            "SAPECCFE3_0000190621",
            13,
            9
           ],
           [
            "CREATIVE DESIGN",
            "Packaging & POS - Mockups / Samples",
            "SAPECCFE3_0000171546",
            4,
            4
           ],
           [
            "CREATIVE DESIGN",
            "Surprises - Creative Concepts DIGITAL",
            "SAPECCFE3_0000185397",
            2,
            6
           ],
           [
            "CREATIVE DESIGN",
            "Surprises - Creative Concepts TRADITIONAL",
            "SAPECCFE3_0000160795",
            3,
            2
           ],
           [
            "CREATIVE DESIGN",
            "Surprises - Marketing Sheets",
            "SAPECCFE3_0000156783",
            7,
            3
           ],
           [
            "CREATIVE DESIGN",
            "Surprises - Technical Development",
            "SAPECCFE3_0000156851",
            5,
            1
           ],
           [
            "CREATIVE DEVELOPMENT & STRATEGY",
            "Brand & Communication Strategy",
            "SAPECCFE3_0000189561",
            14,
            4
           ],
           [
            "CREATIVE DEVELOPMENT & STRATEGY",
            "Creative Concept for Advertising Campaigns DIGITAL",
            "SAPECCFE3_0000083957",
            46,
            17
           ],
           [
            "CREATIVE DEVELOPMENT & STRATEGY",
            "Creative Concept for Advertising Campaigns TRADITIONAL",
            "SAPECCFIP_0000613482",
            141,
            7
           ],
           [
            "DIGITAL & SOCIAL MEDIA MARKETING",
            "E-commerce Advertising Creative Development",
            "SAPECCFIP_0000617114",
            24,
            3
           ],
           [
            "DIGITAL & SOCIAL MEDIA MARKETING",
            "E-commerce Advertising Production",
            "SAPECCFE3_0000153914",
            4,
            8
           ],
           [
            "DIGITAL & SOCIAL MEDIA MARKETING",
            "Influencers & Testimonials",
            "SAPECCFE3_0000189368",
            7,
            8
           ],
           [
            "DIGITAL & SOCIAL MEDIA MARKETING",
            "SEO/SEM",
            "SAPECCFE3_0000188455",
            2,
            3
           ],
           [
            "DIGITAL & SOCIAL MEDIA MARKETING",
            "Social Media Management",
            "SAPECCFIP_0000613482",
            82,
            7
           ],
           [
            "DIGITAL & SOCIAL MEDIA MARKETING",
            "Website / App Creation & Maintenance",
            "SAPECCFE3_0000083957",
            58,
            17
           ],
           [
            "DISTRIBUTION",
            "Control Tower Services",
            "SAPECCFE3_0000157198",
            12,
            6
           ],
           [
            "DISTRIBUTION",
            "Distribution to Customers and Returned Goods from Customers",
            "SAPECCFE3_0000167330",
            5674,
            3
           ],
           [
            "EMPLOYEE SERVICES",
            "Cash Donations",
            "SAPECCFE3_0000171518",
            2,
            1
           ],
           [
            "EMPLOYEE SERVICES",
            "Donations",
            "SAPECCFE3_0000167666",
            2,
            9
           ],
           [
            "EMPLOYEE SERVICES",
            "Donations to employees",
            "SAPECCFE3_0000017796",
            33,
            2
           ],
           [
            "EMPLOYEE SERVICES",
            "Employees Transport Services",
            "SAPECCFE3_0000187695",
            94,
            1
           ],
           [
            "EMPLOYEE SERVICES",
            "Employees event and social activities cost",
            "SAPECCFE3_0000110897",
            51,
            4
           ],
           [
            "EMPLOYEE SERVICES",
            "Health and Safety GP",
            "SAPECCFE3_0000146308",
            10,
            6
           ],
           [
            "EMPLOYEE SERVICES",
            "Medical Services",
            "SAPECCFE3_0000110997",
            71,
            1
           ],
           [
            "EMPLOYEE SERVICES",
            "Recreation employees benefits",
            "SAPECCFIP_0000351571",
            72,
            1
           ],
           [
            "EMPLOYEE SERVICES",
            "School & Kinder garden fees",
            "SAPECCFE3_0000030448",
            3,
            1
           ],
           [
            "EMPLOYEE SERVICES",
            "Translations and interpreting services",
            "SAPECCFE3_0000064374",
            9,
            4
           ],
           [
            "EMPLOYEE SERVICES (LOCAL)",
            "TR - Donations to employees (GenAdm)",
            "SAPECCFE3_0000070133",
            1,
            3
           ],
           [
            "EMPLOYEE SERVICES (LOCAL)",
            "TR - Employees Transport Services (GenAdm)",
            "SAPECCFE3_0000146255",
            9,
            2
           ],
           [
            "EMPLOYEE SERVICES (LOCAL)",
            "TR - Employees Transport Services (GenProd)",
            "SAPECCFE3_0000101447",
            14,
            2
           ],
           [
            "EMPLOYEE SERVICES (LOCAL)",
            "TR - Employees event and social activities cost (GenAdm)",
            "SAPECCFE3_0000167666",
            8,
            9
           ],
           [
            "EMPLOYEE SERVICES (LOCAL)",
            "TR - Employees event and social activities cost (GenProd)",
            "SAPECCFE3_0000186056",
            2,
            9
           ],
           [
            "EMPLOYEE SERVICES (LOCAL)",
            "TR - Health and Safety (GenAdm)",
            "SAPECCFE3_0000200696",
            10,
            2
           ],
           [
            "EMPLOYEE SERVICES (LOCAL)",
            "TR - Health and Safety (GenProd)",
            "SAPECCFE3_0000184643",
            17,
            4
           ],
           [
            "EMPLOYEE SERVICES (LOCAL)",
            "TR - Translations and interpreting services (GenAdm)",
            "SAPECCFE3_0000145831",
            5,
            4
           ],
           [
            "ENERGY CERTIFICATES",
            "Energy certifications for power",
            "SAPECCFE3_0000069213",
            2,
            3
           ],
           [
            "ENERGY FOR INDUSTRIAL PLANT",
            "Electrical Energy for Industrial Plant",
            "SAPECCFIP_0000613997",
            18,
            2
           ],
           [
            "ENERGY FOR INDUSTRIAL PLANT",
            "Fuel for industrial plant",
            "SAPECCFE3_0000077090",
            3,
            5
           ],
           [
            "ENERGY FOR INDUSTRIAL PLANT",
            "Gas for Industrial Plant",
            "SAPECCFE3_0000139924",
            11,
            2
           ],
           [
            "ENERGY FOR INDUSTRIAL PLANT",
            "TR - Other Fuel Exp - no deductible",
            "SAPECCFE3_0000199709",
            1,
            2
           ],
           [
            "ENERGY FOR INDUSTRIAL PLANT",
            "TR - PURCHASE DISTRICT HEATING (GENADM)",
            "SAPECCFE3_0000168129",
            10,
            2
           ],
           [
            "EVENTS",
            "Corporate event Expenses",
            "SAPECCFE3_0000208804",
            31,
            4
           ],
           [
            "EVENTS",
            "Entertainment expenses (No deductible)",
            "SAPECCFE3_0000124143",
            3,
            3
           ],
           [
            "EVENTS",
            "No Commercial Sponsorships",
            "SAPECCFE3_0000189859",
            2,
            1
           ],
           [
            "EVENTS",
            "Public relation costs",
            "SAPECCFE3_0000187443",
            22,
            2
           ],
           [
            "EVENTS (LOCAL)",
            "ITL - Altre spese di rappresentanza",
            "SAPECCFE3_0000077000",
            2,
            2
           ],
           [
            "EVENTS (LOCAL)",
            "ITL - Spese di rappresentanza",
            "SAPECCFE3_0000018760",
            2,
            1
           ],
           [
            "EVENTS (LOCAL)",
            "ITL - Spese di rappresentanza min valore",
            "SAPECCFE3_0000209105",
            1,
            2
           ],
           [
            "EXPORT OTHER COMMODITIES (AUTOMATIC)",
            "Transport Intermediate Products",
            "SAPECCFE3_0000013003",
            66,
            17
           ],
           [
            "EXPORT OTHER COMMODITIES (AUTOMATIC)",
            "Transport Packaging",
            "SAPECCFE3_0000090187",
            1,
            6
           ],
           [
            "EXPORT OTHER COMMODITIES (AUTOMATIC)",
            "Transport Raw Materials",
            "SAPECCFE3_0000039063",
            1,
            9
           ],
           [
            "EXPORT OTHER COMMODITIES (AUTOMATIC)",
            "Transport Semi Finished",
            "SAPECCFE3_0000013003",
            23,
            17
           ],
           [
            "EXPORT OTHER COMMODITIES (AUTOMATIC)",
            "Transport Surprises",
            "SAPECCFE3_0000013003",
            6,
            17
           ],
           [
            "FACILITY MANAGEMENT HARDSERVICES FOR INDUSTRIAL LOCATIONS",
            "Civil maintenance",
            "SAPECCFIP_0000609985",
            68,
            2
           ],
           [
            "FACILITY MANAGEMENT HARDSERVICES FOR INDUSTRIAL LOCATIONS",
            "Electrical Maintenance",
            "SAPECCFE3_0000193904",
            19,
            1
           ],
           [
            "FACILITY MANAGEMENT HARDSERVICES FOR INDUSTRIAL LOCATIONS",
            "Integrated Facility Maintenance",
            "SAPECCFE3_0000029969",
            2,
            6
           ],
           [
            "FACILITY MANAGEMENT HARDSERVICES FOR INDUSTRIAL LOCATIONS",
            "Mechanical maintenance",
            "SAPECCFE3_0000118363",
            14,
            7
           ],
           [
            "FACILITY MANAGEMENT SOFTSERVICES FOR INDUSTRIAL LOCATIONS",
            "Cleaning Consultancy and Services",
            "SAPECCFIP_0000107220",
            264,
            3
           ],
           [
            "FACILITY MANAGEMENT SOFTSERVICES FOR INDUSTRIAL LOCATIONS",
            "Pest Control",
            "SAPECCFE3_0000159626",
            25,
            2
           ],
           [
            "FACILITY MANAGEMENT SOFTSERVICES FOR INDUSTRIAL LOCATIONS",
            "Technical Cleaning material",
            "SAPECCFE3_0000012059",
            177,
            7
           ],
           [
            "FACILITY MANAGEMENT SOFTSERVICES FOR INDUSTRIAL LOCATIONS",
            "Waste Management for industrial location",
            "SAPECCFIP_0000607982",
            15,
            3
           ],
           [
            "FACILITY MANAGEMENT SOFTSERVICES FOR INDUSTRIAL LOCATIONS",
            "Waste Water Treatment Services",
            "SAPECCFE3_0000162573",
            7,
            2
           ],
           [
            "FLEET",
            "Company Vehicles - Fuel, Oil and other",
            "SAPECCFIP_0000617867",
            53,
            3
           ],
           [
            "FLEET",
            "Company Vehicles - Lease",
            "SAPECCFIP_0000616752",
            96,
            2
           ],
           [
            "FLEET",
            "Company Vehicles - Maintenance costs",
            "SAPECCFE3_0000197170",
            216,
            3
           ],
           [
            "FLEET",
            "Company Vehicles - Management costs",
            "SAPECCFE3_0000052891",
            7,
            1
           ],
           [
            "FLEET",
            "Company Vehicles - Other vehicles",
            "SAPECCFIP_0000617635",
            6,
            2
           ],
           [
            "FLEET",
            "Company Vehicles - Purchase",
            "SAPECCFE3_0000208307",
            3,
            1
           ],
           [
            "FLEET (LOCAL)",
            "TR - Company Vehicles - Fuel, Oil and other (GenAdm)",
            "SAPECCFE3_0000113725",
            41,
            4
           ],
           [
            "FLEET (LOCAL)",
            "TR - Company Vehicles - Fuel, Oil and other (GenProd)",
            "SAPECCFE3_0000113725",
            29,
            4
           ],
           [
            "FLEET (LOCAL)",
            "TR - Company Vehicles - Lease (GenAdm)",
            "SAPECCFE3_0000070129",
            16,
            5
           ],
           [
            "FLEET (LOCAL)",
            "TR - Company Vehicles - Lease (GenProd)",
            "SAPECCFE3_0000070129",
            6,
            5
           ],
           [
            "FLEET (LOCAL)",
            "TR - Company Vehicles - Lease (S-Wh)",
            "SAPECCFE3_0000070129",
            3,
            5
           ],
           [
            "FLEET (LOCAL)",
            "TR - Company Vehicles - Maintenance costs (GenProd)",
            "SAPECCFE3_0000146075",
            1,
            2
           ],
           [
            "FOOD SERVICES",
            "CANTEEN SERVICES",
            "SAPECCFIP_0000618829",
            104,
            1
           ],
           [
            "FOOD SERVICES",
            "Catering services",
            "SAPECCFE3_0000184235",
            31,
            2
           ],
           [
            "FOOD SERVICES",
            "TICKETS RESTAURANT",
            "SAPECCFE3_0000093418",
            65,
            5
           ],
           [
            "FOOD SERVICES (LOCAL)",
            "TR - Canteen Services (GenAdm)",
            "SAPECCFE3_0000147063",
            44,
            2
           ],
           [
            "FOOD SERVICES (LOCAL)",
            "TR - Canteen Services (GenProd)",
            "SAPECCFE3_0000147063",
            35,
            2
           ],
           [
            "FREIGHT FORWARDING AGENCIES",
            "CUSTOM DECLARATION SERVICES",
            "SAPECCFE3_0000128315",
            60,
            3
           ],
           [
            "FREIGHT FORWARDING AGENCIES",
            "Customs Docum./Forwarder Services Finish Products",
            "SAPECCFE3_0000157987",
            467,
            7
           ],
           [
            "FREIGHT FORWARDING AGENCIES",
            "Customs Docum./Forwarder Services Interm-Finished Prd-FI",
            "SAPECCFE3_0000164335",
            284,
            21
           ],
           [
            "FREIGHT FORWARDING AGENCIES",
            "Customs Docum./Forwarder Services Packaging",
            "SAPECCFE3_0000184049",
            69,
            9
           ],
           [
            "FREIGHT FORWARDING AGENCIES",
            "Customs Docum./Forwarder Services RAW MATERIALS",
            "SAPECCFE3_0000197063",
            81,
            8
           ],
           [
            "FREIGHT FORWARDING AGENCIES",
            "Customs Docum./Forwarder Services SEMI-FINISHED GOODS",
            "SAPECCFE3_0000119430",
            42,
            11
           ],
           [
            "FREIGHT FORWARDING AGENCIES",
            "Customs Docum./Forwarder Services Surprises",
            "SAPECCFE3_0000184049",
            609,
            9
           ],
           [
            "FUMIGATION",
            "Fumigation RAW MATERIALS",
            "SAPECCFE3_0000210638",
            1,
            1
           ],
           [
            "FUMIGATION",
            "Fumigation Svc",
            "SAPECCFE3_0000185303",
            2,
            4
           ],
           [
            "GADGETS",
            "GADGET",
            "SAPECCFE3_0000085062",
            7,
            11
           ],
           [
            "GADGETS",
            "GADGET OTHER",
            "SAPECCFE3_0000152295",
            2,
            5
           ],
           [
            "GADGETS",
            "In-Pack Gadgets_Commercial Co-Pack",
            "SAPECCFE3_0000010471",
            8,
            12
           ],
           [
            "GADGETS",
            "In-Pack Gadgets_Industrial co-pack",
            "SAPECCFE3_0000165845",
            21,
            2
           ],
           [
            "GADGETS",
            "Services Gadget",
            "SAPECCFE3_0000101385",
            3,
            4
           ],
           [
            "HANDLING",
            "Forklift And Machinery Rentals (Ops)",
            "SAPECCFE3_0000099619",
            5,
            1
           ],
           [
            "HANDLING",
            "Handling Finish Products",
            "SAPECCFE3_0000164335",
            31,
            21
           ],
           [
            "HANDLING",
            "Handling Interm-Finished Prd-FI",
            "SAPECCFE3_0000164335",
            88,
            21
           ],
           [
            "HANDLING",
            "Handling RAW MATERIALS",
            "SAPECCFE3_0000164335",
            49,
            21
           ],
           [
            "HANDLING",
            "Handling Services",
            "SAPECCFE3_0000061548",
            45,
            5
           ],
           [
            "HARDWARE - PURCHASE/LEASING/MAINTENANCE",
            "Hardware - Leasing End-User Computing",
            "SAPECCFE3_0000012558",
            31,
            7
           ],
           [
            "HARDWARE - PURCHASE/LEASING/MAINTENANCE",
            "Hardware - Leasing High Value Server&Storage (>5000$)",
            "SAPECCFE3_0000011180",
            41,
            6
           ],
           [
            "HARDWARE - PURCHASE/LEASING/MAINTENANCE",
            "Hardware - Leasing Low Value Server&Storage (<5000$)",
            "SAPECCFE3_0000113445",
            4,
            1
           ],
           [
            "HARDWARE - PURCHASE/LEASING/MAINTENANCE",
            "Hardware - Leasing Printers",
            "SAPECCFE3_0000146450",
            5,
            2
           ],
           [
            "HARDWARE - PURCHASE/LEASING/MAINTENANCE",
            "Hardware - Maintenance",
            "SAPECCFE3_0000088928",
            19,
            9
           ],
           [
            "HARDWARE - PURCHASE/LEASING/MAINTENANCE",
            "Hardware - Maintenance Server&Storage",
            "SAPECCFE3_0000179494",
            20,
            2
           ],
           [
            "HARDWARE - PURCHASE/LEASING/MAINTENANCE",
            "Hardware - Maintenance Voice and Data Network",
            "SAPECCFE3_0000102345",
            8,
            4
           ],
           [
            "HARDWARE - PURCHASE/LEASING/MAINTENANCE",
            "Hardware - Purchase End-User Computing CAPEX",
            "SAPECCFE3_0000184630",
            82,
            3
           ],
           [
            "HARDWARE - PURCHASE/LEASING/MAINTENANCE",
            "Hardware - Purchase Server&Storage CAPEX",
            "SAPECCFE3_0000177840",
            112,
            5
           ],
           [
            "HARDWARE - PURCHASE/LEASING/MAINTENANCE",
            "Hardware - Purchase Voice and Data Network CAPEX",
            "SAPECCFE3_0000050996",
            36,
            5
           ],
           [
            "HARDWARE - PURCHASE/LEASING/MAINTENANCE",
            "Hardware - Purchase for Mobile devices",
            "SAPECCFE3_0000181240",
            8,
            4
           ],
           [
            "HARDWARE - PURCHASE/LEASING/MAINTENANCE",
            "Hardware - Purchase for Videoconference devices",
            "SAPECCFE3_0000178168",
            6,
            9
           ],
           [
            "HARDWARE - PURCHASE/LEASING/MAINTENANCE",
            "Hardware-Leasing High Value Voice and Data Network (>5000$)",
            "SAPECCFE3_0000011180",
            12,
            6
           ],
           [
            "HARDWARE - PURCHASE/LEASING/MAINTENANCE",
            "Hardware-Leasing Low Value Voice and Data Network (<5000$)",
            "SAPECCFE3_0000182903",
            8,
            1
           ],
           [
            "HARDWARE - SUBSCRIPTIONS INFRA",
            "Hardware - Server&Storage (IaaS)",
            "SAPECCFE3_0000183337",
            7,
            12
           ],
           [
            "INDUSTRIAL AUTOMATION AND ROBOTICS",
            "Automation Technical Materials",
            "SAPECCFIP_0000109460",
            37,
            16
           ],
           [
            "INDUSTRIAL AUTOMATION AND ROBOTICS",
            "Automation professional services",
            "SAPECCFE3_0000043459",
            9,
            10
           ],
           [
            "INDUSTRIAL AUTOMATION AND ROBOTICS",
            "CPX - Automation and Digital Software",
            "SAPECCFE3_0000015255",
            3,
            14
           ],
           [
            "INDUSTRIAL AUTOMATION AND ROBOTICS",
            "CPX Electrical and Automation Cabinets",
            "SAPECCFIP_0000423335",
            46,
            10
           ],
           [
            "INDUSTRIAL AUTOMATION AND ROBOTICS",
            "CPX Industrial robotic application system",
            "SAPECCFE3_0000015246",
            5,
            3
           ],
           [
            "INDUSTRIAL AUTOMATION AND ROBOTICS",
            "CPX-Flexible & Advanced Robotics (e.g. cobots,AGV/AMR,drones",
            "SAPECCFE3_0000183000",
            1,
            1
           ],
           [
            "INDUSTRIAL AUTOMATION AND ROBOTICS",
            "OPX - Software, Licence Fee, Assistance",
            "SAPECCFIP_0000602547",
            14,
            4
           ],
           [
            "INFRASTRUCTURE",
            "CPX: Civil Equipment / Works",
            "SAPECCFE3_0000197623",
            22,
            2
           ],
           [
            "INFRASTRUCTURE",
            "CPX: Electrical Equipment & Installation",
            "SAPECCFE3_0000174783",
            7,
            2
           ],
           [
            "INFRASTRUCTURE",
            "CPX: Energy (Sustainability) / Investments",
            "SAPECCFE3_0000197074",
            4,
            21
           ],
           [
            "INFRASTRUCTURE",
            "CPX: General Contractos",
            "SAPECCFE3_0000154665",
            14,
            5
           ],
           [
            "INFRASTRUCTURE",
            "CPX: Mechanical Equipment & Installation",
            "SAPECCFE3_0000186405",
            33,
            7
           ],
           [
            "INFRASTRUCTURE",
            "CPX: Waste Water & Gas Treatment",
            "SAPECCFE3_0000139496",
            1,
            1
           ],
           [
            "INFRASTRUCTURE",
            "Plant Utilities EaaS (Equipment as a Service)",
            "SAPECCFE3_0000086754",
            9,
            1
           ],
           [
            "INFRASTRUCTURE",
            "Property acquisition",
            "SAPECCFE3_0000201343",
            8,
            1
           ],
           [
            "INFRASTRUCTURE",
            "Specific Material For Utilities Machinery And Equipment",
            "SAPECCFE3_0000026478",
            3,
            5
           ],
           [
            "INSURANCE SERVICES",
            "Cargo (Insurance)",
            "SAPECCFE3_0000011277",
            4,
            7
           ],
           [
            "INSURANCE SERVICES",
            "Client receivables insurance",
            "SAPECCFE3_0000088242",
            7,
            1
           ],
           [
            "INSURANCE SERVICES",
            "Cyber Insurance",
            "SAPECCFE3_0000011277",
            21,
            7
           ],
           [
            "INSURANCE SERVICES",
            "D&O (Insurance)",
            "SAPECCFE3_0000011277",
            4,
            7
           ],
           [
            "INSURANCE SERVICES",
            "Environmental EIL (Insurance)",
            "SAPECCFE3_0000011277",
            1,
            7
           ],
           [
            "INSURANCE SERVICES",
            "Liability (Insurance)",
            "SAPECCFE3_0000011277",
            11,
            7
           ],
           [
            "INSURANCE SERVICES",
            "Motor vehicle insurance",
            "SAPECCFE3_0000159707",
            47,
            2
           ],
           [
            "INSURANCE SERVICES",
            "Optional insurance employees",
            "SAPECCFE3_0000158413",
            19,
            1
           ],
           [
            "INSURANCE SERVICES",
            "Optional insurance manager",
            "SAPECCFE3_0000188934",
            7,
            2
           ],
           [
            "INSURANCE SERVICES",
            "Personal Insurance",
            "SAPECCFE3_0000135517",
            37,
            1
           ],
           [
            "INSURANCE SERVICES",
            "Property Damage and Business Interruption",
            "SAPECCFE3_0000061658",
            9,
            5
           ],
           [
            "INSURANCE SERVICES",
            "SUND.LOCAL TX&DUTY",
            "SAPECCFE3_0000189561",
            6,
            4
           ],
           [
            "INSURANCE SERVICES",
            "SUNDRY INSURANCE",
            "SAPECCFE3_0000065900",
            32,
            3
           ],
           [
            "INSURANCE SERVICES",
            "Travel insurance",
            "SAPECCFE3_0000200574",
            1,
            1
           ],
           [
            "INSURANCE SERVICES (LOCAL)",
            "TR - Personal insurance (GenAdm)",
            "SAPECCFE3_0000070123",
            2,
            1
           ],
           [
            "INSURANCE SERVICES (LOCAL)",
            "TR - Sundry insurance (GenAdm)",
            "SAPECCFE3_0000093665",
            1,
            1
           ],
           [
            "LABORATORY EQUIPMENT AND SERVICES",
            "CHEMICAL MATERIAL",
            "SAPECCFE3_0000012497",
            94,
            2
           ],
           [
            "LABORATORY EQUIPMENT AND SERVICES",
            "CPX: Equipment",
            "SAPECCFIP_0000327115",
            23,
            4
           ],
           [
            "LABORATORY EQUIPMENT AND SERVICES",
            "Consumable",
            "SAPECCFE3_0000185337",
            73,
            5
           ],
           [
            "LABORATORY EQUIPMENT AND SERVICES",
            "Laboratory",
            "SAPECCFE3_0000016003",
            80,
            11
           ],
           [
            "LABORATORY EQUIPMENT AND SERVICES",
            "Maintenance And Services On Laboratory Equipments",
            "SAPECCFE3_0000173575",
            39,
            3
           ],
           [
            "LABORATORY EQUIPMENT AND SERVICES",
            "Technical Consultancy And External Lab Analysis",
            "SAPECCFE3_0000174868",
            36,
            3
           ],
           [
            "LEGAL & NOTARY SERVICES (LOCAL)",
            "TR - Expenses for notary charges (GenAdm)",
            "SAPECCFE3_0000190494",
            2,
            1
           ],
           [
            "LEGAL & TAX SERVICES",
            "Legal Advisory",
            "SAPECCFE3_0000126032",
            19,
            1
           ],
           [
            "LEGAL & TAX SERVICES",
            "Legal services",
            "SAPECCFE3_0000102506",
            4,
            10
           ],
           [
            "LEGAL & TAX SERVICES",
            "Patents management / Intellectual Property (IP)",
            "SAPECCFE3_0000037354",
            1,
            1
           ],
           [
            "LEGAL & TAX SERVICES",
            "Tax & Customs Services Cost",
            "SAPECCFE3_0000181526",
            2,
            7
           ],
           [
            "LEGAL & TAX SERVICES",
            "Web domain management",
            "SAPECCFE3_0000028429",
            1,
            1
           ],
           [
            "LEGAL CONSULTING (LOCAL)",
            "TR - HR&OI Consulting (GenAdm)",
            "SAPECCFE3_0000187524",
            3,
            2
           ],
           [
            "LEGAL CONSULTING (LOCAL)",
            "TR - Legal consulting (GenAdm)",
            "SAPECCFE3_0000078825",
            10,
            1
           ],
           [
            "LICENSING & RIGHTS",
            "Licensing - Brands & Content DIGITAL",
            "SAPECCFIP_0000616830",
            7,
            10
           ],
           [
            "LICENSING & RIGHTS",
            "Licensing - Brands & Content TRADITIONAL",
            "SAPECCFE3_0000110271",
            14,
            3
           ],
           [
            "LICENSING & RIGHTS",
            "Licensing - Music DIGITAL",
            "SAPECCFE3_0000015052",
            5,
            2
           ],
           [
            "LICENSING & RIGHTS",
            "Licensing - Music TRADITIONAL",
            "SAPECCFE3_0000189225",
            1,
            3
           ],
           [
            "LICENSING & RIGHTS",
            "Rights buyout-Authors,Artists,Performers,Personality DIGITAL",
            "SAPECCFIP_0000616830",
            8,
            10
           ],
           [
            "LICENSING & RIGHTS",
            "Rights buyout-Authors,Artists,Performers,Personality TRADI",
            "SAPECCFE3_0000031538",
            13,
            7
           ],
           [
            "MAINTENANCE & IMPROVEMENTS",
            "BUILDING MAINTENANCE",
            "SAPECCFE3_0000174924",
            44,
            40
           ],
           [
            "MAINTENANCE & IMPROVEMENTS",
            "Building Third Party - Improvements & Equipment Cost",
            "SAPECCFE3_0000191912",
            3,
            1
           ],
           [
            "MAINTENANCE & IMPROVEMENTS",
            "Building owned - Improvements & equipment cost",
            "SAPECCFE3_0000198990",
            37,
            4
           ],
           [
            "MAINTENANCE & IMPROVEMENTS",
            "Building owned - Improvements cost",
            "SAPECCFE3_0000143801",
            4,
            2
           ],
           [
            "MAINTENANCE & IMPROVEMENTS",
            "Ground and green areas maintenance,inclu industrial premises",
            "SAPECCFE3_0000011683",
            8,
            15
           ],
           [
            "MAINTENANCE & IMPROVEMENTS",
            "Industrial Cleaning",
            "SAPECCFE3_0000012930",
            34,
            3
           ],
           [
            "MAINTENANCE & IMPROVEMENTS",
            "Office machines & equipment - Investment",
            "SAPECCFE3_0000034836",
            28,
            2
           ],
           [
            "MAINTENANCE & IMPROVEMENTS",
            "Office machines & equipment - Maintenance",
            "SAPECCFE3_0000200313",
            19,
            6
           ],
           [
            "MAINTENANCE & IMPROVEMENTS",
            "Research & Development cost",
            "SAPECCFE3_0000012930",
            7,
            3
           ],
           [
            "MAINTENANCE & IMPROVEMENTS",
            "Waste treatment, recycling and disposal services",
            "SAPECCFE3_0000036554",
            39,
            2
           ],
           [
            "MAINTENANCE & IMPROVEMENTS (LOCAL)",
            "TR - Building Maintenance (GenAdm)",
            "SAPECCFE3_0000070050",
            9,
            23
           ],
           [
            "MAINTENANCE & IMPROVEMENTS (LOCAL)",
            "TR - Ground and green areas maintenance (GenAdm)",
            "SAPECCFIP_0000484180",
            3,
            2
           ],
           [
            "MAINTENANCE & IMPROVEMENTS (LOCAL)",
            "TR - Ground and green areas maintenance (GenProd)",
            "SAPECCFE3_0000070050",
            3,
            23
           ],
           [
            "MAINTENANCE & IMPROVEMENTS (LOCAL)",
            "TR - Handyman services (GenAdm)",
            "SAPECCFE3_0000161198",
            12,
            1
           ],
           [
            "MAINTENANCE & IMPROVEMENTS (LOCAL)",
            "TR - Waste treatment, recycling and disposal services (S-Wh)",
            "SAPECCFE3_0000147277",
            1,
            1
           ],
           [
            "MAINTENANCE & IMPROVEMENTS (LOCAL)",
            "TR-Waste treatment,recycling and disposal services (GenProd)",
            "SAPECCFE3_0000093721",
            1,
            1
           ],
           [
            "MAINTENANCE SERVICES",
            "CPX - Services in project scope",
            "SAPECCFE3_0000153472",
            5,
            3
           ],
           [
            "MAINTENANCE SERVICES",
            "Maintenace service not depreciable (Maintenance Order)",
            "SAPECCFE3_0000116096",
            13,
            6
           ],
           [
            "MAINTENANCE SERVICES",
            "OPX - Extraordinary Maintenance",
            "SAPECCFE3_0000195019",
            13,
            5
           ],
           [
            "MAINTENANCE SERVICES",
            "OPX - Ordinary Maintenance",
            "SAPECCFIP_0000469602",
            198,
            3
           ],
           [
            "MAINTENANCE SERVICES",
            "OPX - Retrofit/revamping of an equipment or line",
            "SAPECCFE3_0000056763",
            2,
            16
           ],
           [
            "MAINTENANCE SERVICES",
            "Rental Services Fee",
            "SAPECCFE3_0000016488",
            4,
            3
           ],
           [
            "MAN WORK PER HOUR",
            "Man work per hour svc",
            "SAPECCFE3_0000171147",
            3,
            7
           ],
           [
            "MARKET MEASUREMENT",
            "Ad hoc reports/analysis on syndicated data (excl RMS)",
            "SAPECCFE3_0000180901",
            98,
            2
           ],
           [
            "MARKET MEASUREMENT",
            "Consumer panel on-going subscriptions",
            "SAPECCFE3_0000028961",
            18,
            3
           ],
           [
            "MARKET MEASUREMENT",
            "Other syndicated subscriptions (excluding RMS, CPS)",
            "SAPECCFIP_0000499943",
            22,
            5
           ],
           [
            "MARKET MEASUREMENT",
            "Panel SPE management",
            "SAPECCFE3_0000010076",
            16,
            1
           ],
           [
            "MARKET MEASUREMENT",
            "Purchase of product sampling",
            "SAPECCFE3_0000020427",
            4,
            4
           ],
           [
            "MARKET MEASUREMENT",
            "Subscriptions on Market measurement (license fees)",
            "SAPECCFE3_0000188110",
            81,
            6
           ],
           [
            "MARKETING EVENTS",
            "Brand promotion events",
            "SAPECCFE3_0000011457",
            6,
            8
           ],
           [
            "MARKETING EVENTS",
            "Testimonials Costs",
            "SAPECCFE3_0000189470",
            5,
            2
           ],
           [
            "MERCHANDISING & HOSTESS & BROKER COMMISSIONS",
            "Broker Commissions",
            "SAPECCFE3_0000150575",
            3,
            2
           ],
           [
            "MERCHANDISING & HOSTESS & BROKER COMMISSIONS",
            "Hostess services",
            "SAPECCFE3_0000135711",
            43,
            2
           ],
           [
            "MERCHANDISING & HOSTESS & BROKER COMMISSIONS",
            "Merchandising services",
            "SAPECCFE3_0000089020",
            27,
            1
           ],
           [
            "MOLDING & OVENS",
            "CPX - Basin",
            "SAPECCFE3_0000203265",
            15,
            6
           ],
           [
            "MOLDING & OVENS",
            "CPX - Dosing & Enrobing",
            "SAPECCFE3_0000019628",
            10,
            37
           ],
           [
            "MOLDING & OVENS",
            "CPX - Handling Systems",
            "SAPECCFE3_0000019628",
            3,
            37
           ],
           [
            "MOLDING & OVENS",
            "CPX - Molding :  Ferrero Design & Build",
            "SAPECCFE3_0000057302",
            17,
            9
           ],
           [
            "MOLDING & OVENS",
            "CPX - Molding equipment",
            "SAPECCFE3_0000057302",
            21,
            9
           ],
           [
            "MOLDING & OVENS",
            "CPX - Molds and Forming Equipments",
            "SAPECCFE3_0000017067",
            30,
            2
           ],
           [
            "MOLDING & OVENS",
            "CPX - Oven",
            "SAPECCFE3_0000015701",
            4,
            4
           ],
           [
            "MOLDING & OVENS",
            "CPX - Plate Oven",
            "SAPECCFE3_0000056506",
            3,
            4
           ],
           [
            "MOLDING & OVENS",
            "CPX - Tempering",
            "SAPECCFE3_0000010856",
            13,
            23
           ],
           [
            "MOLDING & OVENS",
            "CPX - Thermic tunnels",
            "SAPECCFE3_0000200770",
            5,
            1
           ],
           [
            "MOLDING & OVENS",
            "Process Engineering professional services",
            "SAPECCFE3_0000034572",
            15,
            7
           ],
           [
            "NUTS EQUIPMENT & AGRI MOBILE MACHINE",
            "CPX - Agri mobile machine (tractor, harvester)",
            "SAPECCFE3_0000048836",
            4,
            14
           ],
           [
            "NUTS EQUIPMENT & AGRI MOBILE MACHINE",
            "CPX - Calibrator",
            "SAPECCFE3_0000193320",
            2,
            4
           ],
           [
            "NUTS EQUIPMENT & AGRI MOBILE MACHINE",
            "CPX - Conveyors,Elevators,Transports, Big Bag station",
            "SAPECCFE3_0000170340",
            2,
            3
           ],
           [
            "NUTS EQUIPMENT & AGRI MOBILE MACHINE",
            "CPX - General Contractor",
            "SAPECCFE3_0000203247",
            1,
            1
           ],
           [
            "NUTS EQUIPMENT & AGRI MOBILE MACHINE",
            "CPX - Optical sorters",
            "SAPECCFE3_0000105909",
            4,
            3
           ],
           [
            "NUTS EQUIPMENT & AGRI MOBILE MACHINE",
            "CPX - Pre-Cleaning/Drying/Vacuum system",
            "SAPECCFE3_0000049256",
            5,
            26
           ],
           [
            "NUTS EQUIPMENT & AGRI MOBILE MACHINE",
            "CPX - Shellers",
            "SAPECCFE3_0000196492",
            3,
            6
           ],
           [
            "NUTS EQUIPMENT & AGRI MOBILE MACHINE",
            "CPX - Silos",
            "SAPECCFE3_0000117020",
            3,
            7
           ],
           [
            "NUTS EQUIPMENT & AGRI MOBILE MACHINE",
            "OPX - Agri Mobile Machine (Tractor, Harvester)",
            "SAPECCFE3_0000200147",
            4,
            1
           ],
           [
            "OFFICE SUPPLIES AND SERVICES",
            "Archiving Services",
            "SAPECCFE3_0000111794",
            11,
            1
           ],
           [
            "OFFICE SUPPLIES AND SERVICES",
            "Office Furniture - Capex",
            "SAPECCFE3_0000203325",
            116,
            1
           ],
           [
            "OFFICE SUPPLIES AND SERVICES",
            "Office supplies",
            "SAPECCFE3_0000031341",
            1194,
            5
           ],
           [
            "OFFICE SUPPLIES AND SERVICES",
            "Other Consumables, Material and Small Supplies",
            "SAPECCFIP_0000610237",
            514,
            6
           ],
           [
            "OFFICE SUPPLIES AND SERVICES",
            "Postage & Couriers Fees",
            "SAPECCFE3_0000060505",
            21,
            2
           ],
           [
            "OFFICE SUPPLIES AND SERVICES",
            "Printing Supplies",
            "SAPECCFIP_0000411272",
            300,
            9
           ],
           [
            "OFFICE SUPPLIES AND SERVICES",
            "Printing, photography and videomaking services",
            "SAPECCFIP_0000605348",
            20,
            2
           ],
           [
            "OFFICE SUPPLIES AND SERVICES",
            "Safety supplies",
            "SAPECCFE3_0000115178",
            34,
            1
           ],
           [
            "OFFICE SUPPLIES AND SERVICES (LOCAL)",
            "TR - Accessories technology supplies (GenAdm)",
            "SAPECCFE3_0000070028",
            1,
            11
           ],
           [
            "OFFICE SUPPLIES AND SERVICES (LOCAL)",
            "TR - Accessories technology supplies (GenProd)",
            "SAPECCFE3_0000189502",
            1,
            3
           ],
           [
            "OFFICE SUPPLIES AND SERVICES (LOCAL)",
            "TR - Archiving Services (GenAdm)",
            "SAPECCFE3_0000114631",
            20,
            1
           ],
           [
            "OFFICE SUPPLIES AND SERVICES (LOCAL)",
            "TR - Office supplies (GenAdm)",
            "SAPECCFE3_0000168740",
            38,
            6
           ],
           [
            "OFFICE SUPPLIES AND SERVICES (LOCAL)",
            "TR - Office supplies (GenProd)",
            "SAPECCFE3_0000168740",
            10,
            6
           ],
           [
            "OFFICE SUPPLIES AND SERVICES (LOCAL)",
            "TR - Postage & Couriers Fees (GenAdm)",
            "SAPECCFE3_0000137717",
            11,
            1
           ],
           [
            "OFFICE SUPPLIES AND SERVICES (LOCAL)",
            "TR - Postage & Couriers Fees (GenProd)",
            "SAPECCFE3_0000048852",
            2,
            1
           ],
           [
            "OFFICE SUPPLIES AND SERVICES (LOCAL)",
            "TR - Printing Supplies (GenProd)",
            "SAPECCFE3_0000146229",
            1,
            3
           ],
           [
            "OFFICE SUPPLIES AND SERVICES (LOCAL)",
            "TR - Safety supplies (GenAdm)",
            "SAPECCFE3_0000094225",
            1,
            2
           ],
           [
            "OFFICE SUPPLIES AND SERVICES (LOCAL)",
            "TR - Small Furniture - Opex (GenAdm)",
            "SAPECCFE3_0000070028",
            2,
            11
           ],
           [
            "OFFICE SUPPLIES AND SERVICES (LOCAL)",
            "TR - Small Furniture - Opex (GenProd)",
            "SAPECCFE3_0000167936",
            1,
            11
           ],
           [
            "OFFICE SUPPLIES AND SERVICES (LOCAL)",
            "TR - Tolls and parking",
            "SAPECCFE3_0000050074",
            30,
            3
           ],
           [
            "OTHER CONSULTING (LOCAL)",
            "TR - IA & Corporate Communication consulting (GenAdm)",
            "SAPECCFE3_0000155827",
            1,
            6
           ],
           [
            "OTHER CONSULTING (LOCAL)",
            "TR - Technical Consulting non-Industrial Buildings (GenAdm)",
            "SAPECCFE3_0000161292",
            2,
            2
           ],
           [
            "OTHER LOGISTICS COSTS",
            "OTHER LOGISTIC COSTS",
            "SAPECCFE3_0000164335",
            120,
            21
           ],
           [
            "OTHER LOGISTICS COSTS",
            "Quality Premium Interm-Finished Prd-FI",
            "SAPECCFE3_0000127684",
            4,
            7
           ],
           [
            "OTHER NON GP SERVICES",
            "Penalties and Fines (deductible)",
            "SAPECCFE3_0000032382",
            15,
            4
           ],
           [
            "OTHER SALES SERVICES",
            "Retail Data monitoring",
            "SAPECCFIP_0000615418",
            31,
            1
           ],
           [
            "OTHER SALES SERVICES",
            "Sales and B2B Events",
            "SAPECCFE3_0000174682",
            4,
            9
           ],
           [
            "OUTSOURCING - NETWORK TRANSMISSION (LOCAL)",
            "TR - Opx Voice, Data Network-Transms(GenAdm)",
            "SAPECCFE3_0000093606",
            14,
            4
           ],
           [
            "PALLETTS PURCHASING MTL",
            "1/4 Wood Pallets",
            "SAPECCFIP_0000605648",
            6,
            2
           ],
           [
            "PALLETTS PURCHASING MTL",
            "Epal 80x120 Pallets New",
            "SAPECCFE3_0000082107",
            30,
            1
           ],
           [
            "PALLETTS PURCHASING MTL",
            "Epal 80x120 Pallets Used 1st Choice",
            "SAPECCFE3_0000017593",
            1,
            3
           ],
           [
            "PALLETTS PURCHASING MTL",
            "Industrial 100x120 Pallets",
            "SAPECCFE3_0000177341",
            6,
            1
           ],
           [
            "PALLETTS RENT & LEASE SVC",
            "Rental 1/2 Plastic Pallets",
            "SAPECCFE3_0000158295",
            4,
            6
           ],
           [
            "PALLETTS RENT & LEASE SVC",
            "Rental 1/4 Plastic Pallets",
            "SAPECCFE3_0000056027",
            168,
            1
           ],
           [
            "PALLETTS RENT & LEASE SVC",
            "Rental 80x120 Pallets",
            "SAPECCFE3_0000054124",
            5,
            10
           ],
           [
            "PALLETTS RENT & LEASE SVC",
            "Rental Industrial 100x120 Pallets",
            "SAPECCFE3_0000145242",
            5,
            5
           ],
           [
            "PAYROLL",
            "PAYROLL SERVICES",
            "SAPECCFE3_0000105400",
            50,
            1
           ],
           [
            "PICKING",
            "Picking Finish Products",
            "SAPECCFIP_0000601355",
            8,
            2
           ],
           [
            "PICKING",
            "Picking Interm-Finished Prd-FI",
            "SAPECCFE3_0000128034",
            12,
            10
           ],
           [
            "PICKING",
            "Picking RAW MATERIALS",
            "SAPECCFE3_0000053213",
            1,
            21
           ],
           [
            "PICKING",
            "Picking Services",
            "SAPECCFE3_0000061548",
            34,
            5
           ],
           [
            "POS MATERIAL",
            "Communication POS material Production",
            "SAPECCFE3_0000049241",
            37,
            15
           ],
           [
            "POS MATERIAL",
            "In/Out Functional Display Production - Customized",
            "SAPECCFE3_0000177691",
            77,
            6
           ],
           [
            "POS MATERIAL",
            "In/Out Functional Display Production - Standard",
            "SAPECCFE3_0000173121",
            96,
            5
           ],
           [
            "POS MATERIAL",
            "In/Out Theatrical Materials Production - Customized",
            "SAPECCFE3_0000037779",
            62,
            5
           ],
           [
            "POS MATERIAL",
            "In/Out Theatrical Materials Production - Standard",
            "SAPECCFE3_0000137709",
            27,
            11
           ],
           [
            "POS MATERIAL",
            "POS material Development & Sampling",
            "SAPECCFIP_0000605266",
            160,
            10
           ],
           [
            "POS MATERIAL",
            "POS material Molds, Toolings, Die Cuts CAPEX",
            "SAPECCFE3_0000013062",
            4,
            15
           ],
           [
            "POS MATERIAL",
            "POS materials Storage and Logistic",
            "SAPECCFE3_0000196519",
            3641,
            5
           ],
           [
            "POS MATERIAL",
            "PROMOTIONAL POINT OF SALE",
            "SAPECCFE3_0000188355",
            93,
            19
           ],
           [
            "PREPARATION",
            "CPX - Belts",
            "SAPECCFE3_0000019628",
            4,
            37
           ],
           [
            "PREPARATION",
            "CPX - Cocoa Presses",
            "SAPECCFE3_0000180981",
            2,
            9
           ],
           [
            "PREPARATION",
            "CPX - Deodorizations",
            "SAPECCFE3_0000098262",
            2,
            4
           ],
           [
            "PREPARATION",
            "CPX - Dough Preparation",
            "SAPECCFE3_0000015701",
            1,
            4
           ],
           [
            "PREPARATION",
            "CPX - Liquid Handling & Processing",
            "SAPECCFE3_0000013925",
            4,
            2
           ],
           [
            "PREPARATION",
            "CPX - Powder handling & processing",
            "SAPECCFE3_0000014146",
            3,
            2
           ],
           [
            "PREPARATION",
            "CPX - Refiners (incl. prerefiners, conches, mills)",
            "SAPECCFIP_0000173452",
            14,
            23
           ],
           [
            "PREPARATION",
            "CPX - Roaster",
            "SAPECCFE3_0000100962",
            2,
            2
           ],
           [
            "PREPARATION",
            "CPX - Tanks (incl. mixer, plastificators)",
            "SAPECCFE3_0000010523",
            8,
            14
           ],
           [
            "PRIMARY PACKAGING",
            "CPX - Counter and filling machine",
            "SAPECCFE3_0000145055",
            3,
            11
           ],
           [
            "PRIMARY PACKAGING",
            "CPX - Flow wrapper",
            "SAPECCFE3_0000067920",
            9,
            31
           ],
           [
            "PRIMARY PACKAGING",
            "CPX - Infeed (incl. raw distributor system / buffer)",
            "SAPECCFE3_0000019458",
            3,
            52
           ],
           [
            "PRIMARY PACKAGING",
            "CPX - Sealing machine",
            "SAPECCFE3_0000054274",
            2,
            23
           ],
           [
            "PRIMARY PACKAGING",
            "CPX - Thermoforming",
            "SAPECCFE3_0000037925",
            2,
            26
           ],
           [
            "PRIMARY PACKAGING",
            "CPX - Wrapping machines",
            "SAPECCFE3_0000032786",
            6,
            11
           ],
           [
            "PRODUCTION",
            "Post-Production of Advertising Content DIGITAL",
            "SAPECCFE3_0000010296",
            41,
            13
           ],
           [
            "PRODUCTION",
            "Post-Production of Advertising Content TRADITIONAL",
            "SAPECCFE3_0000010296",
            59,
            13
           ],
           [
            "PRODUCTION",
            "Production of Advertising Content DIGITAL",
            "SAPECCFE3_0000083957",
            75,
            17
           ],
           [
            "PRODUCTION",
            "Production of Advertising Content TRADITIONAL - Radio",
            "SAPECCFE3_0000011267",
            19,
            7
           ],
           [
            "PRODUCTION",
            "Production of Advertising Content TRADITIONAL - TVC",
            "SAPECCFIP_0000613482",
            46,
            7
           ],
           [
            "PRODUCTION",
            "Production of Advertising Content TRADITIONAL-OOH,Static",
            "SAPECCFE3_0000136126",
            13,
            10
           ],
           [
            "PROMOTIONAL ITEMS",
            "Promotional items (including consumer giveaway)",
            "SAPECCFE3_0000055467",
            55,
            2
           ],
           [
            "PUBLIC RELATIONS",
            "Media Relations, Membership & Partnership",
            "SAPECCFE3_0000169431",
            3,
            1
           ],
           [
            "PUBLIC RELATIONS",
            "PR Communication Strategy, Advisory, Issues Management",
            "SAPECCFE3_0000167060",
            6,
            7
           ],
           [
            "PUBLIC RELATIONS",
            "PR Digital Activities & Tools",
            "SAPECCFE3_0000154278",
            6,
            4
           ],
           [
            "RAIL TRANSPORT",
            "Rail Surprises",
            "SAPECCFE3_0000019514",
            2,
            19
           ],
           [
            "REAL ESTATE",
            "Additional Services and Costs for Real Estate Lease",
            "SAPECCFE3_0000141196",
            8,
            4
           ],
           [
            "REAL ESTATE",
            "Co-working & flexible spaces lease",
            "SAPECCFE3_0000200114",
            1,
            1
           ],
           [
            "REAL ESTATE",
            "Local Small Building rent",
            "SAPECCFE3_0000010945",
            1,
            5
           ],
           [
            "REAL ESTATE",
            "Real Estate Office Lease",
            "SAPECCFE3_0000150512",
            19,
            2
           ],
           [
            "REAL ESTATE",
            "Real Estate Short-Term Lease <12 Months",
            "SAPECCFE3_0000183976",
            8,
            2
           ],
           [
            "REAL ESTATE",
            "Real estate Retail lease",
            "SAPECCFE3_0000151087",
            3,
            4
           ],
           [
            "REAL ESTATE",
            "Real estate others (no industrial, no supply chain)",
            "SAPECCFE3_0000187306",
            2,
            2
           ],
           [
            "REAL ESTATE (LOCAL)",
            "TR - Real Estate Office Lease (GenAdm)",
            "SAPECCFE3_0000191553",
            8,
            1
           ],
           [
            "RECRUITMENT SERVICE",
            "Job postings",
            "SAPECCFIP_0000618078",
            5,
            2
           ],
           [
            "RECRUITMENT SERVICE",
            "RECRUITMENT",
            "SAPECCFE3_0000078268",
            83,
            12
           ],
           [
            "RELOCATION",
            "Employees relocation services",
            "SAPECCFE3_0000187306",
            14,
            2
           ],
           [
            "RELOCATION",
            "Long Stay Relocation",
            "SAPECCFE3_0000189521",
            5,
            3
           ],
           [
            "REPACKING",
            "Repacking/Rebulking Finish Products",
            "SAPECCFE3_0000198306",
            160,
            7
           ],
           [
            "REPACKING",
            "Repacking/Rebulking RAW MATERIALS",
            "SAPECCFE3_0000086825",
            2,
            2
           ],
           [
            "RETAIL PANELS",
            "Ad hoc reports/ analysis performed on Retail Panel DB",
            "SAPECCFE3_0000113127",
            6,
            2
           ],
           [
            "RETAIL PANELS",
            "Retail Panels DB",
            "SAPECCFE3_0000121738",
            187,
            13
           ],
           [
            "RETAIL PANELS",
            "Subscriptions on Retail panels (license fees)",
            "SAPECCFIP_0000494380",
            3,
            4
           ],
           [
            "ROAD TRANSPORT",
            "Booking System Services - Third Parties (TBD)",
            "SAPECCFE3_0000013202",
            8,
            2
           ],
           [
            "ROAD TRANSPORT",
            "Destruction Product Transport",
            "SAPECCFE3_0000130663",
            40,
            2
           ],
           [
            "ROAD TRANSPORT",
            "EXPORT EXPENSES FOR",
            "SAPECCFE3_0000083315",
            159,
            12
           ],
           [
            "ROAD TRANSPORT",
            "Export Expenses For Various Sales",
            "SAPECCFE3_0000053213",
            102,
            21
           ],
           [
            "ROAD TRANSPORT",
            "Extra Cost  Transpor Finished product",
            "SAPECCFE3_0000164335",
            2041,
            21
           ],
           [
            "ROAD TRANSPORT",
            "Extra Cost  Transpor Interm-finished Product",
            "SAPECCFE3_0000164335",
            63,
            21
           ],
           [
            "ROAD TRANSPORT",
            "Extra Cost  Transpor Packaging",
            "SAPECCFE3_0000204376",
            68,
            1
           ],
           [
            "ROAD TRANSPORT",
            "Extra Cost  Transpor Raw Material",
            "SAPECCFE3_0000164335",
            334,
            21
           ],
           [
            "ROAD TRANSPORT",
            "Extra Cost  Transpor Semi-finished Product",
            "SAPECCFE3_0000164335",
            185,
            21
           ],
           [
            "ROAD TRANSPORT",
            "Extra Cost  Transpor Surprise",
            "SAPECCFE3_0000102477",
            573,
            2
           ],
           [
            "ROAD TRANSPORT",
            "Extra-waiting Finish Products",
            "SAPECCFE3_0000188157",
            73,
            4
           ],
           [
            "ROAD TRANSPORT",
            "Extra-waiting Interm-Finished Prd-FI",
            "SAPECCFE3_0000198510",
            6,
            13
           ],
           [
            "ROAD TRANSPORT",
            "Extra-waiting Packaging",
            "SAPECCFE3_0000118914",
            2,
            15
           ],
           [
            "ROAD TRANSPORT",
            "Extra-waiting RAW MATERIALS",
            "SAPECCFE3_0000086888",
            36,
            22
           ],
           [
            "ROAD TRANSPORT",
            "Extra-waiting SEMI-FINISHED GOODS",
            "SAPECCFE3_0000086888",
            32,
            22
           ],
           [
            "ROAD TRANSPORT",
            "Extra-waiting Surprises",
            "SAPECCFE3_0000038049",
            14,
            17
           ],
           [
            "ROAD TRANSPORT",
            "Inspections/Sanitary Controls Finish Products",
            "SAPECCFE3_0000166725",
            143,
            1
           ],
           [
            "ROAD TRANSPORT",
            "Inspections/Sanitary Controls Interm-Finished Prd-FI",
            "SAPECCFE3_0000086758",
            1,
            7
           ],
           [
            "ROAD TRANSPORT",
            "Inspections/Sanitary Controls SEMI-FINISHED GOODS",
            "SAPECCFE3_0000086888",
            7,
            22
           ],
           [
            "ROAD TRANSPORT",
            "Road Finish Products",
            "SAPECCFE3_0000157987",
            225,
            7
           ],
           [
            "ROAD TRANSPORT",
            "Road Interm-Finished Prd-FI",
            "SAPECCFE3_0000110968",
            47,
            9
           ],
           [
            "ROAD TRANSPORT",
            "Road Packaging",
            "SAPECCFE3_0000147554",
            340,
            10
           ],
           [
            "ROAD TRANSPORT",
            "Road RAW MATERIALS",
            "SAPECCFE3_0000011968",
            108,
            7
           ],
           [
            "ROAD TRANSPORT",
            "Road SEMI-FINISHED GOODS",
            "SAPECCFE3_0000198510",
            66,
            13
           ],
           [
            "ROAD TRANSPORT",
            "Road Surprises",
            "SAPECCFE3_0000102714",
            258,
            7
           ],
           [
            "ROAD TRANSPORT",
            "Road Transportation",
            "SAPECCFE3_0000121401",
            24178,
            3
           ],
           [
            "ROAD TRANSPORT",
            "Road Transportation Administrative Costs",
            "SAPECCFE3_0000110968",
            7,
            9
           ],
           [
            "ROAD TRANSPORT",
            "Road Transportation Costs For Foreign Stays (Demurrages)",
            "SAPECCFE3_0000198510",
            132,
            13
           ],
           [
            "ROAD TRANSPORT",
            "Road Transportation Finished Products Export Costs",
            "SAPECCFE3_0000198510",
            463,
            13
           ],
           [
            "ROAD TRANSPORT",
            "Road Transportation Fleet Rental & Depots",
            "SAPECCFE3_0000086461",
            37,
            5
           ],
           [
            "ROAD TRANSPORT",
            "Special Projects Finish Products",
            "SAPECCFE3_0000162339",
            1,
            1
           ],
           [
            "SEA TRANSPORT",
            "Sea Finish Products",
            "SAPECCFE3_0000013003",
            14,
            17
           ],
           [
            "SEA TRANSPORT",
            "Sea Interm-Finished Prd-FI",
            "SAPECCFE3_0000164335",
            6,
            21
           ],
           [
            "SEA TRANSPORT",
            "Sea Packaging",
            "SAPECCFE3_0000139578",
            6,
            8
           ],
           [
            "SEA TRANSPORT",
            "Sea RAW MATERIALS",
            "SAPECCFE3_0000090208",
            56,
            13
           ],
           [
            "SEA TRANSPORT",
            "Sea SEMI-FINISHED GOODS",
            "SAPECCFE3_0000159175",
            9,
            16
           ],
           [
            "SEA TRANSPORT",
            "Sea Surprises",
            "SAPECCFE3_0000038049",
            50,
            17
           ],
           [
            "SEA TRANSPORT",
            "Sea Transportation",
            "SAPECCFE3_0000164335",
            319,
            21
           ],
           [
            "SEA TRANSPORT",
            "Sea Transportation Export Fees Costs",
            "SAPECCFE3_0000013003",
            385,
            17
           ],
           [
            "SECONDARY PACKAGING",
            "CPX - Bagging Machines",
            "SAPECCFE3_0000010629",
            10,
            9
           ],
           [
            "SECONDARY PACKAGING",
            "CPX - Box Forming Machine",
            "SAPECCFE3_0000174966",
            4,
            2
           ],
           [
            "SECONDARY PACKAGING",
            "CPX - Forming, filling and closing",
            "SAPECCFIP_0000430005",
            11,
            10
           ],
           [
            "SECONDARY PACKAGING",
            "CPX - Pal- & Depalletizers",
            "SAPECCFE3_0000161212",
            4,
            3
           ],
           [
            "SECONDARY PACKAGING",
            "CPX - Sleeve & Shrink Machines",
            "SAPECCFE3_0000034850",
            1,
            9
           ],
           [
            "SECURITY",
            "CCTV",
            "SAPECCFE3_0000204461",
            2,
            2
           ],
           [
            "SECURITY",
            "Manned guarding services",
            "SAPECCFE3_0000107756",
            76,
            1
           ],
           [
            "SECURITY",
            "People Security Services",
            "SAPECCFE3_0000164462",
            5,
            4
           ],
           [
            "SECURITY",
            "Physical and Supply Chain security",
            "SAPECCFE3_0000164462",
            8,
            4
           ],
           [
            "SECURITY",
            "Porter and reception services",
            "SAPECCFE3_0000192510",
            5,
            1
           ],
           [
            "SECURITY",
            "Risk assessment and threat intelligence",
            "SAPECCFE3_0000095344",
            1,
            2
           ],
           [
            "SECURITY",
            "Security technology",
            "SAPECCFE3_0000180723",
            13,
            1
           ],
           [
            "SECURITY (LOCAL)",
            "TR - People Security (GenAdm)",
            "SAPECCFE3_0000100759",
            2,
            1
           ],
           [
            "SECURITY (LOCAL)",
            "TR - Security technology (GenAdm)",
            "SAPECCFE3_0000159388",
            1,
            1
           ],
           [
            "SERVICES - MANAGED SERVICE",
            "1st Level Support Outsourcing Applications",
            "SAPECCFE3_0000017023",
            26,
            13
           ],
           [
            "SERVICES - MANAGED SERVICE",
            "1st Level Support Outsourcing Technology",
            "SAPECCFE3_0000190502",
            4,
            9
           ],
           [
            "SERVICES - MANAGED SERVICE",
            "2nd Level Suport Outsourcing Applications",
            "SAPECCFE3_0000016570",
            2,
            16
           ],
           [
            "SERVICES - MANAGED SERVICE",
            "2nd Level Support Outsourcing Technology",
            "SAPECCFE3_0000017023",
            1,
            13
           ],
           [
            "SERVICES - MANAGED SERVICE",
            "Applications Development - System Integration CAPEX",
            "SAPECCFE3_0000056288",
            47,
            9
           ],
           [
            "SERVICES - MANAGED SERVICE",
            "End-User Computing Laptop, Workstation Outsourcing",
            "SAPECCFE3_0000017023",
            5,
            13
           ],
           [
            "SERVICES - MANAGED SERVICE",
            "End-User Computing Mobile Communications Outsourcing",
            "SAPECCFE3_0000127676",
            9,
            1
           ],
           [
            "SERVICES - MANAGED SERVICE",
            "End-User Computing Mobile Management Outsourcing",
            "SAPECCFE3_0000043455",
            29,
            3
           ],
           [
            "SERVICES - MANAGED SERVICE",
            "Server&Storage Outsourcing",
            "SAPECCFE3_0000017023",
            17,
            13
           ],
           [
            "SERVICES - MANAGED SERVICE",
            "Voice and Data Network Communications Outsourcing",
            "SAPECCFE3_0000010809",
            16,
            3
           ],
           [
            "SERVICES - MANAGED SERVICE",
            "Voice and Data Network Outsourcing",
            "SAPECCFE3_0000017023",
            8,
            13
           ],
           [
            "SERVICES - T&M/BODY LEASING",
            "Applications Development T&M CAPEX",
            "SAPECCFIP_0000611572",
            13,
            1
           ],
           [
            "SERVICES - T&M/BODY LEASING",
            "Applications Run and Maintenance T&M",
            "SAPECCFE3_0000035571",
            11,
            3
           ],
           [
            "SERVICES - T&M/BODY LEASING",
            "Corporate IT Management, Finance and Administration T&M",
            "SAPECCFE3_0000119125",
            7,
            2
           ],
           [
            "SERVICES - T&M/BODY LEASING",
            "End-User Computing T&M",
            "SAPECCFE3_0000050091",
            26,
            10
           ],
           [
            "SERVICES - T&M/BODY LEASING",
            "IT Service Desk T&M",
            "SAPECCFE3_0000184140",
            3,
            2
           ],
           [
            "SERVICES - T&M/BODY LEASING",
            "Server&Storage T&M",
            "SAPECCFE3_0000145216",
            4,
            2
           ],
           [
            "SERVICES - T&M/BODY LEASING",
            "Server&Storage T&M CAPEX",
            "SAPECCFE3_0000073845",
            3,
            4
           ],
           [
            "SERVICES - T&M/BODY LEASING",
            "Voice and Data Network T&M",
            "SAPECCFE3_0000029047",
            5,
            2
           ],
           [
            "SOFTWARE - MAINTENANCE FOR PERPETUAL LICENSES",
            "Maintenance Application Software",
            "SAPECCFE3_0000182305",
            9,
            1
           ],
           [
            "SOFTWARE - MAINTENANCE FOR PERPETUAL LICENSES",
            "Maintenance End-User Computing Software",
            "SAPECCFE3_0000201534",
            2,
            5
           ],
           [
            "SOFTWARE - MAINTENANCE FOR PERPETUAL LICENSES",
            "Maintenance Server&Storage Software",
            "SAPECCFE3_0000207191",
            5,
            5
           ],
           [
            "SOFTWARE - MAINTENANCE FOR PERPETUAL LICENSES",
            "Maintenance Voice and Data Network Software",
            "SAPECCFE3_0000124357",
            5,
            1
           ],
           [
            "SOFTWARE - SUBSCRIPTIONS/LICENSES",
            "Application Perpetual Licenses CAPEX",
            "SAPECCFE3_0000096541",
            3,
            2
           ],
           [
            "SOFTWARE - SUBSCRIPTIONS/LICENSES",
            "Cloud Application Development",
            "SAPECCFE3_0000039652",
            10,
            2
           ],
           [
            "SOFTWARE - SUBSCRIPTIONS/LICENSES",
            "Cloud License Application Maintenance",
            "SAPECCFE3_0000017520",
            19,
            4
           ],
           [
            "SOFTWARE - SUBSCRIPTIONS/LICENSES",
            "End-User Computing Licenses CAPEX",
            "SAPECCFE3_0000192359",
            3,
            12
           ],
           [
            "SOFTWARE - SUBSCRIPTIONS/LICENSES",
            "Purchase Applications Licenses",
            "SAPECCFE3_0000183337",
            7,
            12
           ],
           [
            "SOFTWARE - SUBSCRIPTIONS/LICENSES",
            "Server&Storage Licenses CAPEX",
            "SAPECCFE3_0000041744",
            1,
            9
           ],
           [
            "SOFTWARE - SUBSCRIPTIONS/LICENSES",
            "Subscription End-User Computing (SaaS)",
            "SAPECCFE3_0000031371",
            9,
            6
           ],
           [
            "SOFTWARE - SUBSCRIPTIONS/LICENSES",
            "Subscription Voice and Data Network (IaaS)",
            "SAPECCFE3_0000192388",
            10,
            5
           ],
           [
            "SOFTWARE - SUBSCRIPTIONS/LICENSES",
            "Voice and Data Network Licenses CAPEX",
            "SAPECCFE3_0000142933",
            1,
            2
           ],
           [
            "SPONSORING",
            "Events Sponsorships & Partnership",
            "SAPECCFE3_0000190685",
            97,
            4
           ],
           [
            "STANDALONE EQUIPMENT",
            "CPX - Check weigher",
            "SAPECCFE3_0000069011",
            5,
            3
           ],
           [
            "STANDALONE EQUIPMENT",
            "CPX - Conveyors and Handling",
            "SAPECCFE3_0000015066",
            10,
            9
           ],
           [
            "STANDALONE EQUIPMENT",
            "CPX - Gluing machine",
            "SAPECCFE3_0000013005",
            4,
            15
           ],
           [
            "STANDALONE EQUIPMENT",
            "CPX - Labellers",
            "SAPECCFE3_0000068585",
            9,
            1
           ],
           [
            "STANDALONE EQUIPMENT",
            "CPX - Metal detector",
            "SAPECCFE3_0000011750",
            3,
            12
           ],
           [
            "STANDALONE EQUIPMENT",
            "CPX - Printer",
            "SAPECCFE3_0000012823",
            12,
            17
           ],
           [
            "STANDALONE EQUIPMENT",
            "CPX - Vision & Cameras",
            "SAPECCFE3_0000012823",
            7,
            17
           ],
           [
            "STANDALONE EQUIPMENT",
            "CPX - X-Ray",
            "SAPECCFE3_0000062126",
            4,
            4
           ],
           [
            "STORAGE",
            "OTHER LOGISTIC COSTS (FG WH)",
            "SAPECCFE3_0000198902",
            1,
            7
           ],
           [
            "STORAGE",
            "Storage Finish Products",
            "SAPECCFE3_0000038242",
            18,
            3
           ],
           [
            "STORAGE",
            "Storage Finished Products (co-packing)",
            "SAPECCFE3_0000069644",
            4,
            1
           ],
           [
            "STORAGE",
            "Storage Interm-Finished Prd-FI",
            "SAPECCFE3_0000151283",
            28,
            8
           ],
           [
            "STORAGE",
            "Storage Mtl",
            "SAPECCFE3_0000060408",
            33,
            8
           ],
           [
            "STORAGE",
            "Storage Packaging",
            "SAPECCFE3_0000102646",
            47,
            9
           ],
           [
            "STORAGE",
            "Storage RAW MATERIALS",
            "SAPECCFE3_0000094676",
            22,
            15
           ],
           [
            "STORAGE",
            "Storage SEMI-FINISHED GOODS",
            "SAPECCFE3_0000102646",
            5,
            9
           ],
           [
            "STORAGE",
            "Storage Surprises",
            "SAPECCFE3_0000102646",
            231,
            9
           ],
           [
            "SUBSCRIPTIONS/MEMBERSHIPS",
            "Books, periodicals subscription (digital or not)",
            "SAPECCFIP_0000618541",
            49,
            1
           ],
           [
            "SUBSCRIPTIONS/MEMBERSHIPS",
            "Business Association fees",
            "SAPECCFE3_0000146073",
            23,
            4
           ],
           [
            "SUBSCRIPTIONS/MEMBERSHIPS",
            "Data source provider, knowledge database subscription",
            "SAPECCFE3_0000095730",
            1,
            2
           ],
           [
            "SUBSCRIPTIONS/MEMBERSHIPS",
            "NGO, Donations",
            "SAPECCFE3_0000155308",
            2,
            2
           ],
           [
            "SURPRISE L3",
            "PALLETS",
            "SAPECCFE3_0000153522",
            52,
            4
           ],
           [
            "TECHNICAL DEVICES FOR POS",
            "Check Out Display Production",
            "SAPECCFE3_0000049241",
            22,
            15
           ],
           [
            "TECHNICAL DEVICES FOR POS",
            "Fridges lease/rent and other tech devices for point of Sale",
            "SAPECCFE3_0000201436",
            5,
            1
           ],
           [
            "TECHNICAL DEVICES FOR POS",
            "Fridges production and other tech devices for POS - CAPEX",
            "SAPECCFE3_0000017500",
            6,
            8
           ],
           [
            "TECHNICAL DEVICES FOR POS",
            "Fridges production and other tech devices for POS-excl CAPEX",
            "SAPECCFE3_0000213659",
            37,
            1
           ],
           [
            "TECHNICAL DEVICES FOR POS",
            "PROM.MAT.CASHDESK",
            "SAPECCFE3_0000013062",
            4,
            15
           ],
           [
            "TECHNICAL DEVICES FOR POS",
            "PROMO POS MODERN",
            "SAPECCFE3_0000188355",
            37,
            19
           ],
           [
            "TECHNICAL DEVICES FOR POS",
            "PROMO POS TRADNL",
            "SAPECCFE3_0000179395",
            17,
            5
           ],
           [
            "TECHNICAL DEVICES FOR POS",
            "PROMOTIONAL GIFTS",
            "SAPECCFE3_0000085062",
            2,
            11
           ],
           [
            "TECHNICAL DEVICES FOR POS",
            "Permanent Materials Production - Secondary Placement",
            "SAPECCFE3_0000100639",
            29,
            5
           ],
           [
            "TECHNICAL DEVICES FOR POS",
            "Services for fridge and other tech devices for Point of Sale",
            "SAPECCFE3_0000046540",
            6,
            1
           ],
           [
            "TECHNICAL MATERIALS, PPE & CLOTHES",
            "Axes/shafts",
            "SAPECCFE3_0000013541",
            29,
            51
           ],
           [
            "TECHNICAL MATERIALS, PPE & CLOTHES",
            "BEARINGS AND LINEAR GUIDES",
            "SAPECCFE3_0000147794",
            966,
            41
           ],
           [
            "TECHNICAL MATERIALS, PPE & CLOTHES",
            "BRAKES AND CLUTCHES",
            "SAPECCFE3_0000015066",
            8,
            9
           ],
           [
            "TECHNICAL MATERIALS, PPE & CLOTHES",
            "Batteries",
            "SAPECCFE3_0000093163",
            18,
            17
           ],
           [
            "TECHNICAL MATERIALS, PPE & CLOTHES",
            "Belts",
            "SAPECCFE3_0000147794",
            268,
            41
           ],
           [
            "TECHNICAL MATERIALS, PPE & CLOTHES",
            "Brushes",
            "SAPECCFIP_0000407070",
            5,
            3
           ],
           [
            "TECHNICAL MATERIALS, PPE & CLOTHES",
            "Building materials",
            "SAPECCFIP_0000301531",
            30,
            4
           ],
           [
            "TECHNICAL MATERIALS, PPE & CLOTHES",
            "CONTROL INSTRUMENTS",
            "SAPECCFE3_0000014741",
            9,
            13
           ],
           [
            "TECHNICAL MATERIALS, PPE & CLOTHES",
            "CPX Technical Material",
            "SAPECCFE3_0000032966",
            26,
            16
           ],
           [
            "TECHNICAL MATERIALS, PPE & CLOTHES",
            "Cams",
            "SAPECCFE3_0000013541",
            5,
            51
           ],
           [
            "TECHNICAL MATERIALS, PPE & CLOTHES",
            "Chains",
            "SAPECCFE3_0000185241",
            55,
            57
           ],
           [
            "TECHNICAL MATERIALS, PPE & CLOTHES",
            "Cod - PPE, Safety Work Products, Fire Protection",
            "SAPECCFE3_0000013622",
            374,
            61
           ],
           [
            "TECHNICAL MATERIALS, PPE & CLOTHES",
            "Codified - Clothes & Uniforms, Safety Shoes",
            "SAPECCFE3_0000013622",
            245,
            61
           ],
           [
            "TECHNICAL MATERIALS, PPE & CLOTHES",
            "Computer (process)",
            "SAPECCFE3_0000015249",
            6,
            24
           ],
           [
            "TECHNICAL MATERIALS, PPE & CLOTHES",
            "Couplings",
            "SAPECCFE3_0000147794",
            31,
            41
           ],
           [
            "TECHNICAL MATERIALS, PPE & CLOTHES",
            "Cutting tools",
            "SAPECCFE3_0000026841",
            99,
            31
           ],
           [
            "TECHNICAL MATERIALS, PPE & CLOTHES",
            "Cylinders",
            "SAPECCFE3_0000012082",
            236,
            26
           ],
           [
            "TECHNICAL MATERIALS, PPE & CLOTHES",
            "Dampers",
            "SAPECCFE3_0000013622",
            12,
            61
           ],
           [
            "TECHNICAL MATERIALS, PPE & CLOTHES",
            "Dosing nozzles",
            "SAPECCFE3_0000013005",
            52,
            15
           ],
           [
            "TECHNICAL MATERIALS, PPE & CLOTHES",
            "ELECTRIC MOTORS AND DRIVES",
            "SAPECCFE3_0000011941",
            102,
            9
           ],
           [
            "TECHNICAL MATERIALS, PPE & CLOTHES",
            "ELECTRICAL / ELECTRONICAL COMPONENTS",
            "SAPECCFE3_0000015249",
            329,
            24
           ],
           [
            "TECHNICAL MATERIALS, PPE & CLOTHES",
            "Electric cables",
            "SAPECCFE3_0000011871",
            32,
            7
           ],
           [
            "TECHNICAL MATERIALS, PPE & CLOTHES",
            "Electronic cables",
            "SAPECCFE3_0000095716",
            24,
            12
           ],
           [
            "TECHNICAL MATERIALS, PPE & CLOTHES",
            "FIXING ELEMENTS",
            "SAPECCFE3_0000013622",
            72,
            61
           ],
           [
            "TECHNICAL MATERIALS, PPE & CLOTHES",
            "Fans",
            "SAPECCFE3_0000015249",
            11,
            24
           ],
           [
            "TECHNICAL MATERIALS, PPE & CLOTHES",
            "Filters",
            "SAPECCFIP_0000235369",
            71,
            2
           ],
           [
            "TECHNICAL MATERIALS, PPE & CLOTHES",
            "Flexible pipes",
            "SAPECCFE3_0000083940",
            47,
            26
           ],
           [
            "TECHNICAL MATERIALS, PPE & CLOTHES",
            "Fuels",
            "SAPECCFE3_0000048793",
            44,
            4
           ],
           [
            "TECHNICAL MATERIALS, PPE & CLOTHES",
            "GEARS",
            "SAPECCFE3_0000013541",
            18,
            51
           ],
           [
            "TECHNICAL MATERIALS, PPE & CLOTHES",
            "Gas Consumables",
            "SAPECCFIP_0000603300",
            59,
            2
           ],
           [
            "TECHNICAL MATERIALS, PPE & CLOTHES",
            "Gaskets/Seals",
            "SAPECCFE3_0000013622",
            266,
            61
           ],
           [
            "TECHNICAL MATERIALS, PPE & CLOTHES",
            "Gearboxes",
            "SAPECCFE3_0000147794",
            53,
            41
           ],
           [
            "TECHNICAL MATERIALS, PPE & CLOTHES",
            "Generic consumables",
            "SAPECCFE3_0000181642",
            84,
            42
           ],
           [
            "TECHNICAL MATERIALS, PPE & CLOTHES",
            "Glues",
            "SAPECCFE3_0000116715",
            26,
            42
           ],
           [
            "TECHNICAL MATERIALS, PPE & CLOTHES",
            "HYDRAULIC AND PNEUMATIC FITTINGS",
            "SAPECCFE3_0000098938",
            122,
            39
           ],
           [
            "TECHNICAL MATERIALS, PPE & CLOTHES",
            "Heaters",
            "SAPECCFE3_0000021281",
            9,
            14
           ],
           [
            "TECHNICAL MATERIALS, PPE & CLOTHES",
            "Infirmary",
            "SAPECCFE3_0000194190",
            2,
            5
           ],
           [
            "TECHNICAL MATERIALS, PPE & CLOTHES",
            "Laundry Services",
            "SAPECCFE3_0000156870",
            4,
            2
           ],
           [
            "TECHNICAL MATERIALS, PPE & CLOTHES",
            "Levers",
            "SAPECCFE3_0000019458",
            7,
            52
           ],
           [
            "TECHNICAL MATERIALS, PPE & CLOTHES",
            "Lighting",
            "SAPECCFE3_0000015249",
            93,
            24
           ],
           [
            "TECHNICAL MATERIALS, PPE & CLOTHES",
            "Locks, Handles",
            "SAPECCFE3_0000147794",
            24,
            41
           ],
           [
            "TECHNICAL MATERIALS, PPE & CLOTHES",
            "Lubricants",
            "SAPECCFE3_0000015790",
            76,
            2
           ],
           [
            "TECHNICAL MATERIALS, PPE & CLOTHES",
            "Measure devices and Control instruments",
            "SAPECCFE3_0000012860",
            31,
            14
           ],
           [
            "TECHNICAL MATERIALS, PPE & CLOTHES",
            "Not cod - PPE, Safety Work Products, Fire Protection",
            "SAPECCFIP_0000610058",
            351,
            2
           ],
           [
            "TECHNICAL MATERIALS, PPE & CLOTHES",
            "Not codified - Clothes & Uniforms, Safety Shoes",
            "SAPECCFE3_0000013622",
            8,
            61
           ],
           [
            "TECHNICAL MATERIALS, PPE & CLOTHES",
            "Other Materials Immediate Use for Maintenance Plant",
            "SAPECCFE3_0000174759",
            306,
            34
           ],
           [
            "TECHNICAL MATERIALS, PPE & CLOTHES",
            "Other Materials Immediate Use for Production Assistance",
            "SAPECCFE3_0000174759",
            29,
            34
           ],
           [
            "TECHNICAL MATERIALS, PPE & CLOTHES",
            "Other Spare parts (not codified, catalogues items)",
            "SAPECCFIP_0000611406",
            376,
            21
           ],
           [
            "TECHNICAL MATERIALS, PPE & CLOTHES",
            "PHOTOCELLS AND PROXIMITY SWITCHES",
            "SAPECCFE3_0000014741",
            87,
            13
           ],
           [
            "TECHNICAL MATERIALS, PPE & CLOTHES",
            "PRINTERS CONSUMABLES",
            "SAPECCFE3_0000012823",
            73,
            17
           ],
           [
            "TECHNICAL MATERIALS, PPE & CLOTHES",
            "PRINTERS SPARE PARTS",
            "SAPECCFE3_0000174911",
            18,
            13
           ],
           [
            "TECHNICAL MATERIALS, PPE & CLOTHES",
            "PRODUCTION TOOLS",
            "SAPECCFE3_0000181642",
            154,
            42
           ],
           [
            "TECHNICAL MATERIALS, PPE & CLOTHES",
            "Paint",
            "SAPECCFE3_0000013087",
            14,
            19
           ],
           [
            "TECHNICAL MATERIALS, PPE & CLOTHES",
            "Pulleys",
            "SAPECCFE3_0000019458",
            11,
            52
           ],
           [
            "TECHNICAL MATERIALS, PPE & CLOTHES",
            "Pumps",
            "SAPECCFE3_0000098938",
            48,
            39
           ],
           [
            "TECHNICAL MATERIALS, PPE & CLOTHES",
            "Rigid pipes",
            "SAPECCFIP_0000611720",
            31,
            2
           ],
           [
            "TECHNICAL MATERIALS, PPE & CLOTHES",
            "Rollers",
            "SAPECCFE3_0000019458",
            19,
            52
           ],
           [
            "TECHNICAL MATERIALS, PPE & CLOTHES",
            "SPARE PARTS FOR GAS PLANTS",
            "SAPECCFE3_0000140183",
            4,
            1
           ],
           [
            "TECHNICAL MATERIALS, PPE & CLOTHES",
            "SPECIFIC DRAWING COMPONENTS",
            "SAPECCFE3_0000013541",
            151,
            51
           ],
           [
            "TECHNICAL MATERIALS, PPE & CLOTHES",
            "SPROCKET WHEELS",
            "SAPECCFE3_0000185241",
            18,
            57
           ],
           [
            "TECHNICAL MATERIALS, PPE & CLOTHES",
            "Screws",
            "SAPECCFE3_0000013622",
            333,
            61
           ],
           [
            "TECHNICAL MATERIALS, PPE & CLOTHES",
            "Spare Parts - Conveyors",
            "SAPECCFE3_0000012216",
            329,
            6
           ],
           [
            "TECHNICAL MATERIALS, PPE & CLOTHES",
            "Spare Parts Utilities",
            "SAPECCFE3_0000174719",
            31,
            27
           ],
           [
            "TECHNICAL MATERIALS, PPE & CLOTHES",
            "Spare parts kits",
            "SAPECCFE3_0000048836",
            36,
            14
           ],
           [
            "TECHNICAL MATERIALS, PPE & CLOTHES",
            "Springs",
            "SAPECCFE3_0000013622",
            45,
            61
           ],
           [
            "TECHNICAL MATERIALS, PPE & CLOTHES",
            "Suction cups",
            "SAPECCFE3_0000098938",
            102,
            39
           ],
           [
            "TECHNICAL MATERIALS, PPE & CLOTHES",
            "Valves",
            "SAPECCFE3_0000012082",
            230,
            26
           ],
           [
            "TECHNICAL MATERIALS, PPE & CLOTHES",
            "Vibrators",
            "SAPECCFE3_0000185241",
            6,
            57
           ],
           [
            "TECHNICAL MATERIALS, PPE & CLOTHES",
            "WORKSHOP TOOLS",
            "SAPECCFE3_0000065723",
            438,
            12
           ],
           [
            "TECHNICAL MATERIALS, PPE & CLOTHES",
            "Water for industrial plant",
            "SAPECCFIP_0000105325",
            18,
            1
           ],
           [
            "TECHNICAL MATERIALS, PPE & CLOTHES",
            "Wheels",
            "SAPECCFE3_0000013622",
            19,
            61
           ],
           [
            "TECHNICAL MATERIALS, PPE & CLOTHES",
            "Сonstruction",
            "SAPECCFE3_0000098938",
            187,
            39
           ],
           [
            "TEMPORARY PERSONNEL",
            "Temporary Personnels",
            "SAPECCFE3_0000156350",
            17,
            1
           ],
           [
            "TEMPORARY PERSONNEL (LOCAL)",
            "TR - Temporary personnel (GenAdm)",
            "SAPECCFE3_0000070096",
            1,
            1
           ],
           [
            "TEMPORARY PERSONNEL (LOCAL)",
            "TR - Temporary personnel (GenProd)",
            "SAPECCFE3_0000032508",
            1,
            1
           ],
           [
            "TRAINING",
            "Training Design & Cost of Personal",
            "SAPECCFE3_0000168106",
            13,
            4
           ],
           [
            "TRAINING (LOCAL)",
            "TR - Training costs of personnel (GenAdm)",
            "SAPECCFE3_0000167666",
            5,
            9
           ],
           [
            "TRAINING (LOCAL)",
            "TR - Training costs of personnel (GenProd)",
            "SAPECCFE3_0000070050",
            2,
            23
           ],
           [
            "TRAVEL",
            "Hotel accommodation",
            "SAPECCFIP_0000523674",
            8,
            2
           ],
           [
            "TRAVEL",
            "Long stay accommodation",
            "SAPECCFE3_0000048996",
            3,
            2
           ],
           [
            "TRAVEL",
            "Other travel services",
            "SAPECCFIP_0000617867",
            20,
            3
           ],
           [
            "TRAVEL",
            "Transportation - Flights",
            "SAPECCFE3_0000189830",
            4,
            4
           ],
           [
            "TRAVEL",
            "Transportation - Other",
            "SAPECCFE3_0000151038",
            27,
            6
           ],
           [
            "TRAVEL",
            "Transportation - Short-term Rental Cars",
            "SAPECCFIP_0000617867",
            181,
            3
           ],
           [
            "TRAVEL",
            "Travel Agencies fees & services",
            "SAPECCFE3_0000047196",
            115,
            1
           ],
           [
            "TRAVEL (LOCAL)",
            "TR - Travel Agencies fees & services (GenAdm)",
            "SAPECCFE3_0000166455",
            5,
            3
           ],
           [
            "TRAVEL (LOCAL)",
            "TR - Travel Agencies fees & services (GenProd)",
            "SAPECCFE3_0000166455",
            2,
            3
           ],
           [
            "UTILITIES",
            "Utilities - Electric Energy for Offices",
            "SAPECCFE3_0000072331",
            7,
            1
           ],
           [
            "UTILITIES",
            "Utilities - Office Gas",
            "SAPECCFE3_0000105735",
            3,
            3
           ],
           [
            "UTILITIES",
            "Utilities - Office Water",
            "SAPECCFE3_0000050865",
            6,
            3
           ],
           [
            "UTILITIES FOR OFFICES (LOCAL)",
            "TR - ELECTRICITY (GENADM)",
            "SAPECCFE3_0000156128",
            8,
            1
           ],
           [
            "UTILITIES FOR OFFICES (LOCAL)",
            "TR - ELECTRICITY (GENPROD)",
            "SAPECCFE3_0000149130",
            16,
            2
           ],
           [
            "UTILITIES FOR OFFICES (LOCAL)",
            "TR - GAS (GENPROD)",
            "SAPECCFE3_0000187136",
            3,
            1
           ],
           [
            "UTILITIES FOR OFFICES (LOCAL)",
            "TR - WATER (GENADM)",
            "SAPECCFE3_0000156502",
            8,
            1
           ],
           [
            "UTILITIES FOR OFFICES (LOCAL)",
            "TR - WATER (GENPROD)",
            "SAPECCFE3_0000146073",
            11,
            4
           ],
           [
            "WAREHOUSE & LOGISTIC",
            "CPX - Automatic Warehouses",
            "SAPECCFIP_0000349240",
            6,
            6
           ],
           [
            "WAREHOUSE & LOGISTIC",
            "CPX - Conveying Systems",
            "SAPECCFE3_0000185348",
            4,
            1
           ],
           [
            "WAREHOUSE & LOGISTIC",
            "CPX - Forklifts (Buy)",
            "SAPECCFE3_0000145250",
            3,
            1
           ],
           [
            "WAREHOUSE & LOGISTIC",
            "CPX - Warehousing - Racks",
            "SAPECCFE3_0000164456",
            11,
            5
           ],
           [
            "WAREHOUSE & LOGISTIC",
            "OPX - Forklifts (Rental & Service)",
            "SAPECCFE3_0000056883",
            45,
            1
           ],
           [
            "WAREHOUSE & LOGISTIC",
            "TR-Specific Mtl For Warehouse, Lift And Handl. Equip.(S-Wh)",
            "SAPECCFIP_0000349240",
            8,
            6
           ],
           [
            "WAREHOUSING LOCATION & LEASING",
            "WAREHOUSE LEASE",
            "SAPECCFE3_0000165223",
            17,
            5
           ],
           [
            "WAREHOUSING LOCATION & LEASING",
            "Warehouse Rent",
            "SAPECCFE3_0000193819",
            4,
            3
           ],
           [
            "WAREHOUSING LOCATION & LEASING",
            "Warehouse Rental Other Costs (cleaning, security, etc…)",
            "SAPECCFE3_0000124328",
            1,
            1
           ],
           [
            "WASTE MANAGEMENT",
            "Waste Management Svc",
            "SAPECCFE3_0000130617",
            2,
            8
           ]
          ],
          "hovertemplate": "<b>From:</b> %{customdata[0]}<br><b>To:</b> %{customdata[1]}<br><b>Top Supplier:</b> %{customdata[2]}<br><b>PO Lines:</b> %{customdata[3]}<br><b>Discriminative Score:</b> %{customdata[4]}<extra></extra>",
          "source": [
           0,
           0,
           0,
           0,
           0,
           0,
           0,
           0,
           0,
           0,
           1,
           1,
           1,
           1,
           1,
           1,
           2,
           2,
           2,
           2,
           3,
           3,
           3,
           4,
           5,
           5,
           6,
           7,
           7,
           7,
           7,
           7,
           8,
           8,
           8,
           8,
           8,
           8,
           8,
           9,
           9,
           9,
           9,
           9,
           9,
           9,
           9,
           9,
           10,
           10,
           10,
           10,
           11,
           12,
           13,
           14,
           14,
           14,
           14,
           14,
           14,
           14,
           14,
           14,
           14,
           14,
           15,
           15,
           15,
           15,
           15,
           15,
           16,
           16,
           16,
           16,
           16,
           16,
           16,
           17,
           17,
           17,
           17,
           17,
           17,
           17,
           17,
           17,
           17,
           18,
           18,
           18,
           18,
           18,
           18,
           18,
           18,
           18,
           18,
           19,
           20,
           21,
           21,
           21,
           21,
           21,
           21,
           21,
           21,
           21,
           21,
           22,
           22,
           22,
           22,
           22,
           22,
           22,
           22,
           22,
           22,
           22,
           22,
           22,
           23,
           24,
           24,
           24,
           24,
           24,
           25,
           25,
           25,
           25,
           25,
           25,
           26,
           26,
           26,
           26,
           26,
           27,
           28,
           28,
           28,
           29,
           30,
           30,
           30,
           31,
           32,
           32,
           32,
           33,
           33,
           33,
           33,
           34,
           34,
           34,
           34,
           35,
           35,
           35,
           35,
           35,
           35,
           35,
           36,
           36,
           36,
           37,
           37,
           37,
           37,
           37,
           37,
           38,
           38,
           39,
           39,
           39,
           39,
           39,
           39,
           39,
           39,
           39,
           39,
           40,
           40,
           40,
           40,
           40,
           40,
           40,
           40,
           41,
           42,
           42,
           42,
           42,
           42,
           43,
           43,
           43,
           43,
           44,
           44,
           44,
           45,
           45,
           45,
           45,
           45,
           46,
           46,
           46,
           46,
           47,
           47,
           47,
           47,
           47,
           48,
           48,
           48,
           48,
           48,
           48,
           49,
           49,
           49,
           49,
           49,
           49,
           50,
           50,
           50,
           51,
           51,
           52,
           52,
           52,
           52,
           52,
           52,
           52,
           53,
           53,
           54,
           54,
           54,
           54,
           54,
           55,
           55,
           55,
           55,
           55,
           56,
           56,
           56,
           56,
           56,
           56,
           56,
           56,
           56,
           56,
           56,
           56,
           56,
           56,
           57,
           58,
           58,
           58,
           58,
           58,
           58,
           58,
           59,
           59,
           59,
           59,
           59,
           59,
           59,
           59,
           59,
           60,
           60,
           60,
           60,
           60,
           60,
           60,
           60,
           60,
           60,
           60,
           60,
           60,
           60,
           61,
           61,
           62,
           62,
           62,
           62,
           62,
           62,
           63,
           64,
           64,
           64,
           64,
           64,
           65,
           65,
           66,
           66,
           66,
           66,
           66,
           66,
           67,
           67,
           67,
           67,
           67,
           67,
           67,
           67,
           67,
           67,
           68,
           68,
           68,
           68,
           68,
           68,
           69,
           69,
           69,
           69,
           69,
           69,
           70,
           71,
           71,
           71,
           71,
           71,
           71,
           72,
           72,
           73,
           73,
           73,
           74,
           74,
           74,
           74,
           74,
           74,
           74,
           74,
           74,
           74,
           74,
           75,
           75,
           75,
           75,
           75,
           75,
           75,
           75,
           75,
           76,
           76,
           76,
           76,
           76,
           76,
           76,
           76,
           77,
           77,
           77,
           77,
           77,
           77,
           77,
           77,
           77,
           77,
           77,
           77,
           78,
           78,
           79,
           79,
           80,
           81,
           81,
           82,
           83,
           83,
           83,
           83,
           84,
           84,
           84,
           84,
           85,
           86,
           86,
           86,
           86,
           87,
           87,
           87,
           87,
           87,
           87,
           87,
           87,
           87,
           88,
           88,
           88,
           88,
           88,
           88,
           88,
           88,
           88,
           89,
           89,
           89,
           89,
           89,
           89,
           90,
           90,
           90,
           90,
           90,
           90,
           91,
           92,
           92,
           92,
           93,
           94,
           94,
           94,
           94,
           94,
           94,
           94,
           95,
           96,
           96,
           97,
           97,
           98,
           98,
           99,
           99,
           99,
           100,
           100,
           100,
           100,
           100,
           100,
           100,
           100,
           100,
           100,
           100,
           100,
           100,
           100,
           100,
           100,
           100,
           100,
           100,
           100,
           100,
           100,
           100,
           100,
           100,
           100,
           100,
           100,
           100,
           100,
           100,
           101,
           101,
           101,
           101,
           101,
           101,
           101,
           101,
           102,
           102,
           102,
           102,
           102,
           103,
           103,
           103,
           103,
           103,
           103,
           103,
           104,
           104,
           105,
           105,
           105,
           105,
           105,
           105,
           105,
           105,
           105,
           105,
           105,
           106,
           106,
           106,
           106,
           106,
           106,
           106,
           106,
           107,
           107,
           107,
           107,
           108,
           108,
           108,
           108,
           108,
           108,
           108,
           108,
           108,
           109,
           110,
           110,
           110,
           110,
           110,
           110,
           110,
           110,
           111,
           111,
           111,
           111,
           111,
           111,
           111,
           111,
           111,
           112,
           112,
           112,
           112,
           113,
           114,
           114,
           114,
           114,
           114,
           114,
           114,
           114,
           114,
           114,
           115,
           115,
           115,
           115,
           115,
           115,
           115,
           115,
           115,
           115,
           115,
           115,
           115,
           115,
           115,
           115,
           115,
           115,
           115,
           115,
           115,
           115,
           115,
           115,
           115,
           115,
           115,
           115,
           115,
           115,
           115,
           115,
           115,
           115,
           115,
           115,
           115,
           115,
           115,
           115,
           115,
           115,
           115,
           115,
           115,
           115,
           115,
           115,
           115,
           115,
           115,
           115,
           115,
           115,
           115,
           115,
           115,
           115,
           115,
           115,
           115,
           115,
           115,
           115,
           115,
           115,
           115,
           115,
           115,
           115,
           115,
           115,
           116,
           117,
           117,
           118,
           119,
           119,
           120,
           120,
           120,
           120,
           120,
           120,
           120,
           121,
           121,
           122,
           122,
           122,
           123,
           123,
           123,
           123,
           123,
           124,
           124,
           124,
           124,
           124,
           124,
           125,
           125,
           125,
           126
          ],
          "target": [
           6,
           8,
           9,
           10,
           11,
           14,
           17,
           18,
           20,
           22,
           4,
           12,
           13,
           15,
           19,
           21,
           3,
           5,
           7,
           16,
           58,
           69,
           115,
           52,
           41,
           42,
           123,
           26,
           46,
           47,
           59,
           62,
           56,
           57,
           82,
           105,
           106,
           107,
           108,
           33,
           35,
           36,
           37,
           66,
           71,
           90,
           92,
           99,
           48,
           49,
           120,
           121,
           80,
           83,
           84,
           39,
           40,
           43,
           44,
           85,
           96,
           97,
           116,
           117,
           118,
           119,
           25,
           45,
           79,
           93,
           100,
           101,
           74,
           75,
           88,
           89,
           102,
           110,
           124,
           24,
           28,
           32,
           60,
           61,
           63,
           64,
           65,
           78,
           112,
           31,
           34,
           54,
           72,
           73,
           81,
           87,
           91,
           109,
           114,
           38,
           113,
           23,
           27,
           53,
           55,
           70,
           86,
           98,
           111,
           125,
           126,
           29,
           30,
           50,
           51,
           67,
           68,
           76,
           77,
           94,
           95,
           103,
           104,
           122,
           127,
           128,
           129,
           130,
           131,
           132,
           133,
           134,
           135,
           136,
           137,
           138,
           139,
           140,
           141,
           142,
           143,
           144,
           145,
           146,
           147,
           148,
           149,
           150,
           151,
           152,
           153,
           154,
           155,
           156,
           157,
           158,
           159,
           160,
           161,
           162,
           163,
           164,
           165,
           166,
           167,
           168,
           169,
           170,
           171,
           172,
           173,
           174,
           175,
           176,
           177,
           178,
           179,
           180,
           181,
           182,
           183,
           184,
           185,
           186,
           187,
           188,
           189,
           190,
           191,
           192,
           193,
           194,
           195,
           196,
           197,
           198,
           199,
           200,
           201,
           202,
           203,
           204,
           205,
           206,
           207,
           208,
           209,
           210,
           211,
           212,
           213,
           214,
           215,
           216,
           217,
           218,
           219,
           220,
           221,
           222,
           223,
           224,
           225,
           226,
           227,
           228,
           229,
           230,
           231,
           232,
           233,
           234,
           235,
           236,
           237,
           238,
           239,
           240,
           241,
           242,
           243,
           244,
           245,
           246,
           247,
           248,
           249,
           250,
           251,
           252,
           253,
           254,
           255,
           256,
           257,
           258,
           259,
           260,
           261,
           262,
           263,
           264,
           265,
           266,
           267,
           268,
           269,
           270,
           271,
           272,
           273,
           274,
           275,
           276,
           277,
           278,
           279,
           280,
           281,
           282,
           283,
           284,
           285,
           286,
           287,
           288,
           289,
           290,
           291,
           292,
           293,
           294,
           295,
           296,
           297,
           298,
           299,
           300,
           301,
           302,
           303,
           304,
           305,
           306,
           307,
           308,
           309,
           310,
           311,
           312,
           313,
           314,
           315,
           316,
           317,
           318,
           319,
           320,
           321,
           322,
           323,
           324,
           325,
           326,
           327,
           328,
           329,
           330,
           331,
           332,
           333,
           334,
           335,
           336,
           337,
           338,
           339,
           340,
           341,
           342,
           343,
           344,
           345,
           346,
           347,
           348,
           349,
           350,
           351,
           352,
           353,
           354,
           355,
           356,
           357,
           358,
           359,
           360,
           361,
           362,
           363,
           364,
           365,
           366,
           367,
           368,
           369,
           370,
           371,
           372,
           373,
           374,
           375,
           376,
           377,
           378,
           379,
           380,
           381,
           382,
           383,
           384,
           385,
           386,
           387,
           388,
           389,
           390,
           391,
           392,
           393,
           394,
           395,
           396,
           397,
           398,
           399,
           400,
           401,
           402,
           403,
           404,
           405,
           406,
           407,
           408,
           409,
           410,
           411,
           412,
           413,
           414,
           415,
           416,
           417,
           418,
           419,
           420,
           421,
           422,
           423,
           424,
           425,
           426,
           427,
           428,
           429,
           430,
           431,
           432,
           433,
           434,
           435,
           436,
           437,
           438,
           439,
           440,
           441,
           442,
           443,
           444,
           445,
           446,
           447,
           448,
           449,
           450,
           451,
           452,
           453,
           454,
           455,
           456,
           457,
           458,
           459,
           460,
           461,
           462,
           463,
           464,
           465,
           466,
           467,
           468,
           469,
           470,
           471,
           472,
           473,
           474,
           475,
           476,
           477,
           478,
           479,
           480,
           481,
           482,
           483,
           484,
           485,
           486,
           487,
           488,
           489,
           490,
           491,
           492,
           493,
           494,
           495,
           496,
           497,
           498,
           499,
           500,
           501,
           502,
           503,
           504,
           505,
           506,
           507,
           508,
           509,
           510,
           511,
           512,
           513,
           514,
           515,
           516,
           517,
           518,
           519,
           520,
           521,
           522,
           523,
           524,
           525,
           526,
           527,
           528,
           529,
           530,
           531,
           532,
           533,
           534,
           535,
           536,
           537,
           538,
           539,
           540,
           541,
           542,
           543,
           544,
           545,
           546,
           547,
           548,
           549,
           550,
           551,
           552,
           553,
           554,
           555,
           556,
           557,
           558,
           559,
           560,
           561,
           562,
           563,
           564,
           565,
           566,
           567,
           568,
           569,
           570,
           571,
           572,
           573,
           574,
           575,
           576,
           577,
           578,
           579,
           580,
           581,
           582,
           583,
           584,
           585,
           586,
           587,
           588,
           589,
           590,
           591,
           592,
           593,
           594,
           595,
           596,
           597,
           598,
           599,
           600,
           601,
           602,
           603,
           604,
           605,
           606,
           607,
           608,
           609,
           610,
           611,
           612,
           613,
           614,
           615,
           616,
           617,
           618,
           619,
           620,
           621,
           622,
           623,
           624,
           625,
           626,
           627,
           628,
           629,
           630,
           631,
           632,
           633,
           634,
           635,
           636,
           637,
           638,
           639,
           640,
           641,
           642,
           643,
           644,
           645,
           646,
           647,
           648,
           649,
           650,
           651,
           652,
           653,
           654,
           655,
           656,
           657,
           658,
           659,
           660,
           661,
           662,
           663,
           664,
           665,
           666,
           667,
           668,
           669,
           670,
           671,
           672,
           673,
           674,
           675,
           676,
           677,
           678,
           679,
           680,
           681,
           682,
           683,
           684,
           685,
           686,
           687,
           688,
           689,
           690,
           691,
           692,
           693,
           694,
           695,
           696,
           697,
           698,
           699
          ],
          "value": [
           23,
           154,
           282,
           310,
           15,
           95,
           70,
           3641,
           52,
           1272,
           1044,
           30,
           168,
           24180,
           5674,
           303,
           2077,
           27,
           264,
           46,
           46,
           198,
           2067,
           1044,
           2,
           27,
           23,
           27,
           68,
           264,
           36,
           135,
           152,
           7,
           14,
           79,
           26,
           9,
           21,
           43,
           13,
           141,
           82,
           27,
           142,
           117,
           7,
           192,
           310,
           70,
           201,
           7,
           15,
           30,
           168,
           94,
           22,
           31,
           2,
           50,
           83,
           14,
           17,
           1,
           13,
           6,
           38,
           95,
           120,
           2,
           24180,
           455,
           40,
           9,
           14,
           10,
           11,
           20,
           45,
           42,
           4,
           17,
           70,
           2,
           2,
           19,
           10,
           2,
           49,
           72,
           88,
           21,
           7,
           50,
           31,
           3641,
           55,
           97,
           41,
           5674,
           52,
           41,
           1,
           2,
           168,
           3,
           34,
           160,
           303,
           17,
           2,
           66,
           69,
           104,
           79,
           44,
           16,
           1272,
           48,
           26,
           8,
           76,
           2,
           10,
           41,
           6,
           8,
           3,
           36,
           1,
           13,
           10,
           3,
           2,
           9,
           25,
           27,
           12,
           5,
           2,
           5,
           1,
           4,
           2,
           4,
           66,
           41,
           28,
           6,
           72,
           11,
           2,
           10,
           7,
           35,
           19,
           12,
           24,
           39,
           64,
           5,
           11,
           13,
           4,
           2,
           3,
           7,
           5,
           14,
           46,
           141,
           24,
           4,
           7,
           2,
           82,
           58,
           12,
           5674,
           2,
           2,
           33,
           94,
           51,
           10,
           71,
           72,
           3,
           9,
           1,
           9,
           14,
           8,
           2,
           10,
           17,
           5,
           2,
           18,
           3,
           11,
           1,
           10,
           31,
           3,
           2,
           22,
           2,
           2,
           1,
           66,
           1,
           1,
           23,
           6,
           68,
           19,
           2,
           14,
           264,
           25,
           177,
           15,
           7,
           53,
           96,
           216,
           7,
           6,
           3,
           41,
           29,
           16,
           6,
           3,
           1,
           104,
           31,
           65,
           44,
           35,
           60,
           467,
           284,
           69,
           81,
           42,
           609,
           1,
           2,
           7,
           2,
           8,
           21,
           3,
           5,
           31,
           88,
           49,
           45,
           31,
           41,
           4,
           5,
           19,
           20,
           8,
           82,
           112,
           36,
           8,
           6,
           12,
           8,
           7,
           37,
           9,
           3,
           46,
           5,
           1,
           14,
           22,
           7,
           4,
           14,
           33,
           1,
           9,
           8,
           3,
           4,
           7,
           21,
           4,
           1,
           11,
           47,
           19,
           7,
           37,
           9,
           6,
           32,
           1,
           2,
           1,
           94,
           23,
           73,
           80,
           39,
           36,
           2,
           19,
           4,
           1,
           2,
           1,
           3,
           10,
           7,
           14,
           5,
           1,
           8,
           13,
           44,
           3,
           37,
           4,
           8,
           34,
           28,
           19,
           7,
           39,
           9,
           3,
           3,
           12,
           1,
           1,
           5,
           13,
           13,
           198,
           2,
           4,
           3,
           98,
           18,
           22,
           16,
           4,
           81,
           6,
           5,
           3,
           43,
           27,
           15,
           10,
           3,
           17,
           21,
           30,
           4,
           3,
           13,
           5,
           15,
           4,
           2,
           2,
           1,
           4,
           5,
           3,
           3,
           4,
           11,
           116,
           1194,
           514,
           21,
           300,
           20,
           34,
           1,
           1,
           20,
           38,
           10,
           11,
           2,
           1,
           1,
           2,
           1,
           30,
           1,
           2,
           120,
           4,
           15,
           31,
           4,
           14,
           6,
           30,
           1,
           6,
           4,
           168,
           5,
           5,
           50,
           8,
           12,
           1,
           34,
           37,
           77,
           96,
           62,
           27,
           160,
           4,
           3641,
           93,
           4,
           2,
           2,
           1,
           4,
           3,
           14,
           2,
           8,
           3,
           9,
           3,
           2,
           2,
           6,
           41,
           59,
           75,
           19,
           46,
           13,
           55,
           3,
           6,
           6,
           2,
           8,
           1,
           1,
           19,
           8,
           3,
           2,
           8,
           5,
           83,
           14,
           5,
           160,
           2,
           6,
           187,
           3,
           8,
           40,
           159,
           102,
           2041,
           63,
           68,
           334,
           185,
           573,
           73,
           6,
           2,
           36,
           32,
           14,
           143,
           1,
           7,
           225,
           47,
           340,
           108,
           66,
           258,
           24178,
           7,
           132,
           463,
           37,
           1,
           14,
           6,
           6,
           56,
           9,
           50,
           319,
           385,
           10,
           4,
           11,
           4,
           1,
           2,
           76,
           5,
           8,
           5,
           1,
           13,
           2,
           1,
           26,
           4,
           2,
           1,
           47,
           5,
           9,
           29,
           17,
           16,
           8,
           13,
           11,
           7,
           26,
           3,
           4,
           3,
           5,
           9,
           2,
           5,
           5,
           3,
           10,
           19,
           3,
           7,
           1,
           9,
           10,
           1,
           97,
           5,
           10,
           4,
           9,
           3,
           12,
           7,
           4,
           1,
           18,
           4,
           28,
           33,
           47,
           22,
           5,
           231,
           49,
           23,
           1,
           2,
           52,
           22,
           5,
           6,
           37,
           4,
           37,
           17,
           2,
           29,
           6,
           29,
           966,
           8,
           18,
           268,
           5,
           30,
           9,
           26,
           5,
           55,
           374,
           245,
           6,
           31,
           99,
           236,
           12,
           52,
           102,
           329,
           32,
           24,
           72,
           11,
           71,
           47,
           44,
           18,
           59,
           266,
           53,
           84,
           26,
           122,
           9,
           2,
           4,
           7,
           93,
           24,
           76,
           31,
           351,
           8,
           306,
           29,
           376,
           87,
           73,
           18,
           154,
           14,
           11,
           48,
           31,
           19,
           4,
           151,
           18,
           333,
           329,
           31,
           36,
           45,
           102,
           230,
           6,
           438,
           18,
           19,
           187,
           17,
           1,
           1,
           13,
           5,
           2,
           8,
           3,
           20,
           4,
           27,
           181,
           115,
           5,
           2,
           7,
           3,
           6,
           8,
           16,
           3,
           8,
           11,
           6,
           4,
           3,
           11,
           45,
           8,
           17,
           4,
           1,
           2
          ]
         },
         "node": {
          "color": "lightblue",
          "label": [
           "GENERAL PROCUREMENT",
           "SUPPLY CHAIN",
           "TECHNICAL PROCUREMENT",
           "AUTOMATION & MRO",
           "CUSTOM BROKERAGE & FORWARDING AGENCIES",
           "ENERGY",
           "ENERGY AND UTILITIES FOR OFFICES",
           "INFRASTRUCTURE & INDUSTRIAL",
           "IT - INFORMATION TECHNOLOGY",
           "MARKETING SERVICES",
           "MOBILITY",
           "OTHER NON GP",
           "PALLETTS PURCHASING",
           "PALLETTS RENT & LEASE",
           "PEOPLE SERVICES",
           "PRIMARY TRANSPORTS",
           "PROCESS EQUIPMENT",
           "PROFESSIONAL SERVICES",
           "SALES SERVICES",
           "SECONDARY FREIGHT",
           "SURPRISE L2",
           "WAREHOUSING",
           "WORKPLACE SERVICES",
           "ADMINISTRATION COST",
           "ADMINISTRATIVE SERVICES",
           "AIR FREIGHT TRANSPORT",
           "B&U PROFESSIONAL SERVICES",
           "BONUS / MALUS (WAREHOUSING)",
           "CERTIFICATIONS",
           "CLEANING",
           "CLEANING (LOCAL)",
           "COMMERCIAL QUALITY AND FRESHNESS",
           "CONSULTANCY SERVICES",
           "CONSUMER RESEARCH (AD-HOC)",
           "CONSUMERS PROMOTION ACTIVITIES",
           "CREATIVE DESIGN",
           "CREATIVE DEVELOPMENT & STRATEGY",
           "DIGITAL & SOCIAL MEDIA MARKETING",
           "DISTRIBUTION",
           "EMPLOYEE SERVICES",
           "EMPLOYEE SERVICES (LOCAL)",
           "ENERGY CERTIFICATES",
           "ENERGY FOR INDUSTRIAL PLANT",
           "EVENTS",
           "EVENTS (LOCAL)",
           "EXPORT OTHER COMMODITIES (AUTOMATIC)",
           "FACILITY MANAGEMENT HARDSERVICES FOR INDUSTRIAL LOCATIONS",
           "FACILITY MANAGEMENT SOFTSERVICES FOR INDUSTRIAL LOCATIONS",
           "FLEET",
           "FLEET (LOCAL)",
           "FOOD SERVICES",
           "FOOD SERVICES (LOCAL)",
           "FREIGHT FORWARDING AGENCIES",
           "FUMIGATION",
           "GADGETS",
           "HANDLING",
           "HARDWARE - PURCHASE/LEASING/MAINTENANCE",
           "HARDWARE - SUBSCRIPTIONS INFRA",
           "INDUSTRIAL AUTOMATION AND ROBOTICS",
           "INFRASTRUCTURE",
           "INSURANCE SERVICES",
           "INSURANCE SERVICES (LOCAL)",
           "LABORATORY EQUIPMENT AND SERVICES",
           "LEGAL & NOTARY SERVICES (LOCAL)",
           "LEGAL & TAX SERVICES",
           "LEGAL CONSULTING (LOCAL)",
           "LICENSING & RIGHTS",
           "MAINTENANCE & IMPROVEMENTS",
           "MAINTENANCE & IMPROVEMENTS (LOCAL)",
           "MAINTENANCE SERVICES",
           "MAN WORK PER HOUR",
           "MARKET MEASUREMENT",
           "MARKETING EVENTS",
           "MERCHANDISING & HOSTESS & BROKER COMMISSIONS",
           "MOLDING & OVENS",
           "NUTS EQUIPMENT & AGRI MOBILE MACHINE",
           "OFFICE SUPPLIES AND SERVICES",
           "OFFICE SUPPLIES AND SERVICES (LOCAL)",
           "OTHER CONSULTING (LOCAL)",
           "OTHER LOGISTICS COSTS",
           "OTHER NON GP SERVICES",
           "OTHER SALES SERVICES",
           "OUTSOURCING - NETWORK TRANSMISSION (LOCAL)",
           "PALLETTS PURCHASING MTL",
           "PALLETTS RENT & LEASE SVC",
           "PAYROLL",
           "PICKING",
           "POS MATERIAL",
           "PREPARATION",
           "PRIMARY PACKAGING",
           "PRODUCTION",
           "PROMOTIONAL ITEMS",
           "PUBLIC RELATIONS",
           "RAIL TRANSPORT",
           "REAL ESTATE",
           "REAL ESTATE (LOCAL)",
           "RECRUITMENT SERVICE",
           "RELOCATION",
           "REPACKING",
           "RETAIL PANELS",
           "ROAD TRANSPORT",
           "SEA TRANSPORT",
           "SECONDARY PACKAGING",
           "SECURITY",
           "SECURITY (LOCAL)",
           "SERVICES - MANAGED SERVICE",
           "SERVICES - T&M/BODY LEASING",
           "SOFTWARE - MAINTENANCE FOR PERPETUAL LICENSES",
           "SOFTWARE - SUBSCRIPTIONS/LICENSES",
           "SPONSORING",
           "STANDALONE EQUIPMENT",
           "STORAGE",
           "SUBSCRIPTIONS/MEMBERSHIPS",
           "SURPRISE L3",
           "TECHNICAL DEVICES FOR POS",
           "TECHNICAL MATERIALS, PPE & CLOTHES",
           "TEMPORARY PERSONNEL",
           "TEMPORARY PERSONNEL (LOCAL)",
           "TRAINING",
           "TRAINING (LOCAL)",
           "TRAVEL",
           "TRAVEL (LOCAL)",
           "UTILITIES",
           "UTILITIES FOR OFFICES (LOCAL)",
           "WAREHOUSE & LOGISTIC",
           "WAREHOUSING LOCATION & LEASING",
           "WASTE MANAGEMENT",
           "Administrative Costs Warehousing",
           "Employees tax services",
           "Financial Audit",
           "Other auditing",
           "Outsourcing of administrative services (bpo)",
           "Services for credit collection",
           "Air Freight Export Fees Costs",
           "Air Freight Transportation Finished Goods",
           "Air Packaging",
           "Air RAW MATERIALS",
           "Air SEMI-FINISHED GOODS",
           "Air Surprises",
           "Design Services",
           "Health and Safety - Site Supervision",
           "Property Cost Estimation & Acquisition",
           "Site supervision",
           "Technical certifications, engineering-related consulting(TS)",
           "Bonus / Malus Warehousing",
           "Environmental Analysis",
           "Standard certifications",
           "Surprises certification",
           "Cleaning, Waste,Pest Services and Material for No Industrial",
           "TR - Cleaning services (GenAdm)",
           "TR - Cleaning services (GenProd)",
           "TR - Pest Control services (GenProd)",
           "Commercial Quality and Freshness monitoring",
           "Function related / professional consultancy",
           "M&A related consultancies",
           "Strategic, Managerial & organizational consulting",
           "Other research activities on consumer, shopper and citizen",
           "Research activities for qualifying Innovation initiatives",
           "Research activities to assess the ADV/Communication Perf.",
           "Researches to understand Consumers, Shopper, Markets",
           "Design & Management of Digital Promotion",
           "Design & Management of non Digital Promotion",
           "Discount Coupons",
           "OTHER SALE DISCOUNTS",
           "Packaging & POS - Artwork, Technical finalization&Templates",
           "Packaging & POS - Creative Concept",
           "Packaging & POS - Mockups / Samples",
           "Surprises - Creative Concepts DIGITAL",
           "Surprises - Creative Concepts TRADITIONAL",
           "Surprises - Marketing Sheets",
           "Surprises - Technical Development",
           "Brand & Communication Strategy",
           "Creative Concept for Advertising Campaigns DIGITAL",
           "Creative Concept for Advertising Campaigns TRADITIONAL",
           "E-commerce Advertising Creative Development",
           "E-commerce Advertising Production",
           "Influencers & Testimonials",
           "SEO/SEM",
           "Social Media Management",
           "Website / App Creation & Maintenance",
           "Control Tower Services",
           "Distribution to Customers and Returned Goods from Customers",
           "Cash Donations",
           "Donations",
           "Donations to employees",
           "Employees Transport Services",
           "Employees event and social activities cost",
           "Health and Safety GP",
           "Medical Services",
           "Recreation employees benefits",
           "School & Kinder garden fees",
           "Translations and interpreting services",
           "TR - Donations to employees (GenAdm)",
           "TR - Employees Transport Services (GenAdm)",
           "TR - Employees Transport Services (GenProd)",
           "TR - Employees event and social activities cost (GenAdm)",
           "TR - Employees event and social activities cost (GenProd)",
           "TR - Health and Safety (GenAdm)",
           "TR - Health and Safety (GenProd)",
           "TR - Translations and interpreting services (GenAdm)",
           "Energy certifications for power",
           "Electrical Energy for Industrial Plant",
           "Fuel for industrial plant",
           "Gas for Industrial Plant",
           "TR - Other Fuel Exp - no deductible",
           "TR - PURCHASE DISTRICT HEATING (GENADM)",
           "Corporate event Expenses",
           "Entertainment expenses (No deductible)",
           "No Commercial Sponsorships",
           "Public relation costs",
           "ITL - Altre spese di rappresentanza",
           "ITL - Spese di rappresentanza",
           "ITL - Spese di rappresentanza min valore",
           "Transport Intermediate Products",
           "Transport Packaging",
           "Transport Raw Materials",
           "Transport Semi Finished",
           "Transport Surprises",
           "Civil maintenance",
           "Electrical Maintenance",
           "Integrated Facility Maintenance",
           "Mechanical maintenance",
           "Cleaning Consultancy and Services",
           "Pest Control",
           "Technical Cleaning material",
           "Waste Management for industrial location",
           "Waste Water Treatment Services",
           "Company Vehicles - Fuel, Oil and other",
           "Company Vehicles - Lease",
           "Company Vehicles - Maintenance costs",
           "Company Vehicles - Management costs",
           "Company Vehicles - Other vehicles",
           "Company Vehicles - Purchase",
           "TR - Company Vehicles - Fuel, Oil and other (GenAdm)",
           "TR - Company Vehicles - Fuel, Oil and other (GenProd)",
           "TR - Company Vehicles - Lease (GenAdm)",
           "TR - Company Vehicles - Lease (GenProd)",
           "TR - Company Vehicles - Lease (S-Wh)",
           "TR - Company Vehicles - Maintenance costs (GenProd)",
           "CANTEEN SERVICES",
           "Catering services",
           "TICKETS RESTAURANT",
           "TR - Canteen Services (GenAdm)",
           "TR - Canteen Services (GenProd)",
           "CUSTOM DECLARATION SERVICES",
           "Customs Docum./Forwarder Services Finish Products",
           "Customs Docum./Forwarder Services Interm-Finished Prd-FI",
           "Customs Docum./Forwarder Services Packaging",
           "Customs Docum./Forwarder Services RAW MATERIALS",
           "Customs Docum./Forwarder Services SEMI-FINISHED GOODS",
           "Customs Docum./Forwarder Services Surprises",
           "Fumigation RAW MATERIALS",
           "Fumigation Svc",
           "GADGET",
           "GADGET OTHER",
           "In-Pack Gadgets_Commercial Co-Pack",
           "In-Pack Gadgets_Industrial co-pack",
           "Services Gadget",
           "Forklift And Machinery Rentals (Ops)",
           "Handling Finish Products",
           "Handling Interm-Finished Prd-FI",
           "Handling RAW MATERIALS",
           "Handling Services",
           "Hardware - Leasing End-User Computing",
           "Hardware - Leasing High Value Server&Storage (>5000$)",
           "Hardware - Leasing Low Value Server&Storage (<5000$)",
           "Hardware - Leasing Printers",
           "Hardware - Maintenance",
           "Hardware - Maintenance Server&Storage",
           "Hardware - Maintenance Voice and Data Network",
           "Hardware - Purchase End-User Computing CAPEX",
           "Hardware - Purchase Server&Storage CAPEX",
           "Hardware - Purchase Voice and Data Network CAPEX",
           "Hardware - Purchase for Mobile devices",
           "Hardware - Purchase for Videoconference devices",
           "Hardware-Leasing High Value Voice and Data Network (>5000$)",
           "Hardware-Leasing Low Value Voice and Data Network (<5000$)",
           "Hardware - Server&Storage (IaaS)",
           "Automation Technical Materials",
           "Automation professional services",
           "CPX - Automation and Digital Software",
           "CPX Electrical and Automation Cabinets",
           "CPX Industrial robotic application system",
           "CPX-Flexible & Advanced Robotics (e.g. cobots,AGV/AMR,drones",
           "OPX - Software, Licence Fee, Assistance",
           "CPX: Civil Equipment / Works",
           "CPX: Electrical Equipment & Installation",
           "CPX: Energy (Sustainability) / Investments",
           "CPX: General Contractos",
           "CPX: Mechanical Equipment & Installation",
           "CPX: Waste Water & Gas Treatment",
           "Plant Utilities EaaS (Equipment as a Service)",
           "Property acquisition",
           "Specific Material For Utilities Machinery And Equipment",
           "Cargo (Insurance)",
           "Client receivables insurance",
           "Cyber Insurance",
           "D&O (Insurance)",
           "Environmental EIL (Insurance)",
           "Liability (Insurance)",
           "Motor vehicle insurance",
           "Optional insurance employees",
           "Optional insurance manager",
           "Personal Insurance",
           "Property Damage and Business Interruption",
           "SUND.LOCAL TX&DUTY",
           "SUNDRY INSURANCE",
           "Travel insurance",
           "TR - Personal insurance (GenAdm)",
           "TR - Sundry insurance (GenAdm)",
           "CHEMICAL MATERIAL",
           "CPX: Equipment",
           "Consumable",
           "Laboratory",
           "Maintenance And Services On Laboratory Equipments",
           "Technical Consultancy And External Lab Analysis",
           "TR - Expenses for notary charges (GenAdm)",
           "Legal Advisory",
           "Legal services",
           "Patents management / Intellectual Property (IP)",
           "Tax & Customs Services Cost",
           "Web domain management",
           "TR - HR&OI Consulting (GenAdm)",
           "TR - Legal consulting (GenAdm)",
           "Licensing - Brands & Content DIGITAL",
           "Licensing - Brands & Content TRADITIONAL",
           "Licensing - Music DIGITAL",
           "Licensing - Music TRADITIONAL",
           "Rights buyout-Authors,Artists,Performers,Personality DIGITAL",
           "Rights buyout-Authors,Artists,Performers,Personality TRADI",
           "BUILDING MAINTENANCE",
           "Building Third Party - Improvements & Equipment Cost",
           "Building owned - Improvements & equipment cost",
           "Building owned - Improvements cost",
           "Ground and green areas maintenance,inclu industrial premises",
           "Industrial Cleaning",
           "Office machines & equipment - Investment",
           "Office machines & equipment - Maintenance",
           "Research & Development cost",
           "Waste treatment, recycling and disposal services",
           "TR - Building Maintenance (GenAdm)",
           "TR - Ground and green areas maintenance (GenAdm)",
           "TR - Ground and green areas maintenance (GenProd)",
           "TR - Handyman services (GenAdm)",
           "TR - Waste treatment, recycling and disposal services (S-Wh)",
           "TR-Waste treatment,recycling and disposal services (GenProd)",
           "CPX - Services in project scope",
           "Maintenace service not depreciable (Maintenance Order)",
           "OPX - Extraordinary Maintenance",
           "OPX - Ordinary Maintenance",
           "OPX - Retrofit/revamping of an equipment or line",
           "Rental Services Fee",
           "Man work per hour svc",
           "Ad hoc reports/analysis on syndicated data (excl RMS)",
           "Consumer panel on-going subscriptions",
           "Other syndicated subscriptions (excluding RMS, CPS)",
           "Panel SPE management",
           "Purchase of product sampling",
           "Subscriptions on Market measurement (license fees)",
           "Brand promotion events",
           "Testimonials Costs",
           "Broker Commissions",
           "Hostess services",
           "Merchandising services",
           "CPX - Basin",
           "CPX - Dosing & Enrobing",
           "CPX - Handling Systems",
           "CPX - Molding :  Ferrero Design & Build",
           "CPX - Molding equipment",
           "CPX - Molds and Forming Equipments",
           "CPX - Oven",
           "CPX - Plate Oven",
           "CPX - Tempering",
           "CPX - Thermic tunnels",
           "Process Engineering professional services",
           "CPX - Agri mobile machine (tractor, harvester)",
           "CPX - Calibrator",
           "CPX - Conveyors,Elevators,Transports, Big Bag station",
           "CPX - General Contractor",
           "CPX - Optical sorters",
           "CPX - Pre-Cleaning/Drying/Vacuum system",
           "CPX - Shellers",
           "CPX - Silos",
           "OPX - Agri Mobile Machine (Tractor, Harvester)",
           "Archiving Services",
           "Office Furniture - Capex",
           "Office supplies",
           "Other Consumables, Material and Small Supplies",
           "Postage & Couriers Fees",
           "Printing Supplies",
           "Printing, photography and videomaking services",
           "Safety supplies",
           "TR - Accessories technology supplies (GenAdm)",
           "TR - Accessories technology supplies (GenProd)",
           "TR - Archiving Services (GenAdm)",
           "TR - Office supplies (GenAdm)",
           "TR - Office supplies (GenProd)",
           "TR - Postage & Couriers Fees (GenAdm)",
           "TR - Postage & Couriers Fees (GenProd)",
           "TR - Printing Supplies (GenProd)",
           "TR - Safety supplies (GenAdm)",
           "TR - Small Furniture - Opex (GenAdm)",
           "TR - Small Furniture - Opex (GenProd)",
           "TR - Tolls and parking",
           "TR - IA & Corporate Communication consulting (GenAdm)",
           "TR - Technical Consulting non-Industrial Buildings (GenAdm)",
           "OTHER LOGISTIC COSTS",
           "Quality Premium Interm-Finished Prd-FI",
           "Penalties and Fines (deductible)",
           "Retail Data monitoring",
           "Sales and B2B Events",
           "TR - Opx Voice, Data Network-Transms(GenAdm)",
           "1/4 Wood Pallets",
           "Epal 80x120 Pallets New",
           "Epal 80x120 Pallets Used 1st Choice",
           "Industrial 100x120 Pallets",
           "Rental 1/2 Plastic Pallets",
           "Rental 1/4 Plastic Pallets",
           "Rental 80x120 Pallets",
           "Rental Industrial 100x120 Pallets",
           "PAYROLL SERVICES",
           "Picking Finish Products",
           "Picking Interm-Finished Prd-FI",
           "Picking RAW MATERIALS",
           "Picking Services",
           "Communication POS material Production",
           "In/Out Functional Display Production - Customized",
           "In/Out Functional Display Production - Standard",
           "In/Out Theatrical Materials Production - Customized",
           "In/Out Theatrical Materials Production - Standard",
           "POS material Development & Sampling",
           "POS material Molds, Toolings, Die Cuts CAPEX",
           "POS materials Storage and Logistic",
           "PROMOTIONAL POINT OF SALE",
           "CPX - Belts",
           "CPX - Cocoa Presses",
           "CPX - Deodorizations",
           "CPX - Dough Preparation",
           "CPX - Liquid Handling & Processing",
           "CPX - Powder handling & processing",
           "CPX - Refiners (incl. prerefiners, conches, mills)",
           "CPX - Roaster",
           "CPX - Tanks (incl. mixer, plastificators)",
           "CPX - Counter and filling machine",
           "CPX - Flow wrapper",
           "CPX - Infeed (incl. raw distributor system / buffer)",
           "CPX - Sealing machine",
           "CPX - Thermoforming",
           "CPX - Wrapping machines",
           "Post-Production of Advertising Content DIGITAL",
           "Post-Production of Advertising Content TRADITIONAL",
           "Production of Advertising Content DIGITAL",
           "Production of Advertising Content TRADITIONAL - Radio",
           "Production of Advertising Content TRADITIONAL - TVC",
           "Production of Advertising Content TRADITIONAL-OOH,Static",
           "Promotional items (including consumer giveaway)",
           "Media Relations, Membership & Partnership",
           "PR Communication Strategy, Advisory, Issues Management",
           "PR Digital Activities & Tools",
           "Rail Surprises",
           "Additional Services and Costs for Real Estate Lease",
           "Co-working & flexible spaces lease",
           "Local Small Building rent",
           "Real Estate Office Lease",
           "Real Estate Short-Term Lease <12 Months",
           "Real estate Retail lease",
           "Real estate others (no industrial, no supply chain)",
           "TR - Real Estate Office Lease (GenAdm)",
           "Job postings",
           "RECRUITMENT",
           "Employees relocation services",
           "Long Stay Relocation",
           "Repacking/Rebulking Finish Products",
           "Repacking/Rebulking RAW MATERIALS",
           "Ad hoc reports/ analysis performed on Retail Panel DB",
           "Retail Panels DB",
           "Subscriptions on Retail panels (license fees)",
           "Booking System Services - Third Parties (TBD)",
           "Destruction Product Transport",
           "EXPORT EXPENSES FOR",
           "Export Expenses For Various Sales",
           "Extra Cost  Transpor Finished product",
           "Extra Cost  Transpor Interm-finished Product",
           "Extra Cost  Transpor Packaging",
           "Extra Cost  Transpor Raw Material",
           "Extra Cost  Transpor Semi-finished Product",
           "Extra Cost  Transpor Surprise",
           "Extra-waiting Finish Products",
           "Extra-waiting Interm-Finished Prd-FI",
           "Extra-waiting Packaging",
           "Extra-waiting RAW MATERIALS",
           "Extra-waiting SEMI-FINISHED GOODS",
           "Extra-waiting Surprises",
           "Inspections/Sanitary Controls Finish Products",
           "Inspections/Sanitary Controls Interm-Finished Prd-FI",
           "Inspections/Sanitary Controls SEMI-FINISHED GOODS",
           "Road Finish Products",
           "Road Interm-Finished Prd-FI",
           "Road Packaging",
           "Road RAW MATERIALS",
           "Road SEMI-FINISHED GOODS",
           "Road Surprises",
           "Road Transportation",
           "Road Transportation Administrative Costs",
           "Road Transportation Costs For Foreign Stays (Demurrages)",
           "Road Transportation Finished Products Export Costs",
           "Road Transportation Fleet Rental & Depots",
           "Special Projects Finish Products",
           "Sea Finish Products",
           "Sea Interm-Finished Prd-FI",
           "Sea Packaging",
           "Sea RAW MATERIALS",
           "Sea SEMI-FINISHED GOODS",
           "Sea Surprises",
           "Sea Transportation",
           "Sea Transportation Export Fees Costs",
           "CPX - Bagging Machines",
           "CPX - Box Forming Machine",
           "CPX - Forming, filling and closing",
           "CPX - Pal- & Depalletizers",
           "CPX - Sleeve & Shrink Machines",
           "CCTV",
           "Manned guarding services",
           "People Security Services",
           "Physical and Supply Chain security",
           "Porter and reception services",
           "Risk assessment and threat intelligence",
           "Security technology",
           "TR - People Security (GenAdm)",
           "TR - Security technology (GenAdm)",
           "1st Level Support Outsourcing Applications",
           "1st Level Support Outsourcing Technology",
           "2nd Level Suport Outsourcing Applications",
           "2nd Level Support Outsourcing Technology",
           "Applications Development - System Integration CAPEX",
           "End-User Computing Laptop, Workstation Outsourcing",
           "End-User Computing Mobile Communications Outsourcing",
           "End-User Computing Mobile Management Outsourcing",
           "Server&Storage Outsourcing",
           "Voice and Data Network Communications Outsourcing",
           "Voice and Data Network Outsourcing",
           "Applications Development T&M CAPEX",
           "Applications Run and Maintenance T&M",
           "Corporate IT Management, Finance and Administration T&M",
           "End-User Computing T&M",
           "IT Service Desk T&M",
           "Server&Storage T&M",
           "Server&Storage T&M CAPEX",
           "Voice and Data Network T&M",
           "Maintenance Application Software",
           "Maintenance End-User Computing Software",
           "Maintenance Server&Storage Software",
           "Maintenance Voice and Data Network Software",
           "Application Perpetual Licenses CAPEX",
           "Cloud Application Development",
           "Cloud License Application Maintenance",
           "End-User Computing Licenses CAPEX",
           "Purchase Applications Licenses",
           "Server&Storage Licenses CAPEX",
           "Subscription End-User Computing (SaaS)",
           "Subscription Voice and Data Network (IaaS)",
           "Voice and Data Network Licenses CAPEX",
           "Events Sponsorships & Partnership",
           "CPX - Check weigher",
           "CPX - Conveyors and Handling",
           "CPX - Gluing machine",
           "CPX - Labellers",
           "CPX - Metal detector",
           "CPX - Printer",
           "CPX - Vision & Cameras",
           "CPX - X-Ray",
           "OTHER LOGISTIC COSTS (FG WH)",
           "Storage Finish Products",
           "Storage Finished Products (co-packing)",
           "Storage Interm-Finished Prd-FI",
           "Storage Mtl",
           "Storage Packaging",
           "Storage RAW MATERIALS",
           "Storage SEMI-FINISHED GOODS",
           "Storage Surprises",
           "Books, periodicals subscription (digital or not)",
           "Business Association fees",
           "Data source provider, knowledge database subscription",
           "NGO, Donations",
           "PALLETS",
           "Check Out Display Production",
           "Fridges lease/rent and other tech devices for point of Sale",
           "Fridges production and other tech devices for POS - CAPEX",
           "Fridges production and other tech devices for POS-excl CAPEX",
           "PROM.MAT.CASHDESK",
           "PROMO POS MODERN",
           "PROMO POS TRADNL",
           "PROMOTIONAL GIFTS",
           "Permanent Materials Production - Secondary Placement",
           "Services for fridge and other tech devices for Point of Sale",
           "Axes/shafts",
           "BEARINGS AND LINEAR GUIDES",
           "BRAKES AND CLUTCHES",
           "Batteries",
           "Belts",
           "Brushes",
           "Building materials",
           "CONTROL INSTRUMENTS",
           "CPX Technical Material",
           "Cams",
           "Chains",
           "Cod - PPE, Safety Work Products, Fire Protection",
           "Codified - Clothes & Uniforms, Safety Shoes",
           "Computer (process)",
           "Couplings",
           "Cutting tools",
           "Cylinders",
           "Dampers",
           "Dosing nozzles",
           "ELECTRIC MOTORS AND DRIVES",
           "ELECTRICAL / ELECTRONICAL COMPONENTS",
           "Electric cables",
           "Electronic cables",
           "FIXING ELEMENTS",
           "Fans",
           "Filters",
           "Flexible pipes",
           "Fuels",
           "GEARS",
           "Gas Consumables",
           "Gaskets/Seals",
           "Gearboxes",
           "Generic consumables",
           "Glues",
           "HYDRAULIC AND PNEUMATIC FITTINGS",
           "Heaters",
           "Infirmary",
           "Laundry Services",
           "Levers",
           "Lighting",
           "Locks, Handles",
           "Lubricants",
           "Measure devices and Control instruments",
           "Not cod - PPE, Safety Work Products, Fire Protection",
           "Not codified - Clothes & Uniforms, Safety Shoes",
           "Other Materials Immediate Use for Maintenance Plant",
           "Other Materials Immediate Use for Production Assistance",
           "Other Spare parts (not codified, catalogues items)",
           "PHOTOCELLS AND PROXIMITY SWITCHES",
           "PRINTERS CONSUMABLES",
           "PRINTERS SPARE PARTS",
           "PRODUCTION TOOLS",
           "Paint",
           "Pulleys",
           "Pumps",
           "Rigid pipes",
           "Rollers",
           "SPARE PARTS FOR GAS PLANTS",
           "SPECIFIC DRAWING COMPONENTS",
           "SPROCKET WHEELS",
           "Screws",
           "Spare Parts - Conveyors",
           "Spare Parts Utilities",
           "Spare parts kits",
           "Springs",
           "Suction cups",
           "Valves",
           "Vibrators",
           "WORKSHOP TOOLS",
           "Water for industrial plant",
           "Wheels",
           "Сonstruction",
           "Temporary Personnels",
           "TR - Temporary personnel (GenAdm)",
           "TR - Temporary personnel (GenProd)",
           "Training Design & Cost of Personal",
           "TR - Training costs of personnel (GenAdm)",
           "TR - Training costs of personnel (GenProd)",
           "Hotel accommodation",
           "Long stay accommodation",
           "Other travel services",
           "Transportation - Flights",
           "Transportation - Other",
           "Transportation - Short-term Rental Cars",
           "Travel Agencies fees & services",
           "TR - Travel Agencies fees & services (GenAdm)",
           "TR - Travel Agencies fees & services (GenProd)",
           "Utilities - Electric Energy for Offices",
           "Utilities - Office Gas",
           "Utilities - Office Water",
           "TR - ELECTRICITY (GENADM)",
           "TR - ELECTRICITY (GENPROD)",
           "TR - GAS (GENPROD)",
           "TR - WATER (GENADM)",
           "TR - WATER (GENPROD)",
           "CPX - Automatic Warehouses",
           "CPX - Conveying Systems",
           "CPX - Forklifts (Buy)",
           "CPX - Warehousing - Racks",
           "OPX - Forklifts (Rental & Service)",
           "TR-Specific Mtl For Warehouse, Lift And Handl. Equip.(S-Wh)",
           "WAREHOUSE LEASE",
           "Warehouse Rent",
           "Warehouse Rental Other Costs (cleaning, security, etc…)",
           "Waste Management Svc"
          ],
          "line": {
           "color": "black",
           "width": 0.5
          },
          "pad": 25,
          "thickness": 30
         },
         "type": "sankey"
        }
       ],
       "layout": {
        "font": {
         "size": 10
        },
        "height": 900,
        "margin": {
         "b": 20,
         "l": 20,
         "r": 20,
         "t": 60
        },
        "template": {
         "data": {
          "bar": [
           {
            "error_x": {
             "color": "#2a3f5f"
            },
            "error_y": {
             "color": "#2a3f5f"
            },
            "marker": {
             "line": {
              "color": "#E5ECF6",
              "width": 0.5
             },
             "pattern": {
              "fillmode": "overlay",
              "size": 10,
              "solidity": 0.2
             }
            },
            "type": "bar"
           }
          ],
          "barpolar": [
           {
            "marker": {
             "line": {
              "color": "#E5ECF6",
              "width": 0.5
             },
             "pattern": {
              "fillmode": "overlay",
              "size": 10,
              "solidity": 0.2
             }
            },
            "type": "barpolar"
           }
          ],
          "carpet": [
           {
            "aaxis": {
             "endlinecolor": "#2a3f5f",
             "gridcolor": "white",
             "linecolor": "white",
             "minorgridcolor": "white",
             "startlinecolor": "#2a3f5f"
            },
            "baxis": {
             "endlinecolor": "#2a3f5f",
             "gridcolor": "white",
             "linecolor": "white",
             "minorgridcolor": "white",
             "startlinecolor": "#2a3f5f"
            },
            "type": "carpet"
           }
          ],
          "choropleth": [
           {
            "colorbar": {
             "outlinewidth": 0,
             "ticks": ""
            },
            "type": "choropleth"
           }
          ],
          "contour": [
           {
            "colorbar": {
             "outlinewidth": 0,
             "ticks": ""
            },
            "colorscale": [
             [
              0,
              "#0d0887"
             ],
             [
              0.1111111111111111,
              "#46039f"
             ],
             [
              0.2222222222222222,
              "#7201a8"
             ],
             [
              0.3333333333333333,
              "#9c179e"
             ],
             [
              0.4444444444444444,
              "#bd3786"
             ],
             [
              0.5555555555555556,
              "#d8576b"
             ],
             [
              0.6666666666666666,
              "#ed7953"
             ],
             [
              0.7777777777777778,
              "#fb9f3a"
             ],
             [
              0.8888888888888888,
              "#fdca26"
             ],
             [
              1,
              "#f0f921"
             ]
            ],
            "type": "contour"
           }
          ],
          "contourcarpet": [
           {
            "colorbar": {
             "outlinewidth": 0,
             "ticks": ""
            },
            "type": "contourcarpet"
           }
          ],
          "heatmap": [
           {
            "colorbar": {
             "outlinewidth": 0,
             "ticks": ""
            },
            "colorscale": [
             [
              0,
              "#0d0887"
             ],
             [
              0.1111111111111111,
              "#46039f"
             ],
             [
              0.2222222222222222,
              "#7201a8"
             ],
             [
              0.3333333333333333,
              "#9c179e"
             ],
             [
              0.4444444444444444,
              "#bd3786"
             ],
             [
              0.5555555555555556,
              "#d8576b"
             ],
             [
              0.6666666666666666,
              "#ed7953"
             ],
             [
              0.7777777777777778,
              "#fb9f3a"
             ],
             [
              0.8888888888888888,
              "#fdca26"
             ],
             [
              1,
              "#f0f921"
             ]
            ],
            "type": "heatmap"
           }
          ],
          "heatmapgl": [
           {
            "colorbar": {
             "outlinewidth": 0,
             "ticks": ""
            },
            "colorscale": [
             [
              0,
              "#0d0887"
             ],
             [
              0.1111111111111111,
              "#46039f"
             ],
             [
              0.2222222222222222,
              "#7201a8"
             ],
             [
              0.3333333333333333,
              "#9c179e"
             ],
             [
              0.4444444444444444,
              "#bd3786"
             ],
             [
              0.5555555555555556,
              "#d8576b"
             ],
             [
              0.6666666666666666,
              "#ed7953"
             ],
             [
              0.7777777777777778,
              "#fb9f3a"
             ],
             [
              0.8888888888888888,
              "#fdca26"
             ],
             [
              1,
              "#f0f921"
             ]
            ],
            "type": "heatmapgl"
           }
          ],
          "histogram": [
           {
            "marker": {
             "pattern": {
              "fillmode": "overlay",
              "size": 10,
              "solidity": 0.2
             }
            },
            "type": "histogram"
           }
          ],
          "histogram2d": [
           {
            "colorbar": {
             "outlinewidth": 0,
             "ticks": ""
            },
            "colorscale": [
             [
              0,
              "#0d0887"
             ],
             [
              0.1111111111111111,
              "#46039f"
             ],
             [
              0.2222222222222222,
              "#7201a8"
             ],
             [
              0.3333333333333333,
              "#9c179e"
             ],
             [
              0.4444444444444444,
              "#bd3786"
             ],
             [
              0.5555555555555556,
              "#d8576b"
             ],
             [
              0.6666666666666666,
              "#ed7953"
             ],
             [
              0.7777777777777778,
              "#fb9f3a"
             ],
             [
              0.8888888888888888,
              "#fdca26"
             ],
             [
              1,
              "#f0f921"
             ]
            ],
            "type": "histogram2d"
           }
          ],
          "histogram2dcontour": [
           {
            "colorbar": {
             "outlinewidth": 0,
             "ticks": ""
            },
            "colorscale": [
             [
              0,
              "#0d0887"
             ],
             [
              0.1111111111111111,
              "#46039f"
             ],
             [
              0.2222222222222222,
              "#7201a8"
             ],
             [
              0.3333333333333333,
              "#9c179e"
             ],
             [
              0.4444444444444444,
              "#bd3786"
             ],
             [
              0.5555555555555556,
              "#d8576b"
             ],
             [
              0.6666666666666666,
              "#ed7953"
             ],
             [
              0.7777777777777778,
              "#fb9f3a"
             ],
             [
              0.8888888888888888,
              "#fdca26"
             ],
             [
              1,
              "#f0f921"
             ]
            ],
            "type": "histogram2dcontour"
           }
          ],
          "mesh3d": [
           {
            "colorbar": {
             "outlinewidth": 0,
             "ticks": ""
            },
            "type": "mesh3d"
           }
          ],
          "parcoords": [
           {
            "line": {
             "colorbar": {
              "outlinewidth": 0,
              "ticks": ""
             }
            },
            "type": "parcoords"
           }
          ],
          "pie": [
           {
            "automargin": true,
            "type": "pie"
           }
          ],
          "scatter": [
           {
            "fillpattern": {
             "fillmode": "overlay",
             "size": 10,
             "solidity": 0.2
            },
            "type": "scatter"
           }
          ],
          "scatter3d": [
           {
            "line": {
             "colorbar": {
              "outlinewidth": 0,
              "ticks": ""
             }
            },
            "marker": {
             "colorbar": {
              "outlinewidth": 0,
              "ticks": ""
             }
            },
            "type": "scatter3d"
           }
          ],
          "scattercarpet": [
           {
            "marker": {
             "colorbar": {
              "outlinewidth": 0,
              "ticks": ""
             }
            },
            "type": "scattercarpet"
           }
          ],
          "scattergeo": [
           {
            "marker": {
             "colorbar": {
              "outlinewidth": 0,
              "ticks": ""
             }
            },
            "type": "scattergeo"
           }
          ],
          "scattergl": [
           {
            "marker": {
             "colorbar": {
              "outlinewidth": 0,
              "ticks": ""
             }
            },
            "type": "scattergl"
           }
          ],
          "scattermapbox": [
           {
            "marker": {
             "colorbar": {
              "outlinewidth": 0,
              "ticks": ""
             }
            },
            "type": "scattermapbox"
           }
          ],
          "scatterpolar": [
           {
            "marker": {
             "colorbar": {
              "outlinewidth": 0,
              "ticks": ""
             }
            },
            "type": "scatterpolar"
           }
          ],
          "scatterpolargl": [
           {
            "marker": {
             "colorbar": {
              "outlinewidth": 0,
              "ticks": ""
             }
            },
            "type": "scatterpolargl"
           }
          ],
          "scatterternary": [
           {
            "marker": {
             "colorbar": {
              "outlinewidth": 0,
              "ticks": ""
             }
            },
            "type": "scatterternary"
           }
          ],
          "surface": [
           {
            "colorbar": {
             "outlinewidth": 0,
             "ticks": ""
            },
            "colorscale": [
             [
              0,
              "#0d0887"
             ],
             [
              0.1111111111111111,
              "#46039f"
             ],
             [
              0.2222222222222222,
              "#7201a8"
             ],
             [
              0.3333333333333333,
              "#9c179e"
             ],
             [
              0.4444444444444444,
              "#bd3786"
             ],
             [
              0.5555555555555556,
              "#d8576b"
             ],
             [
              0.6666666666666666,
              "#ed7953"
             ],
             [
              0.7777777777777778,
              "#fb9f3a"
             ],
             [
              0.8888888888888888,
              "#fdca26"
             ],
             [
              1,
              "#f0f921"
             ]
            ],
            "type": "surface"
           }
          ],
          "table": [
           {
            "cells": {
             "fill": {
              "color": "#EBF0F8"
             },
             "line": {
              "color": "white"
             }
            },
            "header": {
             "fill": {
              "color": "#C8D4E3"
             },
             "line": {
              "color": "white"
             }
            },
            "type": "table"
           }
          ]
         },
         "layout": {
          "annotationdefaults": {
           "arrowcolor": "#2a3f5f",
           "arrowhead": 0,
           "arrowwidth": 1
          },
          "autotypenumbers": "strict",
          "coloraxis": {
           "colorbar": {
            "outlinewidth": 0,
            "ticks": ""
           }
          },
          "colorscale": {
           "diverging": [
            [
             0,
             "#8e0152"
            ],
            [
             0.1,
             "#c51b7d"
            ],
            [
             0.2,
             "#de77ae"
            ],
            [
             0.3,
             "#f1b6da"
            ],
            [
             0.4,
             "#fde0ef"
            ],
            [
             0.5,
             "#f7f7f7"
            ],
            [
             0.6,
             "#e6f5d0"
            ],
            [
             0.7,
             "#b8e186"
            ],
            [
             0.8,
             "#7fbc41"
            ],
            [
             0.9,
             "#4d9221"
            ],
            [
             1,
             "#276419"
            ]
           ],
           "sequential": [
            [
             0,
             "#0d0887"
            ],
            [
             0.1111111111111111,
             "#46039f"
            ],
            [
             0.2222222222222222,
             "#7201a8"
            ],
            [
             0.3333333333333333,
             "#9c179e"
            ],
            [
             0.4444444444444444,
             "#bd3786"
            ],
            [
             0.5555555555555556,
             "#d8576b"
            ],
            [
             0.6666666666666666,
             "#ed7953"
            ],
            [
             0.7777777777777778,
             "#fb9f3a"
            ],
            [
             0.8888888888888888,
             "#fdca26"
            ],
            [
             1,
             "#f0f921"
            ]
           ],
           "sequentialminus": [
            [
             0,
             "#0d0887"
            ],
            [
             0.1111111111111111,
             "#46039f"
            ],
            [
             0.2222222222222222,
             "#7201a8"
            ],
            [
             0.3333333333333333,
             "#9c179e"
            ],
            [
             0.4444444444444444,
             "#bd3786"
            ],
            [
             0.5555555555555556,
             "#d8576b"
            ],
            [
             0.6666666666666666,
             "#ed7953"
            ],
            [
             0.7777777777777778,
             "#fb9f3a"
            ],
            [
             0.8888888888888888,
             "#fdca26"
            ],
            [
             1,
             "#f0f921"
            ]
           ]
          },
          "colorway": [
           "#636efa",
           "#EF553B",
           "#00cc96",
           "#ab63fa",
           "#FFA15A",
           "#19d3f3",
           "#FF6692",
           "#B6E880",
           "#FF97FF",
           "#FECB52"
          ],
          "font": {
           "color": "#2a3f5f"
          },
          "geo": {
           "bgcolor": "white",
           "lakecolor": "white",
           "landcolor": "#E5ECF6",
           "showlakes": true,
           "showland": true,
           "subunitcolor": "white"
          },
          "hoverlabel": {
           "align": "left"
          },
          "hovermode": "closest",
          "mapbox": {
           "style": "light"
          },
          "paper_bgcolor": "white",
          "plot_bgcolor": "#E5ECF6",
          "polar": {
           "angularaxis": {
            "gridcolor": "white",
            "linecolor": "white",
            "ticks": ""
           },
           "bgcolor": "#E5ECF6",
           "radialaxis": {
            "gridcolor": "white",
            "linecolor": "white",
            "ticks": ""
           }
          },
          "scene": {
           "xaxis": {
            "backgroundcolor": "#E5ECF6",
            "gridcolor": "white",
            "gridwidth": 2,
            "linecolor": "white",
            "showbackground": true,
            "ticks": "",
            "zerolinecolor": "white"
           },
           "yaxis": {
            "backgroundcolor": "#E5ECF6",
            "gridcolor": "white",
            "gridwidth": 2,
            "linecolor": "white",
            "showbackground": true,
            "ticks": "",
            "zerolinecolor": "white"
           },
           "zaxis": {
            "backgroundcolor": "#E5ECF6",
            "gridcolor": "white",
            "gridwidth": 2,
            "linecolor": "white",
            "showbackground": true,
            "ticks": "",
            "zerolinecolor": "white"
           }
          },
          "shapedefaults": {
           "line": {
            "color": "#2a3f5f"
           }
          },
          "ternary": {
           "aaxis": {
            "gridcolor": "white",
            "linecolor": "white",
            "ticks": ""
           },
           "baxis": {
            "gridcolor": "white",
            "linecolor": "white",
            "ticks": ""
           },
           "bgcolor": "#E5ECF6",
           "caxis": {
            "gridcolor": "white",
            "linecolor": "white",
            "ticks": ""
           }
          },
          "title": {
           "x": 0.05
          },
          "xaxis": {
           "automargin": true,
           "gridcolor": "white",
           "linecolor": "white",
           "ticks": "",
           "title": {
            "standoff": 15
           },
           "zerolinecolor": "white",
           "zerolinewidth": 2
          },
          "yaxis": {
           "automargin": true,
           "gridcolor": "white",
           "linecolor": "white",
           "ticks": "",
           "title": {
            "standoff": 15
           },
           "zerolinecolor": "white",
           "zerolinewidth": 2
          }
         }
        },
        "title": {
         "text": "Category Hierarchy (L1 → L4) Colored by Supplier Discriminative Score"
        }
       }
      }
     },
     "metadata": {},
     "output_type": "display_data"
    }
   ],
   "source": [
    "# Re-run the full workflow to generate the colored Sankey chart based on supplier discriminative score\n",
    "\n",
    "df_new = df.copy()\n",
    "\n",
    "# Step 2: Create full category path\n",
    "category_cols = ['puor_ds_level1_new', 'puor_ds_level2_new', 'puor_ds_level3_new', 'puor_ds_level4_new']\n",
    "df_new['full_category_path'] = df_new[category_cols].apply(lambda x: ' > '.join(x.dropna()), axis=1)\n",
    "\n",
    "# Step 3: Count unique category paths per supplier\n",
    "supplier_category_counts = df_new.groupby('puor_id_lfa1_supplier')['full_category_path'].nunique().reset_index()\n",
    "supplier_category_counts.columns = ['supplier', 'distinct_category_paths']\n",
    "\n",
    "# Step 4: Merge back to main dataframe\n",
    "df_highlight = df_new.merge(supplier_category_counts, left_on='puor_id_lfa1_supplier', right_on='supplier', how='left')\n",
    "\n",
    "# Step 5: Define function to prepare edges with discriminative score\n",
    "def prepare_colored_edges(df, level_from, level_to):\n",
    "    group = df.groupby([level_from, level_to, 'puor_id_lfa1_supplier', 'distinct_category_paths']).size().reset_index(name='count')\n",
    "    idx = group.groupby([level_from, level_to])['count'].idxmax()\n",
    "    top_suppliers = group.loc[idx].reset_index(drop=True)\n",
    "    return top_suppliers.rename(columns={\n",
    "        level_from: 'source_label',\n",
    "        level_to: 'target_label',\n",
    "        'puor_id_lfa1_supplier': 'top_supplier',\n",
    "        'distinct_category_paths': 'discriminative_score',\n",
    "        'count': 'po_lines'\n",
    "    })\n",
    "\n",
    "# Step 6: Prepare edges\n",
    "edges_l1_l2 = prepare_colored_edges(df_highlight, 'puor_ds_level1_new', 'puor_ds_level2_new')\n",
    "edges_l2_l3 = prepare_colored_edges(df_highlight, 'puor_ds_level2_new', 'puor_ds_level3_new')\n",
    "edges_l3_l4 = prepare_colored_edges(df_highlight, 'puor_ds_level3_new', 'puor_ds_level4_new')\n",
    "all_edges = pd.concat([edges_l1_l2, edges_l2_l3, edges_l3_l4], ignore_index=True)\n",
    "\n",
    "# Step 7: Build node index\n",
    "nodes_ordered = pd.unique(all_edges[['source_label', 'target_label']].values.ravel('K')).tolist()\n",
    "node_indices = {label: idx for idx, label in enumerate(nodes_ordered)}\n",
    "\n",
    "# Step 8: Prepare Sankey inputs\n",
    "sources = [node_indices[row['source_label']] for _, row in all_edges.iterrows()]\n",
    "targets = [node_indices[row['target_label']] for _, row in all_edges.iterrows()]\n",
    "values = all_edges['po_lines'].tolist()\n",
    "customdata = all_edges[['source_label', 'target_label', 'top_supplier', 'po_lines', 'discriminative_score']].values.tolist()\n",
    "\n",
    "# Normalize discriminative score for opacity\n",
    "max_score = all_edges['discriminative_score'].max()\n",
    "normalized_scores = [1 - (s / max_score) for s in all_edges['discriminative_score']]\n",
    "link_colors = [f'rgba(0, 100, 200, {0.2 + 0.8 * s})' for s in normalized_scores]\n",
    "\n",
    "# Step 9: Create and display the Sankey diagram\n",
    "fig = go.Figure(data=[go.Sankey(\n",
    "    arrangement=\"fixed\",\n",
    "    node=dict(\n",
    "        pad=25,\n",
    "        thickness=30,\n",
    "        line=dict(color=\"black\", width=0.5),\n",
    "        label=nodes_ordered,\n",
    "        color=\"lightblue\"\n",
    "    ),\n",
    "    link=dict(\n",
    "        source=sources,\n",
    "        target=targets,\n",
    "        value=values,\n",
    "        color=link_colors,\n",
    "        customdata=customdata,\n",
    "        hovertemplate=(\n",
    "            \"<b>From:</b> %{customdata[0]}<br>\" +\n",
    "            \"<b>To:</b> %{customdata[1]}<br>\" +\n",
    "            \"<b>Top Supplier:</b> %{customdata[2]}<br>\" +\n",
    "            \"<b>PO Lines:</b> %{customdata[3]}<br>\" +\n",
    "            \"<b>Discriminative Score:</b> %{customdata[4]}<extra></extra>\"\n",
    "        )\n",
    "    ))])\n",
    "\n",
    "fig.update_layout(\n",
    "    title_text=\"Category Hierarchy (L1 → L4) Colored by Supplier Discriminative Score\",\n",
    "    font_size=10,\n",
    "    height=900,\n",
    "    margin=dict(l=20, r=20, t=60, b=20)\n",
    ")\n",
    "fig.show()\n"
   ]
  }
 ],
 "metadata": {
  "kernelspec": {
   "display_name": "Python 3",
   "language": "python",
   "name": "python3"
  },
  "language_info": {
   "codemirror_mode": {
    "name": "ipython",
    "version": 3
   },
   "file_extension": ".py",
   "mimetype": "text/x-python",
   "name": "python",
   "nbconvert_exporter": "python",
   "pygments_lexer": "ipython3",
   "version": "3.9.12"
  }
 },
 "nbformat": 4,
 "nbformat_minor": 5
}
