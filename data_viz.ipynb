{
 "cells": [
  {
   "cell_type": "markdown",
   "id": "5a959262",
   "metadata": {},
   "source": [
    "# Data Visualizations"
   ]
  },
  {
   "cell_type": "code",
   "execution_count": 9,
   "id": "d62cb692",
   "metadata": {},
   "outputs": [],
   "source": [
    "import pandas as pd\n",
    "import plotly.express as px\n",
    "import plotly.graph_objects as go\n",
    "from plotly.subplots import make_subplots\n",
    "import plotly.colors as pc\n",
    "from wordcloud import WordCloud\n",
    "import ast\n",
    "import matplotlib.pyplot as plt\n",
    "import matplotlib.patches as mpatches\n",
    "import json\n",
    "\n"
   ]
  },
  {
   "cell_type": "code",
   "execution_count": 10,
   "id": "d34ed52f",
   "metadata": {},
   "outputs": [],
   "source": [
    "%load_ext watermark"
   ]
  },
  {
   "cell_type": "code",
   "execution_count": 11,
   "id": "e7af6fee",
   "metadata": {},
   "outputs": [
    {
     "name": "stdout",
     "output_type": "stream",
     "text": [
      "json      : 2.0.9\n",
      "plotly    : 5.11.0\n",
      "pandas    : 1.4.2\n",
      "matplotlib: 3.5.1\n",
      "\n"
     ]
    }
   ],
   "source": [
    "%watermark -iv"
   ]
  },
  {
   "cell_type": "markdown",
   "id": "eeecf970",
   "metadata": {},
   "source": [
    "# Data Viz 1\n",
    "Check and compare balance of each dataset (train and test set)"
   ]
  },
  {
   "cell_type": "code",
   "execution_count": 2,
   "id": "48267f34",
   "metadata": {},
   "outputs": [],
   "source": [
    "df_train = pd.read_csv(r\"C:\\Users\\riccardoricci\\Documents\\data_MADS_CAPSTONE\\train_features.csv\")\n",
    "df_test = pd.read_csv(r\"C:\\Users\\riccardoricci\\Documents\\data_MADS_CAPSTONE\\test_features.csv\")"
   ]
  },
  {
   "cell_type": "code",
   "execution_count": 3,
   "id": "5ca5f34e",
   "metadata": {},
   "outputs": [],
   "source": [
    "# Create a consistent color map\n",
    "palette = pc.qualitative.Plotly  # You can pick others like 'Set3', 'Pastel', etc.\n",
    "\n",
    "color_map = {cat: palette[i % len(palette)] for i, cat in enumerate(sorted(df_train.puor_ds_level1_new.unique()))}"
   ]
  },
  {
   "cell_type": "code",
   "execution_count": 4,
   "id": "6249b27f",
   "metadata": {},
   "outputs": [
    {
     "data": {
      "application/vnd.plotly.v1+json": {
       "config": {
        "plotlyServerURL": "https://plot.ly"
       },
       "data": [
        {
         "branchvalues": "total",
         "customdata": [
          [
           "SUPPLY CHAIN"
          ],
          [
           "GENERAL PROCUREMENT"
          ],
          [
           "GENERAL PROCUREMENT"
          ],
          [
           "TECHNICAL PROCUREMENT"
          ],
          [
           "GENERAL PROCUREMENT"
          ],
          [
           "GENERAL PROCUREMENT"
          ],
          [
           "GENERAL PROCUREMENT"
          ],
          [
           "GENERAL PROCUREMENT"
          ],
          [
           "GENERAL PROCUREMENT"
          ],
          [
           "GENERAL PROCUREMENT"
          ],
          [
           "GENERAL PROCUREMENT"
          ],
          [
           "GENERAL PROCUREMENT"
          ],
          [
           "GENERAL PROCUREMENT"
          ],
          [
           "GENERAL PROCUREMENT"
          ],
          [
           "GENERAL PROCUREMENT"
          ],
          [
           "GENERAL PROCUREMENT"
          ],
          [
           "GENERAL PROCUREMENT"
          ],
          [
           "GENERAL PROCUREMENT"
          ],
          [
           "GENERAL PROCUREMENT"
          ],
          [
           "GENERAL PROCUREMENT"
          ],
          [
           "GENERAL PROCUREMENT"
          ],
          [
           "SUPPLY CHAIN"
          ],
          [
           "GENERAL PROCUREMENT"
          ],
          [
           "GENERAL PROCUREMENT"
          ],
          [
           "TECHNICAL PROCUREMENT"
          ],
          [
           "GENERAL PROCUREMENT"
          ],
          [
           "TECHNICAL PROCUREMENT"
          ],
          [
           "TECHNICAL PROCUREMENT"
          ],
          [
           "TECHNICAL PROCUREMENT"
          ],
          [
           "SUPPLY CHAIN"
          ],
          [
           "GENERAL PROCUREMENT"
          ],
          [
           "TECHNICAL PROCUREMENT"
          ],
          [
           "GENERAL PROCUREMENT"
          ],
          [
           "SUPPLY CHAIN"
          ],
          [
           "SUPPLY CHAIN"
          ],
          [
           "SUPPLY CHAIN"
          ],
          [
           "SUPPLY CHAIN"
          ],
          [
           "SUPPLY CHAIN"
          ],
          [
           "SUPPLY CHAIN"
          ],
          [
           "SUPPLY CHAIN"
          ],
          [
           "TECHNICAL PROCUREMENT"
          ],
          [
           "GENERAL PROCUREMENT"
          ],
          [
           "GENERAL PROCUREMENT"
          ],
          [
           "GENERAL PROCUREMENT"
          ],
          [
           "TECHNICAL PROCUREMENT"
          ],
          [
           "TECHNICAL PROCUREMENT"
          ],
          [
           "GENERAL PROCUREMENT"
          ],
          [
           "GENERAL PROCUREMENT"
          ],
          [
           "GENERAL PROCUREMENT"
          ],
          [
           "GENERAL PROCUREMENT"
          ],
          [
           "GENERAL PROCUREMENT"
          ],
          [
           "GENERAL PROCUREMENT"
          ],
          [
           "GENERAL PROCUREMENT"
          ],
          [
           "GENERAL PROCUREMENT"
          ],
          [
           "GENERAL PROCUREMENT"
          ],
          [
           "GENERAL PROCUREMENT"
          ],
          [
           "GENERAL PROCUREMENT"
          ],
          [
           "GENERAL PROCUREMENT"
          ],
          [
           "GENERAL PROCUREMENT"
          ],
          [
           "GENERAL PROCUREMENT"
          ],
          [
           "GENERAL PROCUREMENT"
          ],
          [
           "GENERAL PROCUREMENT"
          ],
          [
           "GENERAL PROCUREMENT"
          ],
          [
           "GENERAL PROCUREMENT"
          ],
          [
           "GENERAL PROCUREMENT"
          ],
          [
           "GENERAL PROCUREMENT"
          ],
          [
           "GENERAL PROCUREMENT"
          ],
          [
           "GENERAL PROCUREMENT"
          ],
          [
           "GENERAL PROCUREMENT"
          ],
          [
           "GENERAL PROCUREMENT"
          ],
          [
           "GENERAL PROCUREMENT"
          ],
          [
           "GENERAL PROCUREMENT"
          ],
          [
           "GENERAL PROCUREMENT"
          ],
          [
           "GENERAL PROCUREMENT"
          ],
          [
           "GENERAL PROCUREMENT"
          ],
          [
           "GENERAL PROCUREMENT"
          ],
          [
           "GENERAL PROCUREMENT"
          ],
          [
           "GENERAL PROCUREMENT"
          ],
          [
           "GENERAL PROCUREMENT"
          ],
          [
           "GENERAL PROCUREMENT"
          ],
          [
           "GENERAL PROCUREMENT"
          ],
          [
           "GENERAL PROCUREMENT"
          ],
          [
           "GENERAL PROCUREMENT"
          ],
          [
           "GENERAL PROCUREMENT"
          ],
          [
           "GENERAL PROCUREMENT"
          ],
          [
           "GENERAL PROCUREMENT"
          ],
          [
           "GENERAL PROCUREMENT"
          ],
          [
           "GENERAL PROCUREMENT"
          ],
          [
           "GENERAL PROCUREMENT"
          ],
          [
           "TECHNICAL PROCUREMENT"
          ],
          [
           "TECHNICAL PROCUREMENT"
          ],
          [
           "GENERAL PROCUREMENT"
          ],
          [
           "GENERAL PROCUREMENT"
          ],
          [
           "SUPPLY CHAIN"
          ],
          [
           "GENERAL PROCUREMENT"
          ],
          [
           "SUPPLY CHAIN"
          ],
          [
           "TECHNICAL PROCUREMENT"
          ],
          [
           "GENERAL PROCUREMENT"
          ],
          [
           "GENERAL PROCUREMENT"
          ],
          [
           "GENERAL PROCUREMENT"
          ],
          [
           "GENERAL PROCUREMENT"
          ],
          [
           "SUPPLY CHAIN"
          ],
          [
           "SUPPLY CHAIN"
          ],
          [
           "SUPPLY CHAIN"
          ],
          [
           "SUPPLY CHAIN"
          ],
          [
           "TECHNICAL PROCUREMENT"
          ],
          [
           "GENERAL PROCUREMENT"
          ],
          [
           "SUPPLY CHAIN"
          ],
          [
           "GENERAL PROCUREMENT"
          ],
          [
           "GENERAL PROCUREMENT"
          ],
          [
           "TECHNICAL PROCUREMENT"
          ],
          [
           "GENERAL PROCUREMENT"
          ],
          [
           "SUPPLY CHAIN"
          ],
          [
           "SUPPLY CHAIN"
          ],
          [
           "SUPPLY CHAIN"
          ],
          [
           "SUPPLY CHAIN"
          ],
          [
           "TECHNICAL PROCUREMENT"
          ],
          [
           "GENERAL PROCUREMENT"
          ],
          [
           "TECHNICAL PROCUREMENT"
          ],
          [
           "GENERAL PROCUREMENT"
          ],
          [
           "GENERAL PROCUREMENT"
          ],
          [
           "GENERAL PROCUREMENT"
          ],
          [
           "GENERAL PROCUREMENT"
          ],
          [
           "TECHNICAL PROCUREMENT"
          ],
          [
           "GENERAL PROCUREMENT"
          ],
          [
           "GENERAL PROCUREMENT"
          ],
          [
           "GENERAL PROCUREMENT"
          ],
          [
           "GENERAL PROCUREMENT"
          ],
          [
           "GENERAL PROCUREMENT"
          ],
          [
           "GENERAL PROCUREMENT"
          ],
          [
           "SUPPLY CHAIN"
          ],
          [
           "GENERAL PROCUREMENT"
          ],
          [
           "TECHNICAL PROCUREMENT"
          ],
          [
           "TECHNICAL PROCUREMENT"
          ],
          [
           "GENERAL PROCUREMENT"
          ],
          [
           "GENERAL PROCUREMENT"
          ],
          [
           "GENERAL PROCUREMENT"
          ],
          [
           "GENERAL PROCUREMENT"
          ],
          [
           "GENERAL PROCUREMENT"
          ],
          [
           "TECHNICAL PROCUREMENT"
          ],
          [
           "TECHNICAL PROCUREMENT"
          ],
          [
           "SUPPLY CHAIN"
          ],
          [
           "SUPPLY CHAIN"
          ],
          [
           "SUPPLY CHAIN"
          ],
          [
           "SUPPLY CHAIN"
          ],
          [
           "SUPPLY CHAIN"
          ],
          [
           "SUPPLY CHAIN"
          ],
          [
           "SUPPLY CHAIN"
          ],
          [
           "GENERAL PROCUREMENT"
          ],
          [
           "GENERAL PROCUREMENT"
          ],
          [
           "SUPPLY CHAIN"
          ],
          [
           "GENERAL PROCUREMENT"
          ],
          [
           "GENERAL PROCUREMENT"
          ],
          [
           "SUPPLY CHAIN"
          ],
          [
           "GENERAL PROCUREMENT"
          ],
          [
           "GENERAL PROCUREMENT"
          ],
          [
           "GENERAL PROCUREMENT"
          ],
          [
           "GENERAL PROCUREMENT"
          ],
          [
           "GENERAL PROCUREMENT"
          ],
          [
           "GENERAL PROCUREMENT"
          ],
          [
           "TECHNICAL PROCUREMENT"
          ],
          [
           "GENERAL PROCUREMENT"
          ],
          [
           "TECHNICAL PROCUREMENT"
          ],
          [
           "SUPPLY CHAIN"
          ],
          [
           "SUPPLY CHAIN"
          ],
          [
           "SUPPLY CHAIN"
          ],
          [
           "SUPPLY CHAIN"
          ],
          [
           "SUPPLY CHAIN"
          ],
          [
           "SUPPLY CHAIN"
          ],
          [
           "SUPPLY CHAIN"
          ],
          [
           "SUPPLY CHAIN"
          ],
          [
           "SUPPLY CHAIN"
          ],
          [
           "SUPPLY CHAIN"
          ],
          [
           "GENERAL PROCUREMENT"
          ],
          [
           "GENERAL PROCUREMENT"
          ],
          [
           "GENERAL PROCUREMENT"
          ],
          [
           "GENERAL PROCUREMENT"
          ],
          [
           "TECHNICAL PROCUREMENT"
          ],
          [
           "TECHNICAL PROCUREMENT"
          ],
          [
           "GENERAL PROCUREMENT"
          ],
          [
           "GENERAL PROCUREMENT"
          ],
          [
           "GENERAL PROCUREMENT"
          ],
          [
           "SUPPLY CHAIN"
          ],
          [
           "GENERAL PROCUREMENT"
          ],
          [
           "GENERAL PROCUREMENT"
          ],
          [
           "GENERAL PROCUREMENT"
          ],
          [
           "GENERAL PROCUREMENT"
          ],
          [
           "SUPPLY CHAIN"
          ],
          [
           "GENERAL PROCUREMENT"
          ],
          [
           "SUPPLY CHAIN"
          ],
          [
           "SUPPLY CHAIN"
          ],
          [
           "TECHNICAL PROCUREMENT"
          ],
          [
           "GENERAL PROCUREMENT"
          ],
          [
           "SUPPLY CHAIN"
          ],
          [
           "GENERAL PROCUREMENT"
          ],
          [
           "SUPPLY CHAIN"
          ],
          [
           "SUPPLY CHAIN"
          ],
          [
           "GENERAL PROCUREMENT"
          ],
          [
           "GENERAL PROCUREMENT"
          ],
          [
           "GENERAL PROCUREMENT"
          ],
          [
           "GENERAL PROCUREMENT"
          ],
          [
           "TECHNICAL PROCUREMENT"
          ],
          [
           "SUPPLY CHAIN"
          ],
          [
           "GENERAL PROCUREMENT"
          ],
          [
           "GENERAL PROCUREMENT"
          ],
          [
           "GENERAL PROCUREMENT"
          ],
          [
           "GENERAL PROCUREMENT"
          ],
          [
           "TECHNICAL PROCUREMENT"
          ],
          [
           "GENERAL PROCUREMENT"
          ],
          [
           "GENERAL PROCUREMENT"
          ],
          [
           "GENERAL PROCUREMENT"
          ],
          [
           "SUPPLY CHAIN"
          ],
          [
           "GENERAL PROCUREMENT"
          ],
          [
           "GENERAL PROCUREMENT"
          ],
          [
           "GENERAL PROCUREMENT"
          ],
          [
           "TECHNICAL PROCUREMENT"
          ],
          [
           "GENERAL PROCUREMENT"
          ],
          [
           "GENERAL PROCUREMENT"
          ],
          [
           "GENERAL PROCUREMENT"
          ],
          [
           "GENERAL PROCUREMENT"
          ],
          [
           "TECHNICAL PROCUREMENT"
          ],
          [
           "GENERAL PROCUREMENT"
          ],
          [
           "GENERAL PROCUREMENT"
          ],
          [
           "GENERAL PROCUREMENT"
          ],
          [
           "GENERAL PROCUREMENT"
          ],
          [
           "SUPPLY CHAIN"
          ],
          [
           "SUPPLY CHAIN"
          ],
          [
           "TECHNICAL PROCUREMENT"
          ],
          [
           "GENERAL PROCUREMENT"
          ],
          [
           "TECHNICAL PROCUREMENT"
          ],
          [
           "GENERAL PROCUREMENT"
          ],
          [
           "GENERAL PROCUREMENT"
          ],
          [
           "SUPPLY CHAIN"
          ],
          [
           "GENERAL PROCUREMENT"
          ],
          [
           "SUPPLY CHAIN"
          ],
          [
           "GENERAL PROCUREMENT"
          ],
          [
           "GENERAL PROCUREMENT"
          ],
          [
           "SUPPLY CHAIN"
          ],
          [
           "GENERAL PROCUREMENT"
          ],
          [
           "SUPPLY CHAIN"
          ],
          [
           "SUPPLY CHAIN"
          ],
          [
           "GENERAL PROCUREMENT"
          ],
          [
           "GENERAL PROCUREMENT"
          ],
          [
           "TECHNICAL PROCUREMENT"
          ],
          [
           "SUPPLY CHAIN"
          ],
          [
           "GENERAL PROCUREMENT"
          ],
          [
           "GENERAL PROCUREMENT"
          ],
          [
           "GENERAL PROCUREMENT"
          ],
          [
           "TECHNICAL PROCUREMENT"
          ],
          [
           "TECHNICAL PROCUREMENT"
          ],
          [
           "GENERAL PROCUREMENT"
          ],
          [
           "GENERAL PROCUREMENT"
          ],
          [
           "GENERAL PROCUREMENT"
          ],
          [
           "GENERAL PROCUREMENT"
          ],
          [
           "GENERAL PROCUREMENT"
          ],
          [
           "GENERAL PROCUREMENT"
          ],
          [
           "GENERAL PROCUREMENT"
          ],
          [
           "TECHNICAL PROCUREMENT"
          ],
          [
           "SUPPLY CHAIN"
          ],
          [
           "GENERAL PROCUREMENT"
          ],
          [
           "GENERAL PROCUREMENT"
          ],
          [
           "TECHNICAL PROCUREMENT"
          ],
          [
           "GENERAL PROCUREMENT"
          ],
          [
           "GENERAL PROCUREMENT"
          ],
          [
           "GENERAL PROCUREMENT"
          ],
          [
           "GENERAL PROCUREMENT"
          ],
          [
           "GENERAL PROCUREMENT"
          ],
          [
           "GENERAL PROCUREMENT"
          ],
          [
           "TECHNICAL PROCUREMENT"
          ],
          [
           "TECHNICAL PROCUREMENT"
          ],
          [
           "GENERAL PROCUREMENT"
          ],
          [
           "GENERAL PROCUREMENT"
          ],
          [
           "GENERAL PROCUREMENT"
          ],
          [
           "GENERAL PROCUREMENT"
          ],
          [
           "SUPPLY CHAIN"
          ],
          [
           "TECHNICAL PROCUREMENT"
          ],
          [
           "SUPPLY CHAIN"
          ],
          [
           "SUPPLY CHAIN"
          ],
          [
           "SUPPLY CHAIN"
          ],
          [
           "TECHNICAL PROCUREMENT"
          ],
          [
           "TECHNICAL PROCUREMENT"
          ],
          [
           "GENERAL PROCUREMENT"
          ],
          [
           "GENERAL PROCUREMENT"
          ],
          [
           "GENERAL PROCUREMENT"
          ],
          [
           "SUPPLY CHAIN"
          ],
          [
           "GENERAL PROCUREMENT"
          ],
          [
           "GENERAL PROCUREMENT"
          ],
          [
           "GENERAL PROCUREMENT"
          ],
          [
           "GENERAL PROCUREMENT"
          ],
          [
           "TECHNICAL PROCUREMENT"
          ],
          [
           "GENERAL PROCUREMENT"
          ],
          [
           "GENERAL PROCUREMENT"
          ],
          [
           "TECHNICAL PROCUREMENT"
          ],
          [
           "GENERAL PROCUREMENT"
          ],
          [
           "TECHNICAL PROCUREMENT"
          ],
          [
           "GENERAL PROCUREMENT"
          ],
          [
           "GENERAL PROCUREMENT"
          ],
          [
           "GENERAL PROCUREMENT"
          ],
          [
           "GENERAL PROCUREMENT"
          ],
          [
           "SUPPLY CHAIN"
          ],
          [
           "SUPPLY CHAIN"
          ],
          [
           "SUPPLY CHAIN"
          ],
          [
           "SUPPLY CHAIN"
          ],
          [
           "TECHNICAL PROCUREMENT"
          ],
          [
           "GENERAL PROCUREMENT"
          ],
          [
           "TECHNICAL PROCUREMENT"
          ],
          [
           "GENERAL PROCUREMENT"
          ],
          [
           "GENERAL PROCUREMENT"
          ],
          [
           "GENERAL PROCUREMENT"
          ],
          [
           "SUPPLY CHAIN"
          ],
          [
           "TECHNICAL PROCUREMENT"
          ],
          [
           "TECHNICAL PROCUREMENT"
          ],
          [
           "GENERAL PROCUREMENT"
          ],
          [
           "GENERAL PROCUREMENT"
          ],
          [
           "GENERAL PROCUREMENT"
          ],
          [
           "TECHNICAL PROCUREMENT"
          ],
          [
           "GENERAL PROCUREMENT"
          ],
          [
           "SUPPLY CHAIN"
          ],
          [
           "GENERAL PROCUREMENT"
          ],
          [
           "SUPPLY CHAIN"
          ],
          [
           "GENERAL PROCUREMENT"
          ],
          [
           "GENERAL PROCUREMENT"
          ],
          [
           "TECHNICAL PROCUREMENT"
          ],
          [
           "TECHNICAL PROCUREMENT"
          ],
          [
           "GENERAL PROCUREMENT"
          ],
          [
           "SUPPLY CHAIN"
          ],
          [
           "GENERAL PROCUREMENT"
          ],
          [
           "TECHNICAL PROCUREMENT"
          ],
          [
           "GENERAL PROCUREMENT"
          ],
          [
           "TECHNICAL PROCUREMENT"
          ],
          [
           "TECHNICAL PROCUREMENT"
          ],
          [
           "SUPPLY CHAIN"
          ],
          [
           "GENERAL PROCUREMENT"
          ],
          [
           "SUPPLY CHAIN"
          ],
          [
           "TECHNICAL PROCUREMENT"
          ],
          [
           "SUPPLY CHAIN"
          ],
          [
           "GENERAL PROCUREMENT"
          ],
          [
           "GENERAL PROCUREMENT"
          ],
          [
           "GENERAL PROCUREMENT"
          ],
          [
           "GENERAL PROCUREMENT"
          ],
          [
           "GENERAL PROCUREMENT"
          ],
          [
           "GENERAL PROCUREMENT"
          ],
          [
           "GENERAL PROCUREMENT"
          ],
          [
           "GENERAL PROCUREMENT"
          ],
          [
           "GENERAL PROCUREMENT"
          ],
          [
           "GENERAL PROCUREMENT"
          ],
          [
           "SUPPLY CHAIN"
          ],
          [
           "GENERAL PROCUREMENT"
          ],
          [
           "GENERAL PROCUREMENT"
          ],
          [
           "GENERAL PROCUREMENT"
          ],
          [
           "GENERAL PROCUREMENT"
          ],
          [
           "GENERAL PROCUREMENT"
          ],
          [
           "TECHNICAL PROCUREMENT"
          ],
          [
           "GENERAL PROCUREMENT"
          ],
          [
           "TECHNICAL PROCUREMENT"
          ],
          [
           "TECHNICAL PROCUREMENT"
          ],
          [
           "GENERAL PROCUREMENT"
          ],
          [
           "GENERAL PROCUREMENT"
          ],
          [
           "GENERAL PROCUREMENT"
          ],
          [
           "GENERAL PROCUREMENT"
          ],
          [
           "GENERAL PROCUREMENT"
          ],
          [
           "TECHNICAL PROCUREMENT"
          ],
          [
           "TECHNICAL PROCUREMENT"
          ],
          [
           "GENERAL PROCUREMENT"
          ],
          [
           "GENERAL PROCUREMENT"
          ],
          [
           "GENERAL PROCUREMENT"
          ],
          [
           "GENERAL PROCUREMENT"
          ],
          [
           "GENERAL PROCUREMENT"
          ],
          [
           "GENERAL PROCUREMENT"
          ],
          [
           "GENERAL PROCUREMENT"
          ],
          [
           "TECHNICAL PROCUREMENT"
          ],
          [
           "SUPPLY CHAIN"
          ],
          [
           "TECHNICAL PROCUREMENT"
          ],
          [
           "TECHNICAL PROCUREMENT"
          ],
          [
           "TECHNICAL PROCUREMENT"
          ],
          [
           "TECHNICAL PROCUREMENT"
          ],
          [
           "TECHNICAL PROCUREMENT"
          ],
          [
           "TECHNICAL PROCUREMENT"
          ],
          [
           "TECHNICAL PROCUREMENT"
          ],
          [
           "TECHNICAL PROCUREMENT"
          ],
          [
           "GENERAL PROCUREMENT"
          ],
          [
           "TECHNICAL PROCUREMENT"
          ],
          [
           "TECHNICAL PROCUREMENT"
          ],
          [
           "TECHNICAL PROCUREMENT"
          ],
          [
           "TECHNICAL PROCUREMENT"
          ],
          [
           "TECHNICAL PROCUREMENT"
          ],
          [
           "TECHNICAL PROCUREMENT"
          ],
          [
           "TECHNICAL PROCUREMENT"
          ],
          [
           "TECHNICAL PROCUREMENT"
          ],
          [
           "TECHNICAL PROCUREMENT"
          ],
          [
           "TECHNICAL PROCUREMENT"
          ],
          [
           "GENERAL PROCUREMENT"
          ],
          [
           "GENERAL PROCUREMENT"
          ],
          [
           "TECHNICAL PROCUREMENT"
          ],
          [
           "TECHNICAL PROCUREMENT"
          ],
          [
           "SUPPLY CHAIN"
          ],
          [
           "GENERAL PROCUREMENT"
          ],
          [
           "SUPPLY CHAIN"
          ],
          [
           "GENERAL PROCUREMENT"
          ],
          [
           "GENERAL PROCUREMENT"
          ],
          [
           "TECHNICAL PROCUREMENT"
          ],
          [
           "GENERAL PROCUREMENT"
          ],
          [
           "GENERAL PROCUREMENT"
          ],
          [
           "GENERAL PROCUREMENT"
          ],
          [
           "TECHNICAL PROCUREMENT"
          ],
          [
           "SUPPLY CHAIN"
          ],
          [
           "TECHNICAL PROCUREMENT"
          ],
          [
           "TECHNICAL PROCUREMENT"
          ],
          [
           "TECHNICAL PROCUREMENT"
          ],
          [
           "TECHNICAL PROCUREMENT"
          ],
          [
           "GENERAL PROCUREMENT"
          ],
          [
           "GENERAL PROCUREMENT"
          ],
          [
           "TECHNICAL PROCUREMENT"
          ],
          [
           "TECHNICAL PROCUREMENT"
          ],
          [
           "GENERAL PROCUREMENT"
          ],
          [
           "TECHNICAL PROCUREMENT"
          ],
          [
           "TECHNICAL PROCUREMENT"
          ],
          [
           "GENERAL PROCUREMENT"
          ],
          [
           "SUPPLY CHAIN"
          ],
          [
           "GENERAL PROCUREMENT"
          ],
          [
           "GENERAL PROCUREMENT"
          ],
          [
           "TECHNICAL PROCUREMENT"
          ],
          [
           "GENERAL PROCUREMENT"
          ],
          [
           "GENERAL PROCUREMENT"
          ],
          [
           "GENERAL PROCUREMENT"
          ],
          [
           "SUPPLY CHAIN"
          ],
          [
           "SUPPLY CHAIN"
          ],
          [
           "SUPPLY CHAIN"
          ],
          [
           "SUPPLY CHAIN"
          ],
          [
           "SUPPLY CHAIN"
          ],
          [
           "TECHNICAL PROCUREMENT"
          ],
          [
           "GENERAL PROCUREMENT"
          ],
          [
           "TECHNICAL PROCUREMENT"
          ],
          [
           "GENERAL PROCUREMENT"
          ],
          [
           "SUPPLY CHAIN"
          ],
          [
           "TECHNICAL PROCUREMENT"
          ],
          [
           "TECHNICAL PROCUREMENT"
          ],
          [
           "TECHNICAL PROCUREMENT"
          ],
          [
           "TECHNICAL PROCUREMENT"
          ],
          [
           "TECHNICAL PROCUREMENT"
          ],
          [
           "GENERAL PROCUREMENT"
          ],
          [
           "TECHNICAL PROCUREMENT"
          ],
          [
           "TECHNICAL PROCUREMENT"
          ],
          [
           "SUPPLY CHAIN"
          ],
          [
           "SUPPLY CHAIN"
          ],
          [
           "GENERAL PROCUREMENT"
          ],
          [
           "TECHNICAL PROCUREMENT"
          ],
          [
           "GENERAL PROCUREMENT"
          ],
          [
           "GENERAL PROCUREMENT"
          ],
          [
           "TECHNICAL PROCUREMENT"
          ],
          [
           "GENERAL PROCUREMENT"
          ],
          [
           "TECHNICAL PROCUREMENT"
          ],
          [
           "GENERAL PROCUREMENT"
          ],
          [
           "GENERAL PROCUREMENT"
          ],
          [
           "GENERAL PROCUREMENT"
          ],
          [
           "GENERAL PROCUREMENT"
          ],
          [
           "GENERAL PROCUREMENT"
          ],
          [
           "GENERAL PROCUREMENT"
          ],
          [
           "TECHNICAL PROCUREMENT"
          ],
          [
           "GENERAL PROCUREMENT"
          ],
          [
           "GENERAL PROCUREMENT"
          ],
          [
           "GENERAL PROCUREMENT"
          ],
          [
           "GENERAL PROCUREMENT"
          ],
          [
           "GENERAL PROCUREMENT"
          ],
          [
           "GENERAL PROCUREMENT"
          ],
          [
           "GENERAL PROCUREMENT"
          ],
          [
           "GENERAL PROCUREMENT"
          ],
          [
           "SUPPLY CHAIN"
          ],
          [
           "TECHNICAL PROCUREMENT"
          ],
          [
           "SUPPLY CHAIN"
          ],
          [
           "SUPPLY CHAIN"
          ],
          [
           "SUPPLY CHAIN"
          ],
          [
           "SUPPLY CHAIN"
          ],
          [
           "SUPPLY CHAIN"
          ],
          [
           "GENERAL PROCUREMENT"
          ],
          [
           "GENERAL PROCUREMENT"
          ],
          [
           "GENERAL PROCUREMENT"
          ],
          [
           "GENERAL PROCUREMENT"
          ],
          [
           "SUPPLY CHAIN"
          ],
          [
           "GENERAL PROCUREMENT"
          ],
          [
           "TECHNICAL PROCUREMENT"
          ],
          [
           "TECHNICAL PROCUREMENT"
          ],
          [
           "TECHNICAL PROCUREMENT"
          ],
          [
           "TECHNICAL PROCUREMENT"
          ],
          [
           "TECHNICAL PROCUREMENT"
          ],
          [
           "TECHNICAL PROCUREMENT"
          ],
          [
           "TECHNICAL PROCUREMENT"
          ],
          [
           "TECHNICAL PROCUREMENT"
          ],
          [
           "TECHNICAL PROCUREMENT"
          ],
          [
           "TECHNICAL PROCUREMENT"
          ],
          [
           "TECHNICAL PROCUREMENT"
          ],
          [
           "TECHNICAL PROCUREMENT"
          ],
          [
           "TECHNICAL PROCUREMENT"
          ],
          [
           "TECHNICAL PROCUREMENT"
          ],
          [
           "TECHNICAL PROCUREMENT"
          ],
          [
           "TECHNICAL PROCUREMENT"
          ],
          [
           "TECHNICAL PROCUREMENT"
          ],
          [
           "TECHNICAL PROCUREMENT"
          ],
          [
           "TECHNICAL PROCUREMENT"
          ],
          [
           "TECHNICAL PROCUREMENT"
          ],
          [
           "TECHNICAL PROCUREMENT"
          ],
          [
           "TECHNICAL PROCUREMENT"
          ],
          [
           "TECHNICAL PROCUREMENT"
          ],
          [
           "TECHNICAL PROCUREMENT"
          ],
          [
           "TECHNICAL PROCUREMENT"
          ],
          [
           "TECHNICAL PROCUREMENT"
          ],
          [
           "TECHNICAL PROCUREMENT"
          ],
          [
           "TECHNICAL PROCUREMENT"
          ],
          [
           "TECHNICAL PROCUREMENT"
          ],
          [
           "TECHNICAL PROCUREMENT"
          ],
          [
           "TECHNICAL PROCUREMENT"
          ],
          [
           "TECHNICAL PROCUREMENT"
          ],
          [
           "TECHNICAL PROCUREMENT"
          ],
          [
           "TECHNICAL PROCUREMENT"
          ],
          [
           "TECHNICAL PROCUREMENT"
          ],
          [
           "TECHNICAL PROCUREMENT"
          ],
          [
           "TECHNICAL PROCUREMENT"
          ],
          [
           "TECHNICAL PROCUREMENT"
          ],
          [
           "TECHNICAL PROCUREMENT"
          ],
          [
           "TECHNICAL PROCUREMENT"
          ],
          [
           "TECHNICAL PROCUREMENT"
          ],
          [
           "TECHNICAL PROCUREMENT"
          ],
          [
           "TECHNICAL PROCUREMENT"
          ],
          [
           "GENERAL PROCUREMENT"
          ],
          [
           "GENERAL PROCUREMENT"
          ],
          [
           "GENERAL PROCUREMENT"
          ],
          [
           "GENERAL PROCUREMENT"
          ],
          [
           "GENERAL PROCUREMENT"
          ],
          [
           "GENERAL PROCUREMENT"
          ],
          [
           "GENERAL PROCUREMENT"
          ],
          [
           "SUPPLY CHAIN"
          ],
          [
           "GENERAL PROCUREMENT"
          ],
          [
           "TECHNICAL PROCUREMENT"
          ],
          [
           "TECHNICAL PROCUREMENT"
          ],
          [
           "TECHNICAL PROCUREMENT"
          ],
          [
           "GENERAL PROCUREMENT"
          ],
          [
           "GENERAL PROCUREMENT"
          ],
          [
           "GENERAL PROCUREMENT"
          ],
          [
           "GENERAL PROCUREMENT"
          ],
          [
           "GENERAL PROCUREMENT"
          ],
          [
           "TECHNICAL PROCUREMENT"
          ],
          [
           "TECHNICAL PROCUREMENT"
          ],
          [
           "TECHNICAL PROCUREMENT"
          ],
          [
           "TECHNICAL PROCUREMENT"
          ],
          [
           "GENERAL PROCUREMENT"
          ],
          [
           "TECHNICAL PROCUREMENT"
          ],
          [
           "TECHNICAL PROCUREMENT"
          ],
          [
           "TECHNICAL PROCUREMENT"
          ],
          [
           "SUPPLY CHAIN"
          ],
          [
           "TECHNICAL PROCUREMENT"
          ],
          [
           "GENERAL PROCUREMENT"
          ],
          [
           "TECHNICAL PROCUREMENT"
          ],
          [
           "TECHNICAL PROCUREMENT"
          ],
          [
           "GENERAL PROCUREMENT"
          ],
          [
           "GENERAL PROCUREMENT"
          ],
          [
           "TECHNICAL PROCUREMENT"
          ],
          [
           "GENERAL PROCUREMENT"
          ],
          [
           "GENERAL PROCUREMENT"
          ],
          [
           "GENERAL PROCUREMENT"
          ],
          [
           "GENERAL PROCUREMENT"
          ],
          [
           "GENERAL PROCUREMENT"
          ],
          [
           "TECHNICAL PROCUREMENT"
          ],
          [
           "GENERAL PROCUREMENT"
          ],
          [
           "TECHNICAL PROCUREMENT"
          ],
          [
           "GENERAL PROCUREMENT"
          ],
          [
           "GENERAL PROCUREMENT"
          ],
          [
           "GENERAL PROCUREMENT"
          ],
          [
           "SUPPLY CHAIN"
          ],
          [
           "TECHNICAL PROCUREMENT"
          ],
          [
           "TECHNICAL PROCUREMENT"
          ],
          [
           "GENERAL PROCUREMENT"
          ],
          [
           "GENERAL PROCUREMENT"
          ],
          [
           "GENERAL PROCUREMENT"
          ],
          [
           "GENERAL PROCUREMENT"
          ],
          [
           "TECHNICAL PROCUREMENT"
          ],
          [
           "TECHNICAL PROCUREMENT"
          ],
          [
           "TECHNICAL PROCUREMENT"
          ],
          [
           "GENERAL PROCUREMENT"
          ],
          [
           "GENERAL PROCUREMENT"
          ],
          [
           "GENERAL PROCUREMENT"
          ],
          [
           "GENERAL PROCUREMENT"
          ],
          [
           "GENERAL PROCUREMENT"
          ],
          [
           "GENERAL PROCUREMENT"
          ],
          [
           "GENERAL PROCUREMENT"
          ],
          [
           "GENERAL PROCUREMENT"
          ],
          [
           "TECHNICAL PROCUREMENT"
          ],
          [
           "GENERAL PROCUREMENT"
          ],
          [
           "GENERAL PROCUREMENT"
          ],
          [
           "GENERAL PROCUREMENT"
          ],
          [
           "TECHNICAL PROCUREMENT"
          ],
          [
           "TECHNICAL PROCUREMENT"
          ],
          [
           "GENERAL PROCUREMENT"
          ],
          [
           "SUPPLY CHAIN"
          ],
          [
           "SUPPLY CHAIN"
          ],
          [
           "GENERAL PROCUREMENT"
          ],
          [
           "GENERAL PROCUREMENT"
          ],
          [
           "GENERAL PROCUREMENT"
          ],
          [
           "GENERAL PROCUREMENT"
          ],
          [
           "GENERAL PROCUREMENT"
          ],
          [
           "GENERAL PROCUREMENT"
          ],
          [
           "GENERAL PROCUREMENT"
          ],
          [
           "GENERAL PROCUREMENT"
          ],
          [
           "TECHNICAL PROCUREMENT"
          ],
          [
           "TECHNICAL PROCUREMENT"
          ],
          [
           "TECHNICAL PROCUREMENT"
          ],
          [
           "GENERAL PROCUREMENT"
          ],
          [
           "GENERAL PROCUREMENT"
          ],
          [
           "GENERAL PROCUREMENT"
          ],
          [
           "GENERAL PROCUREMENT"
          ],
          [
           "GENERAL PROCUREMENT"
          ],
          [
           "GENERAL PROCUREMENT"
          ],
          [
           "SUPPLY CHAIN"
          ],
          [
           "SUPPLY CHAIN"
          ],
          [
           "TECHNICAL PROCUREMENT"
          ],
          [
           "SUPPLY CHAIN"
          ],
          [
           "TECHNICAL PROCUREMENT"
          ],
          [
           "TECHNICAL PROCUREMENT"
          ],
          [
           "TECHNICAL PROCUREMENT"
          ],
          [
           "GENERAL PROCUREMENT"
          ],
          [
           "TECHNICAL PROCUREMENT"
          ],
          [
           "SUPPLY CHAIN"
          ],
          [
           "GENERAL PROCUREMENT"
          ],
          [
           "SUPPLY CHAIN"
          ],
          [
           "GENERAL PROCUREMENT"
          ],
          [
           "TECHNICAL PROCUREMENT"
          ],
          [
           "TECHNICAL PROCUREMENT"
          ],
          [
           "SUPPLY CHAIN"
          ],
          [
           "SUPPLY CHAIN"
          ],
          [
           "GENERAL PROCUREMENT"
          ],
          [
           "GENERAL PROCUREMENT"
          ],
          [
           "GENERAL PROCUREMENT"
          ],
          [
           "TECHNICAL PROCUREMENT"
          ],
          [
           "GENERAL PROCUREMENT"
          ],
          [
           "TECHNICAL PROCUREMENT"
          ],
          [
           "SUPPLY CHAIN"
          ],
          [
           "SUPPLY CHAIN"
          ],
          [
           "GENERAL PROCUREMENT"
          ],
          [
           "GENERAL PROCUREMENT"
          ],
          [
           "GENERAL PROCUREMENT"
          ],
          [
           "TECHNICAL PROCUREMENT"
          ],
          [
           "GENERAL PROCUREMENT"
          ],
          [
           "GENERAL PROCUREMENT"
          ],
          [
           "GENERAL PROCUREMENT"
          ],
          [
           "SUPPLY CHAIN"
          ],
          [
           "SUPPLY CHAIN"
          ],
          [
           "SUPPLY CHAIN"
          ],
          [
           "SUPPLY CHAIN"
          ],
          [
           "SUPPLY CHAIN"
          ],
          [
           "SUPPLY CHAIN"
          ],
          [
           "SUPPLY CHAIN"
          ],
          [
           "SUPPLY CHAIN"
          ],
          [
           "SUPPLY CHAIN"
          ],
          [
           "SUPPLY CHAIN"
          ],
          [
           "SUPPLY CHAIN"
          ],
          [
           "GENERAL PROCUREMENT"
          ],
          [
           "GENERAL PROCUREMENT"
          ],
          [
           "TECHNICAL PROCUREMENT"
          ],
          [
           "TECHNICAL PROCUREMENT"
          ],
          [
           "GENERAL PROCUREMENT"
          ],
          [
           "TECHNICAL PROCUREMENT"
          ],
          [
           "GENERAL PROCUREMENT"
          ],
          [
           "TECHNICAL PROCUREMENT"
          ],
          [
           "GENERAL PROCUREMENT"
          ],
          [
           "GENERAL PROCUREMENT"
          ],
          [
           "GENERAL PROCUREMENT"
          ],
          [
           "GENERAL PROCUREMENT"
          ],
          [
           "GENERAL PROCUREMENT"
          ],
          [
           "GENERAL PROCUREMENT"
          ],
          [
           "GENERAL PROCUREMENT"
          ],
          [
           "GENERAL PROCUREMENT"
          ],
          [
           "GENERAL PROCUREMENT"
          ],
          [
           "GENERAL PROCUREMENT"
          ],
          [
           "GENERAL PROCUREMENT"
          ],
          [
           "GENERAL PROCUREMENT"
          ],
          [
           "SUPPLY CHAIN"
          ],
          [
           "GENERAL PROCUREMENT"
          ],
          [
           "GENERAL PROCUREMENT"
          ],
          [
           "TECHNICAL PROCUREMENT"
          ],
          [
           "GENERAL PROCUREMENT"
          ],
          [
           "GENERAL PROCUREMENT"
          ],
          [
           "TECHNICAL PROCUREMENT"
          ],
          [
           "TECHNICAL PROCUREMENT"
          ],
          [
           "GENERAL PROCUREMENT"
          ],
          [
           "TECHNICAL PROCUREMENT"
          ],
          [
           "SUPPLY CHAIN"
          ],
          [
           "SUPPLY CHAIN"
          ],
          [
           "SUPPLY CHAIN"
          ],
          [
           "SUPPLY CHAIN"
          ],
          [
           "GENERAL PROCUREMENT"
          ],
          [
           "GENERAL PROCUREMENT"
          ],
          [
           "GENERAL PROCUREMENT"
          ],
          [
           "GENERAL PROCUREMENT"
          ],
          [
           "GENERAL PROCUREMENT"
          ],
          [
           "GENERAL PROCUREMENT"
          ],
          [
           "GENERAL PROCUREMENT"
          ],
          [
           "GENERAL PROCUREMENT"
          ],
          [
           "GENERAL PROCUREMENT"
          ],
          [
           "GENERAL PROCUREMENT"
          ],
          [
           "GENERAL PROCUREMENT"
          ],
          [
           "TECHNICAL PROCUREMENT"
          ]
         ],
         "domain": {
          "x": [
           0,
           0.45
          ],
          "y": [
           0,
           1
          ]
         },
         "hovertemplate": "labels=%{label}<br>count=%{value}<br>parent=%{parent}<br>id=%{id}<br>puor_ds_level1_new=%{customdata[0]}<extra></extra>",
         "ids": [
          "SUPPLY CHAIN/PALLETTS PURCHASING/PALLETTS PURCHASING MTL/1/4 Wood Pallets",
          "GENERAL PROCUREMENT/MARKETING SERVICES/MARKET MEASUREMENT/Subscriptions on Market measurement (license fees)",
          "GENERAL PROCUREMENT/MARKETING SERVICES/RETAIL PANELS/Subscriptions on Retail panels (license fees)",
          "TECHNICAL PROCUREMENT/AUTOMATION & MRO/TECHNICAL MATERIALS, PPE & CLOTHES/Suction cups",
          "GENERAL PROCUREMENT/MARKETING SERVICES/CREATIVE DESIGN/Surprises - Creative Concepts DIGITAL",
          "GENERAL PROCUREMENT/MARKETING SERVICES/CREATIVE DESIGN/Surprises - Creative Concepts TRADITIONAL",
          "GENERAL PROCUREMENT/MARKETING SERVICES/CREATIVE DESIGN/Surprises - Marketing Sheets",
          "GENERAL PROCUREMENT/MARKETING SERVICES/CREATIVE DESIGN/Surprises - Technical Development",
          "GENERAL PROCUREMENT/PROFESSIONAL SERVICES/CERTIFICATIONS/Surprises certification",
          "GENERAL PROCUREMENT/WORKPLACE SERVICES/FOOD SERVICES/TICKETS RESTAURANT",
          "GENERAL PROCUREMENT/WORKPLACE SERVICES/OFFICE SUPPLIES AND SERVICES (LOCAL)/TR - Accessories technology supplies (GenAdm)",
          "GENERAL PROCUREMENT/WORKPLACE SERVICES/OFFICE SUPPLIES AND SERVICES (LOCAL)/TR - Accessories technology supplies (GenProd)",
          "GENERAL PROCUREMENT/WORKPLACE SERVICES/OFFICE SUPPLIES AND SERVICES (LOCAL)/TR - Archiving Services (GenAdm)",
          "GENERAL PROCUREMENT/WORKPLACE SERVICES/MAINTENANCE & IMPROVEMENTS (LOCAL)/TR - Building Maintenance (GenAdm)",
          "GENERAL PROCUREMENT/WORKPLACE SERVICES/FOOD SERVICES (LOCAL)/TR - Canteen Services (GenAdm)",
          "GENERAL PROCUREMENT/WORKPLACE SERVICES/FOOD SERVICES (LOCAL)/TR - Canteen Services (GenProd)",
          "GENERAL PROCUREMENT/WORKPLACE SERVICES/CLEANING (LOCAL)/TR - Cleaning services (GenAdm)",
          "GENERAL PROCUREMENT/WORKPLACE SERVICES/CLEANING (LOCAL)/TR - Cleaning services (GenProd)",
          "GENERAL PROCUREMENT/IT - INFORMATION TECHNOLOGY/SOFTWARE - SUBSCRIPTIONS/LICENSES/Subscription Voice and Data Network (IaaS)",
          "GENERAL PROCUREMENT/IT - INFORMATION TECHNOLOGY/SOFTWARE - SUBSCRIPTIONS/LICENSES/Subscription End-User Computing (SaaS)",
          "GENERAL PROCUREMENT/PROFESSIONAL SERVICES/CONSULTANCY SERVICES/Strategic, Managerial & organizational consulting",
          "SUPPLY CHAIN/WAREHOUSING/STORAGE/Storage Surprises",
          "GENERAL PROCUREMENT/PROFESSIONAL SERVICES/ADMINISTRATIVE SERVICES/Services for credit collection",
          "GENERAL PROCUREMENT/SALES SERVICES/TECHNICAL DEVICES FOR POS/Services for fridge and other tech devices for Point of Sale",
          "TECHNICAL PROCUREMENT/INFRASTRUCTURE & INDUSTRIAL/B&U PROFESSIONAL SERVICES/Site supervision",
          "GENERAL PROCUREMENT/MARKETING SERVICES/DIGITAL & SOCIAL MEDIA MARKETING/Social Media Management",
          "TECHNICAL PROCUREMENT/AUTOMATION & MRO/TECHNICAL MATERIALS, PPE & CLOTHES/Spare Parts - Conveyors",
          "TECHNICAL PROCUREMENT/AUTOMATION & MRO/TECHNICAL MATERIALS, PPE & CLOTHES/Spare Parts Utilities",
          "TECHNICAL PROCUREMENT/AUTOMATION & MRO/TECHNICAL MATERIALS, PPE & CLOTHES/Spare parts kits",
          "SUPPLY CHAIN/PRIMARY TRANSPORTS/ROAD TRANSPORT/Special Projects Finish Products",
          "GENERAL PROCUREMENT/MOBILITY/FLEET (LOCAL)/TR - Company Vehicles - Fuel, Oil and other (GenAdm)",
          "TECHNICAL PROCUREMENT/INFRASTRUCTURE & INDUSTRIAL/INFRASTRUCTURE/Specific Material For Utilities Machinery And Equipment",
          "GENERAL PROCUREMENT/PROFESSIONAL SERVICES/CERTIFICATIONS/Standard certifications",
          "SUPPLY CHAIN/WAREHOUSING/STORAGE/Storage Finish Products",
          "SUPPLY CHAIN/WAREHOUSING/STORAGE/Storage Finished Products (co-packing)",
          "SUPPLY CHAIN/WAREHOUSING/STORAGE/Storage Interm-Finished Prd-FI",
          "SUPPLY CHAIN/WAREHOUSING/STORAGE/Storage Mtl",
          "SUPPLY CHAIN/WAREHOUSING/STORAGE/Storage Packaging",
          "SUPPLY CHAIN/WAREHOUSING/STORAGE/Storage RAW MATERIALS",
          "SUPPLY CHAIN/WAREHOUSING/STORAGE/Storage SEMI-FINISHED GOODS",
          "TECHNICAL PROCUREMENT/AUTOMATION & MRO/TECHNICAL MATERIALS, PPE & CLOTHES/Springs",
          "GENERAL PROCUREMENT/MOBILITY/FLEET (LOCAL)/TR - Company Vehicles - Fuel, Oil and other (GenProd)",
          "GENERAL PROCUREMENT/MOBILITY/FLEET (LOCAL)/TR - Company Vehicles - Lease (GenAdm)",
          "GENERAL PROCUREMENT/MOBILITY/FLEET (LOCAL)/TR - Company Vehicles - Lease (GenProd)",
          "TECHNICAL PROCUREMENT/ENERGY/ENERGY FOR INDUSTRIAL PLANT/TR - Other Fuel Exp - no deductible",
          "TECHNICAL PROCUREMENT/ENERGY/ENERGY FOR INDUSTRIAL PLANT/TR - PURCHASE DISTRICT HEATING (GENADM)",
          "GENERAL PROCUREMENT/WORKPLACE SERVICES/SECURITY (LOCAL)/TR - People Security (GenAdm)",
          "GENERAL PROCUREMENT/PROFESSIONAL SERVICES/INSURANCE SERVICES (LOCAL)/TR - Personal insurance (GenAdm)",
          "GENERAL PROCUREMENT/WORKPLACE SERVICES/CLEANING (LOCAL)/TR - Pest Control services (GenProd)",
          "GENERAL PROCUREMENT/WORKPLACE SERVICES/OFFICE SUPPLIES AND SERVICES (LOCAL)/TR - Postage & Couriers Fees (GenAdm)",
          "GENERAL PROCUREMENT/WORKPLACE SERVICES/OFFICE SUPPLIES AND SERVICES (LOCAL)/TR - Postage & Couriers Fees (GenProd)",
          "GENERAL PROCUREMENT/WORKPLACE SERVICES/OFFICE SUPPLIES AND SERVICES (LOCAL)/TR - Printing Supplies (GenProd)",
          "GENERAL PROCUREMENT/IT - INFORMATION TECHNOLOGY/OUTSOURCING - NETWORK TRANSMISSION (LOCAL)/TR - Opx Voice, Data Network-Transms(GenAdm)",
          "GENERAL PROCUREMENT/WORKPLACE SERVICES/REAL ESTATE (LOCAL)/TR - Real Estate Office Lease (GenAdm)",
          "GENERAL PROCUREMENT/WORKPLACE SERVICES/SECURITY (LOCAL)/TR - Security technology (GenAdm)",
          "GENERAL PROCUREMENT/WORKPLACE SERVICES/OFFICE SUPPLIES AND SERVICES (LOCAL)/TR - Small Furniture - Opex (GenAdm)",
          "GENERAL PROCUREMENT/WORKPLACE SERVICES/OFFICE SUPPLIES AND SERVICES (LOCAL)/TR - Small Furniture - Opex (GenProd)",
          "GENERAL PROCUREMENT/PROFESSIONAL SERVICES/INSURANCE SERVICES (LOCAL)/TR - Sundry insurance (GenAdm)",
          "GENERAL PROCUREMENT/PROFESSIONAL SERVICES/OTHER CONSULTING (LOCAL)/TR - Technical Consulting non-Industrial Buildings (GenAdm)",
          "GENERAL PROCUREMENT/PEOPLE SERVICES/TEMPORARY PERSONNEL (LOCAL)/TR - Temporary personnel (GenAdm)",
          "GENERAL PROCUREMENT/PEOPLE SERVICES/TEMPORARY PERSONNEL (LOCAL)/TR - Temporary personnel (GenProd)",
          "GENERAL PROCUREMENT/WORKPLACE SERVICES/OFFICE SUPPLIES AND SERVICES (LOCAL)/TR - Tolls and parking",
          "GENERAL PROCUREMENT/WORKPLACE SERVICES/OFFICE SUPPLIES AND SERVICES (LOCAL)/TR - Safety supplies (GenAdm)",
          "GENERAL PROCUREMENT/SALES SERVICES/GADGETS/Services Gadget",
          "GENERAL PROCUREMENT/WORKPLACE SERVICES/OFFICE SUPPLIES AND SERVICES (LOCAL)/TR - Office supplies (GenProd)",
          "GENERAL PROCUREMENT/PROFESSIONAL SERVICES/LEGAL CONSULTING (LOCAL)/TR - Legal consulting (GenAdm)",
          "GENERAL PROCUREMENT/MOBILITY/FLEET (LOCAL)/TR - Company Vehicles - Lease (S-Wh)",
          "GENERAL PROCUREMENT/MOBILITY/FLEET (LOCAL)/TR - Company Vehicles - Maintenance costs (GenProd)",
          "GENERAL PROCUREMENT/PEOPLE SERVICES/EMPLOYEE SERVICES (LOCAL)/TR - Donations to employees (GenAdm)",
          "GENERAL PROCUREMENT/ENERGY AND UTILITIES FOR OFFICES/UTILITIES FOR OFFICES (LOCAL)/TR - ELECTRICITY (GENADM)",
          "GENERAL PROCUREMENT/ENERGY AND UTILITIES FOR OFFICES/UTILITIES FOR OFFICES (LOCAL)/TR - ELECTRICITY (GENPROD)",
          "GENERAL PROCUREMENT/PEOPLE SERVICES/EMPLOYEE SERVICES (LOCAL)/TR - Employees Transport Services (GenAdm)",
          "GENERAL PROCUREMENT/PEOPLE SERVICES/EMPLOYEE SERVICES (LOCAL)/TR - Employees Transport Services (GenProd)",
          "GENERAL PROCUREMENT/PEOPLE SERVICES/EMPLOYEE SERVICES (LOCAL)/TR - Employees event and social activities cost (GenAdm)",
          "GENERAL PROCUREMENT/WORKPLACE SERVICES/OFFICE SUPPLIES AND SERVICES (LOCAL)/TR - Office supplies (GenAdm)",
          "GENERAL PROCUREMENT/PEOPLE SERVICES/EMPLOYEE SERVICES (LOCAL)/TR - Employees event and social activities cost (GenProd)",
          "GENERAL PROCUREMENT/ENERGY AND UTILITIES FOR OFFICES/UTILITIES FOR OFFICES (LOCAL)/TR - GAS (GENPROD)",
          "GENERAL PROCUREMENT/WORKPLACE SERVICES/MAINTENANCE & IMPROVEMENTS (LOCAL)/TR - Ground and green areas maintenance (GenAdm)",
          "GENERAL PROCUREMENT/WORKPLACE SERVICES/MAINTENANCE & IMPROVEMENTS (LOCAL)/TR - Ground and green areas maintenance (GenProd)",
          "GENERAL PROCUREMENT/PROFESSIONAL SERVICES/LEGAL CONSULTING (LOCAL)/TR - HR&OI Consulting (GenAdm)",
          "GENERAL PROCUREMENT/WORKPLACE SERVICES/MAINTENANCE & IMPROVEMENTS (LOCAL)/TR - Handyman services (GenAdm)",
          "GENERAL PROCUREMENT/PEOPLE SERVICES/EMPLOYEE SERVICES (LOCAL)/TR - Health and Safety (GenAdm)",
          "GENERAL PROCUREMENT/PEOPLE SERVICES/EMPLOYEE SERVICES (LOCAL)/TR - Health and Safety (GenProd)",
          "GENERAL PROCUREMENT/PROFESSIONAL SERVICES/OTHER CONSULTING (LOCAL)/TR - IA & Corporate Communication consulting (GenAdm)",
          "GENERAL PROCUREMENT/PROFESSIONAL SERVICES/LEGAL & NOTARY SERVICES (LOCAL)/TR - Expenses for notary charges (GenAdm)",
          "GENERAL PROCUREMENT/IT - INFORMATION TECHNOLOGY/SERVICES - T&M/BODY LEASING/Server&Storage T&M CAPEX",
          "GENERAL PROCUREMENT/IT - INFORMATION TECHNOLOGY/SERVICES - T&M/BODY LEASING/Server&Storage T&M",
          "GENERAL PROCUREMENT/IT - INFORMATION TECHNOLOGY/SERVICES - MANAGED SERVICE/Server&Storage Outsourcing",
          "GENERAL PROCUREMENT/PEOPLE SERVICES/EVENTS/Public relation costs",
          "TECHNICAL PROCUREMENT/AUTOMATION & MRO/TECHNICAL MATERIALS, PPE & CLOTHES/Pulleys",
          "TECHNICAL PROCUREMENT/AUTOMATION & MRO/TECHNICAL MATERIALS, PPE & CLOTHES/Pumps",
          "GENERAL PROCUREMENT/IT - INFORMATION TECHNOLOGY/SOFTWARE - SUBSCRIPTIONS/LICENSES/Purchase Applications Licenses",
          "GENERAL PROCUREMENT/MARKETING SERVICES/MARKET MEASUREMENT/Purchase of product sampling",
          "SUPPLY CHAIN/PRIMARY TRANSPORTS/OTHER LOGISTICS COSTS/Quality Premium Interm-Finished Prd-FI",
          "GENERAL PROCUREMENT/PEOPLE SERVICES/RECRUITMENT SERVICE/RECRUITMENT",
          "SUPPLY CHAIN/PRIMARY TRANSPORTS/RAIL TRANSPORT/Rail Surprises",
          "TECHNICAL PROCUREMENT/INFRASTRUCTURE & INDUSTRIAL/INFRASTRUCTURE/Property acquisition",
          "GENERAL PROCUREMENT/WORKPLACE SERVICES/REAL ESTATE/Real Estate Office Lease",
          "GENERAL PROCUREMENT/WORKPLACE SERVICES/REAL ESTATE/Real estate Retail lease",
          "GENERAL PROCUREMENT/WORKPLACE SERVICES/REAL ESTATE/Real estate others (no industrial, no supply chain)",
          "GENERAL PROCUREMENT/PEOPLE SERVICES/EMPLOYEE SERVICES/Recreation employees benefits",
          "SUPPLY CHAIN/PALLETTS RENT & LEASE/PALLETTS RENT & LEASE SVC/Rental 1/2 Plastic Pallets",
          "SUPPLY CHAIN/PALLETTS RENT & LEASE/PALLETTS RENT & LEASE SVC/Rental 1/4 Plastic Pallets",
          "SUPPLY CHAIN/PALLETTS RENT & LEASE/PALLETTS RENT & LEASE SVC/Rental 80x120 Pallets",
          "SUPPLY CHAIN/PALLETTS RENT & LEASE/PALLETTS RENT & LEASE SVC/Rental Industrial 100x120 Pallets",
          "TECHNICAL PROCUREMENT/AUTOMATION & MRO/MAINTENANCE SERVICES/Rental Services Fee",
          "GENERAL PROCUREMENT/WORKPLACE SERVICES/REAL ESTATE/Real Estate Short-Term Lease <12 Months",
          "SUPPLY CHAIN/WAREHOUSING/REPACKING/Repacking/Rebulking Finish Products",
          "GENERAL PROCUREMENT/PROFESSIONAL SERVICES/INSURANCE SERVICES/Property Damage and Business Interruption",
          "GENERAL PROCUREMENT/SALES SERVICES/PROMOTIONAL ITEMS/Promotional items (including consumer giveaway)",
          "TECHNICAL PROCUREMENT/INFRASTRUCTURE & INDUSTRIAL/FACILITY MANAGEMENT SOFTSERVICES FOR INDUSTRIAL LOCATIONS/Pest Control",
          "GENERAL PROCUREMENT/WORKPLACE SERVICES/SECURITY/Physical and Supply Chain security",
          "SUPPLY CHAIN/WAREHOUSING/PICKING/Picking Finish Products",
          "SUPPLY CHAIN/WAREHOUSING/PICKING/Picking Interm-Finished Prd-FI",
          "SUPPLY CHAIN/WAREHOUSING/PICKING/Picking RAW MATERIALS",
          "SUPPLY CHAIN/WAREHOUSING/PICKING/Picking Services",
          "TECHNICAL PROCUREMENT/INFRASTRUCTURE & INDUSTRIAL/INFRASTRUCTURE/Plant Utilities EaaS (Equipment as a Service)",
          "GENERAL PROCUREMENT/WORKPLACE SERVICES/SECURITY/Porter and reception services",
          "TECHNICAL PROCUREMENT/INFRASTRUCTURE & INDUSTRIAL/B&U PROFESSIONAL SERVICES/Property Cost Estimation & Acquisition",
          "GENERAL PROCUREMENT/MARKETING SERVICES/PRODUCTION/Post-Production of Advertising Content DIGITAL",
          "GENERAL PROCUREMENT/WORKPLACE SERVICES/OFFICE SUPPLIES AND SERVICES/Postage & Couriers Fees",
          "GENERAL PROCUREMENT/WORKPLACE SERVICES/OFFICE SUPPLIES AND SERVICES/Printing Supplies",
          "GENERAL PROCUREMENT/WORKPLACE SERVICES/OFFICE SUPPLIES AND SERVICES/Printing, photography and videomaking services",
          "TECHNICAL PROCUREMENT/PROCESS EQUIPMENT/MOLDING & OVENS/Process Engineering professional services",
          "GENERAL PROCUREMENT/MARKETING SERVICES/PRODUCTION/Production of Advertising Content DIGITAL",
          "GENERAL PROCUREMENT/MARKETING SERVICES/PRODUCTION/Production of Advertising Content TRADITIONAL - Radio",
          "GENERAL PROCUREMENT/MARKETING SERVICES/PRODUCTION/Production of Advertising Content TRADITIONAL - TVC",
          "GENERAL PROCUREMENT/MARKETING SERVICES/PRODUCTION/Production of Advertising Content TRADITIONAL-OOH,Static",
          "GENERAL PROCUREMENT/MARKETING SERVICES/PRODUCTION/Post-Production of Advertising Content TRADITIONAL",
          "GENERAL PROCUREMENT/PEOPLE SERVICES/TRAINING (LOCAL)/TR - Training costs of personnel (GenAdm)",
          "SUPPLY CHAIN/WAREHOUSING/REPACKING/Repacking/Rebulking RAW MATERIALS",
          "GENERAL PROCUREMENT/MARKETING SERVICES/CONSUMER RESEARCH (AD-HOC)/Research activities for qualifying Innovation initiatives",
          "TECHNICAL PROCUREMENT/AUTOMATION & MRO/TECHNICAL MATERIALS, PPE & CLOTHES/SPECIFIC DRAWING COMPONENTS",
          "TECHNICAL PROCUREMENT/AUTOMATION & MRO/TECHNICAL MATERIALS, PPE & CLOTHES/SPROCKET WHEELS",
          "GENERAL PROCUREMENT/PROFESSIONAL SERVICES/INSURANCE SERVICES/SUND.LOCAL TX&DUTY",
          "GENERAL PROCUREMENT/PROFESSIONAL SERVICES/INSURANCE SERVICES/SUNDRY INSURANCE",
          "GENERAL PROCUREMENT/WORKPLACE SERVICES/OFFICE SUPPLIES AND SERVICES/Safety supplies",
          "GENERAL PROCUREMENT/SALES SERVICES/OTHER SALES SERVICES/Sales and B2B Events",
          "GENERAL PROCUREMENT/PEOPLE SERVICES/EMPLOYEE SERVICES/School & Kinder garden fees",
          "TECHNICAL PROCUREMENT/AUTOMATION & MRO/TECHNICAL MATERIALS, PPE & CLOTHES/Screws",
          "TECHNICAL PROCUREMENT/AUTOMATION & MRO/TECHNICAL MATERIALS, PPE & CLOTHES/SPARE PARTS FOR GAS PLANTS",
          "SUPPLY CHAIN/PRIMARY TRANSPORTS/SEA TRANSPORT/Sea Finish Products",
          "SUPPLY CHAIN/PRIMARY TRANSPORTS/SEA TRANSPORT/Sea Packaging",
          "SUPPLY CHAIN/PRIMARY TRANSPORTS/SEA TRANSPORT/Sea RAW MATERIALS",
          "SUPPLY CHAIN/PRIMARY TRANSPORTS/SEA TRANSPORT/Sea SEMI-FINISHED GOODS",
          "SUPPLY CHAIN/PRIMARY TRANSPORTS/SEA TRANSPORT/Sea Surprises",
          "SUPPLY CHAIN/PRIMARY TRANSPORTS/SEA TRANSPORT/Sea Transportation",
          "SUPPLY CHAIN/PRIMARY TRANSPORTS/SEA TRANSPORT/Sea Transportation Export Fees Costs",
          "GENERAL PROCUREMENT/WORKPLACE SERVICES/SECURITY/Security technology",
          "GENERAL PROCUREMENT/IT - INFORMATION TECHNOLOGY/SOFTWARE - SUBSCRIPTIONS/LICENSES/Server&Storage Licenses CAPEX",
          "SUPPLY CHAIN/PRIMARY TRANSPORTS/SEA TRANSPORT/Sea Interm-Finished Prd-FI",
          "GENERAL PROCUREMENT/WORKPLACE SERVICES/MAINTENANCE & IMPROVEMENTS/Research & Development cost",
          "GENERAL PROCUREMENT/MARKETING SERVICES/DIGITAL & SOCIAL MEDIA MARKETING/SEO/SEM",
          "SUPPLY CHAIN/PRIMARY TRANSPORTS/ROAD TRANSPORT/Road Transportation Fleet Rental & Depots",
          "GENERAL PROCUREMENT/MARKETING SERVICES/CONSUMER RESEARCH (AD-HOC)/Research activities to assess the ADV/Communication Perf.",
          "GENERAL PROCUREMENT/MARKETING SERVICES/CONSUMER RESEARCH (AD-HOC)/Researches to understand Consumers, Shopper, Markets",
          "GENERAL PROCUREMENT/SALES SERVICES/OTHER SALES SERVICES/Retail Data monitoring",
          "GENERAL PROCUREMENT/MARKETING SERVICES/RETAIL PANELS/Retail Panels DB",
          "GENERAL PROCUREMENT/MARKETING SERVICES/LICENSING & RIGHTS/Rights buyout-Authors,Artists,Performers,Personality DIGITAL",
          "GENERAL PROCUREMENT/MARKETING SERVICES/LICENSING & RIGHTS/Rights buyout-Authors,Artists,Performers,Personality TRADI",
          "TECHNICAL PROCUREMENT/AUTOMATION & MRO/TECHNICAL MATERIALS, PPE & CLOTHES/Rigid pipes",
          "GENERAL PROCUREMENT/WORKPLACE SERVICES/SECURITY/Risk assessment and threat intelligence",
          "TECHNICAL PROCUREMENT/AUTOMATION & MRO/TECHNICAL MATERIALS, PPE & CLOTHES/Rollers",
          "SUPPLY CHAIN/PRIMARY TRANSPORTS/ROAD TRANSPORT/Road Finish Products",
          "SUPPLY CHAIN/PRIMARY TRANSPORTS/ROAD TRANSPORT/Road Packaging",
          "SUPPLY CHAIN/PRIMARY TRANSPORTS/ROAD TRANSPORT/Road RAW MATERIALS",
          "SUPPLY CHAIN/PRIMARY TRANSPORTS/ROAD TRANSPORT/Road SEMI-FINISHED GOODS",
          "SUPPLY CHAIN/PRIMARY TRANSPORTS/ROAD TRANSPORT/Road Surprises",
          "SUPPLY CHAIN/PRIMARY TRANSPORTS/ROAD TRANSPORT/Road Transportation",
          "SUPPLY CHAIN/PRIMARY TRANSPORTS/ROAD TRANSPORT/Road Transportation Administrative Costs",
          "SUPPLY CHAIN/PRIMARY TRANSPORTS/ROAD TRANSPORT/Road Transportation Costs For Foreign Stays (Demurrages)",
          "SUPPLY CHAIN/PRIMARY TRANSPORTS/ROAD TRANSPORT/Road Transportation Finished Products Export Costs",
          "SUPPLY CHAIN/PRIMARY TRANSPORTS/ROAD TRANSPORT/Road Interm-Finished Prd-FI",
          "GENERAL PROCUREMENT/PROFESSIONAL SERVICES/INSURANCE SERVICES/Personal Insurance",
          "GENERAL PROCUREMENT/PEOPLE SERVICES/TRAINING (LOCAL)/TR - Training costs of personnel (GenProd)",
          "GENERAL PROCUREMENT/MOBILITY/TRAVEL (LOCAL)/TR - Travel Agencies fees & services (GenAdm)",
          "GENERAL PROCUREMENT/SALES SERVICES/POS MATERIAL",
          "TECHNICAL PROCUREMENT/PROCESS EQUIPMENT/PREPARATION",
          "TECHNICAL PROCUREMENT/PROCESS EQUIPMENT/PRIMARY PACKAGING",
          "GENERAL PROCUREMENT/MARKETING SERVICES/PRODUCTION",
          "GENERAL PROCUREMENT/SALES SERVICES/PROMOTIONAL ITEMS",
          "GENERAL PROCUREMENT/MARKETING SERVICES/PUBLIC RELATIONS",
          "SUPPLY CHAIN/PRIMARY TRANSPORTS/RAIL TRANSPORT",
          "GENERAL PROCUREMENT/WORKPLACE SERVICES/REAL ESTATE",
          "GENERAL PROCUREMENT/WORKPLACE SERVICES/REAL ESTATE (LOCAL)",
          "GENERAL PROCUREMENT/PEOPLE SERVICES/RECRUITMENT SERVICE",
          "GENERAL PROCUREMENT/PEOPLE SERVICES/RELOCATION",
          "SUPPLY CHAIN/WAREHOUSING/REPACKING",
          "GENERAL PROCUREMENT/MARKETING SERVICES/RETAIL PANELS",
          "SUPPLY CHAIN/PRIMARY TRANSPORTS/ROAD TRANSPORT",
          "SUPPLY CHAIN/PRIMARY TRANSPORTS/SEA TRANSPORT",
          "TECHNICAL PROCUREMENT/PROCESS EQUIPMENT/SECONDARY PACKAGING",
          "GENERAL PROCUREMENT/WORKPLACE SERVICES/SECURITY",
          "SUPPLY CHAIN/WAREHOUSING/PICKING",
          "GENERAL PROCUREMENT/PEOPLE SERVICES/PAYROLL",
          "SUPPLY CHAIN/PALLETTS RENT & LEASE/PALLETTS RENT & LEASE SVC",
          "SUPPLY CHAIN/PALLETTS PURCHASING/PALLETTS PURCHASING MTL",
          "GENERAL PROCUREMENT/PROFESSIONAL SERVICES/LEGAL CONSULTING (LOCAL)",
          "GENERAL PROCUREMENT/MARKETING SERVICES/LICENSING & RIGHTS",
          "GENERAL PROCUREMENT/WORKPLACE SERVICES/MAINTENANCE & IMPROVEMENTS",
          "GENERAL PROCUREMENT/WORKPLACE SERVICES/MAINTENANCE & IMPROVEMENTS (LOCAL)",
          "TECHNICAL PROCUREMENT/AUTOMATION & MRO/MAINTENANCE SERVICES",
          "SUPPLY CHAIN/WAREHOUSING/MAN WORK PER HOUR",
          "GENERAL PROCUREMENT/MARKETING SERVICES/MARKET MEASUREMENT",
          "GENERAL PROCUREMENT/SALES SERVICES/MARKETING EVENTS",
          "GENERAL PROCUREMENT/WORKPLACE SERVICES/SECURITY (LOCAL)",
          "GENERAL PROCUREMENT/SALES SERVICES/MERCHANDISING & HOSTESS & BROKER COMMISSIONS",
          "TECHNICAL PROCUREMENT/PROCESS EQUIPMENT/NUTS EQUIPMENT & AGRI MOBILE MACHINE",
          "GENERAL PROCUREMENT/WORKPLACE SERVICES/OFFICE SUPPLIES AND SERVICES",
          "GENERAL PROCUREMENT/WORKPLACE SERVICES/OFFICE SUPPLIES AND SERVICES (LOCAL)",
          "GENERAL PROCUREMENT/PROFESSIONAL SERVICES/OTHER CONSULTING (LOCAL)",
          "SUPPLY CHAIN/PRIMARY TRANSPORTS/OTHER LOGISTICS COSTS",
          "GENERAL PROCUREMENT/OTHER NON GP/OTHER NON GP SERVICES",
          "GENERAL PROCUREMENT/SALES SERVICES/OTHER SALES SERVICES",
          "GENERAL PROCUREMENT/IT - INFORMATION TECHNOLOGY/OUTSOURCING - NETWORK TRANSMISSION (LOCAL)",
          "TECHNICAL PROCUREMENT/PROCESS EQUIPMENT/MOLDING & OVENS",
          "GENERAL PROCUREMENT/IT - INFORMATION TECHNOLOGY/SERVICES - MANAGED SERVICE",
          "GENERAL PROCUREMENT/IT - INFORMATION TECHNOLOGY/SERVICES - T&M/BODY LEASING",
          "GENERAL PROCUREMENT/IT - INFORMATION TECHNOLOGY/SOFTWARE - MAINTENANCE FOR PERPETUAL LICENSES",
          "GENERAL PROCUREMENT/ENERGY AND UTILITIES FOR OFFICES",
          "TECHNICAL PROCUREMENT/INFRASTRUCTURE & INDUSTRIAL",
          "GENERAL PROCUREMENT/IT - INFORMATION TECHNOLOGY",
          "GENERAL PROCUREMENT/MARKETING SERVICES",
          "GENERAL PROCUREMENT/MOBILITY",
          "GENERAL PROCUREMENT/OTHER NON GP",
          "SUPPLY CHAIN/PALLETTS PURCHASING",
          "SUPPLY CHAIN/PALLETTS RENT & LEASE",
          "TECHNICAL PROCUREMENT/ENERGY",
          "GENERAL PROCUREMENT/PEOPLE SERVICES",
          "TECHNICAL PROCUREMENT/PROCESS EQUIPMENT",
          "GENERAL PROCUREMENT/PROFESSIONAL SERVICES",
          "GENERAL PROCUREMENT/SALES SERVICES",
          "SUPPLY CHAIN/SECONDARY FREIGHT",
          "GENERAL PROCUREMENT/SURPRISE L2",
          "SUPPLY CHAIN/WAREHOUSING",
          "GENERAL PROCUREMENT/WORKPLACE SERVICES",
          "GENERAL PROCUREMENT",
          "SUPPLY CHAIN/PRIMARY TRANSPORTS",
          "GENERAL PROCUREMENT/PROFESSIONAL SERVICES/LEGAL & TAX SERVICES",
          "SUPPLY CHAIN/CUSTOM BROKERAGE & FORWARDING AGENCIES",
          "SUPPLY CHAIN/WAREHOUSING/WASTE MANAGEMENT",
          "GENERAL PROCUREMENT/IT - INFORMATION TECHNOLOGY/SOFTWARE - SUBSCRIPTIONS/LICENSES",
          "GENERAL PROCUREMENT/SALES SERVICES/SPONSORING",
          "TECHNICAL PROCUREMENT/PROCESS EQUIPMENT/STANDALONE EQUIPMENT",
          "SUPPLY CHAIN/WAREHOUSING/STORAGE",
          "GENERAL PROCUREMENT/PROFESSIONAL SERVICES/SUBSCRIPTIONS/MEMBERSHIPS",
          "GENERAL PROCUREMENT/SURPRISE L2/SURPRISE L3",
          "GENERAL PROCUREMENT/SALES SERVICES/TECHNICAL DEVICES FOR POS",
          "TECHNICAL PROCUREMENT/AUTOMATION & MRO/TECHNICAL MATERIALS, PPE & CLOTHES",
          "TECHNICAL PROCUREMENT/AUTOMATION & MRO",
          "GENERAL PROCUREMENT/PEOPLE SERVICES/TEMPORARY PERSONNEL",
          "GENERAL PROCUREMENT/PEOPLE SERVICES/TRAINING",
          "GENERAL PROCUREMENT/PEOPLE SERVICES/TRAINING (LOCAL)",
          "GENERAL PROCUREMENT/MOBILITY/TRAVEL",
          "GENERAL PROCUREMENT/MOBILITY/TRAVEL (LOCAL)",
          "GENERAL PROCUREMENT/WORKPLACE SERVICES/UTILITIES",
          "GENERAL PROCUREMENT/ENERGY AND UTILITIES FOR OFFICES/UTILITIES FOR OFFICES (LOCAL)",
          "TECHNICAL PROCUREMENT/PROCESS EQUIPMENT/WAREHOUSE & LOGISTIC",
          "SUPPLY CHAIN/WAREHOUSING/WAREHOUSING LOCATION & LEASING",
          "GENERAL PROCUREMENT/PEOPLE SERVICES/TEMPORARY PERSONNEL (LOCAL)",
          "GENERAL PROCUREMENT/PROFESSIONAL SERVICES/LEGAL & NOTARY SERVICES (LOCAL)",
          "TECHNICAL PROCUREMENT/INFRASTRUCTURE & INDUSTRIAL/LABORATORY EQUIPMENT AND SERVICES",
          "GENERAL PROCUREMENT/PROFESSIONAL SERVICES/INSURANCE SERVICES (LOCAL)",
          "GENERAL PROCUREMENT/MOBILITY/TRAVEL/Travel Agencies fees & services",
          "GENERAL PROCUREMENT/PROFESSIONAL SERVICES/INSURANCE SERVICES/Travel insurance",
          "GENERAL PROCUREMENT/WORKPLACE SERVICES/UTILITIES/Utilities - Electric Energy for Offices",
          "GENERAL PROCUREMENT/WORKPLACE SERVICES/UTILITIES/Utilities - Office Gas",
          "GENERAL PROCUREMENT/WORKPLACE SERVICES/UTILITIES/Utilities - Office Water",
          "TECHNICAL PROCUREMENT/AUTOMATION & MRO/TECHNICAL MATERIALS, PPE & CLOTHES/Valves",
          "TECHNICAL PROCUREMENT/AUTOMATION & MRO/TECHNICAL MATERIALS, PPE & CLOTHES/Vibrators",
          "GENERAL PROCUREMENT/IT - INFORMATION TECHNOLOGY/SERVICES - MANAGED SERVICE/Voice and Data Network Communications Outsourcing",
          "GENERAL PROCUREMENT/MOBILITY/TRAVEL/Transportation - Short-term Rental Cars",
          "GENERAL PROCUREMENT/IT - INFORMATION TECHNOLOGY/SOFTWARE - SUBSCRIPTIONS/LICENSES/Voice and Data Network Licenses CAPEX",
          "GENERAL PROCUREMENT/IT - INFORMATION TECHNOLOGY/SERVICES - T&M/BODY LEASING/Voice and Data Network T&M",
          "SUPPLY CHAIN/WAREHOUSING/WAREHOUSING LOCATION & LEASING/WAREHOUSE LEASE",
          "TECHNICAL PROCUREMENT/AUTOMATION & MRO/TECHNICAL MATERIALS, PPE & CLOTHES/WORKSHOP TOOLS",
          "SUPPLY CHAIN/WAREHOUSING/WAREHOUSING LOCATION & LEASING/Warehouse Rent",
          "SUPPLY CHAIN/WAREHOUSING/WAREHOUSING LOCATION & LEASING/Warehouse Rental Other Costs (cleaning, security, etc…)",
          "SUPPLY CHAIN/WAREHOUSING/WASTE MANAGEMENT/Waste Management Svc",
          "TECHNICAL PROCUREMENT/INFRASTRUCTURE & INDUSTRIAL/FACILITY MANAGEMENT SOFTSERVICES FOR INDUSTRIAL LOCATIONS/Waste Management for industrial location",
          "TECHNICAL PROCUREMENT/INFRASTRUCTURE & INDUSTRIAL/FACILITY MANAGEMENT SOFTSERVICES FOR INDUSTRIAL LOCATIONS/Waste Water Treatment Services",
          "GENERAL PROCUREMENT/IT - INFORMATION TECHNOLOGY/SERVICES - MANAGED SERVICE/Voice and Data Network Outsourcing",
          "GENERAL PROCUREMENT/WORKPLACE SERVICES/MAINTENANCE & IMPROVEMENTS/Waste treatment, recycling and disposal services",
          "GENERAL PROCUREMENT/MOBILITY/TRAVEL/Transportation - Other",
          "SUPPLY CHAIN/PRIMARY TRANSPORTS/EXPORT OTHER COMMODITIES (AUTOMATIC)/Transport Surprises",
          "GENERAL PROCUREMENT/MOBILITY/TRAVEL (LOCAL)/TR - Travel Agencies fees & services (GenProd)",
          "GENERAL PROCUREMENT/ENERGY AND UTILITIES FOR OFFICES/UTILITIES FOR OFFICES (LOCAL)/TR - WATER (GENADM)",
          "GENERAL PROCUREMENT/ENERGY AND UTILITIES FOR OFFICES/UTILITIES FOR OFFICES (LOCAL)/TR - WATER (GENPROD)",
          "GENERAL PROCUREMENT/WORKPLACE SERVICES/MAINTENANCE & IMPROVEMENTS (LOCAL)/TR - Waste treatment, recycling and disposal services (S-Wh)",
          "TECHNICAL PROCUREMENT/PROCESS EQUIPMENT/WAREHOUSE & LOGISTIC/TR-Specific Mtl For Warehouse, Lift And Handl. Equip.(S-Wh)",
          "GENERAL PROCUREMENT/WORKPLACE SERVICES/MAINTENANCE & IMPROVEMENTS (LOCAL)/TR-Waste treatment,recycling and disposal services (GenProd)",
          "GENERAL PROCUREMENT/PROFESSIONAL SERVICES/LEGAL & TAX SERVICES/Tax & Customs Services Cost",
          "TECHNICAL PROCUREMENT/INFRASTRUCTURE & INDUSTRIAL/FACILITY MANAGEMENT SOFTSERVICES FOR INDUSTRIAL LOCATIONS/Technical Cleaning material",
          "GENERAL PROCUREMENT/MOBILITY/TRAVEL/Transportation - Flights",
          "TECHNICAL PROCUREMENT/INFRASTRUCTURE & INDUSTRIAL/LABORATORY EQUIPMENT AND SERVICES/Technical Consultancy And External Lab Analysis",
          "GENERAL PROCUREMENT/PEOPLE SERVICES/TEMPORARY PERSONNEL/Temporary Personnels",
          "GENERAL PROCUREMENT/SALES SERVICES/MARKETING EVENTS/Testimonials Costs",
          "GENERAL PROCUREMENT/PEOPLE SERVICES/TRAINING/Training Design & Cost of Personal",
          "GENERAL PROCUREMENT/PEOPLE SERVICES/EMPLOYEE SERVICES/Translations and interpreting services",
          "SUPPLY CHAIN/PRIMARY TRANSPORTS/EXPORT OTHER COMMODITIES (AUTOMATIC)/Transport Intermediate Products",
          "SUPPLY CHAIN/PRIMARY TRANSPORTS/EXPORT OTHER COMMODITIES (AUTOMATIC)/Transport Packaging",
          "SUPPLY CHAIN/PRIMARY TRANSPORTS/EXPORT OTHER COMMODITIES (AUTOMATIC)/Transport Raw Materials",
          "SUPPLY CHAIN/PRIMARY TRANSPORTS/EXPORT OTHER COMMODITIES (AUTOMATIC)/Transport Semi Finished",
          "TECHNICAL PROCUREMENT/INFRASTRUCTURE & INDUSTRIAL/B&U PROFESSIONAL SERVICES/Technical certifications, engineering-related consulting(TS)",
          "GENERAL PROCUREMENT/PEOPLE SERVICES/EMPLOYEE SERVICES (LOCAL)/TR - Translations and interpreting services (GenAdm)",
          "TECHNICAL PROCUREMENT/AUTOMATION & MRO/TECHNICAL MATERIALS, PPE & CLOTHES/Water for industrial plant",
          "GENERAL PROCUREMENT/MARKETING SERVICES/DIGITAL & SOCIAL MEDIA MARKETING/Website / App Creation & Maintenance",
          "GENERAL PROCUREMENT/PEOPLE SERVICES/EVENTS",
          "GENERAL PROCUREMENT/PEOPLE SERVICES/EVENTS (LOCAL)",
          "SUPPLY CHAIN/PRIMARY TRANSPORTS/EXPORT OTHER COMMODITIES (AUTOMATIC)",
          "TECHNICAL PROCUREMENT/INFRASTRUCTURE & INDUSTRIAL/FACILITY MANAGEMENT HARDSERVICES FOR INDUSTRIAL LOCATIONS",
          "TECHNICAL PROCUREMENT/INFRASTRUCTURE & INDUSTRIAL/FACILITY MANAGEMENT SOFTSERVICES FOR INDUSTRIAL LOCATIONS",
          "GENERAL PROCUREMENT/MOBILITY/FLEET",
          "GENERAL PROCUREMENT/MOBILITY/FLEET (LOCAL)",
          "GENERAL PROCUREMENT/WORKPLACE SERVICES/FOOD SERVICES",
          "TECHNICAL PROCUREMENT/ENERGY/ENERGY FOR INDUSTRIAL PLANT",
          "GENERAL PROCUREMENT/WORKPLACE SERVICES/FOOD SERVICES (LOCAL)",
          "SUPPLY CHAIN/WAREHOUSING/FUMIGATION",
          "GENERAL PROCUREMENT/SALES SERVICES/GADGETS",
          "SUPPLY CHAIN/WAREHOUSING/HANDLING",
          "GENERAL PROCUREMENT/IT - INFORMATION TECHNOLOGY/HARDWARE - PURCHASE/LEASING/MAINTENANCE",
          "GENERAL PROCUREMENT/IT - INFORMATION TECHNOLOGY/HARDWARE - SUBSCRIPTIONS INFRA",
          "TECHNICAL PROCUREMENT/AUTOMATION & MRO/INDUSTRIAL AUTOMATION AND ROBOTICS",
          "TECHNICAL PROCUREMENT/INFRASTRUCTURE & INDUSTRIAL/INFRASTRUCTURE",
          "GENERAL PROCUREMENT/PROFESSIONAL SERVICES/INSURANCE SERVICES",
          "SUPPLY CHAIN/CUSTOM BROKERAGE & FORWARDING AGENCIES/FREIGHT FORWARDING AGENCIES",
          "GENERAL PROCUREMENT/PROFESSIONAL SERVICES/LEGAL & TAX SERVICES/Web domain management",
          "TECHNICAL PROCUREMENT/ENERGY/ENERGY CERTIFICATES",
          "GENERAL PROCUREMENT/PEOPLE SERVICES/EMPLOYEE SERVICES",
          "TECHNICAL PROCUREMENT/AUTOMATION & MRO/TECHNICAL MATERIALS, PPE & CLOTHES/Wheels",
          "TECHNICAL PROCUREMENT/AUTOMATION & MRO/TECHNICAL MATERIALS, PPE & CLOTHES/Сonstruction",
          "SUPPLY CHAIN/WAREHOUSING/ADMINISTRATION COST",
          "GENERAL PROCUREMENT/PROFESSIONAL SERVICES/ADMINISTRATIVE SERVICES",
          "SUPPLY CHAIN/PRIMARY TRANSPORTS/AIR FREIGHT TRANSPORT",
          "TECHNICAL PROCUREMENT/INFRASTRUCTURE & INDUSTRIAL/B&U PROFESSIONAL SERVICES",
          "SUPPLY CHAIN/WAREHOUSING/BONUS / MALUS (WAREHOUSING)",
          "GENERAL PROCUREMENT/PROFESSIONAL SERVICES/CERTIFICATIONS",
          "GENERAL PROCUREMENT/PEOPLE SERVICES/EMPLOYEE SERVICES (LOCAL)",
          "GENERAL PROCUREMENT/WORKPLACE SERVICES/CLEANING",
          "GENERAL PROCUREMENT/SALES SERVICES/COMMERCIAL QUALITY AND FRESHNESS",
          "GENERAL PROCUREMENT/PROFESSIONAL SERVICES/CONSULTANCY SERVICES",
          "GENERAL PROCUREMENT/MARKETING SERVICES/CONSUMER RESEARCH (AD-HOC)",
          "GENERAL PROCUREMENT/SALES SERVICES/CONSUMERS PROMOTION ACTIVITIES",
          "GENERAL PROCUREMENT/MARKETING SERVICES/CREATIVE DESIGN",
          "GENERAL PROCUREMENT/MARKETING SERVICES/CREATIVE DEVELOPMENT & STRATEGY",
          "GENERAL PROCUREMENT/MARKETING SERVICES/DIGITAL & SOCIAL MEDIA MARKETING",
          "SUPPLY CHAIN/SECONDARY FREIGHT/DISTRIBUTION",
          "GENERAL PROCUREMENT/WORKPLACE SERVICES/CLEANING (LOCAL)",
          "GENERAL PROCUREMENT/SALES SERVICES/TECHNICAL DEVICES FOR POS/Permanent Materials Production - Secondary Placement",
          "GENERAL PROCUREMENT/WORKPLACE SERVICES/SECURITY/People Security Services",
          "GENERAL PROCUREMENT/OTHER NON GP/OTHER NON GP SERVICES/Penalties and Fines (deductible)",
          "GENERAL PROCUREMENT/WORKPLACE SERVICES/FOOD SERVICES/Catering services",
          "TECHNICAL PROCUREMENT/AUTOMATION & MRO/TECHNICAL MATERIALS, PPE & CLOTHES/Chains",
          "GENERAL PROCUREMENT/SALES SERVICES/TECHNICAL DEVICES FOR POS/Check Out Display Production",
          "TECHNICAL PROCUREMENT/INFRASTRUCTURE & INDUSTRIAL/FACILITY MANAGEMENT HARDSERVICES FOR INDUSTRIAL LOCATIONS/Civil maintenance",
          "TECHNICAL PROCUREMENT/INFRASTRUCTURE & INDUSTRIAL/FACILITY MANAGEMENT SOFTSERVICES FOR INDUSTRIAL LOCATIONS/Cleaning Consultancy and Services",
          "GENERAL PROCUREMENT/WORKPLACE SERVICES/CLEANING/Cleaning, Waste,Pest Services and Material for No Industrial",
          "GENERAL PROCUREMENT/PROFESSIONAL SERVICES/INSURANCE SERVICES/Client receivables insurance",
          "GENERAL PROCUREMENT/IT - INFORMATION TECHNOLOGY/SOFTWARE - SUBSCRIPTIONS/LICENSES/Cloud Application Development",
          "GENERAL PROCUREMENT/IT - INFORMATION TECHNOLOGY/SOFTWARE - SUBSCRIPTIONS/LICENSES/Cloud License Application Maintenance",
          "GENERAL PROCUREMENT/WORKPLACE SERVICES/REAL ESTATE/Co-working & flexible spaces lease",
          "TECHNICAL PROCUREMENT/AUTOMATION & MRO/TECHNICAL MATERIALS, PPE & CLOTHES/Cod - PPE, Safety Work Products, Fire Protection",
          "TECHNICAL PROCUREMENT/AUTOMATION & MRO/TECHNICAL MATERIALS, PPE & CLOTHES/Codified - Clothes & Uniforms, Safety Shoes",
          "GENERAL PROCUREMENT/SALES SERVICES/COMMERCIAL QUALITY AND FRESHNESS/Commercial Quality and Freshness monitoring",
          "GENERAL PROCUREMENT/SALES SERVICES/POS MATERIAL/Communication POS material Production",
          "GENERAL PROCUREMENT/MOBILITY/FLEET/Company Vehicles - Fuel, Oil and other",
          "GENERAL PROCUREMENT/MOBILITY/FLEET/Company Vehicles - Lease",
          "GENERAL PROCUREMENT/MOBILITY/FLEET/Company Vehicles - Maintenance costs",
          "GENERAL PROCUREMENT/PEOPLE SERVICES/EMPLOYEE SERVICES/Cash Donations",
          "GENERAL PROCUREMENT/PROFESSIONAL SERVICES/INSURANCE SERVICES/Cargo (Insurance)",
          "TECHNICAL PROCUREMENT/AUTOMATION & MRO/TECHNICAL MATERIALS, PPE & CLOTHES/Cams",
          "SUPPLY CHAIN/CUSTOM BROKERAGE & FORWARDING AGENCIES/FREIGHT FORWARDING AGENCIES/CUSTOM DECLARATION SERVICES",
          "TECHNICAL PROCUREMENT/PROCESS EQUIPMENT/MOLDING & OVENS/CPX - Tempering",
          "TECHNICAL PROCUREMENT/PROCESS EQUIPMENT/MOLDING & OVENS/CPX - Thermic tunnels",
          "TECHNICAL PROCUREMENT/PROCESS EQUIPMENT/PRIMARY PACKAGING/CPX - Thermoforming",
          "TECHNICAL PROCUREMENT/PROCESS EQUIPMENT/STANDALONE EQUIPMENT/CPX - Vision & Cameras",
          "TECHNICAL PROCUREMENT/PROCESS EQUIPMENT/WAREHOUSE & LOGISTIC/CPX - Warehousing - Racks",
          "TECHNICAL PROCUREMENT/PROCESS EQUIPMENT/PRIMARY PACKAGING/CPX - Wrapping machines",
          "TECHNICAL PROCUREMENT/PROCESS EQUIPMENT/STANDALONE EQUIPMENT/CPX - X-Ray",
          "TECHNICAL PROCUREMENT/AUTOMATION & MRO/INDUSTRIAL AUTOMATION AND ROBOTICS/CPX Electrical and Automation Cabinets",
          "GENERAL PROCUREMENT/MOBILITY/FLEET/Company Vehicles - Management costs",
          "TECHNICAL PROCUREMENT/AUTOMATION & MRO/INDUSTRIAL AUTOMATION AND ROBOTICS/CPX Industrial robotic application system",
          "TECHNICAL PROCUREMENT/AUTOMATION & MRO/INDUSTRIAL AUTOMATION AND ROBOTICS/CPX-Flexible & Advanced Robotics (e.g. cobots,AGV/AMR,drones",
          "TECHNICAL PROCUREMENT/INFRASTRUCTURE & INDUSTRIAL/INFRASTRUCTURE/CPX: Civil Equipment / Works",
          "TECHNICAL PROCUREMENT/INFRASTRUCTURE & INDUSTRIAL/INFRASTRUCTURE/CPX: Electrical Equipment & Installation",
          "TECHNICAL PROCUREMENT/INFRASTRUCTURE & INDUSTRIAL/INFRASTRUCTURE/CPX: Energy (Sustainability) / Investments",
          "TECHNICAL PROCUREMENT/INFRASTRUCTURE & INDUSTRIAL/LABORATORY EQUIPMENT AND SERVICES/CPX: Equipment",
          "TECHNICAL PROCUREMENT/INFRASTRUCTURE & INDUSTRIAL/INFRASTRUCTURE/CPX: General Contractos",
          "TECHNICAL PROCUREMENT/INFRASTRUCTURE & INDUSTRIAL/INFRASTRUCTURE/CPX: Mechanical Equipment & Installation",
          "TECHNICAL PROCUREMENT/INFRASTRUCTURE & INDUSTRIAL/INFRASTRUCTURE/CPX: Waste Water & Gas Treatment",
          "TECHNICAL PROCUREMENT/AUTOMATION & MRO/TECHNICAL MATERIALS, PPE & CLOTHES/CPX Technical Material",
          "GENERAL PROCUREMENT/MOBILITY/FLEET/Company Vehicles - Other vehicles",
          "GENERAL PROCUREMENT/MOBILITY/FLEET/Company Vehicles - Purchase",
          "TECHNICAL PROCUREMENT/AUTOMATION & MRO/TECHNICAL MATERIALS, PPE & CLOTHES/Computer (process)",
          "TECHNICAL PROCUREMENT/INFRASTRUCTURE & INDUSTRIAL/B&U PROFESSIONAL SERVICES/Design Services",
          "SUPPLY CHAIN/PRIMARY TRANSPORTS/ROAD TRANSPORT/Destruction Product Transport",
          "GENERAL PROCUREMENT/SALES SERVICES/CONSUMERS PROMOTION ACTIVITIES/Discount Coupons",
          "SUPPLY CHAIN/SECONDARY FREIGHT/DISTRIBUTION/Distribution to Customers and Returned Goods from Customers",
          "GENERAL PROCUREMENT/PEOPLE SERVICES/EMPLOYEE SERVICES/Donations",
          "GENERAL PROCUREMENT/PEOPLE SERVICES/EMPLOYEE SERVICES/Donations to employees",
          "TECHNICAL PROCUREMENT/AUTOMATION & MRO/TECHNICAL MATERIALS, PPE & CLOTHES/Dosing nozzles",
          "GENERAL PROCUREMENT/MARKETING SERVICES/DIGITAL & SOCIAL MEDIA MARKETING/E-commerce Advertising Creative Development",
          "GENERAL PROCUREMENT/SALES SERVICES/CONSUMERS PROMOTION ACTIVITIES/Design & Management of non Digital Promotion",
          "GENERAL PROCUREMENT/MARKETING SERVICES/DIGITAL & SOCIAL MEDIA MARKETING/E-commerce Advertising Production",
          "TECHNICAL PROCUREMENT/AUTOMATION & MRO/TECHNICAL MATERIALS, PPE & CLOTHES/ELECTRICAL / ELECTRONICAL COMPONENTS",
          "SUPPLY CHAIN/PRIMARY TRANSPORTS/ROAD TRANSPORT/EXPORT EXPENSES FOR",
          "TECHNICAL PROCUREMENT/AUTOMATION & MRO/TECHNICAL MATERIALS, PPE & CLOTHES/Electric cables",
          "TECHNICAL PROCUREMENT/ENERGY/ENERGY FOR INDUSTRIAL PLANT/Electrical Energy for Industrial Plant",
          "TECHNICAL PROCUREMENT/INFRASTRUCTURE & INDUSTRIAL/FACILITY MANAGEMENT HARDSERVICES FOR INDUSTRIAL LOCATIONS/Electrical Maintenance",
          "TECHNICAL PROCUREMENT/AUTOMATION & MRO/TECHNICAL MATERIALS, PPE & CLOTHES/Electronic cables",
          "GENERAL PROCUREMENT/PEOPLE SERVICES/EMPLOYEE SERVICES/Employees Transport Services",
          "GENERAL PROCUREMENT/PEOPLE SERVICES/EMPLOYEE SERVICES/Employees event and social activities cost",
          "TECHNICAL PROCUREMENT/AUTOMATION & MRO/TECHNICAL MATERIALS, PPE & CLOTHES/ELECTRIC MOTORS AND DRIVES",
          "TECHNICAL PROCUREMENT/PROCESS EQUIPMENT/PREPARATION/CPX - Tanks (incl. mixer, plastificators)",
          "GENERAL PROCUREMENT/SALES SERVICES/CONSUMERS PROMOTION ACTIVITIES/Design & Management of Digital Promotion",
          "TECHNICAL PROCUREMENT/AUTOMATION & MRO/TECHNICAL MATERIALS, PPE & CLOTHES/Dampers",
          "TECHNICAL PROCUREMENT/INFRASTRUCTURE & INDUSTRIAL/LABORATORY EQUIPMENT AND SERVICES/Consumable",
          "GENERAL PROCUREMENT/MARKETING SERVICES/MARKET MEASUREMENT/Consumer panel on-going subscriptions",
          "SUPPLY CHAIN/SECONDARY FREIGHT/DISTRIBUTION/Control Tower Services",
          "GENERAL PROCUREMENT/IT - INFORMATION TECHNOLOGY/SERVICES - T&M/BODY LEASING/Corporate IT Management, Finance and Administration T&M",
          "GENERAL PROCUREMENT/PEOPLE SERVICES/EVENTS/Corporate event Expenses",
          "TECHNICAL PROCUREMENT/AUTOMATION & MRO/TECHNICAL MATERIALS, PPE & CLOTHES/Couplings",
          "GENERAL PROCUREMENT/MARKETING SERVICES/CREATIVE DEVELOPMENT & STRATEGY/Creative Concept for Advertising Campaigns DIGITAL",
          "GENERAL PROCUREMENT/MARKETING SERVICES/CREATIVE DEVELOPMENT & STRATEGY/Creative Concept for Advertising Campaigns TRADITIONAL",
          "GENERAL PROCUREMENT/PROFESSIONAL SERVICES/SUBSCRIPTIONS/MEMBERSHIPS/Data source provider, knowledge database subscription",
          "SUPPLY CHAIN/CUSTOM BROKERAGE & FORWARDING AGENCIES/FREIGHT FORWARDING AGENCIES/Customs Docum./Forwarder Services Finish Products",
          "SUPPLY CHAIN/CUSTOM BROKERAGE & FORWARDING AGENCIES/FREIGHT FORWARDING AGENCIES/Customs Docum./Forwarder Services Packaging",
          "SUPPLY CHAIN/CUSTOM BROKERAGE & FORWARDING AGENCIES/FREIGHT FORWARDING AGENCIES/Customs Docum./Forwarder Services RAW MATERIALS",
          "SUPPLY CHAIN/CUSTOM BROKERAGE & FORWARDING AGENCIES/FREIGHT FORWARDING AGENCIES/Customs Docum./Forwarder Services SEMI-FINISHED GOODS",
          "SUPPLY CHAIN/CUSTOM BROKERAGE & FORWARDING AGENCIES/FREIGHT FORWARDING AGENCIES/Customs Docum./Forwarder Services Surprises",
          "TECHNICAL PROCUREMENT/AUTOMATION & MRO/TECHNICAL MATERIALS, PPE & CLOTHES/Cutting tools",
          "GENERAL PROCUREMENT/PROFESSIONAL SERVICES/INSURANCE SERVICES/Cyber Insurance",
          "TECHNICAL PROCUREMENT/AUTOMATION & MRO/TECHNICAL MATERIALS, PPE & CLOTHES/Cylinders",
          "GENERAL PROCUREMENT/PROFESSIONAL SERVICES/INSURANCE SERVICES/D&O (Insurance)",
          "SUPPLY CHAIN/CUSTOM BROKERAGE & FORWARDING AGENCIES/FREIGHT FORWARDING AGENCIES/Customs Docum./Forwarder Services Interm-Finished Prd-FI",
          "TECHNICAL PROCUREMENT/PROCESS EQUIPMENT/SECONDARY PACKAGING/CPX - Sleeve & Shrink Machines",
          "TECHNICAL PROCUREMENT/PROCESS EQUIPMENT/NUTS EQUIPMENT & AGRI MOBILE MACHINE/CPX - Silos",
          "TECHNICAL PROCUREMENT/PROCESS EQUIPMENT/NUTS EQUIPMENT & AGRI MOBILE MACHINE/CPX - Shellers",
          "TECHNICAL PROCUREMENT/AUTOMATION & MRO/TECHNICAL MATERIALS, PPE & CLOTHES/BEARINGS AND LINEAR GUIDES",
          "TECHNICAL PROCUREMENT/AUTOMATION & MRO/TECHNICAL MATERIALS, PPE & CLOTHES/BRAKES AND CLUTCHES",
          "GENERAL PROCUREMENT/WORKPLACE SERVICES/MAINTENANCE & IMPROVEMENTS/BUILDING MAINTENANCE",
          "TECHNICAL PROCUREMENT/AUTOMATION & MRO/TECHNICAL MATERIALS, PPE & CLOTHES/Batteries",
          "TECHNICAL PROCUREMENT/AUTOMATION & MRO/TECHNICAL MATERIALS, PPE & CLOTHES/Belts",
          "SUPPLY CHAIN/WAREHOUSING/BONUS / MALUS (WAREHOUSING)/Bonus / Malus Warehousing",
          "SUPPLY CHAIN/PRIMARY TRANSPORTS/ROAD TRANSPORT/Booking System Services - Third Parties (TBD)",
          "GENERAL PROCUREMENT/PROFESSIONAL SERVICES/SUBSCRIPTIONS/MEMBERSHIPS/Books, periodicals subscription (digital or not)",
          "TECHNICAL PROCUREMENT/AUTOMATION & MRO/TECHNICAL MATERIALS, PPE & CLOTHES/Axes/shafts",
          "GENERAL PROCUREMENT/MARKETING SERVICES/CREATIVE DEVELOPMENT & STRATEGY/Brand & Communication Strategy",
          "GENERAL PROCUREMENT/SALES SERVICES/MERCHANDISING & HOSTESS & BROKER COMMISSIONS/Broker Commissions",
          "TECHNICAL PROCUREMENT/AUTOMATION & MRO/TECHNICAL MATERIALS, PPE & CLOTHES/Brushes",
          "GENERAL PROCUREMENT/WORKPLACE SERVICES/MAINTENANCE & IMPROVEMENTS/Building Third Party - Improvements & Equipment Cost",
          "TECHNICAL PROCUREMENT/AUTOMATION & MRO/TECHNICAL MATERIALS, PPE & CLOTHES/Building materials",
          "GENERAL PROCUREMENT/WORKPLACE SERVICES/MAINTENANCE & IMPROVEMENTS/Building owned - Improvements & equipment cost",
          "GENERAL PROCUREMENT/WORKPLACE SERVICES/MAINTENANCE & IMPROVEMENTS/Building owned - Improvements cost",
          "GENERAL PROCUREMENT/PROFESSIONAL SERVICES/SUBSCRIPTIONS/MEMBERSHIPS/Business Association fees",
          "GENERAL PROCUREMENT/WORKPLACE SERVICES/FOOD SERVICES/CANTEEN SERVICES",
          "GENERAL PROCUREMENT/SALES SERVICES/MARKETING EVENTS/Brand promotion events",
          "GENERAL PROCUREMENT/WORKPLACE SERVICES/SECURITY/CCTV",
          "TECHNICAL PROCUREMENT/AUTOMATION & MRO/INDUSTRIAL AUTOMATION AND ROBOTICS/Automation professional services",
          "GENERAL PROCUREMENT/WORKPLACE SERVICES/OFFICE SUPPLIES AND SERVICES/Archiving Services",
          "GENERAL PROCUREMENT/IT - INFORMATION TECHNOLOGY/SERVICES - MANAGED SERVICE/1st Level Support Outsourcing Applications",
          "GENERAL PROCUREMENT/IT - INFORMATION TECHNOLOGY/SERVICES - MANAGED SERVICE/1st Level Support Outsourcing Technology",
          "GENERAL PROCUREMENT/IT - INFORMATION TECHNOLOGY/SERVICES - MANAGED SERVICE/2nd Level Suport Outsourcing Applications",
          "GENERAL PROCUREMENT/IT - INFORMATION TECHNOLOGY/SERVICES - MANAGED SERVICE/2nd Level Support Outsourcing Technology",
          "GENERAL PROCUREMENT/MARKETING SERVICES/RETAIL PANELS/Ad hoc reports/ analysis performed on Retail Panel DB",
          "GENERAL PROCUREMENT/MARKETING SERVICES/MARKET MEASUREMENT/Ad hoc reports/analysis on syndicated data (excl RMS)",
          "GENERAL PROCUREMENT/WORKPLACE SERVICES/REAL ESTATE/Additional Services and Costs for Real Estate Lease",
          "SUPPLY CHAIN/WAREHOUSING/ADMINISTRATION COST/Administrative Costs Warehousing",
          "TECHNICAL PROCUREMENT/AUTOMATION & MRO/INDUSTRIAL AUTOMATION AND ROBOTICS/Automation Technical Materials",
          "SUPPLY CHAIN/PRIMARY TRANSPORTS/AIR FREIGHT TRANSPORT/Air Freight Export Fees Costs",
          "SUPPLY CHAIN/PRIMARY TRANSPORTS/AIR FREIGHT TRANSPORT/Air Packaging",
          "SUPPLY CHAIN/PRIMARY TRANSPORTS/AIR FREIGHT TRANSPORT/Air RAW MATERIALS",
          "SUPPLY CHAIN/PRIMARY TRANSPORTS/AIR FREIGHT TRANSPORT/Air SEMI-FINISHED GOODS",
          "SUPPLY CHAIN/PRIMARY TRANSPORTS/AIR FREIGHT TRANSPORT/Air Surprises",
          "GENERAL PROCUREMENT/IT - INFORMATION TECHNOLOGY/SOFTWARE - SUBSCRIPTIONS/LICENSES/Application Perpetual Licenses CAPEX",
          "GENERAL PROCUREMENT/IT - INFORMATION TECHNOLOGY/SERVICES - MANAGED SERVICE/Applications Development - System Integration CAPEX",
          "GENERAL PROCUREMENT/IT - INFORMATION TECHNOLOGY/SERVICES - T&M/BODY LEASING/Applications Development T&M CAPEX",
          "GENERAL PROCUREMENT/IT - INFORMATION TECHNOLOGY/SERVICES - T&M/BODY LEASING/Applications Run and Maintenance T&M",
          "SUPPLY CHAIN/PRIMARY TRANSPORTS/AIR FREIGHT TRANSPORT/Air Freight Transportation Finished Goods",
          "GENERAL PROCUREMENT/PEOPLE SERVICES/RELOCATION/Employees relocation services",
          "TECHNICAL PROCUREMENT/INFRASTRUCTURE & INDUSTRIAL/LABORATORY EQUIPMENT AND SERVICES/CHEMICAL MATERIAL",
          "TECHNICAL PROCUREMENT/PROCESS EQUIPMENT/NUTS EQUIPMENT & AGRI MOBILE MACHINE/CPX - Agri mobile machine (tractor, harvester)",
          "TECHNICAL PROCUREMENT/PROCESS EQUIPMENT/PRIMARY PACKAGING/CPX - Infeed (incl. raw distributor system / buffer)",
          "TECHNICAL PROCUREMENT/PROCESS EQUIPMENT/STANDALONE EQUIPMENT/CPX - Labellers",
          "TECHNICAL PROCUREMENT/PROCESS EQUIPMENT/PREPARATION/CPX - Liquid Handling & Processing",
          "TECHNICAL PROCUREMENT/PROCESS EQUIPMENT/STANDALONE EQUIPMENT/CPX - Metal detector",
          "TECHNICAL PROCUREMENT/PROCESS EQUIPMENT/MOLDING & OVENS/CPX - Molding :  Ferrero Design & Build",
          "TECHNICAL PROCUREMENT/PROCESS EQUIPMENT/MOLDING & OVENS/CPX - Molding equipment",
          "TECHNICAL PROCUREMENT/PROCESS EQUIPMENT/MOLDING & OVENS/CPX - Molds and Forming Equipments",
          "TECHNICAL PROCUREMENT/PROCESS EQUIPMENT/NUTS EQUIPMENT & AGRI MOBILE MACHINE/CPX - Optical sorters",
          "TECHNICAL PROCUREMENT/PROCESS EQUIPMENT/MOLDING & OVENS/CPX - Handling Systems",
          "TECHNICAL PROCUREMENT/PROCESS EQUIPMENT/MOLDING & OVENS/CPX - Oven",
          "TECHNICAL PROCUREMENT/PROCESS EQUIPMENT/MOLDING & OVENS/CPX - Plate Oven",
          "TECHNICAL PROCUREMENT/PROCESS EQUIPMENT/PREPARATION/CPX - Powder handling & processing",
          "TECHNICAL PROCUREMENT/PROCESS EQUIPMENT/NUTS EQUIPMENT & AGRI MOBILE MACHINE/CPX - Pre-Cleaning/Drying/Vacuum system",
          "TECHNICAL PROCUREMENT/PROCESS EQUIPMENT/STANDALONE EQUIPMENT/CPX - Printer",
          "TECHNICAL PROCUREMENT/PROCESS EQUIPMENT/PREPARATION/CPX - Refiners (incl. prerefiners, conches, mills)",
          "TECHNICAL PROCUREMENT/PROCESS EQUIPMENT/PREPARATION/CPX - Roaster",
          "TECHNICAL PROCUREMENT/PROCESS EQUIPMENT/PRIMARY PACKAGING/CPX - Sealing machine",
          "TECHNICAL PROCUREMENT/AUTOMATION & MRO/MAINTENANCE SERVICES/CPX - Services in project scope",
          "TECHNICAL PROCUREMENT/PROCESS EQUIPMENT/SECONDARY PACKAGING/CPX - Pal- & Depalletizers",
          "TECHNICAL PROCUREMENT/AUTOMATION & MRO/TECHNICAL MATERIALS, PPE & CLOTHES/CONTROL INSTRUMENTS",
          "TECHNICAL PROCUREMENT/PROCESS EQUIPMENT/STANDALONE EQUIPMENT/CPX - Gluing machine",
          "TECHNICAL PROCUREMENT/PROCESS EQUIPMENT/SECONDARY PACKAGING/CPX - Forming, filling and closing",
          "TECHNICAL PROCUREMENT/PROCESS EQUIPMENT/WAREHOUSE & LOGISTIC/CPX - Automatic Warehouses",
          "TECHNICAL PROCUREMENT/AUTOMATION & MRO/INDUSTRIAL AUTOMATION AND ROBOTICS/CPX - Automation and Digital Software",
          "TECHNICAL PROCUREMENT/PROCESS EQUIPMENT/SECONDARY PACKAGING/CPX - Bagging Machines",
          "TECHNICAL PROCUREMENT/PROCESS EQUIPMENT/MOLDING & OVENS/CPX - Basin",
          "TECHNICAL PROCUREMENT/PROCESS EQUIPMENT/PREPARATION/CPX - Belts",
          "TECHNICAL PROCUREMENT/PROCESS EQUIPMENT/SECONDARY PACKAGING/CPX - Box Forming Machine",
          "TECHNICAL PROCUREMENT/PROCESS EQUIPMENT/NUTS EQUIPMENT & AGRI MOBILE MACHINE/CPX - Calibrator",
          "TECHNICAL PROCUREMENT/PROCESS EQUIPMENT/STANDALONE EQUIPMENT/CPX - Check weigher",
          "TECHNICAL PROCUREMENT/PROCESS EQUIPMENT/NUTS EQUIPMENT & AGRI MOBILE MACHINE/CPX - General Contractor",
          "TECHNICAL PROCUREMENT/PROCESS EQUIPMENT/PREPARATION/CPX - Cocoa Presses",
          "TECHNICAL PROCUREMENT/PROCESS EQUIPMENT/STANDALONE EQUIPMENT/CPX - Conveyors and Handling",
          "TECHNICAL PROCUREMENT/PROCESS EQUIPMENT/NUTS EQUIPMENT & AGRI MOBILE MACHINE/CPX - Conveyors,Elevators,Transports, Big Bag station",
          "TECHNICAL PROCUREMENT/PROCESS EQUIPMENT/PRIMARY PACKAGING/CPX - Counter and filling machine",
          "TECHNICAL PROCUREMENT/PROCESS EQUIPMENT/PREPARATION/CPX - Deodorizations",
          "TECHNICAL PROCUREMENT/PROCESS EQUIPMENT/MOLDING & OVENS/CPX - Dosing & Enrobing",
          "TECHNICAL PROCUREMENT/PROCESS EQUIPMENT/PREPARATION/CPX - Dough Preparation",
          "TECHNICAL PROCUREMENT/PROCESS EQUIPMENT/PRIMARY PACKAGING/CPX - Flow wrapper",
          "TECHNICAL PROCUREMENT/PROCESS EQUIPMENT/WAREHOUSE & LOGISTIC/CPX - Forklifts (Buy)",
          "TECHNICAL PROCUREMENT/PROCESS EQUIPMENT/WAREHOUSE & LOGISTIC/CPX - Conveying Systems",
          "GENERAL PROCUREMENT/PROFESSIONAL SERVICES/ADMINISTRATIVE SERVICES/Employees tax services",
          "GENERAL PROCUREMENT/IT - INFORMATION TECHNOLOGY/SERVICES - MANAGED SERVICE/End-User Computing Laptop, Workstation Outsourcing",
          "GENERAL PROCUREMENT/IT - INFORMATION TECHNOLOGY/SOFTWARE - SUBSCRIPTIONS/LICENSES/End-User Computing Licenses CAPEX",
          "GENERAL PROCUREMENT/IT - INFORMATION TECHNOLOGY/SOFTWARE - MAINTENANCE FOR PERPETUAL LICENSES/Maintenance Application Software",
          "GENERAL PROCUREMENT/IT - INFORMATION TECHNOLOGY/SOFTWARE - MAINTENANCE FOR PERPETUAL LICENSES/Maintenance End-User Computing Software",
          "GENERAL PROCUREMENT/IT - INFORMATION TECHNOLOGY/SOFTWARE - MAINTENANCE FOR PERPETUAL LICENSES/Maintenance Server&Storage Software",
          "GENERAL PROCUREMENT/IT - INFORMATION TECHNOLOGY/SOFTWARE - MAINTENANCE FOR PERPETUAL LICENSES/Maintenance Voice and Data Network Software",
          "SUPPLY CHAIN/WAREHOUSING/MAN WORK PER HOUR/Man work per hour svc",
          "GENERAL PROCUREMENT/WORKPLACE SERVICES/SECURITY/Manned guarding services",
          "TECHNICAL PROCUREMENT/AUTOMATION & MRO/TECHNICAL MATERIALS, PPE & CLOTHES/Measure devices and Control instruments",
          "TECHNICAL PROCUREMENT/INFRASTRUCTURE & INDUSTRIAL/FACILITY MANAGEMENT HARDSERVICES FOR INDUSTRIAL LOCATIONS/Mechanical maintenance",
          "TECHNICAL PROCUREMENT/INFRASTRUCTURE & INDUSTRIAL/LABORATORY EQUIPMENT AND SERVICES/Maintenance And Services On Laboratory Equipments",
          "GENERAL PROCUREMENT/MARKETING SERVICES/PUBLIC RELATIONS/Media Relations, Membership & Partnership",
          "GENERAL PROCUREMENT/SALES SERVICES/MERCHANDISING & HOSTESS & BROKER COMMISSIONS/Merchandising services",
          "GENERAL PROCUREMENT/PROFESSIONAL SERVICES/INSURANCE SERVICES/Motor vehicle insurance",
          "GENERAL PROCUREMENT/PROFESSIONAL SERVICES/SUBSCRIPTIONS/MEMBERSHIPS/NGO, Donations",
          "GENERAL PROCUREMENT/PEOPLE SERVICES/EVENTS/No Commercial Sponsorships",
          "TECHNICAL PROCUREMENT/AUTOMATION & MRO/TECHNICAL MATERIALS, PPE & CLOTHES/Not cod - PPE, Safety Work Products, Fire Protection",
          "TECHNICAL PROCUREMENT/AUTOMATION & MRO/TECHNICAL MATERIALS, PPE & CLOTHES/Not codified - Clothes & Uniforms, Safety Shoes",
          "TECHNICAL PROCUREMENT/PROCESS EQUIPMENT/NUTS EQUIPMENT & AGRI MOBILE MACHINE/OPX - Agri Mobile Machine (Tractor, Harvester)",
          "TECHNICAL PROCUREMENT/AUTOMATION & MRO/MAINTENANCE SERVICES/OPX - Extraordinary Maintenance",
          "GENERAL PROCUREMENT/PEOPLE SERVICES/EMPLOYEE SERVICES/Medical Services",
          "TECHNICAL PROCUREMENT/PROCESS EQUIPMENT/WAREHOUSE & LOGISTIC/OPX - Forklifts (Rental & Service)",
          "TECHNICAL PROCUREMENT/AUTOMATION & MRO/MAINTENANCE SERVICES/Maintenace service not depreciable (Maintenance Order)",
          "TECHNICAL PROCUREMENT/AUTOMATION & MRO/TECHNICAL MATERIALS, PPE & CLOTHES/Lubricants",
          "SUPPLY CHAIN/PRIMARY TRANSPORTS/ROAD TRANSPORT/Inspections/Sanitary Controls SEMI-FINISHED GOODS",
          "TECHNICAL PROCUREMENT/INFRASTRUCTURE & INDUSTRIAL/FACILITY MANAGEMENT HARDSERVICES FOR INDUSTRIAL LOCATIONS/Integrated Facility Maintenance",
          "GENERAL PROCUREMENT/PEOPLE SERVICES/RECRUITMENT SERVICE/Job postings",
          "TECHNICAL PROCUREMENT/INFRASTRUCTURE & INDUSTRIAL/LABORATORY EQUIPMENT AND SERVICES/Laboratory",
          "TECHNICAL PROCUREMENT/AUTOMATION & MRO/TECHNICAL MATERIALS, PPE & CLOTHES/Laundry Services",
          "GENERAL PROCUREMENT/PROFESSIONAL SERVICES/LEGAL & TAX SERVICES/Legal Advisory",
          "GENERAL PROCUREMENT/PROFESSIONAL SERVICES/LEGAL & TAX SERVICES/Legal services",
          "TECHNICAL PROCUREMENT/AUTOMATION & MRO/TECHNICAL MATERIALS, PPE & CLOTHES/Levers",
          "GENERAL PROCUREMENT/PROFESSIONAL SERVICES/CONSULTANCY SERVICES/M&A related consultancies",
          "GENERAL PROCUREMENT/PROFESSIONAL SERVICES/INSURANCE SERVICES/Liability (Insurance)",
          "GENERAL PROCUREMENT/MARKETING SERVICES/LICENSING & RIGHTS/Licensing - Brands & Content TRADITIONAL",
          "GENERAL PROCUREMENT/MARKETING SERVICES/LICENSING & RIGHTS/Licensing - Music DIGITAL",
          "GENERAL PROCUREMENT/MARKETING SERVICES/LICENSING & RIGHTS/Licensing - Music TRADITIONAL",
          "TECHNICAL PROCUREMENT/AUTOMATION & MRO/TECHNICAL MATERIALS, PPE & CLOTHES/Lighting",
          "GENERAL PROCUREMENT/WORKPLACE SERVICES/REAL ESTATE/Local Small Building rent",
          "TECHNICAL PROCUREMENT/AUTOMATION & MRO/TECHNICAL MATERIALS, PPE & CLOTHES/Locks, Handles",
          "GENERAL PROCUREMENT/PEOPLE SERVICES/RELOCATION/Long Stay Relocation",
          "GENERAL PROCUREMENT/MOBILITY/TRAVEL/Long stay accommodation",
          "GENERAL PROCUREMENT/MARKETING SERVICES/LICENSING & RIGHTS/Licensing - Brands & Content DIGITAL",
          "SUPPLY CHAIN/PRIMARY TRANSPORTS/ROAD TRANSPORT/Inspections/Sanitary Controls Interm-Finished Prd-FI",
          "TECHNICAL PROCUREMENT/AUTOMATION & MRO/MAINTENANCE SERVICES/OPX - Ordinary Maintenance",
          "TECHNICAL PROCUREMENT/AUTOMATION & MRO/INDUSTRIAL AUTOMATION AND ROBOTICS/OPX - Software, Licence Fee, Assistance",
          "GENERAL PROCUREMENT/SALES SERVICES/POS MATERIAL/POS material Molds, Toolings, Die Cuts CAPEX",
          "GENERAL PROCUREMENT/SALES SERVICES/POS MATERIAL/POS materials Storage and Logistic",
          "GENERAL PROCUREMENT/MARKETING SERVICES/PUBLIC RELATIONS/PR Communication Strategy, Advisory, Issues Management",
          "GENERAL PROCUREMENT/MARKETING SERVICES/PUBLIC RELATIONS/PR Digital Activities & Tools",
          "TECHNICAL PROCUREMENT/AUTOMATION & MRO/TECHNICAL MATERIALS, PPE & CLOTHES/PRINTERS CONSUMABLES",
          "TECHNICAL PROCUREMENT/AUTOMATION & MRO/TECHNICAL MATERIALS, PPE & CLOTHES/PRINTERS SPARE PARTS",
          "TECHNICAL PROCUREMENT/AUTOMATION & MRO/TECHNICAL MATERIALS, PPE & CLOTHES/PRODUCTION TOOLS",
          "GENERAL PROCUREMENT/SALES SERVICES/TECHNICAL DEVICES FOR POS/PROM.MAT.CASHDESK",
          "GENERAL PROCUREMENT/SALES SERVICES/POS MATERIAL/POS material Development & Sampling",
          "GENERAL PROCUREMENT/SALES SERVICES/TECHNICAL DEVICES FOR POS/PROMO POS MODERN",
          "GENERAL PROCUREMENT/SALES SERVICES/TECHNICAL DEVICES FOR POS/PROMOTIONAL GIFTS",
          "GENERAL PROCUREMENT/SALES SERVICES/POS MATERIAL/PROMOTIONAL POINT OF SALE",
          "GENERAL PROCUREMENT/MARKETING SERVICES/CREATIVE DESIGN/Packaging & POS - Artwork, Technical finalization&Templates",
          "GENERAL PROCUREMENT/MARKETING SERVICES/CREATIVE DESIGN/Packaging & POS - Creative Concept",
          "GENERAL PROCUREMENT/MARKETING SERVICES/CREATIVE DESIGN/Packaging & POS - Mockups / Samples",
          "TECHNICAL PROCUREMENT/AUTOMATION & MRO/TECHNICAL MATERIALS, PPE & CLOTHES/Paint",
          "GENERAL PROCUREMENT/MARKETING SERVICES/MARKET MEASUREMENT/Panel SPE management",
          "GENERAL PROCUREMENT/PROFESSIONAL SERVICES/LEGAL & TAX SERVICES/Patents management / Intellectual Property (IP)",
          "GENERAL PROCUREMENT/SALES SERVICES/TECHNICAL DEVICES FOR POS/PROMO POS TRADNL",
          "TECHNICAL PROCUREMENT/AUTOMATION & MRO/MAINTENANCE SERVICES/OPX - Retrofit/revamping of an equipment or line",
          "TECHNICAL PROCUREMENT/AUTOMATION & MRO/TECHNICAL MATERIALS, PPE & CLOTHES/PHOTOCELLS AND PROXIMITY SWITCHES",
          "GENERAL PROCUREMENT/SURPRISE L2/SURPRISE L3/PALLETS",
          "SUPPLY CHAIN/PRIMARY TRANSPORTS/OTHER LOGISTICS COSTS/OTHER LOGISTIC COSTS",
          "SUPPLY CHAIN/WAREHOUSING/STORAGE/OTHER LOGISTIC COSTS (FG WH)",
          "GENERAL PROCUREMENT/SALES SERVICES/CONSUMERS PROMOTION ACTIVITIES/OTHER SALE DISCOUNTS",
          "GENERAL PROCUREMENT/WORKPLACE SERVICES/OFFICE SUPPLIES AND SERVICES/Office Furniture - Capex",
          "GENERAL PROCUREMENT/WORKPLACE SERVICES/MAINTENANCE & IMPROVEMENTS/Office machines & equipment - Investment",
          "GENERAL PROCUREMENT/WORKPLACE SERVICES/MAINTENANCE & IMPROVEMENTS/Office machines & equipment - Maintenance",
          "GENERAL PROCUREMENT/WORKPLACE SERVICES/OFFICE SUPPLIES AND SERVICES/Office supplies",
          "GENERAL PROCUREMENT/PROFESSIONAL SERVICES/INSURANCE SERVICES/Optional insurance employees",
          "GENERAL PROCUREMENT/PEOPLE SERVICES/PAYROLL/PAYROLL SERVICES",
          "GENERAL PROCUREMENT/PROFESSIONAL SERVICES/INSURANCE SERVICES/Optional insurance manager",
          "TECHNICAL PROCUREMENT/AUTOMATION & MRO/TECHNICAL MATERIALS, PPE & CLOTHES/Other Materials Immediate Use for Maintenance Plant",
          "TECHNICAL PROCUREMENT/AUTOMATION & MRO/TECHNICAL MATERIALS, PPE & CLOTHES/Other Materials Immediate Use for Production Assistance",
          "TECHNICAL PROCUREMENT/AUTOMATION & MRO/TECHNICAL MATERIALS, PPE & CLOTHES/Other Spare parts (not codified, catalogues items)",
          "GENERAL PROCUREMENT/PROFESSIONAL SERVICES/ADMINISTRATIVE SERVICES/Other auditing",
          "GENERAL PROCUREMENT/MARKETING SERVICES/CONSUMER RESEARCH (AD-HOC)/Other research activities on consumer, shopper and citizen",
          "GENERAL PROCUREMENT/MARKETING SERVICES/MARKET MEASUREMENT/Other syndicated subscriptions (excluding RMS, CPS)",
          "GENERAL PROCUREMENT/MOBILITY/TRAVEL/Other travel services",
          "GENERAL PROCUREMENT/PROFESSIONAL SERVICES/ADMINISTRATIVE SERVICES/Outsourcing of administrative services (bpo)",
          "GENERAL PROCUREMENT/WORKPLACE SERVICES/OFFICE SUPPLIES AND SERVICES/Other Consumables, Material and Small Supplies",
          "SUPPLY CHAIN",
          "SUPPLY CHAIN/PRIMARY TRANSPORTS/ROAD TRANSPORT/Inspections/Sanitary Controls Finish Products",
          "TECHNICAL PROCUREMENT/AUTOMATION & MRO/TECHNICAL MATERIALS, PPE & CLOTHES/Infirmary",
          "SUPPLY CHAIN/PRIMARY TRANSPORTS/ROAD TRANSPORT/Extra-waiting Surprises",
          "TECHNICAL PROCUREMENT/AUTOMATION & MRO/TECHNICAL MATERIALS, PPE & CLOTHES/FIXING ELEMENTS",
          "TECHNICAL PROCUREMENT/AUTOMATION & MRO/TECHNICAL MATERIALS, PPE & CLOTHES/Fans",
          "TECHNICAL PROCUREMENT/AUTOMATION & MRO/TECHNICAL MATERIALS, PPE & CLOTHES/Filters",
          "GENERAL PROCUREMENT/PROFESSIONAL SERVICES/ADMINISTRATIVE SERVICES/Financial Audit",
          "TECHNICAL PROCUREMENT/AUTOMATION & MRO/TECHNICAL MATERIALS, PPE & CLOTHES/Flexible pipes",
          "SUPPLY CHAIN/WAREHOUSING/HANDLING/Forklift And Machinery Rentals (Ops)",
          "GENERAL PROCUREMENT/SALES SERVICES/TECHNICAL DEVICES FOR POS/Fridges lease/rent and other tech devices for point of Sale",
          "SUPPLY CHAIN/PRIMARY TRANSPORTS/ROAD TRANSPORT/Extra-waiting SEMI-FINISHED GOODS",
          "GENERAL PROCUREMENT/SALES SERVICES/TECHNICAL DEVICES FOR POS/Fridges production and other tech devices for POS - CAPEX",
          "TECHNICAL PROCUREMENT/ENERGY/ENERGY FOR INDUSTRIAL PLANT/Fuel for industrial plant",
          "TECHNICAL PROCUREMENT/AUTOMATION & MRO/TECHNICAL MATERIALS, PPE & CLOTHES/Fuels",
          "SUPPLY CHAIN/WAREHOUSING/FUMIGATION/Fumigation RAW MATERIALS",
          "SUPPLY CHAIN/WAREHOUSING/FUMIGATION/Fumigation Svc",
          "GENERAL PROCUREMENT/PROFESSIONAL SERVICES/CONSULTANCY SERVICES/Function related / professional consultancy",
          "GENERAL PROCUREMENT/SALES SERVICES/GADGETS/GADGET",
          "GENERAL PROCUREMENT/SALES SERVICES/GADGETS/GADGET OTHER",
          "TECHNICAL PROCUREMENT/AUTOMATION & MRO/TECHNICAL MATERIALS, PPE & CLOTHES/GEARS",
          "GENERAL PROCUREMENT/SALES SERVICES/TECHNICAL DEVICES FOR POS/Fridges production and other tech devices for POS-excl CAPEX",
          "TECHNICAL PROCUREMENT/AUTOMATION & MRO/TECHNICAL MATERIALS, PPE & CLOTHES/Gas Consumables",
          "SUPPLY CHAIN/PRIMARY TRANSPORTS/ROAD TRANSPORT/Extra-waiting RAW MATERIALS",
          "SUPPLY CHAIN/PRIMARY TRANSPORTS/ROAD TRANSPORT/Extra-waiting Interm-Finished Prd-FI",
          "GENERAL PROCUREMENT/IT - INFORMATION TECHNOLOGY/SERVICES - MANAGED SERVICE/End-User Computing Mobile Communications Outsourcing",
          "GENERAL PROCUREMENT/IT - INFORMATION TECHNOLOGY/SERVICES - MANAGED SERVICE/End-User Computing Mobile Management Outsourcing",
          "GENERAL PROCUREMENT/IT - INFORMATION TECHNOLOGY/SERVICES - T&M/BODY LEASING/End-User Computing T&M",
          "TECHNICAL PROCUREMENT/ENERGY/ENERGY CERTIFICATES/Energy certifications for power",
          "GENERAL PROCUREMENT/PEOPLE SERVICES/EVENTS/Entertainment expenses (No deductible)",
          "GENERAL PROCUREMENT/PROFESSIONAL SERVICES/CERTIFICATIONS/Environmental Analysis",
          "GENERAL PROCUREMENT/PROFESSIONAL SERVICES/INSURANCE SERVICES/Environmental EIL (Insurance)",
          "SUPPLY CHAIN/PALLETTS PURCHASING/PALLETTS PURCHASING MTL/Epal 80x120 Pallets New",
          "SUPPLY CHAIN/PRIMARY TRANSPORTS/ROAD TRANSPORT/Extra-waiting Packaging",
          "SUPPLY CHAIN/PALLETTS PURCHASING/PALLETTS PURCHASING MTL/Epal 80x120 Pallets Used 1st Choice",
          "SUPPLY CHAIN/PRIMARY TRANSPORTS/ROAD TRANSPORT/Export Expenses For Various Sales",
          "SUPPLY CHAIN/PRIMARY TRANSPORTS/ROAD TRANSPORT/Extra Cost  Transpor Finished product",
          "SUPPLY CHAIN/PRIMARY TRANSPORTS/ROAD TRANSPORT/Extra Cost  Transpor Interm-finished Product",
          "SUPPLY CHAIN/PRIMARY TRANSPORTS/ROAD TRANSPORT/Extra Cost  Transpor Packaging",
          "SUPPLY CHAIN/PRIMARY TRANSPORTS/ROAD TRANSPORT/Extra Cost  Transpor Raw Material",
          "SUPPLY CHAIN/PRIMARY TRANSPORTS/ROAD TRANSPORT/Extra Cost  Transpor Semi-finished Product",
          "SUPPLY CHAIN/PRIMARY TRANSPORTS/ROAD TRANSPORT/Extra Cost  Transpor Surprise",
          "SUPPLY CHAIN/PRIMARY TRANSPORTS/ROAD TRANSPORT/Extra-waiting Finish Products",
          "GENERAL PROCUREMENT/SALES SERVICES/SPONSORING/Events Sponsorships & Partnership",
          "GENERAL PROCUREMENT/MARKETING SERVICES/DIGITAL & SOCIAL MEDIA MARKETING/Influencers & Testimonials",
          "TECHNICAL PROCUREMENT/ENERGY/ENERGY FOR INDUSTRIAL PLANT/Gas for Industrial Plant",
          "TECHNICAL PROCUREMENT/AUTOMATION & MRO/TECHNICAL MATERIALS, PPE & CLOTHES/Gearboxes",
          "GENERAL PROCUREMENT/IT - INFORMATION TECHNOLOGY/HARDWARE - PURCHASE/LEASING/MAINTENANCE/Hardware-Leasing Low Value Voice and Data Network (<5000$)",
          "TECHNICAL PROCUREMENT/INFRASTRUCTURE & INDUSTRIAL/B&U PROFESSIONAL SERVICES/Health and Safety - Site Supervision",
          "GENERAL PROCUREMENT/PEOPLE SERVICES/EMPLOYEE SERVICES/Health and Safety GP",
          "TECHNICAL PROCUREMENT/AUTOMATION & MRO/TECHNICAL MATERIALS, PPE & CLOTHES/Heaters",
          "GENERAL PROCUREMENT/SALES SERVICES/MERCHANDISING & HOSTESS & BROKER COMMISSIONS/Hostess services",
          "GENERAL PROCUREMENT/MOBILITY/TRAVEL/Hotel accommodation",
          "GENERAL PROCUREMENT/IT - INFORMATION TECHNOLOGY/SERVICES - T&M/BODY LEASING/IT Service Desk T&M",
          "GENERAL PROCUREMENT/PEOPLE SERVICES/EVENTS (LOCAL)/ITL - Altre spese di rappresentanza",
          "GENERAL PROCUREMENT/IT - INFORMATION TECHNOLOGY/HARDWARE - PURCHASE/LEASING/MAINTENANCE/Hardware-Leasing High Value Voice and Data Network (>5000$)",
          "GENERAL PROCUREMENT/PEOPLE SERVICES/EVENTS (LOCAL)/ITL - Spese di rappresentanza",
          "GENERAL PROCUREMENT/SALES SERVICES/GADGETS/In-Pack Gadgets_Commercial Co-Pack",
          "GENERAL PROCUREMENT/SALES SERVICES/GADGETS/In-Pack Gadgets_Industrial co-pack",
          "GENERAL PROCUREMENT/SALES SERVICES/POS MATERIAL/In/Out Functional Display Production - Customized",
          "GENERAL PROCUREMENT/SALES SERVICES/POS MATERIAL/In/Out Functional Display Production - Standard",
          "GENERAL PROCUREMENT/SALES SERVICES/POS MATERIAL/In/Out Theatrical Materials Production - Customized",
          "GENERAL PROCUREMENT/SALES SERVICES/POS MATERIAL/In/Out Theatrical Materials Production - Standard",
          "SUPPLY CHAIN/PALLETTS PURCHASING/PALLETTS PURCHASING MTL/Industrial 100x120 Pallets",
          "GENERAL PROCUREMENT/WORKPLACE SERVICES/MAINTENANCE & IMPROVEMENTS/Industrial Cleaning",
          "GENERAL PROCUREMENT/PEOPLE SERVICES/EVENTS (LOCAL)/ITL - Spese di rappresentanza min valore",
          "TECHNICAL PROCUREMENT/AUTOMATION & MRO/TECHNICAL MATERIALS, PPE & CLOTHES/Gaskets/Seals",
          "GENERAL PROCUREMENT/IT - INFORMATION TECHNOLOGY/HARDWARE - SUBSCRIPTIONS INFRA/Hardware - Server&Storage (IaaS)",
          "GENERAL PROCUREMENT/IT - INFORMATION TECHNOLOGY/HARDWARE - PURCHASE/LEASING/MAINTENANCE/Hardware - Purchase for Mobile devices",
          "TECHNICAL PROCUREMENT/AUTOMATION & MRO/TECHNICAL MATERIALS, PPE & CLOTHES/Generic consumables",
          "TECHNICAL PROCUREMENT/AUTOMATION & MRO/TECHNICAL MATERIALS, PPE & CLOTHES/Glues",
          "GENERAL PROCUREMENT/WORKPLACE SERVICES/MAINTENANCE & IMPROVEMENTS/Ground and green areas maintenance,inclu industrial premises",
          "TECHNICAL PROCUREMENT/AUTOMATION & MRO/TECHNICAL MATERIALS, PPE & CLOTHES/HYDRAULIC AND PNEUMATIC FITTINGS",
          "SUPPLY CHAIN/WAREHOUSING/HANDLING/Handling Finish Products",
          "SUPPLY CHAIN/WAREHOUSING/HANDLING/Handling Interm-Finished Prd-FI",
          "SUPPLY CHAIN/WAREHOUSING/HANDLING/Handling RAW MATERIALS",
          "SUPPLY CHAIN/WAREHOUSING/HANDLING/Handling Services",
          "GENERAL PROCUREMENT/IT - INFORMATION TECHNOLOGY/HARDWARE - PURCHASE/LEASING/MAINTENANCE/Hardware - Purchase for Videoconference devices",
          "GENERAL PROCUREMENT/IT - INFORMATION TECHNOLOGY/HARDWARE - PURCHASE/LEASING/MAINTENANCE/Hardware - Leasing End-User Computing",
          "GENERAL PROCUREMENT/IT - INFORMATION TECHNOLOGY/HARDWARE - PURCHASE/LEASING/MAINTENANCE/Hardware - Leasing Low Value Server&Storage (<5000$)",
          "GENERAL PROCUREMENT/IT - INFORMATION TECHNOLOGY/HARDWARE - PURCHASE/LEASING/MAINTENANCE/Hardware - Leasing Printers",
          "GENERAL PROCUREMENT/IT - INFORMATION TECHNOLOGY/HARDWARE - PURCHASE/LEASING/MAINTENANCE/Hardware - Maintenance",
          "GENERAL PROCUREMENT/IT - INFORMATION TECHNOLOGY/HARDWARE - PURCHASE/LEASING/MAINTENANCE/Hardware - Maintenance Server&Storage",
          "GENERAL PROCUREMENT/IT - INFORMATION TECHNOLOGY/HARDWARE - PURCHASE/LEASING/MAINTENANCE/Hardware - Maintenance Voice and Data Network",
          "GENERAL PROCUREMENT/IT - INFORMATION TECHNOLOGY/HARDWARE - PURCHASE/LEASING/MAINTENANCE/Hardware - Purchase End-User Computing CAPEX",
          "GENERAL PROCUREMENT/IT - INFORMATION TECHNOLOGY/HARDWARE - PURCHASE/LEASING/MAINTENANCE/Hardware - Purchase Server&Storage CAPEX",
          "GENERAL PROCUREMENT/IT - INFORMATION TECHNOLOGY/HARDWARE - PURCHASE/LEASING/MAINTENANCE/Hardware - Purchase Voice and Data Network CAPEX",
          "GENERAL PROCUREMENT/IT - INFORMATION TECHNOLOGY/HARDWARE - PURCHASE/LEASING/MAINTENANCE/Hardware - Leasing High Value Server&Storage (>5000$)",
          "TECHNICAL PROCUREMENT"
         ],
         "labels": [
          "1/4 Wood Pallets",
          "Subscriptions on Market measurement (license fees)",
          "Subscriptions on Retail panels (license fees)",
          "Suction cups",
          "Surprises - Creative Concepts DIGITAL",
          "Surprises - Creative Concepts TRADITIONAL",
          "Surprises - Marketing Sheets",
          "Surprises - Technical Development",
          "Surprises certification",
          "TICKETS RESTAURANT",
          "TR - Accessories technology supplies (GenAdm)",
          "TR - Accessories technology supplies (GenProd)",
          "TR - Archiving Services (GenAdm)",
          "TR - Building Maintenance (GenAdm)",
          "TR - Canteen Services (GenAdm)",
          "TR - Canteen Services (GenProd)",
          "TR - Cleaning services (GenAdm)",
          "TR - Cleaning services (GenProd)",
          "Subscription Voice and Data Network (IaaS)",
          "Subscription End-User Computing (SaaS)",
          "Strategic, Managerial & organizational consulting",
          "Storage Surprises",
          "Services for credit collection",
          "Services for fridge and other tech devices for Point of Sale",
          "Site supervision",
          "Social Media Management",
          "Spare Parts - Conveyors",
          "Spare Parts Utilities",
          "Spare parts kits",
          "Special Projects Finish Products",
          "TR - Company Vehicles - Fuel, Oil and other (GenAdm)",
          "Specific Material For Utilities Machinery And Equipment",
          "Standard certifications",
          "Storage Finish Products",
          "Storage Finished Products (co-packing)",
          "Storage Interm-Finished Prd-FI",
          "Storage Mtl",
          "Storage Packaging",
          "Storage RAW MATERIALS",
          "Storage SEMI-FINISHED GOODS",
          "Springs",
          "TR - Company Vehicles - Fuel, Oil and other (GenProd)",
          "TR - Company Vehicles - Lease (GenAdm)",
          "TR - Company Vehicles - Lease (GenProd)",
          "TR - Other Fuel Exp - no deductible",
          "TR - PURCHASE DISTRICT HEATING (GENADM)",
          "TR - People Security (GenAdm)",
          "TR - Personal insurance (GenAdm)",
          "TR - Pest Control services (GenProd)",
          "TR - Postage & Couriers Fees (GenAdm)",
          "TR - Postage & Couriers Fees (GenProd)",
          "TR - Printing Supplies (GenProd)",
          "TR - Opx Voice, Data Network-Transms(GenAdm)",
          "TR - Real Estate Office Lease (GenAdm)",
          "TR - Security technology (GenAdm)",
          "TR - Small Furniture - Opex (GenAdm)",
          "TR - Small Furniture - Opex (GenProd)",
          "TR - Sundry insurance (GenAdm)",
          "TR - Technical Consulting non-Industrial Buildings (GenAdm)",
          "TR - Temporary personnel (GenAdm)",
          "TR - Temporary personnel (GenProd)",
          "TR - Tolls and parking",
          "TR - Safety supplies (GenAdm)",
          "Services Gadget",
          "TR - Office supplies (GenProd)",
          "TR - Legal consulting (GenAdm)",
          "TR - Company Vehicles - Lease (S-Wh)",
          "TR - Company Vehicles - Maintenance costs (GenProd)",
          "TR - Donations to employees (GenAdm)",
          "TR - ELECTRICITY (GENADM)",
          "TR - ELECTRICITY (GENPROD)",
          "TR - Employees Transport Services (GenAdm)",
          "TR - Employees Transport Services (GenProd)",
          "TR - Employees event and social activities cost (GenAdm)",
          "TR - Office supplies (GenAdm)",
          "TR - Employees event and social activities cost (GenProd)",
          "TR - GAS (GENPROD)",
          "TR - Ground and green areas maintenance (GenAdm)",
          "TR - Ground and green areas maintenance (GenProd)",
          "TR - HR&OI Consulting (GenAdm)",
          "TR - Handyman services (GenAdm)",
          "TR - Health and Safety (GenAdm)",
          "TR - Health and Safety (GenProd)",
          "TR - IA & Corporate Communication consulting (GenAdm)",
          "TR - Expenses for notary charges (GenAdm)",
          "Server&Storage T&M CAPEX",
          "Server&Storage T&M",
          "Server&Storage Outsourcing",
          "Public relation costs",
          "Pulleys",
          "Pumps",
          "Purchase Applications Licenses",
          "Purchase of product sampling",
          "Quality Premium Interm-Finished Prd-FI",
          "RECRUITMENT",
          "Rail Surprises",
          "Property acquisition",
          "Real Estate Office Lease",
          "Real estate Retail lease",
          "Real estate others (no industrial, no supply chain)",
          "Recreation employees benefits",
          "Rental 1/2 Plastic Pallets",
          "Rental 1/4 Plastic Pallets",
          "Rental 80x120 Pallets",
          "Rental Industrial 100x120 Pallets",
          "Rental Services Fee",
          "Real Estate Short-Term Lease <12 Months",
          "Repacking/Rebulking Finish Products",
          "Property Damage and Business Interruption",
          "Promotional items (including consumer giveaway)",
          "Pest Control",
          "Physical and Supply Chain security",
          "Picking Finish Products",
          "Picking Interm-Finished Prd-FI",
          "Picking RAW MATERIALS",
          "Picking Services",
          "Plant Utilities EaaS (Equipment as a Service)",
          "Porter and reception services",
          "Property Cost Estimation & Acquisition",
          "Post-Production of Advertising Content DIGITAL",
          "Postage & Couriers Fees",
          "Printing Supplies",
          "Printing, photography and videomaking services",
          "Process Engineering professional services",
          "Production of Advertising Content DIGITAL",
          "Production of Advertising Content TRADITIONAL - Radio",
          "Production of Advertising Content TRADITIONAL - TVC",
          "Production of Advertising Content TRADITIONAL-OOH,Static",
          "Post-Production of Advertising Content TRADITIONAL",
          "TR - Training costs of personnel (GenAdm)",
          "Repacking/Rebulking RAW MATERIALS",
          "Research activities for qualifying Innovation initiatives",
          "SPECIFIC DRAWING COMPONENTS",
          "SPROCKET WHEELS",
          "SUND.LOCAL TX&DUTY",
          "SUNDRY INSURANCE",
          "Safety supplies",
          "Sales and B2B Events",
          "School & Kinder garden fees",
          "Screws",
          "SPARE PARTS FOR GAS PLANTS",
          "Sea Finish Products",
          "Sea Packaging",
          "Sea RAW MATERIALS",
          "Sea SEMI-FINISHED GOODS",
          "Sea Surprises",
          "Sea Transportation",
          "Sea Transportation Export Fees Costs",
          "Security technology",
          "Server&Storage Licenses CAPEX",
          "Sea Interm-Finished Prd-FI",
          "Research & Development cost",
          "SEO/SEM",
          "Road Transportation Fleet Rental & Depots",
          "Research activities to assess the ADV/Communication Perf.",
          "Researches to understand Consumers, Shopper, Markets",
          "Retail Data monitoring",
          "Retail Panels DB",
          "Rights buyout-Authors,Artists,Performers,Personality DIGITAL",
          "Rights buyout-Authors,Artists,Performers,Personality TRADI",
          "Rigid pipes",
          "Risk assessment and threat intelligence",
          "Rollers",
          "Road Finish Products",
          "Road Packaging",
          "Road RAW MATERIALS",
          "Road SEMI-FINISHED GOODS",
          "Road Surprises",
          "Road Transportation",
          "Road Transportation Administrative Costs",
          "Road Transportation Costs For Foreign Stays (Demurrages)",
          "Road Transportation Finished Products Export Costs",
          "Road Interm-Finished Prd-FI",
          "Personal Insurance",
          "TR - Training costs of personnel (GenProd)",
          "TR - Travel Agencies fees & services (GenAdm)",
          "POS MATERIAL",
          "PREPARATION",
          "PRIMARY PACKAGING",
          "PRODUCTION",
          "PROMOTIONAL ITEMS",
          "PUBLIC RELATIONS",
          "RAIL TRANSPORT",
          "REAL ESTATE",
          "REAL ESTATE (LOCAL)",
          "RECRUITMENT SERVICE",
          "RELOCATION",
          "REPACKING",
          "RETAIL PANELS",
          "ROAD TRANSPORT",
          "SEA TRANSPORT",
          "SECONDARY PACKAGING",
          "SECURITY",
          "PICKING",
          "PAYROLL",
          "PALLETTS RENT & LEASE SVC",
          "PALLETTS PURCHASING MTL",
          "LEGAL CONSULTING (LOCAL)",
          "LICENSING & RIGHTS",
          "MAINTENANCE & IMPROVEMENTS",
          "MAINTENANCE & IMPROVEMENTS (LOCAL)",
          "MAINTENANCE SERVICES",
          "MAN WORK PER HOUR",
          "MARKET MEASUREMENT",
          "MARKETING EVENTS",
          "SECURITY (LOCAL)",
          "MERCHANDISING & HOSTESS & BROKER COMMISSIONS",
          "NUTS EQUIPMENT & AGRI MOBILE MACHINE",
          "OFFICE SUPPLIES AND SERVICES",
          "OFFICE SUPPLIES AND SERVICES (LOCAL)",
          "OTHER CONSULTING (LOCAL)",
          "OTHER LOGISTICS COSTS",
          "OTHER NON GP SERVICES",
          "OTHER SALES SERVICES",
          "OUTSOURCING - NETWORK TRANSMISSION (LOCAL)",
          "MOLDING & OVENS",
          "SERVICES - MANAGED SERVICE",
          "SERVICES - T&M/BODY LEASING",
          "SOFTWARE - MAINTENANCE FOR PERPETUAL LICENSES",
          "ENERGY AND UTILITIES FOR OFFICES",
          "INFRASTRUCTURE & INDUSTRIAL",
          "IT - INFORMATION TECHNOLOGY",
          "MARKETING SERVICES",
          "MOBILITY",
          "OTHER NON GP",
          "PALLETTS PURCHASING",
          "PALLETTS RENT & LEASE",
          "ENERGY",
          "PEOPLE SERVICES",
          "PROCESS EQUIPMENT",
          "PROFESSIONAL SERVICES",
          "SALES SERVICES",
          "SECONDARY FREIGHT",
          "SURPRISE L2",
          "WAREHOUSING",
          "WORKPLACE SERVICES",
          "GENERAL PROCUREMENT",
          "PRIMARY TRANSPORTS",
          "LEGAL & TAX SERVICES",
          "CUSTOM BROKERAGE & FORWARDING AGENCIES",
          "WASTE MANAGEMENT",
          "SOFTWARE - SUBSCRIPTIONS/LICENSES",
          "SPONSORING",
          "STANDALONE EQUIPMENT",
          "STORAGE",
          "SUBSCRIPTIONS/MEMBERSHIPS",
          "SURPRISE L3",
          "TECHNICAL DEVICES FOR POS",
          "TECHNICAL MATERIALS, PPE & CLOTHES",
          "AUTOMATION & MRO",
          "TEMPORARY PERSONNEL",
          "TRAINING",
          "TRAINING (LOCAL)",
          "TRAVEL",
          "TRAVEL (LOCAL)",
          "UTILITIES",
          "UTILITIES FOR OFFICES (LOCAL)",
          "WAREHOUSE & LOGISTIC",
          "WAREHOUSING LOCATION & LEASING",
          "TEMPORARY PERSONNEL (LOCAL)",
          "LEGAL & NOTARY SERVICES (LOCAL)",
          "LABORATORY EQUIPMENT AND SERVICES",
          "INSURANCE SERVICES (LOCAL)",
          "Travel Agencies fees & services",
          "Travel insurance",
          "Utilities - Electric Energy for Offices",
          "Utilities - Office Gas",
          "Utilities - Office Water",
          "Valves",
          "Vibrators",
          "Voice and Data Network Communications Outsourcing",
          "Transportation - Short-term Rental Cars",
          "Voice and Data Network Licenses CAPEX",
          "Voice and Data Network T&M",
          "WAREHOUSE LEASE",
          "WORKSHOP TOOLS",
          "Warehouse Rent",
          "Warehouse Rental Other Costs (cleaning, security, etc…)",
          "Waste Management Svc",
          "Waste Management for industrial location",
          "Waste Water Treatment Services",
          "Voice and Data Network Outsourcing",
          "Waste treatment, recycling and disposal services",
          "Transportation - Other",
          "Transport Surprises",
          "TR - Travel Agencies fees & services (GenProd)",
          "TR - WATER (GENADM)",
          "TR - WATER (GENPROD)",
          "TR - Waste treatment, recycling and disposal services (S-Wh)",
          "TR-Specific Mtl For Warehouse, Lift And Handl. Equip.(S-Wh)",
          "TR-Waste treatment,recycling and disposal services (GenProd)",
          "Tax & Customs Services Cost",
          "Technical Cleaning material",
          "Transportation - Flights",
          "Technical Consultancy And External Lab Analysis",
          "Temporary Personnels",
          "Testimonials Costs",
          "Training Design & Cost of Personal",
          "Translations and interpreting services",
          "Transport Intermediate Products",
          "Transport Packaging",
          "Transport Raw Materials",
          "Transport Semi Finished",
          "Technical certifications, engineering-related consulting(TS)",
          "TR - Translations and interpreting services (GenAdm)",
          "Water for industrial plant",
          "Website / App Creation & Maintenance",
          "EVENTS",
          "EVENTS (LOCAL)",
          "EXPORT OTHER COMMODITIES (AUTOMATIC)",
          "FACILITY MANAGEMENT HARDSERVICES FOR INDUSTRIAL LOCATIONS",
          "FACILITY MANAGEMENT SOFTSERVICES FOR INDUSTRIAL LOCATIONS",
          "FLEET",
          "FLEET (LOCAL)",
          "FOOD SERVICES",
          "ENERGY FOR INDUSTRIAL PLANT",
          "FOOD SERVICES (LOCAL)",
          "FUMIGATION",
          "GADGETS",
          "HANDLING",
          "HARDWARE - PURCHASE/LEASING/MAINTENANCE",
          "HARDWARE - SUBSCRIPTIONS INFRA",
          "INDUSTRIAL AUTOMATION AND ROBOTICS",
          "INFRASTRUCTURE",
          "INSURANCE SERVICES",
          "FREIGHT FORWARDING AGENCIES",
          "Web domain management",
          "ENERGY CERTIFICATES",
          "EMPLOYEE SERVICES",
          "Wheels",
          "Сonstruction",
          "ADMINISTRATION COST",
          "ADMINISTRATIVE SERVICES",
          "AIR FREIGHT TRANSPORT",
          "B&U PROFESSIONAL SERVICES",
          "BONUS / MALUS (WAREHOUSING)",
          "CERTIFICATIONS",
          "EMPLOYEE SERVICES (LOCAL)",
          "CLEANING",
          "COMMERCIAL QUALITY AND FRESHNESS",
          "CONSULTANCY SERVICES",
          "CONSUMER RESEARCH (AD-HOC)",
          "CONSUMERS PROMOTION ACTIVITIES",
          "CREATIVE DESIGN",
          "CREATIVE DEVELOPMENT & STRATEGY",
          "DIGITAL & SOCIAL MEDIA MARKETING",
          "DISTRIBUTION",
          "CLEANING (LOCAL)",
          "Permanent Materials Production - Secondary Placement",
          "People Security Services",
          "Penalties and Fines (deductible)",
          "Catering services",
          "Chains",
          "Check Out Display Production",
          "Civil maintenance",
          "Cleaning Consultancy and Services",
          "Cleaning, Waste,Pest Services and Material for No Industrial",
          "Client receivables insurance",
          "Cloud Application Development",
          "Cloud License Application Maintenance",
          "Co-working & flexible spaces lease",
          "Cod - PPE, Safety Work Products, Fire Protection",
          "Codified - Clothes & Uniforms, Safety Shoes",
          "Commercial Quality and Freshness monitoring",
          "Communication POS material Production",
          "Company Vehicles - Fuel, Oil and other",
          "Company Vehicles - Lease",
          "Company Vehicles - Maintenance costs",
          "Cash Donations",
          "Cargo (Insurance)",
          "Cams",
          "CUSTOM DECLARATION SERVICES",
          "CPX - Tempering",
          "CPX - Thermic tunnels",
          "CPX - Thermoforming",
          "CPX - Vision & Cameras",
          "CPX - Warehousing - Racks",
          "CPX - Wrapping machines",
          "CPX - X-Ray",
          "CPX Electrical and Automation Cabinets",
          "Company Vehicles - Management costs",
          "CPX Industrial robotic application system",
          "CPX-Flexible & Advanced Robotics (e.g. cobots,AGV/AMR,drones",
          "CPX: Civil Equipment / Works",
          "CPX: Electrical Equipment & Installation",
          "CPX: Energy (Sustainability) / Investments",
          "CPX: Equipment",
          "CPX: General Contractos",
          "CPX: Mechanical Equipment & Installation",
          "CPX: Waste Water & Gas Treatment",
          "CPX Technical Material",
          "Company Vehicles - Other vehicles",
          "Company Vehicles - Purchase",
          "Computer (process)",
          "Design Services",
          "Destruction Product Transport",
          "Discount Coupons",
          "Distribution to Customers and Returned Goods from Customers",
          "Donations",
          "Donations to employees",
          "Dosing nozzles",
          "E-commerce Advertising Creative Development",
          "Design & Management of non Digital Promotion",
          "E-commerce Advertising Production",
          "ELECTRICAL / ELECTRONICAL COMPONENTS",
          "EXPORT EXPENSES FOR",
          "Electric cables",
          "Electrical Energy for Industrial Plant",
          "Electrical Maintenance",
          "Electronic cables",
          "Employees Transport Services",
          "Employees event and social activities cost",
          "ELECTRIC MOTORS AND DRIVES",
          "CPX - Tanks (incl. mixer, plastificators)",
          "Design & Management of Digital Promotion",
          "Dampers",
          "Consumable",
          "Consumer panel on-going subscriptions",
          "Control Tower Services",
          "Corporate IT Management, Finance and Administration T&M",
          "Corporate event Expenses",
          "Couplings",
          "Creative Concept for Advertising Campaigns DIGITAL",
          "Creative Concept for Advertising Campaigns TRADITIONAL",
          "Data source provider, knowledge database subscription",
          "Customs Docum./Forwarder Services Finish Products",
          "Customs Docum./Forwarder Services Packaging",
          "Customs Docum./Forwarder Services RAW MATERIALS",
          "Customs Docum./Forwarder Services SEMI-FINISHED GOODS",
          "Customs Docum./Forwarder Services Surprises",
          "Cutting tools",
          "Cyber Insurance",
          "Cylinders",
          "D&O (Insurance)",
          "Customs Docum./Forwarder Services Interm-Finished Prd-FI",
          "CPX - Sleeve & Shrink Machines",
          "CPX - Silos",
          "CPX - Shellers",
          "BEARINGS AND LINEAR GUIDES",
          "BRAKES AND CLUTCHES",
          "BUILDING MAINTENANCE",
          "Batteries",
          "Belts",
          "Bonus / Malus Warehousing",
          "Booking System Services - Third Parties (TBD)",
          "Books, periodicals subscription (digital or not)",
          "Axes/shafts",
          "Brand & Communication Strategy",
          "Broker Commissions",
          "Brushes",
          "Building Third Party - Improvements & Equipment Cost",
          "Building materials",
          "Building owned - Improvements & equipment cost",
          "Building owned - Improvements cost",
          "Business Association fees",
          "CANTEEN SERVICES",
          "Brand promotion events",
          "CCTV",
          "Automation professional services",
          "Archiving Services",
          "1st Level Support Outsourcing Applications",
          "1st Level Support Outsourcing Technology",
          "2nd Level Suport Outsourcing Applications",
          "2nd Level Support Outsourcing Technology",
          "Ad hoc reports/ analysis performed on Retail Panel DB",
          "Ad hoc reports/analysis on syndicated data (excl RMS)",
          "Additional Services and Costs for Real Estate Lease",
          "Administrative Costs Warehousing",
          "Automation Technical Materials",
          "Air Freight Export Fees Costs",
          "Air Packaging",
          "Air RAW MATERIALS",
          "Air SEMI-FINISHED GOODS",
          "Air Surprises",
          "Application Perpetual Licenses CAPEX",
          "Applications Development - System Integration CAPEX",
          "Applications Development T&M CAPEX",
          "Applications Run and Maintenance T&M",
          "Air Freight Transportation Finished Goods",
          "Employees relocation services",
          "CHEMICAL MATERIAL",
          "CPX - Agri mobile machine (tractor, harvester)",
          "CPX - Infeed (incl. raw distributor system / buffer)",
          "CPX - Labellers",
          "CPX - Liquid Handling & Processing",
          "CPX - Metal detector",
          "CPX - Molding :  Ferrero Design & Build",
          "CPX - Molding equipment",
          "CPX - Molds and Forming Equipments",
          "CPX - Optical sorters",
          "CPX - Handling Systems",
          "CPX - Oven",
          "CPX - Plate Oven",
          "CPX - Powder handling & processing",
          "CPX - Pre-Cleaning/Drying/Vacuum system",
          "CPX - Printer",
          "CPX - Refiners (incl. prerefiners, conches, mills)",
          "CPX - Roaster",
          "CPX - Sealing machine",
          "CPX - Services in project scope",
          "CPX - Pal- & Depalletizers",
          "CONTROL INSTRUMENTS",
          "CPX - Gluing machine",
          "CPX - Forming, filling and closing",
          "CPX - Automatic Warehouses",
          "CPX - Automation and Digital Software",
          "CPX - Bagging Machines",
          "CPX - Basin",
          "CPX - Belts",
          "CPX - Box Forming Machine",
          "CPX - Calibrator",
          "CPX - Check weigher",
          "CPX - General Contractor",
          "CPX - Cocoa Presses",
          "CPX - Conveyors and Handling",
          "CPX - Conveyors,Elevators,Transports, Big Bag station",
          "CPX - Counter and filling machine",
          "CPX - Deodorizations",
          "CPX - Dosing & Enrobing",
          "CPX - Dough Preparation",
          "CPX - Flow wrapper",
          "CPX - Forklifts (Buy)",
          "CPX - Conveying Systems",
          "Employees tax services",
          "End-User Computing Laptop, Workstation Outsourcing",
          "End-User Computing Licenses CAPEX",
          "Maintenance Application Software",
          "Maintenance End-User Computing Software",
          "Maintenance Server&Storage Software",
          "Maintenance Voice and Data Network Software",
          "Man work per hour svc",
          "Manned guarding services",
          "Measure devices and Control instruments",
          "Mechanical maintenance",
          "Maintenance And Services On Laboratory Equipments",
          "Media Relations, Membership & Partnership",
          "Merchandising services",
          "Motor vehicle insurance",
          "NGO, Donations",
          "No Commercial Sponsorships",
          "Not cod - PPE, Safety Work Products, Fire Protection",
          "Not codified - Clothes & Uniforms, Safety Shoes",
          "OPX - Agri Mobile Machine (Tractor, Harvester)",
          "OPX - Extraordinary Maintenance",
          "Medical Services",
          "OPX - Forklifts (Rental & Service)",
          "Maintenace service not depreciable (Maintenance Order)",
          "Lubricants",
          "Inspections/Sanitary Controls SEMI-FINISHED GOODS",
          "Integrated Facility Maintenance",
          "Job postings",
          "Laboratory",
          "Laundry Services",
          "Legal Advisory",
          "Legal services",
          "Levers",
          "M&A related consultancies",
          "Liability (Insurance)",
          "Licensing - Brands & Content TRADITIONAL",
          "Licensing - Music DIGITAL",
          "Licensing - Music TRADITIONAL",
          "Lighting",
          "Local Small Building rent",
          "Locks, Handles",
          "Long Stay Relocation",
          "Long stay accommodation",
          "Licensing - Brands & Content DIGITAL",
          "Inspections/Sanitary Controls Interm-Finished Prd-FI",
          "OPX - Ordinary Maintenance",
          "OPX - Software, Licence Fee, Assistance",
          "POS material Molds, Toolings, Die Cuts CAPEX",
          "POS materials Storage and Logistic",
          "PR Communication Strategy, Advisory, Issues Management",
          "PR Digital Activities & Tools",
          "PRINTERS CONSUMABLES",
          "PRINTERS SPARE PARTS",
          "PRODUCTION TOOLS",
          "PROM.MAT.CASHDESK",
          "POS material Development & Sampling",
          "PROMO POS MODERN",
          "PROMOTIONAL GIFTS",
          "PROMOTIONAL POINT OF SALE",
          "Packaging & POS - Artwork, Technical finalization&Templates",
          "Packaging & POS - Creative Concept",
          "Packaging & POS - Mockups / Samples",
          "Paint",
          "Panel SPE management",
          "Patents management / Intellectual Property (IP)",
          "PROMO POS TRADNL",
          "OPX - Retrofit/revamping of an equipment or line",
          "PHOTOCELLS AND PROXIMITY SWITCHES",
          "PALLETS",
          "OTHER LOGISTIC COSTS",
          "OTHER LOGISTIC COSTS (FG WH)",
          "OTHER SALE DISCOUNTS",
          "Office Furniture - Capex",
          "Office machines & equipment - Investment",
          "Office machines & equipment - Maintenance",
          "Office supplies",
          "Optional insurance employees",
          "PAYROLL SERVICES",
          "Optional insurance manager",
          "Other Materials Immediate Use for Maintenance Plant",
          "Other Materials Immediate Use for Production Assistance",
          "Other Spare parts (not codified, catalogues items)",
          "Other auditing",
          "Other research activities on consumer, shopper and citizen",
          "Other syndicated subscriptions (excluding RMS, CPS)",
          "Other travel services",
          "Outsourcing of administrative services (bpo)",
          "Other Consumables, Material and Small Supplies",
          "SUPPLY CHAIN",
          "Inspections/Sanitary Controls Finish Products",
          "Infirmary",
          "Extra-waiting Surprises",
          "FIXING ELEMENTS",
          "Fans",
          "Filters",
          "Financial Audit",
          "Flexible pipes",
          "Forklift And Machinery Rentals (Ops)",
          "Fridges lease/rent and other tech devices for point of Sale",
          "Extra-waiting SEMI-FINISHED GOODS",
          "Fridges production and other tech devices for POS - CAPEX",
          "Fuel for industrial plant",
          "Fuels",
          "Fumigation RAW MATERIALS",
          "Fumigation Svc",
          "Function related / professional consultancy",
          "GADGET",
          "GADGET OTHER",
          "GEARS",
          "Fridges production and other tech devices for POS-excl CAPEX",
          "Gas Consumables",
          "Extra-waiting RAW MATERIALS",
          "Extra-waiting Interm-Finished Prd-FI",
          "End-User Computing Mobile Communications Outsourcing",
          "End-User Computing Mobile Management Outsourcing",
          "End-User Computing T&M",
          "Energy certifications for power",
          "Entertainment expenses (No deductible)",
          "Environmental Analysis",
          "Environmental EIL (Insurance)",
          "Epal 80x120 Pallets New",
          "Extra-waiting Packaging",
          "Epal 80x120 Pallets Used 1st Choice",
          "Export Expenses For Various Sales",
          "Extra Cost  Transpor Finished product",
          "Extra Cost  Transpor Interm-finished Product",
          "Extra Cost  Transpor Packaging",
          "Extra Cost  Transpor Raw Material",
          "Extra Cost  Transpor Semi-finished Product",
          "Extra Cost  Transpor Surprise",
          "Extra-waiting Finish Products",
          "Events Sponsorships & Partnership",
          "Influencers & Testimonials",
          "Gas for Industrial Plant",
          "Gearboxes",
          "Hardware-Leasing Low Value Voice and Data Network (<5000$)",
          "Health and Safety - Site Supervision",
          "Health and Safety GP",
          "Heaters",
          "Hostess services",
          "Hotel accommodation",
          "IT Service Desk T&M",
          "ITL - Altre spese di rappresentanza",
          "Hardware-Leasing High Value Voice and Data Network (>5000$)",
          "ITL - Spese di rappresentanza",
          "In-Pack Gadgets_Commercial Co-Pack",
          "In-Pack Gadgets_Industrial co-pack",
          "In/Out Functional Display Production - Customized",
          "In/Out Functional Display Production - Standard",
          "In/Out Theatrical Materials Production - Customized",
          "In/Out Theatrical Materials Production - Standard",
          "Industrial 100x120 Pallets",
          "Industrial Cleaning",
          "ITL - Spese di rappresentanza min valore",
          "Gaskets/Seals",
          "Hardware - Server&Storage (IaaS)",
          "Hardware - Purchase for Mobile devices",
          "Generic consumables",
          "Glues",
          "Ground and green areas maintenance,inclu industrial premises",
          "HYDRAULIC AND PNEUMATIC FITTINGS",
          "Handling Finish Products",
          "Handling Interm-Finished Prd-FI",
          "Handling RAW MATERIALS",
          "Handling Services",
          "Hardware - Purchase for Videoconference devices",
          "Hardware - Leasing End-User Computing",
          "Hardware - Leasing Low Value Server&Storage (<5000$)",
          "Hardware - Leasing Printers",
          "Hardware - Maintenance",
          "Hardware - Maintenance Server&Storage",
          "Hardware - Maintenance Voice and Data Network",
          "Hardware - Purchase End-User Computing CAPEX",
          "Hardware - Purchase Server&Storage CAPEX",
          "Hardware - Purchase Voice and Data Network CAPEX",
          "Hardware - Leasing High Value Server&Storage (>5000$)",
          "TECHNICAL PROCUREMENT"
         ],
         "marker": {
          "colors": [
           "#EF553B",
           "#636EFA",
           "#636EFA",
           "#00CC96",
           "#636EFA",
           "#636EFA",
           "#636EFA",
           "#636EFA",
           "#636EFA",
           "#636EFA",
           "#636EFA",
           "#636EFA",
           "#636EFA",
           "#636EFA",
           "#636EFA",
           "#636EFA",
           "#636EFA",
           "#636EFA",
           "#636EFA",
           "#636EFA",
           "#636EFA",
           "#EF553B",
           "#636EFA",
           "#636EFA",
           "#00CC96",
           "#636EFA",
           "#00CC96",
           "#00CC96",
           "#00CC96",
           "#EF553B",
           "#636EFA",
           "#00CC96",
           "#636EFA",
           "#EF553B",
           "#EF553B",
           "#EF553B",
           "#EF553B",
           "#EF553B",
           "#EF553B",
           "#EF553B",
           "#00CC96",
           "#636EFA",
           "#636EFA",
           "#636EFA",
           "#00CC96",
           "#00CC96",
           "#636EFA",
           "#636EFA",
           "#636EFA",
           "#636EFA",
           "#636EFA",
           "#636EFA",
           "#636EFA",
           "#636EFA",
           "#636EFA",
           "#636EFA",
           "#636EFA",
           "#636EFA",
           "#636EFA",
           "#636EFA",
           "#636EFA",
           "#636EFA",
           "#636EFA",
           "#636EFA",
           "#636EFA",
           "#636EFA",
           "#636EFA",
           "#636EFA",
           "#636EFA",
           "#636EFA",
           "#636EFA",
           "#636EFA",
           "#636EFA",
           "#636EFA",
           "#636EFA",
           "#636EFA",
           "#636EFA",
           "#636EFA",
           "#636EFA",
           "#636EFA",
           "#636EFA",
           "#636EFA",
           "#636EFA",
           "#636EFA",
           "#636EFA",
           "#636EFA",
           "#636EFA",
           "#636EFA",
           "#636EFA",
           "#00CC96",
           "#00CC96",
           "#636EFA",
           "#636EFA",
           "#EF553B",
           "#636EFA",
           "#EF553B",
           "#00CC96",
           "#636EFA",
           "#636EFA",
           "#636EFA",
           "#636EFA",
           "#EF553B",
           "#EF553B",
           "#EF553B",
           "#EF553B",
           "#00CC96",
           "#636EFA",
           "#EF553B",
           "#636EFA",
           "#636EFA",
           "#00CC96",
           "#636EFA",
           "#EF553B",
           "#EF553B",
           "#EF553B",
           "#EF553B",
           "#00CC96",
           "#636EFA",
           "#00CC96",
           "#636EFA",
           "#636EFA",
           "#636EFA",
           "#636EFA",
           "#00CC96",
           "#636EFA",
           "#636EFA",
           "#636EFA",
           "#636EFA",
           "#636EFA",
           "#636EFA",
           "#EF553B",
           "#636EFA",
           "#00CC96",
           "#00CC96",
           "#636EFA",
           "#636EFA",
           "#636EFA",
           "#636EFA",
           "#636EFA",
           "#00CC96",
           "#00CC96",
           "#EF553B",
           "#EF553B",
           "#EF553B",
           "#EF553B",
           "#EF553B",
           "#EF553B",
           "#EF553B",
           "#636EFA",
           "#636EFA",
           "#EF553B",
           "#636EFA",
           "#636EFA",
           "#EF553B",
           "#636EFA",
           "#636EFA",
           "#636EFA",
           "#636EFA",
           "#636EFA",
           "#636EFA",
           "#00CC96",
           "#636EFA",
           "#00CC96",
           "#EF553B",
           "#EF553B",
           "#EF553B",
           "#EF553B",
           "#EF553B",
           "#EF553B",
           "#EF553B",
           "#EF553B",
           "#EF553B",
           "#EF553B",
           "#636EFA",
           "#636EFA",
           "#636EFA",
           "#636EFA",
           "#00CC96",
           "#00CC96",
           "#636EFA",
           "#636EFA",
           "#636EFA",
           "#EF553B",
           "#636EFA",
           "#636EFA",
           "#636EFA",
           "#636EFA",
           "#EF553B",
           "#636EFA",
           "#EF553B",
           "#EF553B",
           "#00CC96",
           "#636EFA",
           "#EF553B",
           "#636EFA",
           "#EF553B",
           "#EF553B",
           "#636EFA",
           "#636EFA",
           "#636EFA",
           "#636EFA",
           "#00CC96",
           "#EF553B",
           "#636EFA",
           "#636EFA",
           "#636EFA",
           "#636EFA",
           "#00CC96",
           "#636EFA",
           "#636EFA",
           "#636EFA",
           "#EF553B",
           "#636EFA",
           "#636EFA",
           "#636EFA",
           "#00CC96",
           "#636EFA",
           "#636EFA",
           "#636EFA",
           "#636EFA",
           "#00CC96",
           "#636EFA",
           "#636EFA",
           "#636EFA",
           "#636EFA",
           "#EF553B",
           "#EF553B",
           "#00CC96",
           "#636EFA",
           "#00CC96",
           "#636EFA",
           "#636EFA",
           "#EF553B",
           "#636EFA",
           "#EF553B",
           "#636EFA",
           "#636EFA",
           "#EF553B",
           "#636EFA",
           "#EF553B",
           "#EF553B",
           "#636EFA",
           "#636EFA",
           "#00CC96",
           "#EF553B",
           "#636EFA",
           "#636EFA",
           "#636EFA",
           "#00CC96",
           "#00CC96",
           "#636EFA",
           "#636EFA",
           "#636EFA",
           "#636EFA",
           "#636EFA",
           "#636EFA",
           "#636EFA",
           "#00CC96",
           "#EF553B",
           "#636EFA",
           "#636EFA",
           "#00CC96",
           "#636EFA",
           "#636EFA",
           "#636EFA",
           "#636EFA",
           "#636EFA",
           "#636EFA",
           "#00CC96",
           "#00CC96",
           "#636EFA",
           "#636EFA",
           "#636EFA",
           "#636EFA",
           "#EF553B",
           "#00CC96",
           "#EF553B",
           "#EF553B",
           "#EF553B",
           "#00CC96",
           "#00CC96",
           "#636EFA",
           "#636EFA",
           "#636EFA",
           "#EF553B",
           "#636EFA",
           "#636EFA",
           "#636EFA",
           "#636EFA",
           "#00CC96",
           "#636EFA",
           "#636EFA",
           "#00CC96",
           "#636EFA",
           "#00CC96",
           "#636EFA",
           "#636EFA",
           "#636EFA",
           "#636EFA",
           "#EF553B",
           "#EF553B",
           "#EF553B",
           "#EF553B",
           "#00CC96",
           "#636EFA",
           "#00CC96",
           "#636EFA",
           "#636EFA",
           "#636EFA",
           "#EF553B",
           "#00CC96",
           "#00CC96",
           "#636EFA",
           "#636EFA",
           "#636EFA",
           "#00CC96",
           "#636EFA",
           "#EF553B",
           "#636EFA",
           "#EF553B",
           "#636EFA",
           "#636EFA",
           "#00CC96",
           "#00CC96",
           "#636EFA",
           "#EF553B",
           "#636EFA",
           "#00CC96",
           "#636EFA",
           "#00CC96",
           "#00CC96",
           "#EF553B",
           "#636EFA",
           "#EF553B",
           "#00CC96",
           "#EF553B",
           "#636EFA",
           "#636EFA",
           "#636EFA",
           "#636EFA",
           "#636EFA",
           "#636EFA",
           "#636EFA",
           "#636EFA",
           "#636EFA",
           "#636EFA",
           "#EF553B",
           "#636EFA",
           "#636EFA",
           "#636EFA",
           "#636EFA",
           "#636EFA",
           "#00CC96",
           "#636EFA",
           "#00CC96",
           "#00CC96",
           "#636EFA",
           "#636EFA",
           "#636EFA",
           "#636EFA",
           "#636EFA",
           "#00CC96",
           "#00CC96",
           "#636EFA",
           "#636EFA",
           "#636EFA",
           "#636EFA",
           "#636EFA",
           "#636EFA",
           "#636EFA",
           "#00CC96",
           "#EF553B",
           "#00CC96",
           "#00CC96",
           "#00CC96",
           "#00CC96",
           "#00CC96",
           "#00CC96",
           "#00CC96",
           "#00CC96",
           "#636EFA",
           "#00CC96",
           "#00CC96",
           "#00CC96",
           "#00CC96",
           "#00CC96",
           "#00CC96",
           "#00CC96",
           "#00CC96",
           "#00CC96",
           "#00CC96",
           "#636EFA",
           "#636EFA",
           "#00CC96",
           "#00CC96",
           "#EF553B",
           "#636EFA",
           "#EF553B",
           "#636EFA",
           "#636EFA",
           "#00CC96",
           "#636EFA",
           "#636EFA",
           "#636EFA",
           "#00CC96",
           "#EF553B",
           "#00CC96",
           "#00CC96",
           "#00CC96",
           "#00CC96",
           "#636EFA",
           "#636EFA",
           "#00CC96",
           "#00CC96",
           "#636EFA",
           "#00CC96",
           "#00CC96",
           "#636EFA",
           "#EF553B",
           "#636EFA",
           "#636EFA",
           "#00CC96",
           "#636EFA",
           "#636EFA",
           "#636EFA",
           "#EF553B",
           "#EF553B",
           "#EF553B",
           "#EF553B",
           "#EF553B",
           "#00CC96",
           "#636EFA",
           "#00CC96",
           "#636EFA",
           "#EF553B",
           "#00CC96",
           "#00CC96",
           "#00CC96",
           "#00CC96",
           "#00CC96",
           "#636EFA",
           "#00CC96",
           "#00CC96",
           "#EF553B",
           "#EF553B",
           "#636EFA",
           "#00CC96",
           "#636EFA",
           "#636EFA",
           "#00CC96",
           "#636EFA",
           "#00CC96",
           "#636EFA",
           "#636EFA",
           "#636EFA",
           "#636EFA",
           "#636EFA",
           "#636EFA",
           "#00CC96",
           "#636EFA",
           "#636EFA",
           "#636EFA",
           "#636EFA",
           "#636EFA",
           "#636EFA",
           "#636EFA",
           "#636EFA",
           "#EF553B",
           "#00CC96",
           "#EF553B",
           "#EF553B",
           "#EF553B",
           "#EF553B",
           "#EF553B",
           "#636EFA",
           "#636EFA",
           "#636EFA",
           "#636EFA",
           "#EF553B",
           "#636EFA",
           "#00CC96",
           "#00CC96",
           "#00CC96",
           "#00CC96",
           "#00CC96",
           "#00CC96",
           "#00CC96",
           "#00CC96",
           "#00CC96",
           "#00CC96",
           "#00CC96",
           "#00CC96",
           "#00CC96",
           "#00CC96",
           "#00CC96",
           "#00CC96",
           "#00CC96",
           "#00CC96",
           "#00CC96",
           "#00CC96",
           "#00CC96",
           "#00CC96",
           "#00CC96",
           "#00CC96",
           "#00CC96",
           "#00CC96",
           "#00CC96",
           "#00CC96",
           "#00CC96",
           "#00CC96",
           "#00CC96",
           "#00CC96",
           "#00CC96",
           "#00CC96",
           "#00CC96",
           "#00CC96",
           "#00CC96",
           "#00CC96",
           "#00CC96",
           "#00CC96",
           "#00CC96",
           "#00CC96",
           "#00CC96",
           "#636EFA",
           "#636EFA",
           "#636EFA",
           "#636EFA",
           "#636EFA",
           "#636EFA",
           "#636EFA",
           "#EF553B",
           "#636EFA",
           "#00CC96",
           "#00CC96",
           "#00CC96",
           "#636EFA",
           "#636EFA",
           "#636EFA",
           "#636EFA",
           "#636EFA",
           "#00CC96",
           "#00CC96",
           "#00CC96",
           "#00CC96",
           "#636EFA",
           "#00CC96",
           "#00CC96",
           "#00CC96",
           "#EF553B",
           "#00CC96",
           "#636EFA",
           "#00CC96",
           "#00CC96",
           "#636EFA",
           "#636EFA",
           "#00CC96",
           "#636EFA",
           "#636EFA",
           "#636EFA",
           "#636EFA",
           "#636EFA",
           "#00CC96",
           "#636EFA",
           "#00CC96",
           "#636EFA",
           "#636EFA",
           "#636EFA",
           "#EF553B",
           "#00CC96",
           "#00CC96",
           "#636EFA",
           "#636EFA",
           "#636EFA",
           "#636EFA",
           "#00CC96",
           "#00CC96",
           "#00CC96",
           "#636EFA",
           "#636EFA",
           "#636EFA",
           "#636EFA",
           "#636EFA",
           "#636EFA",
           "#636EFA",
           "#636EFA",
           "#00CC96",
           "#636EFA",
           "#636EFA",
           "#636EFA",
           "#00CC96",
           "#00CC96",
           "#636EFA",
           "#EF553B",
           "#EF553B",
           "#636EFA",
           "#636EFA",
           "#636EFA",
           "#636EFA",
           "#636EFA",
           "#636EFA",
           "#636EFA",
           "#636EFA",
           "#00CC96",
           "#00CC96",
           "#00CC96",
           "#636EFA",
           "#636EFA",
           "#636EFA",
           "#636EFA",
           "#636EFA",
           "#636EFA",
           "#EF553B",
           "#EF553B",
           "#00CC96",
           "#EF553B",
           "#00CC96",
           "#00CC96",
           "#00CC96",
           "#636EFA",
           "#00CC96",
           "#EF553B",
           "#636EFA",
           "#EF553B",
           "#636EFA",
           "#00CC96",
           "#00CC96",
           "#EF553B",
           "#EF553B",
           "#636EFA",
           "#636EFA",
           "#636EFA",
           "#00CC96",
           "#636EFA",
           "#00CC96",
           "#EF553B",
           "#EF553B",
           "#636EFA",
           "#636EFA",
           "#636EFA",
           "#00CC96",
           "#636EFA",
           "#636EFA",
           "#636EFA",
           "#EF553B",
           "#EF553B",
           "#EF553B",
           "#EF553B",
           "#EF553B",
           "#EF553B",
           "#EF553B",
           "#EF553B",
           "#EF553B",
           "#EF553B",
           "#EF553B",
           "#636EFA",
           "#636EFA",
           "#00CC96",
           "#00CC96",
           "#636EFA",
           "#00CC96",
           "#636EFA",
           "#00CC96",
           "#636EFA",
           "#636EFA",
           "#636EFA",
           "#636EFA",
           "#636EFA",
           "#636EFA",
           "#636EFA",
           "#636EFA",
           "#636EFA",
           "#636EFA",
           "#636EFA",
           "#636EFA",
           "#EF553B",
           "#636EFA",
           "#636EFA",
           "#00CC96",
           "#636EFA",
           "#636EFA",
           "#00CC96",
           "#00CC96",
           "#636EFA",
           "#00CC96",
           "#EF553B",
           "#EF553B",
           "#EF553B",
           "#EF553B",
           "#636EFA",
           "#636EFA",
           "#636EFA",
           "#636EFA",
           "#636EFA",
           "#636EFA",
           "#636EFA",
           "#636EFA",
           "#636EFA",
           "#636EFA",
           "#636EFA",
           "#00CC96"
          ]
         },
         "name": "",
         "parents": [
          "SUPPLY CHAIN/PALLETTS PURCHASING/PALLETTS PURCHASING MTL",
          "GENERAL PROCUREMENT/MARKETING SERVICES/MARKET MEASUREMENT",
          "GENERAL PROCUREMENT/MARKETING SERVICES/RETAIL PANELS",
          "TECHNICAL PROCUREMENT/AUTOMATION & MRO/TECHNICAL MATERIALS, PPE & CLOTHES",
          "GENERAL PROCUREMENT/MARKETING SERVICES/CREATIVE DESIGN",
          "GENERAL PROCUREMENT/MARKETING SERVICES/CREATIVE DESIGN",
          "GENERAL PROCUREMENT/MARKETING SERVICES/CREATIVE DESIGN",
          "GENERAL PROCUREMENT/MARKETING SERVICES/CREATIVE DESIGN",
          "GENERAL PROCUREMENT/PROFESSIONAL SERVICES/CERTIFICATIONS",
          "GENERAL PROCUREMENT/WORKPLACE SERVICES/FOOD SERVICES",
          "GENERAL PROCUREMENT/WORKPLACE SERVICES/OFFICE SUPPLIES AND SERVICES (LOCAL)",
          "GENERAL PROCUREMENT/WORKPLACE SERVICES/OFFICE SUPPLIES AND SERVICES (LOCAL)",
          "GENERAL PROCUREMENT/WORKPLACE SERVICES/OFFICE SUPPLIES AND SERVICES (LOCAL)",
          "GENERAL PROCUREMENT/WORKPLACE SERVICES/MAINTENANCE & IMPROVEMENTS (LOCAL)",
          "GENERAL PROCUREMENT/WORKPLACE SERVICES/FOOD SERVICES (LOCAL)",
          "GENERAL PROCUREMENT/WORKPLACE SERVICES/FOOD SERVICES (LOCAL)",
          "GENERAL PROCUREMENT/WORKPLACE SERVICES/CLEANING (LOCAL)",
          "GENERAL PROCUREMENT/WORKPLACE SERVICES/CLEANING (LOCAL)",
          "GENERAL PROCUREMENT/IT - INFORMATION TECHNOLOGY/SOFTWARE - SUBSCRIPTIONS/LICENSES",
          "GENERAL PROCUREMENT/IT - INFORMATION TECHNOLOGY/SOFTWARE - SUBSCRIPTIONS/LICENSES",
          "GENERAL PROCUREMENT/PROFESSIONAL SERVICES/CONSULTANCY SERVICES",
          "SUPPLY CHAIN/WAREHOUSING/STORAGE",
          "GENERAL PROCUREMENT/PROFESSIONAL SERVICES/ADMINISTRATIVE SERVICES",
          "GENERAL PROCUREMENT/SALES SERVICES/TECHNICAL DEVICES FOR POS",
          "TECHNICAL PROCUREMENT/INFRASTRUCTURE & INDUSTRIAL/B&U PROFESSIONAL SERVICES",
          "GENERAL PROCUREMENT/MARKETING SERVICES/DIGITAL & SOCIAL MEDIA MARKETING",
          "TECHNICAL PROCUREMENT/AUTOMATION & MRO/TECHNICAL MATERIALS, PPE & CLOTHES",
          "TECHNICAL PROCUREMENT/AUTOMATION & MRO/TECHNICAL MATERIALS, PPE & CLOTHES",
          "TECHNICAL PROCUREMENT/AUTOMATION & MRO/TECHNICAL MATERIALS, PPE & CLOTHES",
          "SUPPLY CHAIN/PRIMARY TRANSPORTS/ROAD TRANSPORT",
          "GENERAL PROCUREMENT/MOBILITY/FLEET (LOCAL)",
          "TECHNICAL PROCUREMENT/INFRASTRUCTURE & INDUSTRIAL/INFRASTRUCTURE",
          "GENERAL PROCUREMENT/PROFESSIONAL SERVICES/CERTIFICATIONS",
          "SUPPLY CHAIN/WAREHOUSING/STORAGE",
          "SUPPLY CHAIN/WAREHOUSING/STORAGE",
          "SUPPLY CHAIN/WAREHOUSING/STORAGE",
          "SUPPLY CHAIN/WAREHOUSING/STORAGE",
          "SUPPLY CHAIN/WAREHOUSING/STORAGE",
          "SUPPLY CHAIN/WAREHOUSING/STORAGE",
          "SUPPLY CHAIN/WAREHOUSING/STORAGE",
          "TECHNICAL PROCUREMENT/AUTOMATION & MRO/TECHNICAL MATERIALS, PPE & CLOTHES",
          "GENERAL PROCUREMENT/MOBILITY/FLEET (LOCAL)",
          "GENERAL PROCUREMENT/MOBILITY/FLEET (LOCAL)",
          "GENERAL PROCUREMENT/MOBILITY/FLEET (LOCAL)",
          "TECHNICAL PROCUREMENT/ENERGY/ENERGY FOR INDUSTRIAL PLANT",
          "TECHNICAL PROCUREMENT/ENERGY/ENERGY FOR INDUSTRIAL PLANT",
          "GENERAL PROCUREMENT/WORKPLACE SERVICES/SECURITY (LOCAL)",
          "GENERAL PROCUREMENT/PROFESSIONAL SERVICES/INSURANCE SERVICES (LOCAL)",
          "GENERAL PROCUREMENT/WORKPLACE SERVICES/CLEANING (LOCAL)",
          "GENERAL PROCUREMENT/WORKPLACE SERVICES/OFFICE SUPPLIES AND SERVICES (LOCAL)",
          "GENERAL PROCUREMENT/WORKPLACE SERVICES/OFFICE SUPPLIES AND SERVICES (LOCAL)",
          "GENERAL PROCUREMENT/WORKPLACE SERVICES/OFFICE SUPPLIES AND SERVICES (LOCAL)",
          "GENERAL PROCUREMENT/IT - INFORMATION TECHNOLOGY/OUTSOURCING - NETWORK TRANSMISSION (LOCAL)",
          "GENERAL PROCUREMENT/WORKPLACE SERVICES/REAL ESTATE (LOCAL)",
          "GENERAL PROCUREMENT/WORKPLACE SERVICES/SECURITY (LOCAL)",
          "GENERAL PROCUREMENT/WORKPLACE SERVICES/OFFICE SUPPLIES AND SERVICES (LOCAL)",
          "GENERAL PROCUREMENT/WORKPLACE SERVICES/OFFICE SUPPLIES AND SERVICES (LOCAL)",
          "GENERAL PROCUREMENT/PROFESSIONAL SERVICES/INSURANCE SERVICES (LOCAL)",
          "GENERAL PROCUREMENT/PROFESSIONAL SERVICES/OTHER CONSULTING (LOCAL)",
          "GENERAL PROCUREMENT/PEOPLE SERVICES/TEMPORARY PERSONNEL (LOCAL)",
          "GENERAL PROCUREMENT/PEOPLE SERVICES/TEMPORARY PERSONNEL (LOCAL)",
          "GENERAL PROCUREMENT/WORKPLACE SERVICES/OFFICE SUPPLIES AND SERVICES (LOCAL)",
          "GENERAL PROCUREMENT/WORKPLACE SERVICES/OFFICE SUPPLIES AND SERVICES (LOCAL)",
          "GENERAL PROCUREMENT/SALES SERVICES/GADGETS",
          "GENERAL PROCUREMENT/WORKPLACE SERVICES/OFFICE SUPPLIES AND SERVICES (LOCAL)",
          "GENERAL PROCUREMENT/PROFESSIONAL SERVICES/LEGAL CONSULTING (LOCAL)",
          "GENERAL PROCUREMENT/MOBILITY/FLEET (LOCAL)",
          "GENERAL PROCUREMENT/MOBILITY/FLEET (LOCAL)",
          "GENERAL PROCUREMENT/PEOPLE SERVICES/EMPLOYEE SERVICES (LOCAL)",
          "GENERAL PROCUREMENT/ENERGY AND UTILITIES FOR OFFICES/UTILITIES FOR OFFICES (LOCAL)",
          "GENERAL PROCUREMENT/ENERGY AND UTILITIES FOR OFFICES/UTILITIES FOR OFFICES (LOCAL)",
          "GENERAL PROCUREMENT/PEOPLE SERVICES/EMPLOYEE SERVICES (LOCAL)",
          "GENERAL PROCUREMENT/PEOPLE SERVICES/EMPLOYEE SERVICES (LOCAL)",
          "GENERAL PROCUREMENT/PEOPLE SERVICES/EMPLOYEE SERVICES (LOCAL)",
          "GENERAL PROCUREMENT/WORKPLACE SERVICES/OFFICE SUPPLIES AND SERVICES (LOCAL)",
          "GENERAL PROCUREMENT/PEOPLE SERVICES/EMPLOYEE SERVICES (LOCAL)",
          "GENERAL PROCUREMENT/ENERGY AND UTILITIES FOR OFFICES/UTILITIES FOR OFFICES (LOCAL)",
          "GENERAL PROCUREMENT/WORKPLACE SERVICES/MAINTENANCE & IMPROVEMENTS (LOCAL)",
          "GENERAL PROCUREMENT/WORKPLACE SERVICES/MAINTENANCE & IMPROVEMENTS (LOCAL)",
          "GENERAL PROCUREMENT/PROFESSIONAL SERVICES/LEGAL CONSULTING (LOCAL)",
          "GENERAL PROCUREMENT/WORKPLACE SERVICES/MAINTENANCE & IMPROVEMENTS (LOCAL)",
          "GENERAL PROCUREMENT/PEOPLE SERVICES/EMPLOYEE SERVICES (LOCAL)",
          "GENERAL PROCUREMENT/PEOPLE SERVICES/EMPLOYEE SERVICES (LOCAL)",
          "GENERAL PROCUREMENT/PROFESSIONAL SERVICES/OTHER CONSULTING (LOCAL)",
          "GENERAL PROCUREMENT/PROFESSIONAL SERVICES/LEGAL & NOTARY SERVICES (LOCAL)",
          "GENERAL PROCUREMENT/IT - INFORMATION TECHNOLOGY/SERVICES - T&M/BODY LEASING",
          "GENERAL PROCUREMENT/IT - INFORMATION TECHNOLOGY/SERVICES - T&M/BODY LEASING",
          "GENERAL PROCUREMENT/IT - INFORMATION TECHNOLOGY/SERVICES - MANAGED SERVICE",
          "GENERAL PROCUREMENT/PEOPLE SERVICES/EVENTS",
          "TECHNICAL PROCUREMENT/AUTOMATION & MRO/TECHNICAL MATERIALS, PPE & CLOTHES",
          "TECHNICAL PROCUREMENT/AUTOMATION & MRO/TECHNICAL MATERIALS, PPE & CLOTHES",
          "GENERAL PROCUREMENT/IT - INFORMATION TECHNOLOGY/SOFTWARE - SUBSCRIPTIONS/LICENSES",
          "GENERAL PROCUREMENT/MARKETING SERVICES/MARKET MEASUREMENT",
          "SUPPLY CHAIN/PRIMARY TRANSPORTS/OTHER LOGISTICS COSTS",
          "GENERAL PROCUREMENT/PEOPLE SERVICES/RECRUITMENT SERVICE",
          "SUPPLY CHAIN/PRIMARY TRANSPORTS/RAIL TRANSPORT",
          "TECHNICAL PROCUREMENT/INFRASTRUCTURE & INDUSTRIAL/INFRASTRUCTURE",
          "GENERAL PROCUREMENT/WORKPLACE SERVICES/REAL ESTATE",
          "GENERAL PROCUREMENT/WORKPLACE SERVICES/REAL ESTATE",
          "GENERAL PROCUREMENT/WORKPLACE SERVICES/REAL ESTATE",
          "GENERAL PROCUREMENT/PEOPLE SERVICES/EMPLOYEE SERVICES",
          "SUPPLY CHAIN/PALLETTS RENT & LEASE/PALLETTS RENT & LEASE SVC",
          "SUPPLY CHAIN/PALLETTS RENT & LEASE/PALLETTS RENT & LEASE SVC",
          "SUPPLY CHAIN/PALLETTS RENT & LEASE/PALLETTS RENT & LEASE SVC",
          "SUPPLY CHAIN/PALLETTS RENT & LEASE/PALLETTS RENT & LEASE SVC",
          "TECHNICAL PROCUREMENT/AUTOMATION & MRO/MAINTENANCE SERVICES",
          "GENERAL PROCUREMENT/WORKPLACE SERVICES/REAL ESTATE",
          "SUPPLY CHAIN/WAREHOUSING/REPACKING",
          "GENERAL PROCUREMENT/PROFESSIONAL SERVICES/INSURANCE SERVICES",
          "GENERAL PROCUREMENT/SALES SERVICES/PROMOTIONAL ITEMS",
          "TECHNICAL PROCUREMENT/INFRASTRUCTURE & INDUSTRIAL/FACILITY MANAGEMENT SOFTSERVICES FOR INDUSTRIAL LOCATIONS",
          "GENERAL PROCUREMENT/WORKPLACE SERVICES/SECURITY",
          "SUPPLY CHAIN/WAREHOUSING/PICKING",
          "SUPPLY CHAIN/WAREHOUSING/PICKING",
          "SUPPLY CHAIN/WAREHOUSING/PICKING",
          "SUPPLY CHAIN/WAREHOUSING/PICKING",
          "TECHNICAL PROCUREMENT/INFRASTRUCTURE & INDUSTRIAL/INFRASTRUCTURE",
          "GENERAL PROCUREMENT/WORKPLACE SERVICES/SECURITY",
          "TECHNICAL PROCUREMENT/INFRASTRUCTURE & INDUSTRIAL/B&U PROFESSIONAL SERVICES",
          "GENERAL PROCUREMENT/MARKETING SERVICES/PRODUCTION",
          "GENERAL PROCUREMENT/WORKPLACE SERVICES/OFFICE SUPPLIES AND SERVICES",
          "GENERAL PROCUREMENT/WORKPLACE SERVICES/OFFICE SUPPLIES AND SERVICES",
          "GENERAL PROCUREMENT/WORKPLACE SERVICES/OFFICE SUPPLIES AND SERVICES",
          "TECHNICAL PROCUREMENT/PROCESS EQUIPMENT/MOLDING & OVENS",
          "GENERAL PROCUREMENT/MARKETING SERVICES/PRODUCTION",
          "GENERAL PROCUREMENT/MARKETING SERVICES/PRODUCTION",
          "GENERAL PROCUREMENT/MARKETING SERVICES/PRODUCTION",
          "GENERAL PROCUREMENT/MARKETING SERVICES/PRODUCTION",
          "GENERAL PROCUREMENT/MARKETING SERVICES/PRODUCTION",
          "GENERAL PROCUREMENT/PEOPLE SERVICES/TRAINING (LOCAL)",
          "SUPPLY CHAIN/WAREHOUSING/REPACKING",
          "GENERAL PROCUREMENT/MARKETING SERVICES/CONSUMER RESEARCH (AD-HOC)",
          "TECHNICAL PROCUREMENT/AUTOMATION & MRO/TECHNICAL MATERIALS, PPE & CLOTHES",
          "TECHNICAL PROCUREMENT/AUTOMATION & MRO/TECHNICAL MATERIALS, PPE & CLOTHES",
          "GENERAL PROCUREMENT/PROFESSIONAL SERVICES/INSURANCE SERVICES",
          "GENERAL PROCUREMENT/PROFESSIONAL SERVICES/INSURANCE SERVICES",
          "GENERAL PROCUREMENT/WORKPLACE SERVICES/OFFICE SUPPLIES AND SERVICES",
          "GENERAL PROCUREMENT/SALES SERVICES/OTHER SALES SERVICES",
          "GENERAL PROCUREMENT/PEOPLE SERVICES/EMPLOYEE SERVICES",
          "TECHNICAL PROCUREMENT/AUTOMATION & MRO/TECHNICAL MATERIALS, PPE & CLOTHES",
          "TECHNICAL PROCUREMENT/AUTOMATION & MRO/TECHNICAL MATERIALS, PPE & CLOTHES",
          "SUPPLY CHAIN/PRIMARY TRANSPORTS/SEA TRANSPORT",
          "SUPPLY CHAIN/PRIMARY TRANSPORTS/SEA TRANSPORT",
          "SUPPLY CHAIN/PRIMARY TRANSPORTS/SEA TRANSPORT",
          "SUPPLY CHAIN/PRIMARY TRANSPORTS/SEA TRANSPORT",
          "SUPPLY CHAIN/PRIMARY TRANSPORTS/SEA TRANSPORT",
          "SUPPLY CHAIN/PRIMARY TRANSPORTS/SEA TRANSPORT",
          "SUPPLY CHAIN/PRIMARY TRANSPORTS/SEA TRANSPORT",
          "GENERAL PROCUREMENT/WORKPLACE SERVICES/SECURITY",
          "GENERAL PROCUREMENT/IT - INFORMATION TECHNOLOGY/SOFTWARE - SUBSCRIPTIONS/LICENSES",
          "SUPPLY CHAIN/PRIMARY TRANSPORTS/SEA TRANSPORT",
          "GENERAL PROCUREMENT/WORKPLACE SERVICES/MAINTENANCE & IMPROVEMENTS",
          "GENERAL PROCUREMENT/MARKETING SERVICES/DIGITAL & SOCIAL MEDIA MARKETING",
          "SUPPLY CHAIN/PRIMARY TRANSPORTS/ROAD TRANSPORT",
          "GENERAL PROCUREMENT/MARKETING SERVICES/CONSUMER RESEARCH (AD-HOC)",
          "GENERAL PROCUREMENT/MARKETING SERVICES/CONSUMER RESEARCH (AD-HOC)",
          "GENERAL PROCUREMENT/SALES SERVICES/OTHER SALES SERVICES",
          "GENERAL PROCUREMENT/MARKETING SERVICES/RETAIL PANELS",
          "GENERAL PROCUREMENT/MARKETING SERVICES/LICENSING & RIGHTS",
          "GENERAL PROCUREMENT/MARKETING SERVICES/LICENSING & RIGHTS",
          "TECHNICAL PROCUREMENT/AUTOMATION & MRO/TECHNICAL MATERIALS, PPE & CLOTHES",
          "GENERAL PROCUREMENT/WORKPLACE SERVICES/SECURITY",
          "TECHNICAL PROCUREMENT/AUTOMATION & MRO/TECHNICAL MATERIALS, PPE & CLOTHES",
          "SUPPLY CHAIN/PRIMARY TRANSPORTS/ROAD TRANSPORT",
          "SUPPLY CHAIN/PRIMARY TRANSPORTS/ROAD TRANSPORT",
          "SUPPLY CHAIN/PRIMARY TRANSPORTS/ROAD TRANSPORT",
          "SUPPLY CHAIN/PRIMARY TRANSPORTS/ROAD TRANSPORT",
          "SUPPLY CHAIN/PRIMARY TRANSPORTS/ROAD TRANSPORT",
          "SUPPLY CHAIN/PRIMARY TRANSPORTS/ROAD TRANSPORT",
          "SUPPLY CHAIN/PRIMARY TRANSPORTS/ROAD TRANSPORT",
          "SUPPLY CHAIN/PRIMARY TRANSPORTS/ROAD TRANSPORT",
          "SUPPLY CHAIN/PRIMARY TRANSPORTS/ROAD TRANSPORT",
          "SUPPLY CHAIN/PRIMARY TRANSPORTS/ROAD TRANSPORT",
          "GENERAL PROCUREMENT/PROFESSIONAL SERVICES/INSURANCE SERVICES",
          "GENERAL PROCUREMENT/PEOPLE SERVICES/TRAINING (LOCAL)",
          "GENERAL PROCUREMENT/MOBILITY/TRAVEL (LOCAL)",
          "GENERAL PROCUREMENT/SALES SERVICES",
          "TECHNICAL PROCUREMENT/PROCESS EQUIPMENT",
          "TECHNICAL PROCUREMENT/PROCESS EQUIPMENT",
          "GENERAL PROCUREMENT/MARKETING SERVICES",
          "GENERAL PROCUREMENT/SALES SERVICES",
          "GENERAL PROCUREMENT/MARKETING SERVICES",
          "SUPPLY CHAIN/PRIMARY TRANSPORTS",
          "GENERAL PROCUREMENT/WORKPLACE SERVICES",
          "GENERAL PROCUREMENT/WORKPLACE SERVICES",
          "GENERAL PROCUREMENT/PEOPLE SERVICES",
          "GENERAL PROCUREMENT/PEOPLE SERVICES",
          "SUPPLY CHAIN/WAREHOUSING",
          "GENERAL PROCUREMENT/MARKETING SERVICES",
          "SUPPLY CHAIN/PRIMARY TRANSPORTS",
          "SUPPLY CHAIN/PRIMARY TRANSPORTS",
          "TECHNICAL PROCUREMENT/PROCESS EQUIPMENT",
          "GENERAL PROCUREMENT/WORKPLACE SERVICES",
          "SUPPLY CHAIN/WAREHOUSING",
          "GENERAL PROCUREMENT/PEOPLE SERVICES",
          "SUPPLY CHAIN/PALLETTS RENT & LEASE",
          "SUPPLY CHAIN/PALLETTS PURCHASING",
          "GENERAL PROCUREMENT/PROFESSIONAL SERVICES",
          "GENERAL PROCUREMENT/MARKETING SERVICES",
          "GENERAL PROCUREMENT/WORKPLACE SERVICES",
          "GENERAL PROCUREMENT/WORKPLACE SERVICES",
          "TECHNICAL PROCUREMENT/AUTOMATION & MRO",
          "SUPPLY CHAIN/WAREHOUSING",
          "GENERAL PROCUREMENT/MARKETING SERVICES",
          "GENERAL PROCUREMENT/SALES SERVICES",
          "GENERAL PROCUREMENT/WORKPLACE SERVICES",
          "GENERAL PROCUREMENT/SALES SERVICES",
          "TECHNICAL PROCUREMENT/PROCESS EQUIPMENT",
          "GENERAL PROCUREMENT/WORKPLACE SERVICES",
          "GENERAL PROCUREMENT/WORKPLACE SERVICES",
          "GENERAL PROCUREMENT/PROFESSIONAL SERVICES",
          "SUPPLY CHAIN/PRIMARY TRANSPORTS",
          "GENERAL PROCUREMENT/OTHER NON GP",
          "GENERAL PROCUREMENT/SALES SERVICES",
          "GENERAL PROCUREMENT/IT - INFORMATION TECHNOLOGY",
          "TECHNICAL PROCUREMENT/PROCESS EQUIPMENT",
          "GENERAL PROCUREMENT/IT - INFORMATION TECHNOLOGY",
          "GENERAL PROCUREMENT/IT - INFORMATION TECHNOLOGY",
          "GENERAL PROCUREMENT/IT - INFORMATION TECHNOLOGY",
          "GENERAL PROCUREMENT",
          "TECHNICAL PROCUREMENT",
          "GENERAL PROCUREMENT",
          "GENERAL PROCUREMENT",
          "GENERAL PROCUREMENT",
          "GENERAL PROCUREMENT",
          "SUPPLY CHAIN",
          "SUPPLY CHAIN",
          "TECHNICAL PROCUREMENT",
          "GENERAL PROCUREMENT",
          "TECHNICAL PROCUREMENT",
          "GENERAL PROCUREMENT",
          "GENERAL PROCUREMENT",
          "SUPPLY CHAIN",
          "GENERAL PROCUREMENT",
          "SUPPLY CHAIN",
          "GENERAL PROCUREMENT",
          "",
          "SUPPLY CHAIN",
          "GENERAL PROCUREMENT/PROFESSIONAL SERVICES",
          "SUPPLY CHAIN",
          "SUPPLY CHAIN/WAREHOUSING",
          "GENERAL PROCUREMENT/IT - INFORMATION TECHNOLOGY",
          "GENERAL PROCUREMENT/SALES SERVICES",
          "TECHNICAL PROCUREMENT/PROCESS EQUIPMENT",
          "SUPPLY CHAIN/WAREHOUSING",
          "GENERAL PROCUREMENT/PROFESSIONAL SERVICES",
          "GENERAL PROCUREMENT/SURPRISE L2",
          "GENERAL PROCUREMENT/SALES SERVICES",
          "TECHNICAL PROCUREMENT/AUTOMATION & MRO",
          "TECHNICAL PROCUREMENT",
          "GENERAL PROCUREMENT/PEOPLE SERVICES",
          "GENERAL PROCUREMENT/PEOPLE SERVICES",
          "GENERAL PROCUREMENT/PEOPLE SERVICES",
          "GENERAL PROCUREMENT/MOBILITY",
          "GENERAL PROCUREMENT/MOBILITY",
          "GENERAL PROCUREMENT/WORKPLACE SERVICES",
          "GENERAL PROCUREMENT/ENERGY AND UTILITIES FOR OFFICES",
          "TECHNICAL PROCUREMENT/PROCESS EQUIPMENT",
          "SUPPLY CHAIN/WAREHOUSING",
          "GENERAL PROCUREMENT/PEOPLE SERVICES",
          "GENERAL PROCUREMENT/PROFESSIONAL SERVICES",
          "TECHNICAL PROCUREMENT/INFRASTRUCTURE & INDUSTRIAL",
          "GENERAL PROCUREMENT/PROFESSIONAL SERVICES",
          "GENERAL PROCUREMENT/MOBILITY/TRAVEL",
          "GENERAL PROCUREMENT/PROFESSIONAL SERVICES/INSURANCE SERVICES",
          "GENERAL PROCUREMENT/WORKPLACE SERVICES/UTILITIES",
          "GENERAL PROCUREMENT/WORKPLACE SERVICES/UTILITIES",
          "GENERAL PROCUREMENT/WORKPLACE SERVICES/UTILITIES",
          "TECHNICAL PROCUREMENT/AUTOMATION & MRO/TECHNICAL MATERIALS, PPE & CLOTHES",
          "TECHNICAL PROCUREMENT/AUTOMATION & MRO/TECHNICAL MATERIALS, PPE & CLOTHES",
          "GENERAL PROCUREMENT/IT - INFORMATION TECHNOLOGY/SERVICES - MANAGED SERVICE",
          "GENERAL PROCUREMENT/MOBILITY/TRAVEL",
          "GENERAL PROCUREMENT/IT - INFORMATION TECHNOLOGY/SOFTWARE - SUBSCRIPTIONS/LICENSES",
          "GENERAL PROCUREMENT/IT - INFORMATION TECHNOLOGY/SERVICES - T&M/BODY LEASING",
          "SUPPLY CHAIN/WAREHOUSING/WAREHOUSING LOCATION & LEASING",
          "TECHNICAL PROCUREMENT/AUTOMATION & MRO/TECHNICAL MATERIALS, PPE & CLOTHES",
          "SUPPLY CHAIN/WAREHOUSING/WAREHOUSING LOCATION & LEASING",
          "SUPPLY CHAIN/WAREHOUSING/WAREHOUSING LOCATION & LEASING",
          "SUPPLY CHAIN/WAREHOUSING/WASTE MANAGEMENT",
          "TECHNICAL PROCUREMENT/INFRASTRUCTURE & INDUSTRIAL/FACILITY MANAGEMENT SOFTSERVICES FOR INDUSTRIAL LOCATIONS",
          "TECHNICAL PROCUREMENT/INFRASTRUCTURE & INDUSTRIAL/FACILITY MANAGEMENT SOFTSERVICES FOR INDUSTRIAL LOCATIONS",
          "GENERAL PROCUREMENT/IT - INFORMATION TECHNOLOGY/SERVICES - MANAGED SERVICE",
          "GENERAL PROCUREMENT/WORKPLACE SERVICES/MAINTENANCE & IMPROVEMENTS",
          "GENERAL PROCUREMENT/MOBILITY/TRAVEL",
          "SUPPLY CHAIN/PRIMARY TRANSPORTS/EXPORT OTHER COMMODITIES (AUTOMATIC)",
          "GENERAL PROCUREMENT/MOBILITY/TRAVEL (LOCAL)",
          "GENERAL PROCUREMENT/ENERGY AND UTILITIES FOR OFFICES/UTILITIES FOR OFFICES (LOCAL)",
          "GENERAL PROCUREMENT/ENERGY AND UTILITIES FOR OFFICES/UTILITIES FOR OFFICES (LOCAL)",
          "GENERAL PROCUREMENT/WORKPLACE SERVICES/MAINTENANCE & IMPROVEMENTS (LOCAL)",
          "TECHNICAL PROCUREMENT/PROCESS EQUIPMENT/WAREHOUSE & LOGISTIC",
          "GENERAL PROCUREMENT/WORKPLACE SERVICES/MAINTENANCE & IMPROVEMENTS (LOCAL)",
          "GENERAL PROCUREMENT/PROFESSIONAL SERVICES/LEGAL & TAX SERVICES",
          "TECHNICAL PROCUREMENT/INFRASTRUCTURE & INDUSTRIAL/FACILITY MANAGEMENT SOFTSERVICES FOR INDUSTRIAL LOCATIONS",
          "GENERAL PROCUREMENT/MOBILITY/TRAVEL",
          "TECHNICAL PROCUREMENT/INFRASTRUCTURE & INDUSTRIAL/LABORATORY EQUIPMENT AND SERVICES",
          "GENERAL PROCUREMENT/PEOPLE SERVICES/TEMPORARY PERSONNEL",
          "GENERAL PROCUREMENT/SALES SERVICES/MARKETING EVENTS",
          "GENERAL PROCUREMENT/PEOPLE SERVICES/TRAINING",
          "GENERAL PROCUREMENT/PEOPLE SERVICES/EMPLOYEE SERVICES",
          "SUPPLY CHAIN/PRIMARY TRANSPORTS/EXPORT OTHER COMMODITIES (AUTOMATIC)",
          "SUPPLY CHAIN/PRIMARY TRANSPORTS/EXPORT OTHER COMMODITIES (AUTOMATIC)",
          "SUPPLY CHAIN/PRIMARY TRANSPORTS/EXPORT OTHER COMMODITIES (AUTOMATIC)",
          "SUPPLY CHAIN/PRIMARY TRANSPORTS/EXPORT OTHER COMMODITIES (AUTOMATIC)",
          "TECHNICAL PROCUREMENT/INFRASTRUCTURE & INDUSTRIAL/B&U PROFESSIONAL SERVICES",
          "GENERAL PROCUREMENT/PEOPLE SERVICES/EMPLOYEE SERVICES (LOCAL)",
          "TECHNICAL PROCUREMENT/AUTOMATION & MRO/TECHNICAL MATERIALS, PPE & CLOTHES",
          "GENERAL PROCUREMENT/MARKETING SERVICES/DIGITAL & SOCIAL MEDIA MARKETING",
          "GENERAL PROCUREMENT/PEOPLE SERVICES",
          "GENERAL PROCUREMENT/PEOPLE SERVICES",
          "SUPPLY CHAIN/PRIMARY TRANSPORTS",
          "TECHNICAL PROCUREMENT/INFRASTRUCTURE & INDUSTRIAL",
          "TECHNICAL PROCUREMENT/INFRASTRUCTURE & INDUSTRIAL",
          "GENERAL PROCUREMENT/MOBILITY",
          "GENERAL PROCUREMENT/MOBILITY",
          "GENERAL PROCUREMENT/WORKPLACE SERVICES",
          "TECHNICAL PROCUREMENT/ENERGY",
          "GENERAL PROCUREMENT/WORKPLACE SERVICES",
          "SUPPLY CHAIN/WAREHOUSING",
          "GENERAL PROCUREMENT/SALES SERVICES",
          "SUPPLY CHAIN/WAREHOUSING",
          "GENERAL PROCUREMENT/IT - INFORMATION TECHNOLOGY",
          "GENERAL PROCUREMENT/IT - INFORMATION TECHNOLOGY",
          "TECHNICAL PROCUREMENT/AUTOMATION & MRO",
          "TECHNICAL PROCUREMENT/INFRASTRUCTURE & INDUSTRIAL",
          "GENERAL PROCUREMENT/PROFESSIONAL SERVICES",
          "SUPPLY CHAIN/CUSTOM BROKERAGE & FORWARDING AGENCIES",
          "GENERAL PROCUREMENT/PROFESSIONAL SERVICES/LEGAL & TAX SERVICES",
          "TECHNICAL PROCUREMENT/ENERGY",
          "GENERAL PROCUREMENT/PEOPLE SERVICES",
          "TECHNICAL PROCUREMENT/AUTOMATION & MRO/TECHNICAL MATERIALS, PPE & CLOTHES",
          "TECHNICAL PROCUREMENT/AUTOMATION & MRO/TECHNICAL MATERIALS, PPE & CLOTHES",
          "SUPPLY CHAIN/WAREHOUSING",
          "GENERAL PROCUREMENT/PROFESSIONAL SERVICES",
          "SUPPLY CHAIN/PRIMARY TRANSPORTS",
          "TECHNICAL PROCUREMENT/INFRASTRUCTURE & INDUSTRIAL",
          "SUPPLY CHAIN/WAREHOUSING",
          "GENERAL PROCUREMENT/PROFESSIONAL SERVICES",
          "GENERAL PROCUREMENT/PEOPLE SERVICES",
          "GENERAL PROCUREMENT/WORKPLACE SERVICES",
          "GENERAL PROCUREMENT/SALES SERVICES",
          "GENERAL PROCUREMENT/PROFESSIONAL SERVICES",
          "GENERAL PROCUREMENT/MARKETING SERVICES",
          "GENERAL PROCUREMENT/SALES SERVICES",
          "GENERAL PROCUREMENT/MARKETING SERVICES",
          "GENERAL PROCUREMENT/MARKETING SERVICES",
          "GENERAL PROCUREMENT/MARKETING SERVICES",
          "SUPPLY CHAIN/SECONDARY FREIGHT",
          "GENERAL PROCUREMENT/WORKPLACE SERVICES",
          "GENERAL PROCUREMENT/SALES SERVICES/TECHNICAL DEVICES FOR POS",
          "GENERAL PROCUREMENT/WORKPLACE SERVICES/SECURITY",
          "GENERAL PROCUREMENT/OTHER NON GP/OTHER NON GP SERVICES",
          "GENERAL PROCUREMENT/WORKPLACE SERVICES/FOOD SERVICES",
          "TECHNICAL PROCUREMENT/AUTOMATION & MRO/TECHNICAL MATERIALS, PPE & CLOTHES",
          "GENERAL PROCUREMENT/SALES SERVICES/TECHNICAL DEVICES FOR POS",
          "TECHNICAL PROCUREMENT/INFRASTRUCTURE & INDUSTRIAL/FACILITY MANAGEMENT HARDSERVICES FOR INDUSTRIAL LOCATIONS",
          "TECHNICAL PROCUREMENT/INFRASTRUCTURE & INDUSTRIAL/FACILITY MANAGEMENT SOFTSERVICES FOR INDUSTRIAL LOCATIONS",
          "GENERAL PROCUREMENT/WORKPLACE SERVICES/CLEANING",
          "GENERAL PROCUREMENT/PROFESSIONAL SERVICES/INSURANCE SERVICES",
          "GENERAL PROCUREMENT/IT - INFORMATION TECHNOLOGY/SOFTWARE - SUBSCRIPTIONS/LICENSES",
          "GENERAL PROCUREMENT/IT - INFORMATION TECHNOLOGY/SOFTWARE - SUBSCRIPTIONS/LICENSES",
          "GENERAL PROCUREMENT/WORKPLACE SERVICES/REAL ESTATE",
          "TECHNICAL PROCUREMENT/AUTOMATION & MRO/TECHNICAL MATERIALS, PPE & CLOTHES",
          "TECHNICAL PROCUREMENT/AUTOMATION & MRO/TECHNICAL MATERIALS, PPE & CLOTHES",
          "GENERAL PROCUREMENT/SALES SERVICES/COMMERCIAL QUALITY AND FRESHNESS",
          "GENERAL PROCUREMENT/SALES SERVICES/POS MATERIAL",
          "GENERAL PROCUREMENT/MOBILITY/FLEET",
          "GENERAL PROCUREMENT/MOBILITY/FLEET",
          "GENERAL PROCUREMENT/MOBILITY/FLEET",
          "GENERAL PROCUREMENT/PEOPLE SERVICES/EMPLOYEE SERVICES",
          "GENERAL PROCUREMENT/PROFESSIONAL SERVICES/INSURANCE SERVICES",
          "TECHNICAL PROCUREMENT/AUTOMATION & MRO/TECHNICAL MATERIALS, PPE & CLOTHES",
          "SUPPLY CHAIN/CUSTOM BROKERAGE & FORWARDING AGENCIES/FREIGHT FORWARDING AGENCIES",
          "TECHNICAL PROCUREMENT/PROCESS EQUIPMENT/MOLDING & OVENS",
          "TECHNICAL PROCUREMENT/PROCESS EQUIPMENT/MOLDING & OVENS",
          "TECHNICAL PROCUREMENT/PROCESS EQUIPMENT/PRIMARY PACKAGING",
          "TECHNICAL PROCUREMENT/PROCESS EQUIPMENT/STANDALONE EQUIPMENT",
          "TECHNICAL PROCUREMENT/PROCESS EQUIPMENT/WAREHOUSE & LOGISTIC",
          "TECHNICAL PROCUREMENT/PROCESS EQUIPMENT/PRIMARY PACKAGING",
          "TECHNICAL PROCUREMENT/PROCESS EQUIPMENT/STANDALONE EQUIPMENT",
          "TECHNICAL PROCUREMENT/AUTOMATION & MRO/INDUSTRIAL AUTOMATION AND ROBOTICS",
          "GENERAL PROCUREMENT/MOBILITY/FLEET",
          "TECHNICAL PROCUREMENT/AUTOMATION & MRO/INDUSTRIAL AUTOMATION AND ROBOTICS",
          "TECHNICAL PROCUREMENT/AUTOMATION & MRO/INDUSTRIAL AUTOMATION AND ROBOTICS",
          "TECHNICAL PROCUREMENT/INFRASTRUCTURE & INDUSTRIAL/INFRASTRUCTURE",
          "TECHNICAL PROCUREMENT/INFRASTRUCTURE & INDUSTRIAL/INFRASTRUCTURE",
          "TECHNICAL PROCUREMENT/INFRASTRUCTURE & INDUSTRIAL/INFRASTRUCTURE",
          "TECHNICAL PROCUREMENT/INFRASTRUCTURE & INDUSTRIAL/LABORATORY EQUIPMENT AND SERVICES",
          "TECHNICAL PROCUREMENT/INFRASTRUCTURE & INDUSTRIAL/INFRASTRUCTURE",
          "TECHNICAL PROCUREMENT/INFRASTRUCTURE & INDUSTRIAL/INFRASTRUCTURE",
          "TECHNICAL PROCUREMENT/INFRASTRUCTURE & INDUSTRIAL/INFRASTRUCTURE",
          "TECHNICAL PROCUREMENT/AUTOMATION & MRO/TECHNICAL MATERIALS, PPE & CLOTHES",
          "GENERAL PROCUREMENT/MOBILITY/FLEET",
          "GENERAL PROCUREMENT/MOBILITY/FLEET",
          "TECHNICAL PROCUREMENT/AUTOMATION & MRO/TECHNICAL MATERIALS, PPE & CLOTHES",
          "TECHNICAL PROCUREMENT/INFRASTRUCTURE & INDUSTRIAL/B&U PROFESSIONAL SERVICES",
          "SUPPLY CHAIN/PRIMARY TRANSPORTS/ROAD TRANSPORT",
          "GENERAL PROCUREMENT/SALES SERVICES/CONSUMERS PROMOTION ACTIVITIES",
          "SUPPLY CHAIN/SECONDARY FREIGHT/DISTRIBUTION",
          "GENERAL PROCUREMENT/PEOPLE SERVICES/EMPLOYEE SERVICES",
          "GENERAL PROCUREMENT/PEOPLE SERVICES/EMPLOYEE SERVICES",
          "TECHNICAL PROCUREMENT/AUTOMATION & MRO/TECHNICAL MATERIALS, PPE & CLOTHES",
          "GENERAL PROCUREMENT/MARKETING SERVICES/DIGITAL & SOCIAL MEDIA MARKETING",
          "GENERAL PROCUREMENT/SALES SERVICES/CONSUMERS PROMOTION ACTIVITIES",
          "GENERAL PROCUREMENT/MARKETING SERVICES/DIGITAL & SOCIAL MEDIA MARKETING",
          "TECHNICAL PROCUREMENT/AUTOMATION & MRO/TECHNICAL MATERIALS, PPE & CLOTHES",
          "SUPPLY CHAIN/PRIMARY TRANSPORTS/ROAD TRANSPORT",
          "TECHNICAL PROCUREMENT/AUTOMATION & MRO/TECHNICAL MATERIALS, PPE & CLOTHES",
          "TECHNICAL PROCUREMENT/ENERGY/ENERGY FOR INDUSTRIAL PLANT",
          "TECHNICAL PROCUREMENT/INFRASTRUCTURE & INDUSTRIAL/FACILITY MANAGEMENT HARDSERVICES FOR INDUSTRIAL LOCATIONS",
          "TECHNICAL PROCUREMENT/AUTOMATION & MRO/TECHNICAL MATERIALS, PPE & CLOTHES",
          "GENERAL PROCUREMENT/PEOPLE SERVICES/EMPLOYEE SERVICES",
          "GENERAL PROCUREMENT/PEOPLE SERVICES/EMPLOYEE SERVICES",
          "TECHNICAL PROCUREMENT/AUTOMATION & MRO/TECHNICAL MATERIALS, PPE & CLOTHES",
          "TECHNICAL PROCUREMENT/PROCESS EQUIPMENT/PREPARATION",
          "GENERAL PROCUREMENT/SALES SERVICES/CONSUMERS PROMOTION ACTIVITIES",
          "TECHNICAL PROCUREMENT/AUTOMATION & MRO/TECHNICAL MATERIALS, PPE & CLOTHES",
          "TECHNICAL PROCUREMENT/INFRASTRUCTURE & INDUSTRIAL/LABORATORY EQUIPMENT AND SERVICES",
          "GENERAL PROCUREMENT/MARKETING SERVICES/MARKET MEASUREMENT",
          "SUPPLY CHAIN/SECONDARY FREIGHT/DISTRIBUTION",
          "GENERAL PROCUREMENT/IT - INFORMATION TECHNOLOGY/SERVICES - T&M/BODY LEASING",
          "GENERAL PROCUREMENT/PEOPLE SERVICES/EVENTS",
          "TECHNICAL PROCUREMENT/AUTOMATION & MRO/TECHNICAL MATERIALS, PPE & CLOTHES",
          "GENERAL PROCUREMENT/MARKETING SERVICES/CREATIVE DEVELOPMENT & STRATEGY",
          "GENERAL PROCUREMENT/MARKETING SERVICES/CREATIVE DEVELOPMENT & STRATEGY",
          "GENERAL PROCUREMENT/PROFESSIONAL SERVICES/SUBSCRIPTIONS/MEMBERSHIPS",
          "SUPPLY CHAIN/CUSTOM BROKERAGE & FORWARDING AGENCIES/FREIGHT FORWARDING AGENCIES",
          "SUPPLY CHAIN/CUSTOM BROKERAGE & FORWARDING AGENCIES/FREIGHT FORWARDING AGENCIES",
          "SUPPLY CHAIN/CUSTOM BROKERAGE & FORWARDING AGENCIES/FREIGHT FORWARDING AGENCIES",
          "SUPPLY CHAIN/CUSTOM BROKERAGE & FORWARDING AGENCIES/FREIGHT FORWARDING AGENCIES",
          "SUPPLY CHAIN/CUSTOM BROKERAGE & FORWARDING AGENCIES/FREIGHT FORWARDING AGENCIES",
          "TECHNICAL PROCUREMENT/AUTOMATION & MRO/TECHNICAL MATERIALS, PPE & CLOTHES",
          "GENERAL PROCUREMENT/PROFESSIONAL SERVICES/INSURANCE SERVICES",
          "TECHNICAL PROCUREMENT/AUTOMATION & MRO/TECHNICAL MATERIALS, PPE & CLOTHES",
          "GENERAL PROCUREMENT/PROFESSIONAL SERVICES/INSURANCE SERVICES",
          "SUPPLY CHAIN/CUSTOM BROKERAGE & FORWARDING AGENCIES/FREIGHT FORWARDING AGENCIES",
          "TECHNICAL PROCUREMENT/PROCESS EQUIPMENT/SECONDARY PACKAGING",
          "TECHNICAL PROCUREMENT/PROCESS EQUIPMENT/NUTS EQUIPMENT & AGRI MOBILE MACHINE",
          "TECHNICAL PROCUREMENT/PROCESS EQUIPMENT/NUTS EQUIPMENT & AGRI MOBILE MACHINE",
          "TECHNICAL PROCUREMENT/AUTOMATION & MRO/TECHNICAL MATERIALS, PPE & CLOTHES",
          "TECHNICAL PROCUREMENT/AUTOMATION & MRO/TECHNICAL MATERIALS, PPE & CLOTHES",
          "GENERAL PROCUREMENT/WORKPLACE SERVICES/MAINTENANCE & IMPROVEMENTS",
          "TECHNICAL PROCUREMENT/AUTOMATION & MRO/TECHNICAL MATERIALS, PPE & CLOTHES",
          "TECHNICAL PROCUREMENT/AUTOMATION & MRO/TECHNICAL MATERIALS, PPE & CLOTHES",
          "SUPPLY CHAIN/WAREHOUSING/BONUS / MALUS (WAREHOUSING)",
          "SUPPLY CHAIN/PRIMARY TRANSPORTS/ROAD TRANSPORT",
          "GENERAL PROCUREMENT/PROFESSIONAL SERVICES/SUBSCRIPTIONS/MEMBERSHIPS",
          "TECHNICAL PROCUREMENT/AUTOMATION & MRO/TECHNICAL MATERIALS, PPE & CLOTHES",
          "GENERAL PROCUREMENT/MARKETING SERVICES/CREATIVE DEVELOPMENT & STRATEGY",
          "GENERAL PROCUREMENT/SALES SERVICES/MERCHANDISING & HOSTESS & BROKER COMMISSIONS",
          "TECHNICAL PROCUREMENT/AUTOMATION & MRO/TECHNICAL MATERIALS, PPE & CLOTHES",
          "GENERAL PROCUREMENT/WORKPLACE SERVICES/MAINTENANCE & IMPROVEMENTS",
          "TECHNICAL PROCUREMENT/AUTOMATION & MRO/TECHNICAL MATERIALS, PPE & CLOTHES",
          "GENERAL PROCUREMENT/WORKPLACE SERVICES/MAINTENANCE & IMPROVEMENTS",
          "GENERAL PROCUREMENT/WORKPLACE SERVICES/MAINTENANCE & IMPROVEMENTS",
          "GENERAL PROCUREMENT/PROFESSIONAL SERVICES/SUBSCRIPTIONS/MEMBERSHIPS",
          "GENERAL PROCUREMENT/WORKPLACE SERVICES/FOOD SERVICES",
          "GENERAL PROCUREMENT/SALES SERVICES/MARKETING EVENTS",
          "GENERAL PROCUREMENT/WORKPLACE SERVICES/SECURITY",
          "TECHNICAL PROCUREMENT/AUTOMATION & MRO/INDUSTRIAL AUTOMATION AND ROBOTICS",
          "GENERAL PROCUREMENT/WORKPLACE SERVICES/OFFICE SUPPLIES AND SERVICES",
          "GENERAL PROCUREMENT/IT - INFORMATION TECHNOLOGY/SERVICES - MANAGED SERVICE",
          "GENERAL PROCUREMENT/IT - INFORMATION TECHNOLOGY/SERVICES - MANAGED SERVICE",
          "GENERAL PROCUREMENT/IT - INFORMATION TECHNOLOGY/SERVICES - MANAGED SERVICE",
          "GENERAL PROCUREMENT/IT - INFORMATION TECHNOLOGY/SERVICES - MANAGED SERVICE",
          "GENERAL PROCUREMENT/MARKETING SERVICES/RETAIL PANELS",
          "GENERAL PROCUREMENT/MARKETING SERVICES/MARKET MEASUREMENT",
          "GENERAL PROCUREMENT/WORKPLACE SERVICES/REAL ESTATE",
          "SUPPLY CHAIN/WAREHOUSING/ADMINISTRATION COST",
          "TECHNICAL PROCUREMENT/AUTOMATION & MRO/INDUSTRIAL AUTOMATION AND ROBOTICS",
          "SUPPLY CHAIN/PRIMARY TRANSPORTS/AIR FREIGHT TRANSPORT",
          "SUPPLY CHAIN/PRIMARY TRANSPORTS/AIR FREIGHT TRANSPORT",
          "SUPPLY CHAIN/PRIMARY TRANSPORTS/AIR FREIGHT TRANSPORT",
          "SUPPLY CHAIN/PRIMARY TRANSPORTS/AIR FREIGHT TRANSPORT",
          "SUPPLY CHAIN/PRIMARY TRANSPORTS/AIR FREIGHT TRANSPORT",
          "GENERAL PROCUREMENT/IT - INFORMATION TECHNOLOGY/SOFTWARE - SUBSCRIPTIONS/LICENSES",
          "GENERAL PROCUREMENT/IT - INFORMATION TECHNOLOGY/SERVICES - MANAGED SERVICE",
          "GENERAL PROCUREMENT/IT - INFORMATION TECHNOLOGY/SERVICES - T&M/BODY LEASING",
          "GENERAL PROCUREMENT/IT - INFORMATION TECHNOLOGY/SERVICES - T&M/BODY LEASING",
          "SUPPLY CHAIN/PRIMARY TRANSPORTS/AIR FREIGHT TRANSPORT",
          "GENERAL PROCUREMENT/PEOPLE SERVICES/RELOCATION",
          "TECHNICAL PROCUREMENT/INFRASTRUCTURE & INDUSTRIAL/LABORATORY EQUIPMENT AND SERVICES",
          "TECHNICAL PROCUREMENT/PROCESS EQUIPMENT/NUTS EQUIPMENT & AGRI MOBILE MACHINE",
          "TECHNICAL PROCUREMENT/PROCESS EQUIPMENT/PRIMARY PACKAGING",
          "TECHNICAL PROCUREMENT/PROCESS EQUIPMENT/STANDALONE EQUIPMENT",
          "TECHNICAL PROCUREMENT/PROCESS EQUIPMENT/PREPARATION",
          "TECHNICAL PROCUREMENT/PROCESS EQUIPMENT/STANDALONE EQUIPMENT",
          "TECHNICAL PROCUREMENT/PROCESS EQUIPMENT/MOLDING & OVENS",
          "TECHNICAL PROCUREMENT/PROCESS EQUIPMENT/MOLDING & OVENS",
          "TECHNICAL PROCUREMENT/PROCESS EQUIPMENT/MOLDING & OVENS",
          "TECHNICAL PROCUREMENT/PROCESS EQUIPMENT/NUTS EQUIPMENT & AGRI MOBILE MACHINE",
          "TECHNICAL PROCUREMENT/PROCESS EQUIPMENT/MOLDING & OVENS",
          "TECHNICAL PROCUREMENT/PROCESS EQUIPMENT/MOLDING & OVENS",
          "TECHNICAL PROCUREMENT/PROCESS EQUIPMENT/MOLDING & OVENS",
          "TECHNICAL PROCUREMENT/PROCESS EQUIPMENT/PREPARATION",
          "TECHNICAL PROCUREMENT/PROCESS EQUIPMENT/NUTS EQUIPMENT & AGRI MOBILE MACHINE",
          "TECHNICAL PROCUREMENT/PROCESS EQUIPMENT/STANDALONE EQUIPMENT",
          "TECHNICAL PROCUREMENT/PROCESS EQUIPMENT/PREPARATION",
          "TECHNICAL PROCUREMENT/PROCESS EQUIPMENT/PREPARATION",
          "TECHNICAL PROCUREMENT/PROCESS EQUIPMENT/PRIMARY PACKAGING",
          "TECHNICAL PROCUREMENT/AUTOMATION & MRO/MAINTENANCE SERVICES",
          "TECHNICAL PROCUREMENT/PROCESS EQUIPMENT/SECONDARY PACKAGING",
          "TECHNICAL PROCUREMENT/AUTOMATION & MRO/TECHNICAL MATERIALS, PPE & CLOTHES",
          "TECHNICAL PROCUREMENT/PROCESS EQUIPMENT/STANDALONE EQUIPMENT",
          "TECHNICAL PROCUREMENT/PROCESS EQUIPMENT/SECONDARY PACKAGING",
          "TECHNICAL PROCUREMENT/PROCESS EQUIPMENT/WAREHOUSE & LOGISTIC",
          "TECHNICAL PROCUREMENT/AUTOMATION & MRO/INDUSTRIAL AUTOMATION AND ROBOTICS",
          "TECHNICAL PROCUREMENT/PROCESS EQUIPMENT/SECONDARY PACKAGING",
          "TECHNICAL PROCUREMENT/PROCESS EQUIPMENT/MOLDING & OVENS",
          "TECHNICAL PROCUREMENT/PROCESS EQUIPMENT/PREPARATION",
          "TECHNICAL PROCUREMENT/PROCESS EQUIPMENT/SECONDARY PACKAGING",
          "TECHNICAL PROCUREMENT/PROCESS EQUIPMENT/NUTS EQUIPMENT & AGRI MOBILE MACHINE",
          "TECHNICAL PROCUREMENT/PROCESS EQUIPMENT/STANDALONE EQUIPMENT",
          "TECHNICAL PROCUREMENT/PROCESS EQUIPMENT/NUTS EQUIPMENT & AGRI MOBILE MACHINE",
          "TECHNICAL PROCUREMENT/PROCESS EQUIPMENT/PREPARATION",
          "TECHNICAL PROCUREMENT/PROCESS EQUIPMENT/STANDALONE EQUIPMENT",
          "TECHNICAL PROCUREMENT/PROCESS EQUIPMENT/NUTS EQUIPMENT & AGRI MOBILE MACHINE",
          "TECHNICAL PROCUREMENT/PROCESS EQUIPMENT/PRIMARY PACKAGING",
          "TECHNICAL PROCUREMENT/PROCESS EQUIPMENT/PREPARATION",
          "TECHNICAL PROCUREMENT/PROCESS EQUIPMENT/MOLDING & OVENS",
          "TECHNICAL PROCUREMENT/PROCESS EQUIPMENT/PREPARATION",
          "TECHNICAL PROCUREMENT/PROCESS EQUIPMENT/PRIMARY PACKAGING",
          "TECHNICAL PROCUREMENT/PROCESS EQUIPMENT/WAREHOUSE & LOGISTIC",
          "TECHNICAL PROCUREMENT/PROCESS EQUIPMENT/WAREHOUSE & LOGISTIC",
          "GENERAL PROCUREMENT/PROFESSIONAL SERVICES/ADMINISTRATIVE SERVICES",
          "GENERAL PROCUREMENT/IT - INFORMATION TECHNOLOGY/SERVICES - MANAGED SERVICE",
          "GENERAL PROCUREMENT/IT - INFORMATION TECHNOLOGY/SOFTWARE - SUBSCRIPTIONS/LICENSES",
          "GENERAL PROCUREMENT/IT - INFORMATION TECHNOLOGY/SOFTWARE - MAINTENANCE FOR PERPETUAL LICENSES",
          "GENERAL PROCUREMENT/IT - INFORMATION TECHNOLOGY/SOFTWARE - MAINTENANCE FOR PERPETUAL LICENSES",
          "GENERAL PROCUREMENT/IT - INFORMATION TECHNOLOGY/SOFTWARE - MAINTENANCE FOR PERPETUAL LICENSES",
          "GENERAL PROCUREMENT/IT - INFORMATION TECHNOLOGY/SOFTWARE - MAINTENANCE FOR PERPETUAL LICENSES",
          "SUPPLY CHAIN/WAREHOUSING/MAN WORK PER HOUR",
          "GENERAL PROCUREMENT/WORKPLACE SERVICES/SECURITY",
          "TECHNICAL PROCUREMENT/AUTOMATION & MRO/TECHNICAL MATERIALS, PPE & CLOTHES",
          "TECHNICAL PROCUREMENT/INFRASTRUCTURE & INDUSTRIAL/FACILITY MANAGEMENT HARDSERVICES FOR INDUSTRIAL LOCATIONS",
          "TECHNICAL PROCUREMENT/INFRASTRUCTURE & INDUSTRIAL/LABORATORY EQUIPMENT AND SERVICES",
          "GENERAL PROCUREMENT/MARKETING SERVICES/PUBLIC RELATIONS",
          "GENERAL PROCUREMENT/SALES SERVICES/MERCHANDISING & HOSTESS & BROKER COMMISSIONS",
          "GENERAL PROCUREMENT/PROFESSIONAL SERVICES/INSURANCE SERVICES",
          "GENERAL PROCUREMENT/PROFESSIONAL SERVICES/SUBSCRIPTIONS/MEMBERSHIPS",
          "GENERAL PROCUREMENT/PEOPLE SERVICES/EVENTS",
          "TECHNICAL PROCUREMENT/AUTOMATION & MRO/TECHNICAL MATERIALS, PPE & CLOTHES",
          "TECHNICAL PROCUREMENT/AUTOMATION & MRO/TECHNICAL MATERIALS, PPE & CLOTHES",
          "TECHNICAL PROCUREMENT/PROCESS EQUIPMENT/NUTS EQUIPMENT & AGRI MOBILE MACHINE",
          "TECHNICAL PROCUREMENT/AUTOMATION & MRO/MAINTENANCE SERVICES",
          "GENERAL PROCUREMENT/PEOPLE SERVICES/EMPLOYEE SERVICES",
          "TECHNICAL PROCUREMENT/PROCESS EQUIPMENT/WAREHOUSE & LOGISTIC",
          "TECHNICAL PROCUREMENT/AUTOMATION & MRO/MAINTENANCE SERVICES",
          "TECHNICAL PROCUREMENT/AUTOMATION & MRO/TECHNICAL MATERIALS, PPE & CLOTHES",
          "SUPPLY CHAIN/PRIMARY TRANSPORTS/ROAD TRANSPORT",
          "TECHNICAL PROCUREMENT/INFRASTRUCTURE & INDUSTRIAL/FACILITY MANAGEMENT HARDSERVICES FOR INDUSTRIAL LOCATIONS",
          "GENERAL PROCUREMENT/PEOPLE SERVICES/RECRUITMENT SERVICE",
          "TECHNICAL PROCUREMENT/INFRASTRUCTURE & INDUSTRIAL/LABORATORY EQUIPMENT AND SERVICES",
          "TECHNICAL PROCUREMENT/AUTOMATION & MRO/TECHNICAL MATERIALS, PPE & CLOTHES",
          "GENERAL PROCUREMENT/PROFESSIONAL SERVICES/LEGAL & TAX SERVICES",
          "GENERAL PROCUREMENT/PROFESSIONAL SERVICES/LEGAL & TAX SERVICES",
          "TECHNICAL PROCUREMENT/AUTOMATION & MRO/TECHNICAL MATERIALS, PPE & CLOTHES",
          "GENERAL PROCUREMENT/PROFESSIONAL SERVICES/CONSULTANCY SERVICES",
          "GENERAL PROCUREMENT/PROFESSIONAL SERVICES/INSURANCE SERVICES",
          "GENERAL PROCUREMENT/MARKETING SERVICES/LICENSING & RIGHTS",
          "GENERAL PROCUREMENT/MARKETING SERVICES/LICENSING & RIGHTS",
          "GENERAL PROCUREMENT/MARKETING SERVICES/LICENSING & RIGHTS",
          "TECHNICAL PROCUREMENT/AUTOMATION & MRO/TECHNICAL MATERIALS, PPE & CLOTHES",
          "GENERAL PROCUREMENT/WORKPLACE SERVICES/REAL ESTATE",
          "TECHNICAL PROCUREMENT/AUTOMATION & MRO/TECHNICAL MATERIALS, PPE & CLOTHES",
          "GENERAL PROCUREMENT/PEOPLE SERVICES/RELOCATION",
          "GENERAL PROCUREMENT/MOBILITY/TRAVEL",
          "GENERAL PROCUREMENT/MARKETING SERVICES/LICENSING & RIGHTS",
          "SUPPLY CHAIN/PRIMARY TRANSPORTS/ROAD TRANSPORT",
          "TECHNICAL PROCUREMENT/AUTOMATION & MRO/MAINTENANCE SERVICES",
          "TECHNICAL PROCUREMENT/AUTOMATION & MRO/INDUSTRIAL AUTOMATION AND ROBOTICS",
          "GENERAL PROCUREMENT/SALES SERVICES/POS MATERIAL",
          "GENERAL PROCUREMENT/SALES SERVICES/POS MATERIAL",
          "GENERAL PROCUREMENT/MARKETING SERVICES/PUBLIC RELATIONS",
          "GENERAL PROCUREMENT/MARKETING SERVICES/PUBLIC RELATIONS",
          "TECHNICAL PROCUREMENT/AUTOMATION & MRO/TECHNICAL MATERIALS, PPE & CLOTHES",
          "TECHNICAL PROCUREMENT/AUTOMATION & MRO/TECHNICAL MATERIALS, PPE & CLOTHES",
          "TECHNICAL PROCUREMENT/AUTOMATION & MRO/TECHNICAL MATERIALS, PPE & CLOTHES",
          "GENERAL PROCUREMENT/SALES SERVICES/TECHNICAL DEVICES FOR POS",
          "GENERAL PROCUREMENT/SALES SERVICES/POS MATERIAL",
          "GENERAL PROCUREMENT/SALES SERVICES/TECHNICAL DEVICES FOR POS",
          "GENERAL PROCUREMENT/SALES SERVICES/TECHNICAL DEVICES FOR POS",
          "GENERAL PROCUREMENT/SALES SERVICES/POS MATERIAL",
          "GENERAL PROCUREMENT/MARKETING SERVICES/CREATIVE DESIGN",
          "GENERAL PROCUREMENT/MARKETING SERVICES/CREATIVE DESIGN",
          "GENERAL PROCUREMENT/MARKETING SERVICES/CREATIVE DESIGN",
          "TECHNICAL PROCUREMENT/AUTOMATION & MRO/TECHNICAL MATERIALS, PPE & CLOTHES",
          "GENERAL PROCUREMENT/MARKETING SERVICES/MARKET MEASUREMENT",
          "GENERAL PROCUREMENT/PROFESSIONAL SERVICES/LEGAL & TAX SERVICES",
          "GENERAL PROCUREMENT/SALES SERVICES/TECHNICAL DEVICES FOR POS",
          "TECHNICAL PROCUREMENT/AUTOMATION & MRO/MAINTENANCE SERVICES",
          "TECHNICAL PROCUREMENT/AUTOMATION & MRO/TECHNICAL MATERIALS, PPE & CLOTHES",
          "GENERAL PROCUREMENT/SURPRISE L2/SURPRISE L3",
          "SUPPLY CHAIN/PRIMARY TRANSPORTS/OTHER LOGISTICS COSTS",
          "SUPPLY CHAIN/WAREHOUSING/STORAGE",
          "GENERAL PROCUREMENT/SALES SERVICES/CONSUMERS PROMOTION ACTIVITIES",
          "GENERAL PROCUREMENT/WORKPLACE SERVICES/OFFICE SUPPLIES AND SERVICES",
          "GENERAL PROCUREMENT/WORKPLACE SERVICES/MAINTENANCE & IMPROVEMENTS",
          "GENERAL PROCUREMENT/WORKPLACE SERVICES/MAINTENANCE & IMPROVEMENTS",
          "GENERAL PROCUREMENT/WORKPLACE SERVICES/OFFICE SUPPLIES AND SERVICES",
          "GENERAL PROCUREMENT/PROFESSIONAL SERVICES/INSURANCE SERVICES",
          "GENERAL PROCUREMENT/PEOPLE SERVICES/PAYROLL",
          "GENERAL PROCUREMENT/PROFESSIONAL SERVICES/INSURANCE SERVICES",
          "TECHNICAL PROCUREMENT/AUTOMATION & MRO/TECHNICAL MATERIALS, PPE & CLOTHES",
          "TECHNICAL PROCUREMENT/AUTOMATION & MRO/TECHNICAL MATERIALS, PPE & CLOTHES",
          "TECHNICAL PROCUREMENT/AUTOMATION & MRO/TECHNICAL MATERIALS, PPE & CLOTHES",
          "GENERAL PROCUREMENT/PROFESSIONAL SERVICES/ADMINISTRATIVE SERVICES",
          "GENERAL PROCUREMENT/MARKETING SERVICES/CONSUMER RESEARCH (AD-HOC)",
          "GENERAL PROCUREMENT/MARKETING SERVICES/MARKET MEASUREMENT",
          "GENERAL PROCUREMENT/MOBILITY/TRAVEL",
          "GENERAL PROCUREMENT/PROFESSIONAL SERVICES/ADMINISTRATIVE SERVICES",
          "GENERAL PROCUREMENT/WORKPLACE SERVICES/OFFICE SUPPLIES AND SERVICES",
          "",
          "SUPPLY CHAIN/PRIMARY TRANSPORTS/ROAD TRANSPORT",
          "TECHNICAL PROCUREMENT/AUTOMATION & MRO/TECHNICAL MATERIALS, PPE & CLOTHES",
          "SUPPLY CHAIN/PRIMARY TRANSPORTS/ROAD TRANSPORT",
          "TECHNICAL PROCUREMENT/AUTOMATION & MRO/TECHNICAL MATERIALS, PPE & CLOTHES",
          "TECHNICAL PROCUREMENT/AUTOMATION & MRO/TECHNICAL MATERIALS, PPE & CLOTHES",
          "TECHNICAL PROCUREMENT/AUTOMATION & MRO/TECHNICAL MATERIALS, PPE & CLOTHES",
          "GENERAL PROCUREMENT/PROFESSIONAL SERVICES/ADMINISTRATIVE SERVICES",
          "TECHNICAL PROCUREMENT/AUTOMATION & MRO/TECHNICAL MATERIALS, PPE & CLOTHES",
          "SUPPLY CHAIN/WAREHOUSING/HANDLING",
          "GENERAL PROCUREMENT/SALES SERVICES/TECHNICAL DEVICES FOR POS",
          "SUPPLY CHAIN/PRIMARY TRANSPORTS/ROAD TRANSPORT",
          "GENERAL PROCUREMENT/SALES SERVICES/TECHNICAL DEVICES FOR POS",
          "TECHNICAL PROCUREMENT/ENERGY/ENERGY FOR INDUSTRIAL PLANT",
          "TECHNICAL PROCUREMENT/AUTOMATION & MRO/TECHNICAL MATERIALS, PPE & CLOTHES",
          "SUPPLY CHAIN/WAREHOUSING/FUMIGATION",
          "SUPPLY CHAIN/WAREHOUSING/FUMIGATION",
          "GENERAL PROCUREMENT/PROFESSIONAL SERVICES/CONSULTANCY SERVICES",
          "GENERAL PROCUREMENT/SALES SERVICES/GADGETS",
          "GENERAL PROCUREMENT/SALES SERVICES/GADGETS",
          "TECHNICAL PROCUREMENT/AUTOMATION & MRO/TECHNICAL MATERIALS, PPE & CLOTHES",
          "GENERAL PROCUREMENT/SALES SERVICES/TECHNICAL DEVICES FOR POS",
          "TECHNICAL PROCUREMENT/AUTOMATION & MRO/TECHNICAL MATERIALS, PPE & CLOTHES",
          "SUPPLY CHAIN/PRIMARY TRANSPORTS/ROAD TRANSPORT",
          "SUPPLY CHAIN/PRIMARY TRANSPORTS/ROAD TRANSPORT",
          "GENERAL PROCUREMENT/IT - INFORMATION TECHNOLOGY/SERVICES - MANAGED SERVICE",
          "GENERAL PROCUREMENT/IT - INFORMATION TECHNOLOGY/SERVICES - MANAGED SERVICE",
          "GENERAL PROCUREMENT/IT - INFORMATION TECHNOLOGY/SERVICES - T&M/BODY LEASING",
          "TECHNICAL PROCUREMENT/ENERGY/ENERGY CERTIFICATES",
          "GENERAL PROCUREMENT/PEOPLE SERVICES/EVENTS",
          "GENERAL PROCUREMENT/PROFESSIONAL SERVICES/CERTIFICATIONS",
          "GENERAL PROCUREMENT/PROFESSIONAL SERVICES/INSURANCE SERVICES",
          "SUPPLY CHAIN/PALLETTS PURCHASING/PALLETTS PURCHASING MTL",
          "SUPPLY CHAIN/PRIMARY TRANSPORTS/ROAD TRANSPORT",
          "SUPPLY CHAIN/PALLETTS PURCHASING/PALLETTS PURCHASING MTL",
          "SUPPLY CHAIN/PRIMARY TRANSPORTS/ROAD TRANSPORT",
          "SUPPLY CHAIN/PRIMARY TRANSPORTS/ROAD TRANSPORT",
          "SUPPLY CHAIN/PRIMARY TRANSPORTS/ROAD TRANSPORT",
          "SUPPLY CHAIN/PRIMARY TRANSPORTS/ROAD TRANSPORT",
          "SUPPLY CHAIN/PRIMARY TRANSPORTS/ROAD TRANSPORT",
          "SUPPLY CHAIN/PRIMARY TRANSPORTS/ROAD TRANSPORT",
          "SUPPLY CHAIN/PRIMARY TRANSPORTS/ROAD TRANSPORT",
          "SUPPLY CHAIN/PRIMARY TRANSPORTS/ROAD TRANSPORT",
          "GENERAL PROCUREMENT/SALES SERVICES/SPONSORING",
          "GENERAL PROCUREMENT/MARKETING SERVICES/DIGITAL & SOCIAL MEDIA MARKETING",
          "TECHNICAL PROCUREMENT/ENERGY/ENERGY FOR INDUSTRIAL PLANT",
          "TECHNICAL PROCUREMENT/AUTOMATION & MRO/TECHNICAL MATERIALS, PPE & CLOTHES",
          "GENERAL PROCUREMENT/IT - INFORMATION TECHNOLOGY/HARDWARE - PURCHASE/LEASING/MAINTENANCE",
          "TECHNICAL PROCUREMENT/INFRASTRUCTURE & INDUSTRIAL/B&U PROFESSIONAL SERVICES",
          "GENERAL PROCUREMENT/PEOPLE SERVICES/EMPLOYEE SERVICES",
          "TECHNICAL PROCUREMENT/AUTOMATION & MRO/TECHNICAL MATERIALS, PPE & CLOTHES",
          "GENERAL PROCUREMENT/SALES SERVICES/MERCHANDISING & HOSTESS & BROKER COMMISSIONS",
          "GENERAL PROCUREMENT/MOBILITY/TRAVEL",
          "GENERAL PROCUREMENT/IT - INFORMATION TECHNOLOGY/SERVICES - T&M/BODY LEASING",
          "GENERAL PROCUREMENT/PEOPLE SERVICES/EVENTS (LOCAL)",
          "GENERAL PROCUREMENT/IT - INFORMATION TECHNOLOGY/HARDWARE - PURCHASE/LEASING/MAINTENANCE",
          "GENERAL PROCUREMENT/PEOPLE SERVICES/EVENTS (LOCAL)",
          "GENERAL PROCUREMENT/SALES SERVICES/GADGETS",
          "GENERAL PROCUREMENT/SALES SERVICES/GADGETS",
          "GENERAL PROCUREMENT/SALES SERVICES/POS MATERIAL",
          "GENERAL PROCUREMENT/SALES SERVICES/POS MATERIAL",
          "GENERAL PROCUREMENT/SALES SERVICES/POS MATERIAL",
          "GENERAL PROCUREMENT/SALES SERVICES/POS MATERIAL",
          "SUPPLY CHAIN/PALLETTS PURCHASING/PALLETTS PURCHASING MTL",
          "GENERAL PROCUREMENT/WORKPLACE SERVICES/MAINTENANCE & IMPROVEMENTS",
          "GENERAL PROCUREMENT/PEOPLE SERVICES/EVENTS (LOCAL)",
          "TECHNICAL PROCUREMENT/AUTOMATION & MRO/TECHNICAL MATERIALS, PPE & CLOTHES",
          "GENERAL PROCUREMENT/IT - INFORMATION TECHNOLOGY/HARDWARE - SUBSCRIPTIONS INFRA",
          "GENERAL PROCUREMENT/IT - INFORMATION TECHNOLOGY/HARDWARE - PURCHASE/LEASING/MAINTENANCE",
          "TECHNICAL PROCUREMENT/AUTOMATION & MRO/TECHNICAL MATERIALS, PPE & CLOTHES",
          "TECHNICAL PROCUREMENT/AUTOMATION & MRO/TECHNICAL MATERIALS, PPE & CLOTHES",
          "GENERAL PROCUREMENT/WORKPLACE SERVICES/MAINTENANCE & IMPROVEMENTS",
          "TECHNICAL PROCUREMENT/AUTOMATION & MRO/TECHNICAL MATERIALS, PPE & CLOTHES",
          "SUPPLY CHAIN/WAREHOUSING/HANDLING",
          "SUPPLY CHAIN/WAREHOUSING/HANDLING",
          "SUPPLY CHAIN/WAREHOUSING/HANDLING",
          "SUPPLY CHAIN/WAREHOUSING/HANDLING",
          "GENERAL PROCUREMENT/IT - INFORMATION TECHNOLOGY/HARDWARE - PURCHASE/LEASING/MAINTENANCE",
          "GENERAL PROCUREMENT/IT - INFORMATION TECHNOLOGY/HARDWARE - PURCHASE/LEASING/MAINTENANCE",
          "GENERAL PROCUREMENT/IT - INFORMATION TECHNOLOGY/HARDWARE - PURCHASE/LEASING/MAINTENANCE",
          "GENERAL PROCUREMENT/IT - INFORMATION TECHNOLOGY/HARDWARE - PURCHASE/LEASING/MAINTENANCE",
          "GENERAL PROCUREMENT/IT - INFORMATION TECHNOLOGY/HARDWARE - PURCHASE/LEASING/MAINTENANCE",
          "GENERAL PROCUREMENT/IT - INFORMATION TECHNOLOGY/HARDWARE - PURCHASE/LEASING/MAINTENANCE",
          "GENERAL PROCUREMENT/IT - INFORMATION TECHNOLOGY/HARDWARE - PURCHASE/LEASING/MAINTENANCE",
          "GENERAL PROCUREMENT/IT - INFORMATION TECHNOLOGY/HARDWARE - PURCHASE/LEASING/MAINTENANCE",
          "GENERAL PROCUREMENT/IT - INFORMATION TECHNOLOGY/HARDWARE - PURCHASE/LEASING/MAINTENANCE",
          "GENERAL PROCUREMENT/IT - INFORMATION TECHNOLOGY/HARDWARE - PURCHASE/LEASING/MAINTENANCE",
          "GENERAL PROCUREMENT/IT - INFORMATION TECHNOLOGY/HARDWARE - PURCHASE/LEASING/MAINTENANCE",
          ""
         ],
         "type": "sunburst",
         "values": [
          6,
          191,
          15,
          432,
          4,
          11,
          21,
          15,
          30,
          118,
          1,
          1,
          21,
          20,
          163,
          95,
          81,
          74,
          23,
          26,
          116,
          266,
          6,
          41,
          17,
          320,
          1560,
          455,
          767,
          1,
          44,
          19,
          27,
          37,
          38,
          77,
          420,
          121,
          83,
          5,
          332,
          29,
          34,
          7,
          2,
          18,
          5,
          2,
          24,
          22,
          14,
          2,
          38,
          59,
          3,
          2,
          2,
          1,
          6,
          1,
          2,
          74,
          2,
          10,
          16,
          33,
          5,
          1,
          4,
          12,
          34,
          40,
          61,
          14,
          53,
          2,
          6,
          6,
          4,
          6,
          16,
          17,
          71,
          2,
          3,
          9,
          16,
          30,
          177,
          140,
          371,
          133,
          13,
          4,
          324,
          2,
          28,
          199,
          15,
          7,
          284,
          4,
          201,
          14,
          16,
          19,
          91,
          317,
          24,
          744,
          79,
          16,
          8,
          17,
          2,
          203,
          51,
          19,
          6,
          154,
          301,
          466,
          90,
          75,
          718,
          158,
          127,
          221,
          591,
          27,
          4,
          173,
          2774,
          155,
          22,
          138,
          211,
          17,
          47,
          1089,
          24,
          43,
          19,
          184,
          26,
          118,
          569,
          1409,
          120,
          4,
          14,
          54,
          3,
          52,
          212,
          174,
          206,
          303,
          173,
          167,
          240,
          1,
          358,
          737,
          1463,
          1061,
          141,
          778,
          104026,
          19,
          1382,
          9408,
          207,
          107,
          22,
          5,
          18632,
          229,
          95,
          1969,
          744,
          86,
          2,
          403,
          59,
          357,
          171,
          321,
          340,
          130765,
          2382,
          171,
          441,
          230,
          195,
          235,
          93,
          39,
          612,
          1828,
          51,
          9119,
          3,
          610,
          95,
          8,
          1480,
          89,
          7698,
          210,
          8,
          641,
          35,
          223,
          38,
          415,
          1083,
          413,
          128,
          99,
          8102,
          3866,
          6809,
          2603,
          35,
          93,
          235,
          143,
          3803,
          1913,
          2361,
          23905,
          34240,
          387,
          2887,
          12254,
          56122,
          134525,
          467,
          6014,
          13,
          353,
          309,
          230,
          1048,
          404,
          387,
          828,
          57346,
          66946,
          383,
          120,
          49,
          791,
          7,
          158,
          99,
          684,
          89,
          3,
          3,
          3745,
          3,
          326,
          1,
          100,
          19,
          39,
          1529,
          47,
          244,
          273,
          2,
          16,
          56,
          2899,
          27,
          6,
          13,
          82,
          11,
          27,
          325,
          77,
          19,
          2,
          16,
          31,
          2,
          18,
          3,
          7,
          1588,
          10,
          291,
          383,
          30,
          120,
          84,
          314,
          1,
          2,
          295,
          113,
          13,
          49,
          284,
          635,
          13,
          631,
          941,
          2266,
          1685,
          120,
          789,
          140,
          258,
          8,
          276,
          943,
          1830,
          21,
          481,
          722,
          563,
          6014,
          2,
          3,
          1655,
          163,
          613,
          231,
          470,
          104,
          428,
          1,
          83,
          222,
          172,
          130,
          321,
          663,
          1188,
          419,
          1173,
          937,
          34240,
          179,
          187,
          29,
          35,
          91,
          553,
          173,
          428,
          506,
          172,
          35,
          26,
          109,
          2,
          1418,
          924,
          130,
          960,
          322,
          638,
          677,
          2,
          14,
          42,
          332,
          26,
          13,
          6,
          29,
          30,
          36,
          19,
          137,
          32,
          20,
          2,
          356,
          60,
          8,
          304,
          80,
          117,
          3,
          211,
          6,
          10,
          68,
          204,
          182,
          368,
          34208,
          5,
          152,
          206,
          275,
          617,
          18,
          4116,
          1354,
          252,
          60,
          158,
          317,
          274,
          315,
          938,
          43,
          54,
          56,
          1159,
          135,
          32,
          15,
          416,
          243,
          355,
          758,
          3,
          3074,
          264,
          320,
          117,
          1380,
          593,
          21,
          973,
          6,
          527,
          1,
          11,
          6,
          2738,
          72,
          632,
          164,
          1426,
          1,
          63,
          254,
          326,
          60,
          17,
          67,
          17,
          188,
          122,
          54,
          130,
          580,
          65,
          3,
          87,
          50,
          262,
          16,
          15,
          3,
          22,
          169,
          86,
          231,
          145,
          19,
          12,
          15,
          21,
          27,
          16,
          355,
          142,
          129,
          10,
          128,
          467,
          18,
          13,
          25,
          28,
          9,
          22,
          131,
          48,
          10,
          18,
          9,
          15,
          18,
          7,
          75,
          70,
          15,
          8,
          50,
          17,
          79,
          13,
          114,
          16,
          29,
          23,
          35,
          42,
          16,
          2,
          16,
          1,
          5,
          44,
          4,
          7,
          3,
          23,
          5,
          25,
          9,
          14,
          41,
          19,
          14,
          30,
          8,
          24,
          66,
          3,
          253,
          653,
          336,
          465,
          6,
          235,
          76,
          17,
          10,
          2528,
          27,
          30,
          42,
          319,
          597,
          66,
          514,
          7,
          19,
          33,
          1059,
          8,
          432,
          14,
          48,
          6,
          22,
          181,
          64,
          1,
          367,
          3,
          164,
          43,
          32,
          26,
          1,
          8929,
          61,
          4,
          12574,
          19,
          61,
          485,
          105,
          635,
          15,
          2035,
          146,
          6,
          1501,
          110,
          206,
          52,
          52,
          29,
          12,
          63,
          13,
          913,
          387,
          637,
          1,
          149,
          827,
          188,
          205,
          4458,
          59,
          195,
          35,
          7071,
          330,
          5173,
          44,
          104,
          73,
          26,
          305,
          1295,
          177994,
          152,
          8,
          14,
          678,
          71,
          1282,
          74,
          525,
          25,
          98,
          97,
          23,
          6,
          153,
          1,
          7,
          199,
          35,
          3,
          198,
          76,
          140,
          160,
          13,
          42,
          70,
          54,
          3,
          32,
          26,
          3,
          36,
          3,
          3,
          853,
          4016,
          104,
          336,
          894,
          563,
          2604,
          74,
          309,
          37,
          54,
          274,
          27,
          88,
          173,
          134,
          1228,
          47,
          32,
          4,
          38,
          8,
          40,
          188,
          206,
          833,
          301,
          218,
          48,
          160,
          1,
          1723,
          21,
          28,
          1175,
          259,
          71,
          1686,
          115,
          191,
          65,
          547,
          11,
          183,
          11,
          53,
          288,
          183,
          104,
          340,
          299,
          186,
          79,
          77104
         ]
        },
        {
         "branchvalues": "total",
         "customdata": [
          [
           "SUPPLY CHAIN"
          ],
          [
           "GENERAL PROCUREMENT"
          ],
          [
           "TECHNICAL PROCUREMENT"
          ],
          [
           "GENERAL PROCUREMENT"
          ],
          [
           "GENERAL PROCUREMENT"
          ],
          [
           "GENERAL PROCUREMENT"
          ],
          [
           "TECHNICAL PROCUREMENT"
          ],
          [
           "GENERAL PROCUREMENT"
          ],
          [
           "SUPPLY CHAIN"
          ],
          [
           "GENERAL PROCUREMENT"
          ],
          [
           "TECHNICAL PROCUREMENT"
          ],
          [
           "GENERAL PROCUREMENT"
          ],
          [
           "GENERAL PROCUREMENT"
          ],
          [
           "GENERAL PROCUREMENT"
          ],
          [
           "TECHNICAL PROCUREMENT"
          ],
          [
           "TECHNICAL PROCUREMENT"
          ],
          [
           "TECHNICAL PROCUREMENT"
          ],
          [
           "GENERAL PROCUREMENT"
          ],
          [
           "GENERAL PROCUREMENT"
          ],
          [
           "GENERAL PROCUREMENT"
          ],
          [
           "GENERAL PROCUREMENT"
          ],
          [
           "GENERAL PROCUREMENT"
          ],
          [
           "TECHNICAL PROCUREMENT"
          ],
          [
           "TECHNICAL PROCUREMENT"
          ],
          [
           "GENERAL PROCUREMENT"
          ],
          [
           "SUPPLY CHAIN"
          ],
          [
           "GENERAL PROCUREMENT"
          ],
          [
           "GENERAL PROCUREMENT"
          ],
          [
           "TECHNICAL PROCUREMENT"
          ],
          [
           "TECHNICAL PROCUREMENT"
          ],
          [
           "GENERAL PROCUREMENT"
          ],
          [
           "TECHNICAL PROCUREMENT"
          ],
          [
           "SUPPLY CHAIN"
          ],
          [
           "TECHNICAL PROCUREMENT"
          ],
          [
           "GENERAL PROCUREMENT"
          ],
          [
           "GENERAL PROCUREMENT"
          ],
          [
           "GENERAL PROCUREMENT"
          ],
          [
           "GENERAL PROCUREMENT"
          ],
          [
           "GENERAL PROCUREMENT"
          ],
          [
           "TECHNICAL PROCUREMENT"
          ],
          [
           "SUPPLY CHAIN"
          ],
          [
           "SUPPLY CHAIN"
          ],
          [
           "GENERAL PROCUREMENT"
          ],
          [
           "GENERAL PROCUREMENT"
          ],
          [
           "GENERAL PROCUREMENT"
          ],
          [
           "GENERAL PROCUREMENT"
          ],
          [
           "GENERAL PROCUREMENT"
          ],
          [
           "GENERAL PROCUREMENT"
          ],
          [
           "GENERAL PROCUREMENT"
          ],
          [
           "GENERAL PROCUREMENT"
          ],
          [
           "GENERAL PROCUREMENT"
          ],
          [
           "GENERAL PROCUREMENT"
          ],
          [
           "TECHNICAL PROCUREMENT"
          ],
          [
           "GENERAL PROCUREMENT"
          ],
          [
           "GENERAL PROCUREMENT"
          ],
          [
           "TECHNICAL PROCUREMENT"
          ],
          [
           "GENERAL PROCUREMENT"
          ],
          [
           "GENERAL PROCUREMENT"
          ],
          [
           "GENERAL PROCUREMENT"
          ],
          [
           "GENERAL PROCUREMENT"
          ],
          [
           "GENERAL PROCUREMENT"
          ],
          [
           "GENERAL PROCUREMENT"
          ],
          [
           "GENERAL PROCUREMENT"
          ],
          [
           "GENERAL PROCUREMENT"
          ],
          [
           "TECHNICAL PROCUREMENT"
          ],
          [
           "GENERAL PROCUREMENT"
          ],
          [
           "TECHNICAL PROCUREMENT"
          ],
          [
           "GENERAL PROCUREMENT"
          ],
          [
           "GENERAL PROCUREMENT"
          ],
          [
           "GENERAL PROCUREMENT"
          ],
          [
           "TECHNICAL PROCUREMENT"
          ],
          [
           "GENERAL PROCUREMENT"
          ],
          [
           "TECHNICAL PROCUREMENT"
          ],
          [
           "GENERAL PROCUREMENT"
          ],
          [
           "GENERAL PROCUREMENT"
          ],
          [
           "SUPPLY CHAIN"
          ],
          [
           "GENERAL PROCUREMENT"
          ],
          [
           "GENERAL PROCUREMENT"
          ],
          [
           "GENERAL PROCUREMENT"
          ],
          [
           "GENERAL PROCUREMENT"
          ],
          [
           "TECHNICAL PROCUREMENT"
          ],
          [
           "TECHNICAL PROCUREMENT"
          ],
          [
           "TECHNICAL PROCUREMENT"
          ],
          [
           "TECHNICAL PROCUREMENT"
          ],
          [
           "TECHNICAL PROCUREMENT"
          ],
          [
           "TECHNICAL PROCUREMENT"
          ],
          [
           "GENERAL PROCUREMENT"
          ],
          [
           "GENERAL PROCUREMENT"
          ],
          [
           "GENERAL PROCUREMENT"
          ],
          [
           "GENERAL PROCUREMENT"
          ],
          [
           "GENERAL PROCUREMENT"
          ],
          [
           "TECHNICAL PROCUREMENT"
          ],
          [
           "GENERAL PROCUREMENT"
          ],
          [
           "GENERAL PROCUREMENT"
          ],
          [
           "GENERAL PROCUREMENT"
          ],
          [
           "GENERAL PROCUREMENT"
          ],
          [
           "TECHNICAL PROCUREMENT"
          ],
          [
           "TECHNICAL PROCUREMENT"
          ],
          [
           "GENERAL PROCUREMENT"
          ],
          [
           "GENERAL PROCUREMENT"
          ],
          [
           "TECHNICAL PROCUREMENT"
          ],
          [
           "TECHNICAL PROCUREMENT"
          ],
          [
           "SUPPLY CHAIN"
          ],
          [
           "GENERAL PROCUREMENT"
          ],
          [
           "SUPPLY CHAIN"
          ],
          [
           "SUPPLY CHAIN"
          ],
          [
           "GENERAL PROCUREMENT"
          ],
          [
           "GENERAL PROCUREMENT"
          ],
          [
           "GENERAL PROCUREMENT"
          ],
          [
           "GENERAL PROCUREMENT"
          ],
          [
           "GENERAL PROCUREMENT"
          ],
          [
           "GENERAL PROCUREMENT"
          ],
          [
           "TECHNICAL PROCUREMENT"
          ],
          [
           "GENERAL PROCUREMENT"
          ],
          [
           "TECHNICAL PROCUREMENT"
          ],
          [
           "TECHNICAL PROCUREMENT"
          ],
          [
           "GENERAL PROCUREMENT"
          ],
          [
           "SUPPLY CHAIN"
          ],
          [
           "TECHNICAL PROCUREMENT"
          ],
          [
           "GENERAL PROCUREMENT"
          ],
          [
           "SUPPLY CHAIN"
          ],
          [
           "SUPPLY CHAIN"
          ],
          [
           "GENERAL PROCUREMENT"
          ],
          [
           "GENERAL PROCUREMENT"
          ],
          [
           "SUPPLY CHAIN"
          ],
          [
           "GENERAL PROCUREMENT"
          ],
          [
           "SUPPLY CHAIN"
          ],
          [
           "SUPPLY CHAIN"
          ],
          [
           "GENERAL PROCUREMENT"
          ],
          [
           "GENERAL PROCUREMENT"
          ],
          [
           "GENERAL PROCUREMENT"
          ],
          [
           "TECHNICAL PROCUREMENT"
          ],
          [
           "GENERAL PROCUREMENT"
          ],
          [
           "TECHNICAL PROCUREMENT"
          ],
          [
           "TECHNICAL PROCUREMENT"
          ],
          [
           "SUPPLY CHAIN"
          ],
          [
           "GENERAL PROCUREMENT"
          ],
          [
           "GENERAL PROCUREMENT"
          ],
          [
           "GENERAL PROCUREMENT"
          ],
          [
           "GENERAL PROCUREMENT"
          ],
          [
           "GENERAL PROCUREMENT"
          ],
          [
           "GENERAL PROCUREMENT"
          ],
          [
           "GENERAL PROCUREMENT"
          ],
          [
           "TECHNICAL PROCUREMENT"
          ],
          [
           "GENERAL PROCUREMENT"
          ],
          [
           "TECHNICAL PROCUREMENT"
          ],
          [
           "SUPPLY CHAIN"
          ],
          [
           "GENERAL PROCUREMENT"
          ],
          [
           "GENERAL PROCUREMENT"
          ],
          [
           "GENERAL PROCUREMENT"
          ],
          [
           "GENERAL PROCUREMENT"
          ],
          [
           "GENERAL PROCUREMENT"
          ],
          [
           "GENERAL PROCUREMENT"
          ],
          [
           "GENERAL PROCUREMENT"
          ],
          [
           "GENERAL PROCUREMENT"
          ],
          [
           "GENERAL PROCUREMENT"
          ],
          [
           "GENERAL PROCUREMENT"
          ],
          [
           "GENERAL PROCUREMENT"
          ],
          [
           "GENERAL PROCUREMENT"
          ],
          [
           "GENERAL PROCUREMENT"
          ],
          [
           "GENERAL PROCUREMENT"
          ],
          [
           "GENERAL PROCUREMENT"
          ],
          [
           "GENERAL PROCUREMENT"
          ],
          [
           "SUPPLY CHAIN"
          ],
          [
           "SUPPLY CHAIN"
          ],
          [
           "SUPPLY CHAIN"
          ],
          [
           "TECHNICAL PROCUREMENT"
          ],
          [
           "GENERAL PROCUREMENT"
          ],
          [
           "TECHNICAL PROCUREMENT"
          ],
          [
           "GENERAL PROCUREMENT"
          ],
          [
           "GENERAL PROCUREMENT"
          ],
          [
           "GENERAL PROCUREMENT"
          ],
          [
           "GENERAL PROCUREMENT"
          ],
          [
           "GENERAL PROCUREMENT"
          ],
          [
           "GENERAL PROCUREMENT"
          ],
          [
           "GENERAL PROCUREMENT"
          ],
          [
           "TECHNICAL PROCUREMENT"
          ],
          [
           "GENERAL PROCUREMENT"
          ],
          [
           "TECHNICAL PROCUREMENT"
          ],
          [
           "GENERAL PROCUREMENT"
          ],
          [
           "TECHNICAL PROCUREMENT"
          ],
          [
           "TECHNICAL PROCUREMENT"
          ],
          [
           "GENERAL PROCUREMENT"
          ],
          [
           "TECHNICAL PROCUREMENT"
          ],
          [
           "TECHNICAL PROCUREMENT"
          ],
          [
           "GENERAL PROCUREMENT"
          ],
          [
           "GENERAL PROCUREMENT"
          ],
          [
           "GENERAL PROCUREMENT"
          ],
          [
           "GENERAL PROCUREMENT"
          ],
          [
           "GENERAL PROCUREMENT"
          ],
          [
           "GENERAL PROCUREMENT"
          ],
          [
           "GENERAL PROCUREMENT"
          ],
          [
           "GENERAL PROCUREMENT"
          ],
          [
           "GENERAL PROCUREMENT"
          ],
          [
           "TECHNICAL PROCUREMENT"
          ],
          [
           "GENERAL PROCUREMENT"
          ],
          [
           "TECHNICAL PROCUREMENT"
          ],
          [
           "SUPPLY CHAIN"
          ],
          [
           "TECHNICAL PROCUREMENT"
          ],
          [
           "TECHNICAL PROCUREMENT"
          ],
          [
           "TECHNICAL PROCUREMENT"
          ],
          [
           "TECHNICAL PROCUREMENT"
          ],
          [
           "TECHNICAL PROCUREMENT"
          ],
          [
           "GENERAL PROCUREMENT"
          ],
          [
           "TECHNICAL PROCUREMENT"
          ],
          [
           "TECHNICAL PROCUREMENT"
          ],
          [
           "TECHNICAL PROCUREMENT"
          ],
          [
           "TECHNICAL PROCUREMENT"
          ],
          [
           "TECHNICAL PROCUREMENT"
          ],
          [
           "TECHNICAL PROCUREMENT"
          ],
          [
           "TECHNICAL PROCUREMENT"
          ],
          [
           "TECHNICAL PROCUREMENT"
          ],
          [
           "TECHNICAL PROCUREMENT"
          ],
          [
           "TECHNICAL PROCUREMENT"
          ],
          [
           "TECHNICAL PROCUREMENT"
          ],
          [
           "TECHNICAL PROCUREMENT"
          ],
          [
           "SUPPLY CHAIN"
          ],
          [
           "GENERAL PROCUREMENT"
          ],
          [
           "TECHNICAL PROCUREMENT"
          ],
          [
           "GENERAL PROCUREMENT"
          ],
          [
           "GENERAL PROCUREMENT"
          ],
          [
           "TECHNICAL PROCUREMENT"
          ],
          [
           "SUPPLY CHAIN"
          ],
          [
           "TECHNICAL PROCUREMENT"
          ],
          [
           "SUPPLY CHAIN"
          ],
          [
           "GENERAL PROCUREMENT"
          ],
          [
           "GENERAL PROCUREMENT"
          ],
          [
           "SUPPLY CHAIN"
          ],
          [
           "TECHNICAL PROCUREMENT"
          ],
          [
           "GENERAL PROCUREMENT"
          ],
          [
           "GENERAL PROCUREMENT"
          ],
          [
           "GENERAL PROCUREMENT"
          ],
          [
           "SUPPLY CHAIN"
          ],
          [
           "TECHNICAL PROCUREMENT"
          ],
          [
           "TECHNICAL PROCUREMENT"
          ],
          [
           "TECHNICAL PROCUREMENT"
          ],
          [
           "GENERAL PROCUREMENT"
          ],
          [
           "TECHNICAL PROCUREMENT"
          ],
          [
           "GENERAL PROCUREMENT"
          ],
          [
           "GENERAL PROCUREMENT"
          ],
          [
           "GENERAL PROCUREMENT"
          ],
          [
           "GENERAL PROCUREMENT"
          ],
          [
           "TECHNICAL PROCUREMENT"
          ],
          [
           "GENERAL PROCUREMENT"
          ],
          [
           "TECHNICAL PROCUREMENT"
          ],
          [
           "GENERAL PROCUREMENT"
          ],
          [
           "GENERAL PROCUREMENT"
          ],
          [
           "GENERAL PROCUREMENT"
          ],
          [
           "GENERAL PROCUREMENT"
          ],
          [
           "GENERAL PROCUREMENT"
          ],
          [
           "GENERAL PROCUREMENT"
          ],
          [
           "GENERAL PROCUREMENT"
          ],
          [
           "TECHNICAL PROCUREMENT"
          ],
          [
           "TECHNICAL PROCUREMENT"
          ],
          [
           "GENERAL PROCUREMENT"
          ],
          [
           "TECHNICAL PROCUREMENT"
          ],
          [
           "TECHNICAL PROCUREMENT"
          ],
          [
           "TECHNICAL PROCUREMENT"
          ],
          [
           "TECHNICAL PROCUREMENT"
          ],
          [
           "TECHNICAL PROCUREMENT"
          ],
          [
           "TECHNICAL PROCUREMENT"
          ],
          [
           "TECHNICAL PROCUREMENT"
          ],
          [
           "TECHNICAL PROCUREMENT"
          ],
          [
           "GENERAL PROCUREMENT"
          ],
          [
           "TECHNICAL PROCUREMENT"
          ],
          [
           "TECHNICAL PROCUREMENT"
          ],
          [
           "TECHNICAL PROCUREMENT"
          ],
          [
           "TECHNICAL PROCUREMENT"
          ],
          [
           "TECHNICAL PROCUREMENT"
          ],
          [
           "TECHNICAL PROCUREMENT"
          ],
          [
           "TECHNICAL PROCUREMENT"
          ],
          [
           "TECHNICAL PROCUREMENT"
          ],
          [
           "TECHNICAL PROCUREMENT"
          ],
          [
           "GENERAL PROCUREMENT"
          ],
          [
           "TECHNICAL PROCUREMENT"
          ],
          [
           "GENERAL PROCUREMENT"
          ],
          [
           "GENERAL PROCUREMENT"
          ],
          [
           "SUPPLY CHAIN"
          ],
          [
           "GENERAL PROCUREMENT"
          ],
          [
           "TECHNICAL PROCUREMENT"
          ],
          [
           "SUPPLY CHAIN"
          ],
          [
           "TECHNICAL PROCUREMENT"
          ],
          [
           "TECHNICAL PROCUREMENT"
          ],
          [
           "GENERAL PROCUREMENT"
          ],
          [
           "TECHNICAL PROCUREMENT"
          ],
          [
           "GENERAL PROCUREMENT"
          ],
          [
           "GENERAL PROCUREMENT"
          ],
          [
           "GENERAL PROCUREMENT"
          ],
          [
           "TECHNICAL PROCUREMENT"
          ],
          [
           "TECHNICAL PROCUREMENT"
          ],
          [
           "SUPPLY CHAIN"
          ],
          [
           "TECHNICAL PROCUREMENT"
          ],
          [
           "GENERAL PROCUREMENT"
          ],
          [
           "GENERAL PROCUREMENT"
          ],
          [
           "TECHNICAL PROCUREMENT"
          ],
          [
           "TECHNICAL PROCUREMENT"
          ],
          [
           "SUPPLY CHAIN"
          ],
          [
           "TECHNICAL PROCUREMENT"
          ],
          [
           "TECHNICAL PROCUREMENT"
          ],
          [
           "GENERAL PROCUREMENT"
          ],
          [
           "TECHNICAL PROCUREMENT"
          ],
          [
           "GENERAL PROCUREMENT"
          ],
          [
           "GENERAL PROCUREMENT"
          ],
          [
           "TECHNICAL PROCUREMENT"
          ],
          [
           "GENERAL PROCUREMENT"
          ],
          [
           "TECHNICAL PROCUREMENT"
          ],
          [
           "GENERAL PROCUREMENT"
          ],
          [
           "SUPPLY CHAIN"
          ],
          [
           "GENERAL PROCUREMENT"
          ],
          [
           "TECHNICAL PROCUREMENT"
          ],
          [
           "TECHNICAL PROCUREMENT"
          ],
          [
           "GENERAL PROCUREMENT"
          ],
          [
           "TECHNICAL PROCUREMENT"
          ],
          [
           "GENERAL PROCUREMENT"
          ],
          [
           "GENERAL PROCUREMENT"
          ],
          [
           "GENERAL PROCUREMENT"
          ],
          [
           "TECHNICAL PROCUREMENT"
          ],
          [
           "GENERAL PROCUREMENT"
          ],
          [
           "TECHNICAL PROCUREMENT"
          ],
          [
           "TECHNICAL PROCUREMENT"
          ],
          [
           "GENERAL PROCUREMENT"
          ],
          [
           "SUPPLY CHAIN"
          ],
          [
           "GENERAL PROCUREMENT"
          ],
          [
           "TECHNICAL PROCUREMENT"
          ],
          [
           "GENERAL PROCUREMENT"
          ],
          [
           "TECHNICAL PROCUREMENT"
          ],
          [
           "SUPPLY CHAIN"
          ],
          [
           "GENERAL PROCUREMENT"
          ],
          [
           "TECHNICAL PROCUREMENT"
          ],
          [
           "GENERAL PROCUREMENT"
          ],
          [
           "TECHNICAL PROCUREMENT"
          ],
          [
           "TECHNICAL PROCUREMENT"
          ],
          [
           "TECHNICAL PROCUREMENT"
          ],
          [
           "GENERAL PROCUREMENT"
          ],
          [
           "GENERAL PROCUREMENT"
          ],
          [
           "TECHNICAL PROCUREMENT"
          ],
          [
           "TECHNICAL PROCUREMENT"
          ],
          [
           "GENERAL PROCUREMENT"
          ],
          [
           "GENERAL PROCUREMENT"
          ],
          [
           "GENERAL PROCUREMENT"
          ],
          [
           "TECHNICAL PROCUREMENT"
          ],
          [
           "GENERAL PROCUREMENT"
          ],
          [
           "TECHNICAL PROCUREMENT"
          ],
          [
           "GENERAL PROCUREMENT"
          ],
          [
           "TECHNICAL PROCUREMENT"
          ],
          [
           "GENERAL PROCUREMENT"
          ],
          [
           "GENERAL PROCUREMENT"
          ],
          [
           "TECHNICAL PROCUREMENT"
          ],
          [
           "TECHNICAL PROCUREMENT"
          ],
          [
           "GENERAL PROCUREMENT"
          ],
          [
           "TECHNICAL PROCUREMENT"
          ],
          [
           "GENERAL PROCUREMENT"
          ],
          [
           "TECHNICAL PROCUREMENT"
          ],
          [
           "GENERAL PROCUREMENT"
          ],
          [
           "GENERAL PROCUREMENT"
          ],
          [
           "GENERAL PROCUREMENT"
          ],
          [
           "GENERAL PROCUREMENT"
          ],
          [
           "TECHNICAL PROCUREMENT"
          ],
          [
           "TECHNICAL PROCUREMENT"
          ],
          [
           "TECHNICAL PROCUREMENT"
          ],
          [
           "TECHNICAL PROCUREMENT"
          ],
          [
           "SUPPLY CHAIN"
          ],
          [
           "TECHNICAL PROCUREMENT"
          ],
          [
           "SUPPLY CHAIN"
          ],
          [
           "SUPPLY CHAIN"
          ],
          [
           "GENERAL PROCUREMENT"
          ],
          [
           "GENERAL PROCUREMENT"
          ],
          [
           "GENERAL PROCUREMENT"
          ],
          [
           "GENERAL PROCUREMENT"
          ],
          [
           "GENERAL PROCUREMENT"
          ],
          [
           "SUPPLY CHAIN"
          ],
          [
           "TECHNICAL PROCUREMENT"
          ],
          [
           "GENERAL PROCUREMENT"
          ],
          [
           "GENERAL PROCUREMENT"
          ],
          [
           "GENERAL PROCUREMENT"
          ],
          [
           "SUPPLY CHAIN"
          ],
          [
           "GENERAL PROCUREMENT"
          ],
          [
           "GENERAL PROCUREMENT"
          ],
          [
           "TECHNICAL PROCUREMENT"
          ],
          [
           "GENERAL PROCUREMENT"
          ],
          [
           "GENERAL PROCUREMENT"
          ],
          [
           "GENERAL PROCUREMENT"
          ],
          [
           "GENERAL PROCUREMENT"
          ],
          [
           "TECHNICAL PROCUREMENT"
          ],
          [
           "TECHNICAL PROCUREMENT"
          ],
          [
           "TECHNICAL PROCUREMENT"
          ],
          [
           "SUPPLY CHAIN"
          ],
          [
           "TECHNICAL PROCUREMENT"
          ],
          [
           "TECHNICAL PROCUREMENT"
          ],
          [
           "GENERAL PROCUREMENT"
          ],
          [
           "GENERAL PROCUREMENT"
          ],
          [
           "TECHNICAL PROCUREMENT"
          ],
          [
           "GENERAL PROCUREMENT"
          ],
          [
           "GENERAL PROCUREMENT"
          ],
          [
           "TECHNICAL PROCUREMENT"
          ],
          [
           "GENERAL PROCUREMENT"
          ],
          [
           "GENERAL PROCUREMENT"
          ],
          [
           "GENERAL PROCUREMENT"
          ],
          [
           "TECHNICAL PROCUREMENT"
          ],
          [
           "GENERAL PROCUREMENT"
          ],
          [
           "TECHNICAL PROCUREMENT"
          ],
          [
           "GENERAL PROCUREMENT"
          ],
          [
           "GENERAL PROCUREMENT"
          ],
          [
           "TECHNICAL PROCUREMENT"
          ],
          [
           "GENERAL PROCUREMENT"
          ],
          [
           "GENERAL PROCUREMENT"
          ],
          [
           "TECHNICAL PROCUREMENT"
          ],
          [
           "SUPPLY CHAIN"
          ],
          [
           "GENERAL PROCUREMENT"
          ],
          [
           "GENERAL PROCUREMENT"
          ],
          [
           "TECHNICAL PROCUREMENT"
          ],
          [
           "GENERAL PROCUREMENT"
          ],
          [
           "GENERAL PROCUREMENT"
          ],
          [
           "GENERAL PROCUREMENT"
          ],
          [
           "GENERAL PROCUREMENT"
          ],
          [
           "GENERAL PROCUREMENT"
          ],
          [
           "GENERAL PROCUREMENT"
          ],
          [
           "GENERAL PROCUREMENT"
          ],
          [
           "GENERAL PROCUREMENT"
          ],
          [
           "GENERAL PROCUREMENT"
          ],
          [
           "TECHNICAL PROCUREMENT"
          ],
          [
           "GENERAL PROCUREMENT"
          ],
          [
           "GENERAL PROCUREMENT"
          ],
          [
           "GENERAL PROCUREMENT"
          ],
          [
           "TECHNICAL PROCUREMENT"
          ],
          [
           "SUPPLY CHAIN"
          ],
          [
           "SUPPLY CHAIN"
          ],
          [
           "GENERAL PROCUREMENT"
          ],
          [
           "GENERAL PROCUREMENT"
          ],
          [
           "GENERAL PROCUREMENT"
          ],
          [
           "GENERAL PROCUREMENT"
          ],
          [
           "GENERAL PROCUREMENT"
          ],
          [
           "GENERAL PROCUREMENT"
          ],
          [
           "GENERAL PROCUREMENT"
          ],
          [
           "SUPPLY CHAIN"
          ],
          [
           "SUPPLY CHAIN"
          ],
          [
           "SUPPLY CHAIN"
          ],
          [
           "GENERAL PROCUREMENT"
          ],
          [
           "SUPPLY CHAIN"
          ],
          [
           "TECHNICAL PROCUREMENT"
          ],
          [
           "GENERAL PROCUREMENT"
          ],
          [
           "GENERAL PROCUREMENT"
          ],
          [
           "GENERAL PROCUREMENT"
          ],
          [
           "TECHNICAL PROCUREMENT"
          ],
          [
           "GENERAL PROCUREMENT"
          ],
          [
           "GENERAL PROCUREMENT"
          ],
          [
           "GENERAL PROCUREMENT"
          ],
          [
           "GENERAL PROCUREMENT"
          ],
          [
           "GENERAL PROCUREMENT"
          ],
          [
           "GENERAL PROCUREMENT"
          ],
          [
           "TECHNICAL PROCUREMENT"
          ],
          [
           "GENERAL PROCUREMENT"
          ],
          [
           "TECHNICAL PROCUREMENT"
          ],
          [
           "TECHNICAL PROCUREMENT"
          ],
          [
           "TECHNICAL PROCUREMENT"
          ],
          [
           "TECHNICAL PROCUREMENT"
          ],
          [
           "SUPPLY CHAIN"
          ],
          [
           "SUPPLY CHAIN"
          ],
          [
           "TECHNICAL PROCUREMENT"
          ],
          [
           "GENERAL PROCUREMENT"
          ],
          [
           "GENERAL PROCUREMENT"
          ],
          [
           "SUPPLY CHAIN"
          ],
          [
           "GENERAL PROCUREMENT"
          ],
          [
           "GENERAL PROCUREMENT"
          ],
          [
           "GENERAL PROCUREMENT"
          ],
          [
           "SUPPLY CHAIN"
          ],
          [
           "TECHNICAL PROCUREMENT"
          ],
          [
           "GENERAL PROCUREMENT"
          ],
          [
           "GENERAL PROCUREMENT"
          ],
          [
           "GENERAL PROCUREMENT"
          ],
          [
           "TECHNICAL PROCUREMENT"
          ],
          [
           "TECHNICAL PROCUREMENT"
          ],
          [
           "TECHNICAL PROCUREMENT"
          ],
          [
           "GENERAL PROCUREMENT"
          ],
          [
           "GENERAL PROCUREMENT"
          ],
          [
           "TECHNICAL PROCUREMENT"
          ],
          [
           "TECHNICAL PROCUREMENT"
          ],
          [
           "GENERAL PROCUREMENT"
          ],
          [
           "TECHNICAL PROCUREMENT"
          ],
          [
           "GENERAL PROCUREMENT"
          ],
          [
           "TECHNICAL PROCUREMENT"
          ],
          [
           "GENERAL PROCUREMENT"
          ],
          [
           "GENERAL PROCUREMENT"
          ],
          [
           "TECHNICAL PROCUREMENT"
          ],
          [
           "TECHNICAL PROCUREMENT"
          ],
          [
           "TECHNICAL PROCUREMENT"
          ],
          [
           "GENERAL PROCUREMENT"
          ],
          [
           "GENERAL PROCUREMENT"
          ],
          [
           "GENERAL PROCUREMENT"
          ],
          [
           "GENERAL PROCUREMENT"
          ],
          [
           "TECHNICAL PROCUREMENT"
          ],
          [
           "TECHNICAL PROCUREMENT"
          ],
          [
           "TECHNICAL PROCUREMENT"
          ],
          [
           "TECHNICAL PROCUREMENT"
          ],
          [
           "TECHNICAL PROCUREMENT"
          ],
          [
           "GENERAL PROCUREMENT"
          ],
          [
           "TECHNICAL PROCUREMENT"
          ],
          [
           "GENERAL PROCUREMENT"
          ],
          [
           "GENERAL PROCUREMENT"
          ],
          [
           "TECHNICAL PROCUREMENT"
          ],
          [
           "GENERAL PROCUREMENT"
          ],
          [
           "TECHNICAL PROCUREMENT"
          ],
          [
           "GENERAL PROCUREMENT"
          ],
          [
           "TECHNICAL PROCUREMENT"
          ],
          [
           "GENERAL PROCUREMENT"
          ],
          [
           "GENERAL PROCUREMENT"
          ],
          [
           "TECHNICAL PROCUREMENT"
          ],
          [
           "GENERAL PROCUREMENT"
          ],
          [
           "TECHNICAL PROCUREMENT"
          ],
          [
           "TECHNICAL PROCUREMENT"
          ],
          [
           "SUPPLY CHAIN"
          ],
          [
           "TECHNICAL PROCUREMENT"
          ],
          [
           "TECHNICAL PROCUREMENT"
          ],
          [
           "GENERAL PROCUREMENT"
          ],
          [
           "TECHNICAL PROCUREMENT"
          ],
          [
           "GENERAL PROCUREMENT"
          ],
          [
           "TECHNICAL PROCUREMENT"
          ],
          [
           "TECHNICAL PROCUREMENT"
          ],
          [
           "TECHNICAL PROCUREMENT"
          ],
          [
           "TECHNICAL PROCUREMENT"
          ],
          [
           "GENERAL PROCUREMENT"
          ],
          [
           "GENERAL PROCUREMENT"
          ],
          [
           "SUPPLY CHAIN"
          ],
          [
           "TECHNICAL PROCUREMENT"
          ],
          [
           "GENERAL PROCUREMENT"
          ],
          [
           "TECHNICAL PROCUREMENT"
          ],
          [
           "TECHNICAL PROCUREMENT"
          ],
          [
           "GENERAL PROCUREMENT"
          ],
          [
           "GENERAL PROCUREMENT"
          ],
          [
           "GENERAL PROCUREMENT"
          ],
          [
           "TECHNICAL PROCUREMENT"
          ],
          [
           "TECHNICAL PROCUREMENT"
          ],
          [
           "TECHNICAL PROCUREMENT"
          ]
         ],
         "domain": {
          "x": [
           0.55,
           1
          ],
          "y": [
           0,
           1
          ]
         },
         "hovertemplate": "labels=%{label}<br>count=%{value}<br>parent=%{parent}<br>id=%{id}<br>puor_ds_level1_new=%{customdata[0]}<extra></extra>",
         "ids": [
          "SUPPLY CHAIN/PALLETTS PURCHASING/PALLETTS PURCHASING MTL/1/4 Wood Pallets",
          "GENERAL PROCUREMENT/PEOPLE SERVICES/EVENTS/Public relation costs",
          "TECHNICAL PROCUREMENT/INFRASTRUCTURE & INDUSTRIAL/B&U PROFESSIONAL SERVICES/Property Cost Estimation & Acquisition",
          "GENERAL PROCUREMENT/SALES SERVICES/PROMOTIONAL ITEMS/Promotional items (including consumer giveaway)",
          "GENERAL PROCUREMENT/MARKETING SERVICES/PRODUCTION/Production of Advertising Content TRADITIONAL - Radio",
          "GENERAL PROCUREMENT/MARKETING SERVICES/PRODUCTION/Production of Advertising Content DIGITAL",
          "TECHNICAL PROCUREMENT/PROCESS EQUIPMENT/MOLDING & OVENS/Process Engineering professional services",
          "GENERAL PROCUREMENT/MARKETING SERVICES/PRODUCTION/Post-Production of Advertising Content TRADITIONAL",
          "SUPPLY CHAIN/WAREHOUSING/PICKING/Picking Services",
          "GENERAL PROCUREMENT/WORKPLACE SERVICES/SECURITY/Physical and Supply Chain security",
          "TECHNICAL PROCUREMENT/AUTOMATION & MRO/TECHNICAL MATERIALS, PPE & CLOTHES/Pulleys",
          "GENERAL PROCUREMENT/PROFESSIONAL SERVICES/INSURANCE SERVICES/Personal Insurance",
          "GENERAL PROCUREMENT/WORKPLACE SERVICES/SECURITY/People Security Services",
          "GENERAL PROCUREMENT/MARKETING SERVICES/CREATIVE DESIGN/Packaging & POS - Artwork, Technical finalization&Templates",
          "TECHNICAL PROCUREMENT/AUTOMATION & MRO/TECHNICAL MATERIALS, PPE & CLOTHES/PRODUCTION TOOLS",
          "TECHNICAL PROCUREMENT/AUTOMATION & MRO/TECHNICAL MATERIALS, PPE & CLOTHES/PRINTERS SPARE PARTS",
          "TECHNICAL PROCUREMENT/AUTOMATION & MRO/TECHNICAL MATERIALS, PPE & CLOTHES/PRINTERS CONSUMABLES",
          "GENERAL PROCUREMENT/MARKETING SERVICES/PUBLIC RELATIONS/PR Digital Activities & Tools",
          "GENERAL PROCUREMENT/MARKETING SERVICES/PUBLIC RELATIONS/PR Communication Strategy, Advisory, Issues Management",
          "GENERAL PROCUREMENT/SALES SERVICES/POS MATERIAL/POS materials Storage and Logistic",
          "GENERAL PROCUREMENT/SALES SERVICES/POS MATERIAL/POS material Development & Sampling",
          "GENERAL PROCUREMENT/SALES SERVICES/TECHNICAL DEVICES FOR POS/Permanent Materials Production - Secondary Placement",
          "TECHNICAL PROCUREMENT/AUTOMATION & MRO/TECHNICAL MATERIALS, PPE & CLOTHES/PHOTOCELLS AND PROXIMITY SWITCHES",
          "TECHNICAL PROCUREMENT/AUTOMATION & MRO/TECHNICAL MATERIALS, PPE & CLOTHES/Pumps",
          "GENERAL PROCUREMENT/PEOPLE SERVICES/RECRUITMENT SERVICE/RECRUITMENT",
          "SUPPLY CHAIN/PRIMARY TRANSPORTS/SEA TRANSPORT/Sea Transportation Export Fees Costs",
          "GENERAL PROCUREMENT/PEOPLE SERVICES/EMPLOYEE SERVICES/School & Kinder garden fees",
          "GENERAL PROCUREMENT/WORKPLACE SERVICES/OFFICE SUPPLIES AND SERVICES/Safety supplies",
          "TECHNICAL PROCUREMENT/AUTOMATION & MRO/TECHNICAL MATERIALS, PPE & CLOTHES/SPROCKET WHEELS",
          "TECHNICAL PROCUREMENT/AUTOMATION & MRO/TECHNICAL MATERIALS, PPE & CLOTHES/SPARE PARTS FOR GAS PLANTS",
          "GENERAL PROCUREMENT/MARKETING SERVICES/DIGITAL & SOCIAL MEDIA MARKETING/SEO/SEM",
          "TECHNICAL PROCUREMENT/AUTOMATION & MRO/TECHNICAL MATERIALS, PPE & CLOTHES/Rollers",
          "SUPPLY CHAIN/PRIMARY TRANSPORTS/ROAD TRANSPORT/Road Transportation Finished Products Export Costs",
          "TECHNICAL PROCUREMENT/AUTOMATION & MRO/TECHNICAL MATERIALS, PPE & CLOTHES/Rigid pipes",
          "GENERAL PROCUREMENT/MARKETING SERVICES/MARKET MEASUREMENT/Purchase of product sampling",
          "GENERAL PROCUREMENT/MARKETING SERVICES/LICENSING & RIGHTS/Rights buyout-Authors,Artists,Performers,Personality TRADI",
          "GENERAL PROCUREMENT/MARKETING SERVICES/RETAIL PANELS/Retail Panels DB",
          "GENERAL PROCUREMENT/MARKETING SERVICES/CONSUMER RESEARCH (AD-HOC)/Research activities for qualifying Innovation initiatives",
          "GENERAL PROCUREMENT/WORKPLACE SERVICES/MAINTENANCE & IMPROVEMENTS/Research & Development cost",
          "TECHNICAL PROCUREMENT/AUTOMATION & MRO/MAINTENANCE SERVICES/Rental Services Fee",
          "SUPPLY CHAIN/PALLETTS RENT & LEASE/PALLETTS RENT & LEASE SVC/Rental 1/4 Plastic Pallets",
          "SUPPLY CHAIN/PALLETTS RENT & LEASE/PALLETTS RENT & LEASE SVC/Rental 1/2 Plastic Pallets",
          "GENERAL PROCUREMENT/PEOPLE SERVICES/EMPLOYEE SERVICES/Recreation employees benefits",
          "GENERAL PROCUREMENT/WORKPLACE SERVICES/REAL ESTATE/Real estate others (no industrial, no supply chain)",
          "GENERAL PROCUREMENT/WORKPLACE SERVICES/REAL ESTATE/Real Estate Short-Term Lease <12 Months",
          "GENERAL PROCUREMENT/MARKETING SERVICES/LICENSING & RIGHTS/Rights buyout-Authors,Artists,Performers,Personality DIGITAL",
          "GENERAL PROCUREMENT/PEOPLE SERVICES/PAYROLL/PAYROLL SERVICES",
          "GENERAL PROCUREMENT/SURPRISE L2/SURPRISE L3/PALLETS",
          "GENERAL PROCUREMENT/MOBILITY/TRAVEL/Other travel services",
          "GENERAL PROCUREMENT/MARKETING SERVICES/LICENSING & RIGHTS/Licensing - Brands & Content TRADITIONAL",
          "GENERAL PROCUREMENT/PROFESSIONAL SERVICES/LEGAL & TAX SERVICES/Legal services",
          "GENERAL PROCUREMENT/PROFESSIONAL SERVICES/LEGAL & TAX SERVICES/Legal Advisory",
          "TECHNICAL PROCUREMENT/AUTOMATION & MRO/TECHNICAL MATERIALS, PPE & CLOTHES/Laundry Services",
          "GENERAL PROCUREMENT/PEOPLE SERVICES/RECRUITMENT SERVICE/Job postings",
          "GENERAL PROCUREMENT/MARKETING SERVICES/DIGITAL & SOCIAL MEDIA MARKETING/Influencers & Testimonials",
          "TECHNICAL PROCUREMENT/AUTOMATION & MRO/TECHNICAL MATERIALS, PPE & CLOTHES/Infirmary",
          "GENERAL PROCUREMENT/WORKPLACE SERVICES/MAINTENANCE & IMPROVEMENTS/Industrial Cleaning",
          "GENERAL PROCUREMENT/SALES SERVICES/POS MATERIAL/In/Out Theatrical Materials Production - Customized",
          "GENERAL PROCUREMENT/WORKPLACE SERVICES/REAL ESTATE/Local Small Building rent",
          "GENERAL PROCUREMENT/SALES SERVICES/POS MATERIAL/In/Out Functional Display Production - Customized",
          "GENERAL PROCUREMENT/SALES SERVICES/GADGETS/In-Pack Gadgets_Commercial Co-Pack",
          "GENERAL PROCUREMENT/PEOPLE SERVICES/EVENTS (LOCAL)/ITL - Spese di rappresentanza",
          "GENERAL PROCUREMENT/IT - INFORMATION TECHNOLOGY/SERVICES - T&M/BODY LEASING/IT Service Desk T&M",
          "GENERAL PROCUREMENT/MOBILITY/TRAVEL/Hotel accommodation",
          "TECHNICAL PROCUREMENT/AUTOMATION & MRO/TECHNICAL MATERIALS, PPE & CLOTHES/Heaters",
          "GENERAL PROCUREMENT/PEOPLE SERVICES/EMPLOYEE SERVICES/Health and Safety GP",
          "TECHNICAL PROCUREMENT/INFRASTRUCTURE & INDUSTRIAL/B&U PROFESSIONAL SERVICES/Health and Safety - Site Supervision",
          "GENERAL PROCUREMENT/IT - INFORMATION TECHNOLOGY/HARDWARE - PURCHASE/LEASING/MAINTENANCE/Hardware - Purchase Voice and Data Network CAPEX",
          "GENERAL PROCUREMENT/IT - INFORMATION TECHNOLOGY/HARDWARE - PURCHASE/LEASING/MAINTENANCE/Hardware - Purchase End-User Computing CAPEX",
          "GENERAL PROCUREMENT/SALES SERVICES/GADGETS/In-Pack Gadgets_Industrial co-pack",
          "TECHNICAL PROCUREMENT/AUTOMATION & MRO/TECHNICAL MATERIALS, PPE & CLOTHES/Locks, Handles",
          "GENERAL PROCUREMENT/PEOPLE SERVICES/RELOCATION/Long Stay Relocation",
          "TECHNICAL PROCUREMENT/AUTOMATION & MRO/TECHNICAL MATERIALS, PPE & CLOTHES/Lubricants",
          "GENERAL PROCUREMENT/MARKETING SERVICES/MARKET MEASUREMENT/Other syndicated subscriptions (excluding RMS, CPS)",
          "GENERAL PROCUREMENT/MARKETING SERVICES/CONSUMER RESEARCH (AD-HOC)/Other research activities on consumer, shopper and citizen",
          "SUPPLY CHAIN",
          "GENERAL PROCUREMENT/WORKPLACE SERVICES/OFFICE SUPPLIES AND SERVICES/Office supplies",
          "GENERAL PROCUREMENT/WORKPLACE SERVICES/MAINTENANCE & IMPROVEMENTS/Office machines & equipment - Maintenance",
          "GENERAL PROCUREMENT/WORKPLACE SERVICES/MAINTENANCE & IMPROVEMENTS/Office machines & equipment - Investment",
          "GENERAL PROCUREMENT/WORKPLACE SERVICES/OFFICE SUPPLIES AND SERVICES/Office Furniture - Capex",
          "TECHNICAL PROCUREMENT/AUTOMATION & MRO/INDUSTRIAL AUTOMATION AND ROBOTICS/OPX - Software, Licence Fee, Assistance",
          "TECHNICAL PROCUREMENT/AUTOMATION & MRO/MAINTENANCE SERVICES/OPX - Retrofit/revamping of an equipment or line",
          "TECHNICAL PROCUREMENT/AUTOMATION & MRO/MAINTENANCE SERVICES/OPX - Ordinary Maintenance",
          "TECHNICAL PROCUREMENT/PROCESS EQUIPMENT/WAREHOUSE & LOGISTIC/OPX - Forklifts (Rental & Service)",
          "TECHNICAL PROCUREMENT/AUTOMATION & MRO/MAINTENANCE SERVICES/OPX - Extraordinary Maintenance",
          "TECHNICAL PROCUREMENT/AUTOMATION & MRO/TECHNICAL MATERIALS, PPE & CLOTHES/Not codified - Clothes & Uniforms, Safety Shoes",
          "GENERAL PROCUREMENT/PEOPLE SERVICES/EVENTS/No Commercial Sponsorships",
          "GENERAL PROCUREMENT/PROFESSIONAL SERVICES/SUBSCRIPTIONS/MEMBERSHIPS/NGO, Donations",
          "GENERAL PROCUREMENT/SALES SERVICES/MERCHANDISING & HOSTESS & BROKER COMMISSIONS/Merchandising services",
          "GENERAL PROCUREMENT/PEOPLE SERVICES/EMPLOYEE SERVICES/Medical Services",
          "GENERAL PROCUREMENT/MARKETING SERVICES/PUBLIC RELATIONS/Media Relations, Membership & Partnership",
          "TECHNICAL PROCUREMENT/AUTOMATION & MRO/TECHNICAL MATERIALS, PPE & CLOTHES/Measure devices and Control instruments",
          "GENERAL PROCUREMENT/IT - INFORMATION TECHNOLOGY/SOFTWARE - MAINTENANCE FOR PERPETUAL LICENSES/Maintenance Server&Storage Software",
          "GENERAL PROCUREMENT/IT - INFORMATION TECHNOLOGY/SOFTWARE - MAINTENANCE FOR PERPETUAL LICENSES/Maintenance Application Software",
          "GENERAL PROCUREMENT/WORKPLACE SERVICES/SECURITY/Security technology",
          "GENERAL PROCUREMENT/SALES SERVICES/GADGETS/Services Gadget",
          "TECHNICAL PROCUREMENT/INFRASTRUCTURE & INDUSTRIAL/B&U PROFESSIONAL SERVICES/Site supervision",
          "TECHNICAL PROCUREMENT/INFRASTRUCTURE & INDUSTRIAL/INFRASTRUCTURE/Specific Material For Utilities Machinery And Equipment",
          "GENERAL PROCUREMENT/MARKETING SERVICES/PUBLIC RELATIONS",
          "GENERAL PROCUREMENT/MARKETING SERVICES/PRODUCTION",
          "TECHNICAL PROCUREMENT/PROCESS EQUIPMENT/PRIMARY PACKAGING",
          "TECHNICAL PROCUREMENT/PROCESS EQUIPMENT/PREPARATION",
          "SUPPLY CHAIN/WAREHOUSING/PICKING",
          "GENERAL PROCUREMENT/PEOPLE SERVICES/PAYROLL",
          "SUPPLY CHAIN/PALLETTS RENT & LEASE/PALLETTS RENT & LEASE SVC",
          "SUPPLY CHAIN/PRIMARY TRANSPORTS/OTHER LOGISTICS COSTS",
          "GENERAL PROCUREMENT/WORKPLACE SERVICES/OFFICE SUPPLIES AND SERVICES (LOCAL)",
          "GENERAL PROCUREMENT/PEOPLE SERVICES/RECRUITMENT SERVICE",
          "GENERAL PROCUREMENT/WORKPLACE SERVICES/OFFICE SUPPLIES AND SERVICES",
          "GENERAL PROCUREMENT/SALES SERVICES/MERCHANDISING & HOSTESS & BROKER COMMISSIONS",
          "GENERAL PROCUREMENT/SALES SERVICES/MARKETING EVENTS",
          "GENERAL PROCUREMENT/MARKETING SERVICES/MARKET MEASUREMENT",
          "TECHNICAL PROCUREMENT/INFRASTRUCTURE & INDUSTRIAL/LABORATORY EQUIPMENT AND SERVICES",
          "GENERAL PROCUREMENT/PROFESSIONAL SERVICES/INSURANCE SERVICES",
          "TECHNICAL PROCUREMENT/INFRASTRUCTURE & INDUSTRIAL/INFRASTRUCTURE",
          "TECHNICAL PROCUREMENT/AUTOMATION & MRO/INDUSTRIAL AUTOMATION AND ROBOTICS",
          "GENERAL PROCUREMENT/IT - INFORMATION TECHNOLOGY/HARDWARE - PURCHASE/LEASING/MAINTENANCE",
          "SUPPLY CHAIN/CUSTOM BROKERAGE & FORWARDING AGENCIES/FREIGHT FORWARDING AGENCIES",
          "TECHNICAL PROCUREMENT/PROCESS EQUIPMENT/NUTS EQUIPMENT & AGRI MOBILE MACHINE",
          "GENERAL PROCUREMENT/MARKETING SERVICES/RETAIL PANELS",
          "SUPPLY CHAIN/PRIMARY TRANSPORTS/ROAD TRANSPORT",
          "SUPPLY CHAIN/PRIMARY TRANSPORTS/SEA TRANSPORT",
          "GENERAL PROCUREMENT",
          "GENERAL PROCUREMENT/SURPRISE L2",
          "SUPPLY CHAIN/SECONDARY FREIGHT",
          "GENERAL PROCUREMENT/PROFESSIONAL SERVICES",
          "SUPPLY CHAIN/PALLETTS RENT & LEASE",
          "SUPPLY CHAIN/PALLETTS PURCHASING",
          "GENERAL PROCUREMENT/MOBILITY",
          "GENERAL PROCUREMENT/MARKETING SERVICES",
          "GENERAL PROCUREMENT/IT - INFORMATION TECHNOLOGY",
          "TECHNICAL PROCUREMENT/INFRASTRUCTURE & INDUSTRIAL",
          "GENERAL PROCUREMENT/ENERGY AND UTILITIES FOR OFFICES",
          "TECHNICAL PROCUREMENT/ENERGY",
          "TECHNICAL PROCUREMENT/AUTOMATION & MRO",
          "SUPPLY CHAIN/WAREHOUSING/WAREHOUSING LOCATION & LEASING",
          "GENERAL PROCUREMENT/ENERGY AND UTILITIES FOR OFFICES/UTILITIES FOR OFFICES (LOCAL)",
          "GENERAL PROCUREMENT/WORKPLACE SERVICES/UTILITIES",
          "GENERAL PROCUREMENT/MOBILITY/TRAVEL",
          "GENERAL PROCUREMENT/SURPRISE L2/SURPRISE L3",
          "GENERAL PROCUREMENT/SALES SERVICES/SPONSORING",
          "GENERAL PROCUREMENT/IT - INFORMATION TECHNOLOGY/SERVICES - T&M/BODY LEASING",
          "GENERAL PROCUREMENT/IT - INFORMATION TECHNOLOGY/SERVICES - MANAGED SERVICE",
          "TECHNICAL PROCUREMENT/INFRASTRUCTURE & INDUSTRIAL/FACILITY MANAGEMENT HARDSERVICES FOR INDUSTRIAL LOCATIONS",
          "GENERAL PROCUREMENT/IT - INFORMATION TECHNOLOGY/HARDWARE - PURCHASE/LEASING/MAINTENANCE/Hardware - Maintenance Voice and Data Network",
          "TECHNICAL PROCUREMENT/ENERGY/ENERGY CERTIFICATES",
          "SUPPLY CHAIN/SECONDARY FREIGHT/DISTRIBUTION",
          "GENERAL PROCUREMENT/WORKPLACE SERVICES/OFFICE SUPPLIES AND SERVICES (LOCAL)/TR - Tolls and parking",
          "GENERAL PROCUREMENT/WORKPLACE SERVICES/OFFICE SUPPLIES AND SERVICES (LOCAL)/TR - Small Furniture - Opex (GenAdm)",
          "GENERAL PROCUREMENT/WORKPLACE SERVICES/REAL ESTATE (LOCAL)/TR - Real Estate Office Lease (GenAdm)",
          "GENERAL PROCUREMENT/WORKPLACE SERVICES/OFFICE SUPPLIES AND SERVICES (LOCAL)/TR - Postage & Couriers Fees (GenProd)",
          "GENERAL PROCUREMENT/WORKPLACE SERVICES/SECURITY (LOCAL)/TR - People Security (GenAdm)",
          "GENERAL PROCUREMENT/WORKPLACE SERVICES/OFFICE SUPPLIES AND SERVICES (LOCAL)/TR - Office supplies (GenProd)",
          "GENERAL PROCUREMENT/PEOPLE SERVICES/EMPLOYEE SERVICES (LOCAL)/TR - Health and Safety (GenProd)",
          "GENERAL PROCUREMENT/WORKPLACE SERVICES/MAINTENANCE & IMPROVEMENTS (LOCAL)/TR - Ground and green areas maintenance (GenAdm)",
          "GENERAL PROCUREMENT/ENERGY AND UTILITIES FOR OFFICES/UTILITIES FOR OFFICES (LOCAL)/TR - ELECTRICITY (GENPROD)",
          "GENERAL PROCUREMENT/PROFESSIONAL SERVICES/LEGAL & TAX SERVICES/Tax & Customs Services Cost",
          "GENERAL PROCUREMENT/WORKPLACE SERVICES/FOOD SERVICES (LOCAL)/TR - Canteen Services (GenAdm)",
          "GENERAL PROCUREMENT/WORKPLACE SERVICES/FOOD SERVICES/TICKETS RESTAURANT",
          "GENERAL PROCUREMENT/MARKETING SERVICES/CREATIVE DESIGN/Surprises - Creative Concepts DIGITAL",
          "GENERAL PROCUREMENT/MARKETING SERVICES/RETAIL PANELS/Subscriptions on Retail panels (license fees)",
          "GENERAL PROCUREMENT/MARKETING SERVICES/MARKET MEASUREMENT/Subscriptions on Market measurement (license fees)",
          "GENERAL PROCUREMENT/PROFESSIONAL SERVICES/CONSULTANCY SERVICES/Strategic, Managerial & organizational consulting",
          "SUPPLY CHAIN/WAREHOUSING/STORAGE/Storage RAW MATERIALS",
          "SUPPLY CHAIN/WAREHOUSING/STORAGE/Storage Mtl",
          "SUPPLY CHAIN/WAREHOUSING/STORAGE/Storage Finish Products",
          "TECHNICAL PROCUREMENT/AUTOMATION & MRO/TECHNICAL MATERIALS, PPE & CLOTHES/Springs",
          "GENERAL PROCUREMENT/WORKPLACE SERVICES/OFFICE SUPPLIES AND SERVICES (LOCAL)/TR - Archiving Services (GenAdm)",
          "TECHNICAL PROCUREMENT/INFRASTRUCTURE & INDUSTRIAL/FACILITY MANAGEMENT SOFTSERVICES FOR INDUSTRIAL LOCATIONS/Technical Cleaning material",
          "GENERAL PROCUREMENT/PEOPLE SERVICES/TEMPORARY PERSONNEL/Temporary Personnels",
          "GENERAL PROCUREMENT/SALES SERVICES/MARKETING EVENTS/Testimonials Costs",
          "GENERAL PROCUREMENT/MARKETING SERVICES/DIGITAL & SOCIAL MEDIA MARKETING",
          "GENERAL PROCUREMENT/MARKETING SERVICES/CREATIVE DESIGN",
          "GENERAL PROCUREMENT/SALES SERVICES/CONSUMERS PROMOTION ACTIVITIES",
          "GENERAL PROCUREMENT/MARKETING SERVICES/CONSUMER RESEARCH (AD-HOC)",
          "GENERAL PROCUREMENT/WORKPLACE SERVICES/CLEANING",
          "TECHNICAL PROCUREMENT/INFRASTRUCTURE & INDUSTRIAL/B&U PROFESSIONAL SERVICES",
          "GENERAL PROCUREMENT/PROFESSIONAL SERVICES/ADMINISTRATIVE SERVICES",
          "TECHNICAL PROCUREMENT/AUTOMATION & MRO/TECHNICAL MATERIALS, PPE & CLOTHES/Сonstruction",
          "GENERAL PROCUREMENT/MARKETING SERVICES/DIGITAL & SOCIAL MEDIA MARKETING/Website / App Creation & Maintenance",
          "TECHNICAL PROCUREMENT/INFRASTRUCTURE & INDUSTRIAL/FACILITY MANAGEMENT SOFTSERVICES FOR INDUSTRIAL LOCATIONS/Waste Water Treatment Services",
          "TECHNICAL PROCUREMENT/INFRASTRUCTURE & INDUSTRIAL/FACILITY MANAGEMENT SOFTSERVICES FOR INDUSTRIAL LOCATIONS/Waste Management for industrial location",
          "GENERAL PROCUREMENT/IT - INFORMATION TECHNOLOGY/SERVICES - MANAGED SERVICE/Voice and Data Network Communications Outsourcing",
          "TECHNICAL PROCUREMENT/AUTOMATION & MRO/TECHNICAL MATERIALS, PPE & CLOTHES/Vibrators",
          "TECHNICAL PROCUREMENT/AUTOMATION & MRO/TECHNICAL MATERIALS, PPE & CLOTHES/Valves",
          "GENERAL PROCUREMENT/WORKPLACE SERVICES/UTILITIES/Utilities - Office Water",
          "GENERAL PROCUREMENT/WORKPLACE SERVICES/UTILITIES/Utilities - Office Gas",
          "GENERAL PROCUREMENT/MOBILITY/TRAVEL/Travel Agencies fees & services",
          "GENERAL PROCUREMENT/MOBILITY/TRAVEL/Transportation - Other",
          "GENERAL PROCUREMENT/MOBILITY/TRAVEL/Transportation - Flights",
          "GENERAL PROCUREMENT/PEOPLE SERVICES/EMPLOYEE SERVICES/Translations and interpreting services",
          "GENERAL PROCUREMENT/PEOPLE SERVICES/TRAINING/Training Design & Cost of Personal",
          "GENERAL PROCUREMENT/PEOPLE SERVICES/EMPLOYEE SERVICES",
          "GENERAL PROCUREMENT/IT - INFORMATION TECHNOLOGY/HARDWARE - PURCHASE/LEASING/MAINTENANCE/Hardware - Maintenance Server&Storage",
          "TECHNICAL PROCUREMENT",
          "GENERAL PROCUREMENT/IT - INFORMATION TECHNOLOGY/HARDWARE - PURCHASE/LEASING/MAINTENANCE/Hardware - Leasing Printers",
          "TECHNICAL PROCUREMENT/AUTOMATION & MRO/TECHNICAL MATERIALS, PPE & CLOTHES/Cams",
          "SUPPLY CHAIN/CUSTOM BROKERAGE & FORWARDING AGENCIES/FREIGHT FORWARDING AGENCIES/CUSTOM DECLARATION SERVICES",
          "TECHNICAL PROCUREMENT/INFRASTRUCTURE & INDUSTRIAL/INFRASTRUCTURE/CPX: General Contractos",
          "TECHNICAL PROCUREMENT/INFRASTRUCTURE & INDUSTRIAL/LABORATORY EQUIPMENT AND SERVICES/CPX: Equipment",
          "TECHNICAL PROCUREMENT/INFRASTRUCTURE & INDUSTRIAL/INFRASTRUCTURE/CPX: Electrical Equipment & Installation",
          "TECHNICAL PROCUREMENT/AUTOMATION & MRO/TECHNICAL MATERIALS, PPE & CLOTHES/CPX Technical Material",
          "TECHNICAL PROCUREMENT/AUTOMATION & MRO/INDUSTRIAL AUTOMATION AND ROBOTICS/CPX Electrical and Automation Cabinets",
          "GENERAL PROCUREMENT/WORKPLACE SERVICES/FOOD SERVICES/Catering services",
          "TECHNICAL PROCUREMENT/PROCESS EQUIPMENT/STANDALONE EQUIPMENT/CPX - X-Ray",
          "TECHNICAL PROCUREMENT/PROCESS EQUIPMENT/PRIMARY PACKAGING/CPX - Thermoforming",
          "TECHNICAL PROCUREMENT/PROCESS EQUIPMENT/SECONDARY PACKAGING/CPX - Sleeve & Shrink Machines",
          "TECHNICAL PROCUREMENT/PROCESS EQUIPMENT/NUTS EQUIPMENT & AGRI MOBILE MACHINE/CPX - Shellers",
          "TECHNICAL PROCUREMENT/PROCESS EQUIPMENT/PRIMARY PACKAGING/CPX - Sealing machine",
          "TECHNICAL PROCUREMENT/PROCESS EQUIPMENT/PREPARATION/CPX - Refiners (incl. prerefiners, conches, mills)",
          "TECHNICAL PROCUREMENT/PROCESS EQUIPMENT/STANDALONE EQUIPMENT/CPX - Printer",
          "TECHNICAL PROCUREMENT/PROCESS EQUIPMENT/NUTS EQUIPMENT & AGRI MOBILE MACHINE/CPX - Pre-Cleaning/Drying/Vacuum system",
          "TECHNICAL PROCUREMENT/PROCESS EQUIPMENT/STANDALONE EQUIPMENT/CPX - Vision & Cameras",
          "TECHNICAL PROCUREMENT/PROCESS EQUIPMENT/MOLDING & OVENS/CPX - Plate Oven",
          "TECHNICAL PROCUREMENT/INFRASTRUCTURE & INDUSTRIAL/FACILITY MANAGEMENT HARDSERVICES FOR INDUSTRIAL LOCATIONS/Civil maintenance",
          "TECHNICAL PROCUREMENT/AUTOMATION & MRO/TECHNICAL MATERIALS, PPE & CLOTHES/Codified - Clothes & Uniforms, Safety Shoes",
          "SUPPLY CHAIN/SECONDARY FREIGHT/DISTRIBUTION/Distribution to Customers and Returned Goods from Customers",
          "GENERAL PROCUREMENT/SALES SERVICES/CONSUMERS PROMOTION ACTIVITIES/Discount Coupons",
          "TECHNICAL PROCUREMENT/INFRASTRUCTURE & INDUSTRIAL/B&U PROFESSIONAL SERVICES/Design Services",
          "GENERAL PROCUREMENT/SALES SERVICES/CONSUMERS PROMOTION ACTIVITIES/Design & Management of non Digital Promotion",
          "GENERAL PROCUREMENT/SALES SERVICES/CONSUMERS PROMOTION ACTIVITIES/Design & Management of Digital Promotion",
          "TECHNICAL PROCUREMENT/AUTOMATION & MRO/TECHNICAL MATERIALS, PPE & CLOTHES/Cylinders",
          "SUPPLY CHAIN/CUSTOM BROKERAGE & FORWARDING AGENCIES/FREIGHT FORWARDING AGENCIES/Customs Docum./Forwarder Services Surprises",
          "TECHNICAL PROCUREMENT/AUTOMATION & MRO/TECHNICAL MATERIALS, PPE & CLOTHES/Cod - PPE, Safety Work Products, Fire Protection",
          "SUPPLY CHAIN/CUSTOM BROKERAGE & FORWARDING AGENCIES/FREIGHT FORWARDING AGENCIES/Customs Docum./Forwarder Services Interm-Finished Prd-FI",
          "GENERAL PROCUREMENT/MARKETING SERVICES/CREATIVE DEVELOPMENT & STRATEGY/Creative Concept for Advertising Campaigns TRADITIONAL",
          "GENERAL PROCUREMENT/MARKETING SERVICES/CREATIVE DEVELOPMENT & STRATEGY/Creative Concept for Advertising Campaigns DIGITAL",
          "SUPPLY CHAIN/SECONDARY FREIGHT/DISTRIBUTION/Control Tower Services",
          "TECHNICAL PROCUREMENT/INFRASTRUCTURE & INDUSTRIAL/LABORATORY EQUIPMENT AND SERVICES/Consumable",
          "GENERAL PROCUREMENT/MOBILITY/FLEET/Company Vehicles - Other vehicles",
          "GENERAL PROCUREMENT/MOBILITY/FLEET/Company Vehicles - Maintenance costs",
          "GENERAL PROCUREMENT/SALES SERVICES/COMMERCIAL QUALITY AND FRESHNESS/Commercial Quality and Freshness monitoring",
          "SUPPLY CHAIN/CUSTOM BROKERAGE & FORWARDING AGENCIES/FREIGHT FORWARDING AGENCIES/Customs Docum./Forwarder Services Finish Products",
          "TECHNICAL PROCUREMENT/AUTOMATION & MRO/TECHNICAL MATERIALS, PPE & CLOTHES/Dosing nozzles",
          "TECHNICAL PROCUREMENT/PROCESS EQUIPMENT/SECONDARY PACKAGING/CPX - Picker line",
          "TECHNICAL PROCUREMENT/PROCESS EQUIPMENT/NUTS EQUIPMENT & AGRI MOBILE MACHINE/CPX - Optical sorters",
          "GENERAL PROCUREMENT/WORKPLACE SERVICES/MAINTENANCE & IMPROVEMENTS/Building owned - Improvements cost",
          "TECHNICAL PROCUREMENT/AUTOMATION & MRO/TECHNICAL MATERIALS, PPE & CLOTHES/Building materials",
          "GENERAL PROCUREMENT/WORKPLACE SERVICES/MAINTENANCE & IMPROVEMENTS/Building Third Party - Improvements & Equipment Cost",
          "GENERAL PROCUREMENT/SALES SERVICES/MERCHANDISING & HOSTESS & BROKER COMMISSIONS/Broker Commissions",
          "GENERAL PROCUREMENT/MARKETING SERVICES/CREATIVE DEVELOPMENT & STRATEGY/Brand & Communication Strategy",
          "GENERAL PROCUREMENT/PROFESSIONAL SERVICES/SUBSCRIPTIONS/MEMBERSHIPS/Books, periodicals subscription (digital or not)",
          "TECHNICAL PROCUREMENT/AUTOMATION & MRO/TECHNICAL MATERIALS, PPE & CLOTHES/Belts",
          "GENERAL PROCUREMENT/PROFESSIONAL SERVICES/SUBSCRIPTIONS/MEMBERSHIPS/Business Association fees",
          "TECHNICAL PROCUREMENT/AUTOMATION & MRO/TECHNICAL MATERIALS, PPE & CLOTHES/Batteries",
          "GENERAL PROCUREMENT/WORKPLACE SERVICES/OFFICE SUPPLIES AND SERVICES/Archiving Services",
          "GENERAL PROCUREMENT/IT - INFORMATION TECHNOLOGY/SERVICES - T&M/BODY LEASING/Applications Run and Maintenance T&M",
          "GENERAL PROCUREMENT/IT - INFORMATION TECHNOLOGY/SERVICES - MANAGED SERVICE/Applications Development - System Integration CAPEX",
          "GENERAL PROCUREMENT/WORKPLACE SERVICES/REAL ESTATE/Additional Services and Costs for Real Estate Lease",
          "GENERAL PROCUREMENT/MARKETING SERVICES/RETAIL PANELS/Ad hoc reports/ analysis performed on Retail Panel DB",
          "GENERAL PROCUREMENT/IT - INFORMATION TECHNOLOGY/SERVICES - MANAGED SERVICE/2nd Level Support Outsourcing Technology",
          "GENERAL PROCUREMENT/IT - INFORMATION TECHNOLOGY/SERVICES - MANAGED SERVICE/1st Level Support Outsourcing Technology",
          "TECHNICAL PROCUREMENT/AUTOMATION & MRO/INDUSTRIAL AUTOMATION AND ROBOTICS/Automation professional services",
          "TECHNICAL PROCUREMENT/PROCESS EQUIPMENT/MOLDING & OVENS/CPX - Oven",
          "GENERAL PROCUREMENT/WORKPLACE SERVICES/FOOD SERVICES/CANTEEN SERVICES",
          "TECHNICAL PROCUREMENT/AUTOMATION & MRO/TECHNICAL MATERIALS, PPE & CLOTHES/CONTROL INSTRUMENTS",
          "TECHNICAL PROCUREMENT/PROCESS EQUIPMENT/MOLDING & OVENS/CPX - Molds and Forming Equipments",
          "TECHNICAL PROCUREMENT/PROCESS EQUIPMENT/MOLDING & OVENS/CPX - Molding equipment",
          "TECHNICAL PROCUREMENT/PROCESS EQUIPMENT/MOLDING & OVENS/CPX - Molding :  Ferrero Design & Build",
          "TECHNICAL PROCUREMENT/PROCESS EQUIPMENT/NUTS EQUIPMENT & AGRI MOBILE MACHINE/CPX - Metal structures and pipes",
          "TECHNICAL PROCUREMENT/PROCESS EQUIPMENT/STANDALONE EQUIPMENT/CPX - Labellers",
          "TECHNICAL PROCUREMENT/PROCESS EQUIPMENT/PRIMARY PACKAGING/CPX - Infeed (incl. raw distributor system / buffer)",
          "TECHNICAL PROCUREMENT/PROCESS EQUIPMENT/SECONDARY PACKAGING/CPX - Forming, filling and closing",
          "GENERAL PROCUREMENT/WORKPLACE SERVICES/SECURITY/CCTV",
          "TECHNICAL PROCUREMENT/PROCESS EQUIPMENT/PRIMARY PACKAGING/CPX - Flow wrapper",
          "TECHNICAL PROCUREMENT/PROCESS EQUIPMENT/NUTS EQUIPMENT & AGRI MOBILE MACHINE/CPX - Conveyors,Elevators,Transports, Big Bag station",
          "TECHNICAL PROCUREMENT/PROCESS EQUIPMENT/STANDALONE EQUIPMENT/CPX - Conveyors and Handling",
          "TECHNICAL PROCUREMENT/PROCESS EQUIPMENT/PREPARATION/CPX - Cocoa Presses",
          "TECHNICAL PROCUREMENT/PROCESS EQUIPMENT/STANDALONE EQUIPMENT/CPX - Check weigher",
          "TECHNICAL PROCUREMENT/PROCESS EQUIPMENT/PREPARATION/CPX - Belts",
          "TECHNICAL PROCUREMENT/PROCESS EQUIPMENT/SECONDARY PACKAGING/CPX - Bagging Machines",
          "TECHNICAL PROCUREMENT/AUTOMATION & MRO/INDUSTRIAL AUTOMATION AND ROBOTICS/CPX - Automation and Digital Software",
          "TECHNICAL PROCUREMENT/PROCESS EQUIPMENT/PREPARATION/CPX - Dough Preparation",
          "GENERAL PROCUREMENT/MARKETING SERVICES/DIGITAL & SOCIAL MEDIA MARKETING/E-commerce Advertising Creative Development",
          "TECHNICAL PROCUREMENT/INFRASTRUCTURE & INDUSTRIAL/INFRASTRUCTURE/CPX: Energy (Sustainability) / Investments",
          "GENERAL PROCUREMENT/SALES SERVICES/TECHNICAL DEVICES FOR POS/Fridges lease/rent and other tech devices for point of Sale",
          "GENERAL PROCUREMENT/WORKPLACE SERVICES/MAINTENANCE & IMPROVEMENTS/Ground and green areas maintenance,inclu industrial premises",
          "SUPPLY CHAIN/PRIMARY TRANSPORTS/ROAD TRANSPORT/Extra-waiting RAW MATERIALS",
          "GENERAL PROCUREMENT/PEOPLE SERVICES/EVENTS/Entertainment expenses (No deductible)",
          "TECHNICAL PROCUREMENT/AUTOMATION & MRO/TECHNICAL MATERIALS, PPE & CLOTHES/Gearboxes",
          "SUPPLY CHAIN/PRIMARY TRANSPORTS/ROAD TRANSPORT/Extra Cost  Transpor Finished product",
          "TECHNICAL PROCUREMENT/AUTOMATION & MRO/TECHNICAL MATERIALS, PPE & CLOTHES/Electronic cables",
          "TECHNICAL PROCUREMENT/AUTOMATION & MRO/TECHNICAL MATERIALS, PPE & CLOTHES/Gaskets/Seals",
          "GENERAL PROCUREMENT/SALES SERVICES/SPONSORING/Events Sponsorships & Partnership",
          "TECHNICAL PROCUREMENT/ENERGY/ENERGY FOR INDUSTRIAL PLANT/Gas for Industrial Plant",
          "GENERAL PROCUREMENT/SALES SERVICES/TECHNICAL DEVICES FOR POS/Fridges production and other tech devices for POS-excl CAPEX",
          "GENERAL PROCUREMENT/PROFESSIONAL SERVICES/ADMINISTRATIVE SERVICES/Employees tax services",
          "GENERAL PROCUREMENT/IT - INFORMATION TECHNOLOGY/SERVICES - MANAGED SERVICE/End-User Computing Mobile Management Outsourcing",
          "TECHNICAL PROCUREMENT/AUTOMATION & MRO/TECHNICAL MATERIALS, PPE & CLOTHES/HYDRAULIC AND PNEUMATIC FITTINGS",
          "TECHNICAL PROCUREMENT/AUTOMATION & MRO/TECHNICAL MATERIALS, PPE & CLOTHES/Filters",
          "SUPPLY CHAIN/PALLETTS PURCHASING/PALLETTS PURCHASING MTL/Epal 80x120 Pallets New",
          "TECHNICAL PROCUREMENT/AUTOMATION & MRO/TECHNICAL MATERIALS, PPE & CLOTHES/Glues",
          "GENERAL PROCUREMENT/MARKETING SERVICES/DIGITAL & SOCIAL MEDIA MARKETING/E-commerce Advertising Production",
          "GENERAL PROCUREMENT/PROFESSIONAL SERVICES/CONSULTANCY SERVICES/Function related / professional consultancy",
          "TECHNICAL PROCUREMENT/INFRASTRUCTURE & INDUSTRIAL/FACILITY MANAGEMENT HARDSERVICES FOR INDUSTRIAL LOCATIONS/Electrical Maintenance",
          "TECHNICAL PROCUREMENT/AUTOMATION & MRO/TECHNICAL MATERIALS, PPE & CLOTHES/Fuels",
          "SUPPLY CHAIN/PRIMARY TRANSPORTS/ROAD TRANSPORT/EXPORT EXPENSES FOR",
          "TECHNICAL PROCUREMENT/AUTOMATION & MRO/TECHNICAL MATERIALS, PPE & CLOTHES/Electric cables",
          "TECHNICAL PROCUREMENT/ENERGY/ENERGY FOR INDUSTRIAL PLANT/Electrical Energy for Industrial Plant",
          "GENERAL PROCUREMENT/IT - INFORMATION TECHNOLOGY/HARDWARE - PURCHASE/LEASING/MAINTENANCE/Hardware - Leasing End-User Computing",
          "TECHNICAL PROCUREMENT/AUTOMATION & MRO/TECHNICAL MATERIALS, PPE & CLOTHES/Flexible pipes",
          "GENERAL PROCUREMENT/SALES SERVICES/GADGETS/GADGET",
          "GENERAL PROCUREMENT/IT - INFORMATION TECHNOLOGY/SOFTWARE - SUBSCRIPTIONS/LICENSES/Application Perpetual Licenses CAPEX",
          "TECHNICAL PROCUREMENT/PROCESS EQUIPMENT/SECONDARY PACKAGING/CPX - Box Forming Machine",
          "GENERAL PROCUREMENT/PROFESSIONAL SERVICES/LEGAL & TAX SERVICES",
          "TECHNICAL PROCUREMENT/INFRASTRUCTURE & INDUSTRIAL/LABORATORY EQUIPMENT AND SERVICES/Laboratory",
          "GENERAL PROCUREMENT/WORKPLACE SERVICES/FOOD SERVICES (LOCAL)",
          "SUPPLY CHAIN/WAREHOUSING/HANDLING",
          "GENERAL PROCUREMENT/WORKPLACE SERVICES/FOOD SERVICES",
          "TECHNICAL PROCUREMENT/ENERGY/ENERGY FOR INDUSTRIAL PLANT/Fuel for industrial plant",
          "TECHNICAL PROCUREMENT/PROCESS EQUIPMENT/PRIMARY PACKAGING/CPX - Counter and filling machine",
          "GENERAL PROCUREMENT/MARKETING SERVICES/LICENSING & RIGHTS",
          "TECHNICAL PROCUREMENT/PROCESS EQUIPMENT/WAREHOUSE & LOGISTIC/CPX - Conveying Systems",
          "GENERAL PROCUREMENT/MOBILITY/FLEET",
          "GENERAL PROCUREMENT/WORKPLACE SERVICES/MAINTENANCE & IMPROVEMENTS",
          "GENERAL PROCUREMENT/WORKPLACE SERVICES/MAINTENANCE & IMPROVEMENTS (LOCAL)",
          "TECHNICAL PROCUREMENT/INFRASTRUCTURE & INDUSTRIAL/FACILITY MANAGEMENT SOFTSERVICES FOR INDUSTRIAL LOCATIONS",
          "GENERAL PROCUREMENT/SALES SERVICES/GADGETS",
          "TECHNICAL PROCUREMENT/AUTOMATION & MRO/TECHNICAL MATERIALS, PPE & CLOTHES/ELECTRIC MOTORS AND DRIVES",
          "TECHNICAL PROCUREMENT/PROCESS EQUIPMENT/MOLDING & OVENS/CPX - Dosing & Enrobing",
          "GENERAL PROCUREMENT/PEOPLE SERVICES/EVENTS",
          "SUPPLY CHAIN/WAREHOUSING/HANDLING/Forklift And Machinery Rentals (Ops)",
          "GENERAL PROCUREMENT/WORKPLACE SERVICES/SECURITY/Fraud Management",
          "TECHNICAL PROCUREMENT/AUTOMATION & MRO/TECHNICAL MATERIALS, PPE & CLOTHES/Lighting",
          "GENERAL PROCUREMENT/MARKETING SERVICES/LICENSING & RIGHTS/Licensing - Music TRADITIONAL",
          "TECHNICAL PROCUREMENT/AUTOMATION & MRO/TECHNICAL MATERIALS, PPE & CLOTHES/WORKSHOP TOOLS",
          "SUPPLY CHAIN/WAREHOUSING/WAREHOUSING LOCATION & LEASING/Warehouse Rent",
          "GENERAL PROCUREMENT/MARKETING SERVICES/LICENSING & RIGHTS/Licensing - Music DIGITAL",
          "TECHNICAL PROCUREMENT/PROCESS EQUIPMENT/STANDALONE EQUIPMENT/CPX - Metal detector",
          "GENERAL PROCUREMENT/WORKPLACE SERVICES/MAINTENANCE & IMPROVEMENTS/Waste treatment, recycling and disposal services",
          "TECHNICAL PROCUREMENT/AUTOMATION & MRO/TECHNICAL MATERIALS, PPE & CLOTHES/Water for industrial plant",
          "TECHNICAL PROCUREMENT/PROCESS EQUIPMENT/PREPARATION/CPX - Liquid Handling & Processing",
          "TECHNICAL PROCUREMENT/AUTOMATION & MRO/TECHNICAL MATERIALS, PPE & CLOTHES/Wheels",
          "GENERAL PROCUREMENT/MARKETING SERVICES/LICENSING & RIGHTS/Licensing - Brands & Content DIGITAL",
          "GENERAL PROCUREMENT/PEOPLE SERVICES/EVENTS (LOCAL)",
          "TECHNICAL PROCUREMENT/PROCESS EQUIPMENT/MOLDING & OVENS/CPX - Handling Systems",
          "TECHNICAL PROCUREMENT/PROCESS EQUIPMENT/STANDALONE EQUIPMENT/CPX - Gluing machine",
          "GENERAL PROCUREMENT/WORKPLACE SERVICES/CLEANING (LOCAL)",
          "GENERAL PROCUREMENT/SALES SERVICES/COMMERCIAL QUALITY AND FRESHNESS",
          "GENERAL PROCUREMENT/PROFESSIONAL SERVICES/CONSULTANCY SERVICES",
          "TECHNICAL PROCUREMENT/PROCESS EQUIPMENT/NUTS EQUIPMENT & AGRI MOBILE MACHINE/CPX - General Contractor",
          "GENERAL PROCUREMENT/PROFESSIONAL SERVICES/INSURANCE SERVICES/Liability (Insurance)",
          "TECHNICAL PROCUREMENT/PROCESS EQUIPMENT/WAREHOUSE & LOGISTIC/CPX - Forklifts (Buy)",
          "GENERAL PROCUREMENT/MARKETING SERVICES/CREATIVE DEVELOPMENT & STRATEGY",
          "TECHNICAL PROCUREMENT/AUTOMATION & MRO/TECHNICAL MATERIALS, PPE & CLOTHES/Levers",
          "GENERAL PROCUREMENT/SALES SERVICES/TECHNICAL DEVICES FOR POS/Fridges production and other tech devices for POS - CAPEX",
          "GENERAL PROCUREMENT/PEOPLE SERVICES/EMPLOYEE SERVICES (LOCAL)",
          "TECHNICAL PROCUREMENT/PROCESS EQUIPMENT/PREPARATION/CPX - Deodorizations",
          "TECHNICAL PROCUREMENT/ENERGY/ENERGY FOR INDUSTRIAL PLANT",
          "GENERAL PROCUREMENT/PROFESSIONAL SERVICES/CERTIFICATIONS",
          "TECHNICAL PROCUREMENT/AUTOMATION & MRO/MAINTENANCE SERVICES",
          "GENERAL PROCUREMENT/SALES SERVICES/OTHER SALES SERVICES",
          "TECHNICAL PROCUREMENT/PROCESS EQUIPMENT/MOLDING & OVENS/CPX - Basin",
          "GENERAL PROCUREMENT/PEOPLE SERVICES/TEMPORARY PERSONNEL",
          "GENERAL PROCUREMENT/PEOPLE SERVICES/TRAINING",
          "GENERAL PROCUREMENT/PEOPLE SERVICES/TRAINING (LOCAL)",
          "GENERAL PROCUREMENT/WORKPLACE SERVICES/MAINTENANCE & IMPROVEMENTS/BUILDING MAINTENANCE",
          "TECHNICAL PROCUREMENT/AUTOMATION & MRO/TECHNICAL MATERIALS, PPE & CLOTHES/BRAKES AND CLUTCHES",
          "TECHNICAL PROCUREMENT/AUTOMATION & MRO/TECHNICAL MATERIALS, PPE & CLOTHES/BEARINGS AND LINEAR GUIDES",
          "TECHNICAL PROCUREMENT/PROCESS EQUIPMENT/WAREHOUSE & LOGISTIC",
          "TECHNICAL PROCUREMENT/AUTOMATION & MRO/TECHNICAL MATERIALS, PPE & CLOTHES/Axes/shafts",
          "SUPPLY CHAIN/CUSTOM BROKERAGE & FORWARDING AGENCIES",
          "TECHNICAL PROCUREMENT/AUTOMATION & MRO/INDUSTRIAL AUTOMATION AND ROBOTICS/Automation Technical Materials",
          "SUPPLY CHAIN/WAREHOUSING/HANDLING/Handling Finish Products",
          "SUPPLY CHAIN/WAREHOUSING/HANDLING/Handling Services",
          "GENERAL PROCUREMENT/IT - INFORMATION TECHNOLOGY/SERVICES - T&M/BODY LEASING/Applications Development T&M CAPEX",
          "GENERAL PROCUREMENT/IT - INFORMATION TECHNOLOGY/HARDWARE - PURCHASE/LEASING/MAINTENANCE/Hardware - Purchase for Videoconference devices",
          "GENERAL PROCUREMENT/IT - INFORMATION TECHNOLOGY/HARDWARE - PURCHASE/LEASING/MAINTENANCE/Hardware - Purchase for Mobile devices",
          "GENERAL PROCUREMENT/MARKETING SERVICES/MARKET MEASUREMENT/Ad hoc reports/analysis on syndicated data (excl RMS)",
          "GENERAL PROCUREMENT/PEOPLE SERVICES",
          "SUPPLY CHAIN/PRIMARY TRANSPORTS",
          "TECHNICAL PROCUREMENT/PROCESS EQUIPMENT",
          "GENERAL PROCUREMENT/SALES SERVICES",
          "GENERAL PROCUREMENT/IT - INFORMATION TECHNOLOGY/HARDWARE - PURCHASE/LEASING/MAINTENANCE/Hardware - Purchase Server&Storage CAPEX",
          "GENERAL PROCUREMENT/IT - INFORMATION TECHNOLOGY/HARDWARE - PURCHASE/LEASING/MAINTENANCE/Hardware - Leasing High Value Server&Storage (>5000$)",
          "SUPPLY CHAIN/WAREHOUSING",
          "GENERAL PROCUREMENT/WORKPLACE SERVICES",
          "GENERAL PROCUREMENT/IT - INFORMATION TECHNOLOGY/SERVICES - MANAGED SERVICE/1st Level Support Outsourcing Applications",
          "TECHNICAL PROCUREMENT/AUTOMATION & MRO/TECHNICAL MATERIALS, PPE & CLOTHES",
          "GENERAL PROCUREMENT/SALES SERVICES/TECHNICAL DEVICES FOR POS",
          "GENERAL PROCUREMENT/SALES SERVICES/MERCHANDISING & HOSTESS & BROKER COMMISSIONS/Hostess services",
          "GENERAL PROCUREMENT/PROFESSIONAL SERVICES/SUBSCRIPTIONS/MEMBERSHIPS",
          "GENERAL PROCUREMENT/MARKETING SERVICES/PUBLIC RELATIONS/Institutional Expenses",
          "TECHNICAL PROCUREMENT/PROCESS EQUIPMENT/MOLDING & OVENS",
          "TECHNICAL PROCUREMENT/PROCESS EQUIPMENT/WAREHOUSE & LOGISTIC/CPX - Automatic Warehouses",
          "TECHNICAL PROCUREMENT/PROCESS EQUIPMENT/NUTS EQUIPMENT & AGRI MOBILE MACHINE/CPX - Agri mobile machine (tractor, harvester)",
          "SUPPLY CHAIN/PALLETTS PURCHASING/PALLETTS PURCHASING MTL",
          "TECHNICAL PROCUREMENT/INFRASTRUCTURE & INDUSTRIAL/LABORATORY EQUIPMENT AND SERVICES/CHEMICAL MATERIAL",
          "TECHNICAL PROCUREMENT/AUTOMATION & MRO/TECHNICAL MATERIALS, PPE & CLOTHES/GEARS",
          "GENERAL PROCUREMENT/SALES SERVICES/POS MATERIAL/In/Out Theatrical Materials Production - Standard",
          "GENERAL PROCUREMENT/SALES SERVICES/POS MATERIAL",
          "TECHNICAL PROCUREMENT/AUTOMATION & MRO/TECHNICAL MATERIALS, PPE & CLOTHES/Gas Consumables",
          "GENERAL PROCUREMENT/SALES SERVICES/POS MATERIAL/In/Out Functional Display Production - Standard",
          "GENERAL PROCUREMENT/WORKPLACE SERVICES/MAINTENANCE & IMPROVEMENTS/Building owned - Improvements & equipment cost",
          "TECHNICAL PROCUREMENT/INFRASTRUCTURE & INDUSTRIAL/FACILITY MANAGEMENT HARDSERVICES FOR INDUSTRIAL LOCATIONS/Integrated Facility Maintenance",
          "GENERAL PROCUREMENT/SALES SERVICES/PROMOTIONAL ITEMS",
          "GENERAL PROCUREMENT/WORKPLACE SERVICES/REAL ESTATE (LOCAL)",
          "GENERAL PROCUREMENT/PEOPLE SERVICES/RELOCATION",
          "TECHNICAL PROCUREMENT/AUTOMATION & MRO/TECHNICAL MATERIALS, PPE & CLOTHES/Brushes",
          "GENERAL PROCUREMENT/SALES SERVICES/MARKETING EVENTS/Brand promotion events",
          "TECHNICAL PROCUREMENT/PROCESS EQUIPMENT/SECONDARY PACKAGING",
          "GENERAL PROCUREMENT/WORKPLACE SERVICES/SECURITY",
          "GENERAL PROCUREMENT/WORKPLACE SERVICES/SECURITY (LOCAL)",
          "TECHNICAL PROCUREMENT/AUTOMATION & MRO/TECHNICAL MATERIALS, PPE & CLOTHES/Generic consumables",
          "GENERAL PROCUREMENT/IT - INFORMATION TECHNOLOGY/SOFTWARE - MAINTENANCE FOR PERPETUAL LICENSES",
          "GENERAL PROCUREMENT/IT - INFORMATION TECHNOLOGY/SOFTWARE - SUBSCRIPTIONS/LICENSES",
          "TECHNICAL PROCUREMENT/PROCESS EQUIPMENT/STANDALONE EQUIPMENT",
          "SUPPLY CHAIN/WAREHOUSING/STORAGE",
          "GENERAL PROCUREMENT/WORKPLACE SERVICES/REAL ESTATE",
          "GENERAL PROCUREMENT/WORKPLACE SERVICES/UTILITIES/Utilities - Electric Energy for Offices",
          "TECHNICAL PROCUREMENT/AUTOMATION & MRO/MAINTENANCE SERVICES/Maintenace service not depreciable (Maintenance Order)",
          "GENERAL PROCUREMENT/MOBILITY/TRAVEL/Transportation - Short-term Rental Cars",
          "GENERAL PROCUREMENT/PEOPLE SERVICES/EVENTS/Corporate event Expenses",
          "GENERAL PROCUREMENT/IT - INFORMATION TECHNOLOGY/SERVICES - T&M/BODY LEASING/Corporate IT Management, Finance and Administration T&M",
          "GENERAL PROCUREMENT/IT - INFORMATION TECHNOLOGY/SOFTWARE - SUBSCRIPTIONS/LICENSES/Purchase Applications Licenses",
          "GENERAL PROCUREMENT/PEOPLE SERVICES/EMPLOYEE SERVICES/Employees Transport Services",
          "GENERAL PROCUREMENT/MARKETING SERVICES/MARKET MEASUREMENT/Consumer panel on-going subscriptions",
          "GENERAL PROCUREMENT/WORKPLACE SERVICES/REAL ESTATE/Real Estate Office Lease",
          "GENERAL PROCUREMENT/PEOPLE SERVICES/EMPLOYEE SERVICES/Employees event and social activities cost",
          "GENERAL PROCUREMENT/WORKPLACE SERVICES/REAL ESTATE/Real estate Retail lease",
          "TECHNICAL PROCUREMENT/AUTOMATION & MRO/TECHNICAL MATERIALS, PPE & CLOTHES/Computer (process)",
          "GENERAL PROCUREMENT/MOBILITY/FLEET/Company Vehicles - Purchase",
          "GENERAL PROCUREMENT/PEOPLE SERVICES/RELOCATION/Employees relocation services",
          "GENERAL PROCUREMENT/MOBILITY/FLEET/Company Vehicles - Management costs",
          "TECHNICAL PROCUREMENT/AUTOMATION & MRO/TECHNICAL MATERIALS, PPE & CLOTHES/Couplings",
          "SUPPLY CHAIN/PALLETTS RENT & LEASE/PALLETTS RENT & LEASE SVC/Rental 80x120 Pallets",
          "SUPPLY CHAIN/PRIMARY TRANSPORTS/OTHER LOGISTICS COSTS/OTHER LOGISTIC COSTS",
          "GENERAL PROCUREMENT/MOBILITY/FLEET/Company Vehicles - Lease",
          "GENERAL PROCUREMENT/MOBILITY/FLEET/Company Vehicles - Fuel, Oil and other",
          "GENERAL PROCUREMENT/MARKETING SERVICES/CONSUMER RESEARCH (AD-HOC)/Research activities to assess the ADV/Communication Perf.",
          "GENERAL PROCUREMENT/MARKETING SERVICES/CONSUMER RESEARCH (AD-HOC)/Researches to understand Consumers, Shopper, Markets",
          "GENERAL PROCUREMENT/SALES SERVICES/OTHER SALES SERVICES/Retail Data monitoring",
          "GENERAL PROCUREMENT/SALES SERVICES/POS MATERIAL/Communication POS material Production",
          "GENERAL PROCUREMENT/IT - INFORMATION TECHNOLOGY/SERVICES - T&M/BODY LEASING/End-User Computing T&M",
          "SUPPLY CHAIN/PRIMARY TRANSPORTS/ROAD TRANSPORT/Road Finish Products",
          "SUPPLY CHAIN/PRIMARY TRANSPORTS/ROAD TRANSPORT/Road Packaging",
          "SUPPLY CHAIN/PRIMARY TRANSPORTS/ROAD TRANSPORT/Road Transportation",
          "GENERAL PROCUREMENT/IT - INFORMATION TECHNOLOGY/SOFTWARE - SUBSCRIPTIONS/LICENSES/Cloud License Application Maintenance",
          "SUPPLY CHAIN/PALLETTS RENT & LEASE/PALLETTS RENT & LEASE SVC/Rental Industrial 100x120 Pallets",
          "TECHNICAL PROCUREMENT/INFRASTRUCTURE & INDUSTRIAL/INFRASTRUCTURE/Property acquisition",
          "GENERAL PROCUREMENT/PROFESSIONAL SERVICES/INSURANCE SERVICES/Optional insurance employees",
          "GENERAL PROCUREMENT/MARKETING SERVICES/PRODUCTION/Production of Advertising Content TRADITIONAL-OOH,Static",
          "GENERAL PROCUREMENT/SALES SERVICES/POS MATERIAL/POS material Molds, Toolings, Die Cuts CAPEX",
          "TECHNICAL PROCUREMENT/AUTOMATION & MRO/TECHNICAL MATERIALS, PPE & CLOTHES/ELECTRICAL / ELECTRONICAL COMPONENTS",
          "GENERAL PROCUREMENT/PEOPLE SERVICES/EMPLOYEE SERVICES/Donations to employees",
          "GENERAL PROCUREMENT/PROFESSIONAL SERVICES/ADMINISTRATIVE SERVICES/Outsourcing of administrative services (bpo)",
          "GENERAL PROCUREMENT/SALES SERVICES/POS MATERIAL/PROMOTIONAL POINT OF SALE",
          "GENERAL PROCUREMENT/PROFESSIONAL SERVICES/ADMINISTRATIVE SERVICES/Other auditing",
          "GENERAL PROCUREMENT/MARKETING SERVICES/CREATIVE DESIGN/Packaging & POS - Creative Concept",
          "GENERAL PROCUREMENT/MARKETING SERVICES/CREATIVE DESIGN/Packaging & POS - Mockups / Samples",
          "TECHNICAL PROCUREMENT/AUTOMATION & MRO/TECHNICAL MATERIALS, PPE & CLOTHES/Paint",
          "GENERAL PROCUREMENT/MARKETING SERVICES/MARKET MEASUREMENT/Panel SPE management",
          "TECHNICAL PROCUREMENT/AUTOMATION & MRO/TECHNICAL MATERIALS, PPE & CLOTHES/Dampers",
          "TECHNICAL PROCUREMENT/AUTOMATION & MRO/TECHNICAL MATERIALS, PPE & CLOTHES/Cutting tools",
          "TECHNICAL PROCUREMENT/INFRASTRUCTURE & INDUSTRIAL/FACILITY MANAGEMENT SOFTSERVICES FOR INDUSTRIAL LOCATIONS/Pest Control",
          "TECHNICAL PROCUREMENT/AUTOMATION & MRO/TECHNICAL MATERIALS, PPE & CLOTHES/Other Materials Immediate Use for Production Assistance",
          "SUPPLY CHAIN/WAREHOUSING/PICKING/Picking Finish Products",
          "SUPPLY CHAIN/CUSTOM BROKERAGE & FORWARDING AGENCIES/FREIGHT FORWARDING AGENCIES/Customs Docum./Forwarder Services SEMI-FINISHED GOODS",
          "TECHNICAL PROCUREMENT/INFRASTRUCTURE & INDUSTRIAL/INFRASTRUCTURE/Plant Utilities EaaS (Equipment as a Service)",
          "GENERAL PROCUREMENT/WORKPLACE SERVICES/SECURITY/Porter and reception services",
          "GENERAL PROCUREMENT/MARKETING SERVICES/PRODUCTION/Post-Production of Advertising Content DIGITAL",
          "SUPPLY CHAIN/CUSTOM BROKERAGE & FORWARDING AGENCIES/FREIGHT FORWARDING AGENCIES/Customs Docum./Forwarder Services RAW MATERIALS",
          "GENERAL PROCUREMENT/WORKPLACE SERVICES/OFFICE SUPPLIES AND SERVICES/Postage & Couriers Fees",
          "GENERAL PROCUREMENT/WORKPLACE SERVICES/OFFICE SUPPLIES AND SERVICES/Printing Supplies",
          "GENERAL PROCUREMENT/WORKPLACE SERVICES/OFFICE SUPPLIES AND SERVICES/Printing, photography and videomaking services",
          "SUPPLY CHAIN/CUSTOM BROKERAGE & FORWARDING AGENCIES/FREIGHT FORWARDING AGENCIES/Customs Docum./Forwarder Services Packaging",
          "TECHNICAL PROCUREMENT/AUTOMATION & MRO/TECHNICAL MATERIALS, PPE & CLOTHES/Other Materials Immediate Use for Maintenance Plant",
          "GENERAL PROCUREMENT/WORKPLACE SERVICES/OFFICE SUPPLIES AND SERVICES/Other Consumables, Material and Small Supplies",
          "GENERAL PROCUREMENT/MARKETING SERVICES/PRODUCTION/Production of Advertising Content TRADITIONAL - TVC",
          "GENERAL PROCUREMENT/WORKPLACE SERVICES/CLEANING/Cleaning, Waste,Pest Services and Material for No Industrial",
          "TECHNICAL PROCUREMENT/INFRASTRUCTURE & INDUSTRIAL/FACILITY MANAGEMENT SOFTSERVICES FOR INDUSTRIAL LOCATIONS/Cleaning Consultancy and Services",
          "TECHNICAL PROCUREMENT/ENERGY/ENERGY CERTIFICATES/Energy certifications for gas",
          "TECHNICAL PROCUREMENT/AUTOMATION & MRO/TECHNICAL MATERIALS, PPE & CLOTHES/SPECIFIC DRAWING COMPONENTS",
          "GENERAL PROCUREMENT/WORKPLACE SERVICES/CLEANING (LOCAL)/TR - Cleaning services (GenProd)",
          "GENERAL PROCUREMENT/ENERGY AND UTILITIES FOR OFFICES/UTILITIES FOR OFFICES (LOCAL)/TR - ELECTRICITY (GENADM)",
          "TECHNICAL PROCUREMENT/AUTOMATION & MRO/TECHNICAL MATERIALS, PPE & CLOTHES/FIXING ELEMENTS",
          "TECHNICAL PROCUREMENT/PROCESS EQUIPMENT/MOLDING & OVENS/CPX - Thermic tunnels",
          "GENERAL PROCUREMENT/WORKPLACE SERVICES/MAINTENANCE & IMPROVEMENTS (LOCAL)/TR - Handyman services (GenAdm)",
          "TECHNICAL PROCUREMENT/PROCESS EQUIPMENT/MOLDING & OVENS/CPX - Tempering",
          "GENERAL PROCUREMENT/WORKPLACE SERVICES/OFFICE SUPPLIES AND SERVICES (LOCAL)/TR - Office supplies (GenAdm)",
          "TECHNICAL PROCUREMENT/PROCESS EQUIPMENT/PREPARATION/CPX - Tanks (incl. mixer, plastificators)",
          "GENERAL PROCUREMENT/WORKPLACE SERVICES/SECURITY/Manned guarding services",
          "GENERAL PROCUREMENT/WORKPLACE SERVICES/OFFICE SUPPLIES AND SERVICES (LOCAL)/TR - Postage & Couriers Fees (GenAdm)",
          "TECHNICAL PROCUREMENT/PROCESS EQUIPMENT/NUTS EQUIPMENT & AGRI MOBILE MACHINE/CPX - Silos",
          "TECHNICAL PROCUREMENT/AUTOMATION & MRO/TECHNICAL MATERIALS, PPE & CLOTHES/Fans",
          "TECHNICAL PROCUREMENT/AUTOMATION & MRO/MAINTENANCE SERVICES/CPX - Services in project scope",
          "GENERAL PROCUREMENT/WORKPLACE SERVICES/OFFICE SUPPLIES AND SERVICES (LOCAL)/TR - Small Furniture - Opex (GenProd)",
          "GENERAL PROCUREMENT/PEOPLE SERVICES/TRAINING (LOCAL)/TR - Training costs of personnel (GenProd)",
          "GENERAL PROCUREMENT/ENERGY AND UTILITIES FOR OFFICES/UTILITIES FOR OFFICES (LOCAL)/TR - WATER (GENADM)",
          "GENERAL PROCUREMENT/ENERGY AND UTILITIES FOR OFFICES/UTILITIES FOR OFFICES (LOCAL)/TR - WATER (GENPROD)",
          "TECHNICAL PROCUREMENT/PROCESS EQUIPMENT/WAREHOUSE & LOGISTIC/TR-Specific Mtl For Warehouse, Lift And Handl. Equip.(S-Wh)",
          "TECHNICAL PROCUREMENT/PROCESS EQUIPMENT/PREPARATION/CPX - Roaster",
          "TECHNICAL PROCUREMENT/INFRASTRUCTURE & INDUSTRIAL/LABORATORY EQUIPMENT AND SERVICES/Maintenance And Services On Laboratory Equipments",
          "TECHNICAL PROCUREMENT/INFRASTRUCTURE & INDUSTRIAL/LABORATORY EQUIPMENT AND SERVICES/Technical Consultancy And External Lab Analysis",
          "TECHNICAL PROCUREMENT/INFRASTRUCTURE & INDUSTRIAL/B&U PROFESSIONAL SERVICES/Technical certifications, engineering-related consulting(TS)",
          "GENERAL PROCUREMENT/PROFESSIONAL SERVICES/CONSULTANCY SERVICES/M&A related consultancies",
          "TECHNICAL PROCUREMENT/PROCESS EQUIPMENT/PREPARATION/CPX - Powder handling & processing",
          "GENERAL PROCUREMENT/PROFESSIONAL SERVICES/ADMINISTRATIVE SERVICES/Financial Audit",
          "GENERAL PROCUREMENT/MOBILITY/TRAVEL/Long stay accommodation",
          "TECHNICAL PROCUREMENT/PROCESS EQUIPMENT/SECONDARY PACKAGING/CPX - Pal- & Depalletizers",
          "GENERAL PROCUREMENT/WORKPLACE SERVICES/CLEANING (LOCAL)/TR - Cleaning services (GenAdm)",
          "TECHNICAL PROCUREMENT/PROCESS EQUIPMENT/PRIMARY PACKAGING/CPX - Packaging: Ferrero Design & Build",
          "GENERAL PROCUREMENT/WORKPLACE SERVICES/FOOD SERVICES (LOCAL)/TR - Canteen Services (GenProd)",
          "TECHNICAL PROCUREMENT/PROCESS EQUIPMENT/WAREHOUSE & LOGISTIC/CPX - Warehousing - Racks",
          "GENERAL PROCUREMENT/SALES SERVICES/TECHNICAL DEVICES FOR POS/Check Out Display Production",
          "GENERAL PROCUREMENT/PROFESSIONAL SERVICES/INSURANCE SERVICES/SUNDRY INSURANCE",
          "TECHNICAL PROCUREMENT/AUTOMATION & MRO/TECHNICAL MATERIALS, PPE & CLOTHES/Chains",
          "GENERAL PROCUREMENT/SALES SERVICES/OTHER SALES SERVICES/Sales and B2B Events",
          "TECHNICAL PROCUREMENT/ENERGY/ENERGY CERTIFICATES/Energy certifications for power",
          "TECHNICAL PROCUREMENT/AUTOMATION & MRO/TECHNICAL MATERIALS, PPE & CLOTHES/Screws",
          "SUPPLY CHAIN/PRIMARY TRANSPORTS/SEA TRANSPORT/Sea Finish Products",
          "TECHNICAL PROCUREMENT/PROCESS EQUIPMENT/NUTS EQUIPMENT & AGRI MOBILE MACHINE/OPX - Agri Mobile Machine (Tractor, Harvester)",
          "TECHNICAL PROCUREMENT/INFRASTRUCTURE & INDUSTRIAL/INFRASTRUCTURE/CPX: Waste Water & Gas Treatment",
          "GENERAL PROCUREMENT/SALES SERVICES/TECHNICAL DEVICES FOR POS/Services for fridge and other tech devices for Point of Sale",
          "TECHNICAL PROCUREMENT/INFRASTRUCTURE & INDUSTRIAL/INFRASTRUCTURE/CPX: Mechanical Equipment & Installation",
          "GENERAL PROCUREMENT/MARKETING SERVICES/DIGITAL & SOCIAL MEDIA MARKETING/Social Media Management",
          "TECHNICAL PROCUREMENT/AUTOMATION & MRO/TECHNICAL MATERIALS, PPE & CLOTHES/Spare Parts - Conveyors",
          "TECHNICAL PROCUREMENT/AUTOMATION & MRO/TECHNICAL MATERIALS, PPE & CLOTHES/Spare Parts Utilities",
          "TECHNICAL PROCUREMENT/AUTOMATION & MRO/TECHNICAL MATERIALS, PPE & CLOTHES/Spare parts kits",
          "TECHNICAL PROCUREMENT/AUTOMATION & MRO/TECHNICAL MATERIALS, PPE & CLOTHES/Not cod - PPE, Safety Work Products, Fire Protection",
          "GENERAL PROCUREMENT/PROFESSIONAL SERVICES/CERTIFICATIONS/Standard certifications",
          "GENERAL PROCUREMENT/IT - INFORMATION TECHNOLOGY/HARDWARE - PURCHASE/LEASING/MAINTENANCE/Hardware - Maintenance",
          "SUPPLY CHAIN/PALLETTS PURCHASING/PALLETTS PURCHASING MTL/Epal 80x120 Pallets Used 1st Choice",
          "TECHNICAL PROCUREMENT/INFRASTRUCTURE & INDUSTRIAL/INFRASTRUCTURE/CPX: Civil Equipment / Works",
          "GENERAL PROCUREMENT/IT - INFORMATION TECHNOLOGY/SOFTWARE - SUBSCRIPTIONS/LICENSES/Subscription Voice and Data Network (IaaS)",
          "TECHNICAL PROCUREMENT/AUTOMATION & MRO/INDUSTRIAL AUTOMATION AND ROBOTICS/CPX Industrial robotic application system",
          "TECHNICAL PROCUREMENT/AUTOMATION & MRO/TECHNICAL MATERIALS, PPE & CLOTHES/Suction cups",
          "GENERAL PROCUREMENT/MARKETING SERVICES/CREATIVE DESIGN/Surprises - Creative Concepts TRADITIONAL",
          "GENERAL PROCUREMENT/MARKETING SERVICES/CREATIVE DESIGN/Surprises - Marketing Sheets",
          "GENERAL PROCUREMENT/MARKETING SERVICES/CREATIVE DESIGN/Surprises - Technical Development",
          "TECHNICAL PROCUREMENT/PROCESS EQUIPMENT/PRIMARY PACKAGING/CPX - Wrapping machines",
          "TECHNICAL PROCUREMENT/INFRASTRUCTURE & INDUSTRIAL/FACILITY MANAGEMENT HARDSERVICES FOR INDUSTRIAL LOCATIONS/Mechanical maintenance",
          "TECHNICAL PROCUREMENT/AUTOMATION & MRO/TECHNICAL MATERIALS, PPE & CLOTHES/Other Spare parts (not codified, catalogues items)"
         ],
         "labels": [
          "1/4 Wood Pallets",
          "Public relation costs",
          "Property Cost Estimation & Acquisition",
          "Promotional items (including consumer giveaway)",
          "Production of Advertising Content TRADITIONAL - Radio",
          "Production of Advertising Content DIGITAL",
          "Process Engineering professional services",
          "Post-Production of Advertising Content TRADITIONAL",
          "Picking Services",
          "Physical and Supply Chain security",
          "Pulleys",
          "Personal Insurance",
          "People Security Services",
          "Packaging & POS - Artwork, Technical finalization&Templates",
          "PRODUCTION TOOLS",
          "PRINTERS SPARE PARTS",
          "PRINTERS CONSUMABLES",
          "PR Digital Activities & Tools",
          "PR Communication Strategy, Advisory, Issues Management",
          "POS materials Storage and Logistic",
          "POS material Development & Sampling",
          "Permanent Materials Production - Secondary Placement",
          "PHOTOCELLS AND PROXIMITY SWITCHES",
          "Pumps",
          "RECRUITMENT",
          "Sea Transportation Export Fees Costs",
          "School & Kinder garden fees",
          "Safety supplies",
          "SPROCKET WHEELS",
          "SPARE PARTS FOR GAS PLANTS",
          "SEO/SEM",
          "Rollers",
          "Road Transportation Finished Products Export Costs",
          "Rigid pipes",
          "Purchase of product sampling",
          "Rights buyout-Authors,Artists,Performers,Personality TRADI",
          "Retail Panels DB",
          "Research activities for qualifying Innovation initiatives",
          "Research & Development cost",
          "Rental Services Fee",
          "Rental 1/4 Plastic Pallets",
          "Rental 1/2 Plastic Pallets",
          "Recreation employees benefits",
          "Real estate others (no industrial, no supply chain)",
          "Real Estate Short-Term Lease <12 Months",
          "Rights buyout-Authors,Artists,Performers,Personality DIGITAL",
          "PAYROLL SERVICES",
          "PALLETS",
          "Other travel services",
          "Licensing - Brands & Content TRADITIONAL",
          "Legal services",
          "Legal Advisory",
          "Laundry Services",
          "Job postings",
          "Influencers & Testimonials",
          "Infirmary",
          "Industrial Cleaning",
          "In/Out Theatrical Materials Production - Customized",
          "Local Small Building rent",
          "In/Out Functional Display Production - Customized",
          "In-Pack Gadgets_Commercial Co-Pack",
          "ITL - Spese di rappresentanza",
          "IT Service Desk T&M",
          "Hotel accommodation",
          "Heaters",
          "Health and Safety GP",
          "Health and Safety - Site Supervision",
          "Hardware - Purchase Voice and Data Network CAPEX",
          "Hardware - Purchase End-User Computing CAPEX",
          "In-Pack Gadgets_Industrial co-pack",
          "Locks, Handles",
          "Long Stay Relocation",
          "Lubricants",
          "Other syndicated subscriptions (excluding RMS, CPS)",
          "Other research activities on consumer, shopper and citizen",
          "SUPPLY CHAIN",
          "Office supplies",
          "Office machines & equipment - Maintenance",
          "Office machines & equipment - Investment",
          "Office Furniture - Capex",
          "OPX - Software, Licence Fee, Assistance",
          "OPX - Retrofit/revamping of an equipment or line",
          "OPX - Ordinary Maintenance",
          "OPX - Forklifts (Rental & Service)",
          "OPX - Extraordinary Maintenance",
          "Not codified - Clothes & Uniforms, Safety Shoes",
          "No Commercial Sponsorships",
          "NGO, Donations",
          "Merchandising services",
          "Medical Services",
          "Media Relations, Membership & Partnership",
          "Measure devices and Control instruments",
          "Maintenance Server&Storage Software",
          "Maintenance Application Software",
          "Security technology",
          "Services Gadget",
          "Site supervision",
          "Specific Material For Utilities Machinery And Equipment",
          "PUBLIC RELATIONS",
          "PRODUCTION",
          "PRIMARY PACKAGING",
          "PREPARATION",
          "PICKING",
          "PAYROLL",
          "PALLETTS RENT & LEASE SVC",
          "OTHER LOGISTICS COSTS",
          "OFFICE SUPPLIES AND SERVICES (LOCAL)",
          "RECRUITMENT SERVICE",
          "OFFICE SUPPLIES AND SERVICES",
          "MERCHANDISING & HOSTESS & BROKER COMMISSIONS",
          "MARKETING EVENTS",
          "MARKET MEASUREMENT",
          "LABORATORY EQUIPMENT AND SERVICES",
          "INSURANCE SERVICES",
          "INFRASTRUCTURE",
          "INDUSTRIAL AUTOMATION AND ROBOTICS",
          "HARDWARE - PURCHASE/LEASING/MAINTENANCE",
          "FREIGHT FORWARDING AGENCIES",
          "NUTS EQUIPMENT & AGRI MOBILE MACHINE",
          "RETAIL PANELS",
          "ROAD TRANSPORT",
          "SEA TRANSPORT",
          "GENERAL PROCUREMENT",
          "SURPRISE L2",
          "SECONDARY FREIGHT",
          "PROFESSIONAL SERVICES",
          "PALLETTS RENT & LEASE",
          "PALLETTS PURCHASING",
          "MOBILITY",
          "MARKETING SERVICES",
          "IT - INFORMATION TECHNOLOGY",
          "INFRASTRUCTURE & INDUSTRIAL",
          "ENERGY AND UTILITIES FOR OFFICES",
          "ENERGY",
          "AUTOMATION & MRO",
          "WAREHOUSING LOCATION & LEASING",
          "UTILITIES FOR OFFICES (LOCAL)",
          "UTILITIES",
          "TRAVEL",
          "SURPRISE L3",
          "SPONSORING",
          "SERVICES - T&M/BODY LEASING",
          "SERVICES - MANAGED SERVICE",
          "FACILITY MANAGEMENT HARDSERVICES FOR INDUSTRIAL LOCATIONS",
          "Hardware - Maintenance Voice and Data Network",
          "ENERGY CERTIFICATES",
          "DISTRIBUTION",
          "TR - Tolls and parking",
          "TR - Small Furniture - Opex (GenAdm)",
          "TR - Real Estate Office Lease (GenAdm)",
          "TR - Postage & Couriers Fees (GenProd)",
          "TR - People Security (GenAdm)",
          "TR - Office supplies (GenProd)",
          "TR - Health and Safety (GenProd)",
          "TR - Ground and green areas maintenance (GenAdm)",
          "TR - ELECTRICITY (GENPROD)",
          "Tax & Customs Services Cost",
          "TR - Canteen Services (GenAdm)",
          "TICKETS RESTAURANT",
          "Surprises - Creative Concepts DIGITAL",
          "Subscriptions on Retail panels (license fees)",
          "Subscriptions on Market measurement (license fees)",
          "Strategic, Managerial & organizational consulting",
          "Storage RAW MATERIALS",
          "Storage Mtl",
          "Storage Finish Products",
          "Springs",
          "TR - Archiving Services (GenAdm)",
          "Technical Cleaning material",
          "Temporary Personnels",
          "Testimonials Costs",
          "DIGITAL & SOCIAL MEDIA MARKETING",
          "CREATIVE DESIGN",
          "CONSUMERS PROMOTION ACTIVITIES",
          "CONSUMER RESEARCH (AD-HOC)",
          "CLEANING",
          "B&U PROFESSIONAL SERVICES",
          "ADMINISTRATIVE SERVICES",
          "Сonstruction",
          "Website / App Creation & Maintenance",
          "Waste Water Treatment Services",
          "Waste Management for industrial location",
          "Voice and Data Network Communications Outsourcing",
          "Vibrators",
          "Valves",
          "Utilities - Office Water",
          "Utilities - Office Gas",
          "Travel Agencies fees & services",
          "Transportation - Other",
          "Transportation - Flights",
          "Translations and interpreting services",
          "Training Design & Cost of Personal",
          "EMPLOYEE SERVICES",
          "Hardware - Maintenance Server&Storage",
          "TECHNICAL PROCUREMENT",
          "Hardware - Leasing Printers",
          "Cams",
          "CUSTOM DECLARATION SERVICES",
          "CPX: General Contractos",
          "CPX: Equipment",
          "CPX: Electrical Equipment & Installation",
          "CPX Technical Material",
          "CPX Electrical and Automation Cabinets",
          "Catering services",
          "CPX - X-Ray",
          "CPX - Thermoforming",
          "CPX - Sleeve & Shrink Machines",
          "CPX - Shellers",
          "CPX - Sealing machine",
          "CPX - Refiners (incl. prerefiners, conches, mills)",
          "CPX - Printer",
          "CPX - Pre-Cleaning/Drying/Vacuum system",
          "CPX - Vision & Cameras",
          "CPX - Plate Oven",
          "Civil maintenance",
          "Codified - Clothes & Uniforms, Safety Shoes",
          "Distribution to Customers and Returned Goods from Customers",
          "Discount Coupons",
          "Design Services",
          "Design & Management of non Digital Promotion",
          "Design & Management of Digital Promotion",
          "Cylinders",
          "Customs Docum./Forwarder Services Surprises",
          "Cod - PPE, Safety Work Products, Fire Protection",
          "Customs Docum./Forwarder Services Interm-Finished Prd-FI",
          "Creative Concept for Advertising Campaigns TRADITIONAL",
          "Creative Concept for Advertising Campaigns DIGITAL",
          "Control Tower Services",
          "Consumable",
          "Company Vehicles - Other vehicles",
          "Company Vehicles - Maintenance costs",
          "Commercial Quality and Freshness monitoring",
          "Customs Docum./Forwarder Services Finish Products",
          "Dosing nozzles",
          "CPX - Picker line",
          "CPX - Optical sorters",
          "Building owned - Improvements cost",
          "Building materials",
          "Building Third Party - Improvements & Equipment Cost",
          "Broker Commissions",
          "Brand & Communication Strategy",
          "Books, periodicals subscription (digital or not)",
          "Belts",
          "Business Association fees",
          "Batteries",
          "Archiving Services",
          "Applications Run and Maintenance T&M",
          "Applications Development - System Integration CAPEX",
          "Additional Services and Costs for Real Estate Lease",
          "Ad hoc reports/ analysis performed on Retail Panel DB",
          "2nd Level Support Outsourcing Technology",
          "1st Level Support Outsourcing Technology",
          "Automation professional services",
          "CPX - Oven",
          "CANTEEN SERVICES",
          "CONTROL INSTRUMENTS",
          "CPX - Molds and Forming Equipments",
          "CPX - Molding equipment",
          "CPX - Molding :  Ferrero Design & Build",
          "CPX - Metal structures and pipes",
          "CPX - Labellers",
          "CPX - Infeed (incl. raw distributor system / buffer)",
          "CPX - Forming, filling and closing",
          "CCTV",
          "CPX - Flow wrapper",
          "CPX - Conveyors,Elevators,Transports, Big Bag station",
          "CPX - Conveyors and Handling",
          "CPX - Cocoa Presses",
          "CPX - Check weigher",
          "CPX - Belts",
          "CPX - Bagging Machines",
          "CPX - Automation and Digital Software",
          "CPX - Dough Preparation",
          "E-commerce Advertising Creative Development",
          "CPX: Energy (Sustainability) / Investments",
          "Fridges lease/rent and other tech devices for point of Sale",
          "Ground and green areas maintenance,inclu industrial premises",
          "Extra-waiting RAW MATERIALS",
          "Entertainment expenses (No deductible)",
          "Gearboxes",
          "Extra Cost  Transpor Finished product",
          "Electronic cables",
          "Gaskets/Seals",
          "Events Sponsorships & Partnership",
          "Gas for Industrial Plant",
          "Fridges production and other tech devices for POS-excl CAPEX",
          "Employees tax services",
          "End-User Computing Mobile Management Outsourcing",
          "HYDRAULIC AND PNEUMATIC FITTINGS",
          "Filters",
          "Epal 80x120 Pallets New",
          "Glues",
          "E-commerce Advertising Production",
          "Function related / professional consultancy",
          "Electrical Maintenance",
          "Fuels",
          "EXPORT EXPENSES FOR",
          "Electric cables",
          "Electrical Energy for Industrial Plant",
          "Hardware - Leasing End-User Computing",
          "Flexible pipes",
          "GADGET",
          "Application Perpetual Licenses CAPEX",
          "CPX - Box Forming Machine",
          "LEGAL & TAX SERVICES",
          "Laboratory",
          "FOOD SERVICES (LOCAL)",
          "HANDLING",
          "FOOD SERVICES",
          "Fuel for industrial plant",
          "CPX - Counter and filling machine",
          "LICENSING & RIGHTS",
          "CPX - Conveying Systems",
          "FLEET",
          "MAINTENANCE & IMPROVEMENTS",
          "MAINTENANCE & IMPROVEMENTS (LOCAL)",
          "FACILITY MANAGEMENT SOFTSERVICES FOR INDUSTRIAL LOCATIONS",
          "GADGETS",
          "ELECTRIC MOTORS AND DRIVES",
          "CPX - Dosing & Enrobing",
          "EVENTS",
          "Forklift And Machinery Rentals (Ops)",
          "Fraud Management",
          "Lighting",
          "Licensing - Music TRADITIONAL",
          "WORKSHOP TOOLS",
          "Warehouse Rent",
          "Licensing - Music DIGITAL",
          "CPX - Metal detector",
          "Waste treatment, recycling and disposal services",
          "Water for industrial plant",
          "CPX - Liquid Handling & Processing",
          "Wheels",
          "Licensing - Brands & Content DIGITAL",
          "EVENTS (LOCAL)",
          "CPX - Handling Systems",
          "CPX - Gluing machine",
          "CLEANING (LOCAL)",
          "COMMERCIAL QUALITY AND FRESHNESS",
          "CONSULTANCY SERVICES",
          "CPX - General Contractor",
          "Liability (Insurance)",
          "CPX - Forklifts (Buy)",
          "CREATIVE DEVELOPMENT & STRATEGY",
          "Levers",
          "Fridges production and other tech devices for POS - CAPEX",
          "EMPLOYEE SERVICES (LOCAL)",
          "CPX - Deodorizations",
          "ENERGY FOR INDUSTRIAL PLANT",
          "CERTIFICATIONS",
          "MAINTENANCE SERVICES",
          "OTHER SALES SERVICES",
          "CPX - Basin",
          "TEMPORARY PERSONNEL",
          "TRAINING",
          "TRAINING (LOCAL)",
          "BUILDING MAINTENANCE",
          "BRAKES AND CLUTCHES",
          "BEARINGS AND LINEAR GUIDES",
          "WAREHOUSE & LOGISTIC",
          "Axes/shafts",
          "CUSTOM BROKERAGE & FORWARDING AGENCIES",
          "Automation Technical Materials",
          "Handling Finish Products",
          "Handling Services",
          "Applications Development T&M CAPEX",
          "Hardware - Purchase for Videoconference devices",
          "Hardware - Purchase for Mobile devices",
          "Ad hoc reports/analysis on syndicated data (excl RMS)",
          "PEOPLE SERVICES",
          "PRIMARY TRANSPORTS",
          "PROCESS EQUIPMENT",
          "SALES SERVICES",
          "Hardware - Purchase Server&Storage CAPEX",
          "Hardware - Leasing High Value Server&Storage (>5000$)",
          "WAREHOUSING",
          "WORKPLACE SERVICES",
          "1st Level Support Outsourcing Applications",
          "TECHNICAL MATERIALS, PPE & CLOTHES",
          "TECHNICAL DEVICES FOR POS",
          "Hostess services",
          "SUBSCRIPTIONS/MEMBERSHIPS",
          "Institutional Expenses",
          "MOLDING & OVENS",
          "CPX - Automatic Warehouses",
          "CPX - Agri mobile machine (tractor, harvester)",
          "PALLETTS PURCHASING MTL",
          "CHEMICAL MATERIAL",
          "GEARS",
          "In/Out Theatrical Materials Production - Standard",
          "POS MATERIAL",
          "Gas Consumables",
          "In/Out Functional Display Production - Standard",
          "Building owned - Improvements & equipment cost",
          "Integrated Facility Maintenance",
          "PROMOTIONAL ITEMS",
          "REAL ESTATE (LOCAL)",
          "RELOCATION",
          "Brushes",
          "Brand promotion events",
          "SECONDARY PACKAGING",
          "SECURITY",
          "SECURITY (LOCAL)",
          "Generic consumables",
          "SOFTWARE - MAINTENANCE FOR PERPETUAL LICENSES",
          "SOFTWARE - SUBSCRIPTIONS/LICENSES",
          "STANDALONE EQUIPMENT",
          "STORAGE",
          "REAL ESTATE",
          "Utilities - Electric Energy for Offices",
          "Maintenace service not depreciable (Maintenance Order)",
          "Transportation - Short-term Rental Cars",
          "Corporate event Expenses",
          "Corporate IT Management, Finance and Administration T&M",
          "Purchase Applications Licenses",
          "Employees Transport Services",
          "Consumer panel on-going subscriptions",
          "Real Estate Office Lease",
          "Employees event and social activities cost",
          "Real estate Retail lease",
          "Computer (process)",
          "Company Vehicles - Purchase",
          "Employees relocation services",
          "Company Vehicles - Management costs",
          "Couplings",
          "Rental 80x120 Pallets",
          "OTHER LOGISTIC COSTS",
          "Company Vehicles - Lease",
          "Company Vehicles - Fuel, Oil and other",
          "Research activities to assess the ADV/Communication Perf.",
          "Researches to understand Consumers, Shopper, Markets",
          "Retail Data monitoring",
          "Communication POS material Production",
          "End-User Computing T&M",
          "Road Finish Products",
          "Road Packaging",
          "Road Transportation",
          "Cloud License Application Maintenance",
          "Rental Industrial 100x120 Pallets",
          "Property acquisition",
          "Optional insurance employees",
          "Production of Advertising Content TRADITIONAL-OOH,Static",
          "POS material Molds, Toolings, Die Cuts CAPEX",
          "ELECTRICAL / ELECTRONICAL COMPONENTS",
          "Donations to employees",
          "Outsourcing of administrative services (bpo)",
          "PROMOTIONAL POINT OF SALE",
          "Other auditing",
          "Packaging & POS - Creative Concept",
          "Packaging & POS - Mockups / Samples",
          "Paint",
          "Panel SPE management",
          "Dampers",
          "Cutting tools",
          "Pest Control",
          "Other Materials Immediate Use for Production Assistance",
          "Picking Finish Products",
          "Customs Docum./Forwarder Services SEMI-FINISHED GOODS",
          "Plant Utilities EaaS (Equipment as a Service)",
          "Porter and reception services",
          "Post-Production of Advertising Content DIGITAL",
          "Customs Docum./Forwarder Services RAW MATERIALS",
          "Postage & Couriers Fees",
          "Printing Supplies",
          "Printing, photography and videomaking services",
          "Customs Docum./Forwarder Services Packaging",
          "Other Materials Immediate Use for Maintenance Plant",
          "Other Consumables, Material and Small Supplies",
          "Production of Advertising Content TRADITIONAL - TVC",
          "Cleaning, Waste,Pest Services and Material for No Industrial",
          "Cleaning Consultancy and Services",
          "Energy certifications for gas",
          "SPECIFIC DRAWING COMPONENTS",
          "TR - Cleaning services (GenProd)",
          "TR - ELECTRICITY (GENADM)",
          "FIXING ELEMENTS",
          "CPX - Thermic tunnels",
          "TR - Handyman services (GenAdm)",
          "CPX - Tempering",
          "TR - Office supplies (GenAdm)",
          "CPX - Tanks (incl. mixer, plastificators)",
          "Manned guarding services",
          "TR - Postage & Couriers Fees (GenAdm)",
          "CPX - Silos",
          "Fans",
          "CPX - Services in project scope",
          "TR - Small Furniture - Opex (GenProd)",
          "TR - Training costs of personnel (GenProd)",
          "TR - WATER (GENADM)",
          "TR - WATER (GENPROD)",
          "TR-Specific Mtl For Warehouse, Lift And Handl. Equip.(S-Wh)",
          "CPX - Roaster",
          "Maintenance And Services On Laboratory Equipments",
          "Technical Consultancy And External Lab Analysis",
          "Technical certifications, engineering-related consulting(TS)",
          "M&A related consultancies",
          "CPX - Powder handling & processing",
          "Financial Audit",
          "Long stay accommodation",
          "CPX - Pal- & Depalletizers",
          "TR - Cleaning services (GenAdm)",
          "CPX - Packaging: Ferrero Design & Build",
          "TR - Canteen Services (GenProd)",
          "CPX - Warehousing - Racks",
          "Check Out Display Production",
          "SUNDRY INSURANCE",
          "Chains",
          "Sales and B2B Events",
          "Energy certifications for power",
          "Screws",
          "Sea Finish Products",
          "OPX - Agri Mobile Machine (Tractor, Harvester)",
          "CPX: Waste Water & Gas Treatment",
          "Services for fridge and other tech devices for Point of Sale",
          "CPX: Mechanical Equipment & Installation",
          "Social Media Management",
          "Spare Parts - Conveyors",
          "Spare Parts Utilities",
          "Spare parts kits",
          "Not cod - PPE, Safety Work Products, Fire Protection",
          "Standard certifications",
          "Hardware - Maintenance",
          "Epal 80x120 Pallets Used 1st Choice",
          "CPX: Civil Equipment / Works",
          "Subscription Voice and Data Network (IaaS)",
          "CPX Industrial robotic application system",
          "Suction cups",
          "Surprises - Creative Concepts TRADITIONAL",
          "Surprises - Marketing Sheets",
          "Surprises - Technical Development",
          "CPX - Wrapping machines",
          "Mechanical maintenance",
          "Other Spare parts (not codified, catalogues items)"
         ],
         "marker": {
          "colors": [
           "#EF553B",
           "#636EFA",
           "#00CC96",
           "#636EFA",
           "#636EFA",
           "#636EFA",
           "#00CC96",
           "#636EFA",
           "#EF553B",
           "#636EFA",
           "#00CC96",
           "#636EFA",
           "#636EFA",
           "#636EFA",
           "#00CC96",
           "#00CC96",
           "#00CC96",
           "#636EFA",
           "#636EFA",
           "#636EFA",
           "#636EFA",
           "#636EFA",
           "#00CC96",
           "#00CC96",
           "#636EFA",
           "#EF553B",
           "#636EFA",
           "#636EFA",
           "#00CC96",
           "#00CC96",
           "#636EFA",
           "#00CC96",
           "#EF553B",
           "#00CC96",
           "#636EFA",
           "#636EFA",
           "#636EFA",
           "#636EFA",
           "#636EFA",
           "#00CC96",
           "#EF553B",
           "#EF553B",
           "#636EFA",
           "#636EFA",
           "#636EFA",
           "#636EFA",
           "#636EFA",
           "#636EFA",
           "#636EFA",
           "#636EFA",
           "#636EFA",
           "#636EFA",
           "#00CC96",
           "#636EFA",
           "#636EFA",
           "#00CC96",
           "#636EFA",
           "#636EFA",
           "#636EFA",
           "#636EFA",
           "#636EFA",
           "#636EFA",
           "#636EFA",
           "#636EFA",
           "#00CC96",
           "#636EFA",
           "#00CC96",
           "#636EFA",
           "#636EFA",
           "#636EFA",
           "#00CC96",
           "#636EFA",
           "#00CC96",
           "#636EFA",
           "#636EFA",
           "#EF553B",
           "#636EFA",
           "#636EFA",
           "#636EFA",
           "#636EFA",
           "#00CC96",
           "#00CC96",
           "#00CC96",
           "#00CC96",
           "#00CC96",
           "#00CC96",
           "#636EFA",
           "#636EFA",
           "#636EFA",
           "#636EFA",
           "#636EFA",
           "#00CC96",
           "#636EFA",
           "#636EFA",
           "#636EFA",
           "#636EFA",
           "#00CC96",
           "#00CC96",
           "#636EFA",
           "#636EFA",
           "#00CC96",
           "#00CC96",
           "#EF553B",
           "#636EFA",
           "#EF553B",
           "#EF553B",
           "#636EFA",
           "#636EFA",
           "#636EFA",
           "#636EFA",
           "#636EFA",
           "#636EFA",
           "#00CC96",
           "#636EFA",
           "#00CC96",
           "#00CC96",
           "#636EFA",
           "#EF553B",
           "#00CC96",
           "#636EFA",
           "#EF553B",
           "#EF553B",
           "#636EFA",
           "#636EFA",
           "#EF553B",
           "#636EFA",
           "#EF553B",
           "#EF553B",
           "#636EFA",
           "#636EFA",
           "#636EFA",
           "#00CC96",
           "#636EFA",
           "#00CC96",
           "#00CC96",
           "#EF553B",
           "#636EFA",
           "#636EFA",
           "#636EFA",
           "#636EFA",
           "#636EFA",
           "#636EFA",
           "#636EFA",
           "#00CC96",
           "#636EFA",
           "#00CC96",
           "#EF553B",
           "#636EFA",
           "#636EFA",
           "#636EFA",
           "#636EFA",
           "#636EFA",
           "#636EFA",
           "#636EFA",
           "#636EFA",
           "#636EFA",
           "#636EFA",
           "#636EFA",
           "#636EFA",
           "#636EFA",
           "#636EFA",
           "#636EFA",
           "#636EFA",
           "#EF553B",
           "#EF553B",
           "#EF553B",
           "#00CC96",
           "#636EFA",
           "#00CC96",
           "#636EFA",
           "#636EFA",
           "#636EFA",
           "#636EFA",
           "#636EFA",
           "#636EFA",
           "#636EFA",
           "#00CC96",
           "#636EFA",
           "#00CC96",
           "#636EFA",
           "#00CC96",
           "#00CC96",
           "#636EFA",
           "#00CC96",
           "#00CC96",
           "#636EFA",
           "#636EFA",
           "#636EFA",
           "#636EFA",
           "#636EFA",
           "#636EFA",
           "#636EFA",
           "#636EFA",
           "#636EFA",
           "#00CC96",
           "#636EFA",
           "#00CC96",
           "#EF553B",
           "#00CC96",
           "#00CC96",
           "#00CC96",
           "#00CC96",
           "#00CC96",
           "#636EFA",
           "#00CC96",
           "#00CC96",
           "#00CC96",
           "#00CC96",
           "#00CC96",
           "#00CC96",
           "#00CC96",
           "#00CC96",
           "#00CC96",
           "#00CC96",
           "#00CC96",
           "#00CC96",
           "#EF553B",
           "#636EFA",
           "#00CC96",
           "#636EFA",
           "#636EFA",
           "#00CC96",
           "#EF553B",
           "#00CC96",
           "#EF553B",
           "#636EFA",
           "#636EFA",
           "#EF553B",
           "#00CC96",
           "#636EFA",
           "#636EFA",
           "#636EFA",
           "#EF553B",
           "#00CC96",
           "#00CC96",
           "#00CC96",
           "#636EFA",
           "#00CC96",
           "#636EFA",
           "#636EFA",
           "#636EFA",
           "#636EFA",
           "#00CC96",
           "#636EFA",
           "#00CC96",
           "#636EFA",
           "#636EFA",
           "#636EFA",
           "#636EFA",
           "#636EFA",
           "#636EFA",
           "#636EFA",
           "#00CC96",
           "#00CC96",
           "#636EFA",
           "#00CC96",
           "#00CC96",
           "#00CC96",
           "#00CC96",
           "#00CC96",
           "#00CC96",
           "#00CC96",
           "#00CC96",
           "#636EFA",
           "#00CC96",
           "#00CC96",
           "#00CC96",
           "#00CC96",
           "#00CC96",
           "#00CC96",
           "#00CC96",
           "#00CC96",
           "#00CC96",
           "#636EFA",
           "#00CC96",
           "#636EFA",
           "#636EFA",
           "#EF553B",
           "#636EFA",
           "#00CC96",
           "#EF553B",
           "#00CC96",
           "#00CC96",
           "#636EFA",
           "#00CC96",
           "#636EFA",
           "#636EFA",
           "#636EFA",
           "#00CC96",
           "#00CC96",
           "#EF553B",
           "#00CC96",
           "#636EFA",
           "#636EFA",
           "#00CC96",
           "#00CC96",
           "#EF553B",
           "#00CC96",
           "#00CC96",
           "#636EFA",
           "#00CC96",
           "#636EFA",
           "#636EFA",
           "#00CC96",
           "#636EFA",
           "#00CC96",
           "#636EFA",
           "#EF553B",
           "#636EFA",
           "#00CC96",
           "#00CC96",
           "#636EFA",
           "#00CC96",
           "#636EFA",
           "#636EFA",
           "#636EFA",
           "#00CC96",
           "#636EFA",
           "#00CC96",
           "#00CC96",
           "#636EFA",
           "#EF553B",
           "#636EFA",
           "#00CC96",
           "#636EFA",
           "#00CC96",
           "#EF553B",
           "#636EFA",
           "#00CC96",
           "#636EFA",
           "#00CC96",
           "#00CC96",
           "#00CC96",
           "#636EFA",
           "#636EFA",
           "#00CC96",
           "#00CC96",
           "#636EFA",
           "#636EFA",
           "#636EFA",
           "#00CC96",
           "#636EFA",
           "#00CC96",
           "#636EFA",
           "#00CC96",
           "#636EFA",
           "#636EFA",
           "#00CC96",
           "#00CC96",
           "#636EFA",
           "#00CC96",
           "#636EFA",
           "#00CC96",
           "#636EFA",
           "#636EFA",
           "#636EFA",
           "#636EFA",
           "#00CC96",
           "#00CC96",
           "#00CC96",
           "#00CC96",
           "#EF553B",
           "#00CC96",
           "#EF553B",
           "#EF553B",
           "#636EFA",
           "#636EFA",
           "#636EFA",
           "#636EFA",
           "#636EFA",
           "#EF553B",
           "#00CC96",
           "#636EFA",
           "#636EFA",
           "#636EFA",
           "#EF553B",
           "#636EFA",
           "#636EFA",
           "#00CC96",
           "#636EFA",
           "#636EFA",
           "#636EFA",
           "#636EFA",
           "#00CC96",
           "#00CC96",
           "#00CC96",
           "#EF553B",
           "#00CC96",
           "#00CC96",
           "#636EFA",
           "#636EFA",
           "#00CC96",
           "#636EFA",
           "#636EFA",
           "#00CC96",
           "#636EFA",
           "#636EFA",
           "#636EFA",
           "#00CC96",
           "#636EFA",
           "#00CC96",
           "#636EFA",
           "#636EFA",
           "#00CC96",
           "#636EFA",
           "#636EFA",
           "#00CC96",
           "#EF553B",
           "#636EFA",
           "#636EFA",
           "#00CC96",
           "#636EFA",
           "#636EFA",
           "#636EFA",
           "#636EFA",
           "#636EFA",
           "#636EFA",
           "#636EFA",
           "#636EFA",
           "#636EFA",
           "#00CC96",
           "#636EFA",
           "#636EFA",
           "#636EFA",
           "#00CC96",
           "#EF553B",
           "#EF553B",
           "#636EFA",
           "#636EFA",
           "#636EFA",
           "#636EFA",
           "#636EFA",
           "#636EFA",
           "#636EFA",
           "#EF553B",
           "#EF553B",
           "#EF553B",
           "#636EFA",
           "#EF553B",
           "#00CC96",
           "#636EFA",
           "#636EFA",
           "#636EFA",
           "#00CC96",
           "#636EFA",
           "#636EFA",
           "#636EFA",
           "#636EFA",
           "#636EFA",
           "#636EFA",
           "#00CC96",
           "#636EFA",
           "#00CC96",
           "#00CC96",
           "#00CC96",
           "#00CC96",
           "#EF553B",
           "#EF553B",
           "#00CC96",
           "#636EFA",
           "#636EFA",
           "#EF553B",
           "#636EFA",
           "#636EFA",
           "#636EFA",
           "#EF553B",
           "#00CC96",
           "#636EFA",
           "#636EFA",
           "#636EFA",
           "#00CC96",
           "#00CC96",
           "#00CC96",
           "#636EFA",
           "#636EFA",
           "#00CC96",
           "#00CC96",
           "#636EFA",
           "#00CC96",
           "#636EFA",
           "#00CC96",
           "#636EFA",
           "#636EFA",
           "#00CC96",
           "#00CC96",
           "#00CC96",
           "#636EFA",
           "#636EFA",
           "#636EFA",
           "#636EFA",
           "#00CC96",
           "#00CC96",
           "#00CC96",
           "#00CC96",
           "#00CC96",
           "#636EFA",
           "#00CC96",
           "#636EFA",
           "#636EFA",
           "#00CC96",
           "#636EFA",
           "#00CC96",
           "#636EFA",
           "#00CC96",
           "#636EFA",
           "#636EFA",
           "#00CC96",
           "#636EFA",
           "#00CC96",
           "#00CC96",
           "#EF553B",
           "#00CC96",
           "#00CC96",
           "#636EFA",
           "#00CC96",
           "#636EFA",
           "#00CC96",
           "#00CC96",
           "#00CC96",
           "#00CC96",
           "#636EFA",
           "#636EFA",
           "#EF553B",
           "#00CC96",
           "#636EFA",
           "#00CC96",
           "#00CC96",
           "#636EFA",
           "#636EFA",
           "#636EFA",
           "#00CC96",
           "#00CC96",
           "#00CC96"
          ]
         },
         "name": "",
         "parents": [
          "SUPPLY CHAIN/PALLETTS PURCHASING/PALLETTS PURCHASING MTL",
          "GENERAL PROCUREMENT/PEOPLE SERVICES/EVENTS",
          "TECHNICAL PROCUREMENT/INFRASTRUCTURE & INDUSTRIAL/B&U PROFESSIONAL SERVICES",
          "GENERAL PROCUREMENT/SALES SERVICES/PROMOTIONAL ITEMS",
          "GENERAL PROCUREMENT/MARKETING SERVICES/PRODUCTION",
          "GENERAL PROCUREMENT/MARKETING SERVICES/PRODUCTION",
          "TECHNICAL PROCUREMENT/PROCESS EQUIPMENT/MOLDING & OVENS",
          "GENERAL PROCUREMENT/MARKETING SERVICES/PRODUCTION",
          "SUPPLY CHAIN/WAREHOUSING/PICKING",
          "GENERAL PROCUREMENT/WORKPLACE SERVICES/SECURITY",
          "TECHNICAL PROCUREMENT/AUTOMATION & MRO/TECHNICAL MATERIALS, PPE & CLOTHES",
          "GENERAL PROCUREMENT/PROFESSIONAL SERVICES/INSURANCE SERVICES",
          "GENERAL PROCUREMENT/WORKPLACE SERVICES/SECURITY",
          "GENERAL PROCUREMENT/MARKETING SERVICES/CREATIVE DESIGN",
          "TECHNICAL PROCUREMENT/AUTOMATION & MRO/TECHNICAL MATERIALS, PPE & CLOTHES",
          "TECHNICAL PROCUREMENT/AUTOMATION & MRO/TECHNICAL MATERIALS, PPE & CLOTHES",
          "TECHNICAL PROCUREMENT/AUTOMATION & MRO/TECHNICAL MATERIALS, PPE & CLOTHES",
          "GENERAL PROCUREMENT/MARKETING SERVICES/PUBLIC RELATIONS",
          "GENERAL PROCUREMENT/MARKETING SERVICES/PUBLIC RELATIONS",
          "GENERAL PROCUREMENT/SALES SERVICES/POS MATERIAL",
          "GENERAL PROCUREMENT/SALES SERVICES/POS MATERIAL",
          "GENERAL PROCUREMENT/SALES SERVICES/TECHNICAL DEVICES FOR POS",
          "TECHNICAL PROCUREMENT/AUTOMATION & MRO/TECHNICAL MATERIALS, PPE & CLOTHES",
          "TECHNICAL PROCUREMENT/AUTOMATION & MRO/TECHNICAL MATERIALS, PPE & CLOTHES",
          "GENERAL PROCUREMENT/PEOPLE SERVICES/RECRUITMENT SERVICE",
          "SUPPLY CHAIN/PRIMARY TRANSPORTS/SEA TRANSPORT",
          "GENERAL PROCUREMENT/PEOPLE SERVICES/EMPLOYEE SERVICES",
          "GENERAL PROCUREMENT/WORKPLACE SERVICES/OFFICE SUPPLIES AND SERVICES",
          "TECHNICAL PROCUREMENT/AUTOMATION & MRO/TECHNICAL MATERIALS, PPE & CLOTHES",
          "TECHNICAL PROCUREMENT/AUTOMATION & MRO/TECHNICAL MATERIALS, PPE & CLOTHES",
          "GENERAL PROCUREMENT/MARKETING SERVICES/DIGITAL & SOCIAL MEDIA MARKETING",
          "TECHNICAL PROCUREMENT/AUTOMATION & MRO/TECHNICAL MATERIALS, PPE & CLOTHES",
          "SUPPLY CHAIN/PRIMARY TRANSPORTS/ROAD TRANSPORT",
          "TECHNICAL PROCUREMENT/AUTOMATION & MRO/TECHNICAL MATERIALS, PPE & CLOTHES",
          "GENERAL PROCUREMENT/MARKETING SERVICES/MARKET MEASUREMENT",
          "GENERAL PROCUREMENT/MARKETING SERVICES/LICENSING & RIGHTS",
          "GENERAL PROCUREMENT/MARKETING SERVICES/RETAIL PANELS",
          "GENERAL PROCUREMENT/MARKETING SERVICES/CONSUMER RESEARCH (AD-HOC)",
          "GENERAL PROCUREMENT/WORKPLACE SERVICES/MAINTENANCE & IMPROVEMENTS",
          "TECHNICAL PROCUREMENT/AUTOMATION & MRO/MAINTENANCE SERVICES",
          "SUPPLY CHAIN/PALLETTS RENT & LEASE/PALLETTS RENT & LEASE SVC",
          "SUPPLY CHAIN/PALLETTS RENT & LEASE/PALLETTS RENT & LEASE SVC",
          "GENERAL PROCUREMENT/PEOPLE SERVICES/EMPLOYEE SERVICES",
          "GENERAL PROCUREMENT/WORKPLACE SERVICES/REAL ESTATE",
          "GENERAL PROCUREMENT/WORKPLACE SERVICES/REAL ESTATE",
          "GENERAL PROCUREMENT/MARKETING SERVICES/LICENSING & RIGHTS",
          "GENERAL PROCUREMENT/PEOPLE SERVICES/PAYROLL",
          "GENERAL PROCUREMENT/SURPRISE L2/SURPRISE L3",
          "GENERAL PROCUREMENT/MOBILITY/TRAVEL",
          "GENERAL PROCUREMENT/MARKETING SERVICES/LICENSING & RIGHTS",
          "GENERAL PROCUREMENT/PROFESSIONAL SERVICES/LEGAL & TAX SERVICES",
          "GENERAL PROCUREMENT/PROFESSIONAL SERVICES/LEGAL & TAX SERVICES",
          "TECHNICAL PROCUREMENT/AUTOMATION & MRO/TECHNICAL MATERIALS, PPE & CLOTHES",
          "GENERAL PROCUREMENT/PEOPLE SERVICES/RECRUITMENT SERVICE",
          "GENERAL PROCUREMENT/MARKETING SERVICES/DIGITAL & SOCIAL MEDIA MARKETING",
          "TECHNICAL PROCUREMENT/AUTOMATION & MRO/TECHNICAL MATERIALS, PPE & CLOTHES",
          "GENERAL PROCUREMENT/WORKPLACE SERVICES/MAINTENANCE & IMPROVEMENTS",
          "GENERAL PROCUREMENT/SALES SERVICES/POS MATERIAL",
          "GENERAL PROCUREMENT/WORKPLACE SERVICES/REAL ESTATE",
          "GENERAL PROCUREMENT/SALES SERVICES/POS MATERIAL",
          "GENERAL PROCUREMENT/SALES SERVICES/GADGETS",
          "GENERAL PROCUREMENT/PEOPLE SERVICES/EVENTS (LOCAL)",
          "GENERAL PROCUREMENT/IT - INFORMATION TECHNOLOGY/SERVICES - T&M/BODY LEASING",
          "GENERAL PROCUREMENT/MOBILITY/TRAVEL",
          "TECHNICAL PROCUREMENT/AUTOMATION & MRO/TECHNICAL MATERIALS, PPE & CLOTHES",
          "GENERAL PROCUREMENT/PEOPLE SERVICES/EMPLOYEE SERVICES",
          "TECHNICAL PROCUREMENT/INFRASTRUCTURE & INDUSTRIAL/B&U PROFESSIONAL SERVICES",
          "GENERAL PROCUREMENT/IT - INFORMATION TECHNOLOGY/HARDWARE - PURCHASE/LEASING/MAINTENANCE",
          "GENERAL PROCUREMENT/IT - INFORMATION TECHNOLOGY/HARDWARE - PURCHASE/LEASING/MAINTENANCE",
          "GENERAL PROCUREMENT/SALES SERVICES/GADGETS",
          "TECHNICAL PROCUREMENT/AUTOMATION & MRO/TECHNICAL MATERIALS, PPE & CLOTHES",
          "GENERAL PROCUREMENT/PEOPLE SERVICES/RELOCATION",
          "TECHNICAL PROCUREMENT/AUTOMATION & MRO/TECHNICAL MATERIALS, PPE & CLOTHES",
          "GENERAL PROCUREMENT/MARKETING SERVICES/MARKET MEASUREMENT",
          "GENERAL PROCUREMENT/MARKETING SERVICES/CONSUMER RESEARCH (AD-HOC)",
          "",
          "GENERAL PROCUREMENT/WORKPLACE SERVICES/OFFICE SUPPLIES AND SERVICES",
          "GENERAL PROCUREMENT/WORKPLACE SERVICES/MAINTENANCE & IMPROVEMENTS",
          "GENERAL PROCUREMENT/WORKPLACE SERVICES/MAINTENANCE & IMPROVEMENTS",
          "GENERAL PROCUREMENT/WORKPLACE SERVICES/OFFICE SUPPLIES AND SERVICES",
          "TECHNICAL PROCUREMENT/AUTOMATION & MRO/INDUSTRIAL AUTOMATION AND ROBOTICS",
          "TECHNICAL PROCUREMENT/AUTOMATION & MRO/MAINTENANCE SERVICES",
          "TECHNICAL PROCUREMENT/AUTOMATION & MRO/MAINTENANCE SERVICES",
          "TECHNICAL PROCUREMENT/PROCESS EQUIPMENT/WAREHOUSE & LOGISTIC",
          "TECHNICAL PROCUREMENT/AUTOMATION & MRO/MAINTENANCE SERVICES",
          "TECHNICAL PROCUREMENT/AUTOMATION & MRO/TECHNICAL MATERIALS, PPE & CLOTHES",
          "GENERAL PROCUREMENT/PEOPLE SERVICES/EVENTS",
          "GENERAL PROCUREMENT/PROFESSIONAL SERVICES/SUBSCRIPTIONS/MEMBERSHIPS",
          "GENERAL PROCUREMENT/SALES SERVICES/MERCHANDISING & HOSTESS & BROKER COMMISSIONS",
          "GENERAL PROCUREMENT/PEOPLE SERVICES/EMPLOYEE SERVICES",
          "GENERAL PROCUREMENT/MARKETING SERVICES/PUBLIC RELATIONS",
          "TECHNICAL PROCUREMENT/AUTOMATION & MRO/TECHNICAL MATERIALS, PPE & CLOTHES",
          "GENERAL PROCUREMENT/IT - INFORMATION TECHNOLOGY/SOFTWARE - MAINTENANCE FOR PERPETUAL LICENSES",
          "GENERAL PROCUREMENT/IT - INFORMATION TECHNOLOGY/SOFTWARE - MAINTENANCE FOR PERPETUAL LICENSES",
          "GENERAL PROCUREMENT/WORKPLACE SERVICES/SECURITY",
          "GENERAL PROCUREMENT/SALES SERVICES/GADGETS",
          "TECHNICAL PROCUREMENT/INFRASTRUCTURE & INDUSTRIAL/B&U PROFESSIONAL SERVICES",
          "TECHNICAL PROCUREMENT/INFRASTRUCTURE & INDUSTRIAL/INFRASTRUCTURE",
          "GENERAL PROCUREMENT/MARKETING SERVICES",
          "GENERAL PROCUREMENT/MARKETING SERVICES",
          "TECHNICAL PROCUREMENT/PROCESS EQUIPMENT",
          "TECHNICAL PROCUREMENT/PROCESS EQUIPMENT",
          "SUPPLY CHAIN/WAREHOUSING",
          "GENERAL PROCUREMENT/PEOPLE SERVICES",
          "SUPPLY CHAIN/PALLETTS RENT & LEASE",
          "SUPPLY CHAIN/PRIMARY TRANSPORTS",
          "GENERAL PROCUREMENT/WORKPLACE SERVICES",
          "GENERAL PROCUREMENT/PEOPLE SERVICES",
          "GENERAL PROCUREMENT/WORKPLACE SERVICES",
          "GENERAL PROCUREMENT/SALES SERVICES",
          "GENERAL PROCUREMENT/SALES SERVICES",
          "GENERAL PROCUREMENT/MARKETING SERVICES",
          "TECHNICAL PROCUREMENT/INFRASTRUCTURE & INDUSTRIAL",
          "GENERAL PROCUREMENT/PROFESSIONAL SERVICES",
          "TECHNICAL PROCUREMENT/INFRASTRUCTURE & INDUSTRIAL",
          "TECHNICAL PROCUREMENT/AUTOMATION & MRO",
          "GENERAL PROCUREMENT/IT - INFORMATION TECHNOLOGY",
          "SUPPLY CHAIN/CUSTOM BROKERAGE & FORWARDING AGENCIES",
          "TECHNICAL PROCUREMENT/PROCESS EQUIPMENT",
          "GENERAL PROCUREMENT/MARKETING SERVICES",
          "SUPPLY CHAIN/PRIMARY TRANSPORTS",
          "SUPPLY CHAIN/PRIMARY TRANSPORTS",
          "",
          "GENERAL PROCUREMENT",
          "SUPPLY CHAIN",
          "GENERAL PROCUREMENT",
          "SUPPLY CHAIN",
          "SUPPLY CHAIN",
          "GENERAL PROCUREMENT",
          "GENERAL PROCUREMENT",
          "GENERAL PROCUREMENT",
          "TECHNICAL PROCUREMENT",
          "GENERAL PROCUREMENT",
          "TECHNICAL PROCUREMENT",
          "TECHNICAL PROCUREMENT",
          "SUPPLY CHAIN/WAREHOUSING",
          "GENERAL PROCUREMENT/ENERGY AND UTILITIES FOR OFFICES",
          "GENERAL PROCUREMENT/WORKPLACE SERVICES",
          "GENERAL PROCUREMENT/MOBILITY",
          "GENERAL PROCUREMENT/SURPRISE L2",
          "GENERAL PROCUREMENT/SALES SERVICES",
          "GENERAL PROCUREMENT/IT - INFORMATION TECHNOLOGY",
          "GENERAL PROCUREMENT/IT - INFORMATION TECHNOLOGY",
          "TECHNICAL PROCUREMENT/INFRASTRUCTURE & INDUSTRIAL",
          "GENERAL PROCUREMENT/IT - INFORMATION TECHNOLOGY/HARDWARE - PURCHASE/LEASING/MAINTENANCE",
          "TECHNICAL PROCUREMENT/ENERGY",
          "SUPPLY CHAIN/SECONDARY FREIGHT",
          "GENERAL PROCUREMENT/WORKPLACE SERVICES/OFFICE SUPPLIES AND SERVICES (LOCAL)",
          "GENERAL PROCUREMENT/WORKPLACE SERVICES/OFFICE SUPPLIES AND SERVICES (LOCAL)",
          "GENERAL PROCUREMENT/WORKPLACE SERVICES/REAL ESTATE (LOCAL)",
          "GENERAL PROCUREMENT/WORKPLACE SERVICES/OFFICE SUPPLIES AND SERVICES (LOCAL)",
          "GENERAL PROCUREMENT/WORKPLACE SERVICES/SECURITY (LOCAL)",
          "GENERAL PROCUREMENT/WORKPLACE SERVICES/OFFICE SUPPLIES AND SERVICES (LOCAL)",
          "GENERAL PROCUREMENT/PEOPLE SERVICES/EMPLOYEE SERVICES (LOCAL)",
          "GENERAL PROCUREMENT/WORKPLACE SERVICES/MAINTENANCE & IMPROVEMENTS (LOCAL)",
          "GENERAL PROCUREMENT/ENERGY AND UTILITIES FOR OFFICES/UTILITIES FOR OFFICES (LOCAL)",
          "GENERAL PROCUREMENT/PROFESSIONAL SERVICES/LEGAL & TAX SERVICES",
          "GENERAL PROCUREMENT/WORKPLACE SERVICES/FOOD SERVICES (LOCAL)",
          "GENERAL PROCUREMENT/WORKPLACE SERVICES/FOOD SERVICES",
          "GENERAL PROCUREMENT/MARKETING SERVICES/CREATIVE DESIGN",
          "GENERAL PROCUREMENT/MARKETING SERVICES/RETAIL PANELS",
          "GENERAL PROCUREMENT/MARKETING SERVICES/MARKET MEASUREMENT",
          "GENERAL PROCUREMENT/PROFESSIONAL SERVICES/CONSULTANCY SERVICES",
          "SUPPLY CHAIN/WAREHOUSING/STORAGE",
          "SUPPLY CHAIN/WAREHOUSING/STORAGE",
          "SUPPLY CHAIN/WAREHOUSING/STORAGE",
          "TECHNICAL PROCUREMENT/AUTOMATION & MRO/TECHNICAL MATERIALS, PPE & CLOTHES",
          "GENERAL PROCUREMENT/WORKPLACE SERVICES/OFFICE SUPPLIES AND SERVICES (LOCAL)",
          "TECHNICAL PROCUREMENT/INFRASTRUCTURE & INDUSTRIAL/FACILITY MANAGEMENT SOFTSERVICES FOR INDUSTRIAL LOCATIONS",
          "GENERAL PROCUREMENT/PEOPLE SERVICES/TEMPORARY PERSONNEL",
          "GENERAL PROCUREMENT/SALES SERVICES/MARKETING EVENTS",
          "GENERAL PROCUREMENT/MARKETING SERVICES",
          "GENERAL PROCUREMENT/MARKETING SERVICES",
          "GENERAL PROCUREMENT/SALES SERVICES",
          "GENERAL PROCUREMENT/MARKETING SERVICES",
          "GENERAL PROCUREMENT/WORKPLACE SERVICES",
          "TECHNICAL PROCUREMENT/INFRASTRUCTURE & INDUSTRIAL",
          "GENERAL PROCUREMENT/PROFESSIONAL SERVICES",
          "TECHNICAL PROCUREMENT/AUTOMATION & MRO/TECHNICAL MATERIALS, PPE & CLOTHES",
          "GENERAL PROCUREMENT/MARKETING SERVICES/DIGITAL & SOCIAL MEDIA MARKETING",
          "TECHNICAL PROCUREMENT/INFRASTRUCTURE & INDUSTRIAL/FACILITY MANAGEMENT SOFTSERVICES FOR INDUSTRIAL LOCATIONS",
          "TECHNICAL PROCUREMENT/INFRASTRUCTURE & INDUSTRIAL/FACILITY MANAGEMENT SOFTSERVICES FOR INDUSTRIAL LOCATIONS",
          "GENERAL PROCUREMENT/IT - INFORMATION TECHNOLOGY/SERVICES - MANAGED SERVICE",
          "TECHNICAL PROCUREMENT/AUTOMATION & MRO/TECHNICAL MATERIALS, PPE & CLOTHES",
          "TECHNICAL PROCUREMENT/AUTOMATION & MRO/TECHNICAL MATERIALS, PPE & CLOTHES",
          "GENERAL PROCUREMENT/WORKPLACE SERVICES/UTILITIES",
          "GENERAL PROCUREMENT/WORKPLACE SERVICES/UTILITIES",
          "GENERAL PROCUREMENT/MOBILITY/TRAVEL",
          "GENERAL PROCUREMENT/MOBILITY/TRAVEL",
          "GENERAL PROCUREMENT/MOBILITY/TRAVEL",
          "GENERAL PROCUREMENT/PEOPLE SERVICES/EMPLOYEE SERVICES",
          "GENERAL PROCUREMENT/PEOPLE SERVICES/TRAINING",
          "GENERAL PROCUREMENT/PEOPLE SERVICES",
          "GENERAL PROCUREMENT/IT - INFORMATION TECHNOLOGY/HARDWARE - PURCHASE/LEASING/MAINTENANCE",
          "",
          "GENERAL PROCUREMENT/IT - INFORMATION TECHNOLOGY/HARDWARE - PURCHASE/LEASING/MAINTENANCE",
          "TECHNICAL PROCUREMENT/AUTOMATION & MRO/TECHNICAL MATERIALS, PPE & CLOTHES",
          "SUPPLY CHAIN/CUSTOM BROKERAGE & FORWARDING AGENCIES/FREIGHT FORWARDING AGENCIES",
          "TECHNICAL PROCUREMENT/INFRASTRUCTURE & INDUSTRIAL/INFRASTRUCTURE",
          "TECHNICAL PROCUREMENT/INFRASTRUCTURE & INDUSTRIAL/LABORATORY EQUIPMENT AND SERVICES",
          "TECHNICAL PROCUREMENT/INFRASTRUCTURE & INDUSTRIAL/INFRASTRUCTURE",
          "TECHNICAL PROCUREMENT/AUTOMATION & MRO/TECHNICAL MATERIALS, PPE & CLOTHES",
          "TECHNICAL PROCUREMENT/AUTOMATION & MRO/INDUSTRIAL AUTOMATION AND ROBOTICS",
          "GENERAL PROCUREMENT/WORKPLACE SERVICES/FOOD SERVICES",
          "TECHNICAL PROCUREMENT/PROCESS EQUIPMENT/STANDALONE EQUIPMENT",
          "TECHNICAL PROCUREMENT/PROCESS EQUIPMENT/PRIMARY PACKAGING",
          "TECHNICAL PROCUREMENT/PROCESS EQUIPMENT/SECONDARY PACKAGING",
          "TECHNICAL PROCUREMENT/PROCESS EQUIPMENT/NUTS EQUIPMENT & AGRI MOBILE MACHINE",
          "TECHNICAL PROCUREMENT/PROCESS EQUIPMENT/PRIMARY PACKAGING",
          "TECHNICAL PROCUREMENT/PROCESS EQUIPMENT/PREPARATION",
          "TECHNICAL PROCUREMENT/PROCESS EQUIPMENT/STANDALONE EQUIPMENT",
          "TECHNICAL PROCUREMENT/PROCESS EQUIPMENT/NUTS EQUIPMENT & AGRI MOBILE MACHINE",
          "TECHNICAL PROCUREMENT/PROCESS EQUIPMENT/STANDALONE EQUIPMENT",
          "TECHNICAL PROCUREMENT/PROCESS EQUIPMENT/MOLDING & OVENS",
          "TECHNICAL PROCUREMENT/INFRASTRUCTURE & INDUSTRIAL/FACILITY MANAGEMENT HARDSERVICES FOR INDUSTRIAL LOCATIONS",
          "TECHNICAL PROCUREMENT/AUTOMATION & MRO/TECHNICAL MATERIALS, PPE & CLOTHES",
          "SUPPLY CHAIN/SECONDARY FREIGHT/DISTRIBUTION",
          "GENERAL PROCUREMENT/SALES SERVICES/CONSUMERS PROMOTION ACTIVITIES",
          "TECHNICAL PROCUREMENT/INFRASTRUCTURE & INDUSTRIAL/B&U PROFESSIONAL SERVICES",
          "GENERAL PROCUREMENT/SALES SERVICES/CONSUMERS PROMOTION ACTIVITIES",
          "GENERAL PROCUREMENT/SALES SERVICES/CONSUMERS PROMOTION ACTIVITIES",
          "TECHNICAL PROCUREMENT/AUTOMATION & MRO/TECHNICAL MATERIALS, PPE & CLOTHES",
          "SUPPLY CHAIN/CUSTOM BROKERAGE & FORWARDING AGENCIES/FREIGHT FORWARDING AGENCIES",
          "TECHNICAL PROCUREMENT/AUTOMATION & MRO/TECHNICAL MATERIALS, PPE & CLOTHES",
          "SUPPLY CHAIN/CUSTOM BROKERAGE & FORWARDING AGENCIES/FREIGHT FORWARDING AGENCIES",
          "GENERAL PROCUREMENT/MARKETING SERVICES/CREATIVE DEVELOPMENT & STRATEGY",
          "GENERAL PROCUREMENT/MARKETING SERVICES/CREATIVE DEVELOPMENT & STRATEGY",
          "SUPPLY CHAIN/SECONDARY FREIGHT/DISTRIBUTION",
          "TECHNICAL PROCUREMENT/INFRASTRUCTURE & INDUSTRIAL/LABORATORY EQUIPMENT AND SERVICES",
          "GENERAL PROCUREMENT/MOBILITY/FLEET",
          "GENERAL PROCUREMENT/MOBILITY/FLEET",
          "GENERAL PROCUREMENT/SALES SERVICES/COMMERCIAL QUALITY AND FRESHNESS",
          "SUPPLY CHAIN/CUSTOM BROKERAGE & FORWARDING AGENCIES/FREIGHT FORWARDING AGENCIES",
          "TECHNICAL PROCUREMENT/AUTOMATION & MRO/TECHNICAL MATERIALS, PPE & CLOTHES",
          "TECHNICAL PROCUREMENT/PROCESS EQUIPMENT/SECONDARY PACKAGING",
          "TECHNICAL PROCUREMENT/PROCESS EQUIPMENT/NUTS EQUIPMENT & AGRI MOBILE MACHINE",
          "GENERAL PROCUREMENT/WORKPLACE SERVICES/MAINTENANCE & IMPROVEMENTS",
          "TECHNICAL PROCUREMENT/AUTOMATION & MRO/TECHNICAL MATERIALS, PPE & CLOTHES",
          "GENERAL PROCUREMENT/WORKPLACE SERVICES/MAINTENANCE & IMPROVEMENTS",
          "GENERAL PROCUREMENT/SALES SERVICES/MERCHANDISING & HOSTESS & BROKER COMMISSIONS",
          "GENERAL PROCUREMENT/MARKETING SERVICES/CREATIVE DEVELOPMENT & STRATEGY",
          "GENERAL PROCUREMENT/PROFESSIONAL SERVICES/SUBSCRIPTIONS/MEMBERSHIPS",
          "TECHNICAL PROCUREMENT/AUTOMATION & MRO/TECHNICAL MATERIALS, PPE & CLOTHES",
          "GENERAL PROCUREMENT/PROFESSIONAL SERVICES/SUBSCRIPTIONS/MEMBERSHIPS",
          "TECHNICAL PROCUREMENT/AUTOMATION & MRO/TECHNICAL MATERIALS, PPE & CLOTHES",
          "GENERAL PROCUREMENT/WORKPLACE SERVICES/OFFICE SUPPLIES AND SERVICES",
          "GENERAL PROCUREMENT/IT - INFORMATION TECHNOLOGY/SERVICES - T&M/BODY LEASING",
          "GENERAL PROCUREMENT/IT - INFORMATION TECHNOLOGY/SERVICES - MANAGED SERVICE",
          "GENERAL PROCUREMENT/WORKPLACE SERVICES/REAL ESTATE",
          "GENERAL PROCUREMENT/MARKETING SERVICES/RETAIL PANELS",
          "GENERAL PROCUREMENT/IT - INFORMATION TECHNOLOGY/SERVICES - MANAGED SERVICE",
          "GENERAL PROCUREMENT/IT - INFORMATION TECHNOLOGY/SERVICES - MANAGED SERVICE",
          "TECHNICAL PROCUREMENT/AUTOMATION & MRO/INDUSTRIAL AUTOMATION AND ROBOTICS",
          "TECHNICAL PROCUREMENT/PROCESS EQUIPMENT/MOLDING & OVENS",
          "GENERAL PROCUREMENT/WORKPLACE SERVICES/FOOD SERVICES",
          "TECHNICAL PROCUREMENT/AUTOMATION & MRO/TECHNICAL MATERIALS, PPE & CLOTHES",
          "TECHNICAL PROCUREMENT/PROCESS EQUIPMENT/MOLDING & OVENS",
          "TECHNICAL PROCUREMENT/PROCESS EQUIPMENT/MOLDING & OVENS",
          "TECHNICAL PROCUREMENT/PROCESS EQUIPMENT/MOLDING & OVENS",
          "TECHNICAL PROCUREMENT/PROCESS EQUIPMENT/NUTS EQUIPMENT & AGRI MOBILE MACHINE",
          "TECHNICAL PROCUREMENT/PROCESS EQUIPMENT/STANDALONE EQUIPMENT",
          "TECHNICAL PROCUREMENT/PROCESS EQUIPMENT/PRIMARY PACKAGING",
          "TECHNICAL PROCUREMENT/PROCESS EQUIPMENT/SECONDARY PACKAGING",
          "GENERAL PROCUREMENT/WORKPLACE SERVICES/SECURITY",
          "TECHNICAL PROCUREMENT/PROCESS EQUIPMENT/PRIMARY PACKAGING",
          "TECHNICAL PROCUREMENT/PROCESS EQUIPMENT/NUTS EQUIPMENT & AGRI MOBILE MACHINE",
          "TECHNICAL PROCUREMENT/PROCESS EQUIPMENT/STANDALONE EQUIPMENT",
          "TECHNICAL PROCUREMENT/PROCESS EQUIPMENT/PREPARATION",
          "TECHNICAL PROCUREMENT/PROCESS EQUIPMENT/STANDALONE EQUIPMENT",
          "TECHNICAL PROCUREMENT/PROCESS EQUIPMENT/PREPARATION",
          "TECHNICAL PROCUREMENT/PROCESS EQUIPMENT/SECONDARY PACKAGING",
          "TECHNICAL PROCUREMENT/AUTOMATION & MRO/INDUSTRIAL AUTOMATION AND ROBOTICS",
          "TECHNICAL PROCUREMENT/PROCESS EQUIPMENT/PREPARATION",
          "GENERAL PROCUREMENT/MARKETING SERVICES/DIGITAL & SOCIAL MEDIA MARKETING",
          "TECHNICAL PROCUREMENT/INFRASTRUCTURE & INDUSTRIAL/INFRASTRUCTURE",
          "GENERAL PROCUREMENT/SALES SERVICES/TECHNICAL DEVICES FOR POS",
          "GENERAL PROCUREMENT/WORKPLACE SERVICES/MAINTENANCE & IMPROVEMENTS",
          "SUPPLY CHAIN/PRIMARY TRANSPORTS/ROAD TRANSPORT",
          "GENERAL PROCUREMENT/PEOPLE SERVICES/EVENTS",
          "TECHNICAL PROCUREMENT/AUTOMATION & MRO/TECHNICAL MATERIALS, PPE & CLOTHES",
          "SUPPLY CHAIN/PRIMARY TRANSPORTS/ROAD TRANSPORT",
          "TECHNICAL PROCUREMENT/AUTOMATION & MRO/TECHNICAL MATERIALS, PPE & CLOTHES",
          "TECHNICAL PROCUREMENT/AUTOMATION & MRO/TECHNICAL MATERIALS, PPE & CLOTHES",
          "GENERAL PROCUREMENT/SALES SERVICES/SPONSORING",
          "TECHNICAL PROCUREMENT/ENERGY/ENERGY FOR INDUSTRIAL PLANT",
          "GENERAL PROCUREMENT/SALES SERVICES/TECHNICAL DEVICES FOR POS",
          "GENERAL PROCUREMENT/PROFESSIONAL SERVICES/ADMINISTRATIVE SERVICES",
          "GENERAL PROCUREMENT/IT - INFORMATION TECHNOLOGY/SERVICES - MANAGED SERVICE",
          "TECHNICAL PROCUREMENT/AUTOMATION & MRO/TECHNICAL MATERIALS, PPE & CLOTHES",
          "TECHNICAL PROCUREMENT/AUTOMATION & MRO/TECHNICAL MATERIALS, PPE & CLOTHES",
          "SUPPLY CHAIN/PALLETTS PURCHASING/PALLETTS PURCHASING MTL",
          "TECHNICAL PROCUREMENT/AUTOMATION & MRO/TECHNICAL MATERIALS, PPE & CLOTHES",
          "GENERAL PROCUREMENT/MARKETING SERVICES/DIGITAL & SOCIAL MEDIA MARKETING",
          "GENERAL PROCUREMENT/PROFESSIONAL SERVICES/CONSULTANCY SERVICES",
          "TECHNICAL PROCUREMENT/INFRASTRUCTURE & INDUSTRIAL/FACILITY MANAGEMENT HARDSERVICES FOR INDUSTRIAL LOCATIONS",
          "TECHNICAL PROCUREMENT/AUTOMATION & MRO/TECHNICAL MATERIALS, PPE & CLOTHES",
          "SUPPLY CHAIN/PRIMARY TRANSPORTS/ROAD TRANSPORT",
          "TECHNICAL PROCUREMENT/AUTOMATION & MRO/TECHNICAL MATERIALS, PPE & CLOTHES",
          "TECHNICAL PROCUREMENT/ENERGY/ENERGY FOR INDUSTRIAL PLANT",
          "GENERAL PROCUREMENT/IT - INFORMATION TECHNOLOGY/HARDWARE - PURCHASE/LEASING/MAINTENANCE",
          "TECHNICAL PROCUREMENT/AUTOMATION & MRO/TECHNICAL MATERIALS, PPE & CLOTHES",
          "GENERAL PROCUREMENT/SALES SERVICES/GADGETS",
          "GENERAL PROCUREMENT/IT - INFORMATION TECHNOLOGY/SOFTWARE - SUBSCRIPTIONS/LICENSES",
          "TECHNICAL PROCUREMENT/PROCESS EQUIPMENT/SECONDARY PACKAGING",
          "GENERAL PROCUREMENT/PROFESSIONAL SERVICES",
          "TECHNICAL PROCUREMENT/INFRASTRUCTURE & INDUSTRIAL/LABORATORY EQUIPMENT AND SERVICES",
          "GENERAL PROCUREMENT/WORKPLACE SERVICES",
          "SUPPLY CHAIN/WAREHOUSING",
          "GENERAL PROCUREMENT/WORKPLACE SERVICES",
          "TECHNICAL PROCUREMENT/ENERGY/ENERGY FOR INDUSTRIAL PLANT",
          "TECHNICAL PROCUREMENT/PROCESS EQUIPMENT/PRIMARY PACKAGING",
          "GENERAL PROCUREMENT/MARKETING SERVICES",
          "TECHNICAL PROCUREMENT/PROCESS EQUIPMENT/WAREHOUSE & LOGISTIC",
          "GENERAL PROCUREMENT/MOBILITY",
          "GENERAL PROCUREMENT/WORKPLACE SERVICES",
          "GENERAL PROCUREMENT/WORKPLACE SERVICES",
          "TECHNICAL PROCUREMENT/INFRASTRUCTURE & INDUSTRIAL",
          "GENERAL PROCUREMENT/SALES SERVICES",
          "TECHNICAL PROCUREMENT/AUTOMATION & MRO/TECHNICAL MATERIALS, PPE & CLOTHES",
          "TECHNICAL PROCUREMENT/PROCESS EQUIPMENT/MOLDING & OVENS",
          "GENERAL PROCUREMENT/PEOPLE SERVICES",
          "SUPPLY CHAIN/WAREHOUSING/HANDLING",
          "GENERAL PROCUREMENT/WORKPLACE SERVICES/SECURITY",
          "TECHNICAL PROCUREMENT/AUTOMATION & MRO/TECHNICAL MATERIALS, PPE & CLOTHES",
          "GENERAL PROCUREMENT/MARKETING SERVICES/LICENSING & RIGHTS",
          "TECHNICAL PROCUREMENT/AUTOMATION & MRO/TECHNICAL MATERIALS, PPE & CLOTHES",
          "SUPPLY CHAIN/WAREHOUSING/WAREHOUSING LOCATION & LEASING",
          "GENERAL PROCUREMENT/MARKETING SERVICES/LICENSING & RIGHTS",
          "TECHNICAL PROCUREMENT/PROCESS EQUIPMENT/STANDALONE EQUIPMENT",
          "GENERAL PROCUREMENT/WORKPLACE SERVICES/MAINTENANCE & IMPROVEMENTS",
          "TECHNICAL PROCUREMENT/AUTOMATION & MRO/TECHNICAL MATERIALS, PPE & CLOTHES",
          "TECHNICAL PROCUREMENT/PROCESS EQUIPMENT/PREPARATION",
          "TECHNICAL PROCUREMENT/AUTOMATION & MRO/TECHNICAL MATERIALS, PPE & CLOTHES",
          "GENERAL PROCUREMENT/MARKETING SERVICES/LICENSING & RIGHTS",
          "GENERAL PROCUREMENT/PEOPLE SERVICES",
          "TECHNICAL PROCUREMENT/PROCESS EQUIPMENT/MOLDING & OVENS",
          "TECHNICAL PROCUREMENT/PROCESS EQUIPMENT/STANDALONE EQUIPMENT",
          "GENERAL PROCUREMENT/WORKPLACE SERVICES",
          "GENERAL PROCUREMENT/SALES SERVICES",
          "GENERAL PROCUREMENT/PROFESSIONAL SERVICES",
          "TECHNICAL PROCUREMENT/PROCESS EQUIPMENT/NUTS EQUIPMENT & AGRI MOBILE MACHINE",
          "GENERAL PROCUREMENT/PROFESSIONAL SERVICES/INSURANCE SERVICES",
          "TECHNICAL PROCUREMENT/PROCESS EQUIPMENT/WAREHOUSE & LOGISTIC",
          "GENERAL PROCUREMENT/MARKETING SERVICES",
          "TECHNICAL PROCUREMENT/AUTOMATION & MRO/TECHNICAL MATERIALS, PPE & CLOTHES",
          "GENERAL PROCUREMENT/SALES SERVICES/TECHNICAL DEVICES FOR POS",
          "GENERAL PROCUREMENT/PEOPLE SERVICES",
          "TECHNICAL PROCUREMENT/PROCESS EQUIPMENT/PREPARATION",
          "TECHNICAL PROCUREMENT/ENERGY",
          "GENERAL PROCUREMENT/PROFESSIONAL SERVICES",
          "TECHNICAL PROCUREMENT/AUTOMATION & MRO",
          "GENERAL PROCUREMENT/SALES SERVICES",
          "TECHNICAL PROCUREMENT/PROCESS EQUIPMENT/MOLDING & OVENS",
          "GENERAL PROCUREMENT/PEOPLE SERVICES",
          "GENERAL PROCUREMENT/PEOPLE SERVICES",
          "GENERAL PROCUREMENT/PEOPLE SERVICES",
          "GENERAL PROCUREMENT/WORKPLACE SERVICES/MAINTENANCE & IMPROVEMENTS",
          "TECHNICAL PROCUREMENT/AUTOMATION & MRO/TECHNICAL MATERIALS, PPE & CLOTHES",
          "TECHNICAL PROCUREMENT/AUTOMATION & MRO/TECHNICAL MATERIALS, PPE & CLOTHES",
          "TECHNICAL PROCUREMENT/PROCESS EQUIPMENT",
          "TECHNICAL PROCUREMENT/AUTOMATION & MRO/TECHNICAL MATERIALS, PPE & CLOTHES",
          "SUPPLY CHAIN",
          "TECHNICAL PROCUREMENT/AUTOMATION & MRO/INDUSTRIAL AUTOMATION AND ROBOTICS",
          "SUPPLY CHAIN/WAREHOUSING/HANDLING",
          "SUPPLY CHAIN/WAREHOUSING/HANDLING",
          "GENERAL PROCUREMENT/IT - INFORMATION TECHNOLOGY/SERVICES - T&M/BODY LEASING",
          "GENERAL PROCUREMENT/IT - INFORMATION TECHNOLOGY/HARDWARE - PURCHASE/LEASING/MAINTENANCE",
          "GENERAL PROCUREMENT/IT - INFORMATION TECHNOLOGY/HARDWARE - PURCHASE/LEASING/MAINTENANCE",
          "GENERAL PROCUREMENT/MARKETING SERVICES/MARKET MEASUREMENT",
          "GENERAL PROCUREMENT",
          "SUPPLY CHAIN",
          "TECHNICAL PROCUREMENT",
          "GENERAL PROCUREMENT",
          "GENERAL PROCUREMENT/IT - INFORMATION TECHNOLOGY/HARDWARE - PURCHASE/LEASING/MAINTENANCE",
          "GENERAL PROCUREMENT/IT - INFORMATION TECHNOLOGY/HARDWARE - PURCHASE/LEASING/MAINTENANCE",
          "SUPPLY CHAIN",
          "GENERAL PROCUREMENT",
          "GENERAL PROCUREMENT/IT - INFORMATION TECHNOLOGY/SERVICES - MANAGED SERVICE",
          "TECHNICAL PROCUREMENT/AUTOMATION & MRO",
          "GENERAL PROCUREMENT/SALES SERVICES",
          "GENERAL PROCUREMENT/SALES SERVICES/MERCHANDISING & HOSTESS & BROKER COMMISSIONS",
          "GENERAL PROCUREMENT/PROFESSIONAL SERVICES",
          "GENERAL PROCUREMENT/MARKETING SERVICES/PUBLIC RELATIONS",
          "TECHNICAL PROCUREMENT/PROCESS EQUIPMENT",
          "TECHNICAL PROCUREMENT/PROCESS EQUIPMENT/WAREHOUSE & LOGISTIC",
          "TECHNICAL PROCUREMENT/PROCESS EQUIPMENT/NUTS EQUIPMENT & AGRI MOBILE MACHINE",
          "SUPPLY CHAIN/PALLETTS PURCHASING",
          "TECHNICAL PROCUREMENT/INFRASTRUCTURE & INDUSTRIAL/LABORATORY EQUIPMENT AND SERVICES",
          "TECHNICAL PROCUREMENT/AUTOMATION & MRO/TECHNICAL MATERIALS, PPE & CLOTHES",
          "GENERAL PROCUREMENT/SALES SERVICES/POS MATERIAL",
          "GENERAL PROCUREMENT/SALES SERVICES",
          "TECHNICAL PROCUREMENT/AUTOMATION & MRO/TECHNICAL MATERIALS, PPE & CLOTHES",
          "GENERAL PROCUREMENT/SALES SERVICES/POS MATERIAL",
          "GENERAL PROCUREMENT/WORKPLACE SERVICES/MAINTENANCE & IMPROVEMENTS",
          "TECHNICAL PROCUREMENT/INFRASTRUCTURE & INDUSTRIAL/FACILITY MANAGEMENT HARDSERVICES FOR INDUSTRIAL LOCATIONS",
          "GENERAL PROCUREMENT/SALES SERVICES",
          "GENERAL PROCUREMENT/WORKPLACE SERVICES",
          "GENERAL PROCUREMENT/PEOPLE SERVICES",
          "TECHNICAL PROCUREMENT/AUTOMATION & MRO/TECHNICAL MATERIALS, PPE & CLOTHES",
          "GENERAL PROCUREMENT/SALES SERVICES/MARKETING EVENTS",
          "TECHNICAL PROCUREMENT/PROCESS EQUIPMENT",
          "GENERAL PROCUREMENT/WORKPLACE SERVICES",
          "GENERAL PROCUREMENT/WORKPLACE SERVICES",
          "TECHNICAL PROCUREMENT/AUTOMATION & MRO/TECHNICAL MATERIALS, PPE & CLOTHES",
          "GENERAL PROCUREMENT/IT - INFORMATION TECHNOLOGY",
          "GENERAL PROCUREMENT/IT - INFORMATION TECHNOLOGY",
          "TECHNICAL PROCUREMENT/PROCESS EQUIPMENT",
          "SUPPLY CHAIN/WAREHOUSING",
          "GENERAL PROCUREMENT/WORKPLACE SERVICES",
          "GENERAL PROCUREMENT/WORKPLACE SERVICES/UTILITIES",
          "TECHNICAL PROCUREMENT/AUTOMATION & MRO/MAINTENANCE SERVICES",
          "GENERAL PROCUREMENT/MOBILITY/TRAVEL",
          "GENERAL PROCUREMENT/PEOPLE SERVICES/EVENTS",
          "GENERAL PROCUREMENT/IT - INFORMATION TECHNOLOGY/SERVICES - T&M/BODY LEASING",
          "GENERAL PROCUREMENT/IT - INFORMATION TECHNOLOGY/SOFTWARE - SUBSCRIPTIONS/LICENSES",
          "GENERAL PROCUREMENT/PEOPLE SERVICES/EMPLOYEE SERVICES",
          "GENERAL PROCUREMENT/MARKETING SERVICES/MARKET MEASUREMENT",
          "GENERAL PROCUREMENT/WORKPLACE SERVICES/REAL ESTATE",
          "GENERAL PROCUREMENT/PEOPLE SERVICES/EMPLOYEE SERVICES",
          "GENERAL PROCUREMENT/WORKPLACE SERVICES/REAL ESTATE",
          "TECHNICAL PROCUREMENT/AUTOMATION & MRO/TECHNICAL MATERIALS, PPE & CLOTHES",
          "GENERAL PROCUREMENT/MOBILITY/FLEET",
          "GENERAL PROCUREMENT/PEOPLE SERVICES/RELOCATION",
          "GENERAL PROCUREMENT/MOBILITY/FLEET",
          "TECHNICAL PROCUREMENT/AUTOMATION & MRO/TECHNICAL MATERIALS, PPE & CLOTHES",
          "SUPPLY CHAIN/PALLETTS RENT & LEASE/PALLETTS RENT & LEASE SVC",
          "SUPPLY CHAIN/PRIMARY TRANSPORTS/OTHER LOGISTICS COSTS",
          "GENERAL PROCUREMENT/MOBILITY/FLEET",
          "GENERAL PROCUREMENT/MOBILITY/FLEET",
          "GENERAL PROCUREMENT/MARKETING SERVICES/CONSUMER RESEARCH (AD-HOC)",
          "GENERAL PROCUREMENT/MARKETING SERVICES/CONSUMER RESEARCH (AD-HOC)",
          "GENERAL PROCUREMENT/SALES SERVICES/OTHER SALES SERVICES",
          "GENERAL PROCUREMENT/SALES SERVICES/POS MATERIAL",
          "GENERAL PROCUREMENT/IT - INFORMATION TECHNOLOGY/SERVICES - T&M/BODY LEASING",
          "SUPPLY CHAIN/PRIMARY TRANSPORTS/ROAD TRANSPORT",
          "SUPPLY CHAIN/PRIMARY TRANSPORTS/ROAD TRANSPORT",
          "SUPPLY CHAIN/PRIMARY TRANSPORTS/ROAD TRANSPORT",
          "GENERAL PROCUREMENT/IT - INFORMATION TECHNOLOGY/SOFTWARE - SUBSCRIPTIONS/LICENSES",
          "SUPPLY CHAIN/PALLETTS RENT & LEASE/PALLETTS RENT & LEASE SVC",
          "TECHNICAL PROCUREMENT/INFRASTRUCTURE & INDUSTRIAL/INFRASTRUCTURE",
          "GENERAL PROCUREMENT/PROFESSIONAL SERVICES/INSURANCE SERVICES",
          "GENERAL PROCUREMENT/MARKETING SERVICES/PRODUCTION",
          "GENERAL PROCUREMENT/SALES SERVICES/POS MATERIAL",
          "TECHNICAL PROCUREMENT/AUTOMATION & MRO/TECHNICAL MATERIALS, PPE & CLOTHES",
          "GENERAL PROCUREMENT/PEOPLE SERVICES/EMPLOYEE SERVICES",
          "GENERAL PROCUREMENT/PROFESSIONAL SERVICES/ADMINISTRATIVE SERVICES",
          "GENERAL PROCUREMENT/SALES SERVICES/POS MATERIAL",
          "GENERAL PROCUREMENT/PROFESSIONAL SERVICES/ADMINISTRATIVE SERVICES",
          "GENERAL PROCUREMENT/MARKETING SERVICES/CREATIVE DESIGN",
          "GENERAL PROCUREMENT/MARKETING SERVICES/CREATIVE DESIGN",
          "TECHNICAL PROCUREMENT/AUTOMATION & MRO/TECHNICAL MATERIALS, PPE & CLOTHES",
          "GENERAL PROCUREMENT/MARKETING SERVICES/MARKET MEASUREMENT",
          "TECHNICAL PROCUREMENT/AUTOMATION & MRO/TECHNICAL MATERIALS, PPE & CLOTHES",
          "TECHNICAL PROCUREMENT/AUTOMATION & MRO/TECHNICAL MATERIALS, PPE & CLOTHES",
          "TECHNICAL PROCUREMENT/INFRASTRUCTURE & INDUSTRIAL/FACILITY MANAGEMENT SOFTSERVICES FOR INDUSTRIAL LOCATIONS",
          "TECHNICAL PROCUREMENT/AUTOMATION & MRO/TECHNICAL MATERIALS, PPE & CLOTHES",
          "SUPPLY CHAIN/WAREHOUSING/PICKING",
          "SUPPLY CHAIN/CUSTOM BROKERAGE & FORWARDING AGENCIES/FREIGHT FORWARDING AGENCIES",
          "TECHNICAL PROCUREMENT/INFRASTRUCTURE & INDUSTRIAL/INFRASTRUCTURE",
          "GENERAL PROCUREMENT/WORKPLACE SERVICES/SECURITY",
          "GENERAL PROCUREMENT/MARKETING SERVICES/PRODUCTION",
          "SUPPLY CHAIN/CUSTOM BROKERAGE & FORWARDING AGENCIES/FREIGHT FORWARDING AGENCIES",
          "GENERAL PROCUREMENT/WORKPLACE SERVICES/OFFICE SUPPLIES AND SERVICES",
          "GENERAL PROCUREMENT/WORKPLACE SERVICES/OFFICE SUPPLIES AND SERVICES",
          "GENERAL PROCUREMENT/WORKPLACE SERVICES/OFFICE SUPPLIES AND SERVICES",
          "SUPPLY CHAIN/CUSTOM BROKERAGE & FORWARDING AGENCIES/FREIGHT FORWARDING AGENCIES",
          "TECHNICAL PROCUREMENT/AUTOMATION & MRO/TECHNICAL MATERIALS, PPE & CLOTHES",
          "GENERAL PROCUREMENT/WORKPLACE SERVICES/OFFICE SUPPLIES AND SERVICES",
          "GENERAL PROCUREMENT/MARKETING SERVICES/PRODUCTION",
          "GENERAL PROCUREMENT/WORKPLACE SERVICES/CLEANING",
          "TECHNICAL PROCUREMENT/INFRASTRUCTURE & INDUSTRIAL/FACILITY MANAGEMENT SOFTSERVICES FOR INDUSTRIAL LOCATIONS",
          "TECHNICAL PROCUREMENT/ENERGY/ENERGY CERTIFICATES",
          "TECHNICAL PROCUREMENT/AUTOMATION & MRO/TECHNICAL MATERIALS, PPE & CLOTHES",
          "GENERAL PROCUREMENT/WORKPLACE SERVICES/CLEANING (LOCAL)",
          "GENERAL PROCUREMENT/ENERGY AND UTILITIES FOR OFFICES/UTILITIES FOR OFFICES (LOCAL)",
          "TECHNICAL PROCUREMENT/AUTOMATION & MRO/TECHNICAL MATERIALS, PPE & CLOTHES",
          "TECHNICAL PROCUREMENT/PROCESS EQUIPMENT/MOLDING & OVENS",
          "GENERAL PROCUREMENT/WORKPLACE SERVICES/MAINTENANCE & IMPROVEMENTS (LOCAL)",
          "TECHNICAL PROCUREMENT/PROCESS EQUIPMENT/MOLDING & OVENS",
          "GENERAL PROCUREMENT/WORKPLACE SERVICES/OFFICE SUPPLIES AND SERVICES (LOCAL)",
          "TECHNICAL PROCUREMENT/PROCESS EQUIPMENT/PREPARATION",
          "GENERAL PROCUREMENT/WORKPLACE SERVICES/SECURITY",
          "GENERAL PROCUREMENT/WORKPLACE SERVICES/OFFICE SUPPLIES AND SERVICES (LOCAL)",
          "TECHNICAL PROCUREMENT/PROCESS EQUIPMENT/NUTS EQUIPMENT & AGRI MOBILE MACHINE",
          "TECHNICAL PROCUREMENT/AUTOMATION & MRO/TECHNICAL MATERIALS, PPE & CLOTHES",
          "TECHNICAL PROCUREMENT/AUTOMATION & MRO/MAINTENANCE SERVICES",
          "GENERAL PROCUREMENT/WORKPLACE SERVICES/OFFICE SUPPLIES AND SERVICES (LOCAL)",
          "GENERAL PROCUREMENT/PEOPLE SERVICES/TRAINING (LOCAL)",
          "GENERAL PROCUREMENT/ENERGY AND UTILITIES FOR OFFICES/UTILITIES FOR OFFICES (LOCAL)",
          "GENERAL PROCUREMENT/ENERGY AND UTILITIES FOR OFFICES/UTILITIES FOR OFFICES (LOCAL)",
          "TECHNICAL PROCUREMENT/PROCESS EQUIPMENT/WAREHOUSE & LOGISTIC",
          "TECHNICAL PROCUREMENT/PROCESS EQUIPMENT/PREPARATION",
          "TECHNICAL PROCUREMENT/INFRASTRUCTURE & INDUSTRIAL/LABORATORY EQUIPMENT AND SERVICES",
          "TECHNICAL PROCUREMENT/INFRASTRUCTURE & INDUSTRIAL/LABORATORY EQUIPMENT AND SERVICES",
          "TECHNICAL PROCUREMENT/INFRASTRUCTURE & INDUSTRIAL/B&U PROFESSIONAL SERVICES",
          "GENERAL PROCUREMENT/PROFESSIONAL SERVICES/CONSULTANCY SERVICES",
          "TECHNICAL PROCUREMENT/PROCESS EQUIPMENT/PREPARATION",
          "GENERAL PROCUREMENT/PROFESSIONAL SERVICES/ADMINISTRATIVE SERVICES",
          "GENERAL PROCUREMENT/MOBILITY/TRAVEL",
          "TECHNICAL PROCUREMENT/PROCESS EQUIPMENT/SECONDARY PACKAGING",
          "GENERAL PROCUREMENT/WORKPLACE SERVICES/CLEANING (LOCAL)",
          "TECHNICAL PROCUREMENT/PROCESS EQUIPMENT/PRIMARY PACKAGING",
          "GENERAL PROCUREMENT/WORKPLACE SERVICES/FOOD SERVICES (LOCAL)",
          "TECHNICAL PROCUREMENT/PROCESS EQUIPMENT/WAREHOUSE & LOGISTIC",
          "GENERAL PROCUREMENT/SALES SERVICES/TECHNICAL DEVICES FOR POS",
          "GENERAL PROCUREMENT/PROFESSIONAL SERVICES/INSURANCE SERVICES",
          "TECHNICAL PROCUREMENT/AUTOMATION & MRO/TECHNICAL MATERIALS, PPE & CLOTHES",
          "GENERAL PROCUREMENT/SALES SERVICES/OTHER SALES SERVICES",
          "TECHNICAL PROCUREMENT/ENERGY/ENERGY CERTIFICATES",
          "TECHNICAL PROCUREMENT/AUTOMATION & MRO/TECHNICAL MATERIALS, PPE & CLOTHES",
          "SUPPLY CHAIN/PRIMARY TRANSPORTS/SEA TRANSPORT",
          "TECHNICAL PROCUREMENT/PROCESS EQUIPMENT/NUTS EQUIPMENT & AGRI MOBILE MACHINE",
          "TECHNICAL PROCUREMENT/INFRASTRUCTURE & INDUSTRIAL/INFRASTRUCTURE",
          "GENERAL PROCUREMENT/SALES SERVICES/TECHNICAL DEVICES FOR POS",
          "TECHNICAL PROCUREMENT/INFRASTRUCTURE & INDUSTRIAL/INFRASTRUCTURE",
          "GENERAL PROCUREMENT/MARKETING SERVICES/DIGITAL & SOCIAL MEDIA MARKETING",
          "TECHNICAL PROCUREMENT/AUTOMATION & MRO/TECHNICAL MATERIALS, PPE & CLOTHES",
          "TECHNICAL PROCUREMENT/AUTOMATION & MRO/TECHNICAL MATERIALS, PPE & CLOTHES",
          "TECHNICAL PROCUREMENT/AUTOMATION & MRO/TECHNICAL MATERIALS, PPE & CLOTHES",
          "TECHNICAL PROCUREMENT/AUTOMATION & MRO/TECHNICAL MATERIALS, PPE & CLOTHES",
          "GENERAL PROCUREMENT/PROFESSIONAL SERVICES/CERTIFICATIONS",
          "GENERAL PROCUREMENT/IT - INFORMATION TECHNOLOGY/HARDWARE - PURCHASE/LEASING/MAINTENANCE",
          "SUPPLY CHAIN/PALLETTS PURCHASING/PALLETTS PURCHASING MTL",
          "TECHNICAL PROCUREMENT/INFRASTRUCTURE & INDUSTRIAL/INFRASTRUCTURE",
          "GENERAL PROCUREMENT/IT - INFORMATION TECHNOLOGY/SOFTWARE - SUBSCRIPTIONS/LICENSES",
          "TECHNICAL PROCUREMENT/AUTOMATION & MRO/INDUSTRIAL AUTOMATION AND ROBOTICS",
          "TECHNICAL PROCUREMENT/AUTOMATION & MRO/TECHNICAL MATERIALS, PPE & CLOTHES",
          "GENERAL PROCUREMENT/MARKETING SERVICES/CREATIVE DESIGN",
          "GENERAL PROCUREMENT/MARKETING SERVICES/CREATIVE DESIGN",
          "GENERAL PROCUREMENT/MARKETING SERVICES/CREATIVE DESIGN",
          "TECHNICAL PROCUREMENT/PROCESS EQUIPMENT/PRIMARY PACKAGING",
          "TECHNICAL PROCUREMENT/INFRASTRUCTURE & INDUSTRIAL/FACILITY MANAGEMENT HARDSERVICES FOR INDUSTRIAL LOCATIONS",
          "TECHNICAL PROCUREMENT/AUTOMATION & MRO/TECHNICAL MATERIALS, PPE & CLOTHES"
         ],
         "type": "sunburst",
         "values": [
          14,
          93,
          3,
          87,
          109,
          360,
          59,
          418,
          1,
          11,
          4,
          2,
          20,
          115,
          74,
          25,
          22,
          18,
          75,
          288,
          130,
          56,
          45,
          17,
          99,
          1,
          18,
          40,
          3,
          8,
          9,
          5,
          1,
          24,
          7,
          165,
          123,
          59,
          19,
          11,
          51,
          1,
          71,
          3,
          21,
          48,
          73,
          1,
          18,
          49,
          6,
          66,
          7,
          12,
          25,
          4,
          55,
          70,
          1,
          47,
          35,
          3,
          21,
          37,
          10,
          193,
          3,
          7,
          1,
          46,
          17,
          12,
          63,
          21,
          46,
          411,
          4053,
          48,
          56,
          382,
          58,
          13,
          1518,
          1301,
          48,
          188,
          4,
          11,
          137,
          148,
          2,
          27,
          1,
          2,
          58,
          7,
          28,
          25,
          109,
          1290,
          209,
          893,
          9,
          73,
          54,
          2,
          52,
          111,
          6884,
          303,
          75,
          144,
          2321,
          8,
          1451,
          2192,
          73,
          117,
          225,
          139,
          52,
          33,
          33866,
          1,
          59,
          415,
          54,
          23,
          1439,
          14748,
          246,
          9292,
          15,
          145,
          13038,
          1,
          15,
          14,
          535,
          1,
          29,
          78,
          86,
          1901,
          6,
          7,
          59,
          25,
          1,
          14,
          2,
          3,
          4,
          2,
          81,
          8,
          4,
          37,
          60,
          88,
          3,
          14,
          21,
          2,
          8,
          3,
          5,
          3,
          1435,
          223,
          16,
          725,
          10975,
          328,
          237,
          1876,
          329,
          52,
          9,
          311,
          46,
          52,
          9,
          3,
          58,
          4,
          2,
          160,
          78,
          12,
          31,
          2524,
          726,
          11,
          27005,
          5,
          6,
          10,
          281,
          140,
          212,
          8,
          423,
          39,
          12,
          7,
          1,
          6,
          4,
          98,
          78,
          11,
          18,
          11,
          965,
          239,
          58,
          57,
          276,
          229,
          42,
          75,
          29,
          343,
          6,
          382,
          225,
          1,
          1559,
          6,
          382,
          44,
          64,
          11,
          2,
          42,
          11,
          51,
          1,
          18,
          177,
          81,
          170,
          36,
          6,
          27,
          46,
          1,
          26,
          13,
          37,
          11,
          612,
          13,
          204,
          118,
          730,
          213,
          13,
          7,
          27,
          15,
          127,
          5,
          68,
          14,
          109,
          3,
          69,
          11,
          15,
          19,
          9,
          82,
          29,
          53,
          31,
          2,
          18,
          17,
          4,
          16,
          44,
          29,
          61,
          2,
          4,
          2,
          45,
          79,
          8,
          59,
          12,
          95,
          461,
          47,
          1,
          8,
          61,
          5,
          18,
          12,
          1,
          14,
          76,
          96,
          60,
          48,
          303,
          16,
          37,
          345,
          5,
          904,
          512,
          85,
          3290,
          100,
          52,
          88,
          317,
          4,
          1,
          10,
          4,
          225,
          1,
          62,
          14,
          71,
          50,
          576,
          6,
          17,
          3,
          6,
          13,
          17,
          44,
          125,
          38,
          4,
          6,
          784,
          3,
          17,
          2,
          1,
          138,
          26,
          1914,
          57,
          66,
          223,
          2524,
          10,
          145,
          5,
          49,
          1395,
          3,
          117,
          1053,
          16,
          28,
          1,
          1,
          6,
          12,
          4039,
          87,
          4530,
          2740,
          2,
          3,
          71,
          10223,
          26,
          8932,
          146,
          148,
          128,
          14,
          1295,
          10,
          7,
          23,
          179,
          7,
          143,
          1571,
          59,
          482,
          75,
          10,
          87,
          14,
          50,
          21,
          59,
          173,
          212,
          3,
          310,
          3,
          6,
          340,
          13,
          191,
          8,
          224,
          214,
          202,
          6,
          3,
          65,
          84,
          134,
          139,
          6,
          4,
          7,
          38,
          9,
          5,
          1,
          2,
          339,
          161,
          79,
          53,
          48,
          241,
          4,
          12,
          4,
          28,
          1,
          1,
          4,
          1,
          237,
          6,
          400,
          61,
          2,
          164,
          42,
          7186,
          2041,
          14,
          6,
          10,
          24,
          109,
          44,
          8,
          1,
          12,
          8,
          109,
          5,
          110,
          213,
          24,
          2,
          1691,
          2035,
          57,
          1876,
          1648,
          4,
          42,
          7,
          3,
          49,
          16,
          4,
          80,
          9,
          150,
          109,
          7,
          96,
          9,
          100,
          1,
          10,
          2,
          2,
          41,
          14,
          115,
          232,
          19,
          9,
          31,
          4,
          16,
          14,
          10,
          4,
          23,
          32,
          9,
          1,
          33,
          9,
          3,
          25,
          32,
          4,
          2,
          9,
          270,
          286,
          25,
          79,
          7,
          715,
          26,
          26,
          1,
          616,
          1,
          27,
          20,
          375,
          737,
          433,
          74,
          465,
          2958
         ]
        }
       ],
       "layout": {
        "annotations": [
         {
          "font": {
           "size": 16
          },
          "showarrow": false,
          "text": "Train Data",
          "x": 0.225,
          "xanchor": "center",
          "xref": "paper",
          "y": 1,
          "yanchor": "bottom",
          "yref": "paper"
         },
         {
          "font": {
           "size": 16
          },
          "showarrow": false,
          "text": "Test Data",
          "x": 0.775,
          "xanchor": "center",
          "xref": "paper",
          "y": 1,
          "yanchor": "bottom",
          "yref": "paper"
         }
        ],
        "height": 800,
        "template": {
         "data": {
          "bar": [
           {
            "error_x": {
             "color": "#2a3f5f"
            },
            "error_y": {
             "color": "#2a3f5f"
            },
            "marker": {
             "line": {
              "color": "#E5ECF6",
              "width": 0.5
             },
             "pattern": {
              "fillmode": "overlay",
              "size": 10,
              "solidity": 0.2
             }
            },
            "type": "bar"
           }
          ],
          "barpolar": [
           {
            "marker": {
             "line": {
              "color": "#E5ECF6",
              "width": 0.5
             },
             "pattern": {
              "fillmode": "overlay",
              "size": 10,
              "solidity": 0.2
             }
            },
            "type": "barpolar"
           }
          ],
          "carpet": [
           {
            "aaxis": {
             "endlinecolor": "#2a3f5f",
             "gridcolor": "white",
             "linecolor": "white",
             "minorgridcolor": "white",
             "startlinecolor": "#2a3f5f"
            },
            "baxis": {
             "endlinecolor": "#2a3f5f",
             "gridcolor": "white",
             "linecolor": "white",
             "minorgridcolor": "white",
             "startlinecolor": "#2a3f5f"
            },
            "type": "carpet"
           }
          ],
          "choropleth": [
           {
            "colorbar": {
             "outlinewidth": 0,
             "ticks": ""
            },
            "type": "choropleth"
           }
          ],
          "contour": [
           {
            "colorbar": {
             "outlinewidth": 0,
             "ticks": ""
            },
            "colorscale": [
             [
              0,
              "#0d0887"
             ],
             [
              0.1111111111111111,
              "#46039f"
             ],
             [
              0.2222222222222222,
              "#7201a8"
             ],
             [
              0.3333333333333333,
              "#9c179e"
             ],
             [
              0.4444444444444444,
              "#bd3786"
             ],
             [
              0.5555555555555556,
              "#d8576b"
             ],
             [
              0.6666666666666666,
              "#ed7953"
             ],
             [
              0.7777777777777778,
              "#fb9f3a"
             ],
             [
              0.8888888888888888,
              "#fdca26"
             ],
             [
              1,
              "#f0f921"
             ]
            ],
            "type": "contour"
           }
          ],
          "contourcarpet": [
           {
            "colorbar": {
             "outlinewidth": 0,
             "ticks": ""
            },
            "type": "contourcarpet"
           }
          ],
          "heatmap": [
           {
            "colorbar": {
             "outlinewidth": 0,
             "ticks": ""
            },
            "colorscale": [
             [
              0,
              "#0d0887"
             ],
             [
              0.1111111111111111,
              "#46039f"
             ],
             [
              0.2222222222222222,
              "#7201a8"
             ],
             [
              0.3333333333333333,
              "#9c179e"
             ],
             [
              0.4444444444444444,
              "#bd3786"
             ],
             [
              0.5555555555555556,
              "#d8576b"
             ],
             [
              0.6666666666666666,
              "#ed7953"
             ],
             [
              0.7777777777777778,
              "#fb9f3a"
             ],
             [
              0.8888888888888888,
              "#fdca26"
             ],
             [
              1,
              "#f0f921"
             ]
            ],
            "type": "heatmap"
           }
          ],
          "heatmapgl": [
           {
            "colorbar": {
             "outlinewidth": 0,
             "ticks": ""
            },
            "colorscale": [
             [
              0,
              "#0d0887"
             ],
             [
              0.1111111111111111,
              "#46039f"
             ],
             [
              0.2222222222222222,
              "#7201a8"
             ],
             [
              0.3333333333333333,
              "#9c179e"
             ],
             [
              0.4444444444444444,
              "#bd3786"
             ],
             [
              0.5555555555555556,
              "#d8576b"
             ],
             [
              0.6666666666666666,
              "#ed7953"
             ],
             [
              0.7777777777777778,
              "#fb9f3a"
             ],
             [
              0.8888888888888888,
              "#fdca26"
             ],
             [
              1,
              "#f0f921"
             ]
            ],
            "type": "heatmapgl"
           }
          ],
          "histogram": [
           {
            "marker": {
             "pattern": {
              "fillmode": "overlay",
              "size": 10,
              "solidity": 0.2
             }
            },
            "type": "histogram"
           }
          ],
          "histogram2d": [
           {
            "colorbar": {
             "outlinewidth": 0,
             "ticks": ""
            },
            "colorscale": [
             [
              0,
              "#0d0887"
             ],
             [
              0.1111111111111111,
              "#46039f"
             ],
             [
              0.2222222222222222,
              "#7201a8"
             ],
             [
              0.3333333333333333,
              "#9c179e"
             ],
             [
              0.4444444444444444,
              "#bd3786"
             ],
             [
              0.5555555555555556,
              "#d8576b"
             ],
             [
              0.6666666666666666,
              "#ed7953"
             ],
             [
              0.7777777777777778,
              "#fb9f3a"
             ],
             [
              0.8888888888888888,
              "#fdca26"
             ],
             [
              1,
              "#f0f921"
             ]
            ],
            "type": "histogram2d"
           }
          ],
          "histogram2dcontour": [
           {
            "colorbar": {
             "outlinewidth": 0,
             "ticks": ""
            },
            "colorscale": [
             [
              0,
              "#0d0887"
             ],
             [
              0.1111111111111111,
              "#46039f"
             ],
             [
              0.2222222222222222,
              "#7201a8"
             ],
             [
              0.3333333333333333,
              "#9c179e"
             ],
             [
              0.4444444444444444,
              "#bd3786"
             ],
             [
              0.5555555555555556,
              "#d8576b"
             ],
             [
              0.6666666666666666,
              "#ed7953"
             ],
             [
              0.7777777777777778,
              "#fb9f3a"
             ],
             [
              0.8888888888888888,
              "#fdca26"
             ],
             [
              1,
              "#f0f921"
             ]
            ],
            "type": "histogram2dcontour"
           }
          ],
          "mesh3d": [
           {
            "colorbar": {
             "outlinewidth": 0,
             "ticks": ""
            },
            "type": "mesh3d"
           }
          ],
          "parcoords": [
           {
            "line": {
             "colorbar": {
              "outlinewidth": 0,
              "ticks": ""
             }
            },
            "type": "parcoords"
           }
          ],
          "pie": [
           {
            "automargin": true,
            "type": "pie"
           }
          ],
          "scatter": [
           {
            "fillpattern": {
             "fillmode": "overlay",
             "size": 10,
             "solidity": 0.2
            },
            "type": "scatter"
           }
          ],
          "scatter3d": [
           {
            "line": {
             "colorbar": {
              "outlinewidth": 0,
              "ticks": ""
             }
            },
            "marker": {
             "colorbar": {
              "outlinewidth": 0,
              "ticks": ""
             }
            },
            "type": "scatter3d"
           }
          ],
          "scattercarpet": [
           {
            "marker": {
             "colorbar": {
              "outlinewidth": 0,
              "ticks": ""
             }
            },
            "type": "scattercarpet"
           }
          ],
          "scattergeo": [
           {
            "marker": {
             "colorbar": {
              "outlinewidth": 0,
              "ticks": ""
             }
            },
            "type": "scattergeo"
           }
          ],
          "scattergl": [
           {
            "marker": {
             "colorbar": {
              "outlinewidth": 0,
              "ticks": ""
             }
            },
            "type": "scattergl"
           }
          ],
          "scattermapbox": [
           {
            "marker": {
             "colorbar": {
              "outlinewidth": 0,
              "ticks": ""
             }
            },
            "type": "scattermapbox"
           }
          ],
          "scatterpolar": [
           {
            "marker": {
             "colorbar": {
              "outlinewidth": 0,
              "ticks": ""
             }
            },
            "type": "scatterpolar"
           }
          ],
          "scatterpolargl": [
           {
            "marker": {
             "colorbar": {
              "outlinewidth": 0,
              "ticks": ""
             }
            },
            "type": "scatterpolargl"
           }
          ],
          "scatterternary": [
           {
            "marker": {
             "colorbar": {
              "outlinewidth": 0,
              "ticks": ""
             }
            },
            "type": "scatterternary"
           }
          ],
          "surface": [
           {
            "colorbar": {
             "outlinewidth": 0,
             "ticks": ""
            },
            "colorscale": [
             [
              0,
              "#0d0887"
             ],
             [
              0.1111111111111111,
              "#46039f"
             ],
             [
              0.2222222222222222,
              "#7201a8"
             ],
             [
              0.3333333333333333,
              "#9c179e"
             ],
             [
              0.4444444444444444,
              "#bd3786"
             ],
             [
              0.5555555555555556,
              "#d8576b"
             ],
             [
              0.6666666666666666,
              "#ed7953"
             ],
             [
              0.7777777777777778,
              "#fb9f3a"
             ],
             [
              0.8888888888888888,
              "#fdca26"
             ],
             [
              1,
              "#f0f921"
             ]
            ],
            "type": "surface"
           }
          ],
          "table": [
           {
            "cells": {
             "fill": {
              "color": "#EBF0F8"
             },
             "line": {
              "color": "white"
             }
            },
            "header": {
             "fill": {
              "color": "#C8D4E3"
             },
             "line": {
              "color": "white"
             }
            },
            "type": "table"
           }
          ]
         },
         "layout": {
          "annotationdefaults": {
           "arrowcolor": "#2a3f5f",
           "arrowhead": 0,
           "arrowwidth": 1
          },
          "autotypenumbers": "strict",
          "coloraxis": {
           "colorbar": {
            "outlinewidth": 0,
            "ticks": ""
           }
          },
          "colorscale": {
           "diverging": [
            [
             0,
             "#8e0152"
            ],
            [
             0.1,
             "#c51b7d"
            ],
            [
             0.2,
             "#de77ae"
            ],
            [
             0.3,
             "#f1b6da"
            ],
            [
             0.4,
             "#fde0ef"
            ],
            [
             0.5,
             "#f7f7f7"
            ],
            [
             0.6,
             "#e6f5d0"
            ],
            [
             0.7,
             "#b8e186"
            ],
            [
             0.8,
             "#7fbc41"
            ],
            [
             0.9,
             "#4d9221"
            ],
            [
             1,
             "#276419"
            ]
           ],
           "sequential": [
            [
             0,
             "#0d0887"
            ],
            [
             0.1111111111111111,
             "#46039f"
            ],
            [
             0.2222222222222222,
             "#7201a8"
            ],
            [
             0.3333333333333333,
             "#9c179e"
            ],
            [
             0.4444444444444444,
             "#bd3786"
            ],
            [
             0.5555555555555556,
             "#d8576b"
            ],
            [
             0.6666666666666666,
             "#ed7953"
            ],
            [
             0.7777777777777778,
             "#fb9f3a"
            ],
            [
             0.8888888888888888,
             "#fdca26"
            ],
            [
             1,
             "#f0f921"
            ]
           ],
           "sequentialminus": [
            [
             0,
             "#0d0887"
            ],
            [
             0.1111111111111111,
             "#46039f"
            ],
            [
             0.2222222222222222,
             "#7201a8"
            ],
            [
             0.3333333333333333,
             "#9c179e"
            ],
            [
             0.4444444444444444,
             "#bd3786"
            ],
            [
             0.5555555555555556,
             "#d8576b"
            ],
            [
             0.6666666666666666,
             "#ed7953"
            ],
            [
             0.7777777777777778,
             "#fb9f3a"
            ],
            [
             0.8888888888888888,
             "#fdca26"
            ],
            [
             1,
             "#f0f921"
            ]
           ]
          },
          "colorway": [
           "#636efa",
           "#EF553B",
           "#00cc96",
           "#ab63fa",
           "#FFA15A",
           "#19d3f3",
           "#FF6692",
           "#B6E880",
           "#FF97FF",
           "#FECB52"
          ],
          "font": {
           "color": "#2a3f5f"
          },
          "geo": {
           "bgcolor": "white",
           "lakecolor": "white",
           "landcolor": "#E5ECF6",
           "showlakes": true,
           "showland": true,
           "subunitcolor": "white"
          },
          "hoverlabel": {
           "align": "left"
          },
          "hovermode": "closest",
          "mapbox": {
           "style": "light"
          },
          "paper_bgcolor": "white",
          "plot_bgcolor": "#E5ECF6",
          "polar": {
           "angularaxis": {
            "gridcolor": "white",
            "linecolor": "white",
            "ticks": ""
           },
           "bgcolor": "#E5ECF6",
           "radialaxis": {
            "gridcolor": "white",
            "linecolor": "white",
            "ticks": ""
           }
          },
          "scene": {
           "xaxis": {
            "backgroundcolor": "#E5ECF6",
            "gridcolor": "white",
            "gridwidth": 2,
            "linecolor": "white",
            "showbackground": true,
            "ticks": "",
            "zerolinecolor": "white"
           },
           "yaxis": {
            "backgroundcolor": "#E5ECF6",
            "gridcolor": "white",
            "gridwidth": 2,
            "linecolor": "white",
            "showbackground": true,
            "ticks": "",
            "zerolinecolor": "white"
           },
           "zaxis": {
            "backgroundcolor": "#E5ECF6",
            "gridcolor": "white",
            "gridwidth": 2,
            "linecolor": "white",
            "showbackground": true,
            "ticks": "",
            "zerolinecolor": "white"
           }
          },
          "shapedefaults": {
           "line": {
            "color": "#2a3f5f"
           }
          },
          "ternary": {
           "aaxis": {
            "gridcolor": "white",
            "linecolor": "white",
            "ticks": ""
           },
           "baxis": {
            "gridcolor": "white",
            "linecolor": "white",
            "ticks": ""
           },
           "bgcolor": "#E5ECF6",
           "caxis": {
            "gridcolor": "white",
            "linecolor": "white",
            "ticks": ""
           }
          },
          "title": {
           "x": 0.05
          },
          "xaxis": {
           "automargin": true,
           "gridcolor": "white",
           "linecolor": "white",
           "ticks": "",
           "title": {
            "standoff": 15
           },
           "zerolinecolor": "white",
           "zerolinewidth": 2
          },
          "yaxis": {
           "automargin": true,
           "gridcolor": "white",
           "linecolor": "white",
           "ticks": "",
           "title": {
            "standoff": 15
           },
           "zerolinecolor": "white",
           "zerolinewidth": 2
          }
         }
        },
        "title": {
         "text": "Spending Categories Hierarchy (Train vs Test) by Number of Purchase Orders",
         "x": 0.5
        },
        "width": 1600
       }
      }
     },
     "metadata": {},
     "output_type": "display_data"
    }
   ],
   "source": [
    "df_train_sunburst = df_train[[\n",
    "    \"puor_ds_level1_new\",\n",
    "    \"puor_ds_level2_new\",\n",
    "    \"puor_ds_level3_new\",\n",
    "    \"puor_ds_level4_new\"\n",
    "]].dropna()\n",
    "\n",
    "df_test_sunburst = df_test[[\n",
    "    \"puor_ds_level1_new\",\n",
    "    \"puor_ds_level2_new\",\n",
    "    \"puor_ds_level3_new\",\n",
    "    \"puor_ds_level4_new\"\n",
    "]].dropna()\n",
    "\n",
    "# Create individual sunburst figures\n",
    "fig_train = px.sunburst(\n",
    "    df_train_sunburst,\n",
    "    path=[\n",
    "        \"puor_ds_level1_new\",\n",
    "        \"puor_ds_level2_new\",\n",
    "        \"puor_ds_level3_new\",\n",
    "    \"puor_ds_level4_new\"\n",
    "    ],\n",
    "    title=\"Sunburst Chart of Spending Category Hierarchy (TRAIN)\",\n",
    "    color=\"puor_ds_level1_new\",\n",
    "    color_discrete_map=color_map\n",
    ")\n",
    "\n",
    "fig_test = px.sunburst(\n",
    "    df_test_sunburst,\n",
    "    path=[\n",
    "        \"puor_ds_level1_new\",\n",
    "        \"puor_ds_level2_new\",\n",
    "        \"puor_ds_level3_new\",\n",
    "    \"puor_ds_level4_new\"\n",
    "    ],\n",
    "    title=\"Sunburst Chart of Spending Category Hierarchy (TEST)\",\n",
    "    color=\"puor_ds_level1_new\",\n",
    "    color_discrete_map=color_map\n",
    ")\n",
    "\n",
    "# Create a side-by-side subplot\n",
    "fig = make_subplots(\n",
    "    rows=1, cols=2,\n",
    "    specs=[[{'type':'domain'}, {'type':'domain'}]],\n",
    "    subplot_titles=(\"Train Data\", \"Test Data\")\n",
    ")\n",
    "\n",
    "# Add sunbursts to subplot\n",
    "fig.add_trace(fig_train.data[0], row=1, col=1)\n",
    "fig.add_trace(fig_test.data[0], row=1, col=2)\n",
    "\n",
    "fig.update_layout(\n",
    "    width=1600, height=800,\n",
    "    title_text=\"Spending Categories Hierarchy (Train vs Test) by Number of Purchase Orders\",\n",
    "    title_x=0.5\n",
    ")\n",
    "\n",
    "fig.show()\n"
   ]
  },
  {
   "cell_type": "markdown",
   "id": "1a58e015",
   "metadata": {},
   "source": [
    "# Data Viz 2\n",
    "\n",
    "World Cloud: Which words are most determinant to predict a category"
   ]
  },
  {
   "cell_type": "code",
   "execution_count": 5,
   "id": "cd2ed9dc",
   "metadata": {},
   "outputs": [],
   "source": [
    "# Masking sensitive words\n",
    "path = r'C:\\Users\\riccardoricci\\Documents\\data_MADS_CAPSTONE\\masking_sens_words.json'\n",
    "\n",
    "with open(path, 'r', encoding='utf-8') as file:\n",
    "    sensitive_replacements = json.load(file)"
   ]
  },
  {
   "cell_type": "code",
   "execution_count": 6,
   "id": "8c0f3737",
   "metadata": {},
   "outputs": [
    {
     "data": {
      "image/png": "[encoded data removed]",
      "text/plain": [
       "<Figure size 1152x648 with 1 Axes>"
      ]
     },
     "metadata": {
      "needs_background": "light"
     },
     "output_type": "display_data"
    }
   ],
   "source": [
    "# Convert stringified lists to actual lists\n",
    "df_train['puor_ds_po_description_translated_token_sklearn_stem'] = df_train['puor_ds_po_description_translated_token_sklearn_stem'].apply(ast.literal_eval)\n",
    "\n",
    "# Explode tokens -> from an array to rows and count the occurrence\n",
    "df_exploded = df_train.explode('puor_ds_po_description_translated_token_sklearn_stem')\n",
    "df_exploded = df_exploded[df_exploded['puor_ds_po_description_translated_token_sklearn_stem'].notnull()]\n",
    "df_exploded = df_exploded[df_exploded['puor_ds_po_description_translated_token_sklearn_stem'] != '']\n",
    "\n",
    "# Group by token and category\n",
    "grouped = (\n",
    "    df_exploded.groupby(['puor_ds_po_description_translated_token_sklearn_stem', 'puor_ds_level1_new'])\n",
    "    .agg(order_count=('puor_id_order_line', 'count'))\n",
    "    .reset_index()\n",
    ")\n",
    "\n",
    "\n",
    "grouped['puor_ds_po_description_translated_token_sklearn_stem'] = grouped[\n",
    "    'puor_ds_po_description_translated_token_sklearn_stem'\n",
    "].replace(sensitive_replacements)\n",
    "\n",
    "\n",
    "\n",
    "# Assign random colors per category\n",
    "categories = grouped['puor_ds_level1_new'].unique()\n",
    "grouped['color'] = grouped['puor_ds_level1_new'].map(color_map)\n",
    "#category_colors = {cat: f\"#{random.randint(0, 0xFFFFFF):06x}\" for cat in categories}\n",
    "#grouped['color'] = grouped['puor_ds_level1_new'].map(category_colors)\n",
    "\n",
    "# Build dictionaries for word frequency and color\n",
    "word_freq = dict(zip(grouped['puor_ds_po_description_translated_token_sklearn_stem'], grouped['order_count']))\n",
    "word_colors = dict(zip(grouped['puor_ds_po_description_translated_token_sklearn_stem'], grouped['color']))\n",
    "\n",
    "# Color function\n",
    "def get_color_func(word_to_color):\n",
    "    def color_func(word, *args, **kwargs):\n",
    "        return word_to_color.get(word, \"#000000\")\n",
    "    return color_func\n",
    "\n",
    "# Generate and show word cloud\n",
    "wc = WordCloud(width=1000, height=600, background_color='white').generate_from_frequencies(word_freq)\n",
    "wc.recolor(color_func=get_color_func(word_colors))\n",
    "\n",
    "plt.figure(figsize=(16, 9))\n",
    "plt.imshow(wc, interpolation='bilinear')\n",
    "plt.axis('off')\n",
    "plt.title(\"Word Cloud by Order Volume and Category\", fontsize=18, pad=20)\n",
    "\n",
    "legend_patches = [mpatches.Patch(color=color, label=cat) for cat, color in color_map.items()]\n",
    "plt.legend(handles=legend_patches, title=\"Categories\", loc='lower right', fontsize=12, title_fontsize=13)\n",
    "\n",
    "plt.show()"
   ]
  },
  {
   "cell_type": "markdown",
   "id": "6bc8c89a",
   "metadata": {},
   "source": [
    "# Data Viz 3\n",
    "\n",
    "Showing ambiguity in predictions"
   ]
  },
  {
   "cell_type": "code",
   "execution_count": 8,
   "id": "f0debe4e",
   "metadata": {},
   "outputs": [
    {
     "data": {
      "image/png": "[encoded data removed]",
      "text/plain": [
       "<Figure size 1440x360 with 4 Axes>"
      ]
     },
     "metadata": {
      "needs_background": "light"
     },
     "output_type": "display_data"
    }
   ],
   "source": [
    "df = df_train.copy().sample(100000)\n",
    "\n",
    "\n",
    "# Function to compute ambiguity scores for any category level\n",
    "def get_ambiguity_scores(df, category_column):\n",
    "    subset = df[[\n",
    "        \"puor_id_lfa1_supplier\",\n",
    "        \"puor_id_t001_company\",\n",
    "        \"puor_id_prgp_purchasing_group\",\n",
    "        \"puor_id_pror_purchasing_org\",\n",
    "        category_column\n",
    "    ]].copy()\n",
    "\n",
    "    subset[\"group_key\"] = subset[[\n",
    "        \"puor_id_lfa1_supplier\", \n",
    "        \"puor_id_t001_company\", \n",
    "        \"puor_id_prgp_purchasing_group\", \n",
    "        \"puor_id_pror_purchasing_org\"\n",
    "    ]].apply(lambda row: tuple(row), axis=1)\n",
    "\n",
    "    dummies = pd.get_dummies(subset[category_column])\n",
    "    counts_by_group = dummies.groupby(subset[\"group_key\"]).sum()\n",
    "    subset = subset.merge(counts_by_group, left_on=\"group_key\", right_index=True, how=\"left\")\n",
    "\n",
    "    def compute_score(row):\n",
    "        total = row[counts_by_group.columns].sum()\n",
    "        max_count = row[counts_by_group.columns].max()\n",
    "        return 1 - (max_count / total) if total > 0 else 0\n",
    "\n",
    "    subset[\"ambiguity_score\"] = subset.apply(compute_score, axis=1)\n",
    "    return subset[\"ambiguity_score\"]\n",
    "\n",
    "# Get ambiguity scores for all levels\n",
    "ambiguity_scores = {\n",
    "    \"Level 1\": get_ambiguity_scores(df, \"puor_ds_level1_new\"),\n",
    "    \"Level 2\": get_ambiguity_scores(df, \"puor_ds_level2_new\"),\n",
    "    \"Level 3\": get_ambiguity_scores(df, \"puor_ds_level3_new\"),\n",
    "    \"Level 4\": get_ambiguity_scores(df, \"puor_ds_level4_new\")\n",
    "}\n",
    "\n",
    "# Filter scores > 0.1 (i.e., the ambiguous ones)\n",
    "# filtered_ambiguity_scores = {k: v[v >= 0] for k, v in ambiguity_scores.items()}\n",
    "\n",
    "# Determine max y-axis value\n",
    "all_filtered = pd.concat(ambiguity_scores.values())\n",
    "hist_values, bin_edges = pd.cut(all_filtered, bins=20, retbins=True)\n",
    "level1_scores = ambiguity_scores[\"Level 1\"]\n",
    "zero_scores_level1 = level1_scores[level1_scores == 0]\n",
    "y_max = zero_scores_level1.value_counts().max()\n",
    "\n",
    "# Create 2x2 subplot\n",
    "fig, axes = plt.subplots(1, 4, figsize=(20, 5))\n",
    "axes = axes.flatten()\n",
    "\n",
    "for idx, (title, scores) in enumerate(ambiguity_scores.items()):\n",
    "    axes[idx].hist(scores, bins=20, color=\"purple\", edgecolor=\"black\")\n",
    "    axes[idx].set_title(f\"Spending Category Level {idx+1}\")\n",
    "    axes[idx].set_xlabel(\"Ambiguity Score\")\n",
    "    axes[idx].set_ylabel(\"Number of Purchase Orders\")\n",
    "    axes[idx].set_ylim(0, y_max+20000)\n",
    "    axes[idx].set_xlim(0, 1)    \n",
    "    axes[idx].grid(axis=\"y\")\n",
    "\n",
    "plt.tight_layout()\n",
    "plt.show()\n"
   ]
  }
 ],
 "metadata": {
  "kernelspec": {
   "display_name": "Python 3",
   "language": "python",
   "name": "python3"
  },
  "language_info": {
   "codemirror_mode": {
    "name": "ipython",
    "version": 3
   },
   "file_extension": ".py",
   "mimetype": "text/x-python",
   "name": "python",
   "nbconvert_exporter": "python",
   "pygments_lexer": "ipython3",
   "version": "3.9.12"
  }
 },
 "nbformat": 4,
 "nbformat_minor": 5
}
